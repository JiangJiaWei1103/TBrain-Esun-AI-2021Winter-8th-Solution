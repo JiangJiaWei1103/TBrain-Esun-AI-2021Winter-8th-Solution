{
 "cells": [
  {
   "cell_type": "markdown",
   "id": "macro-sweden",
   "metadata": {},
   "source": [
    "# Ensemble \n",
    "This notebook is used to verify the effectiveness of some **ensemble** techniques, such as blending, stacking, etc. After the core code snippet is verified, the complete process will be written into script file."
   ]
  },
  {
   "cell_type": "code",
   "execution_count": null,
   "id": "functioning-stone",
   "metadata": {},
   "outputs": [],
   "source": [
    "import os\n",
    "import pickle\n",
    "from functools import partial\n",
    "\n",
    "import pandas as pd \n",
    "import wandb\n",
    "from bayes_opt import BayesianOptimization\n",
    "\n",
    "from metadata import *\n",
    "\n",
    "from utils.common import rank_mcls_naive\n",
    "from utils.evaluator import EvaluatorRank"
   ]
  },
  {
   "cell_type": "code",
   "execution_count": null,
   "id": "located-springer",
   "metadata": {},
   "outputs": [],
   "source": [
    "# Init Wandb run entry\n",
    "ens = wandb.init(project='Esun',\n",
    "                 job_type='ensemble')"
   ]
  },
  {
   "cell_type": "code",
   "execution_count": 9,
   "id": "amber-infrastructure",
   "metadata": {
    "collapsed": true,
    "jupyter": {
     "outputs_hidden": true,
     "source_hidden": true
    }
   },
   "outputs": [
    {
     "name": "stderr",
     "output_type": "stream",
     "text": [
      "\u001b[34m\u001b[1mwandb\u001b[0m: Downloading large artifact lgbm_infer:v66, 80.11MB. 1 files... Done. 0:0:0\n"
     ]
    }
   ],
   "source": [
    "# Shortcut for accessing submission file of the specified version \n",
    "# output = ens.use_artifact(f'lgbm_infer:v66', type='output')\n",
    "# output_dir = output.download()\n",
    "# with open(os.path.join(output_dir, 'pred_results', 'dt25.pkl'), 'rb') as f:\n",
    "#     oof_pred = pickle.load(f)\n",
    "# oof_pred['y_pred'].to_csv(\"./submission.csv\", index=False)"
   ]
  },
  {
   "cell_type": "markdown",
   "id": "wired-grocery",
   "metadata": {},
   "source": [
    "## *Blending*\n",
    "Blending uses weighted sum of the predicting probability distributions from different base models, trying to boost the performance by considering each base model's merit.\n",
    "<div class=\"alert alert-block alert-danger\">\n",
    "    <p>Implementation in cells below provides me with a playground to quickly see how blending performs. Upon obtaining a satisfactory validation score, formal blending is run using script <code>blend.py</code> to obtain the blended results for submission or next-level ensemble (<i>e.g.</i>, stacking).</p>\n",
    "</div>\n",
    "\n",
    "### **Blending Candidates**\n",
    "|                 |      |      |      |      |     |     |     |\n",
    "| --------------- | ---- | ---- | ---- | ---- | --- | --- | --- |\n",
    "| Trained Type    | lgbm | lgmb | lgbm |  | xgb | xgb | xgb |\n",
    "| Trained Version | 11 | 12 | 16 |  | 3 | 4 | 8 |\n",
    "| NDCG@3 (dt24)   | 0.72674 | 0.72626 | 0.72726 |  | 0.72670 | 0.72655 | 0.72755 |\n",
    "\n",
    "### 1. Naive Blending "
   ]
  },
  {
   "cell_type": "code",
   "execution_count": 2,
   "id": "meaningful-sister",
   "metadata": {},
   "outputs": [],
   "source": [
    "def naive_blend(ens, trained_types, trained_versions):\n",
    "    '''Blend predicting results from multiple base models by summing\n",
    "    them with equal weights.\n",
    "    \n",
    "    Parameter:\n",
    "        ens: obj, wandb run object\n",
    "        trained_types: list, meta-model type\n",
    "        trained_versions: list, meta-model version\n",
    "    \n",
    "    Return:\n",
    "        pk:\n",
    "        y_true:\n",
    "        oof_pred_blended:\n",
    "    '''\n",
    "    pk, y_true = None, None \n",
    "    oof_pred_blended = None\n",
    "    for t, (i, v) in zip(trained_types, enumerate(trained_versions)):\n",
    "        output = ens.use_artifact(f'{t}:v{v}', type='output')\n",
    "        output_dir = output.download()\n",
    "        with open(os.path.join(output_dir, 'pred_reports/24.pkl'), 'rb') as f:\n",
    "            oof_pred = pickle.load(f)\n",
    "        if i == 0:\n",
    "            oof_pred_blended = oof_pred['y_pred'] / len(trained_versions)\n",
    "            pk = oof_pred['index']\n",
    "            y_true = oof_pred['y_true']\n",
    "        else: oof_pred_blended += oof_pred['y_pred'] / len(trained_versions)\n",
    "        del output, oof_pred\n",
    "    return pk, y_true, oof_pred_blended"
   ]
  },
  {
   "cell_type": "code",
   "execution_count": 10,
   "id": "serial-scanning",
   "metadata": {},
   "outputs": [],
   "source": [
    "# Specify versions to blend\n",
    "blend_candidates = [\n",
    "    (['lgbm_meta', 'lgbm_meta', 'xgb_meta', 'xgb_meta'], [11, 12, 3, 4]),\n",
    "    (['lgbm_meta', 'xgb_meta', 'xgb_meta'], [11, 3, 4]),\n",
    "    (['lgbm_meta', 'xgb_meta', 'xgb_meta'], [12, 3, 4]),\n",
    "    (['lgbm_meta', 'xgb_meta'], [11, 3]),\n",
    "    (['lgbm_meta', 'xgb_meta'], [11, 4]),\n",
    "    (['lgbm_meta', 'xgb_meta'], [12, 3]),\n",
    "    (['lgbm_meta', 'xgb_meta'], [12, 4]),\n",
    "    (['lgbm_meta', 'lgbm_meta'], [11, 12]),\n",
    "    (['xgb_meta', 'xgb_meta'], [3, 4]),\n",
    "    #------------------------------------#\n",
    "    (['lgbm_meta', 'xgb_meta'], [16, 8]),\n",
    "]"
   ]
  },
  {
   "cell_type": "code",
   "execution_count": 5,
   "id": "smooth-flashing",
   "metadata": {
    "collapsed": true,
    "jupyter": {
     "outputs_hidden": true
    }
   },
   "outputs": [
    {
     "name": "stderr",
     "output_type": "stream",
     "text": [
      "\u001b[34m\u001b[1mwandb\u001b[0m: Downloading large artifact lgbm_meta:v11, 546.02MB. 7 files... Done. 0:0:0\n",
      "\u001b[34m\u001b[1mwandb\u001b[0m: Downloading large artifact lgbm_meta:v12, 557.04MB. 7 files... Done. 0:0:0\n",
      "\u001b[34m\u001b[1mwandb\u001b[0m: Downloading large artifact xgb_meta:v3, 756.43MB. 7 files... Done. 0:0:0\n",
      "\u001b[34m\u001b[1mwandb\u001b[0m: Downloading large artifact xgb_meta:v4, 765.65MB. 7 files... Done. 0:0:0\n",
      "100%|██████████| 500000/500000 [00:17<00:00, 28160.67it/s]\n"
     ]
    },
    {
     "name": "stdout",
     "output_type": "stream",
     "text": [
      "['lgbm_meta', 'lgbm_meta', 'xgb_meta', 'xgb_meta'] | [11, 12, 3, 4]\n",
      "NDCG@3 with blending: {'NDCG@3': 0.7270940318282572}!!\n"
     ]
    },
    {
     "name": "stderr",
     "output_type": "stream",
     "text": [
      "\u001b[34m\u001b[1mwandb\u001b[0m: Downloading large artifact lgbm_meta:v11, 546.02MB. 7 files... Done. 0:0:0\n",
      "\u001b[34m\u001b[1mwandb\u001b[0m: Downloading large artifact xgb_meta:v3, 756.43MB. 7 files... Done. 0:0:0\n",
      "\u001b[34m\u001b[1mwandb\u001b[0m: Downloading large artifact xgb_meta:v4, 765.65MB. 7 files... Done. 0:0:0\n",
      "100%|██████████| 500000/500000 [00:17<00:00, 27981.29it/s]\n"
     ]
    },
    {
     "name": "stdout",
     "output_type": "stream",
     "text": [
      "['lgbm_meta', 'xgb_meta', 'xgb_meta'] | [11, 3, 4]\n",
      "NDCG@3 with blending: {'NDCG@3': 0.727134276681944}!!\n"
     ]
    },
    {
     "name": "stderr",
     "output_type": "stream",
     "text": [
      "\u001b[34m\u001b[1mwandb\u001b[0m: Downloading large artifact lgbm_meta:v12, 557.04MB. 7 files... Done. 0:0:0\n",
      "\u001b[34m\u001b[1mwandb\u001b[0m: Downloading large artifact xgb_meta:v3, 756.43MB. 7 files... Done. 0:0:0\n",
      "\u001b[34m\u001b[1mwandb\u001b[0m: Downloading large artifact xgb_meta:v4, 765.65MB. 7 files... Done. 0:0:0\n",
      "100%|██████████| 500000/500000 [00:18<00:00, 27370.62it/s]\n"
     ]
    },
    {
     "name": "stdout",
     "output_type": "stream",
     "text": [
      "['lgbm_meta', 'xgb_meta', 'xgb_meta'] | [12, 3, 4]\n",
      "NDCG@3 with blending: {'NDCG@3': 0.7269738273910767}!!\n"
     ]
    },
    {
     "name": "stderr",
     "output_type": "stream",
     "text": [
      "\u001b[34m\u001b[1mwandb\u001b[0m: Downloading large artifact lgbm_meta:v11, 546.02MB. 7 files... Done. 0:0:0\n",
      "\u001b[34m\u001b[1mwandb\u001b[0m: Downloading large artifact xgb_meta:v3, 756.43MB. 7 files... Done. 0:0:0\n",
      "100%|██████████| 500000/500000 [00:05<00:00, 90022.12it/s]\n"
     ]
    },
    {
     "name": "stdout",
     "output_type": "stream",
     "text": [
      "['lgbm_meta', 'xgb_meta'] | [11, 3]\n",
      "NDCG@3 with blending: {'NDCG@3': 0.7268479061749619}!!\n"
     ]
    },
    {
     "name": "stderr",
     "output_type": "stream",
     "text": [
      "\u001b[34m\u001b[1mwandb\u001b[0m: Downloading large artifact lgbm_meta:v11, 546.02MB. 7 files... Done. 0:0:0\n",
      "\u001b[34m\u001b[1mwandb\u001b[0m: Downloading large artifact xgb_meta:v4, 765.65MB. 7 files... Done. 0:0:0\n",
      "100%|██████████| 500000/500000 [00:08<00:00, 61967.50it/s]\n"
     ]
    },
    {
     "name": "stdout",
     "output_type": "stream",
     "text": [
      "['lgbm_meta', 'xgb_meta'] | [11, 4]\n",
      "NDCG@3 with blending: {'NDCG@3': 0.7271515148561939}!!\n"
     ]
    },
    {
     "name": "stderr",
     "output_type": "stream",
     "text": [
      "\u001b[34m\u001b[1mwandb\u001b[0m: Downloading large artifact lgbm_meta:v12, 557.04MB. 7 files... Done. 0:0:0\n",
      "\u001b[34m\u001b[1mwandb\u001b[0m: Downloading large artifact xgb_meta:v3, 756.43MB. 7 files... Done. 0:0:0\n",
      "100%|██████████| 500000/500000 [00:08<00:00, 61888.40it/s]\n"
     ]
    },
    {
     "name": "stdout",
     "output_type": "stream",
     "text": [
      "['lgbm_meta', 'xgb_meta'] | [12, 3]\n",
      "NDCG@3 with blending: {'NDCG@3': 0.7269858660793649}!!\n"
     ]
    },
    {
     "name": "stderr",
     "output_type": "stream",
     "text": [
      "\u001b[34m\u001b[1mwandb\u001b[0m: Downloading large artifact lgbm_meta:v12, 557.04MB. 7 files... Done. 0:0:0\n",
      "\u001b[34m\u001b[1mwandb\u001b[0m: Downloading large artifact xgb_meta:v4, 765.65MB. 7 files... Done. 0:0:0\n",
      "100%|██████████| 500000/500000 [00:08<00:00, 62030.33it/s]\n"
     ]
    },
    {
     "name": "stdout",
     "output_type": "stream",
     "text": [
      "['lgbm_meta', 'xgb_meta'] | [12, 4]\n",
      "NDCG@3 with blending: {'NDCG@3': 0.7265462135286991}!!\n"
     ]
    },
    {
     "name": "stderr",
     "output_type": "stream",
     "text": [
      "\u001b[34m\u001b[1mwandb\u001b[0m: Downloading large artifact lgbm_meta:v11, 546.02MB. 7 files... Done. 0:0:0\n",
      "\u001b[34m\u001b[1mwandb\u001b[0m: Downloading large artifact lgbm_meta:v12, 557.04MB. 7 files... Done. 0:0:0\n",
      "100%|██████████| 500000/500000 [00:08<00:00, 59887.31it/s]\n"
     ]
    },
    {
     "name": "stdout",
     "output_type": "stream",
     "text": [
      "['lgbm_meta', 'lgbm_meta'] | [11, 12]\n",
      "NDCG@3 with blending: {'NDCG@3': 0.7269332014177545}!!\n"
     ]
    },
    {
     "name": "stderr",
     "output_type": "stream",
     "text": [
      "\u001b[34m\u001b[1mwandb\u001b[0m: Downloading large artifact xgb_meta:v3, 756.43MB. 7 files... Done. 0:0:0\n",
      "\u001b[34m\u001b[1mwandb\u001b[0m: Downloading large artifact xgb_meta:v4, 765.65MB. 7 files... Done. 0:0:0\n",
      "100%|██████████| 500000/500000 [00:08<00:00, 62081.52it/s]\n"
     ]
    },
    {
     "name": "stdout",
     "output_type": "stream",
     "text": [
      "['xgb_meta', 'xgb_meta'] | [3, 4]\n",
      "NDCG@3 with blending: {'NDCG@3': 0.7270662148600788}!!\n"
     ]
    }
   ],
   "source": [
    "# Run naive blending with equal weights\n",
    "for trained_types, trained_versions in blend_candidates:\n",
    "    pk, y_true, oof_pred_blended = naive_blend(ens, trained_types, trained_versions)\n",
    "    oof_rank_blended = rank_mcls_naive(pk, oof_pred_blended)\n",
    "    evaluator = EvaluatorRank(\"./data/raw/raw_data.parquet\", t_next=24)\n",
    "    ndcg = evaluator.evaluate(oof_rank_blended)\n",
    "    print(f\"{trained_types} | {trained_versions}\")\n",
    "    print(f\"NDCG@3 with blending: {ndcg}!!\")\n",
    "    del pk, y_true, oof_pred_blended, oof_rank_blended, evaluator"
   ]
  },
  {
   "cell_type": "code",
   "execution_count": 8,
   "id": "dated-ivory",
   "metadata": {},
   "outputs": [
    {
     "name": "stderr",
     "output_type": "stream",
     "text": [
      "\u001b[34m\u001b[1mwandb\u001b[0m: Downloading large artifact lgbm_meta:v16, 557.89MB. 7 files... Done. 0:0:0\n",
      "\u001b[34m\u001b[1mwandb\u001b[0m: Downloading large artifact xgb_meta:v8, 768.16MB. 7 files... Done. 0:0:0\n",
      "100%|██████████| 500000/500000 [00:08<00:00, 61933.84it/s]\n"
     ]
    },
    {
     "name": "stdout",
     "output_type": "stream",
     "text": [
      "['lgbm_meta', 'xgb_meta'] | [16, 8]\n",
      "NDCG@3 with blending: {'NDCG@3': 0.7275279599889455}!!\n"
     ]
    }
   ],
   "source": [
    "# Run naive blending with equal weights\n",
    "for trained_types, trained_versions in blend_candidates[-1:]:\n",
    "    pk, y_true, oof_pred_blended = naive_blend(ens, trained_types, trained_versions)\n",
    "    oof_rank_blended = rank_mcls_naive(pk, oof_pred_blended)\n",
    "    evaluator = EvaluatorRank(\"./data/raw/raw_data.parquet\", t_next=24)\n",
    "    ndcg = evaluator.evaluate(oof_rank_blended)\n",
    "    print(f\"{trained_types} | {trained_versions}\")\n",
    "    print(f\"NDCG@3 with blending: {ndcg}!!\")\n",
    "    del pk, y_true, oof_pred_blended, oof_rank_blended, evaluator"
   ]
  },
  {
   "cell_type": "markdown",
   "id": "extended-racing",
   "metadata": {},
   "source": [
    "### 2. Bayesian Opt\n",
    "Instead of blending predicting results with equal weights, **bayesian optimization** is a technique helping us find a better set of blending weight (*i.e.*, coefficient)."
   ]
  },
  {
   "cell_type": "code",
   "execution_count": 3,
   "id": "unlikely-keyboard",
   "metadata": {},
   "outputs": [],
   "source": [
    "def ndcg_fn(ens, trained_types, trained_versions, **coefs):\n",
    "    '''Return NDCG@3 of the blended model given blending weights.\n",
    "    \n",
    "    Parameters:\n",
    "        ens: obj, wandb run object\n",
    "        trained_types: list, meta-model type\n",
    "        trained_versions: list, meta-model version\n",
    "        coefs: dict, coefficient of each base model considered in \n",
    "               blending\n",
    "    \n",
    "    Return:\n",
    "        ndcg_blended: float, NDCG@3 of the blended model \n",
    "    '''\n",
    "    pk = None\n",
    "    oof_pred_blended = None\n",
    "    for i, (_, coef) in enumerate(coefs.items()):\n",
    "        tr_type, tr_ver = trained_types[i], trained_versions[i]\n",
    "        tr_ver = int(\"\".join([c for c in tr_ver if c.isdigit()]))\n",
    "        output = ens.use_artifact(f'{tr_type}:v{tr_ver}', type='output')\n",
    "        output_dir = output.download()\n",
    "        with open(os.path.join(output_dir, 'pred_reports/24.pkl'), 'rb') as f:\n",
    "            oof_pred = pickle.load(f)\n",
    "        if i == 0:\n",
    "            oof_pred_blended = oof_pred['y_pred'] * coef\n",
    "            pk = oof_pred['index']\n",
    "        else: oof_pred_blended += oof_pred['y_pred'] * coef\n",
    "        del output, oof_pred\n",
    "    oof_rank_blended = rank_mcls_naive(pk, oof_pred_blended)\n",
    "    evaluator = EvaluatorRank(\"./data/raw/raw_data.parquet\", t_next=24)\n",
    "    ndcg = evaluator.evaluate(oof_rank_blended)['NDCG@3']\n",
    "    \n",
    "    return ndcg"
   ]
  },
  {
   "cell_type": "markdown",
   "id": "measured-adapter",
   "metadata": {},
   "source": [
    "#### a. Illegal-Focused"
   ]
  },
  {
   "cell_type": "code",
   "execution_count": 4,
   "id": "beginning-calibration",
   "metadata": {},
   "outputs": [],
   "source": [
    "# Configure base models to put in bayesian opt blending \n",
    "trained_types = ['lgbm' for  _  in range(11)]\n",
    "trained_versions = [str(v) for v in range(173, 184)]\n",
    "coefs = {v: (0, 1) for v in trained_versions}"
   ]
  },
  {
   "cell_type": "code",
   "execution_count": 5,
   "id": "enclosed-basics",
   "metadata": {
    "collapsed": true,
    "jupyter": {
     "outputs_hidden": true
    }
   },
   "outputs": [
    {
     "name": "stdout",
     "output_type": "stream",
     "text": [
      "|   iter    |  target   |    173    |    174    |    175    |    176    |    177    |    178    |    179    |    180    |    181    |    182    |    183    |\n",
      "-------------------------------------------------------------------------------------------------------------------------------------------------------------\n"
     ]
    },
    {
     "name": "stderr",
     "output_type": "stream",
     "text": [
      "\u001b[34m\u001b[1mwandb\u001b[0m: Downloading large artifact lgbm:v173, 207.28MB. 3 files... Done. 0:0:0\n",
      "\u001b[34m\u001b[1mwandb\u001b[0m: Downloading large artifact lgbm:v174, 207.34MB. 3 files... Done. 0:0:0\n",
      "\u001b[34m\u001b[1mwandb\u001b[0m: Downloading large artifact lgbm:v175, 270.75MB. 3 files... Done. 0:0:0\n",
      "\u001b[34m\u001b[1mwandb\u001b[0m: Downloading large artifact lgbm:v176, 206.91MB. 3 files... Done. 0:0:0\n",
      "\u001b[34m\u001b[1mwandb\u001b[0m: Downloading large artifact lgbm:v177, 270.71MB. 3 files... Done. 0:0:0\n",
      "\u001b[34m\u001b[1mwandb\u001b[0m: Downloading large artifact lgbm:v178, 213.93MB. 3 files... Done. 0:0:0\n",
      "\u001b[34m\u001b[1mwandb\u001b[0m: Downloading large artifact lgbm:v179, 268.22MB. 3 files... Done. 0:0:0\n",
      "\u001b[34m\u001b[1mwandb\u001b[0m: Downloading large artifact lgbm:v180, 233.63MB. 3 files... Done. 0:0:0\n",
      "\u001b[34m\u001b[1mwandb\u001b[0m: Downloading large artifact lgbm:v181, 229.75MB. 3 files... Done. 0:0:0\n",
      "\u001b[34m\u001b[1mwandb\u001b[0m: Downloading large artifact lgbm:v182, 233.66MB. 3 files... Done. 0:0:0\n",
      "\u001b[34m\u001b[1mwandb\u001b[0m: Downloading large artifact lgbm:v183, 242.98MB. 3 files... Done. 0:0:0\n",
      "100%|██████████| 500000/500000 [00:07<00:00, 67779.71it/s]\n"
     ]
    },
    {
     "name": "stdout",
     "output_type": "stream",
     "text": [
      "| \u001b[0m 1       \u001b[0m | \u001b[0m 0.6989  \u001b[0m | \u001b[0m 0.5978  \u001b[0m | \u001b[0m 0.5208  \u001b[0m | \u001b[0m 0.2468  \u001b[0m | \u001b[0m 0.3375  \u001b[0m | \u001b[0m 0.8464  \u001b[0m | \u001b[0m 0.6514  \u001b[0m | \u001b[0m 0.7334  \u001b[0m | \u001b[0m 0.5118  \u001b[0m | \u001b[0m 0.9043  \u001b[0m | \u001b[0m 0.9863  \u001b[0m | \u001b[0m 0.7798  \u001b[0m |\n"
     ]
    },
    {
     "name": "stderr",
     "output_type": "stream",
     "text": [
      "\u001b[34m\u001b[1mwandb\u001b[0m: Downloading large artifact lgbm:v173, 207.28MB. 3 files... Done. 0:0:0\n",
      "\u001b[34m\u001b[1mwandb\u001b[0m: Downloading large artifact lgbm:v174, 207.34MB. 3 files... Done. 0:0:0\n",
      "\u001b[34m\u001b[1mwandb\u001b[0m: Downloading large artifact lgbm:v175, 270.75MB. 3 files... Done. 0:0:0\n",
      "\u001b[34m\u001b[1mwandb\u001b[0m: Downloading large artifact lgbm:v176, 206.91MB. 3 files... Done. 0:0:0\n",
      "\u001b[34m\u001b[1mwandb\u001b[0m: Downloading large artifact lgbm:v177, 270.71MB. 3 files... Done. 0:0:0\n",
      "\u001b[34m\u001b[1mwandb\u001b[0m: Downloading large artifact lgbm:v178, 213.93MB. 3 files... Done. 0:0:0\n",
      "\u001b[34m\u001b[1mwandb\u001b[0m: Downloading large artifact lgbm:v179, 268.22MB. 3 files... Done. 0:0:0\n",
      "\u001b[34m\u001b[1mwandb\u001b[0m: Downloading large artifact lgbm:v180, 233.63MB. 3 files... Done. 0:0:0\n",
      "\u001b[34m\u001b[1mwandb\u001b[0m: Downloading large artifact lgbm:v181, 229.75MB. 3 files... Done. 0:0:0\n",
      "\u001b[34m\u001b[1mwandb\u001b[0m: Downloading large artifact lgbm:v182, 233.66MB. 3 files... Done. 0:0:0\n",
      "\u001b[34m\u001b[1mwandb\u001b[0m: Downloading large artifact lgbm:v183, 242.98MB. 3 files... Done. 0:0:0\n",
      "100%|██████████| 500000/500000 [00:07<00:00, 67500.72it/s]\n"
     ]
    },
    {
     "name": "stdout",
     "output_type": "stream",
     "text": [
      "| \u001b[0m 2       \u001b[0m | \u001b[0m 0.6988  \u001b[0m | \u001b[0m 0.9185  \u001b[0m | \u001b[0m 0.4017  \u001b[0m | \u001b[0m 0.7521  \u001b[0m | \u001b[0m 0.5576  \u001b[0m | \u001b[0m 0.4627  \u001b[0m | \u001b[0m 0.9447  \u001b[0m | \u001b[0m 0.9432  \u001b[0m | \u001b[0m 0.7974  \u001b[0m | \u001b[0m 0.4409  \u001b[0m | \u001b[0m 0.2203  \u001b[0m | \u001b[0m 0.3619  \u001b[0m |\n"
     ]
    },
    {
     "name": "stderr",
     "output_type": "stream",
     "text": [
      "\u001b[34m\u001b[1mwandb\u001b[0m: Downloading large artifact lgbm:v173, 207.28MB. 3 files... Done. 0:0:0\n",
      "\u001b[34m\u001b[1mwandb\u001b[0m: Downloading large artifact lgbm:v174, 207.34MB. 3 files... Done. 0:0:0\n",
      "\u001b[34m\u001b[1mwandb\u001b[0m: Downloading large artifact lgbm:v175, 270.75MB. 3 files... Done. 0:0:0\n",
      "\u001b[34m\u001b[1mwandb\u001b[0m: Downloading large artifact lgbm:v176, 206.91MB. 3 files... Done. 0:0:0\n",
      "\u001b[34m\u001b[1mwandb\u001b[0m: Downloading large artifact lgbm:v177, 270.71MB. 3 files... Done. 0:0:0\n",
      "\u001b[34m\u001b[1mwandb\u001b[0m: Downloading large artifact lgbm:v178, 213.93MB. 3 files... Done. 0:0:0\n",
      "\u001b[34m\u001b[1mwandb\u001b[0m: Downloading large artifact lgbm:v179, 268.22MB. 3 files... Done. 0:0:0\n",
      "\u001b[34m\u001b[1mwandb\u001b[0m: Downloading large artifact lgbm:v180, 233.63MB. 3 files... Done. 0:0:0\n",
      "\u001b[34m\u001b[1mwandb\u001b[0m: Downloading large artifact lgbm:v181, 229.75MB. 3 files... Done. 0:0:0\n",
      "\u001b[34m\u001b[1mwandb\u001b[0m: Downloading large artifact lgbm:v182, 233.66MB. 3 files... Done. 0:0:0\n",
      "\u001b[34m\u001b[1mwandb\u001b[0m: Downloading large artifact lgbm:v183, 242.98MB. 3 files... Done. 0:0:0\n",
      "100%|██████████| 500000/500000 [00:07<00:00, 67660.90it/s]\n"
     ]
    },
    {
     "name": "stdout",
     "output_type": "stream",
     "text": [
      "| \u001b[0m 3       \u001b[0m | \u001b[0m 0.6989  \u001b[0m | \u001b[0m 0.4555  \u001b[0m | \u001b[0m 0.1673  \u001b[0m | \u001b[0m 0.9239  \u001b[0m | \u001b[0m 0.244   \u001b[0m | \u001b[0m 0.8409  \u001b[0m | \u001b[0m 0.1674  \u001b[0m | \u001b[0m 0.6746  \u001b[0m | \u001b[0m 0.325   \u001b[0m | \u001b[0m 0.4892  \u001b[0m | \u001b[0m 0.2329  \u001b[0m | \u001b[0m 0.5012  \u001b[0m |\n"
     ]
    },
    {
     "name": "stderr",
     "output_type": "stream",
     "text": [
      "\u001b[34m\u001b[1mwandb\u001b[0m: Downloading large artifact lgbm:v173, 207.28MB. 3 files... Done. 0:0:0\n",
      "\u001b[34m\u001b[1mwandb\u001b[0m: Downloading large artifact lgbm:v174, 207.34MB. 3 files... Done. 0:0:0\n",
      "\u001b[34m\u001b[1mwandb\u001b[0m: Downloading large artifact lgbm:v175, 270.75MB. 3 files... Done. 0:0:0\n",
      "\u001b[34m\u001b[1mwandb\u001b[0m: Downloading large artifact lgbm:v176, 206.91MB. 3 files... Done. 0:0:0\n",
      "\u001b[34m\u001b[1mwandb\u001b[0m: Downloading large artifact lgbm:v177, 270.71MB. 3 files... Done. 0:0:0\n",
      "\u001b[34m\u001b[1mwandb\u001b[0m: Downloading large artifact lgbm:v178, 213.93MB. 3 files... Done. 0:0:0\n",
      "\u001b[34m\u001b[1mwandb\u001b[0m: Downloading large artifact lgbm:v179, 268.22MB. 3 files... Done. 0:0:0\n",
      "\u001b[34m\u001b[1mwandb\u001b[0m: Downloading large artifact lgbm:v180, 233.63MB. 3 files... Done. 0:0:0\n",
      "\u001b[34m\u001b[1mwandb\u001b[0m: Downloading large artifact lgbm:v181, 229.75MB. 3 files... Done. 0:0:0\n",
      "\u001b[34m\u001b[1mwandb\u001b[0m: Downloading large artifact lgbm:v182, 233.66MB. 3 files... Done. 0:0:0\n",
      "\u001b[34m\u001b[1mwandb\u001b[0m: Downloading large artifact lgbm:v183, 242.98MB. 3 files... Done. 0:0:0\n",
      "100%|██████████| 500000/500000 [00:07<00:00, 68656.49it/s]\n"
     ]
    },
    {
     "name": "stdout",
     "output_type": "stream",
     "text": [
      "| \u001b[95m 4       \u001b[0m | \u001b[95m 0.699   \u001b[0m | \u001b[95m 0.01919 \u001b[0m | \u001b[95m 0.03896 \u001b[0m | \u001b[95m 0.1381  \u001b[0m | \u001b[95m 0.4617  \u001b[0m | \u001b[95m 0.3814  \u001b[0m | \u001b[95m 0.6398  \u001b[0m | \u001b[95m 0.4138  \u001b[0m | \u001b[95m 0.3661  \u001b[0m | \u001b[95m 0.67    \u001b[0m | \u001b[95m 0.2658  \u001b[0m | \u001b[95m 0.8521  \u001b[0m |\n"
     ]
    },
    {
     "name": "stderr",
     "output_type": "stream",
     "text": [
      "\u001b[34m\u001b[1mwandb\u001b[0m: Downloading large artifact lgbm:v173, 207.28MB. 3 files... Done. 0:0:0\n",
      "\u001b[34m\u001b[1mwandb\u001b[0m: Downloading large artifact lgbm:v174, 207.34MB. 3 files... Done. 0:0:0\n",
      "\u001b[34m\u001b[1mwandb\u001b[0m: Downloading large artifact lgbm:v175, 270.75MB. 3 files... Done. 0:0:0\n",
      "\u001b[34m\u001b[1mwandb\u001b[0m: Downloading large artifact lgbm:v176, 206.91MB. 3 files... Done. 0:0:0\n",
      "\u001b[34m\u001b[1mwandb\u001b[0m: Downloading large artifact lgbm:v177, 270.71MB. 3 files... Done. 0:0:0\n",
      "\u001b[34m\u001b[1mwandb\u001b[0m: Downloading large artifact lgbm:v178, 213.93MB. 3 files... Done. 0:0:0\n",
      "\u001b[34m\u001b[1mwandb\u001b[0m: Downloading large artifact lgbm:v179, 268.22MB. 3 files... Done. 0:0:0\n",
      "\u001b[34m\u001b[1mwandb\u001b[0m: Downloading large artifact lgbm:v180, 233.63MB. 3 files... Done. 0:0:0\n",
      "\u001b[34m\u001b[1mwandb\u001b[0m: Downloading large artifact lgbm:v181, 229.75MB. 3 files... Done. 0:0:0\n",
      "\u001b[34m\u001b[1mwandb\u001b[0m: Downloading large artifact lgbm:v182, 233.66MB. 3 files... Done. 0:0:0\n",
      "\u001b[34m\u001b[1mwandb\u001b[0m: Downloading large artifact lgbm:v183, 242.98MB. 3 files... Done. 0:0:0\n",
      "100%|██████████| 500000/500000 [00:07<00:00, 69932.68it/s]\n"
     ]
    },
    {
     "name": "stdout",
     "output_type": "stream",
     "text": [
      "| \u001b[0m 5       \u001b[0m | \u001b[0m 0.6989  \u001b[0m | \u001b[0m 0.413   \u001b[0m | \u001b[0m 0.9411  \u001b[0m | \u001b[0m 0.5105  \u001b[0m | \u001b[0m 0.003587\u001b[0m | \u001b[0m 0.838   \u001b[0m | \u001b[0m 0.5936  \u001b[0m | \u001b[0m 0.005173\u001b[0m | \u001b[0m 0.2993  \u001b[0m | \u001b[0m 0.7476  \u001b[0m | \u001b[0m 0.4129  \u001b[0m | \u001b[0m 0.2649  \u001b[0m |\n"
     ]
    },
    {
     "name": "stderr",
     "output_type": "stream",
     "text": [
      "\u001b[34m\u001b[1mwandb\u001b[0m: Downloading large artifact lgbm:v173, 207.28MB. 3 files... Done. 0:0:0\n",
      "\u001b[34m\u001b[1mwandb\u001b[0m: Downloading large artifact lgbm:v174, 207.34MB. 3 files... Done. 0:0:0\n",
      "\u001b[34m\u001b[1mwandb\u001b[0m: Downloading large artifact lgbm:v175, 270.75MB. 3 files... Done. 0:0:0\n",
      "\u001b[34m\u001b[1mwandb\u001b[0m: Downloading large artifact lgbm:v176, 206.91MB. 3 files... Done. 0:0:0\n",
      "\u001b[34m\u001b[1mwandb\u001b[0m: Downloading large artifact lgbm:v177, 270.71MB. 3 files... Done. 0:0:0\n",
      "\u001b[34m\u001b[1mwandb\u001b[0m: Downloading large artifact lgbm:v178, 213.93MB. 3 files... Done. 0:0:0\n",
      "\u001b[34m\u001b[1mwandb\u001b[0m: Downloading large artifact lgbm:v179, 268.22MB. 3 files... Done. 0:0:0\n",
      "\u001b[34m\u001b[1mwandb\u001b[0m: Downloading large artifact lgbm:v180, 233.63MB. 3 files... Done. 0:0:0\n",
      "\u001b[34m\u001b[1mwandb\u001b[0m: Downloading large artifact lgbm:v181, 229.75MB. 3 files... Done. 0:0:0\n",
      "\u001b[34m\u001b[1mwandb\u001b[0m: Downloading large artifact lgbm:v182, 233.66MB. 3 files... Done. 0:0:0\n",
      "\u001b[34m\u001b[1mwandb\u001b[0m: Downloading large artifact lgbm:v183, 242.98MB. 3 files... Done. 0:0:0\n",
      "100%|██████████| 500000/500000 [00:07<00:00, 69362.57it/s]\n"
     ]
    },
    {
     "name": "stdout",
     "output_type": "stream",
     "text": [
      "| \u001b[0m 6       \u001b[0m | \u001b[0m 0.6988  \u001b[0m | \u001b[0m 0.6301  \u001b[0m | \u001b[0m 0.2973  \u001b[0m | \u001b[0m 0.7689  \u001b[0m | \u001b[0m 0.09091 \u001b[0m | \u001b[0m 0.8419  \u001b[0m | \u001b[0m 0.5369  \u001b[0m | \u001b[0m 0.02255 \u001b[0m | \u001b[0m 0.5696  \u001b[0m | \u001b[0m 0.83    \u001b[0m | \u001b[0m 0.7301  \u001b[0m | \u001b[0m 0.5372  \u001b[0m |\n"
     ]
    },
    {
     "name": "stderr",
     "output_type": "stream",
     "text": [
      "\u001b[34m\u001b[1mwandb\u001b[0m: Downloading large artifact lgbm:v173, 207.28MB. 3 files... Done. 0:0:0\n",
      "\u001b[34m\u001b[1mwandb\u001b[0m: Downloading large artifact lgbm:v174, 207.34MB. 3 files... Done. 0:0:0\n",
      "\u001b[34m\u001b[1mwandb\u001b[0m: Downloading large artifact lgbm:v175, 270.75MB. 3 files... Done. 0:0:0\n",
      "\u001b[34m\u001b[1mwandb\u001b[0m: Downloading large artifact lgbm:v176, 206.91MB. 3 files... Done. 0:0:0\n",
      "\u001b[34m\u001b[1mwandb\u001b[0m: Downloading large artifact lgbm:v177, 270.71MB. 3 files... Done. 0:0:0\n",
      "\u001b[34m\u001b[1mwandb\u001b[0m: Downloading large artifact lgbm:v178, 213.93MB. 3 files... Done. 0:0:0\n",
      "\u001b[34m\u001b[1mwandb\u001b[0m: Downloading large artifact lgbm:v179, 268.22MB. 3 files... Done. 0:0:0\n",
      "\u001b[34m\u001b[1mwandb\u001b[0m: Downloading large artifact lgbm:v180, 233.63MB. 3 files... Done. 0:0:0\n",
      "\u001b[34m\u001b[1mwandb\u001b[0m: Downloading large artifact lgbm:v181, 229.75MB. 3 files... Done. 0:0:0\n",
      "\u001b[34m\u001b[1mwandb\u001b[0m: Downloading large artifact lgbm:v182, 233.66MB. 3 files... Done. 0:0:0\n",
      "\u001b[34m\u001b[1mwandb\u001b[0m: Downloading large artifact lgbm:v183, 242.98MB. 3 files... Done. 0:0:0\n",
      "100%|██████████| 500000/500000 [00:07<00:00, 66755.71it/s]\n"
     ]
    },
    {
     "name": "stdout",
     "output_type": "stream",
     "text": [
      "| \u001b[0m 7       \u001b[0m | \u001b[0m 0.6989  \u001b[0m | \u001b[0m 0.08297 \u001b[0m | \u001b[0m 0.1687  \u001b[0m | \u001b[0m 0.4057  \u001b[0m | \u001b[0m 0.2     \u001b[0m | \u001b[0m 0.5959  \u001b[0m | \u001b[0m 0.1321  \u001b[0m | \u001b[0m 0.06001 \u001b[0m | \u001b[0m 0.1133  \u001b[0m | \u001b[0m 0.5399  \u001b[0m | \u001b[0m 0.7575  \u001b[0m | \u001b[0m 0.981   \u001b[0m |\n"
     ]
    },
    {
     "name": "stderr",
     "output_type": "stream",
     "text": [
      "\u001b[34m\u001b[1mwandb\u001b[0m: Downloading large artifact lgbm:v173, 207.28MB. 3 files... Done. 0:0:0\n",
      "\u001b[34m\u001b[1mwandb\u001b[0m: Downloading large artifact lgbm:v174, 207.34MB. 3 files... Done. 0:0:0\n",
      "\u001b[34m\u001b[1mwandb\u001b[0m: Downloading large artifact lgbm:v175, 270.75MB. 3 files... Done. 0:0:0\n",
      "\u001b[34m\u001b[1mwandb\u001b[0m: Downloading large artifact lgbm:v176, 206.91MB. 3 files... Done. 0:0:0\n",
      "\u001b[34m\u001b[1mwandb\u001b[0m: Downloading large artifact lgbm:v177, 270.71MB. 3 files... Done. 0:0:0\n",
      "\u001b[34m\u001b[1mwandb\u001b[0m: Downloading large artifact lgbm:v178, 213.93MB. 3 files... Done. 0:0:0\n",
      "\u001b[34m\u001b[1mwandb\u001b[0m: Downloading large artifact lgbm:v179, 268.22MB. 3 files... Done. 0:0:0\n",
      "\u001b[34m\u001b[1mwandb\u001b[0m: Downloading large artifact lgbm:v180, 233.63MB. 3 files... Done. 0:0:0\n",
      "\u001b[34m\u001b[1mwandb\u001b[0m: Downloading large artifact lgbm:v181, 229.75MB. 3 files... Done. 0:0:0\n",
      "\u001b[34m\u001b[1mwandb\u001b[0m: Downloading large artifact lgbm:v182, 233.66MB. 3 files... Done. 0:0:0\n",
      "\u001b[34m\u001b[1mwandb\u001b[0m: Downloading large artifact lgbm:v183, 242.98MB. 3 files... Done. 0:0:0\n",
      "100%|██████████| 500000/500000 [00:07<00:00, 68955.62it/s]\n"
     ]
    },
    {
     "name": "stdout",
     "output_type": "stream",
     "text": [
      "| \u001b[0m 8       \u001b[0m | \u001b[0m 0.6988  \u001b[0m | \u001b[0m 0.3564  \u001b[0m | \u001b[0m 0.7291  \u001b[0m | \u001b[0m 0.5995  \u001b[0m | \u001b[0m 0.1488  \u001b[0m | \u001b[0m 0.9504  \u001b[0m | \u001b[0m 0.05866 \u001b[0m | \u001b[0m 0.7889  \u001b[0m | \u001b[0m 0.4701  \u001b[0m | \u001b[0m 0.2711  \u001b[0m | \u001b[0m 0.01474 \u001b[0m | \u001b[0m 0.2195  \u001b[0m |\n"
     ]
    },
    {
     "name": "stderr",
     "output_type": "stream",
     "text": [
      "\u001b[34m\u001b[1mwandb\u001b[0m: Downloading large artifact lgbm:v173, 207.28MB. 3 files... Done. 0:0:0\n",
      "\u001b[34m\u001b[1mwandb\u001b[0m: Downloading large artifact lgbm:v174, 207.34MB. 3 files... Done. 0:0:0\n",
      "\u001b[34m\u001b[1mwandb\u001b[0m: Downloading large artifact lgbm:v175, 270.75MB. 3 files... Done. 0:0:0\n",
      "\u001b[34m\u001b[1mwandb\u001b[0m: Downloading large artifact lgbm:v176, 206.91MB. 3 files... Done. 0:0:0\n",
      "\u001b[34m\u001b[1mwandb\u001b[0m: Downloading large artifact lgbm:v177, 270.71MB. 3 files... Done. 0:0:0\n",
      "\u001b[34m\u001b[1mwandb\u001b[0m: Downloading large artifact lgbm:v178, 213.93MB. 3 files... Done. 0:0:0\n",
      "\u001b[34m\u001b[1mwandb\u001b[0m: Downloading large artifact lgbm:v179, 268.22MB. 3 files... Done. 0:0:0\n",
      "\u001b[34m\u001b[1mwandb\u001b[0m: Downloading large artifact lgbm:v180, 233.63MB. 3 files... Done. 0:0:0\n",
      "\u001b[34m\u001b[1mwandb\u001b[0m: Downloading large artifact lgbm:v181, 229.75MB. 3 files... Done. 0:0:0\n",
      "\u001b[34m\u001b[1mwandb\u001b[0m: Downloading large artifact lgbm:v182, 233.66MB. 3 files... Done. 0:0:0\n",
      "\u001b[34m\u001b[1mwandb\u001b[0m: Downloading large artifact lgbm:v183, 242.98MB. 3 files... Done. 0:0:0\n",
      "100%|██████████| 500000/500000 [00:07<00:00, 67612.90it/s]\n"
     ]
    },
    {
     "name": "stdout",
     "output_type": "stream",
     "text": [
      "| \u001b[0m 9       \u001b[0m | \u001b[0m 0.6989  \u001b[0m | \u001b[0m 0.5073  \u001b[0m | \u001b[0m 0.7218  \u001b[0m | \u001b[0m 0.4547  \u001b[0m | \u001b[0m 0.4431  \u001b[0m | \u001b[0m 0.7001  \u001b[0m | \u001b[0m 0.691   \u001b[0m | \u001b[0m 0.1753  \u001b[0m | \u001b[0m 0.4798  \u001b[0m | \u001b[0m 0.4733  \u001b[0m | \u001b[0m 0.6978  \u001b[0m | \u001b[0m 0.1863  \u001b[0m |\n"
     ]
    },
    {
     "name": "stderr",
     "output_type": "stream",
     "text": [
      "\u001b[34m\u001b[1mwandb\u001b[0m: Downloading large artifact lgbm:v173, 207.28MB. 3 files... Done. 0:0:0\n",
      "\u001b[34m\u001b[1mwandb\u001b[0m: Downloading large artifact lgbm:v174, 207.34MB. 3 files... Done. 0:0:0\n",
      "\u001b[34m\u001b[1mwandb\u001b[0m: Downloading large artifact lgbm:v175, 270.75MB. 3 files... Done. 0:0:0\n",
      "\u001b[34m\u001b[1mwandb\u001b[0m: Downloading large artifact lgbm:v176, 206.91MB. 3 files... Done. 0:0:0\n",
      "\u001b[34m\u001b[1mwandb\u001b[0m: Downloading large artifact lgbm:v177, 270.71MB. 3 files... Done. 0:0:0\n",
      "\u001b[34m\u001b[1mwandb\u001b[0m: Downloading large artifact lgbm:v178, 213.93MB. 3 files... Done. 0:0:0\n",
      "\u001b[34m\u001b[1mwandb\u001b[0m: Downloading large artifact lgbm:v179, 268.22MB. 3 files... Done. 0:0:0\n",
      "\u001b[34m\u001b[1mwandb\u001b[0m: Downloading large artifact lgbm:v180, 233.63MB. 3 files... Done. 0:0:0\n",
      "\u001b[34m\u001b[1mwandb\u001b[0m: Downloading large artifact lgbm:v181, 229.75MB. 3 files... Done. 0:0:0\n",
      "\u001b[34m\u001b[1mwandb\u001b[0m: Downloading large artifact lgbm:v182, 233.66MB. 3 files... Done. 0:0:0\n",
      "\u001b[34m\u001b[1mwandb\u001b[0m: Downloading large artifact lgbm:v183, 242.98MB. 3 files... Done. 0:0:0\n",
      "100%|██████████| 500000/500000 [00:07<00:00, 68063.84it/s]\n"
     ]
    },
    {
     "name": "stdout",
     "output_type": "stream",
     "text": [
      "| \u001b[0m 10      \u001b[0m | \u001b[0m 0.6986  \u001b[0m | \u001b[0m 0.7346  \u001b[0m | \u001b[0m 0.2382  \u001b[0m | \u001b[0m 0.7075  \u001b[0m | \u001b[0m 0.9565  \u001b[0m | \u001b[0m 0.3062  \u001b[0m | \u001b[0m 0.1429  \u001b[0m | \u001b[0m 0.4332  \u001b[0m | \u001b[0m 0.7088  \u001b[0m | \u001b[0m 0.5075  \u001b[0m | \u001b[0m 0.1317  \u001b[0m | \u001b[0m 0.859   \u001b[0m |\n"
     ]
    },
    {
     "name": "stderr",
     "output_type": "stream",
     "text": [
      "\u001b[34m\u001b[1mwandb\u001b[0m: Downloading large artifact lgbm:v173, 207.28MB. 3 files... Done. 0:0:0\n",
      "\u001b[34m\u001b[1mwandb\u001b[0m: Downloading large artifact lgbm:v174, 207.34MB. 3 files... Done. 0:0:0\n",
      "\u001b[34m\u001b[1mwandb\u001b[0m: Downloading large artifact lgbm:v175, 270.75MB. 3 files... Done. 0:0:0\n",
      "\u001b[34m\u001b[1mwandb\u001b[0m: Downloading large artifact lgbm:v176, 206.91MB. 3 files... Done. 0:0:0\n",
      "\u001b[34m\u001b[1mwandb\u001b[0m: Downloading large artifact lgbm:v177, 270.71MB. 3 files... Done. 0:0:0\n",
      "\u001b[34m\u001b[1mwandb\u001b[0m: Downloading large artifact lgbm:v178, 213.93MB. 3 files... Done. 0:0:0\n",
      "\u001b[34m\u001b[1mwandb\u001b[0m: Downloading large artifact lgbm:v179, 268.22MB. 3 files... Done. 0:0:0\n",
      "\u001b[34m\u001b[1mwandb\u001b[0m: Downloading large artifact lgbm:v180, 233.63MB. 3 files... Done. 0:0:0\n",
      "\u001b[34m\u001b[1mwandb\u001b[0m: Downloading large artifact lgbm:v181, 229.75MB. 3 files... Done. 0:0:0\n",
      "\u001b[34m\u001b[1mwandb\u001b[0m: Downloading large artifact lgbm:v182, 233.66MB. 3 files... Done. 0:0:0\n",
      "\u001b[34m\u001b[1mwandb\u001b[0m: Downloading large artifact lgbm:v183, 242.98MB. 3 files... Done. 0:0:0\n",
      "100%|██████████| 500000/500000 [00:07<00:00, 68227.58it/s]\n"
     ]
    },
    {
     "name": "stdout",
     "output_type": "stream",
     "text": [
      "| \u001b[0m 11      \u001b[0m | \u001b[0m 0.6986  \u001b[0m | \u001b[0m 0.8638  \u001b[0m | \u001b[0m 0.9358  \u001b[0m | \u001b[0m 0.8996  \u001b[0m | \u001b[0m 0.4492  \u001b[0m | \u001b[0m 0.6963  \u001b[0m | \u001b[0m 0.1252  \u001b[0m | \u001b[0m 0.2272  \u001b[0m | \u001b[0m 0.7518  \u001b[0m | \u001b[0m 0.9143  \u001b[0m | \u001b[0m 0.3412  \u001b[0m | \u001b[0m 0.533   \u001b[0m |\n"
     ]
    },
    {
     "name": "stderr",
     "output_type": "stream",
     "text": [
      "\u001b[34m\u001b[1mwandb\u001b[0m: Downloading large artifact lgbm:v173, 207.28MB. 3 files... Done. 0:0:0\n",
      "\u001b[34m\u001b[1mwandb\u001b[0m: Downloading large artifact lgbm:v174, 207.34MB. 3 files... Done. 0:0:0\n",
      "\u001b[34m\u001b[1mwandb\u001b[0m: Downloading large artifact lgbm:v175, 270.75MB. 3 files... Done. 0:0:0\n",
      "\u001b[34m\u001b[1mwandb\u001b[0m: Downloading large artifact lgbm:v176, 206.91MB. 3 files... Done. 0:0:0\n",
      "\u001b[34m\u001b[1mwandb\u001b[0m: Downloading large artifact lgbm:v177, 270.71MB. 3 files... Done. 0:0:0\n",
      "\u001b[34m\u001b[1mwandb\u001b[0m: Downloading large artifact lgbm:v178, 213.93MB. 3 files... Done. 0:0:0\n",
      "\u001b[34m\u001b[1mwandb\u001b[0m: Downloading large artifact lgbm:v179, 268.22MB. 3 files... Done. 0:0:0\n",
      "\u001b[34m\u001b[1mwandb\u001b[0m: Downloading large artifact lgbm:v180, 233.63MB. 3 files... Done. 0:0:0\n",
      "\u001b[34m\u001b[1mwandb\u001b[0m: Downloading large artifact lgbm:v181, 229.75MB. 3 files... Done. 0:0:0\n",
      "\u001b[34m\u001b[1mwandb\u001b[0m: Downloading large artifact lgbm:v182, 233.66MB. 3 files... Done. 0:0:0\n",
      "\u001b[34m\u001b[1mwandb\u001b[0m: Downloading large artifact lgbm:v183, 242.98MB. 3 files... Done. 0:0:0\n",
      "100%|██████████| 500000/500000 [00:07<00:00, 68091.31it/s]\n"
     ]
    },
    {
     "name": "stdout",
     "output_type": "stream",
     "text": [
      "| \u001b[0m 12      \u001b[0m | \u001b[0m 0.6988  \u001b[0m | \u001b[0m 0.06952 \u001b[0m | \u001b[0m 0.9743  \u001b[0m | \u001b[0m 0.7587  \u001b[0m | \u001b[0m 0.4848  \u001b[0m | \u001b[0m 0.8169  \u001b[0m | \u001b[0m 0.8015  \u001b[0m | \u001b[0m 0.7553  \u001b[0m | \u001b[0m 0.05456 \u001b[0m | \u001b[0m 0.2806  \u001b[0m | \u001b[0m 0.139   \u001b[0m | \u001b[0m 0.9326  \u001b[0m |\n"
     ]
    },
    {
     "name": "stderr",
     "output_type": "stream",
     "text": [
      "\u001b[34m\u001b[1mwandb\u001b[0m: Downloading large artifact lgbm:v173, 207.28MB. 3 files... Done. 0:0:0\n",
      "\u001b[34m\u001b[1mwandb\u001b[0m: Downloading large artifact lgbm:v174, 207.34MB. 3 files... Done. 0:0:0\n",
      "\u001b[34m\u001b[1mwandb\u001b[0m: Downloading large artifact lgbm:v175, 270.75MB. 3 files... Done. 0:0:0\n",
      "\u001b[34m\u001b[1mwandb\u001b[0m: Downloading large artifact lgbm:v176, 206.91MB. 3 files... Done. 0:0:0\n",
      "\u001b[34m\u001b[1mwandb\u001b[0m: Downloading large artifact lgbm:v177, 270.71MB. 3 files... Done. 0:0:0\n",
      "\u001b[34m\u001b[1mwandb\u001b[0m: Downloading large artifact lgbm:v178, 213.93MB. 3 files... Done. 0:0:0\n",
      "\u001b[34m\u001b[1mwandb\u001b[0m: Downloading large artifact lgbm:v179, 268.22MB. 3 files... Done. 0:0:0\n",
      "\u001b[34m\u001b[1mwandb\u001b[0m: Downloading large artifact lgbm:v180, 233.63MB. 3 files... Done. 0:0:0\n",
      "\u001b[34m\u001b[1mwandb\u001b[0m: Downloading large artifact lgbm:v181, 229.75MB. 3 files... Done. 0:0:0\n",
      "\u001b[34m\u001b[1mwandb\u001b[0m: Downloading large artifact lgbm:v182, 233.66MB. 3 files... Done. 0:0:0\n",
      "\u001b[34m\u001b[1mwandb\u001b[0m: Downloading large artifact lgbm:v183, 242.98MB. 3 files... Done. 0:0:0\n",
      "100%|██████████| 500000/500000 [00:07<00:00, 66413.04it/s]\n"
     ]
    },
    {
     "name": "stdout",
     "output_type": "stream",
     "text": [
      "| \u001b[0m 13      \u001b[0m | \u001b[0m 0.6988  \u001b[0m | \u001b[0m 0.872   \u001b[0m | \u001b[0m 0.1323  \u001b[0m | \u001b[0m 0.5826  \u001b[0m | \u001b[0m 0.2313  \u001b[0m | \u001b[0m 0.1046  \u001b[0m | \u001b[0m 0.7187  \u001b[0m | \u001b[0m 0.4318  \u001b[0m | \u001b[0m 0.001492\u001b[0m | \u001b[0m 0.1968  \u001b[0m | \u001b[0m 0.9858  \u001b[0m | \u001b[0m 0.5446  \u001b[0m |\n"
     ]
    },
    {
     "name": "stderr",
     "output_type": "stream",
     "text": [
      "\u001b[34m\u001b[1mwandb\u001b[0m: Downloading large artifact lgbm:v173, 207.28MB. 3 files... Done. 0:0:0\n",
      "\u001b[34m\u001b[1mwandb\u001b[0m: Downloading large artifact lgbm:v174, 207.34MB. 3 files... Done. 0:0:0\n",
      "\u001b[34m\u001b[1mwandb\u001b[0m: Downloading large artifact lgbm:v175, 270.75MB. 3 files... Done. 0:0:0\n",
      "\u001b[34m\u001b[1mwandb\u001b[0m: Downloading large artifact lgbm:v176, 206.91MB. 3 files... Done. 0:0:0\n",
      "\u001b[34m\u001b[1mwandb\u001b[0m: Downloading large artifact lgbm:v177, 270.71MB. 3 files... Done. 0:0:0\n",
      "\u001b[34m\u001b[1mwandb\u001b[0m: Downloading large artifact lgbm:v178, 213.93MB. 3 files... Done. 0:0:0\n",
      "\u001b[34m\u001b[1mwandb\u001b[0m: Downloading large artifact lgbm:v179, 268.22MB. 3 files... Done. 0:0:0\n",
      "\u001b[34m\u001b[1mwandb\u001b[0m: Downloading large artifact lgbm:v180, 233.63MB. 3 files... Done. 0:0:0\n",
      "\u001b[34m\u001b[1mwandb\u001b[0m: Downloading large artifact lgbm:v181, 229.75MB. 3 files... Done. 0:0:0\n",
      "\u001b[34m\u001b[1mwandb\u001b[0m: Downloading large artifact lgbm:v182, 233.66MB. 3 files... Done. 0:0:0\n",
      "\u001b[34m\u001b[1mwandb\u001b[0m: Downloading large artifact lgbm:v183, 242.98MB. 3 files... Done. 0:0:0\n",
      "100%|██████████| 500000/500000 [00:07<00:00, 66089.62it/s]\n"
     ]
    },
    {
     "name": "stdout",
     "output_type": "stream",
     "text": [
      "| \u001b[0m 14      \u001b[0m | \u001b[0m 0.6988  \u001b[0m | \u001b[0m 0.1309  \u001b[0m | \u001b[0m 0.3532  \u001b[0m | \u001b[0m 0.5179  \u001b[0m | \u001b[0m 0.7291  \u001b[0m | \u001b[0m 0.2526  \u001b[0m | \u001b[0m 0.5887  \u001b[0m | \u001b[0m 0.6336  \u001b[0m | \u001b[0m 0.6821  \u001b[0m | \u001b[0m 0.5578  \u001b[0m | \u001b[0m 0.1657  \u001b[0m | \u001b[0m 0.7977  \u001b[0m |\n"
     ]
    },
    {
     "name": "stderr",
     "output_type": "stream",
     "text": [
      "\u001b[34m\u001b[1mwandb\u001b[0m: Downloading large artifact lgbm:v173, 207.28MB. 3 files... Done. 0:0:0\n",
      "\u001b[34m\u001b[1mwandb\u001b[0m: Downloading large artifact lgbm:v174, 207.34MB. 3 files... Done. 0:0:0\n",
      "\u001b[34m\u001b[1mwandb\u001b[0m: Downloading large artifact lgbm:v175, 270.75MB. 3 files... Done. 0:0:0\n",
      "\u001b[34m\u001b[1mwandb\u001b[0m: Downloading large artifact lgbm:v176, 206.91MB. 3 files... Done. 0:0:0\n",
      "\u001b[34m\u001b[1mwandb\u001b[0m: Downloading large artifact lgbm:v177, 270.71MB. 3 files... Done. 0:0:0\n",
      "\u001b[34m\u001b[1mwandb\u001b[0m: Downloading large artifact lgbm:v178, 213.93MB. 3 files... Done. 0:0:0\n",
      "\u001b[34m\u001b[1mwandb\u001b[0m: Downloading large artifact lgbm:v179, 268.22MB. 3 files... Done. 0:0:0\n",
      "\u001b[34m\u001b[1mwandb\u001b[0m: Downloading large artifact lgbm:v180, 233.63MB. 3 files... Done. 0:0:0\n",
      "\u001b[34m\u001b[1mwandb\u001b[0m: Downloading large artifact lgbm:v181, 229.75MB. 3 files... Done. 0:0:0\n",
      "\u001b[34m\u001b[1mwandb\u001b[0m: Downloading large artifact lgbm:v182, 233.66MB. 3 files... Done. 0:0:0\n",
      "\u001b[34m\u001b[1mwandb\u001b[0m: Downloading large artifact lgbm:v183, 242.98MB. 3 files... Done. 0:0:0\n",
      "100%|██████████| 500000/500000 [00:07<00:00, 65471.09it/s]\n"
     ]
    },
    {
     "name": "stdout",
     "output_type": "stream",
     "text": [
      "| \u001b[0m 15      \u001b[0m | \u001b[0m 0.6988  \u001b[0m | \u001b[0m 0.4108  \u001b[0m | \u001b[0m 0.204   \u001b[0m | \u001b[0m 0.4432  \u001b[0m | \u001b[0m 0.9955  \u001b[0m | \u001b[0m 0.6302  \u001b[0m | \u001b[0m 0.2157  \u001b[0m | \u001b[0m 0.951   \u001b[0m | \u001b[0m 0.5858  \u001b[0m | \u001b[0m 0.4167  \u001b[0m | \u001b[0m 0.1797  \u001b[0m | \u001b[0m 0.7307  \u001b[0m |\n"
     ]
    },
    {
     "name": "stderr",
     "output_type": "stream",
     "text": [
      "\u001b[34m\u001b[1mwandb\u001b[0m: Downloading large artifact lgbm:v173, 207.28MB. 3 files... Done. 0:0:0\n",
      "\u001b[34m\u001b[1mwandb\u001b[0m: Downloading large artifact lgbm:v174, 207.34MB. 3 files... Done. 0:0:0\n",
      "\u001b[34m\u001b[1mwandb\u001b[0m: Downloading large artifact lgbm:v175, 270.75MB. 3 files... Done. 0:0:0\n",
      "\u001b[34m\u001b[1mwandb\u001b[0m: Downloading large artifact lgbm:v176, 206.91MB. 3 files... Done. 0:0:0\n",
      "\u001b[34m\u001b[1mwandb\u001b[0m: Downloading large artifact lgbm:v177, 270.71MB. 3 files... Done. 0:0:0\n",
      "\u001b[34m\u001b[1mwandb\u001b[0m: Downloading large artifact lgbm:v178, 213.93MB. 3 files... Done. 0:0:0\n",
      "\u001b[34m\u001b[1mwandb\u001b[0m: Downloading large artifact lgbm:v179, 268.22MB. 3 files... Done. 0:0:0\n",
      "\u001b[34m\u001b[1mwandb\u001b[0m: Downloading large artifact lgbm:v180, 233.63MB. 3 files... Done. 0:0:0\n",
      "\u001b[34m\u001b[1mwandb\u001b[0m: Downloading large artifact lgbm:v181, 229.75MB. 3 files... Done. 0:0:0\n",
      "\u001b[34m\u001b[1mwandb\u001b[0m: Downloading large artifact lgbm:v182, 233.66MB. 3 files... Done. 0:0:0\n",
      "\u001b[34m\u001b[1mwandb\u001b[0m: Downloading large artifact lgbm:v183, 242.98MB. 3 files... Done. 0:0:0\n",
      "100%|██████████| 500000/500000 [00:07<00:00, 66106.33it/s]\n"
     ]
    },
    {
     "name": "stdout",
     "output_type": "stream",
     "text": [
      "| \u001b[0m 16      \u001b[0m | \u001b[0m 0.699   \u001b[0m | \u001b[0m 0.8351  \u001b[0m | \u001b[0m 0.2822  \u001b[0m | \u001b[0m 0.439   \u001b[0m | \u001b[0m 0.2252  \u001b[0m | \u001b[0m 0.5698  \u001b[0m | \u001b[0m 0.9577  \u001b[0m | \u001b[0m 0.6424  \u001b[0m | \u001b[0m 0.3439  \u001b[0m | \u001b[0m 0.3117  \u001b[0m | \u001b[0m 0.9899  \u001b[0m | \u001b[0m 0.3249  \u001b[0m |\n"
     ]
    },
    {
     "name": "stderr",
     "output_type": "stream",
     "text": [
      "\u001b[34m\u001b[1mwandb\u001b[0m: Downloading large artifact lgbm:v173, 207.28MB. 3 files... Done. 0:0:0\n",
      "\u001b[34m\u001b[1mwandb\u001b[0m: Downloading large artifact lgbm:v174, 207.34MB. 3 files... Done. 0:0:0\n",
      "\u001b[34m\u001b[1mwandb\u001b[0m: Downloading large artifact lgbm:v175, 270.75MB. 3 files... Done. 0:0:0\n",
      "\u001b[34m\u001b[1mwandb\u001b[0m: Downloading large artifact lgbm:v176, 206.91MB. 3 files... Done. 0:0:0\n",
      "\u001b[34m\u001b[1mwandb\u001b[0m: Downloading large artifact lgbm:v177, 270.71MB. 3 files... Done. 0:0:0\n",
      "\u001b[34m\u001b[1mwandb\u001b[0m: Downloading large artifact lgbm:v178, 213.93MB. 3 files... Done. 0:0:0\n",
      "\u001b[34m\u001b[1mwandb\u001b[0m: Downloading large artifact lgbm:v179, 268.22MB. 3 files... Done. 0:0:0\n",
      "\u001b[34m\u001b[1mwandb\u001b[0m: Downloading large artifact lgbm:v180, 233.63MB. 3 files... Done. 0:0:0\n",
      "\u001b[34m\u001b[1mwandb\u001b[0m: Downloading large artifact lgbm:v181, 229.75MB. 3 files... Done. 0:0:0\n",
      "\u001b[34m\u001b[1mwandb\u001b[0m: Downloading large artifact lgbm:v182, 233.66MB. 3 files... Done. 0:0:0\n",
      "\u001b[34m\u001b[1mwandb\u001b[0m: Downloading large artifact lgbm:v183, 242.98MB. 3 files... Done. 0:0:0\n",
      "100%|██████████| 500000/500000 [00:07<00:00, 66897.80it/s]\n"
     ]
    },
    {
     "name": "stdout",
     "output_type": "stream",
     "text": [
      "| \u001b[0m 17      \u001b[0m | \u001b[0m 0.6987  \u001b[0m | \u001b[0m 0.000135\u001b[0m | \u001b[0m 0.3585  \u001b[0m | \u001b[0m 0.8     \u001b[0m | \u001b[0m 0.6594  \u001b[0m | \u001b[0m 0.2095  \u001b[0m | \u001b[0m 0.3596  \u001b[0m | \u001b[0m 0.593   \u001b[0m | \u001b[0m 0.4663  \u001b[0m | \u001b[0m 0.9543  \u001b[0m | \u001b[0m 0.5406  \u001b[0m | \u001b[0m 0.02592 \u001b[0m |\n"
     ]
    },
    {
     "name": "stderr",
     "output_type": "stream",
     "text": [
      "\u001b[34m\u001b[1mwandb\u001b[0m: Downloading large artifact lgbm:v173, 207.28MB. 3 files... Done. 0:0:0\n",
      "\u001b[34m\u001b[1mwandb\u001b[0m: Downloading large artifact lgbm:v174, 207.34MB. 3 files... Done. 0:0:0\n",
      "\u001b[34m\u001b[1mwandb\u001b[0m: Downloading large artifact lgbm:v175, 270.75MB. 3 files... Done. 0:0:0\n",
      "\u001b[34m\u001b[1mwandb\u001b[0m: Downloading large artifact lgbm:v176, 206.91MB. 3 files... Done. 0:0:0\n",
      "\u001b[34m\u001b[1mwandb\u001b[0m: Downloading large artifact lgbm:v177, 270.71MB. 3 files... Done. 0:0:0\n",
      "\u001b[34m\u001b[1mwandb\u001b[0m: Downloading large artifact lgbm:v178, 213.93MB. 3 files... Done. 0:0:0\n",
      "\u001b[34m\u001b[1mwandb\u001b[0m: Downloading large artifact lgbm:v179, 268.22MB. 3 files... Done. 0:0:0\n",
      "\u001b[34m\u001b[1mwandb\u001b[0m: Downloading large artifact lgbm:v180, 233.63MB. 3 files... Done. 0:0:0\n",
      "\u001b[34m\u001b[1mwandb\u001b[0m: Downloading large artifact lgbm:v181, 229.75MB. 3 files... Done. 0:0:0\n",
      "\u001b[34m\u001b[1mwandb\u001b[0m: Downloading large artifact lgbm:v182, 233.66MB. 3 files... Done. 0:0:0\n",
      "\u001b[34m\u001b[1mwandb\u001b[0m: Downloading large artifact lgbm:v183, 242.98MB. 3 files... Done. 0:0:0\n",
      "100%|██████████| 500000/500000 [00:07<00:00, 64892.42it/s]\n"
     ]
    },
    {
     "name": "stdout",
     "output_type": "stream",
     "text": [
      "| \u001b[0m 18      \u001b[0m | \u001b[0m 0.6989  \u001b[0m | \u001b[0m 0.8756  \u001b[0m | \u001b[0m 0.4914  \u001b[0m | \u001b[0m 0.4343  \u001b[0m | \u001b[0m 0.283   \u001b[0m | \u001b[0m 0.918   \u001b[0m | \u001b[0m 0.7233  \u001b[0m | \u001b[0m 0.6483  \u001b[0m | \u001b[0m 0.9006  \u001b[0m | \u001b[0m 0.2514  \u001b[0m | \u001b[0m 0.6694  \u001b[0m | \u001b[0m 0.6483  \u001b[0m |\n"
     ]
    },
    {
     "name": "stderr",
     "output_type": "stream",
     "text": [
      "\u001b[34m\u001b[1mwandb\u001b[0m: Downloading large artifact lgbm:v173, 207.28MB. 3 files... Done. 0:0:0\n",
      "\u001b[34m\u001b[1mwandb\u001b[0m: Downloading large artifact lgbm:v174, 207.34MB. 3 files... Done. 0:0:0\n",
      "\u001b[34m\u001b[1mwandb\u001b[0m: Downloading large artifact lgbm:v175, 270.75MB. 3 files... Done. 0:0:0\n",
      "\u001b[34m\u001b[1mwandb\u001b[0m: Downloading large artifact lgbm:v176, 206.91MB. 3 files... Done. 0:0:0\n",
      "\u001b[34m\u001b[1mwandb\u001b[0m: Downloading large artifact lgbm:v177, 270.71MB. 3 files... Done. 0:0:0\n",
      "\u001b[34m\u001b[1mwandb\u001b[0m: Downloading large artifact lgbm:v178, 213.93MB. 3 files... Done. 0:0:0\n",
      "\u001b[34m\u001b[1mwandb\u001b[0m: Downloading large artifact lgbm:v179, 268.22MB. 3 files... Done. 0:0:0\n",
      "\u001b[34m\u001b[1mwandb\u001b[0m: Downloading large artifact lgbm:v180, 233.63MB. 3 files... Done. 0:0:0\n",
      "\u001b[34m\u001b[1mwandb\u001b[0m: Downloading large artifact lgbm:v181, 229.75MB. 3 files... Done. 0:0:0\n",
      "\u001b[34m\u001b[1mwandb\u001b[0m: Downloading large artifact lgbm:v182, 233.66MB. 3 files... Done. 0:0:0\n",
      "\u001b[34m\u001b[1mwandb\u001b[0m: Downloading large artifact lgbm:v183, 242.98MB. 3 files... Done. 0:0:0\n",
      "100%|██████████| 500000/500000 [00:05<00:00, 85981.36it/s]\n"
     ]
    },
    {
     "name": "stdout",
     "output_type": "stream",
     "text": [
      "| \u001b[0m 19      \u001b[0m | \u001b[0m 0.699   \u001b[0m | \u001b[0m 0.377   \u001b[0m | \u001b[0m 0.2817  \u001b[0m | \u001b[0m 0.1818  \u001b[0m | \u001b[0m 0.05854 \u001b[0m | \u001b[0m 0.5484  \u001b[0m | \u001b[0m 0.8447  \u001b[0m | \u001b[0m 0.4622  \u001b[0m | \u001b[0m 0.5517  \u001b[0m | \u001b[0m 0.6267  \u001b[0m | \u001b[0m 0.1062  \u001b[0m | \u001b[0m 0.5919  \u001b[0m |\n"
     ]
    },
    {
     "name": "stderr",
     "output_type": "stream",
     "text": [
      "\u001b[34m\u001b[1mwandb\u001b[0m: Downloading large artifact lgbm:v173, 207.28MB. 3 files... Done. 0:0:0\n",
      "\u001b[34m\u001b[1mwandb\u001b[0m: Downloading large artifact lgbm:v174, 207.34MB. 3 files... Done. 0:0:0\n",
      "\u001b[34m\u001b[1mwandb\u001b[0m: Network error (ReadTimeout), entering retry loop.\n",
      "\u001b[34m\u001b[1mwandb\u001b[0m: Downloading large artifact lgbm:v175, 270.75MB. 3 files... Done. 0:0:0\n",
      "\u001b[34m\u001b[1mwandb\u001b[0m: Downloading large artifact lgbm:v176, 206.91MB. 3 files... Done. 0:0:0\n",
      "\u001b[34m\u001b[1mwandb\u001b[0m: Downloading large artifact lgbm:v177, 270.71MB. 3 files... Done. 0:0:0\n",
      "\u001b[34m\u001b[1mwandb\u001b[0m: Downloading large artifact lgbm:v178, 213.93MB. 3 files... Done. 0:0:0\n",
      "\u001b[34m\u001b[1mwandb\u001b[0m: Downloading large artifact lgbm:v179, 268.22MB. 3 files... Done. 0:0:0\n",
      "\u001b[34m\u001b[1mwandb\u001b[0m: Downloading large artifact lgbm:v180, 233.63MB. 3 files... Done. 0:0:0\n",
      "\u001b[34m\u001b[1mwandb\u001b[0m: Downloading large artifact lgbm:v181, 229.75MB. 3 files... Done. 0:0:0\n",
      "\u001b[34m\u001b[1mwandb\u001b[0m: Downloading large artifact lgbm:v182, 233.66MB. 3 files... Done. 0:0:0\n",
      "\u001b[34m\u001b[1mwandb\u001b[0m: Downloading large artifact lgbm:v183, 242.98MB. 3 files... Done. 0:0:0\n",
      "100%|██████████| 500000/500000 [00:05<00:00, 86451.08it/s]\n"
     ]
    },
    {
     "name": "stdout",
     "output_type": "stream",
     "text": [
      "| \u001b[0m 20      \u001b[0m | \u001b[0m 0.6989  \u001b[0m | \u001b[0m 0.5929  \u001b[0m | \u001b[0m 0.6894  \u001b[0m | \u001b[0m 0.5558  \u001b[0m | \u001b[0m 0.8447  \u001b[0m | \u001b[0m 0.9811  \u001b[0m | \u001b[0m 0.9514  \u001b[0m | \u001b[0m 0.262   \u001b[0m | \u001b[0m 0.1297  \u001b[0m | \u001b[0m 0.02057 \u001b[0m | \u001b[0m 0.2604  \u001b[0m | \u001b[0m 0.8199  \u001b[0m |\n"
     ]
    },
    {
     "name": "stderr",
     "output_type": "stream",
     "text": [
      "\u001b[34m\u001b[1mwandb\u001b[0m: Downloading large artifact lgbm:v173, 207.28MB. 3 files... Done. 0:0:0\n",
      "\u001b[34m\u001b[1mwandb\u001b[0m: Downloading large artifact lgbm:v174, 207.34MB. 3 files... Done. 0:0:0\n",
      "\u001b[34m\u001b[1mwandb\u001b[0m: Downloading large artifact lgbm:v175, 270.75MB. 3 files... Done. 0:0:0\n",
      "\u001b[34m\u001b[1mwandb\u001b[0m: Downloading large artifact lgbm:v176, 206.91MB. 3 files... Done. 0:0:0\n",
      "\u001b[34m\u001b[1mwandb\u001b[0m: Downloading large artifact lgbm:v177, 270.71MB. 3 files... Done. 0:0:0\n",
      "\u001b[34m\u001b[1mwandb\u001b[0m: Downloading large artifact lgbm:v178, 213.93MB. 3 files... Done. 0:0:0\n",
      "\u001b[34m\u001b[1mwandb\u001b[0m: Downloading large artifact lgbm:v179, 268.22MB. 3 files... Done. 0:0:0\n",
      "\u001b[34m\u001b[1mwandb\u001b[0m: Downloading large artifact lgbm:v180, 233.63MB. 3 files... Done. 0:0:0\n",
      "\u001b[34m\u001b[1mwandb\u001b[0m: Downloading large artifact lgbm:v181, 229.75MB. 3 files... Done. 0:0:0\n",
      "\u001b[34m\u001b[1mwandb\u001b[0m: Downloading large artifact lgbm:v182, 233.66MB. 3 files... Done. 0:0:0\n",
      "\u001b[34m\u001b[1mwandb\u001b[0m: Downloading large artifact lgbm:v183, 242.98MB. 3 files... Done. 0:0:0\n",
      "100%|██████████| 500000/500000 [00:06<00:00, 77152.19it/s]\n"
     ]
    },
    {
     "name": "stdout",
     "output_type": "stream",
     "text": [
      "| \u001b[0m 21      \u001b[0m | \u001b[0m 0.6987  \u001b[0m | \u001b[0m 0.8007  \u001b[0m | \u001b[0m 0.291   \u001b[0m | \u001b[0m 0.612   \u001b[0m | \u001b[0m 0.1267  \u001b[0m | \u001b[0m 0.4992  \u001b[0m | \u001b[0m 0.165   \u001b[0m | \u001b[0m 0.4165  \u001b[0m | \u001b[0m 0.9483  \u001b[0m | \u001b[0m 0.1929  \u001b[0m | \u001b[0m 0.1946  \u001b[0m | \u001b[0m 0.9195  \u001b[0m |\n"
     ]
    },
    {
     "name": "stderr",
     "output_type": "stream",
     "text": [
      "\u001b[34m\u001b[1mwandb\u001b[0m: Downloading large artifact lgbm:v173, 207.28MB. 3 files... Done. 0:0:0\n",
      "\u001b[34m\u001b[1mwandb\u001b[0m: Downloading large artifact lgbm:v174, 207.34MB. 3 files... Done. 0:0:0\n",
      "\u001b[34m\u001b[1mwandb\u001b[0m: Downloading large artifact lgbm:v175, 270.75MB. 3 files... Done. 0:0:0\n",
      "\u001b[34m\u001b[1mwandb\u001b[0m: Downloading large artifact lgbm:v176, 206.91MB. 3 files... Done. 0:0:0\n",
      "\u001b[34m\u001b[1mwandb\u001b[0m: Downloading large artifact lgbm:v177, 270.71MB. 3 files... Done. 0:0:0\n",
      "\u001b[34m\u001b[1mwandb\u001b[0m: Downloading large artifact lgbm:v178, 213.93MB. 3 files... Done. 0:0:0\n",
      "\u001b[34m\u001b[1mwandb\u001b[0m: Downloading large artifact lgbm:v179, 268.22MB. 3 files... Done. 0:0:0\n",
      "\u001b[34m\u001b[1mwandb\u001b[0m: Downloading large artifact lgbm:v180, 233.63MB. 3 files... Done. 0:0:0\n",
      "\u001b[34m\u001b[1mwandb\u001b[0m: Downloading large artifact lgbm:v181, 229.75MB. 3 files... Done. 0:0:0\n",
      "\u001b[34m\u001b[1mwandb\u001b[0m: Downloading large artifact lgbm:v182, 233.66MB. 3 files... Done. 0:0:0\n",
      "\u001b[34m\u001b[1mwandb\u001b[0m: Downloading large artifact lgbm:v183, 242.98MB. 3 files... Done. 0:0:0\n",
      "100%|██████████| 500000/500000 [00:10<00:00, 46936.60it/s]\n"
     ]
    },
    {
     "name": "stdout",
     "output_type": "stream",
     "text": [
      "| \u001b[0m 22      \u001b[0m | \u001b[0m 0.6989  \u001b[0m | \u001b[0m 0.3999  \u001b[0m | \u001b[0m 0.1677  \u001b[0m | \u001b[0m 0.05304 \u001b[0m | \u001b[0m 0.6043  \u001b[0m | \u001b[0m 0.8676  \u001b[0m | \u001b[0m 0.08904 \u001b[0m | \u001b[0m 0.4649  \u001b[0m | \u001b[0m 0.6346  \u001b[0m | \u001b[0m 0.4806  \u001b[0m | \u001b[0m 0.6995  \u001b[0m | \u001b[0m 0.9786  \u001b[0m |\n"
     ]
    },
    {
     "name": "stderr",
     "output_type": "stream",
     "text": [
      "\u001b[34m\u001b[1mwandb\u001b[0m: Downloading large artifact lgbm:v173, 207.28MB. 3 files... Done. 0:0:0\n",
      "\u001b[34m\u001b[1mwandb\u001b[0m: Downloading large artifact lgbm:v174, 207.34MB. 3 files... Done. 0:0:0\n",
      "\u001b[34m\u001b[1mwandb\u001b[0m: Downloading large artifact lgbm:v175, 270.75MB. 3 files... Done. 0:0:0\n",
      "\u001b[34m\u001b[1mwandb\u001b[0m: Downloading large artifact lgbm:v176, 206.91MB. 3 files... Done. 0:0:0\n",
      "\u001b[34m\u001b[1mwandb\u001b[0m: Downloading large artifact lgbm:v177, 270.71MB. 3 files... Done. 0:0:0\n",
      "\u001b[34m\u001b[1mwandb\u001b[0m: Downloading large artifact lgbm:v178, 213.93MB. 3 files... Done. 0:0:0\n",
      "\u001b[34m\u001b[1mwandb\u001b[0m: Downloading large artifact lgbm:v179, 268.22MB. 3 files... Done. 0:0:0\n",
      "\u001b[34m\u001b[1mwandb\u001b[0m: Downloading large artifact lgbm:v180, 233.63MB. 3 files... Done. 0:0:0\n",
      "\u001b[34m\u001b[1mwandb\u001b[0m: Downloading large artifact lgbm:v181, 229.75MB. 3 files... Done. 0:0:0\n",
      "\u001b[34m\u001b[1mwandb\u001b[0m: Downloading large artifact lgbm:v182, 233.66MB. 3 files... Done. 0:0:0\n",
      "\u001b[34m\u001b[1mwandb\u001b[0m: Downloading large artifact lgbm:v183, 242.98MB. 3 files... Done. 0:0:0\n",
      "100%|██████████| 500000/500000 [00:10<00:00, 45833.76it/s]\n"
     ]
    },
    {
     "name": "stdout",
     "output_type": "stream",
     "text": [
      "| \u001b[0m 23      \u001b[0m | \u001b[0m 0.6988  \u001b[0m | \u001b[0m 0.8229  \u001b[0m | \u001b[0m 0.3458  \u001b[0m | \u001b[0m 0.2607  \u001b[0m | \u001b[0m 0.8414  \u001b[0m | \u001b[0m 0.6452  \u001b[0m | \u001b[0m 0.702   \u001b[0m | \u001b[0m 0.2689  \u001b[0m | \u001b[0m 0.9026  \u001b[0m | \u001b[0m 0.9575  \u001b[0m | \u001b[0m 0.1049  \u001b[0m | \u001b[0m 0.8763  \u001b[0m |\n"
     ]
    },
    {
     "name": "stderr",
     "output_type": "stream",
     "text": [
      "\u001b[34m\u001b[1mwandb\u001b[0m: Downloading large artifact lgbm:v173, 207.28MB. 3 files... Done. 0:0:0\n",
      "\u001b[34m\u001b[1mwandb\u001b[0m: Downloading large artifact lgbm:v174, 207.34MB. 3 files... Done. 0:0:0\n",
      "\u001b[34m\u001b[1mwandb\u001b[0m: Downloading large artifact lgbm:v175, 270.75MB. 3 files... Done. 0:0:0\n",
      "\u001b[34m\u001b[1mwandb\u001b[0m: Downloading large artifact lgbm:v176, 206.91MB. 3 files... Done. 0:0:0\n",
      "\u001b[34m\u001b[1mwandb\u001b[0m: Downloading large artifact lgbm:v177, 270.71MB. 3 files... Done. 0:0:0\n",
      "\u001b[34m\u001b[1mwandb\u001b[0m: Downloading large artifact lgbm:v178, 213.93MB. 3 files... Done. 0:0:0\n",
      "\u001b[34m\u001b[1mwandb\u001b[0m: Downloading large artifact lgbm:v179, 268.22MB. 3 files... Done. 0:0:0\n",
      "\u001b[34m\u001b[1mwandb\u001b[0m: Downloading large artifact lgbm:v180, 233.63MB. 3 files... Done. 0:0:0\n",
      "\u001b[34m\u001b[1mwandb\u001b[0m: Downloading large artifact lgbm:v181, 229.75MB. 3 files... Done. 0:0:0\n",
      "\u001b[34m\u001b[1mwandb\u001b[0m: Downloading large artifact lgbm:v182, 233.66MB. 3 files... Done. 0:0:0\n",
      "\u001b[34m\u001b[1mwandb\u001b[0m: Downloading large artifact lgbm:v183, 242.98MB. 3 files... Done. 0:0:0\n",
      "100%|██████████| 500000/500000 [00:05<00:00, 85271.78it/s]\n"
     ]
    },
    {
     "name": "stdout",
     "output_type": "stream",
     "text": [
      "| \u001b[0m 24      \u001b[0m | \u001b[0m 0.6986  \u001b[0m | \u001b[0m 0.3325  \u001b[0m | \u001b[0m 0.6262  \u001b[0m | \u001b[0m 0.193   \u001b[0m | \u001b[0m 0.5668  \u001b[0m | \u001b[0m 0.2618  \u001b[0m | \u001b[0m 0.01365 \u001b[0m | \u001b[0m 0.798   \u001b[0m | \u001b[0m 0.8219  \u001b[0m | \u001b[0m 0.8396  \u001b[0m | \u001b[0m 0.8486  \u001b[0m | \u001b[0m 0.9398  \u001b[0m |\n"
     ]
    },
    {
     "name": "stderr",
     "output_type": "stream",
     "text": [
      "\u001b[34m\u001b[1mwandb\u001b[0m: Downloading large artifact lgbm:v173, 207.28MB. 3 files... Done. 0:0:0\n",
      "\u001b[34m\u001b[1mwandb\u001b[0m: Downloading large artifact lgbm:v174, 207.34MB. 3 files... Done. 0:0:0\n",
      "\u001b[34m\u001b[1mwandb\u001b[0m: Downloading large artifact lgbm:v175, 270.75MB. 3 files... Done. 0:0:0\n",
      "\u001b[34m\u001b[1mwandb\u001b[0m: Downloading large artifact lgbm:v176, 206.91MB. 3 files... Done. 0:0:0\n",
      "\u001b[34m\u001b[1mwandb\u001b[0m: Downloading large artifact lgbm:v177, 270.71MB. 3 files... Done. 0:0:0\n",
      "\u001b[34m\u001b[1mwandb\u001b[0m: Downloading large artifact lgbm:v178, 213.93MB. 3 files... Done. 0:0:0\n",
      "\u001b[34m\u001b[1mwandb\u001b[0m: Downloading large artifact lgbm:v179, 268.22MB. 3 files... Done. 0:0:0\n",
      "\u001b[34m\u001b[1mwandb\u001b[0m: Downloading large artifact lgbm:v180, 233.63MB. 3 files... Done. 0:0:0\n",
      "\u001b[34m\u001b[1mwandb\u001b[0m: Downloading large artifact lgbm:v181, 229.75MB. 3 files... Done. 0:0:0\n",
      "\u001b[34m\u001b[1mwandb\u001b[0m: Downloading large artifact lgbm:v182, 233.66MB. 3 files... Done. 0:0:0\n",
      "\u001b[34m\u001b[1mwandb\u001b[0m: Downloading large artifact lgbm:v183, 242.98MB. 3 files... Done. 0:0:0\n",
      "100%|██████████| 500000/500000 [00:05<00:00, 85489.28it/s]\n"
     ]
    },
    {
     "name": "stdout",
     "output_type": "stream",
     "text": [
      "| \u001b[0m 25      \u001b[0m | \u001b[0m 0.6984  \u001b[0m | \u001b[0m 0.01902 \u001b[0m | \u001b[0m 0.4429  \u001b[0m | \u001b[0m 0.6206  \u001b[0m | \u001b[0m 0.5693  \u001b[0m | \u001b[0m 0.01684 \u001b[0m | \u001b[0m 0.03132 \u001b[0m | \u001b[0m 0.8277  \u001b[0m | \u001b[0m 0.1646  \u001b[0m | \u001b[0m 0.7783  \u001b[0m | \u001b[0m 0.1966  \u001b[0m | \u001b[0m 0.1361  \u001b[0m |\n"
     ]
    },
    {
     "name": "stderr",
     "output_type": "stream",
     "text": [
      "\u001b[34m\u001b[1mwandb\u001b[0m: Downloading large artifact lgbm:v173, 207.28MB. 3 files... Done. 0:0:0\n",
      "\u001b[34m\u001b[1mwandb\u001b[0m: Downloading large artifact lgbm:v174, 207.34MB. 3 files... Done. 0:0:0\n",
      "\u001b[34m\u001b[1mwandb\u001b[0m: Downloading large artifact lgbm:v175, 270.75MB. 3 files... Done. 0:0:0\n",
      "\u001b[34m\u001b[1mwandb\u001b[0m: Downloading large artifact lgbm:v176, 206.91MB. 3 files... Done. 0:0:0\n",
      "\u001b[34m\u001b[1mwandb\u001b[0m: Downloading large artifact lgbm:v177, 270.71MB. 3 files... Done. 0:0:0\n",
      "\u001b[34m\u001b[1mwandb\u001b[0m: Downloading large artifact lgbm:v178, 213.93MB. 3 files... Done. 0:0:0\n",
      "\u001b[34m\u001b[1mwandb\u001b[0m: Downloading large artifact lgbm:v179, 268.22MB. 3 files... Done. 0:0:0\n",
      "\u001b[34m\u001b[1mwandb\u001b[0m: Downloading large artifact lgbm:v180, 233.63MB. 3 files... Done. 0:0:0\n",
      "\u001b[34m\u001b[1mwandb\u001b[0m: Downloading large artifact lgbm:v181, 229.75MB. 3 files... Done. 0:0:0\n",
      "\u001b[34m\u001b[1mwandb\u001b[0m: Downloading large artifact lgbm:v182, 233.66MB. 3 files... Done. 0:0:0\n",
      "\u001b[34m\u001b[1mwandb\u001b[0m: Downloading large artifact lgbm:v183, 242.98MB. 3 files... Done. 0:0:0\n",
      "100%|██████████| 500000/500000 [00:05<00:00, 86253.86it/s]\n"
     ]
    },
    {
     "name": "stdout",
     "output_type": "stream",
     "text": [
      "| \u001b[0m 26      \u001b[0m | \u001b[0m 0.6989  \u001b[0m | \u001b[0m 0.555   \u001b[0m | \u001b[0m 0.7472  \u001b[0m | \u001b[0m 0.7862  \u001b[0m | \u001b[0m 0.09085 \u001b[0m | \u001b[0m 0.4586  \u001b[0m | \u001b[0m 0.9914  \u001b[0m | \u001b[0m 0.0492  \u001b[0m | \u001b[0m 0.5184  \u001b[0m | \u001b[0m 0.4723  \u001b[0m | \u001b[0m 0.82    \u001b[0m | \u001b[0m 0.4111  \u001b[0m |\n"
     ]
    },
    {
     "name": "stderr",
     "output_type": "stream",
     "text": [
      "\u001b[34m\u001b[1mwandb\u001b[0m: Downloading large artifact lgbm:v173, 207.28MB. 3 files... Done. 0:0:0\n",
      "\u001b[34m\u001b[1mwandb\u001b[0m: Downloading large artifact lgbm:v174, 207.34MB. 3 files... Done. 0:0:0\n",
      "\u001b[34m\u001b[1mwandb\u001b[0m: Downloading large artifact lgbm:v175, 270.75MB. 3 files... Done. 0:0:0\n",
      "\u001b[34m\u001b[1mwandb\u001b[0m: Downloading large artifact lgbm:v176, 206.91MB. 3 files... Done. 0:0:0\n",
      "\u001b[34m\u001b[1mwandb\u001b[0m: Downloading large artifact lgbm:v177, 270.71MB. 3 files... Done. 0:0:0\n",
      "\u001b[34m\u001b[1mwandb\u001b[0m: Downloading large artifact lgbm:v178, 213.93MB. 3 files... Done. 0:0:0\n",
      "\u001b[34m\u001b[1mwandb\u001b[0m: Downloading large artifact lgbm:v179, 268.22MB. 3 files... Done. 0:0:0\n",
      "\u001b[34m\u001b[1mwandb\u001b[0m: Downloading large artifact lgbm:v180, 233.63MB. 3 files... Done. 0:0:0\n",
      "\u001b[34m\u001b[1mwandb\u001b[0m: Downloading large artifact lgbm:v181, 229.75MB. 3 files... Done. 0:0:0\n",
      "\u001b[34m\u001b[1mwandb\u001b[0m: Downloading large artifact lgbm:v182, 233.66MB. 3 files... Done. 0:0:0\n",
      "\u001b[34m\u001b[1mwandb\u001b[0m: Downloading large artifact lgbm:v183, 242.98MB. 3 files... Done. 0:0:0\n",
      "100%|██████████| 500000/500000 [00:08<00:00, 61898.26it/s]\n"
     ]
    },
    {
     "name": "stdout",
     "output_type": "stream",
     "text": [
      "| \u001b[0m 27      \u001b[0m | \u001b[0m 0.6989  \u001b[0m | \u001b[0m 0.06464 \u001b[0m | \u001b[0m 0.244   \u001b[0m | \u001b[0m 0.5285  \u001b[0m | \u001b[0m 0.7089  \u001b[0m | \u001b[0m 0.3746  \u001b[0m | \u001b[0m 0.9227  \u001b[0m | \u001b[0m 0.4282  \u001b[0m | \u001b[0m 0.01547 \u001b[0m | \u001b[0m 0.6609  \u001b[0m | \u001b[0m 0.8925  \u001b[0m | \u001b[0m 0.8899  \u001b[0m |\n"
     ]
    },
    {
     "name": "stderr",
     "output_type": "stream",
     "text": [
      "\u001b[34m\u001b[1mwandb\u001b[0m: Downloading large artifact lgbm:v173, 207.28MB. 3 files... Done. 0:0:0\n",
      "\u001b[34m\u001b[1mwandb\u001b[0m: Downloading large artifact lgbm:v174, 207.34MB. 3 files... Done. 0:0:0\n",
      "\u001b[34m\u001b[1mwandb\u001b[0m: Downloading large artifact lgbm:v175, 270.75MB. 3 files... Done. 0:0:0\n",
      "\u001b[34m\u001b[1mwandb\u001b[0m: Downloading large artifact lgbm:v176, 206.91MB. 3 files... Done. 0:0:0\n",
      "\u001b[34m\u001b[1mwandb\u001b[0m: Downloading large artifact lgbm:v177, 270.71MB. 3 files... Done. 0:0:0\n",
      "\u001b[34m\u001b[1mwandb\u001b[0m: Downloading large artifact lgbm:v178, 213.93MB. 3 files... Done. 0:0:0\n",
      "\u001b[34m\u001b[1mwandb\u001b[0m: Downloading large artifact lgbm:v179, 268.22MB. 3 files... Done. 0:0:0\n",
      "\u001b[34m\u001b[1mwandb\u001b[0m: Downloading large artifact lgbm:v180, 233.63MB. 3 files... Done. 0:0:0\n",
      "\u001b[34m\u001b[1mwandb\u001b[0m: Downloading large artifact lgbm:v181, 229.75MB. 3 files... Done. 0:0:0\n",
      "\u001b[34m\u001b[1mwandb\u001b[0m: Downloading large artifact lgbm:v182, 233.66MB. 3 files... Done. 0:0:0\n",
      "\u001b[34m\u001b[1mwandb\u001b[0m: Downloading large artifact lgbm:v183, 242.98MB. 3 files... Done. 0:0:0\n",
      "100%|██████████| 500000/500000 [00:08<00:00, 60489.69it/s]\n"
     ]
    },
    {
     "name": "stdout",
     "output_type": "stream",
     "text": [
      "| \u001b[0m 28      \u001b[0m | \u001b[0m 0.6988  \u001b[0m | \u001b[0m 0.5467  \u001b[0m | \u001b[0m 0.5267  \u001b[0m | \u001b[0m 0.1507  \u001b[0m | \u001b[0m 0.6761  \u001b[0m | \u001b[0m 0.1781  \u001b[0m | \u001b[0m 0.8701  \u001b[0m | \u001b[0m 0.5414  \u001b[0m | \u001b[0m 0.9444  \u001b[0m | \u001b[0m 0.4095  \u001b[0m | \u001b[0m 0.7371  \u001b[0m | \u001b[0m 0.956   \u001b[0m |\n"
     ]
    },
    {
     "name": "stderr",
     "output_type": "stream",
     "text": [
      "\u001b[34m\u001b[1mwandb\u001b[0m: Downloading large artifact lgbm:v173, 207.28MB. 3 files... Done. 0:0:0\n",
      "\u001b[34m\u001b[1mwandb\u001b[0m: Downloading large artifact lgbm:v174, 207.34MB. 3 files... Done. 0:0:0\n",
      "\u001b[34m\u001b[1mwandb\u001b[0m: Downloading large artifact lgbm:v175, 270.75MB. 3 files... Done. 0:0:0\n",
      "\u001b[34m\u001b[1mwandb\u001b[0m: Downloading large artifact lgbm:v176, 206.91MB. 3 files... Done. 0:0:0\n",
      "\u001b[34m\u001b[1mwandb\u001b[0m: Downloading large artifact lgbm:v177, 270.71MB. 3 files... Done. 0:0:0\n",
      "\u001b[34m\u001b[1mwandb\u001b[0m: Downloading large artifact lgbm:v178, 213.93MB. 3 files... Done. 0:0:0\n",
      "\u001b[34m\u001b[1mwandb\u001b[0m: Downloading large artifact lgbm:v179, 268.22MB. 3 files... Done. 0:0:0\n",
      "\u001b[34m\u001b[1mwandb\u001b[0m: Downloading large artifact lgbm:v180, 233.63MB. 3 files... Done. 0:0:0\n",
      "\u001b[34m\u001b[1mwandb\u001b[0m: Downloading large artifact lgbm:v181, 229.75MB. 3 files... Done. 0:0:0\n",
      "\u001b[34m\u001b[1mwandb\u001b[0m: Downloading large artifact lgbm:v182, 233.66MB. 3 files... Done. 0:0:0\n",
      "\u001b[34m\u001b[1mwandb\u001b[0m: Downloading large artifact lgbm:v183, 242.98MB. 3 files... Done. 0:0:0\n",
      "100%|██████████| 500000/500000 [00:08<00:00, 59317.97it/s]\n"
     ]
    },
    {
     "name": "stdout",
     "output_type": "stream",
     "text": [
      "| \u001b[0m 29      \u001b[0m | \u001b[0m 0.6989  \u001b[0m | \u001b[0m 0.1831  \u001b[0m | \u001b[0m 0.4407  \u001b[0m | \u001b[0m 0.5942  \u001b[0m | \u001b[0m 0.3527  \u001b[0m | \u001b[0m 0.9914  \u001b[0m | \u001b[0m 0.1142  \u001b[0m | \u001b[0m 0.6897  \u001b[0m | \u001b[0m 0.6229  \u001b[0m | \u001b[0m 0.1487  \u001b[0m | \u001b[0m 0.5263  \u001b[0m | \u001b[0m 0.2394  \u001b[0m |\n"
     ]
    },
    {
     "name": "stderr",
     "output_type": "stream",
     "text": [
      "\u001b[34m\u001b[1mwandb\u001b[0m: Downloading large artifact lgbm:v173, 207.28MB. 3 files... Done. 0:0:0\n",
      "\u001b[34m\u001b[1mwandb\u001b[0m: Downloading large artifact lgbm:v174, 207.34MB. 3 files... Done. 0:0:0\n",
      "\u001b[34m\u001b[1mwandb\u001b[0m: Downloading large artifact lgbm:v175, 270.75MB. 3 files... Done. 0:0:0\n",
      "\u001b[34m\u001b[1mwandb\u001b[0m: Downloading large artifact lgbm:v176, 206.91MB. 3 files... Done. 0:0:0\n",
      "\u001b[34m\u001b[1mwandb\u001b[0m: Downloading large artifact lgbm:v177, 270.71MB. 3 files... Done. 0:0:0\n",
      "\u001b[34m\u001b[1mwandb\u001b[0m: Downloading large artifact lgbm:v178, 213.93MB. 3 files... Done. 0:0:0\n",
      "\u001b[34m\u001b[1mwandb\u001b[0m: Downloading large artifact lgbm:v179, 268.22MB. 3 files... Done. 0:0:0\n",
      "\u001b[34m\u001b[1mwandb\u001b[0m: Downloading large artifact lgbm:v180, 233.63MB. 3 files... Done. 0:0:0\n",
      "\u001b[34m\u001b[1mwandb\u001b[0m: Downloading large artifact lgbm:v181, 229.75MB. 3 files... Done. 0:0:0\n",
      "\u001b[34m\u001b[1mwandb\u001b[0m: Downloading large artifact lgbm:v182, 233.66MB. 3 files... Done. 0:0:0\n",
      "\u001b[34m\u001b[1mwandb\u001b[0m: Downloading large artifact lgbm:v183, 242.98MB. 3 files... Done. 0:0:0\n",
      "100%|██████████| 500000/500000 [00:08<00:00, 58986.37it/s]\n"
     ]
    },
    {
     "name": "stdout",
     "output_type": "stream",
     "text": [
      "| \u001b[0m 30      \u001b[0m | \u001b[0m 0.6988  \u001b[0m | \u001b[0m 0.28    \u001b[0m | \u001b[0m 0.3381  \u001b[0m | \u001b[0m 0.1491  \u001b[0m | \u001b[0m 0.4714  \u001b[0m | \u001b[0m 0.6931  \u001b[0m | \u001b[0m 0.1172  \u001b[0m | \u001b[0m 0.3209  \u001b[0m | \u001b[0m 0.2926  \u001b[0m | \u001b[0m 0.8611  \u001b[0m | \u001b[0m 0.3972  \u001b[0m | \u001b[0m 0.9979  \u001b[0m |\n"
     ]
    },
    {
     "name": "stderr",
     "output_type": "stream",
     "text": [
      "\u001b[34m\u001b[1mwandb\u001b[0m: Downloading large artifact lgbm:v173, 207.28MB. 3 files... Done. 0:0:0\n",
      "\u001b[34m\u001b[1mwandb\u001b[0m: Downloading large artifact lgbm:v174, 207.34MB. 3 files... Done. 0:0:0\n",
      "\u001b[34m\u001b[1mwandb\u001b[0m: Downloading large artifact lgbm:v175, 270.75MB. 3 files... Done. 0:0:0\n",
      "\u001b[34m\u001b[1mwandb\u001b[0m: Downloading large artifact lgbm:v176, 206.91MB. 3 files... Done. 0:0:0\n",
      "\u001b[34m\u001b[1mwandb\u001b[0m: Downloading large artifact lgbm:v177, 270.71MB. 3 files... Done. 0:0:0\n",
      "\u001b[34m\u001b[1mwandb\u001b[0m: Downloading large artifact lgbm:v178, 213.93MB. 3 files... Done. 0:0:0\n",
      "\u001b[34m\u001b[1mwandb\u001b[0m: Downloading large artifact lgbm:v179, 268.22MB. 3 files... Done. 0:0:0\n",
      "\u001b[34m\u001b[1mwandb\u001b[0m: Downloading large artifact lgbm:v180, 233.63MB. 3 files... Done. 0:0:0\n",
      "\u001b[34m\u001b[1mwandb\u001b[0m: Downloading large artifact lgbm:v181, 229.75MB. 3 files... Done. 0:0:0\n",
      "\u001b[34m\u001b[1mwandb\u001b[0m: Downloading large artifact lgbm:v182, 233.66MB. 3 files... Done. 0:0:0\n",
      "\u001b[34m\u001b[1mwandb\u001b[0m: Downloading large artifact lgbm:v183, 242.98MB. 3 files... Done. 0:0:0\n",
      "100%|██████████| 500000/500000 [00:08<00:00, 60001.11it/s]\n"
     ]
    },
    {
     "name": "stdout",
     "output_type": "stream",
     "text": [
      "| \u001b[95m 31      \u001b[0m | \u001b[95m 0.699   \u001b[0m | \u001b[95m 0.2243  \u001b[0m | \u001b[95m 0.6637  \u001b[0m | \u001b[95m 0.6537  \u001b[0m | \u001b[95m 0.4634  \u001b[0m | \u001b[95m 0.7322  \u001b[0m | \u001b[95m 0.7295  \u001b[0m | \u001b[95m 0.9604  \u001b[0m | \u001b[95m 0.4356  \u001b[0m | \u001b[95m 0.07819 \u001b[0m | \u001b[95m 0.9639  \u001b[0m | \u001b[95m 0.1369  \u001b[0m |\n"
     ]
    },
    {
     "name": "stderr",
     "output_type": "stream",
     "text": [
      "\u001b[34m\u001b[1mwandb\u001b[0m: Downloading large artifact lgbm:v173, 207.28MB. 3 files... Done. 0:0:0\n",
      "\u001b[34m\u001b[1mwandb\u001b[0m: Downloading large artifact lgbm:v174, 207.34MB. 3 files... Done. 0:0:0\n",
      "\u001b[34m\u001b[1mwandb\u001b[0m: Downloading large artifact lgbm:v175, 270.75MB. 3 files... Done. 0:0:0\n",
      "\u001b[34m\u001b[1mwandb\u001b[0m: Downloading large artifact lgbm:v176, 206.91MB. 3 files... Done. 0:0:0\n",
      "\u001b[34m\u001b[1mwandb\u001b[0m: Downloading large artifact lgbm:v177, 270.71MB. 3 files... Done. 0:0:0\n",
      "\u001b[34m\u001b[1mwandb\u001b[0m: Downloading large artifact lgbm:v178, 213.93MB. 3 files... Done. 0:0:0\n",
      "\u001b[34m\u001b[1mwandb\u001b[0m: Downloading large artifact lgbm:v179, 268.22MB. 3 files... Done. 0:0:0\n",
      "\u001b[34m\u001b[1mwandb\u001b[0m: Downloading large artifact lgbm:v180, 233.63MB. 3 files... Done. 0:0:0\n",
      "\u001b[34m\u001b[1mwandb\u001b[0m: Downloading large artifact lgbm:v181, 229.75MB. 3 files... Done. 0:0:0\n",
      "\u001b[34m\u001b[1mwandb\u001b[0m: Downloading large artifact lgbm:v182, 233.66MB. 3 files... Done. 0:0:0\n",
      "\u001b[34m\u001b[1mwandb\u001b[0m: Downloading large artifact lgbm:v183, 242.98MB. 3 files... Done. 0:0:0\n",
      "100%|██████████| 500000/500000 [00:08<00:00, 60237.31it/s]\n"
     ]
    },
    {
     "name": "stdout",
     "output_type": "stream",
     "text": [
      "| \u001b[0m 32      \u001b[0m | \u001b[0m 0.6985  \u001b[0m | \u001b[0m 0.9537  \u001b[0m | \u001b[0m 0.9821  \u001b[0m | \u001b[0m 0.5374  \u001b[0m | \u001b[0m 0.4328  \u001b[0m | \u001b[0m 0.06482 \u001b[0m | \u001b[0m 0.3775  \u001b[0m | \u001b[0m 0.996   \u001b[0m | \u001b[0m 0.2986  \u001b[0m | \u001b[0m 0.2267  \u001b[0m | \u001b[0m 0.0823  \u001b[0m | \u001b[0m 0.3477  \u001b[0m |\n"
     ]
    },
    {
     "name": "stderr",
     "output_type": "stream",
     "text": [
      "\u001b[34m\u001b[1mwandb\u001b[0m: Downloading large artifact lgbm:v173, 207.28MB. 3 files... Done. 0:0:0\n",
      "\u001b[34m\u001b[1mwandb\u001b[0m: Downloading large artifact lgbm:v174, 207.34MB. 3 files... Done. 0:0:0\n",
      "\u001b[34m\u001b[1mwandb\u001b[0m: Downloading large artifact lgbm:v175, 270.75MB. 3 files... Done. 0:0:0\n",
      "\u001b[34m\u001b[1mwandb\u001b[0m: Downloading large artifact lgbm:v176, 206.91MB. 3 files... Done. 0:0:0\n",
      "\u001b[34m\u001b[1mwandb\u001b[0m: Downloading large artifact lgbm:v177, 270.71MB. 3 files... Done. 0:0:0\n",
      "\u001b[34m\u001b[1mwandb\u001b[0m: Downloading large artifact lgbm:v178, 213.93MB. 3 files... Done. 0:0:0\n",
      "\u001b[34m\u001b[1mwandb\u001b[0m: Downloading large artifact lgbm:v179, 268.22MB. 3 files... Done. 0:0:0\n",
      "\u001b[34m\u001b[1mwandb\u001b[0m: Downloading large artifact lgbm:v180, 233.63MB. 3 files... Done. 0:0:0\n",
      "\u001b[34m\u001b[1mwandb\u001b[0m: Downloading large artifact lgbm:v181, 229.75MB. 3 files... Done. 0:0:0\n",
      "\u001b[34m\u001b[1mwandb\u001b[0m: Downloading large artifact lgbm:v182, 233.66MB. 3 files... Done. 0:0:0\n",
      "\u001b[34m\u001b[1mwandb\u001b[0m: Downloading large artifact lgbm:v183, 242.98MB. 3 files... Done. 0:0:0\n",
      "100%|██████████| 500000/500000 [00:08<00:00, 59846.24it/s]\n"
     ]
    },
    {
     "name": "stdout",
     "output_type": "stream",
     "text": [
      "| \u001b[0m 33      \u001b[0m | \u001b[0m 0.6987  \u001b[0m | \u001b[0m 0.5267  \u001b[0m | \u001b[0m 0.1707  \u001b[0m | \u001b[0m 0.7675  \u001b[0m | \u001b[0m 0.55    \u001b[0m | \u001b[0m 0.3345  \u001b[0m | \u001b[0m 0.343   \u001b[0m | \u001b[0m 0.04414 \u001b[0m | \u001b[0m 0.06452 \u001b[0m | \u001b[0m 0.6327  \u001b[0m | \u001b[0m 0.8192  \u001b[0m | \u001b[0m 0.8233  \u001b[0m |\n"
     ]
    },
    {
     "name": "stderr",
     "output_type": "stream",
     "text": [
      "\u001b[34m\u001b[1mwandb\u001b[0m: Downloading large artifact lgbm:v173, 207.28MB. 3 files... Done. 0:0:0\n",
      "\u001b[34m\u001b[1mwandb\u001b[0m: Downloading large artifact lgbm:v174, 207.34MB. 3 files... Done. 0:0:0\n",
      "\u001b[34m\u001b[1mwandb\u001b[0m: Downloading large artifact lgbm:v175, 270.75MB. 3 files... Done. 0:0:0\n",
      "\u001b[34m\u001b[1mwandb\u001b[0m: Downloading large artifact lgbm:v176, 206.91MB. 3 files... Done. 0:0:0\n",
      "\u001b[34m\u001b[1mwandb\u001b[0m: Downloading large artifact lgbm:v177, 270.71MB. 3 files... Done. 0:0:0\n",
      "\u001b[34m\u001b[1mwandb\u001b[0m: Downloading large artifact lgbm:v178, 213.93MB. 3 files... Done. 0:0:0\n",
      "\u001b[34m\u001b[1mwandb\u001b[0m: Downloading large artifact lgbm:v179, 268.22MB. 3 files... Done. 0:0:0\n",
      "\u001b[34m\u001b[1mwandb\u001b[0m: Downloading large artifact lgbm:v180, 233.63MB. 3 files... Done. 0:0:0\n",
      "\u001b[34m\u001b[1mwandb\u001b[0m: Downloading large artifact lgbm:v181, 229.75MB. 3 files... Done. 0:0:0\n",
      "\u001b[34m\u001b[1mwandb\u001b[0m: Downloading large artifact lgbm:v182, 233.66MB. 3 files... Done. 0:0:0\n",
      "\u001b[34m\u001b[1mwandb\u001b[0m: Downloading large artifact lgbm:v183, 242.98MB. 3 files... Done. 0:0:0\n",
      "100%|██████████| 500000/500000 [00:08<00:00, 59142.49it/s]\n"
     ]
    },
    {
     "name": "stdout",
     "output_type": "stream",
     "text": [
      "| \u001b[0m 34      \u001b[0m | \u001b[0m 0.6989  \u001b[0m | \u001b[0m 0.1244  \u001b[0m | \u001b[0m 0.2563  \u001b[0m | \u001b[0m 0.4627  \u001b[0m | \u001b[0m 0.4172  \u001b[0m | \u001b[0m 0.6313  \u001b[0m | \u001b[0m 0.3499  \u001b[0m | \u001b[0m 0.1587  \u001b[0m | \u001b[0m 0.9167  \u001b[0m | \u001b[0m 0.592   \u001b[0m | \u001b[0m 0.98    \u001b[0m | \u001b[0m 0.154   \u001b[0m |\n"
     ]
    },
    {
     "name": "stderr",
     "output_type": "stream",
     "text": [
      "\u001b[34m\u001b[1mwandb\u001b[0m: Downloading large artifact lgbm:v173, 207.28MB. 3 files... Done. 0:0:0\n",
      "\u001b[34m\u001b[1mwandb\u001b[0m: Downloading large artifact lgbm:v174, 207.34MB. 3 files... Done. 0:0:0\n",
      "\u001b[34m\u001b[1mwandb\u001b[0m: Downloading large artifact lgbm:v175, 270.75MB. 3 files... Done. 0:0:0\n",
      "\u001b[34m\u001b[1mwandb\u001b[0m: Downloading large artifact lgbm:v176, 206.91MB. 3 files... Done. 0:0:0\n",
      "\u001b[34m\u001b[1mwandb\u001b[0m: Downloading large artifact lgbm:v177, 270.71MB. 3 files... Done. 0:0:0\n",
      "\u001b[34m\u001b[1mwandb\u001b[0m: Downloading large artifact lgbm:v178, 213.93MB. 3 files... Done. 0:0:0\n",
      "\u001b[34m\u001b[1mwandb\u001b[0m: Downloading large artifact lgbm:v179, 268.22MB. 3 files... Done. 0:0:0\n",
      "\u001b[34m\u001b[1mwandb\u001b[0m: Downloading large artifact lgbm:v180, 233.63MB. 3 files... Done. 0:0:0\n",
      "\u001b[34m\u001b[1mwandb\u001b[0m: Downloading large artifact lgbm:v181, 229.75MB. 3 files... Done. 0:0:0\n",
      "\u001b[34m\u001b[1mwandb\u001b[0m: Downloading large artifact lgbm:v182, 233.66MB. 3 files... Done. 0:0:0\n",
      "\u001b[34m\u001b[1mwandb\u001b[0m: Downloading large artifact lgbm:v183, 242.98MB. 3 files... Done. 0:0:0\n",
      "100%|██████████| 500000/500000 [00:08<00:00, 60240.37it/s]\n"
     ]
    },
    {
     "name": "stdout",
     "output_type": "stream",
     "text": [
      "| \u001b[0m 35      \u001b[0m | \u001b[0m 0.6986  \u001b[0m | \u001b[0m 0.928   \u001b[0m | \u001b[0m 0.5414  \u001b[0m | \u001b[0m 0.9457  \u001b[0m | \u001b[0m 0.4932  \u001b[0m | \u001b[0m 0.1094  \u001b[0m | \u001b[0m 0.4539  \u001b[0m | \u001b[0m 0.6968  \u001b[0m | \u001b[0m 0.5128  \u001b[0m | \u001b[0m 0.6027  \u001b[0m | \u001b[0m 0.1285  \u001b[0m | \u001b[0m 0.3985  \u001b[0m |\n"
     ]
    },
    {
     "name": "stderr",
     "output_type": "stream",
     "text": [
      "\u001b[34m\u001b[1mwandb\u001b[0m: Downloading large artifact lgbm:v173, 207.28MB. 3 files... Done. 0:0:0\n",
      "\u001b[34m\u001b[1mwandb\u001b[0m: Downloading large artifact lgbm:v174, 207.34MB. 3 files... Done. 0:0:0\n",
      "\u001b[34m\u001b[1mwandb\u001b[0m: Downloading large artifact lgbm:v175, 270.75MB. 3 files... Done. 0:0:0\n",
      "\u001b[34m\u001b[1mwandb\u001b[0m: Downloading large artifact lgbm:v176, 206.91MB. 3 files... Done. 0:0:0\n",
      "\u001b[34m\u001b[1mwandb\u001b[0m: Downloading large artifact lgbm:v177, 270.71MB. 3 files... Done. 0:0:0\n",
      "\u001b[34m\u001b[1mwandb\u001b[0m: Downloading large artifact lgbm:v178, 213.93MB. 3 files... Done. 0:0:0\n",
      "\u001b[34m\u001b[1mwandb\u001b[0m: Downloading large artifact lgbm:v179, 268.22MB. 3 files... Done. 0:0:0\n",
      "\u001b[34m\u001b[1mwandb\u001b[0m: Downloading large artifact lgbm:v180, 233.63MB. 3 files... Done. 0:0:0\n",
      "\u001b[34m\u001b[1mwandb\u001b[0m: Downloading large artifact lgbm:v181, 229.75MB. 3 files... Done. 0:0:0\n",
      "\u001b[34m\u001b[1mwandb\u001b[0m: Downloading large artifact lgbm:v182, 233.66MB. 3 files... Done. 0:0:0\n",
      "\u001b[34m\u001b[1mwandb\u001b[0m: Downloading large artifact lgbm:v183, 242.98MB. 3 files... Done. 0:0:0\n",
      "100%|██████████| 500000/500000 [00:08<00:00, 60263.99it/s]\n"
     ]
    },
    {
     "name": "stdout",
     "output_type": "stream",
     "text": [
      "| \u001b[0m 36      \u001b[0m | \u001b[0m 0.6989  \u001b[0m | \u001b[0m 0.5152  \u001b[0m | \u001b[0m 0.7556  \u001b[0m | \u001b[0m 0.1525  \u001b[0m | \u001b[0m 0.5853  \u001b[0m | \u001b[0m 0.9829  \u001b[0m | \u001b[0m 0.6298  \u001b[0m | \u001b[0m 0.4766  \u001b[0m | \u001b[0m 0.7402  \u001b[0m | \u001b[0m 0.1365  \u001b[0m | \u001b[0m 0.9352  \u001b[0m | \u001b[0m 0.6465  \u001b[0m |\n"
     ]
    },
    {
     "name": "stderr",
     "output_type": "stream",
     "text": [
      "\u001b[34m\u001b[1mwandb\u001b[0m: Downloading large artifact lgbm:v173, 207.28MB. 3 files... Done. 0:0:0\n",
      "\u001b[34m\u001b[1mwandb\u001b[0m: Downloading large artifact lgbm:v174, 207.34MB. 3 files... Done. 0:0:0\n",
      "\u001b[34m\u001b[1mwandb\u001b[0m: Downloading large artifact lgbm:v175, 270.75MB. 3 files... Done. 0:0:0\n",
      "\u001b[34m\u001b[1mwandb\u001b[0m: Downloading large artifact lgbm:v176, 206.91MB. 3 files... Done. 0:0:0\n",
      "\u001b[34m\u001b[1mwandb\u001b[0m: Downloading large artifact lgbm:v177, 270.71MB. 3 files... Done. 0:0:0\n",
      "\u001b[34m\u001b[1mwandb\u001b[0m: Downloading large artifact lgbm:v178, 213.93MB. 3 files... Done. 0:0:0\n",
      "\u001b[34m\u001b[1mwandb\u001b[0m: Downloading large artifact lgbm:v179, 268.22MB. 3 files... Done. 0:0:0\n",
      "\u001b[34m\u001b[1mwandb\u001b[0m: Downloading large artifact lgbm:v180, 233.63MB. 3 files... Done. 0:0:0\n",
      "\u001b[34m\u001b[1mwandb\u001b[0m: Downloading large artifact lgbm:v181, 229.75MB. 3 files... Done. 0:0:0\n",
      "\u001b[34m\u001b[1mwandb\u001b[0m: Downloading large artifact lgbm:v182, 233.66MB. 3 files... Done. 0:0:0\n",
      "\u001b[34m\u001b[1mwandb\u001b[0m: Downloading large artifact lgbm:v183, 242.98MB. 3 files... Done. 0:0:0\n",
      "100%|██████████| 500000/500000 [00:08<00:00, 59864.49it/s]\n"
     ]
    },
    {
     "name": "stdout",
     "output_type": "stream",
     "text": [
      "| \u001b[0m 37      \u001b[0m | \u001b[0m 0.6988  \u001b[0m | \u001b[0m 0.4513  \u001b[0m | \u001b[0m 0.6165  \u001b[0m | \u001b[0m 0.4185  \u001b[0m | \u001b[0m 0.07928 \u001b[0m | \u001b[0m 0.09983 \u001b[0m | \u001b[0m 0.5814  \u001b[0m | \u001b[0m 0.5185  \u001b[0m | \u001b[0m 0.7396  \u001b[0m | \u001b[0m 0.8072  \u001b[0m | \u001b[0m 0.4729  \u001b[0m | \u001b[0m 0.4857  \u001b[0m |\n"
     ]
    },
    {
     "name": "stderr",
     "output_type": "stream",
     "text": [
      "\u001b[34m\u001b[1mwandb\u001b[0m: Downloading large artifact lgbm:v173, 207.28MB. 3 files... Done. 0:0:0\n",
      "\u001b[34m\u001b[1mwandb\u001b[0m: Downloading large artifact lgbm:v174, 207.34MB. 3 files... Done. 0:0:0\n",
      "\u001b[34m\u001b[1mwandb\u001b[0m: Downloading large artifact lgbm:v175, 270.75MB. 3 files... Done. 0:0:0\n",
      "\u001b[34m\u001b[1mwandb\u001b[0m: Downloading large artifact lgbm:v176, 206.91MB. 3 files... Done. 0:0:0\n",
      "\u001b[34m\u001b[1mwandb\u001b[0m: Downloading large artifact lgbm:v177, 270.71MB. 3 files... Done. 0:0:0\n",
      "\u001b[34m\u001b[1mwandb\u001b[0m: Downloading large artifact lgbm:v178, 213.93MB. 3 files... Done. 0:0:0\n",
      "\u001b[34m\u001b[1mwandb\u001b[0m: Downloading large artifact lgbm:v179, 268.22MB. 3 files... Done. 0:0:0\n",
      "\u001b[34m\u001b[1mwandb\u001b[0m: Downloading large artifact lgbm:v180, 233.63MB. 3 files... Done. 0:0:0\n",
      "\u001b[34m\u001b[1mwandb\u001b[0m: Downloading large artifact lgbm:v181, 229.75MB. 3 files... Done. 0:0:0\n",
      "\u001b[34m\u001b[1mwandb\u001b[0m: Downloading large artifact lgbm:v182, 233.66MB. 3 files... Done. 0:0:0\n",
      "\u001b[34m\u001b[1mwandb\u001b[0m: Downloading large artifact lgbm:v183, 242.98MB. 3 files... Done. 0:0:0\n",
      "100%|██████████| 500000/500000 [00:08<00:00, 60112.16it/s]\n"
     ]
    },
    {
     "name": "stdout",
     "output_type": "stream",
     "text": [
      "| \u001b[95m 38      \u001b[0m | \u001b[95m 0.6991  \u001b[0m | \u001b[95m 0.4062  \u001b[0m | \u001b[95m 0.01357 \u001b[0m | \u001b[95m 0.4522  \u001b[0m | \u001b[95m 0.5713  \u001b[0m | \u001b[95m 0.8963  \u001b[0m | \u001b[95m 0.8601  \u001b[0m | \u001b[95m 0.3309  \u001b[0m | \u001b[95m 0.4447  \u001b[0m | \u001b[95m 0.2966  \u001b[0m | \u001b[95m 0.5029  \u001b[0m | \u001b[95m 0.004132\u001b[0m |\n"
     ]
    },
    {
     "name": "stderr",
     "output_type": "stream",
     "text": [
      "\u001b[34m\u001b[1mwandb\u001b[0m: Downloading large artifact lgbm:v173, 207.28MB. 3 files... Done. 0:0:0\n",
      "\u001b[34m\u001b[1mwandb\u001b[0m: Downloading large artifact lgbm:v174, 207.34MB. 3 files... Done. 0:0:0\n",
      "\u001b[34m\u001b[1mwandb\u001b[0m: Downloading large artifact lgbm:v175, 270.75MB. 3 files... Done. 0:0:0\n",
      "\u001b[34m\u001b[1mwandb\u001b[0m: Downloading large artifact lgbm:v176, 206.91MB. 3 files... Done. 0:0:0\n",
      "\u001b[34m\u001b[1mwandb\u001b[0m: Downloading large artifact lgbm:v177, 270.71MB. 3 files... Done. 0:0:0\n",
      "\u001b[34m\u001b[1mwandb\u001b[0m: Downloading large artifact lgbm:v178, 213.93MB. 3 files... Done. 0:0:0\n",
      "\u001b[34m\u001b[1mwandb\u001b[0m: Downloading large artifact lgbm:v179, 268.22MB. 3 files... Done. 0:0:0\n",
      "\u001b[34m\u001b[1mwandb\u001b[0m: Downloading large artifact lgbm:v180, 233.63MB. 3 files... Done. 0:0:0\n",
      "\u001b[34m\u001b[1mwandb\u001b[0m: Downloading large artifact lgbm:v181, 229.75MB. 3 files... Done. 0:0:0\n",
      "\u001b[34m\u001b[1mwandb\u001b[0m: Downloading large artifact lgbm:v182, 233.66MB. 3 files... Done. 0:0:0\n",
      "\u001b[34m\u001b[1mwandb\u001b[0m: Downloading large artifact lgbm:v183, 242.98MB. 3 files... Done. 0:0:0\n",
      "100%|██████████| 500000/500000 [00:08<00:00, 59489.82it/s]\n"
     ]
    },
    {
     "name": "stdout",
     "output_type": "stream",
     "text": [
      "| \u001b[0m 39      \u001b[0m | \u001b[0m 0.6987  \u001b[0m | \u001b[0m 0.7869  \u001b[0m | \u001b[0m 0.4132  \u001b[0m | \u001b[0m 0.7551  \u001b[0m | \u001b[0m 0.8278  \u001b[0m | \u001b[0m 0.6329  \u001b[0m | \u001b[0m 0.5668  \u001b[0m | \u001b[0m 0.7894  \u001b[0m | \u001b[0m 0.8606  \u001b[0m | \u001b[0m 0.8199  \u001b[0m | \u001b[0m 0.3089  \u001b[0m | \u001b[0m 0.5652  \u001b[0m |\n"
     ]
    },
    {
     "name": "stderr",
     "output_type": "stream",
     "text": [
      "\u001b[34m\u001b[1mwandb\u001b[0m: Downloading large artifact lgbm:v173, 207.28MB. 3 files... Done. 0:0:0\n",
      "\u001b[34m\u001b[1mwandb\u001b[0m: Downloading large artifact lgbm:v174, 207.34MB. 3 files... Done. 0:0:0\n",
      "\u001b[34m\u001b[1mwandb\u001b[0m: Downloading large artifact lgbm:v175, 270.75MB. 3 files... Done. 0:0:0\n",
      "\u001b[34m\u001b[1mwandb\u001b[0m: Downloading large artifact lgbm:v176, 206.91MB. 3 files... Done. 0:0:0\n",
      "\u001b[34m\u001b[1mwandb\u001b[0m: Downloading large artifact lgbm:v177, 270.71MB. 3 files... Done. 0:0:0\n",
      "\u001b[34m\u001b[1mwandb\u001b[0m: Downloading large artifact lgbm:v178, 213.93MB. 3 files... Done. 0:0:0\n",
      "\u001b[34m\u001b[1mwandb\u001b[0m: Downloading large artifact lgbm:v179, 268.22MB. 3 files... Done. 0:0:0\n",
      "\u001b[34m\u001b[1mwandb\u001b[0m: Downloading large artifact lgbm:v180, 233.63MB. 3 files... Done. 0:0:0\n",
      "\u001b[34m\u001b[1mwandb\u001b[0m: Downloading large artifact lgbm:v181, 229.75MB. 3 files... Done. 0:0:0\n",
      "\u001b[34m\u001b[1mwandb\u001b[0m: Downloading large artifact lgbm:v182, 233.66MB. 3 files... Done. 0:0:0\n",
      "\u001b[34m\u001b[1mwandb\u001b[0m: Downloading large artifact lgbm:v183, 242.98MB. 3 files... Done. 0:0:0\n",
      "100%|██████████| 500000/500000 [00:08<00:00, 60310.08it/s]\n"
     ]
    },
    {
     "name": "stdout",
     "output_type": "stream",
     "text": [
      "| \u001b[0m 40      \u001b[0m | \u001b[0m 0.6988  \u001b[0m | \u001b[0m 0.5929  \u001b[0m | \u001b[0m 0.4172  \u001b[0m | \u001b[0m 0.2206  \u001b[0m | \u001b[0m 0.5073  \u001b[0m | \u001b[0m 0.3743  \u001b[0m | \u001b[0m 0.5315  \u001b[0m | \u001b[0m 0.6126  \u001b[0m | \u001b[0m 0.8028  \u001b[0m | \u001b[0m 0.6739  \u001b[0m | \u001b[0m 0.6526  \u001b[0m | \u001b[0m 0.8853  \u001b[0m |\n"
     ]
    },
    {
     "name": "stderr",
     "output_type": "stream",
     "text": [
      "\u001b[34m\u001b[1mwandb\u001b[0m: Downloading large artifact lgbm:v173, 207.28MB. 3 files... Done. 0:0:0\n",
      "\u001b[34m\u001b[1mwandb\u001b[0m: Downloading large artifact lgbm:v174, 207.34MB. 3 files... Done. 0:0:0\n",
      "\u001b[34m\u001b[1mwandb\u001b[0m: Downloading large artifact lgbm:v175, 270.75MB. 3 files... Done. 0:0:0\n",
      "\u001b[34m\u001b[1mwandb\u001b[0m: Downloading large artifact lgbm:v176, 206.91MB. 3 files... Done. 0:0:0\n",
      "\u001b[34m\u001b[1mwandb\u001b[0m: Downloading large artifact lgbm:v177, 270.71MB. 3 files... Done. 0:0:0\n",
      "\u001b[34m\u001b[1mwandb\u001b[0m: Downloading large artifact lgbm:v178, 213.93MB. 3 files... Done. 0:0:0\n",
      "\u001b[34m\u001b[1mwandb\u001b[0m: Downloading large artifact lgbm:v179, 268.22MB. 3 files... Done. 0:0:0\n",
      "\u001b[34m\u001b[1mwandb\u001b[0m: Downloading large artifact lgbm:v180, 233.63MB. 3 files... Done. 0:0:0\n",
      "\u001b[34m\u001b[1mwandb\u001b[0m: Downloading large artifact lgbm:v181, 229.75MB. 3 files... Done. 0:0:0\n",
      "\u001b[34m\u001b[1mwandb\u001b[0m: Downloading large artifact lgbm:v182, 233.66MB. 3 files... Done. 0:0:0\n",
      "\u001b[34m\u001b[1mwandb\u001b[0m: Downloading large artifact lgbm:v183, 242.98MB. 3 files... Done. 0:0:0\n",
      "100%|██████████| 500000/500000 [00:08<00:00, 59660.27it/s]\n"
     ]
    },
    {
     "name": "stdout",
     "output_type": "stream",
     "text": [
      "| \u001b[0m 41      \u001b[0m | \u001b[0m 0.6989  \u001b[0m | \u001b[0m 0.3076  \u001b[0m | \u001b[0m 0.5168  \u001b[0m | \u001b[0m 0.8025  \u001b[0m | \u001b[0m 0.9803  \u001b[0m | \u001b[0m 0.9772  \u001b[0m | \u001b[0m 0.6596  \u001b[0m | \u001b[0m 0.5734  \u001b[0m | \u001b[0m 0.1576  \u001b[0m | \u001b[0m 0.2393  \u001b[0m | \u001b[0m 0.3089  \u001b[0m | \u001b[0m 0.3386  \u001b[0m |\n"
     ]
    },
    {
     "name": "stderr",
     "output_type": "stream",
     "text": [
      "\u001b[34m\u001b[1mwandb\u001b[0m: Downloading large artifact lgbm:v173, 207.28MB. 3 files... Done. 0:0:0\n",
      "\u001b[34m\u001b[1mwandb\u001b[0m: Downloading large artifact lgbm:v174, 207.34MB. 3 files... Done. 0:0:0\n",
      "\u001b[34m\u001b[1mwandb\u001b[0m: Downloading large artifact lgbm:v175, 270.75MB. 3 files... Done. 0:0:0\n",
      "\u001b[34m\u001b[1mwandb\u001b[0m: Downloading large artifact lgbm:v176, 206.91MB. 3 files... Done. 0:0:0\n",
      "\u001b[34m\u001b[1mwandb\u001b[0m: Downloading large artifact lgbm:v177, 270.71MB. 3 files... Done. 0:0:0\n",
      "\u001b[34m\u001b[1mwandb\u001b[0m: Downloading large artifact lgbm:v178, 213.93MB. 3 files... Done. 0:0:0\n",
      "\u001b[34m\u001b[1mwandb\u001b[0m: Downloading large artifact lgbm:v179, 268.22MB. 3 files... Done. 0:0:0\n",
      "\u001b[34m\u001b[1mwandb\u001b[0m: Downloading large artifact lgbm:v180, 233.63MB. 3 files... Done. 0:0:0\n",
      "\u001b[34m\u001b[1mwandb\u001b[0m: Downloading large artifact lgbm:v181, 229.75MB. 3 files... Done. 0:0:0\n",
      "\u001b[34m\u001b[1mwandb\u001b[0m: Downloading large artifact lgbm:v182, 233.66MB. 3 files... Done. 0:0:0\n",
      "\u001b[34m\u001b[1mwandb\u001b[0m: Downloading large artifact lgbm:v183, 242.98MB. 3 files... Done. 0:0:0\n",
      "100%|██████████| 500000/500000 [00:08<00:00, 60069.32it/s]\n"
     ]
    },
    {
     "name": "stdout",
     "output_type": "stream",
     "text": [
      "| \u001b[0m 42      \u001b[0m | \u001b[0m 0.6988  \u001b[0m | \u001b[0m 0.6257  \u001b[0m | \u001b[0m 0.1814  \u001b[0m | \u001b[0m 0.9045  \u001b[0m | \u001b[0m 0.6953  \u001b[0m | \u001b[0m 0.537   \u001b[0m | \u001b[0m 0.9431  \u001b[0m | \u001b[0m 0.1875  \u001b[0m | \u001b[0m 0.1691  \u001b[0m | \u001b[0m 0.7903  \u001b[0m | \u001b[0m 0.01195 \u001b[0m | \u001b[0m 0.3752  \u001b[0m |\n"
     ]
    },
    {
     "name": "stderr",
     "output_type": "stream",
     "text": [
      "\u001b[34m\u001b[1mwandb\u001b[0m: Downloading large artifact lgbm:v173, 207.28MB. 3 files... Done. 0:0:0\n",
      "\u001b[34m\u001b[1mwandb\u001b[0m: Downloading large artifact lgbm:v174, 207.34MB. 3 files... Done. 0:0:0\n",
      "\u001b[34m\u001b[1mwandb\u001b[0m: Downloading large artifact lgbm:v175, 270.75MB. 3 files... Done. 0:0:0\n",
      "\u001b[34m\u001b[1mwandb\u001b[0m: Downloading large artifact lgbm:v176, 206.91MB. 3 files... Done. 0:0:0\n",
      "\u001b[34m\u001b[1mwandb\u001b[0m: Downloading large artifact lgbm:v177, 270.71MB. 3 files... Done. 0:0:0\n",
      "\u001b[34m\u001b[1mwandb\u001b[0m: Downloading large artifact lgbm:v178, 213.93MB. 3 files... Done. 0:0:0\n",
      "\u001b[34m\u001b[1mwandb\u001b[0m: Downloading large artifact lgbm:v179, 268.22MB. 3 files... Done. 0:0:0\n",
      "\u001b[34m\u001b[1mwandb\u001b[0m: Downloading large artifact lgbm:v180, 233.63MB. 3 files... Done. 0:0:0\n",
      "\u001b[34m\u001b[1mwandb\u001b[0m: Downloading large artifact lgbm:v181, 229.75MB. 3 files... Done. 0:0:0\n",
      "\u001b[34m\u001b[1mwandb\u001b[0m: Downloading large artifact lgbm:v182, 233.66MB. 3 files... Done. 0:0:0\n",
      "\u001b[34m\u001b[1mwandb\u001b[0m: Downloading large artifact lgbm:v183, 242.98MB. 3 files... Done. 0:0:0\n",
      "100%|██████████| 500000/500000 [00:08<00:00, 59595.46it/s]\n"
     ]
    },
    {
     "name": "stdout",
     "output_type": "stream",
     "text": [
      "| \u001b[0m 43      \u001b[0m | \u001b[0m 0.6988  \u001b[0m | \u001b[0m 0.7882  \u001b[0m | \u001b[0m 0.0433  \u001b[0m | \u001b[0m 0.4636  \u001b[0m | \u001b[0m 0.6904  \u001b[0m | \u001b[0m 0.3184  \u001b[0m | \u001b[0m 0.6782  \u001b[0m | \u001b[0m 0.6194  \u001b[0m | \u001b[0m 0.7053  \u001b[0m | \u001b[0m 0.5999  \u001b[0m | \u001b[0m 0.5501  \u001b[0m | \u001b[0m 0.8497  \u001b[0m |\n"
     ]
    },
    {
     "name": "stderr",
     "output_type": "stream",
     "text": [
      "\u001b[34m\u001b[1mwandb\u001b[0m: Downloading large artifact lgbm:v173, 207.28MB. 3 files... Done. 0:0:0\n",
      "\u001b[34m\u001b[1mwandb\u001b[0m: Downloading large artifact lgbm:v174, 207.34MB. 3 files... Done. 0:0:0\n",
      "\u001b[34m\u001b[1mwandb\u001b[0m: Downloading large artifact lgbm:v175, 270.75MB. 3 files... Done. 0:0:0\n",
      "\u001b[34m\u001b[1mwandb\u001b[0m: Downloading large artifact lgbm:v176, 206.91MB. 3 files... Done. 0:0:0\n",
      "\u001b[34m\u001b[1mwandb\u001b[0m: Downloading large artifact lgbm:v177, 270.71MB. 3 files... Done. 0:0:0\n",
      "\u001b[34m\u001b[1mwandb\u001b[0m: Downloading large artifact lgbm:v178, 213.93MB. 3 files... Done. 0:0:0\n",
      "\u001b[34m\u001b[1mwandb\u001b[0m: Downloading large artifact lgbm:v179, 268.22MB. 3 files... Done. 0:0:0\n",
      "\u001b[34m\u001b[1mwandb\u001b[0m: Downloading large artifact lgbm:v180, 233.63MB. 3 files... Done. 0:0:0\n",
      "\u001b[34m\u001b[1mwandb\u001b[0m: Downloading large artifact lgbm:v181, 229.75MB. 3 files... Done. 0:0:0\n",
      "\u001b[34m\u001b[1mwandb\u001b[0m: Downloading large artifact lgbm:v182, 233.66MB. 3 files... Done. 0:0:0\n",
      "\u001b[34m\u001b[1mwandb\u001b[0m: Downloading large artifact lgbm:v183, 242.98MB. 3 files... Done. 0:0:0\n",
      "100%|██████████| 500000/500000 [00:08<00:00, 60154.45it/s]\n"
     ]
    },
    {
     "name": "stdout",
     "output_type": "stream",
     "text": [
      "| \u001b[0m 44      \u001b[0m | \u001b[0m 0.6989  \u001b[0m | \u001b[0m 0.2357  \u001b[0m | \u001b[0m 0.8793  \u001b[0m | \u001b[0m 0.5735  \u001b[0m | \u001b[0m 0.1211  \u001b[0m | \u001b[0m 0.7159  \u001b[0m | \u001b[0m 0.9085  \u001b[0m | \u001b[0m 0.5847  \u001b[0m | \u001b[0m 0.5438  \u001b[0m | \u001b[0m 0.7454  \u001b[0m | \u001b[0m 0.7499  \u001b[0m | \u001b[0m 0.9941  \u001b[0m |\n"
     ]
    },
    {
     "name": "stderr",
     "output_type": "stream",
     "text": [
      "\u001b[34m\u001b[1mwandb\u001b[0m: Downloading large artifact lgbm:v173, 207.28MB. 3 files... Done. 0:0:0\n",
      "\u001b[34m\u001b[1mwandb\u001b[0m: Downloading large artifact lgbm:v174, 207.34MB. 3 files... Done. 0:0:0\n",
      "\u001b[34m\u001b[1mwandb\u001b[0m: Downloading large artifact lgbm:v175, 270.75MB. 3 files... Done. 0:0:0\n",
      "\u001b[34m\u001b[1mwandb\u001b[0m: Downloading large artifact lgbm:v176, 206.91MB. 3 files... Done. 0:0:0\n",
      "\u001b[34m\u001b[1mwandb\u001b[0m: Downloading large artifact lgbm:v177, 270.71MB. 3 files... Done. 0:0:0\n",
      "\u001b[34m\u001b[1mwandb\u001b[0m: Downloading large artifact lgbm:v178, 213.93MB. 3 files... Done. 0:0:0\n",
      "\u001b[34m\u001b[1mwandb\u001b[0m: Downloading large artifact lgbm:v179, 268.22MB. 3 files... Done. 0:0:0\n",
      "\u001b[34m\u001b[1mwandb\u001b[0m: Downloading large artifact lgbm:v180, 233.63MB. 3 files... Done. 0:0:0\n",
      "\u001b[34m\u001b[1mwandb\u001b[0m: Downloading large artifact lgbm:v181, 229.75MB. 3 files... Done. 0:0:0\n",
      "\u001b[34m\u001b[1mwandb\u001b[0m: Downloading large artifact lgbm:v182, 233.66MB. 3 files... Done. 0:0:0\n",
      "\u001b[34m\u001b[1mwandb\u001b[0m: Downloading large artifact lgbm:v183, 242.98MB. 3 files... Done. 0:0:0\n",
      "100%|██████████| 500000/500000 [00:08<00:00, 59936.28it/s]\n"
     ]
    },
    {
     "name": "stdout",
     "output_type": "stream",
     "text": [
      "| \u001b[0m 45      \u001b[0m | \u001b[0m 0.6987  \u001b[0m | \u001b[0m 0.214   \u001b[0m | \u001b[0m 0.8715  \u001b[0m | \u001b[0m 0.4541  \u001b[0m | \u001b[0m 0.4423  \u001b[0m | \u001b[0m 0.04722 \u001b[0m | \u001b[0m 0.6784  \u001b[0m | \u001b[0m 0.6234  \u001b[0m | \u001b[0m 0.2636  \u001b[0m | \u001b[0m 0.68    \u001b[0m | \u001b[0m 0.5031  \u001b[0m | \u001b[0m 0.6311  \u001b[0m |\n"
     ]
    },
    {
     "name": "stderr",
     "output_type": "stream",
     "text": [
      "\u001b[34m\u001b[1mwandb\u001b[0m: Downloading large artifact lgbm:v173, 207.28MB. 3 files... Done. 0:0:0\n",
      "\u001b[34m\u001b[1mwandb\u001b[0m: Downloading large artifact lgbm:v174, 207.34MB. 3 files... Done. 0:0:0\n",
      "\u001b[34m\u001b[1mwandb\u001b[0m: Downloading large artifact lgbm:v175, 270.75MB. 3 files... Done. 0:0:0\n",
      "\u001b[34m\u001b[1mwandb\u001b[0m: Downloading large artifact lgbm:v176, 206.91MB. 3 files... Done. 0:0:0\n",
      "\u001b[34m\u001b[1mwandb\u001b[0m: Downloading large artifact lgbm:v177, 270.71MB. 3 files... Done. 0:0:0\n",
      "\u001b[34m\u001b[1mwandb\u001b[0m: Downloading large artifact lgbm:v178, 213.93MB. 3 files... Done. 0:0:0\n",
      "\u001b[34m\u001b[1mwandb\u001b[0m: Downloading large artifact lgbm:v179, 268.22MB. 3 files... Done. 0:0:0\n",
      "\u001b[34m\u001b[1mwandb\u001b[0m: Downloading large artifact lgbm:v180, 233.63MB. 3 files... Done. 0:0:0\n",
      "\u001b[34m\u001b[1mwandb\u001b[0m: Downloading large artifact lgbm:v181, 229.75MB. 3 files... Done. 0:0:0\n",
      "\u001b[34m\u001b[1mwandb\u001b[0m: Downloading large artifact lgbm:v182, 233.66MB. 3 files... Done. 0:0:0\n",
      "\u001b[34m\u001b[1mwandb\u001b[0m: Downloading large artifact lgbm:v183, 242.98MB. 3 files... Done. 0:0:0\n",
      "100%|██████████| 500000/500000 [00:08<00:00, 59062.52it/s]\n"
     ]
    },
    {
     "name": "stdout",
     "output_type": "stream",
     "text": [
      "| \u001b[0m 46      \u001b[0m | \u001b[0m 0.6987  \u001b[0m | \u001b[0m 0.2796  \u001b[0m | \u001b[0m 0.7269  \u001b[0m | \u001b[0m 0.2351  \u001b[0m | \u001b[0m 0.4109  \u001b[0m | \u001b[0m 0.1734  \u001b[0m | \u001b[0m 0.5852  \u001b[0m | \u001b[0m 0.8031  \u001b[0m | \u001b[0m 0.2325  \u001b[0m | \u001b[0m 0.9607  \u001b[0m | \u001b[0m 0.5035  \u001b[0m | \u001b[0m 0.2564  \u001b[0m |\n"
     ]
    },
    {
     "name": "stderr",
     "output_type": "stream",
     "text": [
      "\u001b[34m\u001b[1mwandb\u001b[0m: Downloading large artifact lgbm:v173, 207.28MB. 3 files... Done. 0:0:0\n",
      "\u001b[34m\u001b[1mwandb\u001b[0m: Downloading large artifact lgbm:v174, 207.34MB. 3 files... Done. 0:0:0\n",
      "\u001b[34m\u001b[1mwandb\u001b[0m: Downloading large artifact lgbm:v175, 270.75MB. 3 files... Done. 0:0:0\n",
      "\u001b[34m\u001b[1mwandb\u001b[0m: Downloading large artifact lgbm:v176, 206.91MB. 3 files... Done. 0:0:0\n",
      "\u001b[34m\u001b[1mwandb\u001b[0m: Downloading large artifact lgbm:v177, 270.71MB. 3 files... Done. 0:0:0\n",
      "\u001b[34m\u001b[1mwandb\u001b[0m: Downloading large artifact lgbm:v178, 213.93MB. 3 files... Done. 0:0:0\n",
      "\u001b[34m\u001b[1mwandb\u001b[0m: Downloading large artifact lgbm:v179, 268.22MB. 3 files... Done. 0:0:0\n",
      "\u001b[34m\u001b[1mwandb\u001b[0m: Downloading large artifact lgbm:v180, 233.63MB. 3 files... Done. 0:0:0\n",
      "\u001b[34m\u001b[1mwandb\u001b[0m: Downloading large artifact lgbm:v181, 229.75MB. 3 files... Done. 0:0:0\n",
      "\u001b[34m\u001b[1mwandb\u001b[0m: Downloading large artifact lgbm:v182, 233.66MB. 3 files... Done. 0:0:0\n",
      "\u001b[34m\u001b[1mwandb\u001b[0m: Downloading large artifact lgbm:v183, 242.98MB. 3 files... Done. 0:0:0\n",
      "100%|██████████| 500000/500000 [00:08<00:00, 59277.60it/s]\n"
     ]
    },
    {
     "name": "stdout",
     "output_type": "stream",
     "text": [
      "| \u001b[0m 47      \u001b[0m | \u001b[0m 0.6988  \u001b[0m | \u001b[0m 0.2051  \u001b[0m | \u001b[0m 0.9572  \u001b[0m | \u001b[0m 0.5048  \u001b[0m | \u001b[0m 0.7385  \u001b[0m | \u001b[0m 0.709   \u001b[0m | \u001b[0m 0.4952  \u001b[0m | \u001b[0m 0.3852  \u001b[0m | \u001b[0m 0.5154  \u001b[0m | \u001b[0m 0.1809  \u001b[0m | \u001b[0m 0.4666  \u001b[0m | \u001b[0m 0.5098  \u001b[0m |\n"
     ]
    },
    {
     "name": "stderr",
     "output_type": "stream",
     "text": [
      "\u001b[34m\u001b[1mwandb\u001b[0m: Downloading large artifact lgbm:v173, 207.28MB. 3 files... Done. 0:0:0\n",
      "\u001b[34m\u001b[1mwandb\u001b[0m: Downloading large artifact lgbm:v174, 207.34MB. 3 files... Done. 0:0:0\n",
      "\u001b[34m\u001b[1mwandb\u001b[0m: Downloading large artifact lgbm:v175, 270.75MB. 3 files... Done. 0:0:0\n",
      "\u001b[34m\u001b[1mwandb\u001b[0m: Downloading large artifact lgbm:v176, 206.91MB. 3 files... Done. 0:0:0\n",
      "\u001b[34m\u001b[1mwandb\u001b[0m: Downloading large artifact lgbm:v177, 270.71MB. 3 files... Done. 0:0:0\n",
      "\u001b[34m\u001b[1mwandb\u001b[0m: Downloading large artifact lgbm:v178, 213.93MB. 3 files... Done. 0:0:0\n",
      "\u001b[34m\u001b[1mwandb\u001b[0m: Downloading large artifact lgbm:v179, 268.22MB. 3 files... Done. 0:0:0\n",
      "\u001b[34m\u001b[1mwandb\u001b[0m: Downloading large artifact lgbm:v180, 233.63MB. 3 files... Done. 0:0:0\n",
      "\u001b[34m\u001b[1mwandb\u001b[0m: Downloading large artifact lgbm:v181, 229.75MB. 3 files... Done. 0:0:0\n",
      "\u001b[34m\u001b[1mwandb\u001b[0m: Downloading large artifact lgbm:v182, 233.66MB. 3 files... Done. 0:0:0\n",
      "\u001b[34m\u001b[1mwandb\u001b[0m: Downloading large artifact lgbm:v183, 242.98MB. 3 files... Done. 0:0:0\n",
      "100%|██████████| 500000/500000 [00:08<00:00, 60419.63it/s]\n"
     ]
    },
    {
     "name": "stdout",
     "output_type": "stream",
     "text": [
      "| \u001b[0m 48      \u001b[0m | \u001b[0m 0.6989  \u001b[0m | \u001b[0m 0.4453  \u001b[0m | \u001b[0m 0.1118  \u001b[0m | \u001b[0m 0.4287  \u001b[0m | \u001b[0m 0.2872  \u001b[0m | \u001b[0m 0.5137  \u001b[0m | \u001b[0m 0.7502  \u001b[0m | \u001b[0m 0.9079  \u001b[0m | \u001b[0m 0.7463  \u001b[0m | \u001b[0m 0.829   \u001b[0m | \u001b[0m 0.7972  \u001b[0m | \u001b[0m 0.04022 \u001b[0m |\n"
     ]
    },
    {
     "name": "stderr",
     "output_type": "stream",
     "text": [
      "\u001b[34m\u001b[1mwandb\u001b[0m: Downloading large artifact lgbm:v173, 207.28MB. 3 files... Done. 0:0:0\n",
      "\u001b[34m\u001b[1mwandb\u001b[0m: Downloading large artifact lgbm:v174, 207.34MB. 3 files... Done. 0:0:0\n",
      "\u001b[34m\u001b[1mwandb\u001b[0m: Downloading large artifact lgbm:v175, 270.75MB. 3 files... Done. 0:0:0\n",
      "\u001b[34m\u001b[1mwandb\u001b[0m: Downloading large artifact lgbm:v176, 206.91MB. 3 files... Done. 0:0:0\n",
      "\u001b[34m\u001b[1mwandb\u001b[0m: Downloading large artifact lgbm:v177, 270.71MB. 3 files... Done. 0:0:0\n",
      "\u001b[34m\u001b[1mwandb\u001b[0m: Downloading large artifact lgbm:v178, 213.93MB. 3 files... Done. 0:0:0\n",
      "\u001b[34m\u001b[1mwandb\u001b[0m: Downloading large artifact lgbm:v179, 268.22MB. 3 files... Done. 0:0:0\n",
      "\u001b[34m\u001b[1mwandb\u001b[0m: Downloading large artifact lgbm:v180, 233.63MB. 3 files... Done. 0:0:0\n",
      "\u001b[34m\u001b[1mwandb\u001b[0m: Downloading large artifact lgbm:v181, 229.75MB. 3 files... Done. 0:0:0\n",
      "\u001b[34m\u001b[1mwandb\u001b[0m: Downloading large artifact lgbm:v182, 233.66MB. 3 files... Done. 0:0:0\n",
      "\u001b[34m\u001b[1mwandb\u001b[0m: Downloading large artifact lgbm:v183, 242.98MB. 3 files... Done. 0:0:0\n",
      "100%|██████████| 500000/500000 [00:08<00:00, 59956.31it/s]\n"
     ]
    },
    {
     "name": "stdout",
     "output_type": "stream",
     "text": [
      "| \u001b[0m 49      \u001b[0m | \u001b[0m 0.699   \u001b[0m | \u001b[0m 0.7409  \u001b[0m | \u001b[0m 0.1003  \u001b[0m | \u001b[0m 0.3832  \u001b[0m | \u001b[0m 0.1006  \u001b[0m | \u001b[0m 0.849   \u001b[0m | \u001b[0m 0.5382  \u001b[0m | \u001b[0m 0.2349  \u001b[0m | \u001b[0m 0.2105  \u001b[0m | \u001b[0m 0.7937  \u001b[0m | \u001b[0m 0.1156  \u001b[0m | \u001b[0m 0.2904  \u001b[0m |\n"
     ]
    },
    {
     "name": "stderr",
     "output_type": "stream",
     "text": [
      "\u001b[34m\u001b[1mwandb\u001b[0m: Downloading large artifact lgbm:v173, 207.28MB. 3 files... Done. 0:0:0\n",
      "\u001b[34m\u001b[1mwandb\u001b[0m: Downloading large artifact lgbm:v174, 207.34MB. 3 files... Done. 0:0:0\n",
      "\u001b[34m\u001b[1mwandb\u001b[0m: Downloading large artifact lgbm:v175, 270.75MB. 3 files... Done. 0:0:0\n",
      "\u001b[34m\u001b[1mwandb\u001b[0m: Downloading large artifact lgbm:v176, 206.91MB. 3 files... Done. 0:0:0\n",
      "\u001b[34m\u001b[1mwandb\u001b[0m: Downloading large artifact lgbm:v177, 270.71MB. 3 files... Done. 0:0:0\n",
      "\u001b[34m\u001b[1mwandb\u001b[0m: Downloading large artifact lgbm:v178, 213.93MB. 3 files... Done. 0:0:0\n",
      "\u001b[34m\u001b[1mwandb\u001b[0m: Downloading large artifact lgbm:v179, 268.22MB. 3 files... Done. 0:0:0\n",
      "\u001b[34m\u001b[1mwandb\u001b[0m: Downloading large artifact lgbm:v180, 233.63MB. 3 files... Done. 0:0:0\n",
      "\u001b[34m\u001b[1mwandb\u001b[0m: Downloading large artifact lgbm:v181, 229.75MB. 3 files... Done. 0:0:0\n",
      "\u001b[34m\u001b[1mwandb\u001b[0m: Downloading large artifact lgbm:v182, 233.66MB. 3 files... Done. 0:0:0\n",
      "\u001b[34m\u001b[1mwandb\u001b[0m: Downloading large artifact lgbm:v183, 242.98MB. 3 files... Done. 0:0:0\n",
      "100%|██████████| 500000/500000 [00:08<00:00, 59274.76it/s]\n"
     ]
    },
    {
     "name": "stdout",
     "output_type": "stream",
     "text": [
      "| \u001b[0m 50      \u001b[0m | \u001b[0m 0.6989  \u001b[0m | \u001b[0m 0.2161  \u001b[0m | \u001b[0m 0.08771 \u001b[0m | \u001b[0m 0.9573  \u001b[0m | \u001b[0m 0.8204  \u001b[0m | \u001b[0m 0.8693  \u001b[0m | \u001b[0m 0.9852  \u001b[0m | \u001b[0m 0.1725  \u001b[0m | \u001b[0m 0.753   \u001b[0m | \u001b[0m 0.9393  \u001b[0m | \u001b[0m 0.4919  \u001b[0m | \u001b[0m 0.4581  \u001b[0m |\n"
     ]
    },
    {
     "name": "stderr",
     "output_type": "stream",
     "text": [
      "\u001b[34m\u001b[1mwandb\u001b[0m: Downloading large artifact lgbm:v173, 207.28MB. 3 files... Done. 0:0:0\n",
      "\u001b[34m\u001b[1mwandb\u001b[0m: Downloading large artifact lgbm:v174, 207.34MB. 3 files... Done. 0:0:0\n",
      "\u001b[34m\u001b[1mwandb\u001b[0m: Downloading large artifact lgbm:v175, 270.75MB. 3 files... Done. 0:0:0\n",
      "\u001b[34m\u001b[1mwandb\u001b[0m: Downloading large artifact lgbm:v176, 206.91MB. 3 files... Done. 0:0:0\n",
      "\u001b[34m\u001b[1mwandb\u001b[0m: Downloading large artifact lgbm:v177, 270.71MB. 3 files... Done. 0:0:0\n",
      "\u001b[34m\u001b[1mwandb\u001b[0m: Downloading large artifact lgbm:v178, 213.93MB. 3 files... Done. 0:0:0\n",
      "\u001b[34m\u001b[1mwandb\u001b[0m: Downloading large artifact lgbm:v179, 268.22MB. 3 files... Done. 0:0:0\n",
      "\u001b[34m\u001b[1mwandb\u001b[0m: Downloading large artifact lgbm:v180, 233.63MB. 3 files... Done. 0:0:0\n",
      "\u001b[34m\u001b[1mwandb\u001b[0m: Downloading large artifact lgbm:v181, 229.75MB. 3 files... Done. 0:0:0\n",
      "\u001b[34m\u001b[1mwandb\u001b[0m: Downloading large artifact lgbm:v182, 233.66MB. 3 files... Done. 0:0:0\n",
      "\u001b[34m\u001b[1mwandb\u001b[0m: Downloading large artifact lgbm:v183, 242.98MB. 3 files... Done. 0:0:0\n",
      "100%|██████████| 500000/500000 [00:08<00:00, 58430.22it/s]\n"
     ]
    },
    {
     "name": "stdout",
     "output_type": "stream",
     "text": [
      "| \u001b[95m 51      \u001b[0m | \u001b[95m 0.6994  \u001b[0m | \u001b[95m 0.0     \u001b[0m | \u001b[95m 0.0     \u001b[0m | \u001b[95m 0.0     \u001b[0m | \u001b[95m 0.0     \u001b[0m | \u001b[95m 1.0     \u001b[0m | \u001b[95m 1.0     \u001b[0m | \u001b[95m 0.3831  \u001b[0m | \u001b[95m 0.0     \u001b[0m | \u001b[95m 0.0     \u001b[0m | \u001b[95m 0.8051  \u001b[0m | \u001b[95m 0.3556  \u001b[0m |\n"
     ]
    },
    {
     "name": "stderr",
     "output_type": "stream",
     "text": [
      "\u001b[34m\u001b[1mwandb\u001b[0m: Downloading large artifact lgbm:v173, 207.28MB. 3 files... Done. 0:0:0\n",
      "\u001b[34m\u001b[1mwandb\u001b[0m: Downloading large artifact lgbm:v174, 207.34MB. 3 files... Done. 0:0:0\n",
      "\u001b[34m\u001b[1mwandb\u001b[0m: Downloading large artifact lgbm:v175, 270.75MB. 3 files... Done. 0:0:0\n",
      "\u001b[34m\u001b[1mwandb\u001b[0m: Downloading large artifact lgbm:v176, 206.91MB. 3 files... Done. 0:0:0\n",
      "\u001b[34m\u001b[1mwandb\u001b[0m: Downloading large artifact lgbm:v177, 270.71MB. 3 files... Done. 0:0:0\n",
      "\u001b[34m\u001b[1mwandb\u001b[0m: Downloading large artifact lgbm:v178, 213.93MB. 3 files... Done. 0:0:0\n",
      "\u001b[34m\u001b[1mwandb\u001b[0m: Downloading large artifact lgbm:v179, 268.22MB. 3 files... Done. 0:0:0\n",
      "\u001b[34m\u001b[1mwandb\u001b[0m: Downloading large artifact lgbm:v180, 233.63MB. 3 files... Done. 0:0:0\n",
      "\u001b[34m\u001b[1mwandb\u001b[0m: Downloading large artifact lgbm:v181, 229.75MB. 3 files... Done. 0:0:0\n",
      "\u001b[34m\u001b[1mwandb\u001b[0m: Downloading large artifact lgbm:v182, 233.66MB. 3 files... Done. 0:0:0\n",
      "\u001b[34m\u001b[1mwandb\u001b[0m: Downloading large artifact lgbm:v183, 242.98MB. 3 files... Done. 0:0:0\n",
      "100%|██████████| 500000/500000 [00:08<00:00, 59772.40it/s]\n"
     ]
    },
    {
     "name": "stdout",
     "output_type": "stream",
     "text": [
      "| \u001b[0m 52      \u001b[0m | \u001b[0m 0.6993  \u001b[0m | \u001b[0m 0.0     \u001b[0m | \u001b[0m 0.0     \u001b[0m | \u001b[0m 0.0     \u001b[0m | \u001b[0m 0.0     \u001b[0m | \u001b[0m 1.0     \u001b[0m | \u001b[0m 1.0     \u001b[0m | \u001b[0m 0.0     \u001b[0m | \u001b[0m 0.0     \u001b[0m | \u001b[0m 0.0     \u001b[0m | \u001b[0m 1.0     \u001b[0m | \u001b[0m 0.0     \u001b[0m |\n"
     ]
    },
    {
     "name": "stderr",
     "output_type": "stream",
     "text": [
      "\u001b[34m\u001b[1mwandb\u001b[0m: Downloading large artifact lgbm:v173, 207.28MB. 3 files... Done. 0:0:0\n",
      "\u001b[34m\u001b[1mwandb\u001b[0m: Downloading large artifact lgbm:v174, 207.34MB. 3 files... Done. 0:0:0\n",
      "\u001b[34m\u001b[1mwandb\u001b[0m: Downloading large artifact lgbm:v175, 270.75MB. 3 files... Done. 0:0:0\n",
      "\u001b[34m\u001b[1mwandb\u001b[0m: Downloading large artifact lgbm:v176, 206.91MB. 3 files... Done. 0:0:0\n",
      "\u001b[34m\u001b[1mwandb\u001b[0m: Downloading large artifact lgbm:v177, 270.71MB. 3 files... Done. 0:0:0\n",
      "\u001b[34m\u001b[1mwandb\u001b[0m: Downloading large artifact lgbm:v178, 213.93MB. 3 files... Done. 0:0:0\n",
      "\u001b[34m\u001b[1mwandb\u001b[0m: Downloading large artifact lgbm:v179, 268.22MB. 3 files... Done. 0:0:0\n",
      "\u001b[34m\u001b[1mwandb\u001b[0m: Downloading large artifact lgbm:v180, 233.63MB. 3 files... Done. 0:0:0\n",
      "\u001b[34m\u001b[1mwandb\u001b[0m: Downloading large artifact lgbm:v181, 229.75MB. 3 files... Done. 0:0:0\n",
      "\u001b[34m\u001b[1mwandb\u001b[0m: Downloading large artifact lgbm:v182, 233.66MB. 3 files... Done. 0:0:0\n",
      "\u001b[34m\u001b[1mwandb\u001b[0m: Downloading large artifact lgbm:v183, 242.98MB. 3 files... Done. 0:0:0\n",
      "100%|██████████| 500000/500000 [00:08<00:00, 59812.42it/s]\n"
     ]
    },
    {
     "name": "stdout",
     "output_type": "stream",
     "text": [
      "| \u001b[0m 53      \u001b[0m | \u001b[0m 0.6994  \u001b[0m | \u001b[0m 0.0     \u001b[0m | \u001b[0m 0.0     \u001b[0m | \u001b[0m 0.0     \u001b[0m | \u001b[0m 0.0     \u001b[0m | \u001b[0m 1.0     \u001b[0m | \u001b[0m 1.0     \u001b[0m | \u001b[0m 0.9665  \u001b[0m | \u001b[0m 0.0     \u001b[0m | \u001b[0m 0.0     \u001b[0m | \u001b[0m 1.0     \u001b[0m | \u001b[0m 0.2583  \u001b[0m |\n"
     ]
    },
    {
     "name": "stderr",
     "output_type": "stream",
     "text": [
      "\u001b[34m\u001b[1mwandb\u001b[0m: Downloading large artifact lgbm:v173, 207.28MB. 3 files... Done. 0:0:0\n",
      "\u001b[34m\u001b[1mwandb\u001b[0m: Downloading large artifact lgbm:v174, 207.34MB. 3 files... Done. 0:0:0\n",
      "\u001b[34m\u001b[1mwandb\u001b[0m: Downloading large artifact lgbm:v175, 270.75MB. 3 files... Done. 0:0:0\n",
      "\u001b[34m\u001b[1mwandb\u001b[0m: Downloading large artifact lgbm:v176, 206.91MB. 3 files... Done. 0:0:0\n",
      "\u001b[34m\u001b[1mwandb\u001b[0m: Downloading large artifact lgbm:v177, 270.71MB. 3 files... Done. 0:0:0\n",
      "\u001b[34m\u001b[1mwandb\u001b[0m: Downloading large artifact lgbm:v178, 213.93MB. 3 files... Done. 0:0:0\n",
      "\u001b[34m\u001b[1mwandb\u001b[0m: Downloading large artifact lgbm:v179, 268.22MB. 3 files... Done. 0:0:0\n",
      "\u001b[34m\u001b[1mwandb\u001b[0m: Downloading large artifact lgbm:v180, 233.63MB. 3 files... Done. 0:0:0\n",
      "\u001b[34m\u001b[1mwandb\u001b[0m: Downloading large artifact lgbm:v181, 229.75MB. 3 files... Done. 0:0:0\n",
      "\u001b[34m\u001b[1mwandb\u001b[0m: Downloading large artifact lgbm:v182, 233.66MB. 3 files... Done. 0:0:0\n",
      "\u001b[34m\u001b[1mwandb\u001b[0m: Downloading large artifact lgbm:v183, 242.98MB. 3 files... Done. 0:0:0\n",
      "100%|██████████| 500000/500000 [00:08<00:00, 59740.34it/s]\n"
     ]
    },
    {
     "name": "stdout",
     "output_type": "stream",
     "text": [
      "| \u001b[0m 54      \u001b[0m | \u001b[0m 0.6994  \u001b[0m | \u001b[0m 0.0     \u001b[0m | \u001b[0m 0.0     \u001b[0m | \u001b[0m 0.0     \u001b[0m | \u001b[0m 0.0     \u001b[0m | \u001b[0m 1.0     \u001b[0m | \u001b[0m 1.0     \u001b[0m | \u001b[0m 0.4219  \u001b[0m | \u001b[0m 0.0     \u001b[0m | \u001b[0m 0.0     \u001b[0m | \u001b[0m 1.0     \u001b[0m | \u001b[0m 1.0     \u001b[0m |\n"
     ]
    },
    {
     "name": "stderr",
     "output_type": "stream",
     "text": [
      "\u001b[34m\u001b[1mwandb\u001b[0m: Downloading large artifact lgbm:v173, 207.28MB. 3 files... Done. 0:0:0\n",
      "\u001b[34m\u001b[1mwandb\u001b[0m: Downloading large artifact lgbm:v174, 207.34MB. 3 files... Done. 0:0:0\n",
      "\u001b[34m\u001b[1mwandb\u001b[0m: Downloading large artifact lgbm:v175, 270.75MB. 3 files... Done. 0:0:0\n",
      "\u001b[34m\u001b[1mwandb\u001b[0m: Downloading large artifact lgbm:v176, 206.91MB. 3 files... Done. 0:0:0\n",
      "\u001b[34m\u001b[1mwandb\u001b[0m: Downloading large artifact lgbm:v177, 270.71MB. 3 files... Done. 0:0:0\n",
      "\u001b[34m\u001b[1mwandb\u001b[0m: Downloading large artifact lgbm:v178, 213.93MB. 3 files... Done. 0:0:0\n",
      "\u001b[34m\u001b[1mwandb\u001b[0m: Downloading large artifact lgbm:v179, 268.22MB. 3 files... Done. 0:0:0\n",
      "\u001b[34m\u001b[1mwandb\u001b[0m: Downloading large artifact lgbm:v180, 233.63MB. 3 files... Done. 0:0:0\n",
      "\u001b[34m\u001b[1mwandb\u001b[0m: Downloading large artifact lgbm:v181, 229.75MB. 3 files... Done. 0:0:0\n",
      "\u001b[34m\u001b[1mwandb\u001b[0m: Downloading large artifact lgbm:v182, 233.66MB. 3 files... Done. 0:0:0\n",
      "\u001b[34m\u001b[1mwandb\u001b[0m: Downloading large artifact lgbm:v183, 242.98MB. 3 files... Done. 0:0:0\n",
      "100%|██████████| 500000/500000 [00:08<00:00, 59984.63it/s]\n"
     ]
    },
    {
     "name": "stdout",
     "output_type": "stream",
     "text": [
      "| \u001b[0m 55      \u001b[0m | \u001b[0m 0.6994  \u001b[0m | \u001b[0m 0.0     \u001b[0m | \u001b[0m 0.0     \u001b[0m | \u001b[0m 0.0     \u001b[0m | \u001b[0m 0.0     \u001b[0m | \u001b[0m 1.0     \u001b[0m | \u001b[0m 1.0     \u001b[0m | \u001b[0m 0.5517  \u001b[0m | \u001b[0m 0.0     \u001b[0m | \u001b[0m 0.0     \u001b[0m | \u001b[0m 0.3682  \u001b[0m | \u001b[0m 0.7216  \u001b[0m |\n"
     ]
    },
    {
     "name": "stderr",
     "output_type": "stream",
     "text": [
      "\u001b[34m\u001b[1mwandb\u001b[0m: Downloading large artifact lgbm:v173, 207.28MB. 3 files... Done. 0:0:0\n",
      "\u001b[34m\u001b[1mwandb\u001b[0m: Downloading large artifact lgbm:v174, 207.34MB. 3 files... Done. 0:0:0\n",
      "\u001b[34m\u001b[1mwandb\u001b[0m: Downloading large artifact lgbm:v175, 270.75MB. 3 files... Done. 0:0:0\n",
      "\u001b[34m\u001b[1mwandb\u001b[0m: Downloading large artifact lgbm:v176, 206.91MB. 3 files... Done. 0:0:0\n",
      "\u001b[34m\u001b[1mwandb\u001b[0m: Downloading large artifact lgbm:v177, 270.71MB. 3 files... Done. 0:0:0\n",
      "\u001b[34m\u001b[1mwandb\u001b[0m: Downloading large artifact lgbm:v178, 213.93MB. 3 files... Done. 0:0:0\n",
      "\u001b[34m\u001b[1mwandb\u001b[0m: Downloading large artifact lgbm:v179, 268.22MB. 3 files... Done. 0:0:0\n",
      "\u001b[34m\u001b[1mwandb\u001b[0m: Downloading large artifact lgbm:v180, 233.63MB. 3 files... Done. 0:0:0\n",
      "\u001b[34m\u001b[1mwandb\u001b[0m: Downloading large artifact lgbm:v181, 229.75MB. 3 files... Done. 0:0:0\n",
      "\u001b[34m\u001b[1mwandb\u001b[0m: Downloading large artifact lgbm:v182, 233.66MB. 3 files... Done. 0:0:0\n",
      "\u001b[34m\u001b[1mwandb\u001b[0m: Downloading large artifact lgbm:v183, 242.98MB. 3 files... Done. 0:0:0\n",
      "100%|██████████| 500000/500000 [00:08<00:00, 58843.98it/s]\n"
     ]
    },
    {
     "name": "stdout",
     "output_type": "stream",
     "text": [
      "| \u001b[0m 56      \u001b[0m | \u001b[0m 0.6993  \u001b[0m | \u001b[0m 0.0     \u001b[0m | \u001b[0m 0.0     \u001b[0m | \u001b[0m 0.0     \u001b[0m | \u001b[0m 0.3282  \u001b[0m | \u001b[0m 1.0     \u001b[0m | \u001b[0m 1.0     \u001b[0m | \u001b[0m 0.4532  \u001b[0m | \u001b[0m 0.0     \u001b[0m | \u001b[0m 0.0     \u001b[0m | \u001b[0m 0.9458  \u001b[0m | \u001b[0m 0.5001  \u001b[0m |\n"
     ]
    },
    {
     "name": "stderr",
     "output_type": "stream",
     "text": [
      "\u001b[34m\u001b[1mwandb\u001b[0m: Downloading large artifact lgbm:v173, 207.28MB. 3 files... Done. 0:0:0\n",
      "\u001b[34m\u001b[1mwandb\u001b[0m: Downloading large artifact lgbm:v174, 207.34MB. 3 files... Done. 0:0:0\n",
      "\u001b[34m\u001b[1mwandb\u001b[0m: Downloading large artifact lgbm:v175, 270.75MB. 3 files... Done. 0:0:0\n",
      "\u001b[34m\u001b[1mwandb\u001b[0m: Downloading large artifact lgbm:v176, 206.91MB. 3 files... Done. 0:0:0\n",
      "\u001b[34m\u001b[1mwandb\u001b[0m: Downloading large artifact lgbm:v177, 270.71MB. 3 files... Done. 0:0:0\n",
      "\u001b[34m\u001b[1mwandb\u001b[0m: Downloading large artifact lgbm:v178, 213.93MB. 3 files... Done. 0:0:0\n",
      "\u001b[34m\u001b[1mwandb\u001b[0m: Downloading large artifact lgbm:v179, 268.22MB. 3 files... Done. 0:0:0\n",
      "\u001b[34m\u001b[1mwandb\u001b[0m: Downloading large artifact lgbm:v180, 233.63MB. 3 files... Done. 0:0:0\n",
      "\u001b[34m\u001b[1mwandb\u001b[0m: Downloading large artifact lgbm:v181, 229.75MB. 3 files... Done. 0:0:0\n",
      "\u001b[34m\u001b[1mwandb\u001b[0m: Downloading large artifact lgbm:v182, 233.66MB. 3 files... Done. 0:0:0\n",
      "\u001b[34m\u001b[1mwandb\u001b[0m: Downloading large artifact lgbm:v183, 242.98MB. 3 files... Done. 0:0:0\n",
      "100%|██████████| 500000/500000 [00:08<00:00, 59571.74it/s]\n"
     ]
    },
    {
     "name": "stdout",
     "output_type": "stream",
     "text": [
      "| \u001b[95m 57      \u001b[0m | \u001b[95m 0.6994  \u001b[0m | \u001b[95m 0.0     \u001b[0m | \u001b[95m 0.0     \u001b[0m | \u001b[95m 0.0     \u001b[0m | \u001b[95m 0.0     \u001b[0m | \u001b[95m 1.0     \u001b[0m | \u001b[95m 1.0     \u001b[0m | \u001b[95m 0.0     \u001b[0m | \u001b[95m 0.0     \u001b[0m | \u001b[95m 0.0     \u001b[0m | \u001b[95m 0.6709  \u001b[0m | \u001b[95m 0.6828  \u001b[0m |\n"
     ]
    },
    {
     "name": "stderr",
     "output_type": "stream",
     "text": [
      "\u001b[34m\u001b[1mwandb\u001b[0m: Downloading large artifact lgbm:v173, 207.28MB. 3 files... Done. 0:0:0\n",
      "\u001b[34m\u001b[1mwandb\u001b[0m: Downloading large artifact lgbm:v174, 207.34MB. 3 files... Done. 0:0:0\n",
      "\u001b[34m\u001b[1mwandb\u001b[0m: Downloading large artifact lgbm:v175, 270.75MB. 3 files... Done. 0:0:0\n",
      "\u001b[34m\u001b[1mwandb\u001b[0m: Downloading large artifact lgbm:v176, 206.91MB. 3 files... Done. 0:0:0\n",
      "\u001b[34m\u001b[1mwandb\u001b[0m: Downloading large artifact lgbm:v177, 270.71MB. 3 files... Done. 0:0:0\n",
      "\u001b[34m\u001b[1mwandb\u001b[0m: Downloading large artifact lgbm:v178, 213.93MB. 3 files... Done. 0:0:0\n",
      "\u001b[34m\u001b[1mwandb\u001b[0m: Downloading large artifact lgbm:v179, 268.22MB. 3 files... Done. 0:0:0\n",
      "\u001b[34m\u001b[1mwandb\u001b[0m: Downloading large artifact lgbm:v180, 233.63MB. 3 files... Done. 0:0:0\n",
      "\u001b[34m\u001b[1mwandb\u001b[0m: Downloading large artifact lgbm:v181, 229.75MB. 3 files... Done. 0:0:0\n",
      "\u001b[34m\u001b[1mwandb\u001b[0m: Downloading large artifact lgbm:v182, 233.66MB. 3 files... Done. 0:0:0\n",
      "\u001b[34m\u001b[1mwandb\u001b[0m: Downloading large artifact lgbm:v183, 242.98MB. 3 files... Done. 0:0:0\n",
      "100%|██████████| 500000/500000 [00:08<00:00, 60233.10it/s]\n"
     ]
    },
    {
     "name": "stdout",
     "output_type": "stream",
     "text": [
      "| \u001b[0m 58      \u001b[0m | \u001b[0m 0.6993  \u001b[0m | \u001b[0m 0.0     \u001b[0m | \u001b[0m 0.0     \u001b[0m | \u001b[0m 0.0     \u001b[0m | \u001b[0m 0.0     \u001b[0m | \u001b[0m 1.0     \u001b[0m | \u001b[0m 1.0     \u001b[0m | \u001b[0m 0.0     \u001b[0m | \u001b[0m 0.352   \u001b[0m | \u001b[0m 0.0     \u001b[0m | \u001b[0m 0.6306  \u001b[0m | \u001b[0m 0.6575  \u001b[0m |\n"
     ]
    },
    {
     "name": "stderr",
     "output_type": "stream",
     "text": [
      "\u001b[34m\u001b[1mwandb\u001b[0m: Downloading large artifact lgbm:v173, 207.28MB. 3 files... Done. 0:0:0\n",
      "\u001b[34m\u001b[1mwandb\u001b[0m: Downloading large artifact lgbm:v174, 207.34MB. 3 files... Done. 0:0:0\n",
      "\u001b[34m\u001b[1mwandb\u001b[0m: Downloading large artifact lgbm:v175, 270.75MB. 3 files... Done. 0:0:0\n",
      "\u001b[34m\u001b[1mwandb\u001b[0m: Downloading large artifact lgbm:v176, 206.91MB. 3 files... Done. 0:0:0\n",
      "\u001b[34m\u001b[1mwandb\u001b[0m: Downloading large artifact lgbm:v177, 270.71MB. 3 files... Done. 0:0:0\n",
      "\u001b[34m\u001b[1mwandb\u001b[0m: Downloading large artifact lgbm:v178, 213.93MB. 3 files... Done. 0:0:0\n",
      "\u001b[34m\u001b[1mwandb\u001b[0m: Downloading large artifact lgbm:v179, 268.22MB. 3 files... Done. 0:0:0\n",
      "\u001b[34m\u001b[1mwandb\u001b[0m: Downloading large artifact lgbm:v180, 233.63MB. 3 files... Done. 0:0:0\n",
      "\u001b[34m\u001b[1mwandb\u001b[0m: Downloading large artifact lgbm:v181, 229.75MB. 3 files... Done. 0:0:0\n",
      "\u001b[34m\u001b[1mwandb\u001b[0m: Downloading large artifact lgbm:v182, 233.66MB. 3 files... Done. 0:0:0\n",
      "\u001b[34m\u001b[1mwandb\u001b[0m: Downloading large artifact lgbm:v183, 242.98MB. 3 files... Done. 0:0:0\n",
      "100%|██████████| 500000/500000 [00:08<00:00, 60582.26it/s]\n"
     ]
    },
    {
     "name": "stdout",
     "output_type": "stream",
     "text": [
      "| \u001b[0m 59      \u001b[0m | \u001b[0m 0.6994  \u001b[0m | \u001b[0m 0.0     \u001b[0m | \u001b[0m 0.0     \u001b[0m | \u001b[0m 0.0     \u001b[0m | \u001b[0m 0.0     \u001b[0m | \u001b[0m 1.0     \u001b[0m | \u001b[0m 1.0     \u001b[0m | \u001b[0m 0.0     \u001b[0m | \u001b[0m 0.0     \u001b[0m | \u001b[0m 0.3851  \u001b[0m | \u001b[0m 0.7259  \u001b[0m | \u001b[0m 0.7278  \u001b[0m |\n"
     ]
    },
    {
     "name": "stderr",
     "output_type": "stream",
     "text": [
      "\u001b[34m\u001b[1mwandb\u001b[0m: Downloading large artifact lgbm:v173, 207.28MB. 3 files... Done. 0:0:0\n",
      "\u001b[34m\u001b[1mwandb\u001b[0m: Downloading large artifact lgbm:v174, 207.34MB. 3 files... Done. 0:0:0\n",
      "\u001b[34m\u001b[1mwandb\u001b[0m: Downloading large artifact lgbm:v175, 270.75MB. 3 files... Done. 0:0:0\n",
      "\u001b[34m\u001b[1mwandb\u001b[0m: Downloading large artifact lgbm:v176, 206.91MB. 3 files... Done. 0:0:0\n",
      "\u001b[34m\u001b[1mwandb\u001b[0m: Downloading large artifact lgbm:v177, 270.71MB. 3 files... Done. 0:0:0\n",
      "\u001b[34m\u001b[1mwandb\u001b[0m: Downloading large artifact lgbm:v178, 213.93MB. 3 files... Done. 0:0:0\n",
      "\u001b[34m\u001b[1mwandb\u001b[0m: Downloading large artifact lgbm:v179, 268.22MB. 3 files... Done. 0:0:0\n",
      "\u001b[34m\u001b[1mwandb\u001b[0m: Downloading large artifact lgbm:v180, 233.63MB. 3 files... Done. 0:0:0\n",
      "\u001b[34m\u001b[1mwandb\u001b[0m: Downloading large artifact lgbm:v181, 229.75MB. 3 files... Done. 0:0:0\n",
      "\u001b[34m\u001b[1mwandb\u001b[0m: Downloading large artifact lgbm:v182, 233.66MB. 3 files... Done. 0:0:0\n",
      "\u001b[34m\u001b[1mwandb\u001b[0m: Downloading large artifact lgbm:v183, 242.98MB. 3 files... Done. 0:0:0\n",
      "100%|██████████| 500000/500000 [00:08<00:00, 60475.17it/s]\n"
     ]
    },
    {
     "name": "stdout",
     "output_type": "stream",
     "text": [
      "| \u001b[0m 60      \u001b[0m | \u001b[0m 0.6993  \u001b[0m | \u001b[0m 0.0     \u001b[0m | \u001b[0m 0.0     \u001b[0m | \u001b[0m 0.4062  \u001b[0m | \u001b[0m 0.0     \u001b[0m | \u001b[0m 1.0     \u001b[0m | \u001b[0m 1.0     \u001b[0m | \u001b[0m 0.0     \u001b[0m | \u001b[0m 0.0     \u001b[0m | \u001b[0m 0.0     \u001b[0m | \u001b[0m 0.6605  \u001b[0m | \u001b[0m 0.6823  \u001b[0m |\n"
     ]
    },
    {
     "name": "stderr",
     "output_type": "stream",
     "text": [
      "\u001b[34m\u001b[1mwandb\u001b[0m: Downloading large artifact lgbm:v173, 207.28MB. 3 files... Done. 0:0:0\n",
      "\u001b[34m\u001b[1mwandb\u001b[0m: Downloading large artifact lgbm:v174, 207.34MB. 3 files... Done. 0:0:0\n",
      "\u001b[34m\u001b[1mwandb\u001b[0m: Downloading large artifact lgbm:v175, 270.75MB. 3 files... Done. 0:0:0\n",
      "\u001b[34m\u001b[1mwandb\u001b[0m: Downloading large artifact lgbm:v176, 206.91MB. 3 files... Done. 0:0:0\n",
      "\u001b[34m\u001b[1mwandb\u001b[0m: Downloading large artifact lgbm:v177, 270.71MB. 3 files... Done. 0:0:0\n",
      "\u001b[34m\u001b[1mwandb\u001b[0m: Downloading large artifact lgbm:v178, 213.93MB. 3 files... Done. 0:0:0\n",
      "\u001b[34m\u001b[1mwandb\u001b[0m: Downloading large artifact lgbm:v179, 268.22MB. 3 files... Done. 0:0:0\n",
      "\u001b[34m\u001b[1mwandb\u001b[0m: Downloading large artifact lgbm:v180, 233.63MB. 3 files... Done. 0:0:0\n",
      "\u001b[34m\u001b[1mwandb\u001b[0m: Downloading large artifact lgbm:v181, 229.75MB. 3 files... Done. 0:0:0\n",
      "\u001b[34m\u001b[1mwandb\u001b[0m: Downloading large artifact lgbm:v182, 233.66MB. 3 files... Done. 0:0:0\n",
      "\u001b[34m\u001b[1mwandb\u001b[0m: Downloading large artifact lgbm:v183, 242.98MB. 3 files... Done. 0:0:0\n",
      "100%|██████████| 500000/500000 [00:08<00:00, 59398.48it/s]\n"
     ]
    },
    {
     "name": "stdout",
     "output_type": "stream",
     "text": [
      "| \u001b[0m 61      \u001b[0m | \u001b[0m 0.6994  \u001b[0m | \u001b[0m 0.0     \u001b[0m | \u001b[0m 0.0     \u001b[0m | \u001b[0m 0.0     \u001b[0m | \u001b[0m 0.0     \u001b[0m | \u001b[0m 1.0     \u001b[0m | \u001b[0m 1.0     \u001b[0m | \u001b[0m 0.0     \u001b[0m | \u001b[0m 0.0     \u001b[0m | \u001b[0m 0.0     \u001b[0m | \u001b[0m 0.1964  \u001b[0m | \u001b[0m 0.2921  \u001b[0m |\n"
     ]
    },
    {
     "name": "stderr",
     "output_type": "stream",
     "text": [
      "\u001b[34m\u001b[1mwandb\u001b[0m: Downloading large artifact lgbm:v173, 207.28MB. 3 files... Done. 0:0:0\n",
      "\u001b[34m\u001b[1mwandb\u001b[0m: Downloading large artifact lgbm:v174, 207.34MB. 3 files... Done. 0:0:0\n",
      "\u001b[34m\u001b[1mwandb\u001b[0m: Downloading large artifact lgbm:v175, 270.75MB. 3 files... Done. 0:0:0\n",
      "\u001b[34m\u001b[1mwandb\u001b[0m: Downloading large artifact lgbm:v176, 206.91MB. 3 files... Done. 0:0:0\n",
      "\u001b[34m\u001b[1mwandb\u001b[0m: Downloading large artifact lgbm:v177, 270.71MB. 3 files... Done. 0:0:0\n",
      "\u001b[34m\u001b[1mwandb\u001b[0m: Downloading large artifact lgbm:v178, 213.93MB. 3 files... Done. 0:0:0\n",
      "\u001b[34m\u001b[1mwandb\u001b[0m: Downloading large artifact lgbm:v179, 268.22MB. 3 files... Done. 0:0:0\n",
      "\u001b[34m\u001b[1mwandb\u001b[0m: Downloading large artifact lgbm:v180, 233.63MB. 3 files... Done. 0:0:0\n",
      "\u001b[34m\u001b[1mwandb\u001b[0m: Downloading large artifact lgbm:v181, 229.75MB. 3 files... Done. 0:0:0\n",
      "\u001b[34m\u001b[1mwandb\u001b[0m: Downloading large artifact lgbm:v182, 233.66MB. 3 files... Done. 0:0:0\n",
      "\u001b[34m\u001b[1mwandb\u001b[0m: Downloading large artifact lgbm:v183, 242.98MB. 3 files... Done. 0:0:0\n",
      "100%|██████████| 500000/500000 [00:08<00:00, 59676.42it/s]\n"
     ]
    },
    {
     "name": "stdout",
     "output_type": "stream",
     "text": [
      "| \u001b[0m 62      \u001b[0m | \u001b[0m 0.6994  \u001b[0m | \u001b[0m 0.0     \u001b[0m | \u001b[0m 0.0     \u001b[0m | \u001b[0m 0.0     \u001b[0m | \u001b[0m 0.0     \u001b[0m | \u001b[0m 1.0     \u001b[0m | \u001b[0m 1.0     \u001b[0m | \u001b[0m 0.0     \u001b[0m | \u001b[0m 0.0     \u001b[0m | \u001b[0m 0.0     \u001b[0m | \u001b[0m 0.5569  \u001b[0m | \u001b[0m 1.0     \u001b[0m |\n"
     ]
    },
    {
     "name": "stderr",
     "output_type": "stream",
     "text": [
      "\u001b[34m\u001b[1mwandb\u001b[0m: Downloading large artifact lgbm:v173, 207.28MB. 3 files... Done. 0:0:0\n",
      "\u001b[34m\u001b[1mwandb\u001b[0m: Downloading large artifact lgbm:v174, 207.34MB. 3 files... Done. 0:0:0\n",
      "\u001b[34m\u001b[1mwandb\u001b[0m: Downloading large artifact lgbm:v175, 270.75MB. 3 files... Done. 0:0:0\n",
      "\u001b[34m\u001b[1mwandb\u001b[0m: Downloading large artifact lgbm:v176, 206.91MB. 3 files... Done. 0:0:0\n",
      "\u001b[34m\u001b[1mwandb\u001b[0m: Downloading large artifact lgbm:v177, 270.71MB. 3 files... Done. 0:0:0\n",
      "\u001b[34m\u001b[1mwandb\u001b[0m: Downloading large artifact lgbm:v178, 213.93MB. 3 files... Done. 0:0:0\n",
      "\u001b[34m\u001b[1mwandb\u001b[0m: Downloading large artifact lgbm:v179, 268.22MB. 3 files... Done. 0:0:0\n",
      "\u001b[34m\u001b[1mwandb\u001b[0m: Downloading large artifact lgbm:v180, 233.63MB. 3 files... Done. 0:0:0\n",
      "\u001b[34m\u001b[1mwandb\u001b[0m: Downloading large artifact lgbm:v181, 229.75MB. 3 files... Done. 0:0:0\n",
      "\u001b[34m\u001b[1mwandb\u001b[0m: Downloading large artifact lgbm:v182, 233.66MB. 3 files... Done. 0:0:0\n",
      "\u001b[34m\u001b[1mwandb\u001b[0m: Downloading large artifact lgbm:v183, 242.98MB. 3 files... Done. 0:0:0\n",
      "100%|██████████| 500000/500000 [00:08<00:00, 59635.50it/s]\n"
     ]
    },
    {
     "name": "stdout",
     "output_type": "stream",
     "text": [
      "| \u001b[0m 63      \u001b[0m | \u001b[0m 0.6994  \u001b[0m | \u001b[0m 0.2973  \u001b[0m | \u001b[0m 0.0     \u001b[0m | \u001b[0m 0.0     \u001b[0m | \u001b[0m 0.0     \u001b[0m | \u001b[0m 1.0     \u001b[0m | \u001b[0m 1.0     \u001b[0m | \u001b[0m 0.0     \u001b[0m | \u001b[0m 0.0     \u001b[0m | \u001b[0m 0.0     \u001b[0m | \u001b[0m 0.6673  \u001b[0m | \u001b[0m 0.8306  \u001b[0m |\n"
     ]
    },
    {
     "name": "stderr",
     "output_type": "stream",
     "text": [
      "\u001b[34m\u001b[1mwandb\u001b[0m: Downloading large artifact lgbm:v173, 207.28MB. 3 files... Done. 0:0:0\n",
      "\u001b[34m\u001b[1mwandb\u001b[0m: Downloading large artifact lgbm:v174, 207.34MB. 3 files... Done. 0:0:0\n",
      "\u001b[34m\u001b[1mwandb\u001b[0m: Downloading large artifact lgbm:v175, 270.75MB. 3 files... Done. 0:0:0\n",
      "\u001b[34m\u001b[1mwandb\u001b[0m: Downloading large artifact lgbm:v176, 206.91MB. 3 files... Done. 0:0:0\n",
      "\u001b[34m\u001b[1mwandb\u001b[0m: Downloading large artifact lgbm:v177, 270.71MB. 3 files... Done. 0:0:0\n",
      "\u001b[34m\u001b[1mwandb\u001b[0m: Downloading large artifact lgbm:v178, 213.93MB. 3 files... Done. 0:0:0\n",
      "\u001b[34m\u001b[1mwandb\u001b[0m: Downloading large artifact lgbm:v179, 268.22MB. 3 files... Done. 0:0:0\n",
      "\u001b[34m\u001b[1mwandb\u001b[0m: Downloading large artifact lgbm:v180, 233.63MB. 3 files... Done. 0:0:0\n",
      "\u001b[34m\u001b[1mwandb\u001b[0m: Downloading large artifact lgbm:v181, 229.75MB. 3 files... Done. 0:0:0\n",
      "\u001b[34m\u001b[1mwandb\u001b[0m: Downloading large artifact lgbm:v182, 233.66MB. 3 files... Done. 0:0:0\n",
      "\u001b[34m\u001b[1mwandb\u001b[0m: Downloading large artifact lgbm:v183, 242.98MB. 3 files... Done. 0:0:0\n",
      "100%|██████████| 500000/500000 [00:08<00:00, 60192.23it/s]\n"
     ]
    },
    {
     "name": "stdout",
     "output_type": "stream",
     "text": [
      "| \u001b[0m 64      \u001b[0m | \u001b[0m 0.6993  \u001b[0m | \u001b[0m 0.0     \u001b[0m | \u001b[0m 0.3804  \u001b[0m | \u001b[0m 0.0     \u001b[0m | \u001b[0m 0.0     \u001b[0m | \u001b[0m 1.0     \u001b[0m | \u001b[0m 1.0     \u001b[0m | \u001b[0m 0.0     \u001b[0m | \u001b[0m 0.0     \u001b[0m | \u001b[0m 0.0     \u001b[0m | \u001b[0m 0.7277  \u001b[0m | \u001b[0m 0.9049  \u001b[0m |\n"
     ]
    },
    {
     "name": "stderr",
     "output_type": "stream",
     "text": [
      "\u001b[34m\u001b[1mwandb\u001b[0m: Downloading large artifact lgbm:v173, 207.28MB. 3 files... Done. 0:0:0\n",
      "\u001b[34m\u001b[1mwandb\u001b[0m: Downloading large artifact lgbm:v174, 207.34MB. 3 files... Done. 0:0:0\n",
      "\u001b[34m\u001b[1mwandb\u001b[0m: Downloading large artifact lgbm:v175, 270.75MB. 3 files... Done. 0:0:0\n",
      "\u001b[34m\u001b[1mwandb\u001b[0m: Downloading large artifact lgbm:v176, 206.91MB. 3 files... Done. 0:0:0\n",
      "\u001b[34m\u001b[1mwandb\u001b[0m: Downloading large artifact lgbm:v177, 270.71MB. 3 files... Done. 0:0:0\n",
      "\u001b[34m\u001b[1mwandb\u001b[0m: Downloading large artifact lgbm:v178, 213.93MB. 3 files... Done. 0:0:0\n",
      "\u001b[34m\u001b[1mwandb\u001b[0m: Downloading large artifact lgbm:v179, 268.22MB. 3 files... Done. 0:0:0\n",
      "\u001b[34m\u001b[1mwandb\u001b[0m: Downloading large artifact lgbm:v180, 233.63MB. 3 files... Done. 0:0:0\n",
      "\u001b[34m\u001b[1mwandb\u001b[0m: Downloading large artifact lgbm:v181, 229.75MB. 3 files... Done. 0:0:0\n",
      "\u001b[34m\u001b[1mwandb\u001b[0m: Downloading large artifact lgbm:v182, 233.66MB. 3 files... Done. 0:0:0\n",
      "\u001b[34m\u001b[1mwandb\u001b[0m: Downloading large artifact lgbm:v183, 242.98MB. 3 files... Done. 0:0:0\n",
      "100%|██████████| 500000/500000 [00:08<00:00, 59745.79it/s]\n"
     ]
    },
    {
     "name": "stdout",
     "output_type": "stream",
     "text": [
      "| \u001b[0m 65      \u001b[0m | \u001b[0m 0.6994  \u001b[0m | \u001b[0m 0.0     \u001b[0m | \u001b[0m 0.0     \u001b[0m | \u001b[0m 0.0     \u001b[0m | \u001b[0m 0.0     \u001b[0m | \u001b[0m 1.0     \u001b[0m | \u001b[0m 1.0     \u001b[0m | \u001b[0m 0.0     \u001b[0m | \u001b[0m 0.0     \u001b[0m | \u001b[0m 0.0     \u001b[0m | \u001b[0m 0.8126  \u001b[0m | \u001b[0m 0.9122  \u001b[0m |\n"
     ]
    },
    {
     "name": "stderr",
     "output_type": "stream",
     "text": [
      "\u001b[34m\u001b[1mwandb\u001b[0m: Downloading large artifact lgbm:v173, 207.28MB. 3 files... Done. 0:0:0\n",
      "\u001b[34m\u001b[1mwandb\u001b[0m: Downloading large artifact lgbm:v174, 207.34MB. 3 files... Done. 0:0:0\n",
      "\u001b[34m\u001b[1mwandb\u001b[0m: Downloading large artifact lgbm:v175, 270.75MB. 3 files... Done. 0:0:0\n",
      "\u001b[34m\u001b[1mwandb\u001b[0m: Downloading large artifact lgbm:v176, 206.91MB. 3 files... Done. 0:0:0\n",
      "\u001b[34m\u001b[1mwandb\u001b[0m: Downloading large artifact lgbm:v177, 270.71MB. 3 files... Done. 0:0:0\n",
      "\u001b[34m\u001b[1mwandb\u001b[0m: Downloading large artifact lgbm:v178, 213.93MB. 3 files... Done. 0:0:0\n",
      "\u001b[34m\u001b[1mwandb\u001b[0m: Downloading large artifact lgbm:v179, 268.22MB. 3 files... Done. 0:0:0\n",
      "\u001b[34m\u001b[1mwandb\u001b[0m: Downloading large artifact lgbm:v180, 233.63MB. 3 files... Done. 0:0:0\n",
      "\u001b[34m\u001b[1mwandb\u001b[0m: Downloading large artifact lgbm:v181, 229.75MB. 3 files... Done. 0:0:0\n",
      "\u001b[34m\u001b[1mwandb\u001b[0m: Downloading large artifact lgbm:v182, 233.66MB. 3 files... Done. 0:0:0\n",
      "\u001b[34m\u001b[1mwandb\u001b[0m: Downloading large artifact lgbm:v183, 242.98MB. 3 files... Done. 0:0:0\n",
      "100%|██████████| 500000/500000 [00:08<00:00, 59392.25it/s]\n"
     ]
    },
    {
     "name": "stdout",
     "output_type": "stream",
     "text": [
      "| \u001b[0m 66      \u001b[0m | \u001b[0m 0.6994  \u001b[0m | \u001b[0m 0.0     \u001b[0m | \u001b[0m 0.0     \u001b[0m | \u001b[0m 0.0     \u001b[0m | \u001b[0m 0.0     \u001b[0m | \u001b[0m 1.0     \u001b[0m | \u001b[0m 1.0     \u001b[0m | \u001b[0m 0.0     \u001b[0m | \u001b[0m 0.0     \u001b[0m | \u001b[0m 0.0     \u001b[0m | \u001b[0m 0.05638 \u001b[0m | \u001b[0m 1.0     \u001b[0m |\n"
     ]
    },
    {
     "name": "stderr",
     "output_type": "stream",
     "text": [
      "\u001b[34m\u001b[1mwandb\u001b[0m: Downloading large artifact lgbm:v173, 207.28MB. 3 files... Done. 0:0:0\n",
      "\u001b[34m\u001b[1mwandb\u001b[0m: Downloading large artifact lgbm:v174, 207.34MB. 3 files... Done. 0:0:0\n",
      "\u001b[34m\u001b[1mwandb\u001b[0m: Downloading large artifact lgbm:v175, 270.75MB. 3 files... Done. 0:0:0\n",
      "\u001b[34m\u001b[1mwandb\u001b[0m: Downloading large artifact lgbm:v176, 206.91MB. 3 files... Done. 0:0:0\n",
      "\u001b[34m\u001b[1mwandb\u001b[0m: Downloading large artifact lgbm:v177, 270.71MB. 3 files... Done. 0:0:0\n",
      "\u001b[34m\u001b[1mwandb\u001b[0m: Downloading large artifact lgbm:v178, 213.93MB. 3 files... Done. 0:0:0\n",
      "\u001b[34m\u001b[1mwandb\u001b[0m: Downloading large artifact lgbm:v179, 268.22MB. 3 files... Done. 0:0:0\n",
      "\u001b[34m\u001b[1mwandb\u001b[0m: Downloading large artifact lgbm:v180, 233.63MB. 3 files... Done. 0:0:0\n",
      "\u001b[34m\u001b[1mwandb\u001b[0m: Downloading large artifact lgbm:v181, 229.75MB. 3 files... Done. 0:0:0\n",
      "\u001b[34m\u001b[1mwandb\u001b[0m: Downloading large artifact lgbm:v182, 233.66MB. 3 files... Done. 0:0:0\n",
      "\u001b[34m\u001b[1mwandb\u001b[0m: Downloading large artifact lgbm:v183, 242.98MB. 3 files... Done. 0:0:0\n",
      "100%|██████████| 500000/500000 [00:08<00:00, 59144.72it/s]\n"
     ]
    },
    {
     "name": "stdout",
     "output_type": "stream",
     "text": [
      "| \u001b[0m 67      \u001b[0m | \u001b[0m 0.6994  \u001b[0m | \u001b[0m 0.0     \u001b[0m | \u001b[0m 0.0     \u001b[0m | \u001b[0m 0.0     \u001b[0m | \u001b[0m 0.0     \u001b[0m | \u001b[0m 1.0     \u001b[0m | \u001b[0m 1.0     \u001b[0m | \u001b[0m 0.0     \u001b[0m | \u001b[0m 0.0     \u001b[0m | \u001b[0m 0.0     \u001b[0m | \u001b[0m 0.4126  \u001b[0m | \u001b[0m 0.7856  \u001b[0m |\n"
     ]
    },
    {
     "name": "stderr",
     "output_type": "stream",
     "text": [
      "\u001b[34m\u001b[1mwandb\u001b[0m: Downloading large artifact lgbm:v173, 207.28MB. 3 files... Done. 0:0:0\n",
      "\u001b[34m\u001b[1mwandb\u001b[0m: Downloading large artifact lgbm:v174, 207.34MB. 3 files... Done. 0:0:0\n",
      "\u001b[34m\u001b[1mwandb\u001b[0m: Downloading large artifact lgbm:v175, 270.75MB. 3 files... Done. 0:0:0\n",
      "\u001b[34m\u001b[1mwandb\u001b[0m: Downloading large artifact lgbm:v176, 206.91MB. 3 files... Done. 0:0:0\n",
      "\u001b[34m\u001b[1mwandb\u001b[0m: Downloading large artifact lgbm:v177, 270.71MB. 3 files... Done. 0:0:0\n",
      "\u001b[34m\u001b[1mwandb\u001b[0m: Downloading large artifact lgbm:v178, 213.93MB. 3 files... Done. 0:0:0\n",
      "\u001b[34m\u001b[1mwandb\u001b[0m: Downloading large artifact lgbm:v179, 268.22MB. 3 files... Done. 0:0:0\n",
      "\u001b[34m\u001b[1mwandb\u001b[0m: Downloading large artifact lgbm:v180, 233.63MB. 3 files... Done. 0:0:0\n",
      "\u001b[34m\u001b[1mwandb\u001b[0m: Downloading large artifact lgbm:v181, 229.75MB. 3 files... Done. 0:0:0\n",
      "\u001b[34m\u001b[1mwandb\u001b[0m: Downloading large artifact lgbm:v182, 233.66MB. 3 files... Done. 0:0:0\n",
      "\u001b[34m\u001b[1mwandb\u001b[0m: Downloading large artifact lgbm:v183, 242.98MB. 3 files... Done. 0:0:0\n",
      "100%|██████████| 500000/500000 [00:08<00:00, 59715.51it/s]\n"
     ]
    },
    {
     "name": "stdout",
     "output_type": "stream",
     "text": [
      "| \u001b[0m 68      \u001b[0m | \u001b[0m 0.6994  \u001b[0m | \u001b[0m 0.0     \u001b[0m | \u001b[0m 0.0     \u001b[0m | \u001b[0m 0.0     \u001b[0m | \u001b[0m 0.0     \u001b[0m | \u001b[0m 0.6389  \u001b[0m | \u001b[0m 1.0     \u001b[0m | \u001b[0m 0.0     \u001b[0m | \u001b[0m 0.0     \u001b[0m | \u001b[0m 0.0     \u001b[0m | \u001b[0m 0.6801  \u001b[0m | \u001b[0m 0.5666  \u001b[0m |\n"
     ]
    },
    {
     "name": "stderr",
     "output_type": "stream",
     "text": [
      "\u001b[34m\u001b[1mwandb\u001b[0m: Downloading large artifact lgbm:v173, 207.28MB. 3 files... Done. 0:0:0\n",
      "\u001b[34m\u001b[1mwandb\u001b[0m: Downloading large artifact lgbm:v174, 207.34MB. 3 files... Done. 0:0:0\n",
      "\u001b[34m\u001b[1mwandb\u001b[0m: Downloading large artifact lgbm:v175, 270.75MB. 3 files... Done. 0:0:0\n",
      "\u001b[34m\u001b[1mwandb\u001b[0m: Downloading large artifact lgbm:v176, 206.91MB. 3 files... Done. 0:0:0\n",
      "\u001b[34m\u001b[1mwandb\u001b[0m: Downloading large artifact lgbm:v177, 270.71MB. 3 files... Done. 0:0:0\n",
      "\u001b[34m\u001b[1mwandb\u001b[0m: Downloading large artifact lgbm:v178, 213.93MB. 3 files... Done. 0:0:0\n",
      "\u001b[34m\u001b[1mwandb\u001b[0m: Downloading large artifact lgbm:v179, 268.22MB. 3 files... Done. 0:0:0\n",
      "\u001b[34m\u001b[1mwandb\u001b[0m: Downloading large artifact lgbm:v180, 233.63MB. 3 files... Done. 0:0:0\n",
      "\u001b[34m\u001b[1mwandb\u001b[0m: Downloading large artifact lgbm:v181, 229.75MB. 3 files... Done. 0:0:0\n",
      "\u001b[34m\u001b[1mwandb\u001b[0m: Downloading large artifact lgbm:v182, 233.66MB. 3 files... Done. 0:0:0\n",
      "\u001b[34m\u001b[1mwandb\u001b[0m: Downloading large artifact lgbm:v183, 242.98MB. 3 files... Done. 0:0:0\n",
      "100%|██████████| 500000/500000 [00:08<00:00, 60190.10it/s]\n"
     ]
    },
    {
     "name": "stdout",
     "output_type": "stream",
     "text": [
      "| \u001b[0m 69      \u001b[0m | \u001b[0m 0.6994  \u001b[0m | \u001b[0m 0.0     \u001b[0m | \u001b[0m 0.0     \u001b[0m | \u001b[0m 0.0     \u001b[0m | \u001b[0m 0.0     \u001b[0m | \u001b[0m 1.0     \u001b[0m | \u001b[0m 0.6411  \u001b[0m | \u001b[0m 0.0     \u001b[0m | \u001b[0m 0.0     \u001b[0m | \u001b[0m 0.0     \u001b[0m | \u001b[0m 0.6252  \u001b[0m | \u001b[0m 0.5854  \u001b[0m |\n"
     ]
    },
    {
     "name": "stderr",
     "output_type": "stream",
     "text": [
      "\u001b[34m\u001b[1mwandb\u001b[0m: Downloading large artifact lgbm:v173, 207.28MB. 3 files... Done. 0:0:0\n",
      "\u001b[34m\u001b[1mwandb\u001b[0m: Downloading large artifact lgbm:v174, 207.34MB. 3 files... Done. 0:0:0\n",
      "\u001b[34m\u001b[1mwandb\u001b[0m: Downloading large artifact lgbm:v175, 270.75MB. 3 files... Done. 0:0:0\n",
      "\u001b[34m\u001b[1mwandb\u001b[0m: Downloading large artifact lgbm:v176, 206.91MB. 3 files... Done. 0:0:0\n",
      "\u001b[34m\u001b[1mwandb\u001b[0m: Downloading large artifact lgbm:v177, 270.71MB. 3 files... Done. 0:0:0\n",
      "\u001b[34m\u001b[1mwandb\u001b[0m: Downloading large artifact lgbm:v178, 213.93MB. 3 files... Done. 0:0:0\n",
      "\u001b[34m\u001b[1mwandb\u001b[0m: Downloading large artifact lgbm:v179, 268.22MB. 3 files... Done. 0:0:0\n",
      "\u001b[34m\u001b[1mwandb\u001b[0m: Downloading large artifact lgbm:v180, 233.63MB. 3 files... Done. 0:0:0\n",
      "\u001b[34m\u001b[1mwandb\u001b[0m: Downloading large artifact lgbm:v181, 229.75MB. 3 files... Done. 0:0:0\n",
      "\u001b[34m\u001b[1mwandb\u001b[0m: Downloading large artifact lgbm:v182, 233.66MB. 3 files... Done. 0:0:0\n",
      "\u001b[34m\u001b[1mwandb\u001b[0m: Downloading large artifact lgbm:v183, 242.98MB. 3 files... Done. 0:0:0\n",
      "100%|██████████| 500000/500000 [00:08<00:00, 59713.39it/s]\n"
     ]
    },
    {
     "name": "stdout",
     "output_type": "stream",
     "text": [
      "| \u001b[0m 70      \u001b[0m | \u001b[0m 0.6994  \u001b[0m | \u001b[0m 0.0     \u001b[0m | \u001b[0m 0.0     \u001b[0m | \u001b[0m 0.0     \u001b[0m | \u001b[0m 0.0     \u001b[0m | \u001b[0m 0.52    \u001b[0m | \u001b[0m 1.0     \u001b[0m | \u001b[0m 0.0     \u001b[0m | \u001b[0m 0.0     \u001b[0m | \u001b[0m 0.0     \u001b[0m | \u001b[0m 0.2782  \u001b[0m | \u001b[0m 1.0     \u001b[0m |\n",
      "=============================================================================================================================================================\n"
     ]
    }
   ],
   "source": [
    "# Run bayesian optimization\n",
    "ndcg_fn_ = partial(ndcg_fn, ens, trained_types, trained_versions)\n",
    "optimizer = BayesianOptimization(f=ndcg_fn_, pbounds=coefs, random_state=168)\n",
    "optimizer.maximize(init_points=50, n_iter=20)"
   ]
  },
  {
   "cell_type": "code",
   "execution_count": 7,
   "id": "adequate-coach",
   "metadata": {},
   "outputs": [
    {
     "data": {
      "text/plain": [
       "{'target': 0.6994350462362194,\n",
       " 'params': {'173': 0.0,\n",
       "  '174': 0.0,\n",
       "  '175': 0.0,\n",
       "  '176': 0.0,\n",
       "  '177': 1.0,\n",
       "  '178': 1.0,\n",
       "  '179': 0.0,\n",
       "  '180': 0.0,\n",
       "  '181': 0.0,\n",
       "  '182': 0.6709499726648304,\n",
       "  '183': 0.6827723996942069}}"
      ]
     },
     "execution_count": 7,
     "metadata": {},
     "output_type": "execute_result"
    }
   ],
   "source": [
    "# Obtain the best set of blending coefficients\n",
    "optimizer.max"
   ]
  },
  {
   "cell_type": "code",
   "execution_count": 9,
   "id": "coordinated-treaty",
   "metadata": {
    "collapsed": true,
    "jupyter": {
     "outputs_hidden": true
    }
   },
   "outputs": [
    {
     "name": "stderr",
     "output_type": "stream",
     "text": [
      "\u001b[34m\u001b[1mwandb\u001b[0m: Downloading large artifact lgbm:v177, 270.71MB. 3 files... Done. 0:0:0\n",
      "\u001b[34m\u001b[1mwandb\u001b[0m: Downloading large artifact lgbm:v178, 213.93MB. 3 files... Done. 0:0:0\n",
      "\u001b[34m\u001b[1mwandb\u001b[0m: Downloading large artifact lgbm:v182, 233.66MB. 3 files... Done. 0:0:0\n",
      "\u001b[34m\u001b[1mwandb\u001b[0m: Downloading large artifact lgbm:v183, 242.98MB. 3 files... Done. 0:0:0\n",
      "100%|██████████| 500000/500000 [00:08<00:00, 60718.43it/s]\n"
     ]
    },
    {
     "data": {
      "text/plain": [
       "0.6994156694216868"
      ]
     },
     "execution_count": 9,
     "metadata": {},
     "output_type": "execute_result"
    }
   ],
   "source": [
    "# Manually blend top4 with equal weights\n",
    "train_v = [177, 178, 182, 183]\n",
    "coef_manual = {str(i): 1 for i in a}\n",
    "ndcg_fn(ens, ['lgbm' for _ in range(4)], train_v, **coef_manual)"
   ]
  },
  {
   "cell_type": "markdown",
   "id": "quality-stopping",
   "metadata": {},
   "source": [
    "#### b. Final Godset"
   ]
  },
  {
   "cell_type": "code",
   "execution_count": 3,
   "id": "protective-welcome",
   "metadata": {},
   "outputs": [],
   "source": [
    "# Configure base models to put in bayesian opt blending \n",
    "trained_types = ['lgbm' for  _  in range(12)]\n",
    "trained_versions = [str(v) for v in range(184, 196)]\n",
    "coefs = {v: (0, 1) for v in trained_versions}"
   ]
  },
  {
   "cell_type": "code",
   "execution_count": 5,
   "id": "geographic-township",
   "metadata": {
    "collapsed": true,
    "jupyter": {
     "outputs_hidden": true
    }
   },
   "outputs": [
    {
     "name": "stdout",
     "output_type": "stream",
     "text": [
      "|   iter    |  target   |    184    |    185    |    186    |    187    |    188    |    189    |    190    |    191    |    192    |    193    |    194    |    195    |\n",
      "-------------------------------------------------------------------------------------------------------------------------------------------------------------------------\n"
     ]
    },
    {
     "name": "stderr",
     "output_type": "stream",
     "text": [
      "\u001b[34m\u001b[1mwandb\u001b[0m: Downloading large artifact lgbm:v184, 271.94MB. 3 files... Done. 0:0:0\n",
      "\u001b[34m\u001b[1mwandb\u001b[0m: Downloading large artifact lgbm:v185, 274.33MB. 3 files... Done. 0:0:0\n",
      "\u001b[34m\u001b[1mwandb\u001b[0m: Downloading large artifact lgbm:v186, 242.67MB. 3 files... Done. 0:0:0\n",
      "\u001b[34m\u001b[1mwandb\u001b[0m: Downloading large artifact lgbm:v187, 243.74MB. 3 files... Done. 0:0:0\n",
      "\u001b[34m\u001b[1mwandb\u001b[0m: Downloading large artifact lgbm:v188, 235.93MB. 3 files... Done. 0:0:0\n",
      "\u001b[34m\u001b[1mwandb\u001b[0m: Downloading large artifact lgbm:v189, 215.22MB. 3 files... Done. 0:0:0\n",
      "\u001b[34m\u001b[1mwandb\u001b[0m: Downloading large artifact lgbm:v190, 275.19MB. 3 files... Done. 0:0:0\n",
      "\u001b[34m\u001b[1mwandb\u001b[0m: Downloading large artifact lgbm:v191, 234.21MB. 3 files... Done. 0:0:0\n",
      "\u001b[34m\u001b[1mwandb\u001b[0m: Downloading large artifact lgbm:v192, 235.93MB. 3 files... Done. 0:0:0\n",
      "\u001b[34m\u001b[1mwandb\u001b[0m: Downloading large artifact lgbm:v193, 207.59MB. 3 files... Done. 0:0:0\n",
      "\u001b[34m\u001b[1mwandb\u001b[0m: Downloading large artifact lgbm:v194, 222.93MB. 3 files... Done. 0:0:0\n",
      "\u001b[34m\u001b[1mwandb\u001b[0m: Downloading large artifact lgbm:v195, 264.24MB. 3 files... Done. 0:0:0\n",
      "100%|██████████| 500000/500000 [00:08<00:00, 60846.59it/s]\n"
     ]
    },
    {
     "name": "stdout",
     "output_type": "stream",
     "text": [
      "| \u001b[0m 1       \u001b[0m | \u001b[0m 0.7095  \u001b[0m | \u001b[0m 0.5978  \u001b[0m | \u001b[0m 0.5208  \u001b[0m | \u001b[0m 0.2468  \u001b[0m | \u001b[0m 0.3375  \u001b[0m | \u001b[0m 0.8464  \u001b[0m | \u001b[0m 0.6514  \u001b[0m | \u001b[0m 0.7334  \u001b[0m | \u001b[0m 0.5118  \u001b[0m | \u001b[0m 0.9043  \u001b[0m | \u001b[0m 0.9863  \u001b[0m | \u001b[0m 0.7798  \u001b[0m | \u001b[0m 0.9185  \u001b[0m |\n"
     ]
    },
    {
     "name": "stderr",
     "output_type": "stream",
     "text": [
      "\u001b[34m\u001b[1mwandb\u001b[0m: Downloading large artifact lgbm:v184, 271.94MB. 3 files... Done. 0:0:0\n",
      "\u001b[34m\u001b[1mwandb\u001b[0m: Downloading large artifact lgbm:v185, 274.33MB. 3 files... Done. 0:0:0\n",
      "\u001b[34m\u001b[1mwandb\u001b[0m: Downloading large artifact lgbm:v186, 242.67MB. 3 files... Done. 0:0:0\n",
      "\u001b[34m\u001b[1mwandb\u001b[0m: Downloading large artifact lgbm:v187, 243.74MB. 3 files... Done. 0:0:0\n",
      "\u001b[34m\u001b[1mwandb\u001b[0m: Downloading large artifact lgbm:v188, 235.93MB. 3 files... Done. 0:0:0\n",
      "\u001b[34m\u001b[1mwandb\u001b[0m: Downloading large artifact lgbm:v189, 215.22MB. 3 files... Done. 0:0:0\n",
      "\u001b[34m\u001b[1mwandb\u001b[0m: Downloading large artifact lgbm:v190, 275.19MB. 3 files... Done. 0:0:0\n",
      "\u001b[34m\u001b[1mwandb\u001b[0m: Downloading large artifact lgbm:v191, 234.21MB. 3 files... Done. 0:0:0\n",
      "\u001b[34m\u001b[1mwandb\u001b[0m: Downloading large artifact lgbm:v192, 235.93MB. 3 files... Done. 0:0:0\n",
      "\u001b[34m\u001b[1mwandb\u001b[0m: Downloading large artifact lgbm:v193, 207.59MB. 3 files... Done. 0:0:0\n",
      "\u001b[34m\u001b[1mwandb\u001b[0m: Downloading large artifact lgbm:v194, 222.93MB. 3 files... Done. 0:0:0\n",
      "\u001b[34m\u001b[1mwandb\u001b[0m: Downloading large artifact lgbm:v195, 264.24MB. 3 files... Done. 0:0:0\n",
      "100%|██████████| 500000/500000 [00:08<00:00, 60292.10it/s]\n"
     ]
    },
    {
     "name": "stdout",
     "output_type": "stream",
     "text": [
      "| \u001b[0m 2       \u001b[0m | \u001b[0m 0.7094  \u001b[0m | \u001b[0m 0.4017  \u001b[0m | \u001b[0m 0.7521  \u001b[0m | \u001b[0m 0.5576  \u001b[0m | \u001b[0m 0.4627  \u001b[0m | \u001b[0m 0.9447  \u001b[0m | \u001b[0m 0.9432  \u001b[0m | \u001b[0m 0.7974  \u001b[0m | \u001b[0m 0.4409  \u001b[0m | \u001b[0m 0.2203  \u001b[0m | \u001b[0m 0.3619  \u001b[0m | \u001b[0m 0.4555  \u001b[0m | \u001b[0m 0.1673  \u001b[0m |\n"
     ]
    },
    {
     "name": "stderr",
     "output_type": "stream",
     "text": [
      "\u001b[34m\u001b[1mwandb\u001b[0m: Downloading large artifact lgbm:v184, 271.94MB. 3 files... Done. 0:0:0\n",
      "\u001b[34m\u001b[1mwandb\u001b[0m: Downloading large artifact lgbm:v185, 274.33MB. 3 files... Done. 0:0:0\n",
      "\u001b[34m\u001b[1mwandb\u001b[0m: Downloading large artifact lgbm:v186, 242.67MB. 3 files... Done. 0:0:0\n",
      "\u001b[34m\u001b[1mwandb\u001b[0m: Downloading large artifact lgbm:v187, 243.74MB. 3 files... Done. 0:0:0\n",
      "\u001b[34m\u001b[1mwandb\u001b[0m: Downloading large artifact lgbm:v188, 235.93MB. 3 files... Done. 0:0:0\n",
      "\u001b[34m\u001b[1mwandb\u001b[0m: Downloading large artifact lgbm:v189, 215.22MB. 3 files... Done. 0:0:0\n",
      "\u001b[34m\u001b[1mwandb\u001b[0m: Downloading large artifact lgbm:v190, 275.19MB. 3 files... Done. 0:0:0\n",
      "\u001b[34m\u001b[1mwandb\u001b[0m: Downloading large artifact lgbm:v191, 234.21MB. 3 files... Done. 0:0:0\n",
      "\u001b[34m\u001b[1mwandb\u001b[0m: Downloading large artifact lgbm:v192, 235.93MB. 3 files... Done. 0:0:0\n",
      "\u001b[34m\u001b[1mwandb\u001b[0m: Downloading large artifact lgbm:v193, 207.59MB. 3 files... Done. 0:0:0\n",
      "\u001b[34m\u001b[1mwandb\u001b[0m: Downloading large artifact lgbm:v194, 222.93MB. 3 files... Done. 0:0:0\n",
      "\u001b[34m\u001b[1mwandb\u001b[0m: Downloading large artifact lgbm:v195, 264.24MB. 3 files... Done. 0:0:0\n",
      "100%|██████████| 500000/500000 [00:08<00:00, 60225.98it/s]\n"
     ]
    },
    {
     "name": "stdout",
     "output_type": "stream",
     "text": [
      "| \u001b[95m 3       \u001b[0m | \u001b[95m 0.7123  \u001b[0m | \u001b[95m 0.9239  \u001b[0m | \u001b[95m 0.244   \u001b[0m | \u001b[95m 0.8409  \u001b[0m | \u001b[95m 0.1674  \u001b[0m | \u001b[95m 0.6746  \u001b[0m | \u001b[95m 0.325   \u001b[0m | \u001b[95m 0.4892  \u001b[0m | \u001b[95m 0.2329  \u001b[0m | \u001b[95m 0.5012  \u001b[0m | \u001b[95m 0.01919 \u001b[0m | \u001b[95m 0.03896 \u001b[0m | \u001b[95m 0.1381  \u001b[0m |\n"
     ]
    },
    {
     "name": "stderr",
     "output_type": "stream",
     "text": [
      "\u001b[34m\u001b[1mwandb\u001b[0m: Downloading large artifact lgbm:v184, 271.94MB. 3 files... Done. 0:0:0\n",
      "\u001b[34m\u001b[1mwandb\u001b[0m: Downloading large artifact lgbm:v185, 274.33MB. 3 files... Done. 0:0:0\n",
      "\u001b[34m\u001b[1mwandb\u001b[0m: Downloading large artifact lgbm:v186, 242.67MB. 3 files... Done. 0:0:0\n",
      "\u001b[34m\u001b[1mwandb\u001b[0m: Downloading large artifact lgbm:v187, 243.74MB. 3 files... Done. 0:0:0\n",
      "\u001b[34m\u001b[1mwandb\u001b[0m: Downloading large artifact lgbm:v188, 235.93MB. 3 files... Done. 0:0:0\n",
      "\u001b[34m\u001b[1mwandb\u001b[0m: Downloading large artifact lgbm:v189, 215.22MB. 3 files... Done. 0:0:0\n",
      "\u001b[34m\u001b[1mwandb\u001b[0m: Downloading large artifact lgbm:v190, 275.19MB. 3 files... Done. 0:0:0\n",
      "\u001b[34m\u001b[1mwandb\u001b[0m: Downloading large artifact lgbm:v191, 234.21MB. 3 files... Done. 0:0:0\n",
      "\u001b[34m\u001b[1mwandb\u001b[0m: Downloading large artifact lgbm:v192, 235.93MB. 3 files... Done. 0:0:0\n",
      "\u001b[34m\u001b[1mwandb\u001b[0m: Downloading large artifact lgbm:v193, 207.59MB. 3 files... Done. 0:0:0\n",
      "\u001b[34m\u001b[1mwandb\u001b[0m: Downloading large artifact lgbm:v194, 222.93MB. 3 files... Done. 0:0:0\n",
      "\u001b[34m\u001b[1mwandb\u001b[0m: Downloading large artifact lgbm:v195, 264.24MB. 3 files... Done. 0:0:0\n",
      "100%|██████████| 500000/500000 [00:08<00:00, 60202.96it/s]\n"
     ]
    },
    {
     "name": "stdout",
     "output_type": "stream",
     "text": [
      "| \u001b[0m 4       \u001b[0m | \u001b[0m 0.7094  \u001b[0m | \u001b[0m 0.4617  \u001b[0m | \u001b[0m 0.3814  \u001b[0m | \u001b[0m 0.6398  \u001b[0m | \u001b[0m 0.4138  \u001b[0m | \u001b[0m 0.3661  \u001b[0m | \u001b[0m 0.67    \u001b[0m | \u001b[0m 0.2658  \u001b[0m | \u001b[0m 0.8521  \u001b[0m | \u001b[0m 0.413   \u001b[0m | \u001b[0m 0.9411  \u001b[0m | \u001b[0m 0.5105  \u001b[0m | \u001b[0m 0.003587\u001b[0m |\n"
     ]
    },
    {
     "name": "stderr",
     "output_type": "stream",
     "text": [
      "\u001b[34m\u001b[1mwandb\u001b[0m: Downloading large artifact lgbm:v184, 271.94MB. 3 files... Done. 0:0:0\n",
      "\u001b[34m\u001b[1mwandb\u001b[0m: Downloading large artifact lgbm:v185, 274.33MB. 3 files... Done. 0:0:0\n",
      "\u001b[34m\u001b[1mwandb\u001b[0m: Downloading large artifact lgbm:v186, 242.67MB. 3 files... Done. 0:0:0\n",
      "\u001b[34m\u001b[1mwandb\u001b[0m: Downloading large artifact lgbm:v187, 243.74MB. 3 files... Done. 0:0:0\n",
      "\u001b[34m\u001b[1mwandb\u001b[0m: Downloading large artifact lgbm:v188, 235.93MB. 3 files... Done. 0:0:0\n",
      "\u001b[34m\u001b[1mwandb\u001b[0m: Downloading large artifact lgbm:v189, 215.22MB. 3 files... Done. 0:0:0\n",
      "\u001b[34m\u001b[1mwandb\u001b[0m: Downloading large artifact lgbm:v190, 275.19MB. 3 files... Done. 0:0:0\n",
      "\u001b[34m\u001b[1mwandb\u001b[0m: Downloading large artifact lgbm:v191, 234.21MB. 3 files... Done. 0:0:0\n",
      "\u001b[34m\u001b[1mwandb\u001b[0m: Downloading large artifact lgbm:v192, 235.93MB. 3 files... Done. 0:0:0\n",
      "\u001b[34m\u001b[1mwandb\u001b[0m: Downloading large artifact lgbm:v193, 207.59MB. 3 files... Done. 0:0:0\n",
      "\u001b[34m\u001b[1mwandb\u001b[0m: Downloading large artifact lgbm:v194, 222.93MB. 3 files... Done. 0:0:0\n",
      "\u001b[34m\u001b[1mwandb\u001b[0m: Downloading large artifact lgbm:v195, 264.24MB. 3 files... Done. 0:0:0\n",
      "100%|██████████| 500000/500000 [00:08<00:00, 59834.37it/s]\n"
     ]
    },
    {
     "name": "stdout",
     "output_type": "stream",
     "text": [
      "| \u001b[0m 5       \u001b[0m | \u001b[0m 0.7087  \u001b[0m | \u001b[0m 0.838   \u001b[0m | \u001b[0m 0.5936  \u001b[0m | \u001b[0m 0.005173\u001b[0m | \u001b[0m 0.2993  \u001b[0m | \u001b[0m 0.7476  \u001b[0m | \u001b[0m 0.4129  \u001b[0m | \u001b[0m 0.2649  \u001b[0m | \u001b[0m 0.6301  \u001b[0m | \u001b[0m 0.2973  \u001b[0m | \u001b[0m 0.7689  \u001b[0m | \u001b[0m 0.09091 \u001b[0m | \u001b[0m 0.8419  \u001b[0m |\n"
     ]
    },
    {
     "name": "stderr",
     "output_type": "stream",
     "text": [
      "\u001b[34m\u001b[1mwandb\u001b[0m: Downloading large artifact lgbm:v184, 271.94MB. 3 files... Done. 0:0:0\n",
      "\u001b[34m\u001b[1mwandb\u001b[0m: Downloading large artifact lgbm:v185, 274.33MB. 3 files... Done. 0:0:0\n",
      "\u001b[34m\u001b[1mwandb\u001b[0m: Downloading large artifact lgbm:v186, 242.67MB. 3 files... Done. 0:0:0\n",
      "\u001b[34m\u001b[1mwandb\u001b[0m: Downloading large artifact lgbm:v187, 243.74MB. 3 files... Done. 0:0:0\n",
      "\u001b[34m\u001b[1mwandb\u001b[0m: Downloading large artifact lgbm:v188, 235.93MB. 3 files... Done. 0:0:0\n",
      "\u001b[34m\u001b[1mwandb\u001b[0m: Downloading large artifact lgbm:v189, 215.22MB. 3 files... Done. 0:0:0\n",
      "\u001b[34m\u001b[1mwandb\u001b[0m: Downloading large artifact lgbm:v190, 275.19MB. 3 files... Done. 0:0:0\n",
      "\u001b[34m\u001b[1mwandb\u001b[0m: Downloading large artifact lgbm:v191, 234.21MB. 3 files... Done. 0:0:0\n",
      "\u001b[34m\u001b[1mwandb\u001b[0m: Downloading large artifact lgbm:v192, 235.93MB. 3 files... Done. 0:0:0\n",
      "\u001b[34m\u001b[1mwandb\u001b[0m: Downloading large artifact lgbm:v193, 207.59MB. 3 files... Done. 0:0:0\n",
      "\u001b[34m\u001b[1mwandb\u001b[0m: Downloading large artifact lgbm:v194, 222.93MB. 3 files... Done. 0:0:0\n",
      "\u001b[34m\u001b[1mwandb\u001b[0m: Downloading large artifact lgbm:v195, 264.24MB. 3 files... Done. 0:0:0\n",
      "100%|██████████| 500000/500000 [00:08<00:00, 60619.77it/s]\n"
     ]
    },
    {
     "name": "stdout",
     "output_type": "stream",
     "text": [
      "| \u001b[0m 6       \u001b[0m | \u001b[0m 0.7101  \u001b[0m | \u001b[0m 0.5369  \u001b[0m | \u001b[0m 0.02255 \u001b[0m | \u001b[0m 0.5696  \u001b[0m | \u001b[0m 0.83    \u001b[0m | \u001b[0m 0.7301  \u001b[0m | \u001b[0m 0.5372  \u001b[0m | \u001b[0m 0.08297 \u001b[0m | \u001b[0m 0.1687  \u001b[0m | \u001b[0m 0.4057  \u001b[0m | \u001b[0m 0.2     \u001b[0m | \u001b[0m 0.5959  \u001b[0m | \u001b[0m 0.1321  \u001b[0m |\n"
     ]
    },
    {
     "name": "stderr",
     "output_type": "stream",
     "text": [
      "\u001b[34m\u001b[1mwandb\u001b[0m: Downloading large artifact lgbm:v184, 271.94MB. 3 files... Done. 0:0:0\n",
      "\u001b[34m\u001b[1mwandb\u001b[0m: Downloading large artifact lgbm:v185, 274.33MB. 3 files... Done. 0:0:0\n",
      "\u001b[34m\u001b[1mwandb\u001b[0m: Downloading large artifact lgbm:v186, 242.67MB. 3 files... Done. 0:0:0\n",
      "\u001b[34m\u001b[1mwandb\u001b[0m: Downloading large artifact lgbm:v187, 243.74MB. 3 files... Done. 0:0:0\n",
      "\u001b[34m\u001b[1mwandb\u001b[0m: Downloading large artifact lgbm:v188, 235.93MB. 3 files... Done. 0:0:0\n",
      "\u001b[34m\u001b[1mwandb\u001b[0m: Downloading large artifact lgbm:v189, 215.22MB. 3 files... Done. 0:0:0\n",
      "\u001b[34m\u001b[1mwandb\u001b[0m: Downloading large artifact lgbm:v190, 275.19MB. 3 files... Done. 0:0:0\n",
      "\u001b[34m\u001b[1mwandb\u001b[0m: Downloading large artifact lgbm:v191, 234.21MB. 3 files... Done. 0:0:0\n",
      "\u001b[34m\u001b[1mwandb\u001b[0m: Downloading large artifact lgbm:v192, 235.93MB. 3 files... Done. 0:0:0\n",
      "\u001b[34m\u001b[1mwandb\u001b[0m: Downloading large artifact lgbm:v193, 207.59MB. 3 files... Done. 0:0:0\n",
      "\u001b[34m\u001b[1mwandb\u001b[0m: Downloading large artifact lgbm:v194, 222.93MB. 3 files... Done. 0:0:0\n",
      "\u001b[34m\u001b[1mwandb\u001b[0m: Downloading large artifact lgbm:v195, 264.24MB. 3 files... Done. 0:0:0\n",
      "100%|██████████| 500000/500000 [00:08<00:00, 59873.07it/s]\n"
     ]
    },
    {
     "name": "stdout",
     "output_type": "stream",
     "text": [
      "| \u001b[0m 7       \u001b[0m | \u001b[0m 0.7089  \u001b[0m | \u001b[0m 0.06001 \u001b[0m | \u001b[0m 0.1133  \u001b[0m | \u001b[0m 0.5399  \u001b[0m | \u001b[0m 0.7575  \u001b[0m | \u001b[0m 0.981   \u001b[0m | \u001b[0m 0.3564  \u001b[0m | \u001b[0m 0.7291  \u001b[0m | \u001b[0m 0.5995  \u001b[0m | \u001b[0m 0.1488  \u001b[0m | \u001b[0m 0.9504  \u001b[0m | \u001b[0m 0.05866 \u001b[0m | \u001b[0m 0.7889  \u001b[0m |\n"
     ]
    },
    {
     "name": "stderr",
     "output_type": "stream",
     "text": [
      "\u001b[34m\u001b[1mwandb\u001b[0m: Downloading large artifact lgbm:v184, 271.94MB. 3 files... Done. 0:0:0\n",
      "\u001b[34m\u001b[1mwandb\u001b[0m: Downloading large artifact lgbm:v185, 274.33MB. 3 files... Done. 0:0:0\n",
      "\u001b[34m\u001b[1mwandb\u001b[0m: Downloading large artifact lgbm:v186, 242.67MB. 3 files... Done. 0:0:0\n",
      "\u001b[34m\u001b[1mwandb\u001b[0m: Downloading large artifact lgbm:v187, 243.74MB. 3 files... Done. 0:0:0\n",
      "\u001b[34m\u001b[1mwandb\u001b[0m: Downloading large artifact lgbm:v188, 235.93MB. 3 files... Done. 0:0:0\n",
      "\u001b[34m\u001b[1mwandb\u001b[0m: Downloading large artifact lgbm:v189, 215.22MB. 3 files... Done. 0:0:0\n",
      "\u001b[34m\u001b[1mwandb\u001b[0m: Downloading large artifact lgbm:v190, 275.19MB. 3 files... Done. 0:0:0\n",
      "\u001b[34m\u001b[1mwandb\u001b[0m: Downloading large artifact lgbm:v191, 234.21MB. 3 files... Done. 0:0:0\n",
      "\u001b[34m\u001b[1mwandb\u001b[0m: Downloading large artifact lgbm:v192, 235.93MB. 3 files... Done. 0:0:0\n",
      "\u001b[34m\u001b[1mwandb\u001b[0m: Downloading large artifact lgbm:v193, 207.59MB. 3 files... Done. 0:0:0\n",
      "\u001b[34m\u001b[1mwandb\u001b[0m: Downloading large artifact lgbm:v194, 222.93MB. 3 files... Done. 0:0:0\n",
      "\u001b[34m\u001b[1mwandb\u001b[0m: Downloading large artifact lgbm:v195, 264.24MB. 3 files... Done. 0:0:0\n",
      "100%|██████████| 500000/500000 [00:08<00:00, 58885.40it/s]\n"
     ]
    },
    {
     "name": "stdout",
     "output_type": "stream",
     "text": [
      "| \u001b[0m 8       \u001b[0m | \u001b[0m 0.7092  \u001b[0m | \u001b[0m 0.4701  \u001b[0m | \u001b[0m 0.2711  \u001b[0m | \u001b[0m 0.01474 \u001b[0m | \u001b[0m 0.2195  \u001b[0m | \u001b[0m 0.5073  \u001b[0m | \u001b[0m 0.7218  \u001b[0m | \u001b[0m 0.4547  \u001b[0m | \u001b[0m 0.4431  \u001b[0m | \u001b[0m 0.7001  \u001b[0m | \u001b[0m 0.691   \u001b[0m | \u001b[0m 0.1753  \u001b[0m | \u001b[0m 0.4798  \u001b[0m |\n"
     ]
    },
    {
     "name": "stderr",
     "output_type": "stream",
     "text": [
      "\u001b[34m\u001b[1mwandb\u001b[0m: Downloading large artifact lgbm:v184, 271.94MB. 3 files... Done. 0:0:0\n",
      "\u001b[34m\u001b[1mwandb\u001b[0m: Downloading large artifact lgbm:v185, 274.33MB. 3 files... Done. 0:0:0\n",
      "\u001b[34m\u001b[1mwandb\u001b[0m: Downloading large artifact lgbm:v186, 242.67MB. 3 files... Done. 0:0:0\n",
      "\u001b[34m\u001b[1mwandb\u001b[0m: Downloading large artifact lgbm:v187, 243.74MB. 3 files... Done. 0:0:0\n",
      "\u001b[34m\u001b[1mwandb\u001b[0m: Downloading large artifact lgbm:v188, 235.93MB. 3 files... Done. 0:0:0\n",
      "\u001b[34m\u001b[1mwandb\u001b[0m: Downloading large artifact lgbm:v189, 215.22MB. 3 files... Done. 0:0:0\n",
      "\u001b[34m\u001b[1mwandb\u001b[0m: Downloading large artifact lgbm:v190, 275.19MB. 3 files... Done. 0:0:0\n",
      "\u001b[34m\u001b[1mwandb\u001b[0m: Downloading large artifact lgbm:v191, 234.21MB. 3 files... Done. 0:0:0\n",
      "\u001b[34m\u001b[1mwandb\u001b[0m: Downloading large artifact lgbm:v192, 235.93MB. 3 files... Done. 0:0:0\n",
      "\u001b[34m\u001b[1mwandb\u001b[0m: Downloading large artifact lgbm:v193, 207.59MB. 3 files... Done. 0:0:0\n",
      "\u001b[34m\u001b[1mwandb\u001b[0m: Downloading large artifact lgbm:v194, 222.93MB. 3 files... Done. 0:0:0\n",
      "\u001b[34m\u001b[1mwandb\u001b[0m: Downloading large artifact lgbm:v195, 264.24MB. 3 files... Done. 0:0:0\n",
      "100%|██████████| 500000/500000 [00:08<00:00, 59392.87it/s]\n"
     ]
    },
    {
     "name": "stdout",
     "output_type": "stream",
     "text": [
      "| \u001b[0m 9       \u001b[0m | \u001b[0m 0.7098  \u001b[0m | \u001b[0m 0.4733  \u001b[0m | \u001b[0m 0.6978  \u001b[0m | \u001b[0m 0.1863  \u001b[0m | \u001b[0m 0.7346  \u001b[0m | \u001b[0m 0.2382  \u001b[0m | \u001b[0m 0.7075  \u001b[0m | \u001b[0m 0.9565  \u001b[0m | \u001b[0m 0.3062  \u001b[0m | \u001b[0m 0.1429  \u001b[0m | \u001b[0m 0.4332  \u001b[0m | \u001b[0m 0.7088  \u001b[0m | \u001b[0m 0.5075  \u001b[0m |\n"
     ]
    },
    {
     "name": "stderr",
     "output_type": "stream",
     "text": [
      "\u001b[34m\u001b[1mwandb\u001b[0m: Downloading large artifact lgbm:v184, 271.94MB. 3 files... Done. 0:0:0\n",
      "\u001b[34m\u001b[1mwandb\u001b[0m: Downloading large artifact lgbm:v185, 274.33MB. 3 files... Done. 0:0:0\n",
      "\u001b[34m\u001b[1mwandb\u001b[0m: Downloading large artifact lgbm:v186, 242.67MB. 3 files... Done. 0:0:0\n",
      "\u001b[34m\u001b[1mwandb\u001b[0m: Downloading large artifact lgbm:v187, 243.74MB. 3 files... Done. 0:0:0\n",
      "\u001b[34m\u001b[1mwandb\u001b[0m: Downloading large artifact lgbm:v188, 235.93MB. 3 files... Done. 0:0:0\n",
      "\u001b[34m\u001b[1mwandb\u001b[0m: Downloading large artifact lgbm:v189, 215.22MB. 3 files... Done. 0:0:0\n",
      "\u001b[34m\u001b[1mwandb\u001b[0m: Downloading large artifact lgbm:v190, 275.19MB. 3 files... Done. 0:0:0\n",
      "\u001b[34m\u001b[1mwandb\u001b[0m: Downloading large artifact lgbm:v191, 234.21MB. 3 files... Done. 0:0:0\n",
      "\u001b[34m\u001b[1mwandb\u001b[0m: Downloading large artifact lgbm:v192, 235.93MB. 3 files... Done. 0:0:0\n",
      "\u001b[34m\u001b[1mwandb\u001b[0m: Downloading large artifact lgbm:v193, 207.59MB. 3 files... Done. 0:0:0\n",
      "\u001b[34m\u001b[1mwandb\u001b[0m: Downloading large artifact lgbm:v194, 222.93MB. 3 files... Done. 0:0:0\n",
      "\u001b[34m\u001b[1mwandb\u001b[0m: Downloading large artifact lgbm:v195, 264.24MB. 3 files... Done. 0:0:0\n",
      "100%|██████████| 500000/500000 [00:08<00:00, 60563.19it/s]\n"
     ]
    },
    {
     "name": "stdout",
     "output_type": "stream",
     "text": [
      "| \u001b[0m 10      \u001b[0m | \u001b[0m 0.7097  \u001b[0m | \u001b[0m 0.1317  \u001b[0m | \u001b[0m 0.859   \u001b[0m | \u001b[0m 0.8638  \u001b[0m | \u001b[0m 0.9358  \u001b[0m | \u001b[0m 0.8996  \u001b[0m | \u001b[0m 0.4492  \u001b[0m | \u001b[0m 0.6963  \u001b[0m | \u001b[0m 0.1252  \u001b[0m | \u001b[0m 0.2272  \u001b[0m | \u001b[0m 0.7518  \u001b[0m | \u001b[0m 0.9143  \u001b[0m | \u001b[0m 0.3412  \u001b[0m |\n"
     ]
    },
    {
     "name": "stderr",
     "output_type": "stream",
     "text": [
      "\u001b[34m\u001b[1mwandb\u001b[0m: Downloading large artifact lgbm:v184, 271.94MB. 3 files... Done. 0:0:0\n",
      "\u001b[34m\u001b[1mwandb\u001b[0m: Downloading large artifact lgbm:v185, 274.33MB. 3 files... Done. 0:0:0\n",
      "\u001b[34m\u001b[1mwandb\u001b[0m: Downloading large artifact lgbm:v186, 242.67MB. 3 files... Done. 0:0:0\n",
      "\u001b[34m\u001b[1mwandb\u001b[0m: Downloading large artifact lgbm:v187, 243.74MB. 3 files... Done. 0:0:0\n",
      "\u001b[34m\u001b[1mwandb\u001b[0m: Downloading large artifact lgbm:v188, 235.93MB. 3 files... Done. 0:0:0\n",
      "\u001b[34m\u001b[1mwandb\u001b[0m: Downloading large artifact lgbm:v189, 215.22MB. 3 files... Done. 0:0:0\n",
      "\u001b[34m\u001b[1mwandb\u001b[0m: Downloading large artifact lgbm:v190, 275.19MB. 3 files... Done. 0:0:0\n",
      "\u001b[34m\u001b[1mwandb\u001b[0m: Downloading large artifact lgbm:v191, 234.21MB. 3 files... Done. 0:0:0\n",
      "\u001b[34m\u001b[1mwandb\u001b[0m: Downloading large artifact lgbm:v192, 235.93MB. 3 files... Done. 0:0:0\n",
      "\u001b[34m\u001b[1mwandb\u001b[0m: Downloading large artifact lgbm:v193, 207.59MB. 3 files... Done. 0:0:0\n",
      "\u001b[34m\u001b[1mwandb\u001b[0m: Downloading large artifact lgbm:v194, 222.93MB. 3 files... Done. 0:0:0\n",
      "\u001b[34m\u001b[1mwandb\u001b[0m: Downloading large artifact lgbm:v195, 264.24MB. 3 files... Done. 0:0:0\n",
      "100%|██████████| 500000/500000 [00:08<00:00, 58841.41it/s]\n"
     ]
    },
    {
     "name": "stdout",
     "output_type": "stream",
     "text": [
      "| \u001b[0m 11      \u001b[0m | \u001b[0m 0.7105  \u001b[0m | \u001b[0m 0.533   \u001b[0m | \u001b[0m 0.06952 \u001b[0m | \u001b[0m 0.9743  \u001b[0m | \u001b[0m 0.7587  \u001b[0m | \u001b[0m 0.4848  \u001b[0m | \u001b[0m 0.8169  \u001b[0m | \u001b[0m 0.8015  \u001b[0m | \u001b[0m 0.7553  \u001b[0m | \u001b[0m 0.05456 \u001b[0m | \u001b[0m 0.2806  \u001b[0m | \u001b[0m 0.139   \u001b[0m | \u001b[0m 0.9326  \u001b[0m |\n"
     ]
    },
    {
     "name": "stderr",
     "output_type": "stream",
     "text": [
      "\u001b[34m\u001b[1mwandb\u001b[0m: Downloading large artifact lgbm:v184, 271.94MB. 3 files... Done. 0:0:0\n",
      "\u001b[34m\u001b[1mwandb\u001b[0m: Downloading large artifact lgbm:v185, 274.33MB. 3 files... Done. 0:0:0\n",
      "\u001b[34m\u001b[1mwandb\u001b[0m: Downloading large artifact lgbm:v186, 242.67MB. 3 files... Done. 0:0:0\n",
      "\u001b[34m\u001b[1mwandb\u001b[0m: Downloading large artifact lgbm:v187, 243.74MB. 3 files... Done. 0:0:0\n",
      "\u001b[34m\u001b[1mwandb\u001b[0m: Downloading large artifact lgbm:v188, 235.93MB. 3 files... Done. 0:0:0\n",
      "\u001b[34m\u001b[1mwandb\u001b[0m: Downloading large artifact lgbm:v189, 215.22MB. 3 files... Done. 0:0:0\n",
      "\u001b[34m\u001b[1mwandb\u001b[0m: Downloading large artifact lgbm:v190, 275.19MB. 3 files... Done. 0:0:0\n",
      "\u001b[34m\u001b[1mwandb\u001b[0m: Downloading large artifact lgbm:v191, 234.21MB. 3 files... Done. 0:0:0\n",
      "\u001b[34m\u001b[1mwandb\u001b[0m: Downloading large artifact lgbm:v192, 235.93MB. 3 files... Done. 0:0:0\n",
      "\u001b[34m\u001b[1mwandb\u001b[0m: Downloading large artifact lgbm:v193, 207.59MB. 3 files... Done. 0:0:0\n",
      "\u001b[34m\u001b[1mwandb\u001b[0m: Downloading large artifact lgbm:v194, 222.93MB. 3 files... Done. 0:0:0\n",
      "\u001b[34m\u001b[1mwandb\u001b[0m: Downloading large artifact lgbm:v195, 264.24MB. 3 files... Done. 0:0:0\n",
      "100%|██████████| 500000/500000 [00:08<00:00, 58711.64it/s]\n"
     ]
    },
    {
     "name": "stdout",
     "output_type": "stream",
     "text": [
      "| \u001b[0m 12      \u001b[0m | \u001b[0m 0.711   \u001b[0m | \u001b[0m 0.872   \u001b[0m | \u001b[0m 0.1323  \u001b[0m | \u001b[0m 0.5826  \u001b[0m | \u001b[0m 0.2313  \u001b[0m | \u001b[0m 0.1046  \u001b[0m | \u001b[0m 0.7187  \u001b[0m | \u001b[0m 0.4318  \u001b[0m | \u001b[0m 0.001492\u001b[0m | \u001b[0m 0.1968  \u001b[0m | \u001b[0m 0.9858  \u001b[0m | \u001b[0m 0.5446  \u001b[0m | \u001b[0m 0.1309  \u001b[0m |\n"
     ]
    },
    {
     "name": "stderr",
     "output_type": "stream",
     "text": [
      "\u001b[34m\u001b[1mwandb\u001b[0m: Downloading large artifact lgbm:v184, 271.94MB. 3 files... Done. 0:0:0\n",
      "\u001b[34m\u001b[1mwandb\u001b[0m: Downloading large artifact lgbm:v185, 274.33MB. 3 files... Done. 0:0:0\n",
      "\u001b[34m\u001b[1mwandb\u001b[0m: Downloading large artifact lgbm:v186, 242.67MB. 3 files... Done. 0:0:0\n",
      "\u001b[34m\u001b[1mwandb\u001b[0m: Downloading large artifact lgbm:v187, 243.74MB. 3 files... Done. 0:0:0\n",
      "\u001b[34m\u001b[1mwandb\u001b[0m: Downloading large artifact lgbm:v188, 235.93MB. 3 files... Done. 0:0:0\n",
      "\u001b[34m\u001b[1mwandb\u001b[0m: Downloading large artifact lgbm:v189, 215.22MB. 3 files... Done. 0:0:0\n",
      "\u001b[34m\u001b[1mwandb\u001b[0m: Downloading large artifact lgbm:v190, 275.19MB. 3 files... Done. 0:0:0\n",
      "\u001b[34m\u001b[1mwandb\u001b[0m: Downloading large artifact lgbm:v191, 234.21MB. 3 files... Done. 0:0:0\n",
      "\u001b[34m\u001b[1mwandb\u001b[0m: Downloading large artifact lgbm:v192, 235.93MB. 3 files... Done. 0:0:0\n",
      "\u001b[34m\u001b[1mwandb\u001b[0m: Downloading large artifact lgbm:v193, 207.59MB. 3 files... Done. 0:0:0\n",
      "\u001b[34m\u001b[1mwandb\u001b[0m: Downloading large artifact lgbm:v194, 222.93MB. 3 files... Done. 0:0:0\n",
      "\u001b[34m\u001b[1mwandb\u001b[0m: Downloading large artifact lgbm:v195, 264.24MB. 3 files... Done. 0:0:0\n",
      "100%|██████████| 500000/500000 [00:08<00:00, 59629.73it/s]\n"
     ]
    },
    {
     "name": "stdout",
     "output_type": "stream",
     "text": [
      "| \u001b[0m 13      \u001b[0m | \u001b[0m 0.7097  \u001b[0m | \u001b[0m 0.3532  \u001b[0m | \u001b[0m 0.5179  \u001b[0m | \u001b[0m 0.7291  \u001b[0m | \u001b[0m 0.2526  \u001b[0m | \u001b[0m 0.5887  \u001b[0m | \u001b[0m 0.6336  \u001b[0m | \u001b[0m 0.6821  \u001b[0m | \u001b[0m 0.5578  \u001b[0m | \u001b[0m 0.1657  \u001b[0m | \u001b[0m 0.7977  \u001b[0m | \u001b[0m 0.4108  \u001b[0m | \u001b[0m 0.204   \u001b[0m |\n"
     ]
    },
    {
     "name": "stderr",
     "output_type": "stream",
     "text": [
      "\u001b[34m\u001b[1mwandb\u001b[0m: Downloading large artifact lgbm:v184, 271.94MB. 3 files... Done. 0:0:0\n",
      "\u001b[34m\u001b[1mwandb\u001b[0m: Downloading large artifact lgbm:v185, 274.33MB. 3 files... Done. 0:0:0\n",
      "\u001b[34m\u001b[1mwandb\u001b[0m: Downloading large artifact lgbm:v186, 242.67MB. 3 files... Done. 0:0:0\n",
      "\u001b[34m\u001b[1mwandb\u001b[0m: Downloading large artifact lgbm:v187, 243.74MB. 3 files... Done. 0:0:0\n",
      "\u001b[34m\u001b[1mwandb\u001b[0m: Downloading large artifact lgbm:v188, 235.93MB. 3 files... Done. 0:0:0\n",
      "\u001b[34m\u001b[1mwandb\u001b[0m: Downloading large artifact lgbm:v189, 215.22MB. 3 files... Done. 0:0:0\n",
      "\u001b[34m\u001b[1mwandb\u001b[0m: Downloading large artifact lgbm:v190, 275.19MB. 3 files... Done. 0:0:0\n",
      "\u001b[34m\u001b[1mwandb\u001b[0m: Downloading large artifact lgbm:v191, 234.21MB. 3 files... Done. 0:0:0\n",
      "\u001b[34m\u001b[1mwandb\u001b[0m: Downloading large artifact lgbm:v192, 235.93MB. 3 files... Done. 0:0:0\n",
      "\u001b[34m\u001b[1mwandb\u001b[0m: Downloading large artifact lgbm:v193, 207.59MB. 3 files... Done. 0:0:0\n",
      "\u001b[34m\u001b[1mwandb\u001b[0m: Downloading large artifact lgbm:v194, 222.93MB. 3 files... Done. 0:0:0\n",
      "\u001b[34m\u001b[1mwandb\u001b[0m: Downloading large artifact lgbm:v195, 264.24MB. 3 files... Done. 0:0:0\n",
      "100%|██████████| 500000/500000 [00:08<00:00, 59507.20it/s]\n"
     ]
    },
    {
     "name": "stdout",
     "output_type": "stream",
     "text": [
      "| \u001b[0m 14      \u001b[0m | \u001b[0m 0.7096  \u001b[0m | \u001b[0m 0.4432  \u001b[0m | \u001b[0m 0.9955  \u001b[0m | \u001b[0m 0.6302  \u001b[0m | \u001b[0m 0.2157  \u001b[0m | \u001b[0m 0.951   \u001b[0m | \u001b[0m 0.5858  \u001b[0m | \u001b[0m 0.4167  \u001b[0m | \u001b[0m 0.1797  \u001b[0m | \u001b[0m 0.7307  \u001b[0m | \u001b[0m 0.8351  \u001b[0m | \u001b[0m 0.2822  \u001b[0m | \u001b[0m 0.439   \u001b[0m |\n"
     ]
    },
    {
     "name": "stderr",
     "output_type": "stream",
     "text": [
      "\u001b[34m\u001b[1mwandb\u001b[0m: Downloading large artifact lgbm:v184, 271.94MB. 3 files... Done. 0:0:0\n",
      "\u001b[34m\u001b[1mwandb\u001b[0m: Downloading large artifact lgbm:v185, 274.33MB. 3 files... Done. 0:0:0\n",
      "\u001b[34m\u001b[1mwandb\u001b[0m: Downloading large artifact lgbm:v186, 242.67MB. 3 files... Done. 0:0:0\n",
      "\u001b[34m\u001b[1mwandb\u001b[0m: Downloading large artifact lgbm:v187, 243.74MB. 3 files... Done. 0:0:0\n",
      "\u001b[34m\u001b[1mwandb\u001b[0m: Downloading large artifact lgbm:v188, 235.93MB. 3 files... Done. 0:0:0\n",
      "\u001b[34m\u001b[1mwandb\u001b[0m: Downloading large artifact lgbm:v189, 215.22MB. 3 files... Done. 0:0:0\n",
      "\u001b[34m\u001b[1mwandb\u001b[0m: Downloading large artifact lgbm:v190, 275.19MB. 3 files... Done. 0:0:0\n",
      "\u001b[34m\u001b[1mwandb\u001b[0m: Downloading large artifact lgbm:v191, 234.21MB. 3 files... Done. 0:0:0\n",
      "\u001b[34m\u001b[1mwandb\u001b[0m: Downloading large artifact lgbm:v192, 235.93MB. 3 files... Done. 0:0:0\n",
      "\u001b[34m\u001b[1mwandb\u001b[0m: Downloading large artifact lgbm:v193, 207.59MB. 3 files... Done. 0:0:0\n",
      "\u001b[34m\u001b[1mwandb\u001b[0m: Downloading large artifact lgbm:v194, 222.93MB. 3 files... Done. 0:0:0\n",
      "\u001b[34m\u001b[1mwandb\u001b[0m: Downloading large artifact lgbm:v195, 264.24MB. 3 files... Done. 0:0:0\n",
      "100%|██████████| 500000/500000 [00:08<00:00, 60416.69it/s]\n"
     ]
    },
    {
     "name": "stdout",
     "output_type": "stream",
     "text": [
      "| \u001b[0m 15      \u001b[0m | \u001b[0m 0.7107  \u001b[0m | \u001b[0m 0.2252  \u001b[0m | \u001b[0m 0.5698  \u001b[0m | \u001b[0m 0.9577  \u001b[0m | \u001b[0m 0.6424  \u001b[0m | \u001b[0m 0.3439  \u001b[0m | \u001b[0m 0.3117  \u001b[0m | \u001b[0m 0.9899  \u001b[0m | \u001b[0m 0.3249  \u001b[0m | \u001b[0m 0.000135\u001b[0m | \u001b[0m 0.3585  \u001b[0m | \u001b[0m 0.8     \u001b[0m | \u001b[0m 0.6594  \u001b[0m |\n"
     ]
    },
    {
     "name": "stderr",
     "output_type": "stream",
     "text": [
      "\u001b[34m\u001b[1mwandb\u001b[0m: Downloading large artifact lgbm:v184, 271.94MB. 3 files... Done. 0:0:0\n",
      "\u001b[34m\u001b[1mwandb\u001b[0m: Downloading large artifact lgbm:v185, 274.33MB. 3 files... Done. 0:0:0\n",
      "\u001b[34m\u001b[1mwandb\u001b[0m: Downloading large artifact lgbm:v186, 242.67MB. 3 files... Done. 0:0:0\n",
      "\u001b[34m\u001b[1mwandb\u001b[0m: Downloading large artifact lgbm:v187, 243.74MB. 3 files... Done. 0:0:0\n",
      "\u001b[34m\u001b[1mwandb\u001b[0m: Downloading large artifact lgbm:v188, 235.93MB. 3 files... Done. 0:0:0\n",
      "\u001b[34m\u001b[1mwandb\u001b[0m: Downloading large artifact lgbm:v189, 215.22MB. 3 files... Done. 0:0:0\n",
      "\u001b[34m\u001b[1mwandb\u001b[0m: Downloading large artifact lgbm:v190, 275.19MB. 3 files... Done. 0:0:0\n",
      "\u001b[34m\u001b[1mwandb\u001b[0m: Downloading large artifact lgbm:v191, 234.21MB. 3 files... Done. 0:0:0\n",
      "\u001b[34m\u001b[1mwandb\u001b[0m: Downloading large artifact lgbm:v192, 235.93MB. 3 files... Done. 0:0:0\n",
      "\u001b[34m\u001b[1mwandb\u001b[0m: Downloading large artifact lgbm:v193, 207.59MB. 3 files... Done. 0:0:0\n",
      "\u001b[34m\u001b[1mwandb\u001b[0m: Downloading large artifact lgbm:v194, 222.93MB. 3 files... Done. 0:0:0\n",
      "\u001b[34m\u001b[1mwandb\u001b[0m: Downloading large artifact lgbm:v195, 264.24MB. 3 files... Done. 0:0:0\n",
      "100%|██████████| 500000/500000 [00:08<00:00, 59575.69it/s]\n"
     ]
    },
    {
     "name": "stdout",
     "output_type": "stream",
     "text": [
      "| \u001b[0m 16      \u001b[0m | \u001b[0m 0.708   \u001b[0m | \u001b[0m 0.2095  \u001b[0m | \u001b[0m 0.3596  \u001b[0m | \u001b[0m 0.593   \u001b[0m | \u001b[0m 0.4663  \u001b[0m | \u001b[0m 0.9543  \u001b[0m | \u001b[0m 0.5406  \u001b[0m | \u001b[0m 0.02592 \u001b[0m | \u001b[0m 0.8756  \u001b[0m | \u001b[0m 0.4914  \u001b[0m | \u001b[0m 0.4343  \u001b[0m | \u001b[0m 0.283   \u001b[0m | \u001b[0m 0.918   \u001b[0m |\n"
     ]
    },
    {
     "name": "stderr",
     "output_type": "stream",
     "text": [
      "\u001b[34m\u001b[1mwandb\u001b[0m: Downloading large artifact lgbm:v184, 271.94MB. 3 files... Done. 0:0:0\n",
      "\u001b[34m\u001b[1mwandb\u001b[0m: Downloading large artifact lgbm:v185, 274.33MB. 3 files... Done. 0:0:0\n",
      "\u001b[34m\u001b[1mwandb\u001b[0m: Downloading large artifact lgbm:v186, 242.67MB. 3 files... Done. 0:0:0\n",
      "\u001b[34m\u001b[1mwandb\u001b[0m: Downloading large artifact lgbm:v187, 243.74MB. 3 files... Done. 0:0:0\n",
      "\u001b[34m\u001b[1mwandb\u001b[0m: Downloading large artifact lgbm:v188, 235.93MB. 3 files... Done. 0:0:0\n",
      "\u001b[34m\u001b[1mwandb\u001b[0m: Downloading large artifact lgbm:v189, 215.22MB. 3 files... Done. 0:0:0\n",
      "\u001b[34m\u001b[1mwandb\u001b[0m: Downloading large artifact lgbm:v190, 275.19MB. 3 files... Done. 0:0:0\n",
      "\u001b[34m\u001b[1mwandb\u001b[0m: Downloading large artifact lgbm:v191, 234.21MB. 3 files... Done. 0:0:0\n",
      "\u001b[34m\u001b[1mwandb\u001b[0m: Downloading large artifact lgbm:v192, 235.93MB. 3 files... Done. 0:0:0\n",
      "\u001b[34m\u001b[1mwandb\u001b[0m: Downloading large artifact lgbm:v193, 207.59MB. 3 files... Done. 0:0:0\n",
      "\u001b[34m\u001b[1mwandb\u001b[0m: Downloading large artifact lgbm:v194, 222.93MB. 3 files... Done. 0:0:0\n",
      "\u001b[34m\u001b[1mwandb\u001b[0m: Downloading large artifact lgbm:v195, 264.24MB. 3 files... Done. 0:0:0\n",
      "100%|██████████| 500000/500000 [00:08<00:00, 60225.80it/s]\n"
     ]
    },
    {
     "name": "stdout",
     "output_type": "stream",
     "text": [
      "| \u001b[0m 17      \u001b[0m | \u001b[0m 0.7102  \u001b[0m | \u001b[0m 0.7233  \u001b[0m | \u001b[0m 0.6483  \u001b[0m | \u001b[0m 0.9006  \u001b[0m | \u001b[0m 0.2514  \u001b[0m | \u001b[0m 0.6694  \u001b[0m | \u001b[0m 0.6483  \u001b[0m | \u001b[0m 0.377   \u001b[0m | \u001b[0m 0.2817  \u001b[0m | \u001b[0m 0.1818  \u001b[0m | \u001b[0m 0.05854 \u001b[0m | \u001b[0m 0.5484  \u001b[0m | \u001b[0m 0.8447  \u001b[0m |\n"
     ]
    },
    {
     "name": "stderr",
     "output_type": "stream",
     "text": [
      "\u001b[34m\u001b[1mwandb\u001b[0m: Downloading large artifact lgbm:v184, 271.94MB. 3 files... Done. 0:0:0\n",
      "\u001b[34m\u001b[1mwandb\u001b[0m: Downloading large artifact lgbm:v185, 274.33MB. 3 files... Done. 0:0:0\n",
      "\u001b[34m\u001b[1mwandb\u001b[0m: Downloading large artifact lgbm:v186, 242.67MB. 3 files... Done. 0:0:0\n",
      "\u001b[34m\u001b[1mwandb\u001b[0m: Downloading large artifact lgbm:v187, 243.74MB. 3 files... Done. 0:0:0\n",
      "\u001b[34m\u001b[1mwandb\u001b[0m: Downloading large artifact lgbm:v188, 235.93MB. 3 files... Done. 0:0:0\n",
      "\u001b[34m\u001b[1mwandb\u001b[0m: Downloading large artifact lgbm:v189, 215.22MB. 3 files... Done. 0:0:0\n",
      "\u001b[34m\u001b[1mwandb\u001b[0m: Downloading large artifact lgbm:v190, 275.19MB. 3 files... Done. 0:0:0\n",
      "\u001b[34m\u001b[1mwandb\u001b[0m: Downloading large artifact lgbm:v191, 234.21MB. 3 files... Done. 0:0:0\n",
      "\u001b[34m\u001b[1mwandb\u001b[0m: Downloading large artifact lgbm:v192, 235.93MB. 3 files... Done. 0:0:0\n",
      "\u001b[34m\u001b[1mwandb\u001b[0m: Downloading large artifact lgbm:v193, 207.59MB. 3 files... Done. 0:0:0\n",
      "\u001b[34m\u001b[1mwandb\u001b[0m: Downloading large artifact lgbm:v194, 222.93MB. 3 files... Done. 0:0:0\n",
      "\u001b[34m\u001b[1mwandb\u001b[0m: Downloading large artifact lgbm:v195, 264.24MB. 3 files... Done. 0:0:0\n",
      "100%|██████████| 500000/500000 [00:08<00:00, 59913.41it/s]\n"
     ]
    },
    {
     "name": "stdout",
     "output_type": "stream",
     "text": [
      "| \u001b[0m 18      \u001b[0m | \u001b[0m 0.71    \u001b[0m | \u001b[0m 0.4622  \u001b[0m | \u001b[0m 0.5517  \u001b[0m | \u001b[0m 0.6267  \u001b[0m | \u001b[0m 0.1062  \u001b[0m | \u001b[0m 0.5919  \u001b[0m | \u001b[0m 0.5929  \u001b[0m | \u001b[0m 0.6894  \u001b[0m | \u001b[0m 0.5558  \u001b[0m | \u001b[0m 0.8447  \u001b[0m | \u001b[0m 0.9811  \u001b[0m | \u001b[0m 0.9514  \u001b[0m | \u001b[0m 0.262   \u001b[0m |\n"
     ]
    },
    {
     "name": "stderr",
     "output_type": "stream",
     "text": [
      "\u001b[34m\u001b[1mwandb\u001b[0m: Downloading large artifact lgbm:v184, 271.94MB. 3 files... Done. 0:0:0\n",
      "\u001b[34m\u001b[1mwandb\u001b[0m: Downloading large artifact lgbm:v185, 274.33MB. 3 files... Done. 0:0:0\n",
      "\u001b[34m\u001b[1mwandb\u001b[0m: Downloading large artifact lgbm:v186, 242.67MB. 3 files... Done. 0:0:0\n",
      "\u001b[34m\u001b[1mwandb\u001b[0m: Downloading large artifact lgbm:v187, 243.74MB. 3 files... Done. 0:0:0\n",
      "\u001b[34m\u001b[1mwandb\u001b[0m: Downloading large artifact lgbm:v188, 235.93MB. 3 files... Done. 0:0:0\n",
      "\u001b[34m\u001b[1mwandb\u001b[0m: Downloading large artifact lgbm:v189, 215.22MB. 3 files... Done. 0:0:0\n",
      "\u001b[34m\u001b[1mwandb\u001b[0m: Downloading large artifact lgbm:v190, 275.19MB. 3 files... Done. 0:0:0\n",
      "\u001b[34m\u001b[1mwandb\u001b[0m: Downloading large artifact lgbm:v191, 234.21MB. 3 files... Done. 0:0:0\n",
      "\u001b[34m\u001b[1mwandb\u001b[0m: Downloading large artifact lgbm:v192, 235.93MB. 3 files... Done. 0:0:0\n",
      "\u001b[34m\u001b[1mwandb\u001b[0m: Downloading large artifact lgbm:v193, 207.59MB. 3 files... Done. 0:0:0\n",
      "\u001b[34m\u001b[1mwandb\u001b[0m: Downloading large artifact lgbm:v194, 222.93MB. 3 files... Done. 0:0:0\n",
      "\u001b[34m\u001b[1mwandb\u001b[0m: Downloading large artifact lgbm:v195, 264.24MB. 3 files... Done. 0:0:0\n",
      "100%|██████████| 500000/500000 [00:05<00:00, 88527.08it/s]\n"
     ]
    },
    {
     "name": "stdout",
     "output_type": "stream",
     "text": [
      "| \u001b[0m 19      \u001b[0m | \u001b[0m 0.7098  \u001b[0m | \u001b[0m 0.1297  \u001b[0m | \u001b[0m 0.02057 \u001b[0m | \u001b[0m 0.2604  \u001b[0m | \u001b[0m 0.8199  \u001b[0m | \u001b[0m 0.8007  \u001b[0m | \u001b[0m 0.291   \u001b[0m | \u001b[0m 0.612   \u001b[0m | \u001b[0m 0.1267  \u001b[0m | \u001b[0m 0.4992  \u001b[0m | \u001b[0m 0.165   \u001b[0m | \u001b[0m 0.4165  \u001b[0m | \u001b[0m 0.9483  \u001b[0m |\n"
     ]
    },
    {
     "name": "stderr",
     "output_type": "stream",
     "text": [
      "\u001b[34m\u001b[1mwandb\u001b[0m: Downloading large artifact lgbm:v184, 271.94MB. 3 files... Done. 0:0:0\n",
      "\u001b[34m\u001b[1mwandb\u001b[0m: Downloading large artifact lgbm:v185, 274.33MB. 3 files... Done. 0:0:0\n",
      "\u001b[34m\u001b[1mwandb\u001b[0m: Downloading large artifact lgbm:v186, 242.67MB. 3 files... Done. 0:0:0\n",
      "\u001b[34m\u001b[1mwandb\u001b[0m: Downloading large artifact lgbm:v187, 243.74MB. 3 files... Done. 0:0:0\n",
      "\u001b[34m\u001b[1mwandb\u001b[0m: Downloading large artifact lgbm:v188, 235.93MB. 3 files... Done. 0:0:0\n",
      "\u001b[34m\u001b[1mwandb\u001b[0m: Downloading large artifact lgbm:v189, 215.22MB. 3 files... Done. 0:0:0\n",
      "\u001b[34m\u001b[1mwandb\u001b[0m: Downloading large artifact lgbm:v190, 275.19MB. 3 files... Done. 0:0:0\n",
      "\u001b[34m\u001b[1mwandb\u001b[0m: Downloading large artifact lgbm:v191, 234.21MB. 3 files... Done. 0:0:0\n",
      "\u001b[34m\u001b[1mwandb\u001b[0m: Downloading large artifact lgbm:v192, 235.93MB. 3 files... Done. 0:0:0\n",
      "\u001b[34m\u001b[1mwandb\u001b[0m: Downloading large artifact lgbm:v193, 207.59MB. 3 files... Done. 0:0:0\n",
      "\u001b[34m\u001b[1mwandb\u001b[0m: Downloading large artifact lgbm:v194, 222.93MB. 3 files... Done. 0:0:0\n",
      "\u001b[34m\u001b[1mwandb\u001b[0m: Downloading large artifact lgbm:v195, 264.24MB. 3 files... Done. 0:0:0\n",
      "100%|██████████| 500000/500000 [00:05<00:00, 87799.61it/s]\n"
     ]
    },
    {
     "name": "stdout",
     "output_type": "stream",
     "text": [
      "| \u001b[0m 20      \u001b[0m | \u001b[0m 0.7107  \u001b[0m | \u001b[0m 0.1929  \u001b[0m | \u001b[0m 0.1946  \u001b[0m | \u001b[0m 0.9195  \u001b[0m | \u001b[0m 0.3999  \u001b[0m | \u001b[0m 0.1677  \u001b[0m | \u001b[0m 0.05304 \u001b[0m | \u001b[0m 0.6043  \u001b[0m | \u001b[0m 0.8676  \u001b[0m | \u001b[0m 0.08904 \u001b[0m | \u001b[0m 0.4649  \u001b[0m | \u001b[0m 0.6346  \u001b[0m | \u001b[0m 0.4806  \u001b[0m |\n"
     ]
    },
    {
     "name": "stderr",
     "output_type": "stream",
     "text": [
      "\u001b[34m\u001b[1mwandb\u001b[0m: Downloading large artifact lgbm:v184, 271.94MB. 3 files... Done. 0:0:0\n",
      "\u001b[34m\u001b[1mwandb\u001b[0m: Downloading large artifact lgbm:v185, 274.33MB. 3 files... Done. 0:0:0\n",
      "\u001b[34m\u001b[1mwandb\u001b[0m: Downloading large artifact lgbm:v186, 242.67MB. 3 files... Done. 0:0:0\n",
      "\u001b[34m\u001b[1mwandb\u001b[0m: Downloading large artifact lgbm:v187, 243.74MB. 3 files... Done. 0:0:0\n",
      "\u001b[34m\u001b[1mwandb\u001b[0m: Downloading large artifact lgbm:v188, 235.93MB. 3 files... Done. 0:0:0\n",
      "\u001b[34m\u001b[1mwandb\u001b[0m: Downloading large artifact lgbm:v189, 215.22MB. 3 files... Done. 0:0:0\n",
      "\u001b[34m\u001b[1mwandb\u001b[0m: Downloading large artifact lgbm:v190, 275.19MB. 3 files... Done. 0:0:0\n",
      "\u001b[34m\u001b[1mwandb\u001b[0m: Downloading large artifact lgbm:v191, 234.21MB. 3 files... Done. 0:0:0\n",
      "\u001b[34m\u001b[1mwandb\u001b[0m: Downloading large artifact lgbm:v192, 235.93MB. 3 files... Done. 0:0:0\n",
      "\u001b[34m\u001b[1mwandb\u001b[0m: Downloading large artifact lgbm:v193, 207.59MB. 3 files... Done. 0:0:0\n",
      "\u001b[34m\u001b[1mwandb\u001b[0m: Downloading large artifact lgbm:v194, 222.93MB. 3 files... Done. 0:0:0\n",
      "\u001b[34m\u001b[1mwandb\u001b[0m: Downloading large artifact lgbm:v195, 264.24MB. 3 files... Done. 0:0:0\n",
      "100%|██████████| 500000/500000 [00:18<00:00, 26942.02it/s]\n"
     ]
    },
    {
     "name": "stdout",
     "output_type": "stream",
     "text": [
      "| \u001b[0m 21      \u001b[0m | \u001b[0m 0.71    \u001b[0m | \u001b[0m 0.6995  \u001b[0m | \u001b[0m 0.9786  \u001b[0m | \u001b[0m 0.8229  \u001b[0m | \u001b[0m 0.3458  \u001b[0m | \u001b[0m 0.2607  \u001b[0m | \u001b[0m 0.8414  \u001b[0m | \u001b[0m 0.6452  \u001b[0m | \u001b[0m 0.702   \u001b[0m | \u001b[0m 0.2689  \u001b[0m | \u001b[0m 0.9026  \u001b[0m | \u001b[0m 0.9575  \u001b[0m | \u001b[0m 0.1049  \u001b[0m |\n"
     ]
    },
    {
     "name": "stderr",
     "output_type": "stream",
     "text": [
      "\u001b[34m\u001b[1mwandb\u001b[0m: Downloading large artifact lgbm:v184, 271.94MB. 3 files... Done. 0:0:0\n",
      "\u001b[34m\u001b[1mwandb\u001b[0m: Downloading large artifact lgbm:v185, 274.33MB. 3 files... Done. 0:0:0\n",
      "\u001b[34m\u001b[1mwandb\u001b[0m: Downloading large artifact lgbm:v186, 242.67MB. 3 files... Done. 0:0:0\n",
      "\u001b[34m\u001b[1mwandb\u001b[0m: Downloading large artifact lgbm:v187, 243.74MB. 3 files... Done. 0:0:0\n",
      "\u001b[34m\u001b[1mwandb\u001b[0m: Downloading large artifact lgbm:v188, 235.93MB. 3 files... Done. 0:0:0\n",
      "\u001b[34m\u001b[1mwandb\u001b[0m: Downloading large artifact lgbm:v189, 215.22MB. 3 files... Done. 0:0:0\n",
      "\u001b[34m\u001b[1mwandb\u001b[0m: Downloading large artifact lgbm:v190, 275.19MB. 3 files... Done. 0:0:0\n",
      "\u001b[34m\u001b[1mwandb\u001b[0m: Downloading large artifact lgbm:v191, 234.21MB. 3 files... Done. 0:0:0\n",
      "\u001b[34m\u001b[1mwandb\u001b[0m: Downloading large artifact lgbm:v192, 235.93MB. 3 files... Done. 0:0:0\n",
      "\u001b[34m\u001b[1mwandb\u001b[0m: Downloading large artifact lgbm:v193, 207.59MB. 3 files... Done. 0:0:0\n",
      "\u001b[34m\u001b[1mwandb\u001b[0m: Downloading large artifact lgbm:v194, 222.93MB. 3 files... Done. 0:0:0\n",
      "\u001b[34m\u001b[1mwandb\u001b[0m: Downloading large artifact lgbm:v195, 264.24MB. 3 files... Done. 0:0:0\n",
      "100%|██████████| 500000/500000 [00:13<00:00, 36472.55it/s]\n"
     ]
    },
    {
     "name": "stdout",
     "output_type": "stream",
     "text": [
      "| \u001b[0m 22      \u001b[0m | \u001b[0m 0.7098  \u001b[0m | \u001b[0m 0.8763  \u001b[0m | \u001b[0m 0.3325  \u001b[0m | \u001b[0m 0.6262  \u001b[0m | \u001b[0m 0.193   \u001b[0m | \u001b[0m 0.5668  \u001b[0m | \u001b[0m 0.2618  \u001b[0m | \u001b[0m 0.01365 \u001b[0m | \u001b[0m 0.798   \u001b[0m | \u001b[0m 0.8219  \u001b[0m | \u001b[0m 0.8396  \u001b[0m | \u001b[0m 0.8486  \u001b[0m | \u001b[0m 0.9398  \u001b[0m |\n"
     ]
    },
    {
     "name": "stderr",
     "output_type": "stream",
     "text": [
      "\u001b[34m\u001b[1mwandb\u001b[0m: Downloading large artifact lgbm:v184, 271.94MB. 3 files... Done. 0:0:0\n",
      "\u001b[34m\u001b[1mwandb\u001b[0m: Downloading large artifact lgbm:v185, 274.33MB. 3 files... Done. 0:0:0\n",
      "\u001b[34m\u001b[1mwandb\u001b[0m: Downloading large artifact lgbm:v186, 242.67MB. 3 files... Done. 0:0:0\n",
      "\u001b[34m\u001b[1mwandb\u001b[0m: Downloading large artifact lgbm:v187, 243.74MB. 3 files... Done. 0:0:0\n",
      "\u001b[34m\u001b[1mwandb\u001b[0m: Downloading large artifact lgbm:v188, 235.93MB. 3 files... Done. 0:0:0\n",
      "\u001b[34m\u001b[1mwandb\u001b[0m: Downloading large artifact lgbm:v189, 215.22MB. 3 files... Done. 0:0:0\n",
      "\u001b[34m\u001b[1mwandb\u001b[0m: Downloading large artifact lgbm:v190, 275.19MB. 3 files... Done. 0:0:0\n",
      "\u001b[34m\u001b[1mwandb\u001b[0m: Downloading large artifact lgbm:v191, 234.21MB. 3 files... Done. 0:0:0\n",
      "\u001b[34m\u001b[1mwandb\u001b[0m: Downloading large artifact lgbm:v192, 235.93MB. 3 files... Done. 0:0:0\n",
      "\u001b[34m\u001b[1mwandb\u001b[0m: Downloading large artifact lgbm:v193, 207.59MB. 3 files... Done. 0:0:0\n",
      "\u001b[34m\u001b[1mwandb\u001b[0m: Downloading large artifact lgbm:v194, 222.93MB. 3 files... Done. 0:0:0\n",
      "\u001b[34m\u001b[1mwandb\u001b[0m: Downloading large artifact lgbm:v195, 264.24MB. 3 files... Done. 0:0:0\n",
      "100%|██████████| 500000/500000 [00:18<00:00, 26732.49it/s]\n"
     ]
    },
    {
     "name": "stdout",
     "output_type": "stream",
     "text": [
      "| \u001b[0m 23      \u001b[0m | \u001b[0m 0.7122  \u001b[0m | \u001b[0m 0.01902 \u001b[0m | \u001b[0m 0.4429  \u001b[0m | \u001b[0m 0.6206  \u001b[0m | \u001b[0m 0.5693  \u001b[0m | \u001b[0m 0.01684 \u001b[0m | \u001b[0m 0.03132 \u001b[0m | \u001b[0m 0.8277  \u001b[0m | \u001b[0m 0.1646  \u001b[0m | \u001b[0m 0.7783  \u001b[0m | \u001b[0m 0.1966  \u001b[0m | \u001b[0m 0.1361  \u001b[0m | \u001b[0m 0.555   \u001b[0m |\n"
     ]
    },
    {
     "name": "stderr",
     "output_type": "stream",
     "text": [
      "\u001b[34m\u001b[1mwandb\u001b[0m: Downloading large artifact lgbm:v184, 271.94MB. 3 files... Done. 0:0:0\n",
      "\u001b[34m\u001b[1mwandb\u001b[0m: Downloading large artifact lgbm:v185, 274.33MB. 3 files... Done. 0:0:0\n",
      "\u001b[34m\u001b[1mwandb\u001b[0m: Downloading large artifact lgbm:v186, 242.67MB. 3 files... Done. 0:0:0\n",
      "\u001b[34m\u001b[1mwandb\u001b[0m: Downloading large artifact lgbm:v187, 243.74MB. 3 files... Done. 0:0:0\n",
      "\u001b[34m\u001b[1mwandb\u001b[0m: Downloading large artifact lgbm:v188, 235.93MB. 3 files... Done. 0:0:0\n",
      "\u001b[34m\u001b[1mwandb\u001b[0m: Downloading large artifact lgbm:v189, 215.22MB. 3 files... Done. 0:0:0\n",
      "\u001b[34m\u001b[1mwandb\u001b[0m: Downloading large artifact lgbm:v190, 275.19MB. 3 files... Done. 0:0:0\n",
      "\u001b[34m\u001b[1mwandb\u001b[0m: Downloading large artifact lgbm:v191, 234.21MB. 3 files... Done. 0:0:0\n",
      "\u001b[34m\u001b[1mwandb\u001b[0m: Downloading large artifact lgbm:v192, 235.93MB. 3 files... Done. 0:0:0\n",
      "\u001b[34m\u001b[1mwandb\u001b[0m: Downloading large artifact lgbm:v193, 207.59MB. 3 files... Done. 0:0:0\n",
      "\u001b[34m\u001b[1mwandb\u001b[0m: Downloading large artifact lgbm:v194, 222.93MB. 3 files... Done. 0:0:0\n",
      "\u001b[34m\u001b[1mwandb\u001b[0m: Downloading large artifact lgbm:v195, 264.24MB. 3 files... Done. 0:0:0\n",
      "100%|██████████| 500000/500000 [00:14<00:00, 33459.04it/s]\n"
     ]
    },
    {
     "name": "stdout",
     "output_type": "stream",
     "text": [
      "| \u001b[0m 24      \u001b[0m | \u001b[0m 0.7103  \u001b[0m | \u001b[0m 0.7472  \u001b[0m | \u001b[0m 0.7862  \u001b[0m | \u001b[0m 0.09085 \u001b[0m | \u001b[0m 0.4586  \u001b[0m | \u001b[0m 0.9914  \u001b[0m | \u001b[0m 0.0492  \u001b[0m | \u001b[0m 0.5184  \u001b[0m | \u001b[0m 0.4723  \u001b[0m | \u001b[0m 0.82    \u001b[0m | \u001b[0m 0.4111  \u001b[0m | \u001b[0m 0.06464 \u001b[0m | \u001b[0m 0.244   \u001b[0m |\n"
     ]
    },
    {
     "name": "stderr",
     "output_type": "stream",
     "text": [
      "\u001b[34m\u001b[1mwandb\u001b[0m: Downloading large artifact lgbm:v184, 271.94MB. 3 files... Done. 0:0:0\n",
      "\u001b[34m\u001b[1mwandb\u001b[0m: Downloading large artifact lgbm:v185, 274.33MB. 3 files... Done. 0:0:0\n",
      "\u001b[34m\u001b[1mwandb\u001b[0m: Downloading large artifact lgbm:v186, 242.67MB. 3 files... Done. 0:0:0\n",
      "\u001b[34m\u001b[1mwandb\u001b[0m: Downloading large artifact lgbm:v187, 243.74MB. 3 files... Done. 0:0:0\n",
      "\u001b[34m\u001b[1mwandb\u001b[0m: Downloading large artifact lgbm:v188, 235.93MB. 3 files... Done. 0:0:0\n",
      "\u001b[34m\u001b[1mwandb\u001b[0m: Downloading large artifact lgbm:v189, 215.22MB. 3 files... Done. 0:0:0\n",
      "\u001b[34m\u001b[1mwandb\u001b[0m: Downloading large artifact lgbm:v190, 275.19MB. 3 files... Done. 0:0:0\n",
      "\u001b[34m\u001b[1mwandb\u001b[0m: Downloading large artifact lgbm:v191, 234.21MB. 3 files... Done. 0:0:0\n",
      "\u001b[34m\u001b[1mwandb\u001b[0m: Downloading large artifact lgbm:v192, 235.93MB. 3 files... Done. 0:0:0\n",
      "\u001b[34m\u001b[1mwandb\u001b[0m: Downloading large artifact lgbm:v193, 207.59MB. 3 files... Done. 0:0:0\n",
      "\u001b[34m\u001b[1mwandb\u001b[0m: Downloading large artifact lgbm:v194, 222.93MB. 3 files... Done. 0:0:0\n",
      "\u001b[34m\u001b[1mwandb\u001b[0m: Downloading large artifact lgbm:v195, 264.24MB. 3 files... Done. 0:0:0\n",
      "100%|██████████| 500000/500000 [00:05<00:00, 87237.46it/s]\n"
     ]
    },
    {
     "name": "stdout",
     "output_type": "stream",
     "text": [
      "| \u001b[0m 25      \u001b[0m | \u001b[0m 0.7108  \u001b[0m | \u001b[0m 0.5285  \u001b[0m | \u001b[0m 0.7089  \u001b[0m | \u001b[0m 0.3746  \u001b[0m | \u001b[0m 0.9227  \u001b[0m | \u001b[0m 0.4282  \u001b[0m | \u001b[0m 0.01547 \u001b[0m | \u001b[0m 0.6609  \u001b[0m | \u001b[0m 0.8925  \u001b[0m | \u001b[0m 0.8899  \u001b[0m | \u001b[0m 0.5467  \u001b[0m | \u001b[0m 0.5267  \u001b[0m | \u001b[0m 0.1507  \u001b[0m |\n"
     ]
    },
    {
     "name": "stderr",
     "output_type": "stream",
     "text": [
      "\u001b[34m\u001b[1mwandb\u001b[0m: Downloading large artifact lgbm:v184, 271.94MB. 3 files... Done. 0:0:0\n",
      "\u001b[34m\u001b[1mwandb\u001b[0m: Downloading large artifact lgbm:v185, 274.33MB. 3 files... Done. 0:0:0\n",
      "\u001b[34m\u001b[1mwandb\u001b[0m: Downloading large artifact lgbm:v186, 242.67MB. 3 files... Done. 0:0:0\n",
      "\u001b[34m\u001b[1mwandb\u001b[0m: Downloading large artifact lgbm:v187, 243.74MB. 3 files... Done. 0:0:0\n",
      "\u001b[34m\u001b[1mwandb\u001b[0m: Downloading large artifact lgbm:v188, 235.93MB. 3 files... Done. 0:0:0\n",
      "\u001b[34m\u001b[1mwandb\u001b[0m: Downloading large artifact lgbm:v189, 215.22MB. 3 files... Done. 0:0:0\n",
      "\u001b[34m\u001b[1mwandb\u001b[0m: Downloading large artifact lgbm:v190, 275.19MB. 3 files... Done. 0:0:0\n",
      "\u001b[34m\u001b[1mwandb\u001b[0m: Downloading large artifact lgbm:v191, 234.21MB. 3 files... Done. 0:0:0\n",
      "\u001b[34m\u001b[1mwandb\u001b[0m: Downloading large artifact lgbm:v192, 235.93MB. 3 files... Done. 0:0:0\n",
      "\u001b[34m\u001b[1mwandb\u001b[0m: Downloading large artifact lgbm:v193, 207.59MB. 3 files... Done. 0:0:0\n",
      "\u001b[34m\u001b[1mwandb\u001b[0m: Downloading large artifact lgbm:v194, 222.93MB. 3 files... Done. 0:0:0\n",
      "\u001b[34m\u001b[1mwandb\u001b[0m: Downloading large artifact lgbm:v195, 264.24MB. 3 files... Done. 0:0:0\n",
      "100%|██████████| 500000/500000 [00:05<00:00, 86641.98it/s]\n"
     ]
    },
    {
     "name": "stdout",
     "output_type": "stream",
     "text": [
      "| \u001b[0m 26      \u001b[0m | \u001b[0m 0.7103  \u001b[0m | \u001b[0m 0.6761  \u001b[0m | \u001b[0m 0.1781  \u001b[0m | \u001b[0m 0.8701  \u001b[0m | \u001b[0m 0.5414  \u001b[0m | \u001b[0m 0.9444  \u001b[0m | \u001b[0m 0.4095  \u001b[0m | \u001b[0m 0.7371  \u001b[0m | \u001b[0m 0.956   \u001b[0m | \u001b[0m 0.1831  \u001b[0m | \u001b[0m 0.4407  \u001b[0m | \u001b[0m 0.5942  \u001b[0m | \u001b[0m 0.3527  \u001b[0m |\n"
     ]
    },
    {
     "name": "stderr",
     "output_type": "stream",
     "text": [
      "\u001b[34m\u001b[1mwandb\u001b[0m: Downloading large artifact lgbm:v184, 271.94MB. 3 files... Done. 0:0:0\n",
      "\u001b[34m\u001b[1mwandb\u001b[0m: Downloading large artifact lgbm:v185, 274.33MB. 3 files... Done. 0:0:0\n",
      "\u001b[34m\u001b[1mwandb\u001b[0m: Downloading large artifact lgbm:v186, 242.67MB. 3 files... Done. 0:0:0\n",
      "\u001b[34m\u001b[1mwandb\u001b[0m: Downloading large artifact lgbm:v187, 243.74MB. 3 files... Done. 0:0:0\n",
      "\u001b[34m\u001b[1mwandb\u001b[0m: Downloading large artifact lgbm:v188, 235.93MB. 3 files... Done. 0:0:0\n",
      "\u001b[34m\u001b[1mwandb\u001b[0m: Downloading large artifact lgbm:v189, 215.22MB. 3 files... Done. 0:0:0\n",
      "\u001b[34m\u001b[1mwandb\u001b[0m: Downloading large artifact lgbm:v190, 275.19MB. 3 files... Done. 0:0:0\n",
      "\u001b[34m\u001b[1mwandb\u001b[0m: Downloading large artifact lgbm:v191, 234.21MB. 3 files... Done. 0:0:0\n",
      "\u001b[34m\u001b[1mwandb\u001b[0m: Downloading large artifact lgbm:v192, 235.93MB. 3 files... Done. 0:0:0\n",
      "\u001b[34m\u001b[1mwandb\u001b[0m: Downloading large artifact lgbm:v193, 207.59MB. 3 files... Done. 0:0:0\n",
      "\u001b[34m\u001b[1mwandb\u001b[0m: Downloading large artifact lgbm:v194, 222.93MB. 3 files... Done. 0:0:0\n",
      "\u001b[34m\u001b[1mwandb\u001b[0m: Downloading large artifact lgbm:v195, 264.24MB. 3 files... Done. 0:0:0\n",
      "100%|██████████| 500000/500000 [00:05<00:00, 83365.97it/s]\n"
     ]
    },
    {
     "name": "stdout",
     "output_type": "stream",
     "text": [
      "| \u001b[0m 27      \u001b[0m | \u001b[0m 0.7115  \u001b[0m | \u001b[0m 0.9914  \u001b[0m | \u001b[0m 0.1142  \u001b[0m | \u001b[0m 0.6897  \u001b[0m | \u001b[0m 0.6229  \u001b[0m | \u001b[0m 0.1487  \u001b[0m | \u001b[0m 0.5263  \u001b[0m | \u001b[0m 0.2394  \u001b[0m | \u001b[0m 0.28    \u001b[0m | \u001b[0m 0.3381  \u001b[0m | \u001b[0m 0.1491  \u001b[0m | \u001b[0m 0.4714  \u001b[0m | \u001b[0m 0.6931  \u001b[0m |\n"
     ]
    },
    {
     "name": "stderr",
     "output_type": "stream",
     "text": [
      "\u001b[34m\u001b[1mwandb\u001b[0m: Downloading large artifact lgbm:v184, 271.94MB. 3 files... Done. 0:0:0\n",
      "\u001b[34m\u001b[1mwandb\u001b[0m: Downloading large artifact lgbm:v185, 274.33MB. 3 files... Done. 0:0:0\n",
      "\u001b[34m\u001b[1mwandb\u001b[0m: Downloading large artifact lgbm:v186, 242.67MB. 3 files... Done. 0:0:0\n",
      "\u001b[34m\u001b[1mwandb\u001b[0m: Downloading large artifact lgbm:v187, 243.74MB. 3 files... Done. 0:0:0\n",
      "\u001b[34m\u001b[1mwandb\u001b[0m: Downloading large artifact lgbm:v188, 235.93MB. 3 files... Done. 0:0:0\n",
      "\u001b[34m\u001b[1mwandb\u001b[0m: Downloading large artifact lgbm:v189, 215.22MB. 3 files... Done. 0:0:0\n",
      "\u001b[34m\u001b[1mwandb\u001b[0m: Downloading large artifact lgbm:v190, 275.19MB. 3 files... Done. 0:0:0\n",
      "\u001b[34m\u001b[1mwandb\u001b[0m: Downloading large artifact lgbm:v191, 234.21MB. 3 files... Done. 0:0:0\n",
      "\u001b[34m\u001b[1mwandb\u001b[0m: Downloading large artifact lgbm:v192, 235.93MB. 3 files... Done. 0:0:0\n",
      "\u001b[34m\u001b[1mwandb\u001b[0m: Downloading large artifact lgbm:v193, 207.59MB. 3 files... Done. 0:0:0\n",
      "\u001b[34m\u001b[1mwandb\u001b[0m: Downloading large artifact lgbm:v194, 222.93MB. 3 files... Done. 0:0:0\n",
      "\u001b[34m\u001b[1mwandb\u001b[0m: Downloading large artifact lgbm:v195, 264.24MB. 3 files... Done. 0:0:0\n",
      "100%|██████████| 500000/500000 [00:05<00:00, 86673.42it/s]\n"
     ]
    },
    {
     "name": "stdout",
     "output_type": "stream",
     "text": [
      "| \u001b[0m 28      \u001b[0m | \u001b[0m 0.7082  \u001b[0m | \u001b[0m 0.1172  \u001b[0m | \u001b[0m 0.3209  \u001b[0m | \u001b[0m 0.2926  \u001b[0m | \u001b[0m 0.8611  \u001b[0m | \u001b[0m 0.3972  \u001b[0m | \u001b[0m 0.9979  \u001b[0m | \u001b[0m 0.2243  \u001b[0m | \u001b[0m 0.6637  \u001b[0m | \u001b[0m 0.6537  \u001b[0m | \u001b[0m 0.4634  \u001b[0m | \u001b[0m 0.7322  \u001b[0m | \u001b[0m 0.7295  \u001b[0m |\n"
     ]
    },
    {
     "name": "stderr",
     "output_type": "stream",
     "text": [
      "\u001b[34m\u001b[1mwandb\u001b[0m: Downloading large artifact lgbm:v184, 271.94MB. 3 files... Done. 0:0:0\n",
      "\u001b[34m\u001b[1mwandb\u001b[0m: Downloading large artifact lgbm:v185, 274.33MB. 3 files... Done. 0:0:0\n",
      "\u001b[34m\u001b[1mwandb\u001b[0m: Downloading large artifact lgbm:v186, 242.67MB. 3 files... Done. 0:0:0\n",
      "\u001b[34m\u001b[1mwandb\u001b[0m: Downloading large artifact lgbm:v187, 243.74MB. 3 files... Done. 0:0:0\n",
      "\u001b[34m\u001b[1mwandb\u001b[0m: Downloading large artifact lgbm:v188, 235.93MB. 3 files... Done. 0:0:0\n",
      "\u001b[34m\u001b[1mwandb\u001b[0m: Downloading large artifact lgbm:v189, 215.22MB. 3 files... Done. 0:0:0\n",
      "\u001b[34m\u001b[1mwandb\u001b[0m: Downloading large artifact lgbm:v190, 275.19MB. 3 files... Done. 0:0:0\n",
      "\u001b[34m\u001b[1mwandb\u001b[0m: Downloading large artifact lgbm:v191, 234.21MB. 3 files... Done. 0:0:0\n",
      "\u001b[34m\u001b[1mwandb\u001b[0m: Downloading large artifact lgbm:v192, 235.93MB. 3 files... Done. 0:0:0\n",
      "\u001b[34m\u001b[1mwandb\u001b[0m: Downloading large artifact lgbm:v193, 207.59MB. 3 files... Done. 0:0:0\n",
      "\u001b[34m\u001b[1mwandb\u001b[0m: Downloading large artifact lgbm:v194, 222.93MB. 3 files... Done. 0:0:0\n",
      "\u001b[34m\u001b[1mwandb\u001b[0m: Downloading large artifact lgbm:v195, 264.24MB. 3 files... Done. 0:0:0\n",
      "100%|██████████| 500000/500000 [00:05<00:00, 83844.28it/s]\n"
     ]
    },
    {
     "name": "stdout",
     "output_type": "stream",
     "text": [
      "| \u001b[0m 29      \u001b[0m | \u001b[0m 0.7105  \u001b[0m | \u001b[0m 0.9604  \u001b[0m | \u001b[0m 0.4356  \u001b[0m | \u001b[0m 0.07819 \u001b[0m | \u001b[0m 0.9639  \u001b[0m | \u001b[0m 0.1369  \u001b[0m | \u001b[0m 0.9537  \u001b[0m | \u001b[0m 0.9821  \u001b[0m | \u001b[0m 0.5374  \u001b[0m | \u001b[0m 0.4328  \u001b[0m | \u001b[0m 0.06482 \u001b[0m | \u001b[0m 0.3775  \u001b[0m | \u001b[0m 0.996   \u001b[0m |\n"
     ]
    },
    {
     "name": "stderr",
     "output_type": "stream",
     "text": [
      "\u001b[34m\u001b[1mwandb\u001b[0m: Downloading large artifact lgbm:v184, 271.94MB. 3 files... Done. 0:0:0\n",
      "\u001b[34m\u001b[1mwandb\u001b[0m: Downloading large artifact lgbm:v185, 274.33MB. 3 files... Done. 0:0:0\n",
      "\u001b[34m\u001b[1mwandb\u001b[0m: Downloading large artifact lgbm:v186, 242.67MB. 3 files... Done. 0:0:0\n",
      "\u001b[34m\u001b[1mwandb\u001b[0m: Downloading large artifact lgbm:v187, 243.74MB. 3 files... Done. 0:0:0\n",
      "\u001b[34m\u001b[1mwandb\u001b[0m: Downloading large artifact lgbm:v188, 235.93MB. 3 files... Done. 0:0:0\n",
      "\u001b[34m\u001b[1mwandb\u001b[0m: Downloading large artifact lgbm:v189, 215.22MB. 3 files... Done. 0:0:0\n",
      "\u001b[34m\u001b[1mwandb\u001b[0m: Downloading large artifact lgbm:v190, 275.19MB. 3 files... Done. 0:0:0\n",
      "\u001b[34m\u001b[1mwandb\u001b[0m: Downloading large artifact lgbm:v191, 234.21MB. 3 files... Done. 0:0:0\n",
      "\u001b[34m\u001b[1mwandb\u001b[0m: Downloading large artifact lgbm:v192, 235.93MB. 3 files... Done. 0:0:0\n",
      "\u001b[34m\u001b[1mwandb\u001b[0m: Downloading large artifact lgbm:v193, 207.59MB. 3 files... Done. 0:0:0\n",
      "\u001b[34m\u001b[1mwandb\u001b[0m: Downloading large artifact lgbm:v194, 222.93MB. 3 files... Done. 0:0:0\n",
      "\u001b[34m\u001b[1mwandb\u001b[0m: Downloading large artifact lgbm:v195, 264.24MB. 3 files... Done. 0:0:0\n",
      "100%|██████████| 500000/500000 [00:05<00:00, 89010.49it/s]\n"
     ]
    },
    {
     "name": "stdout",
     "output_type": "stream",
     "text": [
      "| \u001b[0m 30      \u001b[0m | \u001b[0m 0.7104  \u001b[0m | \u001b[0m 0.2986  \u001b[0m | \u001b[0m 0.2267  \u001b[0m | \u001b[0m 0.0823  \u001b[0m | \u001b[0m 0.3477  \u001b[0m | \u001b[0m 0.5267  \u001b[0m | \u001b[0m 0.1707  \u001b[0m | \u001b[0m 0.7675  \u001b[0m | \u001b[0m 0.55    \u001b[0m | \u001b[0m 0.3345  \u001b[0m | \u001b[0m 0.343   \u001b[0m | \u001b[0m 0.04414 \u001b[0m | \u001b[0m 0.06452 \u001b[0m |\n"
     ]
    },
    {
     "name": "stderr",
     "output_type": "stream",
     "text": [
      "\u001b[34m\u001b[1mwandb\u001b[0m: Downloading large artifact lgbm:v184, 271.94MB. 3 files... Done. 0:0:0\n",
      "\u001b[34m\u001b[1mwandb\u001b[0m: Downloading large artifact lgbm:v185, 274.33MB. 3 files... Done. 0:0:0\n",
      "\u001b[34m\u001b[1mwandb\u001b[0m: Downloading large artifact lgbm:v186, 242.67MB. 3 files... Done. 0:0:0\n",
      "\u001b[34m\u001b[1mwandb\u001b[0m: Downloading large artifact lgbm:v187, 243.74MB. 3 files... Done. 0:0:0\n",
      "\u001b[34m\u001b[1mwandb\u001b[0m: Downloading large artifact lgbm:v188, 235.93MB. 3 files... Done. 0:0:0\n",
      "\u001b[34m\u001b[1mwandb\u001b[0m: Downloading large artifact lgbm:v189, 215.22MB. 3 files... Done. 0:0:0\n",
      "\u001b[34m\u001b[1mwandb\u001b[0m: Downloading large artifact lgbm:v190, 275.19MB. 3 files... Done. 0:0:0\n",
      "\u001b[34m\u001b[1mwandb\u001b[0m: Downloading large artifact lgbm:v191, 234.21MB. 3 files... Done. 0:0:0\n",
      "\u001b[34m\u001b[1mwandb\u001b[0m: Downloading large artifact lgbm:v192, 235.93MB. 3 files... Done. 0:0:0\n",
      "\u001b[34m\u001b[1mwandb\u001b[0m: Downloading large artifact lgbm:v193, 207.59MB. 3 files... Done. 0:0:0\n",
      "\u001b[34m\u001b[1mwandb\u001b[0m: Downloading large artifact lgbm:v194, 222.93MB. 3 files... Done. 0:0:0\n",
      "\u001b[34m\u001b[1mwandb\u001b[0m: Downloading large artifact lgbm:v195, 264.24MB. 3 files... Done. 0:0:0\n",
      "100%|██████████| 500000/500000 [00:05<00:00, 89535.93it/s]\n"
     ]
    },
    {
     "name": "stdout",
     "output_type": "stream",
     "text": [
      "| \u001b[0m 31      \u001b[0m | \u001b[0m 0.7102  \u001b[0m | \u001b[0m 0.6327  \u001b[0m | \u001b[0m 0.8192  \u001b[0m | \u001b[0m 0.8233  \u001b[0m | \u001b[0m 0.1244  \u001b[0m | \u001b[0m 0.2563  \u001b[0m | \u001b[0m 0.4627  \u001b[0m | \u001b[0m 0.4172  \u001b[0m | \u001b[0m 0.6313  \u001b[0m | \u001b[0m 0.3499  \u001b[0m | \u001b[0m 0.1587  \u001b[0m | \u001b[0m 0.9167  \u001b[0m | \u001b[0m 0.592   \u001b[0m |\n"
     ]
    },
    {
     "name": "stderr",
     "output_type": "stream",
     "text": [
      "\u001b[34m\u001b[1mwandb\u001b[0m: Downloading large artifact lgbm:v184, 271.94MB. 3 files... Done. 0:0:0\n",
      "\u001b[34m\u001b[1mwandb\u001b[0m: Downloading large artifact lgbm:v185, 274.33MB. 3 files... Done. 0:0:0\n",
      "\u001b[34m\u001b[1mwandb\u001b[0m: Downloading large artifact lgbm:v186, 242.67MB. 3 files... Done. 0:0:0\n",
      "\u001b[34m\u001b[1mwandb\u001b[0m: Downloading large artifact lgbm:v187, 243.74MB. 3 files... Done. 0:0:0\n",
      "\u001b[34m\u001b[1mwandb\u001b[0m: Downloading large artifact lgbm:v188, 235.93MB. 3 files... Done. 0:0:0\n",
      "\u001b[34m\u001b[1mwandb\u001b[0m: Downloading large artifact lgbm:v189, 215.22MB. 3 files... Done. 0:0:0\n",
      "\u001b[34m\u001b[1mwandb\u001b[0m: Downloading large artifact lgbm:v190, 275.19MB. 3 files... Done. 0:0:0\n",
      "\u001b[34m\u001b[1mwandb\u001b[0m: Downloading large artifact lgbm:v191, 234.21MB. 3 files... Done. 0:0:0\n",
      "\u001b[34m\u001b[1mwandb\u001b[0m: Downloading large artifact lgbm:v192, 235.93MB. 3 files... Done. 0:0:0\n",
      "\u001b[34m\u001b[1mwandb\u001b[0m: Downloading large artifact lgbm:v193, 207.59MB. 3 files... Done. 0:0:0\n",
      "\u001b[34m\u001b[1mwandb\u001b[0m: Downloading large artifact lgbm:v194, 222.93MB. 3 files... Done. 0:0:0\n",
      "\u001b[34m\u001b[1mwandb\u001b[0m: Downloading large artifact lgbm:v195, 264.24MB. 3 files... Done. 0:0:0\n",
      "100%|██████████| 500000/500000 [00:05<00:00, 89696.87it/s]\n"
     ]
    },
    {
     "name": "stdout",
     "output_type": "stream",
     "text": [
      "| \u001b[0m 32      \u001b[0m | \u001b[0m 0.7107  \u001b[0m | \u001b[0m 0.98    \u001b[0m | \u001b[0m 0.154   \u001b[0m | \u001b[0m 0.928   \u001b[0m | \u001b[0m 0.5414  \u001b[0m | \u001b[0m 0.9457  \u001b[0m | \u001b[0m 0.4932  \u001b[0m | \u001b[0m 0.1094  \u001b[0m | \u001b[0m 0.4539  \u001b[0m | \u001b[0m 0.6968  \u001b[0m | \u001b[0m 0.5128  \u001b[0m | \u001b[0m 0.6027  \u001b[0m | \u001b[0m 0.1285  \u001b[0m |\n"
     ]
    },
    {
     "name": "stderr",
     "output_type": "stream",
     "text": [
      "\u001b[34m\u001b[1mwandb\u001b[0m: Downloading large artifact lgbm:v184, 271.94MB. 3 files... Done. 0:0:0\n",
      "\u001b[34m\u001b[1mwandb\u001b[0m: Downloading large artifact lgbm:v185, 274.33MB. 3 files... Done. 0:0:0\n",
      "\u001b[34m\u001b[1mwandb\u001b[0m: Downloading large artifact lgbm:v186, 242.67MB. 3 files... Done. 0:0:0\n",
      "\u001b[34m\u001b[1mwandb\u001b[0m: Downloading large artifact lgbm:v187, 243.74MB. 3 files... Done. 0:0:0\n",
      "\u001b[34m\u001b[1mwandb\u001b[0m: Downloading large artifact lgbm:v188, 235.93MB. 3 files... Done. 0:0:0\n",
      "\u001b[34m\u001b[1mwandb\u001b[0m: Downloading large artifact lgbm:v189, 215.22MB. 3 files... Done. 0:0:0\n",
      "\u001b[34m\u001b[1mwandb\u001b[0m: Downloading large artifact lgbm:v190, 275.19MB. 3 files... Done. 0:0:0\n",
      "\u001b[34m\u001b[1mwandb\u001b[0m: Downloading large artifact lgbm:v191, 234.21MB. 3 files... Done. 0:0:0\n",
      "\u001b[34m\u001b[1mwandb\u001b[0m: Downloading large artifact lgbm:v192, 235.93MB. 3 files... Done. 0:0:0\n",
      "\u001b[34m\u001b[1mwandb\u001b[0m: Downloading large artifact lgbm:v193, 207.59MB. 3 files... Done. 0:0:0\n",
      "\u001b[34m\u001b[1mwandb\u001b[0m: Downloading large artifact lgbm:v194, 222.93MB. 3 files... Done. 0:0:0\n",
      "\u001b[34m\u001b[1mwandb\u001b[0m: Downloading large artifact lgbm:v195, 264.24MB. 3 files... Done. 0:0:0\n",
      "100%|██████████| 500000/500000 [00:05<00:00, 89133.67it/s]\n"
     ]
    },
    {
     "name": "stdout",
     "output_type": "stream",
     "text": [
      "| \u001b[0m 33      \u001b[0m | \u001b[0m 0.7098  \u001b[0m | \u001b[0m 0.3985  \u001b[0m | \u001b[0m 0.5152  \u001b[0m | \u001b[0m 0.7556  \u001b[0m | \u001b[0m 0.1525  \u001b[0m | \u001b[0m 0.5853  \u001b[0m | \u001b[0m 0.9829  \u001b[0m | \u001b[0m 0.6298  \u001b[0m | \u001b[0m 0.4766  \u001b[0m | \u001b[0m 0.7402  \u001b[0m | \u001b[0m 0.1365  \u001b[0m | \u001b[0m 0.9352  \u001b[0m | \u001b[0m 0.6465  \u001b[0m |\n"
     ]
    },
    {
     "name": "stderr",
     "output_type": "stream",
     "text": [
      "\u001b[34m\u001b[1mwandb\u001b[0m: Downloading large artifact lgbm:v184, 271.94MB. 3 files... Done. 0:0:0\n",
      "\u001b[34m\u001b[1mwandb\u001b[0m: Downloading large artifact lgbm:v185, 274.33MB. 3 files... Done. 0:0:0\n",
      "\u001b[34m\u001b[1mwandb\u001b[0m: Downloading large artifact lgbm:v186, 242.67MB. 3 files... Done. 0:0:0\n",
      "\u001b[34m\u001b[1mwandb\u001b[0m: Downloading large artifact lgbm:v187, 243.74MB. 3 files... Done. 0:0:0\n",
      "\u001b[34m\u001b[1mwandb\u001b[0m: Downloading large artifact lgbm:v188, 235.93MB. 3 files... Done. 0:0:0\n",
      "\u001b[34m\u001b[1mwandb\u001b[0m: Downloading large artifact lgbm:v189, 215.22MB. 3 files... Done. 0:0:0\n",
      "\u001b[34m\u001b[1mwandb\u001b[0m: Downloading large artifact lgbm:v190, 275.19MB. 3 files... Done. 0:0:0\n",
      "\u001b[34m\u001b[1mwandb\u001b[0m: Downloading large artifact lgbm:v191, 234.21MB. 3 files... Done. 0:0:0\n",
      "\u001b[34m\u001b[1mwandb\u001b[0m: Downloading large artifact lgbm:v192, 235.93MB. 3 files... Done. 0:0:0\n",
      "\u001b[34m\u001b[1mwandb\u001b[0m: Downloading large artifact lgbm:v193, 207.59MB. 3 files... Done. 0:0:0\n",
      "\u001b[34m\u001b[1mwandb\u001b[0m: Downloading large artifact lgbm:v194, 222.93MB. 3 files... Done. 0:0:0\n",
      "\u001b[34m\u001b[1mwandb\u001b[0m: Downloading large artifact lgbm:v195, 264.24MB. 3 files... Done. 0:0:0\n",
      "100%|██████████| 500000/500000 [00:05<00:00, 88066.30it/s]\n"
     ]
    },
    {
     "name": "stdout",
     "output_type": "stream",
     "text": [
      "| \u001b[0m 34      \u001b[0m | \u001b[0m 0.7102  \u001b[0m | \u001b[0m 0.4513  \u001b[0m | \u001b[0m 0.6165  \u001b[0m | \u001b[0m 0.4185  \u001b[0m | \u001b[0m 0.07928 \u001b[0m | \u001b[0m 0.09983 \u001b[0m | \u001b[0m 0.5814  \u001b[0m | \u001b[0m 0.5185  \u001b[0m | \u001b[0m 0.7396  \u001b[0m | \u001b[0m 0.8072  \u001b[0m | \u001b[0m 0.4729  \u001b[0m | \u001b[0m 0.4857  \u001b[0m | \u001b[0m 0.4062  \u001b[0m |\n"
     ]
    },
    {
     "name": "stderr",
     "output_type": "stream",
     "text": [
      "\u001b[34m\u001b[1mwandb\u001b[0m: Downloading large artifact lgbm:v184, 271.94MB. 3 files... Done. 0:0:0\n",
      "\u001b[34m\u001b[1mwandb\u001b[0m: Downloading large artifact lgbm:v185, 274.33MB. 3 files... Done. 0:0:0\n",
      "\u001b[34m\u001b[1mwandb\u001b[0m: Downloading large artifact lgbm:v186, 242.67MB. 3 files... Done. 0:0:0\n",
      "\u001b[34m\u001b[1mwandb\u001b[0m: Downloading large artifact lgbm:v187, 243.74MB. 3 files... Done. 0:0:0\n",
      "\u001b[34m\u001b[1mwandb\u001b[0m: Downloading large artifact lgbm:v188, 235.93MB. 3 files... Done. 0:0:0\n",
      "\u001b[34m\u001b[1mwandb\u001b[0m: Downloading large artifact lgbm:v189, 215.22MB. 3 files... Done. 0:0:0\n",
      "\u001b[34m\u001b[1mwandb\u001b[0m: Downloading large artifact lgbm:v190, 275.19MB. 3 files... Done. 0:0:0\n",
      "\u001b[34m\u001b[1mwandb\u001b[0m: Downloading large artifact lgbm:v191, 234.21MB. 3 files... Done. 0:0:0\n",
      "\u001b[34m\u001b[1mwandb\u001b[0m: Downloading large artifact lgbm:v192, 235.93MB. 3 files... Done. 0:0:0\n",
      "\u001b[34m\u001b[1mwandb\u001b[0m: Downloading large artifact lgbm:v193, 207.59MB. 3 files... Done. 0:0:0\n",
      "\u001b[34m\u001b[1mwandb\u001b[0m: Downloading large artifact lgbm:v194, 222.93MB. 3 files... Done. 0:0:0\n",
      "\u001b[34m\u001b[1mwandb\u001b[0m: Downloading large artifact lgbm:v195, 264.24MB. 3 files... Done. 0:0:0\n",
      "100%|██████████| 500000/500000 [00:05<00:00, 88882.79it/s]\n"
     ]
    },
    {
     "name": "stdout",
     "output_type": "stream",
     "text": [
      "| \u001b[0m 35      \u001b[0m | \u001b[0m 0.7095  \u001b[0m | \u001b[0m 0.01357 \u001b[0m | \u001b[0m 0.4522  \u001b[0m | \u001b[0m 0.5713  \u001b[0m | \u001b[0m 0.8963  \u001b[0m | \u001b[0m 0.8601  \u001b[0m | \u001b[0m 0.3309  \u001b[0m | \u001b[0m 0.4447  \u001b[0m | \u001b[0m 0.2966  \u001b[0m | \u001b[0m 0.5029  \u001b[0m | \u001b[0m 0.004132\u001b[0m | \u001b[0m 0.7869  \u001b[0m | \u001b[0m 0.4132  \u001b[0m |\n"
     ]
    },
    {
     "name": "stderr",
     "output_type": "stream",
     "text": [
      "\u001b[34m\u001b[1mwandb\u001b[0m: Downloading large artifact lgbm:v184, 271.94MB. 3 files... Done. 0:0:0\n",
      "\u001b[34m\u001b[1mwandb\u001b[0m: Downloading large artifact lgbm:v185, 274.33MB. 3 files... Done. 0:0:0\n",
      "\u001b[34m\u001b[1mwandb\u001b[0m: Downloading large artifact lgbm:v186, 242.67MB. 3 files... Done. 0:0:0\n",
      "\u001b[34m\u001b[1mwandb\u001b[0m: Downloading large artifact lgbm:v187, 243.74MB. 3 files... Done. 0:0:0\n",
      "\u001b[34m\u001b[1mwandb\u001b[0m: Downloading large artifact lgbm:v188, 235.93MB. 3 files... Done. 0:0:0\n",
      "\u001b[34m\u001b[1mwandb\u001b[0m: Downloading large artifact lgbm:v189, 215.22MB. 3 files... Done. 0:0:0\n",
      "\u001b[34m\u001b[1mwandb\u001b[0m: Downloading large artifact lgbm:v190, 275.19MB. 3 files... Done. 0:0:0\n",
      "\u001b[34m\u001b[1mwandb\u001b[0m: Downloading large artifact lgbm:v191, 234.21MB. 3 files... Done. 0:0:0\n",
      "\u001b[34m\u001b[1mwandb\u001b[0m: Downloading large artifact lgbm:v192, 235.93MB. 3 files... Done. 0:0:0\n",
      "\u001b[34m\u001b[1mwandb\u001b[0m: Downloading large artifact lgbm:v193, 207.59MB. 3 files... Done. 0:0:0\n",
      "\u001b[34m\u001b[1mwandb\u001b[0m: Downloading large artifact lgbm:v194, 222.93MB. 3 files... Done. 0:0:0\n",
      "\u001b[34m\u001b[1mwandb\u001b[0m: Downloading large artifact lgbm:v195, 264.24MB. 3 files... Done. 0:0:0\n",
      "100%|██████████| 500000/500000 [00:05<00:00, 89233.55it/s]\n"
     ]
    },
    {
     "name": "stdout",
     "output_type": "stream",
     "text": [
      "| \u001b[0m 36      \u001b[0m | \u001b[0m 0.7104  \u001b[0m | \u001b[0m 0.7551  \u001b[0m | \u001b[0m 0.8278  \u001b[0m | \u001b[0m 0.6329  \u001b[0m | \u001b[0m 0.5668  \u001b[0m | \u001b[0m 0.7894  \u001b[0m | \u001b[0m 0.8606  \u001b[0m | \u001b[0m 0.8199  \u001b[0m | \u001b[0m 0.3089  \u001b[0m | \u001b[0m 0.5652  \u001b[0m | \u001b[0m 0.5929  \u001b[0m | \u001b[0m 0.4172  \u001b[0m | \u001b[0m 0.2206  \u001b[0m |\n"
     ]
    },
    {
     "name": "stderr",
     "output_type": "stream",
     "text": [
      "\u001b[34m\u001b[1mwandb\u001b[0m: Downloading large artifact lgbm:v184, 271.94MB. 3 files... Done. 0:0:0\n",
      "\u001b[34m\u001b[1mwandb\u001b[0m: Downloading large artifact lgbm:v185, 274.33MB. 3 files... Done. 0:0:0\n",
      "\u001b[34m\u001b[1mwandb\u001b[0m: Downloading large artifact lgbm:v186, 242.67MB. 3 files... Done. 0:0:0\n",
      "\u001b[34m\u001b[1mwandb\u001b[0m: Downloading large artifact lgbm:v187, 243.74MB. 3 files... Done. 0:0:0\n",
      "\u001b[34m\u001b[1mwandb\u001b[0m: Downloading large artifact lgbm:v188, 235.93MB. 3 files... Done. 0:0:0\n",
      "\u001b[34m\u001b[1mwandb\u001b[0m: Downloading large artifact lgbm:v189, 215.22MB. 3 files... Done. 0:0:0\n",
      "\u001b[34m\u001b[1mwandb\u001b[0m: Downloading large artifact lgbm:v190, 275.19MB. 3 files... Done. 0:0:0\n",
      "\u001b[34m\u001b[1mwandb\u001b[0m: Downloading large artifact lgbm:v191, 234.21MB. 3 files... Done. 0:0:0\n",
      "\u001b[34m\u001b[1mwandb\u001b[0m: Downloading large artifact lgbm:v192, 235.93MB. 3 files... Done. 0:0:0\n",
      "\u001b[34m\u001b[1mwandb\u001b[0m: Downloading large artifact lgbm:v193, 207.59MB. 3 files... Done. 0:0:0\n",
      "\u001b[34m\u001b[1mwandb\u001b[0m: Downloading large artifact lgbm:v194, 222.93MB. 3 files... Done. 0:0:0\n",
      "\u001b[34m\u001b[1mwandb\u001b[0m: Downloading large artifact lgbm:v195, 264.24MB. 3 files... Done. 0:0:0\n",
      "100%|██████████| 500000/500000 [00:05<00:00, 89498.04it/s]\n"
     ]
    },
    {
     "name": "stdout",
     "output_type": "stream",
     "text": [
      "| \u001b[0m 37      \u001b[0m | \u001b[0m 0.7092  \u001b[0m | \u001b[0m 0.5073  \u001b[0m | \u001b[0m 0.3743  \u001b[0m | \u001b[0m 0.5315  \u001b[0m | \u001b[0m 0.6126  \u001b[0m | \u001b[0m 0.8028  \u001b[0m | \u001b[0m 0.6739  \u001b[0m | \u001b[0m 0.6526  \u001b[0m | \u001b[0m 0.8853  \u001b[0m | \u001b[0m 0.3076  \u001b[0m | \u001b[0m 0.5168  \u001b[0m | \u001b[0m 0.8025  \u001b[0m | \u001b[0m 0.9803  \u001b[0m |\n"
     ]
    },
    {
     "name": "stderr",
     "output_type": "stream",
     "text": [
      "\u001b[34m\u001b[1mwandb\u001b[0m: Downloading large artifact lgbm:v184, 271.94MB. 3 files... Done. 0:0:0\n",
      "\u001b[34m\u001b[1mwandb\u001b[0m: Downloading large artifact lgbm:v185, 274.33MB. 3 files... Done. 0:0:0\n",
      "\u001b[34m\u001b[1mwandb\u001b[0m: Downloading large artifact lgbm:v186, 242.67MB. 3 files... Done. 0:0:0\n",
      "\u001b[34m\u001b[1mwandb\u001b[0m: Downloading large artifact lgbm:v187, 243.74MB. 3 files... Done. 0:0:0\n",
      "\u001b[34m\u001b[1mwandb\u001b[0m: Downloading large artifact lgbm:v188, 235.93MB. 3 files... Done. 0:0:0\n",
      "\u001b[34m\u001b[1mwandb\u001b[0m: Downloading large artifact lgbm:v189, 215.22MB. 3 files... Done. 0:0:0\n",
      "\u001b[34m\u001b[1mwandb\u001b[0m: Downloading large artifact lgbm:v190, 275.19MB. 3 files... Done. 0:0:0\n",
      "\u001b[34m\u001b[1mwandb\u001b[0m: Downloading large artifact lgbm:v191, 234.21MB. 3 files... Done. 0:0:0\n",
      "\u001b[34m\u001b[1mwandb\u001b[0m: Downloading large artifact lgbm:v192, 235.93MB. 3 files... Done. 0:0:0\n",
      "\u001b[34m\u001b[1mwandb\u001b[0m: Downloading large artifact lgbm:v193, 207.59MB. 3 files... Done. 0:0:0\n",
      "\u001b[34m\u001b[1mwandb\u001b[0m: Downloading large artifact lgbm:v194, 222.93MB. 3 files... Done. 0:0:0\n",
      "\u001b[34m\u001b[1mwandb\u001b[0m: Downloading large artifact lgbm:v195, 264.24MB. 3 files... Done. 0:0:0\n",
      "100%|██████████| 500000/500000 [00:05<00:00, 88508.31it/s]\n"
     ]
    },
    {
     "name": "stdout",
     "output_type": "stream",
     "text": [
      "| \u001b[0m 38      \u001b[0m | \u001b[0m 0.7102  \u001b[0m | \u001b[0m 0.9772  \u001b[0m | \u001b[0m 0.6596  \u001b[0m | \u001b[0m 0.5734  \u001b[0m | \u001b[0m 0.1576  \u001b[0m | \u001b[0m 0.2393  \u001b[0m | \u001b[0m 0.3089  \u001b[0m | \u001b[0m 0.3386  \u001b[0m | \u001b[0m 0.6257  \u001b[0m | \u001b[0m 0.1814  \u001b[0m | \u001b[0m 0.9045  \u001b[0m | \u001b[0m 0.6953  \u001b[0m | \u001b[0m 0.537   \u001b[0m |\n"
     ]
    },
    {
     "name": "stderr",
     "output_type": "stream",
     "text": [
      "\u001b[34m\u001b[1mwandb\u001b[0m: Downloading large artifact lgbm:v184, 271.94MB. 3 files... Done. 0:0:0\n",
      "\u001b[34m\u001b[1mwandb\u001b[0m: Downloading large artifact lgbm:v185, 274.33MB. 3 files... Done. 0:0:0\n",
      "\u001b[34m\u001b[1mwandb\u001b[0m: Downloading large artifact lgbm:v186, 242.67MB. 3 files... Done. 0:0:0\n",
      "\u001b[34m\u001b[1mwandb\u001b[0m: Downloading large artifact lgbm:v187, 243.74MB. 3 files... Done. 0:0:0\n",
      "\u001b[34m\u001b[1mwandb\u001b[0m: Downloading large artifact lgbm:v188, 235.93MB. 3 files... Done. 0:0:0\n",
      "\u001b[34m\u001b[1mwandb\u001b[0m: Downloading large artifact lgbm:v189, 215.22MB. 3 files... Done. 0:0:0\n",
      "\u001b[34m\u001b[1mwandb\u001b[0m: Downloading large artifact lgbm:v190, 275.19MB. 3 files... Done. 0:0:0\n",
      "\u001b[34m\u001b[1mwandb\u001b[0m: Downloading large artifact lgbm:v191, 234.21MB. 3 files... Done. 0:0:0\n",
      "\u001b[34m\u001b[1mwandb\u001b[0m: Downloading large artifact lgbm:v192, 235.93MB. 3 files... Done. 0:0:0\n",
      "\u001b[34m\u001b[1mwandb\u001b[0m: Downloading large artifact lgbm:v193, 207.59MB. 3 files... Done. 0:0:0\n",
      "\u001b[34m\u001b[1mwandb\u001b[0m: Downloading large artifact lgbm:v194, 222.93MB. 3 files... Done. 0:0:0\n",
      "\u001b[34m\u001b[1mwandb\u001b[0m: Downloading large artifact lgbm:v195, 264.24MB. 3 files... Done. 0:0:0\n",
      "100%|██████████| 500000/500000 [00:05<00:00, 89232.90it/s]\n"
     ]
    },
    {
     "name": "stdout",
     "output_type": "stream",
     "text": [
      "| \u001b[0m 39      \u001b[0m | \u001b[0m 0.7117  \u001b[0m | \u001b[0m 0.9431  \u001b[0m | \u001b[0m 0.1875  \u001b[0m | \u001b[0m 0.1691  \u001b[0m | \u001b[0m 0.7903  \u001b[0m | \u001b[0m 0.01195 \u001b[0m | \u001b[0m 0.3752  \u001b[0m | \u001b[0m 0.7882  \u001b[0m | \u001b[0m 0.0433  \u001b[0m | \u001b[0m 0.4636  \u001b[0m | \u001b[0m 0.6904  \u001b[0m | \u001b[0m 0.3184  \u001b[0m | \u001b[0m 0.6782  \u001b[0m |\n"
     ]
    },
    {
     "name": "stderr",
     "output_type": "stream",
     "text": [
      "\u001b[34m\u001b[1mwandb\u001b[0m: Downloading large artifact lgbm:v184, 271.94MB. 3 files... Done. 0:0:0\n",
      "\u001b[34m\u001b[1mwandb\u001b[0m: Downloading large artifact lgbm:v185, 274.33MB. 3 files... Done. 0:0:0\n",
      "\u001b[34m\u001b[1mwandb\u001b[0m: Downloading large artifact lgbm:v186, 242.67MB. 3 files... Done. 0:0:0\n",
      "\u001b[34m\u001b[1mwandb\u001b[0m: Downloading large artifact lgbm:v187, 243.74MB. 3 files... Done. 0:0:0\n",
      "\u001b[34m\u001b[1mwandb\u001b[0m: Downloading large artifact lgbm:v188, 235.93MB. 3 files... Done. 0:0:0\n",
      "\u001b[34m\u001b[1mwandb\u001b[0m: Downloading large artifact lgbm:v189, 215.22MB. 3 files... Done. 0:0:0\n",
      "\u001b[34m\u001b[1mwandb\u001b[0m: Downloading large artifact lgbm:v190, 275.19MB. 3 files... Done. 0:0:0\n",
      "\u001b[34m\u001b[1mwandb\u001b[0m: Downloading large artifact lgbm:v191, 234.21MB. 3 files... Done. 0:0:0\n",
      "\u001b[34m\u001b[1mwandb\u001b[0m: Downloading large artifact lgbm:v192, 235.93MB. 3 files... Done. 0:0:0\n",
      "\u001b[34m\u001b[1mwandb\u001b[0m: Downloading large artifact lgbm:v193, 207.59MB. 3 files... Done. 0:0:0\n",
      "\u001b[34m\u001b[1mwandb\u001b[0m: Downloading large artifact lgbm:v194, 222.93MB. 3 files... Done. 0:0:0\n",
      "\u001b[34m\u001b[1mwandb\u001b[0m: Downloading large artifact lgbm:v195, 264.24MB. 3 files... Done. 0:0:0\n",
      "100%|██████████| 500000/500000 [00:05<00:00, 88534.59it/s]\n"
     ]
    },
    {
     "name": "stdout",
     "output_type": "stream",
     "text": [
      "| \u001b[0m 40      \u001b[0m | \u001b[0m 0.71    \u001b[0m | \u001b[0m 0.6194  \u001b[0m | \u001b[0m 0.7053  \u001b[0m | \u001b[0m 0.5999  \u001b[0m | \u001b[0m 0.5501  \u001b[0m | \u001b[0m 0.8497  \u001b[0m | \u001b[0m 0.2357  \u001b[0m | \u001b[0m 0.8793  \u001b[0m | \u001b[0m 0.5735  \u001b[0m | \u001b[0m 0.1211  \u001b[0m | \u001b[0m 0.7159  \u001b[0m | \u001b[0m 0.9085  \u001b[0m | \u001b[0m 0.5847  \u001b[0m |\n"
     ]
    },
    {
     "name": "stderr",
     "output_type": "stream",
     "text": [
      "\u001b[34m\u001b[1mwandb\u001b[0m: Downloading large artifact lgbm:v184, 271.94MB. 3 files... Done. 0:0:0\n",
      "\u001b[34m\u001b[1mwandb\u001b[0m: Downloading large artifact lgbm:v185, 274.33MB. 3 files... Done. 0:0:0\n",
      "\u001b[34m\u001b[1mwandb\u001b[0m: Downloading large artifact lgbm:v186, 242.67MB. 3 files... Done. 0:0:0\n",
      "\u001b[34m\u001b[1mwandb\u001b[0m: Downloading large artifact lgbm:v187, 243.74MB. 3 files... Done. 0:0:0\n",
      "\u001b[34m\u001b[1mwandb\u001b[0m: Downloading large artifact lgbm:v188, 235.93MB. 3 files... Done. 0:0:0\n",
      "\u001b[34m\u001b[1mwandb\u001b[0m: Downloading large artifact lgbm:v189, 215.22MB. 3 files... Done. 0:0:0\n",
      "\u001b[34m\u001b[1mwandb\u001b[0m: Downloading large artifact lgbm:v190, 275.19MB. 3 files... Done. 0:0:0\n",
      "\u001b[34m\u001b[1mwandb\u001b[0m: Downloading large artifact lgbm:v191, 234.21MB. 3 files... Done. 0:0:0\n",
      "\u001b[34m\u001b[1mwandb\u001b[0m: Downloading large artifact lgbm:v192, 235.93MB. 3 files... Done. 0:0:0\n",
      "\u001b[34m\u001b[1mwandb\u001b[0m: Downloading large artifact lgbm:v193, 207.59MB. 3 files... Done. 0:0:0\n",
      "\u001b[34m\u001b[1mwandb\u001b[0m: Downloading large artifact lgbm:v194, 222.93MB. 3 files... Done. 0:0:0\n",
      "\u001b[34m\u001b[1mwandb\u001b[0m: Downloading large artifact lgbm:v195, 264.24MB. 3 files... Done. 0:0:0\n",
      "100%|██████████| 500000/500000 [00:05<00:00, 88602.79it/s]\n"
     ]
    },
    {
     "name": "stdout",
     "output_type": "stream",
     "text": [
      "| \u001b[0m 41      \u001b[0m | \u001b[0m 0.7098  \u001b[0m | \u001b[0m 0.5438  \u001b[0m | \u001b[0m 0.7454  \u001b[0m | \u001b[0m 0.7499  \u001b[0m | \u001b[0m 0.9941  \u001b[0m | \u001b[0m 0.214   \u001b[0m | \u001b[0m 0.8715  \u001b[0m | \u001b[0m 0.4541  \u001b[0m | \u001b[0m 0.4423  \u001b[0m | \u001b[0m 0.04722 \u001b[0m | \u001b[0m 0.6784  \u001b[0m | \u001b[0m 0.6234  \u001b[0m | \u001b[0m 0.2636  \u001b[0m |\n"
     ]
    },
    {
     "name": "stderr",
     "output_type": "stream",
     "text": [
      "\u001b[34m\u001b[1mwandb\u001b[0m: Downloading large artifact lgbm:v184, 271.94MB. 3 files... Done. 0:0:0\n",
      "\u001b[34m\u001b[1mwandb\u001b[0m: Downloading large artifact lgbm:v185, 274.33MB. 3 files... Done. 0:0:0\n",
      "\u001b[34m\u001b[1mwandb\u001b[0m: Downloading large artifact lgbm:v186, 242.67MB. 3 files... Done. 0:0:0\n",
      "\u001b[34m\u001b[1mwandb\u001b[0m: Downloading large artifact lgbm:v187, 243.74MB. 3 files... Done. 0:0:0\n",
      "\u001b[34m\u001b[1mwandb\u001b[0m: Downloading large artifact lgbm:v188, 235.93MB. 3 files... Done. 0:0:0\n",
      "\u001b[34m\u001b[1mwandb\u001b[0m: Downloading large artifact lgbm:v189, 215.22MB. 3 files... Done. 0:0:0\n",
      "\u001b[34m\u001b[1mwandb\u001b[0m: Downloading large artifact lgbm:v190, 275.19MB. 3 files... Done. 0:0:0\n",
      "\u001b[34m\u001b[1mwandb\u001b[0m: Downloading large artifact lgbm:v191, 234.21MB. 3 files... Done. 0:0:0\n",
      "\u001b[34m\u001b[1mwandb\u001b[0m: Downloading large artifact lgbm:v192, 235.93MB. 3 files... Done. 0:0:0\n",
      "\u001b[34m\u001b[1mwandb\u001b[0m: Downloading large artifact lgbm:v193, 207.59MB. 3 files... Done. 0:0:0\n",
      "\u001b[34m\u001b[1mwandb\u001b[0m: Downloading large artifact lgbm:v194, 222.93MB. 3 files... Done. 0:0:0\n",
      "\u001b[34m\u001b[1mwandb\u001b[0m: Downloading large artifact lgbm:v195, 264.24MB. 3 files... Done. 0:0:0\n",
      "100%|██████████| 500000/500000 [00:05<00:00, 86178.17it/s]\n"
     ]
    },
    {
     "name": "stdout",
     "output_type": "stream",
     "text": [
      "| \u001b[0m 42      \u001b[0m | \u001b[0m 0.7105  \u001b[0m | \u001b[0m 0.68    \u001b[0m | \u001b[0m 0.5031  \u001b[0m | \u001b[0m 0.6311  \u001b[0m | \u001b[0m 0.2796  \u001b[0m | \u001b[0m 0.7269  \u001b[0m | \u001b[0m 0.2351  \u001b[0m | \u001b[0m 0.4109  \u001b[0m | \u001b[0m 0.1734  \u001b[0m | \u001b[0m 0.5852  \u001b[0m | \u001b[0m 0.8031  \u001b[0m | \u001b[0m 0.2325  \u001b[0m | \u001b[0m 0.9607  \u001b[0m |\n"
     ]
    },
    {
     "name": "stderr",
     "output_type": "stream",
     "text": [
      "\u001b[34m\u001b[1mwandb\u001b[0m: Downloading large artifact lgbm:v184, 271.94MB. 3 files... Done. 0:0:0\n",
      "\u001b[34m\u001b[1mwandb\u001b[0m: Downloading large artifact lgbm:v185, 274.33MB. 3 files... Done. 0:0:0\n",
      "\u001b[34m\u001b[1mwandb\u001b[0m: Downloading large artifact lgbm:v186, 242.67MB. 3 files... Done. 0:0:0\n",
      "\u001b[34m\u001b[1mwandb\u001b[0m: Downloading large artifact lgbm:v187, 243.74MB. 3 files... Done. 0:0:0\n",
      "\u001b[34m\u001b[1mwandb\u001b[0m: Downloading large artifact lgbm:v188, 235.93MB. 3 files... Done. 0:0:0\n",
      "\u001b[34m\u001b[1mwandb\u001b[0m: Downloading large artifact lgbm:v189, 215.22MB. 3 files... Done. 0:0:0\n",
      "\u001b[34m\u001b[1mwandb\u001b[0m: Downloading large artifact lgbm:v190, 275.19MB. 3 files... Done. 0:0:0\n",
      "\u001b[34m\u001b[1mwandb\u001b[0m: Downloading large artifact lgbm:v191, 234.21MB. 3 files... Done. 0:0:0\n",
      "\u001b[34m\u001b[1mwandb\u001b[0m: Downloading large artifact lgbm:v192, 235.93MB. 3 files... Done. 0:0:0\n",
      "\u001b[34m\u001b[1mwandb\u001b[0m: Downloading large artifact lgbm:v193, 207.59MB. 3 files... Done. 0:0:0\n",
      "\u001b[34m\u001b[1mwandb\u001b[0m: Downloading large artifact lgbm:v194, 222.93MB. 3 files... Done. 0:0:0\n",
      "\u001b[34m\u001b[1mwandb\u001b[0m: Downloading large artifact lgbm:v195, 264.24MB. 3 files... Done. 0:0:0\n",
      "100%|██████████| 500000/500000 [00:05<00:00, 88850.35it/s]\n"
     ]
    },
    {
     "name": "stdout",
     "output_type": "stream",
     "text": [
      "| \u001b[0m 43      \u001b[0m | \u001b[0m 0.7099  \u001b[0m | \u001b[0m 0.5035  \u001b[0m | \u001b[0m 0.2564  \u001b[0m | \u001b[0m 0.2051  \u001b[0m | \u001b[0m 0.9572  \u001b[0m | \u001b[0m 0.5048  \u001b[0m | \u001b[0m 0.7385  \u001b[0m | \u001b[0m 0.709   \u001b[0m | \u001b[0m 0.4952  \u001b[0m | \u001b[0m 0.3852  \u001b[0m | \u001b[0m 0.5154  \u001b[0m | \u001b[0m 0.1809  \u001b[0m | \u001b[0m 0.4666  \u001b[0m |\n"
     ]
    },
    {
     "name": "stderr",
     "output_type": "stream",
     "text": [
      "\u001b[34m\u001b[1mwandb\u001b[0m: Downloading large artifact lgbm:v184, 271.94MB. 3 files... Done. 0:0:0\n",
      "\u001b[34m\u001b[1mwandb\u001b[0m: Downloading large artifact lgbm:v185, 274.33MB. 3 files... Done. 0:0:0\n",
      "\u001b[34m\u001b[1mwandb\u001b[0m: Downloading large artifact lgbm:v186, 242.67MB. 3 files... Done. 0:0:0\n",
      "\u001b[34m\u001b[1mwandb\u001b[0m: Downloading large artifact lgbm:v187, 243.74MB. 3 files... Done. 0:0:0\n",
      "\u001b[34m\u001b[1mwandb\u001b[0m: Downloading large artifact lgbm:v188, 235.93MB. 3 files... Done. 0:0:0\n",
      "\u001b[34m\u001b[1mwandb\u001b[0m: Downloading large artifact lgbm:v189, 215.22MB. 3 files... Done. 0:0:0\n",
      "\u001b[34m\u001b[1mwandb\u001b[0m: Downloading large artifact lgbm:v190, 275.19MB. 3 files... Done. 0:0:0\n",
      "\u001b[34m\u001b[1mwandb\u001b[0m: Downloading large artifact lgbm:v191, 234.21MB. 3 files... Done. 0:0:0\n",
      "\u001b[34m\u001b[1mwandb\u001b[0m: Downloading large artifact lgbm:v192, 235.93MB. 3 files... Done. 0:0:0\n",
      "\u001b[34m\u001b[1mwandb\u001b[0m: Downloading large artifact lgbm:v193, 207.59MB. 3 files... Done. 0:0:0\n",
      "\u001b[34m\u001b[1mwandb\u001b[0m: Downloading large artifact lgbm:v194, 222.93MB. 3 files... Done. 0:0:0\n",
      "\u001b[34m\u001b[1mwandb\u001b[0m: Downloading large artifact lgbm:v195, 264.24MB. 3 files... Done. 0:0:0\n",
      "100%|██████████| 500000/500000 [00:05<00:00, 88492.70it/s]\n"
     ]
    },
    {
     "name": "stdout",
     "output_type": "stream",
     "text": [
      "| \u001b[0m 44      \u001b[0m | \u001b[0m 0.7098  \u001b[0m | \u001b[0m 0.5098  \u001b[0m | \u001b[0m 0.4453  \u001b[0m | \u001b[0m 0.1118  \u001b[0m | \u001b[0m 0.4287  \u001b[0m | \u001b[0m 0.2872  \u001b[0m | \u001b[0m 0.5137  \u001b[0m | \u001b[0m 0.7502  \u001b[0m | \u001b[0m 0.9079  \u001b[0m | \u001b[0m 0.7463  \u001b[0m | \u001b[0m 0.829   \u001b[0m | \u001b[0m 0.7972  \u001b[0m | \u001b[0m 0.04022 \u001b[0m |\n"
     ]
    },
    {
     "name": "stderr",
     "output_type": "stream",
     "text": [
      "\u001b[34m\u001b[1mwandb\u001b[0m: Downloading large artifact lgbm:v184, 271.94MB. 3 files... Done. 0:0:0\n",
      "\u001b[34m\u001b[1mwandb\u001b[0m: Downloading large artifact lgbm:v185, 274.33MB. 3 files... Done. 0:0:0\n",
      "\u001b[34m\u001b[1mwandb\u001b[0m: Downloading large artifact lgbm:v186, 242.67MB. 3 files... Done. 0:0:0\n",
      "\u001b[34m\u001b[1mwandb\u001b[0m: Downloading large artifact lgbm:v187, 243.74MB. 3 files... Done. 0:0:0\n",
      "\u001b[34m\u001b[1mwandb\u001b[0m: Downloading large artifact lgbm:v188, 235.93MB. 3 files... Done. 0:0:0\n",
      "\u001b[34m\u001b[1mwandb\u001b[0m: Downloading large artifact lgbm:v189, 215.22MB. 3 files... Done. 0:0:0\n",
      "\u001b[34m\u001b[1mwandb\u001b[0m: Downloading large artifact lgbm:v190, 275.19MB. 3 files... Done. 0:0:0\n",
      "\u001b[34m\u001b[1mwandb\u001b[0m: Downloading large artifact lgbm:v191, 234.21MB. 3 files... Done. 0:0:0\n",
      "\u001b[34m\u001b[1mwandb\u001b[0m: Downloading large artifact lgbm:v192, 235.93MB. 3 files... Done. 0:0:0\n",
      "\u001b[34m\u001b[1mwandb\u001b[0m: Downloading large artifact lgbm:v193, 207.59MB. 3 files... Done. 0:0:0\n",
      "\u001b[34m\u001b[1mwandb\u001b[0m: Downloading large artifact lgbm:v194, 222.93MB. 3 files... Done. 0:0:0\n",
      "\u001b[34m\u001b[1mwandb\u001b[0m: Downloading large artifact lgbm:v195, 264.24MB. 3 files... Done. 0:0:0\n",
      "100%|██████████| 500000/500000 [00:05<00:00, 89652.23it/s]\n"
     ]
    },
    {
     "name": "stdout",
     "output_type": "stream",
     "text": [
      "| \u001b[0m 45      \u001b[0m | \u001b[0m 0.7105  \u001b[0m | \u001b[0m 0.7409  \u001b[0m | \u001b[0m 0.1003  \u001b[0m | \u001b[0m 0.3832  \u001b[0m | \u001b[0m 0.1006  \u001b[0m | \u001b[0m 0.849   \u001b[0m | \u001b[0m 0.5382  \u001b[0m | \u001b[0m 0.2349  \u001b[0m | \u001b[0m 0.2105  \u001b[0m | \u001b[0m 0.7937  \u001b[0m | \u001b[0m 0.1156  \u001b[0m | \u001b[0m 0.2904  \u001b[0m | \u001b[0m 0.2161  \u001b[0m |\n"
     ]
    },
    {
     "name": "stderr",
     "output_type": "stream",
     "text": [
      "\u001b[34m\u001b[1mwandb\u001b[0m: Downloading large artifact lgbm:v184, 271.94MB. 3 files... Done. 0:0:0\n",
      "\u001b[34m\u001b[1mwandb\u001b[0m: Downloading large artifact lgbm:v185, 274.33MB. 3 files... Done. 0:0:0\n",
      "\u001b[34m\u001b[1mwandb\u001b[0m: Downloading large artifact lgbm:v186, 242.67MB. 3 files... Done. 0:0:0\n",
      "\u001b[34m\u001b[1mwandb\u001b[0m: Downloading large artifact lgbm:v187, 243.74MB. 3 files... Done. 0:0:0\n",
      "\u001b[34m\u001b[1mwandb\u001b[0m: Downloading large artifact lgbm:v188, 235.93MB. 3 files... Done. 0:0:0\n",
      "\u001b[34m\u001b[1mwandb\u001b[0m: Downloading large artifact lgbm:v189, 215.22MB. 3 files... Done. 0:0:0\n",
      "\u001b[34m\u001b[1mwandb\u001b[0m: Downloading large artifact lgbm:v190, 275.19MB. 3 files... Done. 0:0:0\n",
      "\u001b[34m\u001b[1mwandb\u001b[0m: Downloading large artifact lgbm:v191, 234.21MB. 3 files... Done. 0:0:0\n",
      "\u001b[34m\u001b[1mwandb\u001b[0m: Downloading large artifact lgbm:v192, 235.93MB. 3 files... Done. 0:0:0\n",
      "\u001b[34m\u001b[1mwandb\u001b[0m: Downloading large artifact lgbm:v193, 207.59MB. 3 files... Done. 0:0:0\n",
      "\u001b[34m\u001b[1mwandb\u001b[0m: Downloading large artifact lgbm:v194, 222.93MB. 3 files... Done. 0:0:0\n",
      "\u001b[34m\u001b[1mwandb\u001b[0m: Downloading large artifact lgbm:v195, 264.24MB. 3 files... Done. 0:0:0\n",
      "100%|██████████| 500000/500000 [00:05<00:00, 89188.88it/s]\n"
     ]
    },
    {
     "name": "stdout",
     "output_type": "stream",
     "text": [
      "| \u001b[0m 46      \u001b[0m | \u001b[0m 0.7095  \u001b[0m | \u001b[0m 0.08771 \u001b[0m | \u001b[0m 0.9573  \u001b[0m | \u001b[0m 0.8204  \u001b[0m | \u001b[0m 0.8693  \u001b[0m | \u001b[0m 0.9852  \u001b[0m | \u001b[0m 0.1725  \u001b[0m | \u001b[0m 0.753   \u001b[0m | \u001b[0m 0.9393  \u001b[0m | \u001b[0m 0.4919  \u001b[0m | \u001b[0m 0.4581  \u001b[0m | \u001b[0m 0.9226  \u001b[0m | \u001b[0m 0.2865  \u001b[0m |\n"
     ]
    },
    {
     "name": "stderr",
     "output_type": "stream",
     "text": [
      "\u001b[34m\u001b[1mwandb\u001b[0m: Downloading large artifact lgbm:v184, 271.94MB. 3 files... Done. 0:0:0\n",
      "\u001b[34m\u001b[1mwandb\u001b[0m: Downloading large artifact lgbm:v185, 274.33MB. 3 files... Done. 0:0:0\n",
      "\u001b[34m\u001b[1mwandb\u001b[0m: Downloading large artifact lgbm:v186, 242.67MB. 3 files... Done. 0:0:0\n",
      "\u001b[34m\u001b[1mwandb\u001b[0m: Downloading large artifact lgbm:v187, 243.74MB. 3 files... Done. 0:0:0\n",
      "\u001b[34m\u001b[1mwandb\u001b[0m: Downloading large artifact lgbm:v188, 235.93MB. 3 files... Done. 0:0:0\n",
      "\u001b[34m\u001b[1mwandb\u001b[0m: Downloading large artifact lgbm:v189, 215.22MB. 3 files... Done. 0:0:0\n",
      "\u001b[34m\u001b[1mwandb\u001b[0m: Downloading large artifact lgbm:v190, 275.19MB. 3 files... Done. 0:0:0\n",
      "\u001b[34m\u001b[1mwandb\u001b[0m: Downloading large artifact lgbm:v191, 234.21MB. 3 files... Done. 0:0:0\n",
      "\u001b[34m\u001b[1mwandb\u001b[0m: Downloading large artifact lgbm:v192, 235.93MB. 3 files... Done. 0:0:0\n",
      "\u001b[34m\u001b[1mwandb\u001b[0m: Downloading large artifact lgbm:v193, 207.59MB. 3 files... Done. 0:0:0\n",
      "\u001b[34m\u001b[1mwandb\u001b[0m: Downloading large artifact lgbm:v194, 222.93MB. 3 files... Done. 0:0:0\n",
      "\u001b[34m\u001b[1mwandb\u001b[0m: Downloading large artifact lgbm:v195, 264.24MB. 3 files... Done. 0:0:0\n",
      "100%|██████████| 500000/500000 [00:05<00:00, 89259.61it/s]\n"
     ]
    },
    {
     "name": "stdout",
     "output_type": "stream",
     "text": [
      "| \u001b[0m 47      \u001b[0m | \u001b[0m 0.7096  \u001b[0m | \u001b[0m 0.2195  \u001b[0m | \u001b[0m 0.6458  \u001b[0m | \u001b[0m 0.1505  \u001b[0m | \u001b[0m 0.3428  \u001b[0m | \u001b[0m 0.9994  \u001b[0m | \u001b[0m 0.1578  \u001b[0m | \u001b[0m 0.9706  \u001b[0m | \u001b[0m 0.3084  \u001b[0m | \u001b[0m 0.4721  \u001b[0m | \u001b[0m 0.6407  \u001b[0m | \u001b[0m 0.4139  \u001b[0m | \u001b[0m 0.4723  \u001b[0m |\n"
     ]
    },
    {
     "name": "stderr",
     "output_type": "stream",
     "text": [
      "\u001b[34m\u001b[1mwandb\u001b[0m: Downloading large artifact lgbm:v184, 271.94MB. 3 files... Done. 0:0:0\n",
      "\u001b[34m\u001b[1mwandb\u001b[0m: Downloading large artifact lgbm:v185, 274.33MB. 3 files... Done. 0:0:0\n",
      "\u001b[34m\u001b[1mwandb\u001b[0m: Downloading large artifact lgbm:v186, 242.67MB. 3 files... Done. 0:0:0\n",
      "\u001b[34m\u001b[1mwandb\u001b[0m: Downloading large artifact lgbm:v187, 243.74MB. 3 files... Done. 0:0:0\n",
      "\u001b[34m\u001b[1mwandb\u001b[0m: Downloading large artifact lgbm:v188, 235.93MB. 3 files... Done. 0:0:0\n",
      "\u001b[34m\u001b[1mwandb\u001b[0m: Downloading large artifact lgbm:v189, 215.22MB. 3 files... Done. 0:0:0\n",
      "\u001b[34m\u001b[1mwandb\u001b[0m: Downloading large artifact lgbm:v190, 275.19MB. 3 files... Done. 0:0:0\n",
      "\u001b[34m\u001b[1mwandb\u001b[0m: Downloading large artifact lgbm:v191, 234.21MB. 3 files... Done. 0:0:0\n",
      "\u001b[34m\u001b[1mwandb\u001b[0m: Downloading large artifact lgbm:v192, 235.93MB. 3 files... Done. 0:0:0\n",
      "\u001b[34m\u001b[1mwandb\u001b[0m: Downloading large artifact lgbm:v193, 207.59MB. 3 files... Done. 0:0:0\n",
      "\u001b[34m\u001b[1mwandb\u001b[0m: Downloading large artifact lgbm:v194, 222.93MB. 3 files... Done. 0:0:0\n",
      "\u001b[34m\u001b[1mwandb\u001b[0m: Downloading large artifact lgbm:v195, 264.24MB. 3 files... Done. 0:0:0\n",
      "100%|██████████| 500000/500000 [00:05<00:00, 89214.89it/s]\n"
     ]
    },
    {
     "name": "stdout",
     "output_type": "stream",
     "text": [
      "| \u001b[0m 48      \u001b[0m | \u001b[0m 0.7098  \u001b[0m | \u001b[0m 0.7749  \u001b[0m | \u001b[0m 0.3691  \u001b[0m | \u001b[0m 0.7929  \u001b[0m | \u001b[0m 0.5472  \u001b[0m | \u001b[0m 0.3115  \u001b[0m | \u001b[0m 0.9829  \u001b[0m | \u001b[0m 0.211   \u001b[0m | \u001b[0m 0.969   \u001b[0m | \u001b[0m 0.7026  \u001b[0m | \u001b[0m 0.9412  \u001b[0m | \u001b[0m 0.1804  \u001b[0m | \u001b[0m 0.5972  \u001b[0m |\n"
     ]
    },
    {
     "name": "stderr",
     "output_type": "stream",
     "text": [
      "\u001b[34m\u001b[1mwandb\u001b[0m: Downloading large artifact lgbm:v184, 271.94MB. 3 files... Done. 0:0:0\n",
      "\u001b[34m\u001b[1mwandb\u001b[0m: Downloading large artifact lgbm:v185, 274.33MB. 3 files... Done. 0:0:0\n",
      "\u001b[34m\u001b[1mwandb\u001b[0m: Downloading large artifact lgbm:v186, 242.67MB. 3 files... Done. 0:0:0\n",
      "\u001b[34m\u001b[1mwandb\u001b[0m: Downloading large artifact lgbm:v187, 243.74MB. 3 files... Done. 0:0:0\n",
      "\u001b[34m\u001b[1mwandb\u001b[0m: Downloading large artifact lgbm:v188, 235.93MB. 3 files... Done. 0:0:0\n",
      "\u001b[34m\u001b[1mwandb\u001b[0m: Downloading large artifact lgbm:v189, 215.22MB. 3 files... Done. 0:0:0\n",
      "\u001b[34m\u001b[1mwandb\u001b[0m: Downloading large artifact lgbm:v190, 275.19MB. 3 files... Done. 0:0:0\n",
      "\u001b[34m\u001b[1mwandb\u001b[0m: Downloading large artifact lgbm:v191, 234.21MB. 3 files... Done. 0:0:0\n",
      "\u001b[34m\u001b[1mwandb\u001b[0m: Downloading large artifact lgbm:v192, 235.93MB. 3 files... Done. 0:0:0\n",
      "\u001b[34m\u001b[1mwandb\u001b[0m: Downloading large artifact lgbm:v193, 207.59MB. 3 files... Done. 0:0:0\n",
      "\u001b[34m\u001b[1mwandb\u001b[0m: Downloading large artifact lgbm:v194, 222.93MB. 3 files... Done. 0:0:0\n",
      "\u001b[34m\u001b[1mwandb\u001b[0m: Downloading large artifact lgbm:v195, 264.24MB. 3 files... Done. 0:0:0\n",
      "100%|██████████| 500000/500000 [00:05<00:00, 89634.85it/s]\n"
     ]
    },
    {
     "name": "stdout",
     "output_type": "stream",
     "text": [
      "| \u001b[0m 49      \u001b[0m | \u001b[0m 0.7106  \u001b[0m | \u001b[0m 0.4833  \u001b[0m | \u001b[0m 0.9584  \u001b[0m | \u001b[0m 0.6132  \u001b[0m | \u001b[0m 0.07726 \u001b[0m | \u001b[0m 0.8643  \u001b[0m | \u001b[0m 0.06225 \u001b[0m | \u001b[0m 0.8433  \u001b[0m | \u001b[0m 0.6005  \u001b[0m | \u001b[0m 0.867   \u001b[0m | \u001b[0m 0.1547  \u001b[0m | \u001b[0m 0.5167  \u001b[0m | \u001b[0m 0.6477  \u001b[0m |\n"
     ]
    },
    {
     "name": "stderr",
     "output_type": "stream",
     "text": [
      "\u001b[34m\u001b[1mwandb\u001b[0m: Downloading large artifact lgbm:v184, 271.94MB. 3 files... Done. 0:0:0\n",
      "\u001b[34m\u001b[1mwandb\u001b[0m: Downloading large artifact lgbm:v185, 274.33MB. 3 files... Done. 0:0:0\n",
      "\u001b[34m\u001b[1mwandb\u001b[0m: Downloading large artifact lgbm:v186, 242.67MB. 3 files... Done. 0:0:0\n",
      "\u001b[34m\u001b[1mwandb\u001b[0m: Downloading large artifact lgbm:v187, 243.74MB. 3 files... Done. 0:0:0\n",
      "\u001b[34m\u001b[1mwandb\u001b[0m: Downloading large artifact lgbm:v188, 235.93MB. 3 files... Done. 0:0:0\n",
      "\u001b[34m\u001b[1mwandb\u001b[0m: Downloading large artifact lgbm:v189, 215.22MB. 3 files... Done. 0:0:0\n",
      "\u001b[34m\u001b[1mwandb\u001b[0m: Downloading large artifact lgbm:v190, 275.19MB. 3 files... Done. 0:0:0\n",
      "\u001b[34m\u001b[1mwandb\u001b[0m: Downloading large artifact lgbm:v191, 234.21MB. 3 files... Done. 0:0:0\n",
      "\u001b[34m\u001b[1mwandb\u001b[0m: Downloading large artifact lgbm:v192, 235.93MB. 3 files... Done. 0:0:0\n",
      "\u001b[34m\u001b[1mwandb\u001b[0m: Downloading large artifact lgbm:v193, 207.59MB. 3 files... Done. 0:0:0\n",
      "\u001b[34m\u001b[1mwandb\u001b[0m: Downloading large artifact lgbm:v194, 222.93MB. 3 files... Done. 0:0:0\n",
      "\u001b[34m\u001b[1mwandb\u001b[0m: Downloading large artifact lgbm:v195, 264.24MB. 3 files... Done. 0:0:0\n",
      "100%|██████████| 500000/500000 [00:05<00:00, 88174.36it/s]\n"
     ]
    },
    {
     "name": "stdout",
     "output_type": "stream",
     "text": [
      "| \u001b[0m 50      \u001b[0m | \u001b[0m 0.708   \u001b[0m | \u001b[0m 0.4753  \u001b[0m | \u001b[0m 0.7347  \u001b[0m | \u001b[0m 0.002432\u001b[0m | \u001b[0m 0.1049  \u001b[0m | \u001b[0m 0.5215  \u001b[0m | \u001b[0m 0.2444  \u001b[0m | \u001b[0m 0.1201  \u001b[0m | \u001b[0m 0.4047  \u001b[0m | \u001b[0m 0.2862  \u001b[0m | \u001b[0m 0.9412  \u001b[0m | \u001b[0m 0.136   \u001b[0m | \u001b[0m 0.7404  \u001b[0m |\n"
     ]
    },
    {
     "name": "stderr",
     "output_type": "stream",
     "text": [
      "\u001b[34m\u001b[1mwandb\u001b[0m: Downloading large artifact lgbm:v184, 271.94MB. 3 files... Done. 0:0:0\n",
      "\u001b[34m\u001b[1mwandb\u001b[0m: Downloading large artifact lgbm:v185, 274.33MB. 3 files... Done. 0:0:0\n",
      "\u001b[34m\u001b[1mwandb\u001b[0m: Downloading large artifact lgbm:v186, 242.67MB. 3 files... Done. 0:0:0\n",
      "\u001b[34m\u001b[1mwandb\u001b[0m: Downloading large artifact lgbm:v187, 243.74MB. 3 files... Done. 0:0:0\n",
      "\u001b[34m\u001b[1mwandb\u001b[0m: Downloading large artifact lgbm:v188, 235.93MB. 3 files... Done. 0:0:0\n",
      "\u001b[34m\u001b[1mwandb\u001b[0m: Downloading large artifact lgbm:v189, 215.22MB. 3 files... Done. 0:0:0\n",
      "\u001b[34m\u001b[1mwandb\u001b[0m: Downloading large artifact lgbm:v190, 275.19MB. 3 files... Done. 0:0:0\n",
      "\u001b[34m\u001b[1mwandb\u001b[0m: Downloading large artifact lgbm:v191, 234.21MB. 3 files... Done. 0:0:0\n",
      "\u001b[34m\u001b[1mwandb\u001b[0m: Downloading large artifact lgbm:v192, 235.93MB. 3 files... Done. 0:0:0\n",
      "\u001b[34m\u001b[1mwandb\u001b[0m: Downloading large artifact lgbm:v193, 207.59MB. 3 files... Done. 0:0:0\n",
      "\u001b[34m\u001b[1mwandb\u001b[0m: Downloading large artifact lgbm:v194, 222.93MB. 3 files... Done. 0:0:0\n",
      "\u001b[34m\u001b[1mwandb\u001b[0m: Downloading large artifact lgbm:v195, 264.24MB. 3 files... Done. 0:0:0\n",
      "100%|██████████| 500000/500000 [00:05<00:00, 88647.37it/s]\n"
     ]
    },
    {
     "name": "stdout",
     "output_type": "stream",
     "text": [
      "| \u001b[95m 51      \u001b[0m | \u001b[95m 0.7145  \u001b[0m | \u001b[95m 1.0     \u001b[0m | \u001b[95m 0.0     \u001b[0m | \u001b[95m 1.0     \u001b[0m | \u001b[95m 0.4953  \u001b[0m | \u001b[95m 0.0     \u001b[0m | \u001b[95m 0.0     \u001b[0m | \u001b[95m 1.0     \u001b[0m | \u001b[95m 0.0     \u001b[0m | \u001b[95m 1.0     \u001b[0m | \u001b[95m 0.003893\u001b[0m | \u001b[95m 0.0     \u001b[0m | \u001b[95m 0.07885 \u001b[0m |\n"
     ]
    },
    {
     "name": "stderr",
     "output_type": "stream",
     "text": [
      "\u001b[34m\u001b[1mwandb\u001b[0m: Downloading large artifact lgbm:v184, 271.94MB. 3 files... Done. 0:0:0\n",
      "\u001b[34m\u001b[1mwandb\u001b[0m: Downloading large artifact lgbm:v185, 274.33MB. 3 files... Done. 0:0:0\n",
      "\u001b[34m\u001b[1mwandb\u001b[0m: Downloading large artifact lgbm:v186, 242.67MB. 3 files... Done. 0:0:0\n",
      "\u001b[34m\u001b[1mwandb\u001b[0m: Downloading large artifact lgbm:v187, 243.74MB. 3 files... Done. 0:0:0\n",
      "\u001b[34m\u001b[1mwandb\u001b[0m: Downloading large artifact lgbm:v188, 235.93MB. 3 files... Done. 0:0:0\n",
      "\u001b[34m\u001b[1mwandb\u001b[0m: Downloading large artifact lgbm:v189, 215.22MB. 3 files... Done. 0:0:0\n",
      "\u001b[34m\u001b[1mwandb\u001b[0m: Downloading large artifact lgbm:v190, 275.19MB. 3 files... Done. 0:0:0\n",
      "\u001b[34m\u001b[1mwandb\u001b[0m: Downloading large artifact lgbm:v191, 234.21MB. 3 files... Done. 0:0:0\n",
      "\u001b[34m\u001b[1mwandb\u001b[0m: Downloading large artifact lgbm:v192, 235.93MB. 3 files... Done. 0:0:0\n",
      "\u001b[34m\u001b[1mwandb\u001b[0m: Downloading large artifact lgbm:v193, 207.59MB. 3 files... Done. 0:0:0\n",
      "\u001b[34m\u001b[1mwandb\u001b[0m: Downloading large artifact lgbm:v194, 222.93MB. 3 files... Done. 0:0:0\n",
      "\u001b[34m\u001b[1mwandb\u001b[0m: Downloading large artifact lgbm:v195, 264.24MB. 3 files... Done. 0:0:0\n",
      "100%|██████████| 500000/500000 [00:05<00:00, 88641.36it/s]\n"
     ]
    },
    {
     "name": "stdout",
     "output_type": "stream",
     "text": [
      "| \u001b[0m 52      \u001b[0m | \u001b[0m 0.7143  \u001b[0m | \u001b[0m 1.0     \u001b[0m | \u001b[0m 0.0     \u001b[0m | \u001b[0m 1.0     \u001b[0m | \u001b[0m 0.0     \u001b[0m | \u001b[0m 0.0     \u001b[0m | \u001b[0m 0.0     \u001b[0m | \u001b[0m 1.0     \u001b[0m | \u001b[0m 0.0     \u001b[0m | \u001b[0m 1.0     \u001b[0m | \u001b[0m 0.0     \u001b[0m | \u001b[0m 0.0     \u001b[0m | \u001b[0m 0.4715  \u001b[0m |\n"
     ]
    },
    {
     "name": "stderr",
     "output_type": "stream",
     "text": [
      "\u001b[34m\u001b[1mwandb\u001b[0m: Downloading large artifact lgbm:v184, 271.94MB. 3 files... Done. 0:0:0\n",
      "\u001b[34m\u001b[1mwandb\u001b[0m: Downloading large artifact lgbm:v185, 274.33MB. 3 files... Done. 0:0:0\n",
      "\u001b[34m\u001b[1mwandb\u001b[0m: Downloading large artifact lgbm:v186, 242.67MB. 3 files... Done. 0:0:0\n",
      "\u001b[34m\u001b[1mwandb\u001b[0m: Downloading large artifact lgbm:v187, 243.74MB. 3 files... Done. 0:0:0\n",
      "\u001b[34m\u001b[1mwandb\u001b[0m: Downloading large artifact lgbm:v188, 235.93MB. 3 files... Done. 0:0:0\n",
      "\u001b[34m\u001b[1mwandb\u001b[0m: Downloading large artifact lgbm:v189, 215.22MB. 3 files... Done. 0:0:0\n",
      "\u001b[34m\u001b[1mwandb\u001b[0m: Downloading large artifact lgbm:v190, 275.19MB. 3 files... Done. 0:0:0\n",
      "\u001b[34m\u001b[1mwandb\u001b[0m: Downloading large artifact lgbm:v191, 234.21MB. 3 files... Done. 0:0:0\n",
      "\u001b[34m\u001b[1mwandb\u001b[0m: Downloading large artifact lgbm:v192, 235.93MB. 3 files... Done. 0:0:0\n",
      "\u001b[34m\u001b[1mwandb\u001b[0m: Downloading large artifact lgbm:v193, 207.59MB. 3 files... Done. 0:0:0\n",
      "\u001b[34m\u001b[1mwandb\u001b[0m: Downloading large artifact lgbm:v194, 222.93MB. 3 files... Done. 0:0:0\n",
      "\u001b[34m\u001b[1mwandb\u001b[0m: Downloading large artifact lgbm:v195, 264.24MB. 3 files... Done. 0:0:0\n",
      "100%|██████████| 500000/500000 [00:05<00:00, 88093.50it/s]\n"
     ]
    },
    {
     "name": "stdout",
     "output_type": "stream",
     "text": [
      "| \u001b[0m 53      \u001b[0m | \u001b[0m 0.7142  \u001b[0m | \u001b[0m 1.0     \u001b[0m | \u001b[0m 0.0     \u001b[0m | \u001b[0m 1.0     \u001b[0m | \u001b[0m 0.1481  \u001b[0m | \u001b[0m 0.0     \u001b[0m | \u001b[0m 0.0     \u001b[0m | \u001b[0m 1.0     \u001b[0m | \u001b[0m 0.0     \u001b[0m | \u001b[0m 1.0     \u001b[0m | \u001b[0m 0.5036  \u001b[0m | \u001b[0m 0.0     \u001b[0m | \u001b[0m 0.0     \u001b[0m |\n"
     ]
    },
    {
     "name": "stderr",
     "output_type": "stream",
     "text": [
      "\u001b[34m\u001b[1mwandb\u001b[0m: Downloading large artifact lgbm:v184, 271.94MB. 3 files... Done. 0:0:0\n",
      "\u001b[34m\u001b[1mwandb\u001b[0m: Downloading large artifact lgbm:v185, 274.33MB. 3 files... Done. 0:0:0\n",
      "\u001b[34m\u001b[1mwandb\u001b[0m: Downloading large artifact lgbm:v186, 242.67MB. 3 files... Done. 0:0:0\n",
      "\u001b[34m\u001b[1mwandb\u001b[0m: Downloading large artifact lgbm:v187, 243.74MB. 3 files... Done. 0:0:0\n",
      "\u001b[34m\u001b[1mwandb\u001b[0m: Downloading large artifact lgbm:v188, 235.93MB. 3 files... Done. 0:0:0\n",
      "\u001b[34m\u001b[1mwandb\u001b[0m: Downloading large artifact lgbm:v189, 215.22MB. 3 files... Done. 0:0:0\n",
      "\u001b[34m\u001b[1mwandb\u001b[0m: Downloading large artifact lgbm:v190, 275.19MB. 3 files... Done. 0:0:0\n",
      "\u001b[34m\u001b[1mwandb\u001b[0m: Downloading large artifact lgbm:v191, 234.21MB. 3 files... Done. 0:0:0\n",
      "\u001b[34m\u001b[1mwandb\u001b[0m: Downloading large artifact lgbm:v192, 235.93MB. 3 files... Done. 0:0:0\n",
      "\u001b[34m\u001b[1mwandb\u001b[0m: Downloading large artifact lgbm:v193, 207.59MB. 3 files... Done. 0:0:0\n",
      "\u001b[34m\u001b[1mwandb\u001b[0m: Downloading large artifact lgbm:v194, 222.93MB. 3 files... Done. 0:0:0\n",
      "\u001b[34m\u001b[1mwandb\u001b[0m: Downloading large artifact lgbm:v195, 264.24MB. 3 files... Done. 0:0:0\n",
      "100%|██████████| 500000/500000 [00:05<00:00, 88426.21it/s]\n"
     ]
    },
    {
     "name": "stdout",
     "output_type": "stream",
     "text": [
      "| \u001b[0m 54      \u001b[0m | \u001b[0m 0.7139  \u001b[0m | \u001b[0m 1.0     \u001b[0m | \u001b[0m 0.0     \u001b[0m | \u001b[0m 1.0     \u001b[0m | \u001b[0m 1.0     \u001b[0m | \u001b[0m 0.0     \u001b[0m | \u001b[0m 0.0     \u001b[0m | \u001b[0m 1.0     \u001b[0m | \u001b[0m 0.0     \u001b[0m | \u001b[0m 1.0     \u001b[0m | \u001b[0m 0.0     \u001b[0m | \u001b[0m 0.0     \u001b[0m | \u001b[0m 0.6187  \u001b[0m |\n"
     ]
    },
    {
     "name": "stderr",
     "output_type": "stream",
     "text": [
      "\u001b[34m\u001b[1mwandb\u001b[0m: Downloading large artifact lgbm:v184, 271.94MB. 3 files... Done. 0:0:0\n",
      "\u001b[34m\u001b[1mwandb\u001b[0m: Downloading large artifact lgbm:v185, 274.33MB. 3 files... Done. 0:0:0\n",
      "\u001b[34m\u001b[1mwandb\u001b[0m: Downloading large artifact lgbm:v186, 242.67MB. 3 files... Done. 0:0:0\n",
      "\u001b[34m\u001b[1mwandb\u001b[0m: Downloading large artifact lgbm:v187, 243.74MB. 3 files... Done. 0:0:0\n",
      "\u001b[34m\u001b[1mwandb\u001b[0m: Downloading large artifact lgbm:v188, 235.93MB. 3 files... Done. 0:0:0\n",
      "\u001b[34m\u001b[1mwandb\u001b[0m: Downloading large artifact lgbm:v189, 215.22MB. 3 files... Done. 0:0:0\n",
      "\u001b[34m\u001b[1mwandb\u001b[0m: Downloading large artifact lgbm:v190, 275.19MB. 3 files... Done. 0:0:0\n",
      "\u001b[34m\u001b[1mwandb\u001b[0m: Downloading large artifact lgbm:v191, 234.21MB. 3 files... Done. 0:0:0\n",
      "\u001b[34m\u001b[1mwandb\u001b[0m: Downloading large artifact lgbm:v192, 235.93MB. 3 files... Done. 0:0:0\n",
      "\u001b[34m\u001b[1mwandb\u001b[0m: Downloading large artifact lgbm:v193, 207.59MB. 3 files... Done. 0:0:0\n",
      "\u001b[34m\u001b[1mwandb\u001b[0m: Downloading large artifact lgbm:v194, 222.93MB. 3 files... Done. 0:0:0\n",
      "\u001b[34m\u001b[1mwandb\u001b[0m: Downloading large artifact lgbm:v195, 264.24MB. 3 files... Done. 0:0:0\n",
      "100%|██████████| 500000/500000 [00:05<00:00, 88079.08it/s]\n"
     ]
    },
    {
     "name": "stdout",
     "output_type": "stream",
     "text": [
      "| \u001b[0m 55      \u001b[0m | \u001b[0m 0.7142  \u001b[0m | \u001b[0m 1.0     \u001b[0m | \u001b[0m 0.5818  \u001b[0m | \u001b[0m 1.0     \u001b[0m | \u001b[0m 0.1718  \u001b[0m | \u001b[0m 0.0     \u001b[0m | \u001b[0m 0.0     \u001b[0m | \u001b[0m 1.0     \u001b[0m | \u001b[0m 0.0     \u001b[0m | \u001b[0m 1.0     \u001b[0m | \u001b[0m 0.0     \u001b[0m | \u001b[0m 0.0     \u001b[0m | \u001b[0m 0.0     \u001b[0m |\n"
     ]
    },
    {
     "name": "stderr",
     "output_type": "stream",
     "text": [
      "\u001b[34m\u001b[1mwandb\u001b[0m: Downloading large artifact lgbm:v184, 271.94MB. 3 files... Done. 0:0:0\n",
      "\u001b[34m\u001b[1mwandb\u001b[0m: Downloading large artifact lgbm:v185, 274.33MB. 3 files... Done. 0:0:0\n",
      "\u001b[34m\u001b[1mwandb\u001b[0m: Downloading large artifact lgbm:v186, 242.67MB. 3 files... Done. 0:0:0\n",
      "\u001b[34m\u001b[1mwandb\u001b[0m: Downloading large artifact lgbm:v187, 243.74MB. 3 files... Done. 0:0:0\n",
      "\u001b[34m\u001b[1mwandb\u001b[0m: Downloading large artifact lgbm:v188, 235.93MB. 3 files... Done. 0:0:0\n",
      "\u001b[34m\u001b[1mwandb\u001b[0m: Downloading large artifact lgbm:v189, 215.22MB. 3 files... Done. 0:0:0\n",
      "\u001b[34m\u001b[1mwandb\u001b[0m: Downloading large artifact lgbm:v190, 275.19MB. 3 files... Done. 0:0:0\n",
      "\u001b[34m\u001b[1mwandb\u001b[0m: Downloading large artifact lgbm:v191, 234.21MB. 3 files... Done. 0:0:0\n",
      "\u001b[34m\u001b[1mwandb\u001b[0m: Downloading large artifact lgbm:v192, 235.93MB. 3 files... Done. 0:0:0\n",
      "\u001b[34m\u001b[1mwandb\u001b[0m: Downloading large artifact lgbm:v193, 207.59MB. 3 files... Done. 0:0:0\n",
      "\u001b[34m\u001b[1mwandb\u001b[0m: Downloading large artifact lgbm:v194, 222.93MB. 3 files... Done. 0:0:0\n",
      "\u001b[34m\u001b[1mwandb\u001b[0m: Downloading large artifact lgbm:v195, 264.24MB. 3 files... Done. 0:0:0\n",
      "100%|██████████| 500000/500000 [00:05<00:00, 89394.14it/s]\n"
     ]
    },
    {
     "name": "stdout",
     "output_type": "stream",
     "text": [
      "| \u001b[95m 56      \u001b[0m | \u001b[95m 0.7148  \u001b[0m | \u001b[95m 1.0     \u001b[0m | \u001b[95m 0.0     \u001b[0m | \u001b[95m 1.0     \u001b[0m | \u001b[95m 0.1859  \u001b[0m | \u001b[95m 0.0     \u001b[0m | \u001b[95m 0.0     \u001b[0m | \u001b[95m 1.0     \u001b[0m | \u001b[95m 0.0     \u001b[0m | \u001b[95m 0.4198  \u001b[0m | \u001b[95m 0.0     \u001b[0m | \u001b[95m 0.0     \u001b[0m | \u001b[95m 0.0     \u001b[0m |\n"
     ]
    },
    {
     "name": "stderr",
     "output_type": "stream",
     "text": [
      "\u001b[34m\u001b[1mwandb\u001b[0m: Downloading large artifact lgbm:v184, 271.94MB. 3 files... Done. 0:0:0\n",
      "\u001b[34m\u001b[1mwandb\u001b[0m: Downloading large artifact lgbm:v185, 274.33MB. 3 files... Done. 0:0:0\n",
      "\u001b[34m\u001b[1mwandb\u001b[0m: Downloading large artifact lgbm:v186, 242.67MB. 3 files... Done. 0:0:0\n",
      "\u001b[34m\u001b[1mwandb\u001b[0m: Downloading large artifact lgbm:v187, 243.74MB. 3 files... Done. 0:0:0\n",
      "\u001b[34m\u001b[1mwandb\u001b[0m: Downloading large artifact lgbm:v188, 235.93MB. 3 files... Done. 0:0:0\n",
      "\u001b[34m\u001b[1mwandb\u001b[0m: Downloading large artifact lgbm:v189, 215.22MB. 3 files... Done. 0:0:0\n",
      "\u001b[34m\u001b[1mwandb\u001b[0m: Downloading large artifact lgbm:v190, 275.19MB. 3 files... Done. 0:0:0\n",
      "\u001b[34m\u001b[1mwandb\u001b[0m: Downloading large artifact lgbm:v191, 234.21MB. 3 files... Done. 0:0:0\n",
      "\u001b[34m\u001b[1mwandb\u001b[0m: Downloading large artifact lgbm:v192, 235.93MB. 3 files... Done. 0:0:0\n",
      "\u001b[34m\u001b[1mwandb\u001b[0m: Downloading large artifact lgbm:v193, 207.59MB. 3 files... Done. 0:0:0\n",
      "\u001b[34m\u001b[1mwandb\u001b[0m: Downloading large artifact lgbm:v194, 222.93MB. 3 files... Done. 0:0:0\n",
      "\u001b[34m\u001b[1mwandb\u001b[0m: Downloading large artifact lgbm:v195, 264.24MB. 3 files... Done. 0:0:0\n",
      "100%|██████████| 500000/500000 [00:05<00:00, 88775.09it/s]\n"
     ]
    },
    {
     "name": "stdout",
     "output_type": "stream",
     "text": [
      "| \u001b[0m 57      \u001b[0m | \u001b[0m 0.7145  \u001b[0m | \u001b[0m 1.0     \u001b[0m | \u001b[0m 0.0     \u001b[0m | \u001b[0m 1.0     \u001b[0m | \u001b[0m 0.6778  \u001b[0m | \u001b[0m 0.0     \u001b[0m | \u001b[0m 0.0     \u001b[0m | \u001b[0m 1.0     \u001b[0m | \u001b[0m 0.0     \u001b[0m | \u001b[0m 0.1276  \u001b[0m | \u001b[0m 0.0     \u001b[0m | \u001b[0m 0.0     \u001b[0m | \u001b[0m 0.0     \u001b[0m |\n"
     ]
    },
    {
     "name": "stderr",
     "output_type": "stream",
     "text": [
      "\u001b[34m\u001b[1mwandb\u001b[0m: Downloading large artifact lgbm:v184, 271.94MB. 3 files... Done. 0:0:0\n",
      "\u001b[34m\u001b[1mwandb\u001b[0m: Downloading large artifact lgbm:v185, 274.33MB. 3 files... Done. 0:0:0\n",
      "\u001b[34m\u001b[1mwandb\u001b[0m: Downloading large artifact lgbm:v186, 242.67MB. 3 files... Done. 0:0:0\n",
      "\u001b[34m\u001b[1mwandb\u001b[0m: Downloading large artifact lgbm:v187, 243.74MB. 3 files... Done. 0:0:0\n",
      "\u001b[34m\u001b[1mwandb\u001b[0m: Downloading large artifact lgbm:v188, 235.93MB. 3 files... Done. 0:0:0\n",
      "\u001b[34m\u001b[1mwandb\u001b[0m: Downloading large artifact lgbm:v189, 215.22MB. 3 files... Done. 0:0:0\n",
      "\u001b[34m\u001b[1mwandb\u001b[0m: Downloading large artifact lgbm:v190, 275.19MB. 3 files... Done. 0:0:0\n",
      "\u001b[34m\u001b[1mwandb\u001b[0m: Downloading large artifact lgbm:v191, 234.21MB. 3 files... Done. 0:0:0\n",
      "\u001b[34m\u001b[1mwandb\u001b[0m: Downloading large artifact lgbm:v192, 235.93MB. 3 files... Done. 0:0:0\n",
      "\u001b[34m\u001b[1mwandb\u001b[0m: Downloading large artifact lgbm:v193, 207.59MB. 3 files... Done. 0:0:0\n",
      "\u001b[34m\u001b[1mwandb\u001b[0m: Downloading large artifact lgbm:v194, 222.93MB. 3 files... Done. 0:0:0\n",
      "\u001b[34m\u001b[1mwandb\u001b[0m: Downloading large artifact lgbm:v195, 264.24MB. 3 files... Done. 0:0:0\n",
      "100%|██████████| 500000/500000 [00:05<00:00, 89230.60it/s]\n"
     ]
    },
    {
     "name": "stdout",
     "output_type": "stream",
     "text": [
      "| \u001b[95m 58      \u001b[0m | \u001b[95m 0.7149  \u001b[0m | \u001b[95m 1.0     \u001b[0m | \u001b[95m 0.0     \u001b[0m | \u001b[95m 1.0     \u001b[0m | \u001b[95m 0.0     \u001b[0m | \u001b[95m 0.0     \u001b[0m | \u001b[95m 0.0     \u001b[0m | \u001b[95m 1.0     \u001b[0m | \u001b[95m 0.0     \u001b[0m | \u001b[95m 0.0     \u001b[0m | \u001b[95m 0.0     \u001b[0m | \u001b[95m 0.0     \u001b[0m | \u001b[95m 0.0     \u001b[0m |\n"
     ]
    },
    {
     "name": "stderr",
     "output_type": "stream",
     "text": [
      "\u001b[34m\u001b[1mwandb\u001b[0m: Downloading large artifact lgbm:v184, 271.94MB. 3 files... Done. 0:0:0\n",
      "\u001b[34m\u001b[1mwandb\u001b[0m: Downloading large artifact lgbm:v185, 274.33MB. 3 files... Done. 0:0:0\n",
      "\u001b[34m\u001b[1mwandb\u001b[0m: Downloading large artifact lgbm:v186, 242.67MB. 3 files... Done. 0:0:0\n",
      "\u001b[34m\u001b[1mwandb\u001b[0m: Downloading large artifact lgbm:v187, 243.74MB. 3 files... Done. 0:0:0\n",
      "\u001b[34m\u001b[1mwandb\u001b[0m: Downloading large artifact lgbm:v188, 235.93MB. 3 files... Done. 0:0:0\n",
      "\u001b[34m\u001b[1mwandb\u001b[0m: Downloading large artifact lgbm:v189, 215.22MB. 3 files... Done. 0:0:0\n",
      "\u001b[34m\u001b[1mwandb\u001b[0m: Downloading large artifact lgbm:v190, 275.19MB. 3 files... Done. 0:0:0\n",
      "\u001b[34m\u001b[1mwandb\u001b[0m: Downloading large artifact lgbm:v191, 234.21MB. 3 files... Done. 0:0:0\n",
      "\u001b[34m\u001b[1mwandb\u001b[0m: Downloading large artifact lgbm:v192, 235.93MB. 3 files... Done. 0:0:0\n",
      "\u001b[34m\u001b[1mwandb\u001b[0m: Downloading large artifact lgbm:v193, 207.59MB. 3 files... Done. 0:0:0\n",
      "\u001b[34m\u001b[1mwandb\u001b[0m: Downloading large artifact lgbm:v194, 222.93MB. 3 files... Done. 0:0:0\n",
      "\u001b[34m\u001b[1mwandb\u001b[0m: Downloading large artifact lgbm:v195, 264.24MB. 3 files... Done. 0:0:0\n",
      "100%|██████████| 500000/500000 [00:05<00:00, 89363.37it/s]\n"
     ]
    },
    {
     "name": "stdout",
     "output_type": "stream",
     "text": [
      "| \u001b[0m 59      \u001b[0m | \u001b[0m 0.7146  \u001b[0m | \u001b[0m 1.0     \u001b[0m | \u001b[0m 0.0     \u001b[0m | \u001b[0m 1.0     \u001b[0m | \u001b[0m 0.0     \u001b[0m | \u001b[0m 0.0     \u001b[0m | \u001b[0m 0.0     \u001b[0m | \u001b[0m 1.0     \u001b[0m | \u001b[0m 0.0     \u001b[0m | \u001b[0m 0.0     \u001b[0m | \u001b[0m 0.0     \u001b[0m | \u001b[0m 0.2831  \u001b[0m | \u001b[0m 0.0     \u001b[0m |\n"
     ]
    },
    {
     "name": "stderr",
     "output_type": "stream",
     "text": [
      "\u001b[34m\u001b[1mwandb\u001b[0m: Downloading large artifact lgbm:v184, 271.94MB. 3 files... Done. 0:0:0\n",
      "\u001b[34m\u001b[1mwandb\u001b[0m: Downloading large artifact lgbm:v185, 274.33MB. 3 files... Done. 0:0:0\n",
      "\u001b[34m\u001b[1mwandb\u001b[0m: Downloading large artifact lgbm:v186, 242.67MB. 3 files... Done. 0:0:0\n",
      "\u001b[34m\u001b[1mwandb\u001b[0m: Downloading large artifact lgbm:v187, 243.74MB. 3 files... Done. 0:0:0\n",
      "\u001b[34m\u001b[1mwandb\u001b[0m: Downloading large artifact lgbm:v188, 235.93MB. 3 files... Done. 0:0:0\n",
      "\u001b[34m\u001b[1mwandb\u001b[0m: Downloading large artifact lgbm:v189, 215.22MB. 3 files... Done. 0:0:0\n",
      "\u001b[34m\u001b[1mwandb\u001b[0m: Downloading large artifact lgbm:v190, 275.19MB. 3 files... Done. 0:0:0\n",
      "\u001b[34m\u001b[1mwandb\u001b[0m: Downloading large artifact lgbm:v191, 234.21MB. 3 files... Done. 0:0:0\n",
      "\u001b[34m\u001b[1mwandb\u001b[0m: Downloading large artifact lgbm:v192, 235.93MB. 3 files... Done. 0:0:0\n",
      "\u001b[34m\u001b[1mwandb\u001b[0m: Downloading large artifact lgbm:v193, 207.59MB. 3 files... Done. 0:0:0\n",
      "\u001b[34m\u001b[1mwandb\u001b[0m: Downloading large artifact lgbm:v194, 222.93MB. 3 files... Done. 0:0:0\n",
      "\u001b[34m\u001b[1mwandb\u001b[0m: Downloading large artifact lgbm:v195, 264.24MB. 3 files... Done. 0:0:0\n",
      "100%|██████████| 500000/500000 [00:05<00:00, 88868.68it/s]\n"
     ]
    },
    {
     "name": "stdout",
     "output_type": "stream",
     "text": [
      "| \u001b[0m 60      \u001b[0m | \u001b[0m 0.7148  \u001b[0m | \u001b[0m 1.0     \u001b[0m | \u001b[0m 0.0     \u001b[0m | \u001b[0m 1.0     \u001b[0m | \u001b[0m 0.1292  \u001b[0m | \u001b[0m 0.0     \u001b[0m | \u001b[0m 0.0     \u001b[0m | \u001b[0m 1.0     \u001b[0m | \u001b[0m 0.0     \u001b[0m | \u001b[0m 0.0     \u001b[0m | \u001b[0m 0.0     \u001b[0m | \u001b[0m 0.0     \u001b[0m | \u001b[0m 0.0     \u001b[0m |\n"
     ]
    },
    {
     "name": "stderr",
     "output_type": "stream",
     "text": [
      "\u001b[34m\u001b[1mwandb\u001b[0m: Downloading large artifact lgbm:v184, 271.94MB. 3 files... Done. 0:0:0\n",
      "\u001b[34m\u001b[1mwandb\u001b[0m: Downloading large artifact lgbm:v185, 274.33MB. 3 files... Done. 0:0:0\n",
      "\u001b[34m\u001b[1mwandb\u001b[0m: Downloading large artifact lgbm:v186, 242.67MB. 3 files... Done. 0:0:0\n",
      "\u001b[34m\u001b[1mwandb\u001b[0m: Downloading large artifact lgbm:v187, 243.74MB. 3 files... Done. 0:0:0\n",
      "\u001b[34m\u001b[1mwandb\u001b[0m: Downloading large artifact lgbm:v188, 235.93MB. 3 files... Done. 0:0:0\n",
      "\u001b[34m\u001b[1mwandb\u001b[0m: Downloading large artifact lgbm:v189, 215.22MB. 3 files... Done. 0:0:0\n",
      "\u001b[34m\u001b[1mwandb\u001b[0m: Downloading large artifact lgbm:v190, 275.19MB. 3 files... Done. 0:0:0\n",
      "\u001b[34m\u001b[1mwandb\u001b[0m: Downloading large artifact lgbm:v191, 234.21MB. 3 files... Done. 0:0:0\n",
      "\u001b[34m\u001b[1mwandb\u001b[0m: Downloading large artifact lgbm:v192, 235.93MB. 3 files... Done. 0:0:0\n",
      "\u001b[34m\u001b[1mwandb\u001b[0m: Downloading large artifact lgbm:v193, 207.59MB. 3 files... Done. 0:0:0\n",
      "\u001b[34m\u001b[1mwandb\u001b[0m: Downloading large artifact lgbm:v194, 222.93MB. 3 files... Done. 0:0:0\n",
      "\u001b[34m\u001b[1mwandb\u001b[0m: Downloading large artifact lgbm:v195, 264.24MB. 3 files... Done. 0:0:0\n",
      "100%|██████████| 500000/500000 [00:05<00:00, 88809.52it/s]\n"
     ]
    },
    {
     "name": "stdout",
     "output_type": "stream",
     "text": [
      "| \u001b[0m 61      \u001b[0m | \u001b[0m 0.7148  \u001b[0m | \u001b[0m 1.0     \u001b[0m | \u001b[0m 0.0     \u001b[0m | \u001b[0m 1.0     \u001b[0m | \u001b[0m 0.0     \u001b[0m | \u001b[0m 0.0     \u001b[0m | \u001b[0m 0.0     \u001b[0m | \u001b[0m 1.0     \u001b[0m | \u001b[0m 0.0     \u001b[0m | \u001b[0m 0.1686  \u001b[0m | \u001b[0m 0.0     \u001b[0m | \u001b[0m 0.0     \u001b[0m | \u001b[0m 0.0     \u001b[0m |\n"
     ]
    },
    {
     "name": "stderr",
     "output_type": "stream",
     "text": [
      "\u001b[34m\u001b[1mwandb\u001b[0m: Downloading large artifact lgbm:v184, 271.94MB. 3 files... Done. 0:0:0\n",
      "\u001b[34m\u001b[1mwandb\u001b[0m: Downloading large artifact lgbm:v185, 274.33MB. 3 files... Done. 0:0:0\n",
      "\u001b[34m\u001b[1mwandb\u001b[0m: Downloading large artifact lgbm:v186, 242.67MB. 3 files... Done. 0:0:0\n",
      "\u001b[34m\u001b[1mwandb\u001b[0m: Downloading large artifact lgbm:v187, 243.74MB. 3 files... Done. 0:0:0\n",
      "\u001b[34m\u001b[1mwandb\u001b[0m: Downloading large artifact lgbm:v188, 235.93MB. 3 files... Done. 0:0:0\n",
      "\u001b[34m\u001b[1mwandb\u001b[0m: Downloading large artifact lgbm:v189, 215.22MB. 3 files... Done. 0:0:0\n",
      "\u001b[34m\u001b[1mwandb\u001b[0m: Downloading large artifact lgbm:v190, 275.19MB. 3 files... Done. 0:0:0\n",
      "\u001b[34m\u001b[1mwandb\u001b[0m: Downloading large artifact lgbm:v191, 234.21MB. 3 files... Done. 0:0:0\n",
      "\u001b[34m\u001b[1mwandb\u001b[0m: Downloading large artifact lgbm:v192, 235.93MB. 3 files... Done. 0:0:0\n",
      "\u001b[34m\u001b[1mwandb\u001b[0m: Downloading large artifact lgbm:v193, 207.59MB. 3 files... Done. 0:0:0\n",
      "\u001b[34m\u001b[1mwandb\u001b[0m: Downloading large artifact lgbm:v194, 222.93MB. 3 files... Done. 0:0:0\n",
      "\u001b[34m\u001b[1mwandb\u001b[0m: Downloading large artifact lgbm:v195, 264.24MB. 3 files... Done. 0:0:0\n",
      "100%|██████████| 500000/500000 [00:05<00:00, 88178.13it/s]\n"
     ]
    },
    {
     "name": "stdout",
     "output_type": "stream",
     "text": [
      "| \u001b[0m 62      \u001b[0m | \u001b[0m 0.7145  \u001b[0m | \u001b[0m 1.0     \u001b[0m | \u001b[0m 0.0     \u001b[0m | \u001b[0m 1.0     \u001b[0m | \u001b[0m 0.0     \u001b[0m | \u001b[0m 0.0     \u001b[0m | \u001b[0m 0.0     \u001b[0m | \u001b[0m 1.0     \u001b[0m | \u001b[0m 0.0     \u001b[0m | \u001b[0m 0.0     \u001b[0m | \u001b[0m 0.0     \u001b[0m | \u001b[0m 0.0     \u001b[0m | \u001b[0m 0.3056  \u001b[0m |\n"
     ]
    },
    {
     "name": "stderr",
     "output_type": "stream",
     "text": [
      "\u001b[34m\u001b[1mwandb\u001b[0m: Downloading large artifact lgbm:v184, 271.94MB. 3 files... Done. 0:0:0\n",
      "\u001b[34m\u001b[1mwandb\u001b[0m: Downloading large artifact lgbm:v185, 274.33MB. 3 files... Done. 0:0:0\n",
      "\u001b[34m\u001b[1mwandb\u001b[0m: Downloading large artifact lgbm:v186, 242.67MB. 3 files... Done. 0:0:0\n",
      "\u001b[34m\u001b[1mwandb\u001b[0m: Downloading large artifact lgbm:v187, 243.74MB. 3 files... Done. 0:0:0\n",
      "\u001b[34m\u001b[1mwandb\u001b[0m: Downloading large artifact lgbm:v188, 235.93MB. 3 files... Done. 0:0:0\n",
      "\u001b[34m\u001b[1mwandb\u001b[0m: Downloading large artifact lgbm:v189, 215.22MB. 3 files... Done. 0:0:0\n",
      "\u001b[34m\u001b[1mwandb\u001b[0m: Downloading large artifact lgbm:v190, 275.19MB. 3 files... Done. 0:0:0\n",
      "\u001b[34m\u001b[1mwandb\u001b[0m: Downloading large artifact lgbm:v191, 234.21MB. 3 files... Done. 0:0:0\n",
      "\u001b[34m\u001b[1mwandb\u001b[0m: Downloading large artifact lgbm:v192, 235.93MB. 3 files... Done. 0:0:0\n",
      "\u001b[34m\u001b[1mwandb\u001b[0m: Downloading large artifact lgbm:v193, 207.59MB. 3 files... Done. 0:0:0\n",
      "\u001b[34m\u001b[1mwandb\u001b[0m: Downloading large artifact lgbm:v194, 222.93MB. 3 files... Done. 0:0:0\n",
      "\u001b[34m\u001b[1mwandb\u001b[0m: Downloading large artifact lgbm:v195, 264.24MB. 3 files... Done. 0:0:0\n",
      "100%|██████████| 500000/500000 [00:05<00:00, 88629.58it/s]\n"
     ]
    },
    {
     "name": "stdout",
     "output_type": "stream",
     "text": [
      "| \u001b[0m 63      \u001b[0m | \u001b[0m 0.7146  \u001b[0m | \u001b[0m 1.0     \u001b[0m | \u001b[0m 0.0     \u001b[0m | \u001b[0m 1.0     \u001b[0m | \u001b[0m 0.0     \u001b[0m | \u001b[0m 0.0     \u001b[0m | \u001b[0m 0.0     \u001b[0m | \u001b[0m 1.0     \u001b[0m | \u001b[0m 0.2716  \u001b[0m | \u001b[0m 0.0     \u001b[0m | \u001b[0m 0.0     \u001b[0m | \u001b[0m 0.0     \u001b[0m | \u001b[0m 0.0     \u001b[0m |\n",
      "| \u001b[0m 64      \u001b[0m | \u001b[0m 0.7146  \u001b[0m | \u001b[0m 1.0     \u001b[0m | \u001b[0m 0.0     \u001b[0m | \u001b[0m 1.0     \u001b[0m | \u001b[0m 0.0     \u001b[0m | \u001b[0m 0.0     \u001b[0m | \u001b[0m 0.0     \u001b[0m | \u001b[0m 1.0     \u001b[0m | \u001b[0m 0.2716  \u001b[0m | \u001b[0m 0.0     \u001b[0m | \u001b[0m 0.0     \u001b[0m | \u001b[0m 0.0     \u001b[0m | \u001b[0m 0.0     \u001b[0m |\n"
     ]
    },
    {
     "name": "stderr",
     "output_type": "stream",
     "text": [
      "\u001b[34m\u001b[1mwandb\u001b[0m: Downloading large artifact lgbm:v184, 271.94MB. 3 files... Done. 0:0:0\n",
      "\u001b[34m\u001b[1mwandb\u001b[0m: Downloading large artifact lgbm:v185, 274.33MB. 3 files... Done. 0:0:0\n",
      "\u001b[34m\u001b[1mwandb\u001b[0m: Downloading large artifact lgbm:v186, 242.67MB. 3 files... Done. 0:0:0\n",
      "\u001b[34m\u001b[1mwandb\u001b[0m: Downloading large artifact lgbm:v187, 243.74MB. 3 files... Done. 0:0:0\n",
      "\u001b[34m\u001b[1mwandb\u001b[0m: Downloading large artifact lgbm:v188, 235.93MB. 3 files... Done. 0:0:0\n",
      "\u001b[34m\u001b[1mwandb\u001b[0m: Downloading large artifact lgbm:v189, 215.22MB. 3 files... Done. 0:0:0\n",
      "\u001b[34m\u001b[1mwandb\u001b[0m: Downloading large artifact lgbm:v190, 275.19MB. 3 files... Done. 0:0:0\n",
      "\u001b[34m\u001b[1mwandb\u001b[0m: Downloading large artifact lgbm:v191, 234.21MB. 3 files... Done. 0:0:0\n",
      "\u001b[34m\u001b[1mwandb\u001b[0m: Downloading large artifact lgbm:v192, 235.93MB. 3 files... Done. 0:0:0\n",
      "\u001b[34m\u001b[1mwandb\u001b[0m: Downloading large artifact lgbm:v193, 207.59MB. 3 files... Done. 0:0:0\n",
      "\u001b[34m\u001b[1mwandb\u001b[0m: Downloading large artifact lgbm:v194, 222.93MB. 3 files... Done. 0:0:0\n",
      "\u001b[34m\u001b[1mwandb\u001b[0m: Downloading large artifact lgbm:v195, 264.24MB. 3 files... Done. 0:0:0\n",
      "100%|██████████| 500000/500000 [00:05<00:00, 88118.55it/s]\n"
     ]
    },
    {
     "name": "stdout",
     "output_type": "stream",
     "text": [
      "| \u001b[0m 65      \u001b[0m | \u001b[0m 0.7148  \u001b[0m | \u001b[0m 0.8797  \u001b[0m | \u001b[0m 0.0     \u001b[0m | \u001b[0m 1.0     \u001b[0m | \u001b[0m 0.0     \u001b[0m | \u001b[0m 0.0     \u001b[0m | \u001b[0m 0.0     \u001b[0m | \u001b[0m 1.0     \u001b[0m | \u001b[0m 0.0     \u001b[0m | \u001b[0m 0.0     \u001b[0m | \u001b[0m 0.0     \u001b[0m | \u001b[0m 0.0     \u001b[0m | \u001b[0m 0.0     \u001b[0m |\n"
     ]
    },
    {
     "name": "stderr",
     "output_type": "stream",
     "text": [
      "\u001b[34m\u001b[1mwandb\u001b[0m: Downloading large artifact lgbm:v184, 271.94MB. 3 files... Done. 0:0:0\n",
      "\u001b[34m\u001b[1mwandb\u001b[0m: Downloading large artifact lgbm:v185, 274.33MB. 3 files... Done. 0:0:0\n",
      "\u001b[34m\u001b[1mwandb\u001b[0m: Downloading large artifact lgbm:v186, 242.67MB. 3 files... Done. 0:0:0\n",
      "\u001b[34m\u001b[1mwandb\u001b[0m: Downloading large artifact lgbm:v187, 243.74MB. 3 files... Done. 0:0:0\n",
      "\u001b[34m\u001b[1mwandb\u001b[0m: Downloading large artifact lgbm:v188, 235.93MB. 3 files... Done. 0:0:0\n",
      "\u001b[34m\u001b[1mwandb\u001b[0m: Downloading large artifact lgbm:v189, 215.22MB. 3 files... Done. 0:0:0\n",
      "\u001b[34m\u001b[1mwandb\u001b[0m: Downloading large artifact lgbm:v190, 275.19MB. 3 files... Done. 0:0:0\n",
      "\u001b[34m\u001b[1mwandb\u001b[0m: Downloading large artifact lgbm:v191, 234.21MB. 3 files... Done. 0:0:0\n",
      "\u001b[34m\u001b[1mwandb\u001b[0m: Downloading large artifact lgbm:v192, 235.93MB. 3 files... Done. 0:0:0\n",
      "\u001b[34m\u001b[1mwandb\u001b[0m: Downloading large artifact lgbm:v193, 207.59MB. 3 files... Done. 0:0:0\n",
      "\u001b[34m\u001b[1mwandb\u001b[0m: Downloading large artifact lgbm:v194, 222.93MB. 3 files... Done. 0:0:0\n",
      "\u001b[34m\u001b[1mwandb\u001b[0m: Downloading large artifact lgbm:v195, 264.24MB. 3 files... Done. 0:0:0\n",
      "100%|██████████| 500000/500000 [00:05<00:00, 89074.49it/s]\n"
     ]
    },
    {
     "name": "stdout",
     "output_type": "stream",
     "text": [
      "| \u001b[0m 66      \u001b[0m | \u001b[0m 0.7143  \u001b[0m | \u001b[0m 0.2827  \u001b[0m | \u001b[0m 0.0     \u001b[0m | \u001b[0m 1.0     \u001b[0m | \u001b[0m 0.0     \u001b[0m | \u001b[0m 0.0     \u001b[0m | \u001b[0m 0.0     \u001b[0m | \u001b[0m 1.0     \u001b[0m | \u001b[0m 0.0     \u001b[0m | \u001b[0m 1.0     \u001b[0m | \u001b[0m 0.0     \u001b[0m | \u001b[0m 0.0     \u001b[0m | \u001b[0m 0.0     \u001b[0m |\n",
      "| \u001b[0m 67      \u001b[0m | \u001b[0m 0.7143  \u001b[0m | \u001b[0m 0.2827  \u001b[0m | \u001b[0m 0.0     \u001b[0m | \u001b[0m 1.0     \u001b[0m | \u001b[0m 0.0     \u001b[0m | \u001b[0m 0.0     \u001b[0m | \u001b[0m 0.0     \u001b[0m | \u001b[0m 1.0     \u001b[0m | \u001b[0m 0.0     \u001b[0m | \u001b[0m 1.0     \u001b[0m | \u001b[0m 0.0     \u001b[0m | \u001b[0m 0.0     \u001b[0m | \u001b[0m 0.0     \u001b[0m |\n"
     ]
    },
    {
     "name": "stderr",
     "output_type": "stream",
     "text": [
      "\u001b[34m\u001b[1mwandb\u001b[0m: Downloading large artifact lgbm:v184, 271.94MB. 3 files... Done. 0:0:0\n",
      "\u001b[34m\u001b[1mwandb\u001b[0m: Downloading large artifact lgbm:v185, 274.33MB. 3 files... Done. 0:0:0\n",
      "\u001b[34m\u001b[1mwandb\u001b[0m: Downloading large artifact lgbm:v186, 242.67MB. 3 files... Done. 0:0:0\n",
      "\u001b[34m\u001b[1mwandb\u001b[0m: Downloading large artifact lgbm:v187, 243.74MB. 3 files... Done. 0:0:0\n",
      "\u001b[34m\u001b[1mwandb\u001b[0m: Downloading large artifact lgbm:v188, 235.93MB. 3 files... Done. 0:0:0\n",
      "\u001b[34m\u001b[1mwandb\u001b[0m: Downloading large artifact lgbm:v189, 215.22MB. 3 files... Done. 0:0:0\n",
      "\u001b[34m\u001b[1mwandb\u001b[0m: Downloading large artifact lgbm:v190, 275.19MB. 3 files... Done. 0:0:0\n",
      "\u001b[34m\u001b[1mwandb\u001b[0m: Downloading large artifact lgbm:v191, 234.21MB. 3 files... Done. 0:0:0\n",
      "\u001b[34m\u001b[1mwandb\u001b[0m: Downloading large artifact lgbm:v192, 235.93MB. 3 files... Done. 0:0:0\n",
      "\u001b[34m\u001b[1mwandb\u001b[0m: Downloading large artifact lgbm:v193, 207.59MB. 3 files... Done. 0:0:0\n",
      "\u001b[34m\u001b[1mwandb\u001b[0m: Downloading large artifact lgbm:v194, 222.93MB. 3 files... Done. 0:0:0\n",
      "\u001b[34m\u001b[1mwandb\u001b[0m: Downloading large artifact lgbm:v195, 264.24MB. 3 files... Done. 0:0:0\n",
      "100%|██████████| 500000/500000 [00:05<00:00, 88617.94it/s]\n"
     ]
    },
    {
     "name": "stdout",
     "output_type": "stream",
     "text": [
      "| \u001b[0m 68      \u001b[0m | \u001b[0m 0.7147  \u001b[0m | \u001b[0m 1.0     \u001b[0m | \u001b[0m 0.1459  \u001b[0m | \u001b[0m 1.0     \u001b[0m | \u001b[0m 0.0     \u001b[0m | \u001b[0m 0.0     \u001b[0m | \u001b[0m 0.0     \u001b[0m | \u001b[0m 1.0     \u001b[0m | \u001b[0m 0.0     \u001b[0m | \u001b[0m 0.0     \u001b[0m | \u001b[0m 0.0     \u001b[0m | \u001b[0m 0.0     \u001b[0m | \u001b[0m 0.0     \u001b[0m |\n",
      "| \u001b[0m 69      \u001b[0m | \u001b[0m 0.7147  \u001b[0m | \u001b[0m 1.0     \u001b[0m | \u001b[0m 0.1459  \u001b[0m | \u001b[0m 1.0     \u001b[0m | \u001b[0m 0.0     \u001b[0m | \u001b[0m 0.0     \u001b[0m | \u001b[0m 0.0     \u001b[0m | \u001b[0m 1.0     \u001b[0m | \u001b[0m 0.0     \u001b[0m | \u001b[0m 0.0     \u001b[0m | \u001b[0m 0.0     \u001b[0m | \u001b[0m 0.0     \u001b[0m | \u001b[0m 0.0     \u001b[0m |\n"
     ]
    },
    {
     "name": "stderr",
     "output_type": "stream",
     "text": [
      "\u001b[34m\u001b[1mwandb\u001b[0m: Downloading large artifact lgbm:v184, 271.94MB. 3 files... Done. 0:0:0\n",
      "\u001b[34m\u001b[1mwandb\u001b[0m: Downloading large artifact lgbm:v185, 274.33MB. 3 files... Done. 0:0:0\n",
      "\u001b[34m\u001b[1mwandb\u001b[0m: Downloading large artifact lgbm:v186, 242.67MB. 3 files... Done. 0:0:0\n",
      "\u001b[34m\u001b[1mwandb\u001b[0m: Downloading large artifact lgbm:v187, 243.74MB. 3 files... Done. 0:0:0\n",
      "\u001b[34m\u001b[1mwandb\u001b[0m: Downloading large artifact lgbm:v188, 235.93MB. 3 files... Done. 0:0:0\n",
      "\u001b[34m\u001b[1mwandb\u001b[0m: Downloading large artifact lgbm:v189, 215.22MB. 3 files... Done. 0:0:0\n",
      "\u001b[34m\u001b[1mwandb\u001b[0m: Downloading large artifact lgbm:v190, 275.19MB. 3 files... Done. 0:0:0\n",
      "\u001b[34m\u001b[1mwandb\u001b[0m: Downloading large artifact lgbm:v191, 234.21MB. 3 files... Done. 0:0:0\n",
      "\u001b[34m\u001b[1mwandb\u001b[0m: Downloading large artifact lgbm:v192, 235.93MB. 3 files... Done. 0:0:0\n",
      "\u001b[34m\u001b[1mwandb\u001b[0m: Downloading large artifact lgbm:v193, 207.59MB. 3 files... Done. 0:0:0\n",
      "\u001b[34m\u001b[1mwandb\u001b[0m: Downloading large artifact lgbm:v194, 222.93MB. 3 files... Done. 0:0:0\n",
      "\u001b[34m\u001b[1mwandb\u001b[0m: Downloading large artifact lgbm:v195, 264.24MB. 3 files... Done. 0:0:0\n",
      "100%|██████████| 500000/500000 [00:05<00:00, 89648.19it/s]"
     ]
    },
    {
     "name": "stdout",
     "output_type": "stream",
     "text": [
      "| \u001b[0m 70      \u001b[0m | \u001b[0m 0.7146  \u001b[0m | \u001b[0m 1.0     \u001b[0m | \u001b[0m 0.0     \u001b[0m | \u001b[0m 1.0     \u001b[0m | \u001b[0m 0.0     \u001b[0m | \u001b[0m 0.0     \u001b[0m | \u001b[0m 0.1806  \u001b[0m | \u001b[0m 1.0     \u001b[0m | \u001b[0m 0.0     \u001b[0m | \u001b[0m 0.0     \u001b[0m | \u001b[0m 0.0     \u001b[0m | \u001b[0m 0.0     \u001b[0m | \u001b[0m 0.0     \u001b[0m |\n",
      "=========================================================================================================================================================================\n"
     ]
    },
    {
     "name": "stderr",
     "output_type": "stream",
     "text": [
      "\n"
     ]
    }
   ],
   "source": [
    "# Run bayesian optimization\n",
    "ndcg_fn_ = partial(ndcg_fn, ens, trained_types, trained_versions)\n",
    "optimizer = BayesianOptimization(f=ndcg_fn_, pbounds=coefs, random_state=168)\n",
    "optimizer.maximize(init_points=50, n_iter=20)"
   ]
  },
  {
   "cell_type": "code",
   "execution_count": 6,
   "id": "surface-breathing",
   "metadata": {},
   "outputs": [
    {
     "data": {
      "text/plain": [
       "{'target': 0.7148598510778752,\n",
       " 'params': {'184': 1.0,\n",
       "  '185': 0.0,\n",
       "  '186': 1.0,\n",
       "  '187': 0.0,\n",
       "  '188': 0.0,\n",
       "  '189': 0.0,\n",
       "  '190': 1.0,\n",
       "  '191': 0.0,\n",
       "  '192': 0.0,\n",
       "  '193': 0.0,\n",
       "  '194': 0.0,\n",
       "  '195': 0.0}}"
      ]
     },
     "execution_count": 6,
     "metadata": {},
     "output_type": "execute_result"
    }
   ],
   "source": [
    "# Obtain the best set of blending coefficients\n",
    "optimizer.max"
   ]
  },
  {
   "cell_type": "markdown",
   "id": "comic-payday",
   "metadata": {},
   "source": [
    "#### c. Meta-models"
   ]
  },
  {
   "cell_type": "code",
   "execution_count": 4,
   "id": "short-samuel",
   "metadata": {},
   "outputs": [],
   "source": [
    "# Configure base models to put in bayesian opt blending \n",
    "meta_types = ['lgbm_meta' for  _  in range(6)] + ['xgb_meta' for _ in range(5)]\n",
    "meta_versions = [f'l{v}' for v in [11, 12, 16, 17, 18, 19]] + [f'x{v}' for v in [3, 4, 8, 9, 10]]\n",
    "coefs = {v: (0, 1) for v in meta_versions}"
   ]
  },
  {
   "cell_type": "code",
   "execution_count": 5,
   "id": "completed-infrared",
   "metadata": {
    "collapsed": true,
    "jupyter": {
     "outputs_hidden": true
    }
   },
   "outputs": [
    {
     "name": "stdout",
     "output_type": "stream",
     "text": [
      "|   iter    |  target   |    l11    |    l12    |    l16    |    l17    |    l18    |    l19    |    x10    |    x3     |    x4     |    x8     |    x9     |\n",
      "-------------------------------------------------------------------------------------------------------------------------------------------------------------\n"
     ]
    },
    {
     "name": "stderr",
     "output_type": "stream",
     "text": [
      "\u001b[34m\u001b[1mwandb\u001b[0m: Downloading large artifact lgbm_meta:v11, 546.02MB. 7 files... Done. 0:0:0\n",
      "\u001b[34m\u001b[1mwandb\u001b[0m: Downloading large artifact lgbm_meta:v12, 557.04MB. 7 files... Done. 0:0:0\n",
      "\u001b[34m\u001b[1mwandb\u001b[0m: Downloading large artifact lgbm_meta:v16, 557.89MB. 7 files... Done. 0:0:0\n",
      "\u001b[34m\u001b[1mwandb\u001b[0m: Downloading large artifact lgbm_meta:v17, 558.15MB. 7 files... Done. 0:0:0\n",
      "\u001b[34m\u001b[1mwandb\u001b[0m: Downloading large artifact lgbm_meta:v18, 554.43MB. 7 files... Done. 0:0:0\n",
      "\u001b[34m\u001b[1mwandb\u001b[0m: Downloading large artifact lgbm_meta:v19, 552.47MB. 7 files... Done. 0:0:0\n",
      "\u001b[34m\u001b[1mwandb\u001b[0m: Downloading large artifact xgb_meta:v3, 756.43MB. 7 files... Done. 0:0:0\n",
      "\u001b[34m\u001b[1mwandb\u001b[0m: Downloading large artifact xgb_meta:v4, 765.65MB. 7 files... Done. 0:0:0\n",
      "\u001b[34m\u001b[1mwandb\u001b[0m: Downloading large artifact xgb_meta:v8, 768.16MB. 7 files... Done. 0:0:0\n",
      "\u001b[34m\u001b[1mwandb\u001b[0m: Downloading large artifact xgb_meta:v9, 759.90MB. 7 files... Done. 0:0:0\n",
      "\u001b[34m\u001b[1mwandb\u001b[0m: Downloading large artifact xgb_meta:v10, 766.76MB. 7 files... Done. 0:0:0\n",
      "100%|██████████| 500000/500000 [00:05<00:00, 87190.26it/s]\n"
     ]
    },
    {
     "name": "stdout",
     "output_type": "stream",
     "text": [
      "| \u001b[0m 1       \u001b[0m | \u001b[0m 0.7278  \u001b[0m | \u001b[0m 0.5978  \u001b[0m | \u001b[0m 0.5208  \u001b[0m | \u001b[0m 0.2468  \u001b[0m | \u001b[0m 0.3375  \u001b[0m | \u001b[0m 0.8464  \u001b[0m | \u001b[0m 0.6514  \u001b[0m | \u001b[0m 0.7334  \u001b[0m | \u001b[0m 0.5118  \u001b[0m | \u001b[0m 0.9043  \u001b[0m | \u001b[0m 0.9863  \u001b[0m | \u001b[0m 0.7798  \u001b[0m |\n"
     ]
    },
    {
     "name": "stderr",
     "output_type": "stream",
     "text": [
      "\u001b[34m\u001b[1mwandb\u001b[0m: Downloading large artifact lgbm_meta:v11, 546.02MB. 7 files... Done. 0:0:0\n",
      "\u001b[34m\u001b[1mwandb\u001b[0m: Downloading large artifact lgbm_meta:v12, 557.04MB. 7 files... Done. 0:0:0\n",
      "\u001b[34m\u001b[1mwandb\u001b[0m: Downloading large artifact lgbm_meta:v16, 557.89MB. 7 files... Done. 0:0:0\n",
      "\u001b[34m\u001b[1mwandb\u001b[0m: Downloading large artifact lgbm_meta:v17, 558.15MB. 7 files... Done. 0:0:0\n",
      "\u001b[34m\u001b[1mwandb\u001b[0m: Downloading large artifact lgbm_meta:v18, 554.43MB. 7 files... Done. 0:0:0\n",
      "\u001b[34m\u001b[1mwandb\u001b[0m: Downloading large artifact lgbm_meta:v19, 552.47MB. 7 files... Done. 0:0:0\n",
      "\u001b[34m\u001b[1mwandb\u001b[0m: Downloading large artifact xgb_meta:v3, 756.43MB. 7 files... Done. 0:0:0\n",
      "\u001b[34m\u001b[1mwandb\u001b[0m: Downloading large artifact xgb_meta:v4, 765.65MB. 7 files... Done. 0:0:0\n",
      "\u001b[34m\u001b[1mwandb\u001b[0m: Downloading large artifact xgb_meta:v8, 768.16MB. 7 files... Done. 0:0:0\n",
      "\u001b[34m\u001b[1mwandb\u001b[0m: Downloading large artifact xgb_meta:v9, 759.90MB. 7 files... Done. 0:0:0\n",
      "\u001b[34m\u001b[1mwandb\u001b[0m: Downloading large artifact xgb_meta:v10, 766.76MB. 7 files... Done. 0:0:0\n",
      "100%|██████████| 500000/500000 [00:05<00:00, 88976.27it/s]\n"
     ]
    },
    {
     "name": "stdout",
     "output_type": "stream",
     "text": [
      "| \u001b[0m 2       \u001b[0m | \u001b[0m 0.7277  \u001b[0m | \u001b[0m 0.9185  \u001b[0m | \u001b[0m 0.4017  \u001b[0m | \u001b[0m 0.7521  \u001b[0m | \u001b[0m 0.5576  \u001b[0m | \u001b[0m 0.4627  \u001b[0m | \u001b[0m 0.9447  \u001b[0m | \u001b[0m 0.9432  \u001b[0m | \u001b[0m 0.7974  \u001b[0m | \u001b[0m 0.4409  \u001b[0m | \u001b[0m 0.2203  \u001b[0m | \u001b[0m 0.3619  \u001b[0m |\n"
     ]
    },
    {
     "name": "stderr",
     "output_type": "stream",
     "text": [
      "\u001b[34m\u001b[1mwandb\u001b[0m: Downloading large artifact lgbm_meta:v11, 546.02MB. 7 files... Done. 0:0:0\n",
      "\u001b[34m\u001b[1mwandb\u001b[0m: Downloading large artifact lgbm_meta:v12, 557.04MB. 7 files... Done. 0:0:0\n",
      "\u001b[34m\u001b[1mwandb\u001b[0m: Downloading large artifact lgbm_meta:v16, 557.89MB. 7 files... Done. 0:0:0\n",
      "\u001b[34m\u001b[1mwandb\u001b[0m: Downloading large artifact lgbm_meta:v17, 558.15MB. 7 files... Done. 0:0:0\n",
      "\u001b[34m\u001b[1mwandb\u001b[0m: Downloading large artifact lgbm_meta:v18, 554.43MB. 7 files... Done. 0:0:0\n",
      "\u001b[34m\u001b[1mwandb\u001b[0m: Downloading large artifact lgbm_meta:v19, 552.47MB. 7 files... Done. 0:0:0\n",
      "\u001b[34m\u001b[1mwandb\u001b[0m: Downloading large artifact xgb_meta:v3, 756.43MB. 7 files... Done. 0:0:0\n",
      "\u001b[34m\u001b[1mwandb\u001b[0m: Downloading large artifact xgb_meta:v4, 765.65MB. 7 files... Done. 0:0:0\n",
      "\u001b[34m\u001b[1mwandb\u001b[0m: Downloading large artifact xgb_meta:v8, 768.16MB. 7 files... Done. 0:0:0\n",
      "\u001b[34m\u001b[1mwandb\u001b[0m: Downloading large artifact xgb_meta:v9, 759.90MB. 7 files... Done. 0:0:0\n",
      "\u001b[34m\u001b[1mwandb\u001b[0m: Downloading large artifact xgb_meta:v10, 766.76MB. 7 files... Done. 0:0:0\n",
      "100%|██████████| 500000/500000 [00:05<00:00, 87984.01it/s]\n"
     ]
    },
    {
     "name": "stdout",
     "output_type": "stream",
     "text": [
      "| \u001b[95m 3       \u001b[0m | \u001b[95m 0.7278  \u001b[0m | \u001b[95m 0.4555  \u001b[0m | \u001b[95m 0.1673  \u001b[0m | \u001b[95m 0.9239  \u001b[0m | \u001b[95m 0.244   \u001b[0m | \u001b[95m 0.8409  \u001b[0m | \u001b[95m 0.1674  \u001b[0m | \u001b[95m 0.6746  \u001b[0m | \u001b[95m 0.325   \u001b[0m | \u001b[95m 0.4892  \u001b[0m | \u001b[95m 0.2329  \u001b[0m | \u001b[95m 0.5012  \u001b[0m |\n"
     ]
    },
    {
     "name": "stderr",
     "output_type": "stream",
     "text": [
      "\u001b[34m\u001b[1mwandb\u001b[0m: Downloading large artifact lgbm_meta:v11, 546.02MB. 7 files... Done. 0:0:0\n",
      "\u001b[34m\u001b[1mwandb\u001b[0m: Downloading large artifact lgbm_meta:v12, 557.04MB. 7 files... Done. 0:0:0\n",
      "\u001b[34m\u001b[1mwandb\u001b[0m: Downloading large artifact lgbm_meta:v16, 557.89MB. 7 files... Done. 0:0:0\n",
      "\u001b[34m\u001b[1mwandb\u001b[0m: Downloading large artifact lgbm_meta:v17, 558.15MB. 7 files... Done. 0:0:0\n",
      "\u001b[34m\u001b[1mwandb\u001b[0m: Downloading large artifact lgbm_meta:v18, 554.43MB. 7 files... Done. 0:0:0\n",
      "\u001b[34m\u001b[1mwandb\u001b[0m: Downloading large artifact lgbm_meta:v19, 552.47MB. 7 files... Done. 0:0:0\n",
      "\u001b[34m\u001b[1mwandb\u001b[0m: Downloading large artifact xgb_meta:v3, 756.43MB. 7 files... Done. 0:0:0\n",
      "\u001b[34m\u001b[1mwandb\u001b[0m: Downloading large artifact xgb_meta:v4, 765.65MB. 7 files... Done. 0:0:0\n",
      "\u001b[34m\u001b[1mwandb\u001b[0m: Downloading large artifact xgb_meta:v8, 768.16MB. 7 files... Done. 0:0:0\n",
      "\u001b[34m\u001b[1mwandb\u001b[0m: Downloading large artifact xgb_meta:v9, 759.90MB. 7 files... Done. 0:0:0\n",
      "\u001b[34m\u001b[1mwandb\u001b[0m: Downloading large artifact xgb_meta:v10, 766.76MB. 7 files... Done. 0:0:0\n",
      "100%|██████████| 500000/500000 [00:05<00:00, 86541.16it/s]\n"
     ]
    },
    {
     "name": "stdout",
     "output_type": "stream",
     "text": [
      "| \u001b[95m 4       \u001b[0m | \u001b[95m 0.7279  \u001b[0m | \u001b[95m 0.01919 \u001b[0m | \u001b[95m 0.03896 \u001b[0m | \u001b[95m 0.1381  \u001b[0m | \u001b[95m 0.4617  \u001b[0m | \u001b[95m 0.3814  \u001b[0m | \u001b[95m 0.6398  \u001b[0m | \u001b[95m 0.4138  \u001b[0m | \u001b[95m 0.3661  \u001b[0m | \u001b[95m 0.67    \u001b[0m | \u001b[95m 0.2658  \u001b[0m | \u001b[95m 0.8521  \u001b[0m |\n"
     ]
    },
    {
     "name": "stderr",
     "output_type": "stream",
     "text": [
      "\u001b[34m\u001b[1mwandb\u001b[0m: Downloading large artifact lgbm_meta:v11, 546.02MB. 7 files... Done. 0:0:0\n",
      "\u001b[34m\u001b[1mwandb\u001b[0m: Downloading large artifact lgbm_meta:v12, 557.04MB. 7 files... Done. 0:0:0\n",
      "\u001b[34m\u001b[1mwandb\u001b[0m: Downloading large artifact lgbm_meta:v16, 557.89MB. 7 files... Done. 0:0:0\n",
      "\u001b[34m\u001b[1mwandb\u001b[0m: Downloading large artifact lgbm_meta:v17, 558.15MB. 7 files... Done. 0:0:0\n",
      "\u001b[34m\u001b[1mwandb\u001b[0m: Downloading large artifact lgbm_meta:v18, 554.43MB. 7 files... Done. 0:0:0\n",
      "\u001b[34m\u001b[1mwandb\u001b[0m: Downloading large artifact lgbm_meta:v19, 552.47MB. 7 files... Done. 0:0:0\n",
      "\u001b[34m\u001b[1mwandb\u001b[0m: Downloading large artifact xgb_meta:v3, 756.43MB. 7 files... Done. 0:0:0\n",
      "\u001b[34m\u001b[1mwandb\u001b[0m: Downloading large artifact xgb_meta:v4, 765.65MB. 7 files... Done. 0:0:0\n",
      "\u001b[34m\u001b[1mwandb\u001b[0m: Downloading large artifact xgb_meta:v8, 768.16MB. 7 files... Done. 0:0:0\n",
      "\u001b[34m\u001b[1mwandb\u001b[0m: Downloading large artifact xgb_meta:v9, 759.90MB. 7 files... Done. 0:0:0\n",
      "\u001b[34m\u001b[1mwandb\u001b[0m: Downloading large artifact xgb_meta:v10, 766.76MB. 7 files... Done. 0:0:0\n",
      "100%|██████████| 500000/500000 [00:05<00:00, 87190.12it/s]\n"
     ]
    },
    {
     "name": "stdout",
     "output_type": "stream",
     "text": [
      "| \u001b[0m 5       \u001b[0m | \u001b[0m 0.7277  \u001b[0m | \u001b[0m 0.413   \u001b[0m | \u001b[0m 0.9411  \u001b[0m | \u001b[0m 0.5105  \u001b[0m | \u001b[0m 0.003587\u001b[0m | \u001b[0m 0.838   \u001b[0m | \u001b[0m 0.5936  \u001b[0m | \u001b[0m 0.005173\u001b[0m | \u001b[0m 0.2993  \u001b[0m | \u001b[0m 0.7476  \u001b[0m | \u001b[0m 0.4129  \u001b[0m | \u001b[0m 0.2649  \u001b[0m |\n"
     ]
    },
    {
     "name": "stderr",
     "output_type": "stream",
     "text": [
      "\u001b[34m\u001b[1mwandb\u001b[0m: Downloading large artifact lgbm_meta:v11, 546.02MB. 7 files... Done. 0:0:0\n",
      "\u001b[34m\u001b[1mwandb\u001b[0m: Downloading large artifact lgbm_meta:v12, 557.04MB. 7 files... Done. 0:0:0\n",
      "\u001b[34m\u001b[1mwandb\u001b[0m: Downloading large artifact lgbm_meta:v16, 557.89MB. 7 files... Done. 0:0:0\n",
      "\u001b[34m\u001b[1mwandb\u001b[0m: Downloading large artifact lgbm_meta:v17, 558.15MB. 7 files... Done. 0:0:0\n",
      "\u001b[34m\u001b[1mwandb\u001b[0m: Downloading large artifact lgbm_meta:v18, 554.43MB. 7 files... Done. 0:0:0\n",
      "\u001b[34m\u001b[1mwandb\u001b[0m: Downloading large artifact lgbm_meta:v19, 552.47MB. 7 files... Done. 0:0:0\n",
      "\u001b[34m\u001b[1mwandb\u001b[0m: Downloading large artifact xgb_meta:v3, 756.43MB. 7 files... Done. 0:0:0\n",
      "\u001b[34m\u001b[1mwandb\u001b[0m: Downloading large artifact xgb_meta:v4, 765.65MB. 7 files... Done. 0:0:0\n",
      "\u001b[34m\u001b[1mwandb\u001b[0m: Downloading large artifact xgb_meta:v8, 768.16MB. 7 files... Done. 0:0:0\n",
      "\u001b[34m\u001b[1mwandb\u001b[0m: Downloading large artifact xgb_meta:v9, 759.90MB. 7 files... Done. 0:0:0\n",
      "\u001b[34m\u001b[1mwandb\u001b[0m: Downloading large artifact xgb_meta:v10, 766.76MB. 7 files... Done. 0:0:0\n",
      "100%|██████████| 500000/500000 [00:05<00:00, 87392.59it/s]\n"
     ]
    },
    {
     "name": "stdout",
     "output_type": "stream",
     "text": [
      "| \u001b[0m 6       \u001b[0m | \u001b[0m 0.7278  \u001b[0m | \u001b[0m 0.6301  \u001b[0m | \u001b[0m 0.2973  \u001b[0m | \u001b[0m 0.7689  \u001b[0m | \u001b[0m 0.09091 \u001b[0m | \u001b[0m 0.8419  \u001b[0m | \u001b[0m 0.5369  \u001b[0m | \u001b[0m 0.02255 \u001b[0m | \u001b[0m 0.5696  \u001b[0m | \u001b[0m 0.83    \u001b[0m | \u001b[0m 0.7301  \u001b[0m | \u001b[0m 0.5372  \u001b[0m |\n"
     ]
    },
    {
     "name": "stderr",
     "output_type": "stream",
     "text": [
      "\u001b[34m\u001b[1mwandb\u001b[0m: Downloading large artifact lgbm_meta:v11, 546.02MB. 7 files... Done. 0:0:0\n",
      "\u001b[34m\u001b[1mwandb\u001b[0m: Downloading large artifact lgbm_meta:v12, 557.04MB. 7 files... Done. 0:0:0\n",
      "\u001b[34m\u001b[1mwandb\u001b[0m: Downloading large artifact lgbm_meta:v16, 557.89MB. 7 files... Done. 0:0:0\n",
      "\u001b[34m\u001b[1mwandb\u001b[0m: Downloading large artifact lgbm_meta:v17, 558.15MB. 7 files... Done. 0:0:0\n",
      "\u001b[34m\u001b[1mwandb\u001b[0m: Downloading large artifact lgbm_meta:v18, 554.43MB. 7 files... Done. 0:0:0\n",
      "\u001b[34m\u001b[1mwandb\u001b[0m: Downloading large artifact lgbm_meta:v19, 552.47MB. 7 files... Done. 0:0:0\n",
      "\u001b[34m\u001b[1mwandb\u001b[0m: Downloading large artifact xgb_meta:v3, 756.43MB. 7 files... Done. 0:0:0\n",
      "\u001b[34m\u001b[1mwandb\u001b[0m: Downloading large artifact xgb_meta:v4, 765.65MB. 7 files... Done. 0:0:0\n",
      "\u001b[34m\u001b[1mwandb\u001b[0m: Downloading large artifact xgb_meta:v8, 768.16MB. 7 files... Done. 0:0:0\n",
      "\u001b[34m\u001b[1mwandb\u001b[0m: Downloading large artifact xgb_meta:v9, 759.90MB. 7 files... Done. 0:0:0\n",
      "\u001b[34m\u001b[1mwandb\u001b[0m: Downloading large artifact xgb_meta:v10, 766.76MB. 7 files... Done. 0:0:0\n",
      "100%|██████████| 500000/500000 [00:05<00:00, 89192.65it/s]\n"
     ]
    },
    {
     "name": "stdout",
     "output_type": "stream",
     "text": [
      "| \u001b[0m 7       \u001b[0m | \u001b[0m 0.7278  \u001b[0m | \u001b[0m 0.08297 \u001b[0m | \u001b[0m 0.1687  \u001b[0m | \u001b[0m 0.4057  \u001b[0m | \u001b[0m 0.2     \u001b[0m | \u001b[0m 0.5959  \u001b[0m | \u001b[0m 0.1321  \u001b[0m | \u001b[0m 0.06001 \u001b[0m | \u001b[0m 0.1133  \u001b[0m | \u001b[0m 0.5399  \u001b[0m | \u001b[0m 0.7575  \u001b[0m | \u001b[0m 0.981   \u001b[0m |\n"
     ]
    },
    {
     "name": "stderr",
     "output_type": "stream",
     "text": [
      "\u001b[34m\u001b[1mwandb\u001b[0m: Downloading large artifact lgbm_meta:v11, 546.02MB. 7 files... Done. 0:0:0\n",
      "\u001b[34m\u001b[1mwandb\u001b[0m: Downloading large artifact lgbm_meta:v12, 557.04MB. 7 files... Done. 0:0:0\n",
      "\u001b[34m\u001b[1mwandb\u001b[0m: Downloading large artifact lgbm_meta:v16, 557.89MB. 7 files... Done. 0:0:0\n",
      "\u001b[34m\u001b[1mwandb\u001b[0m: Downloading large artifact lgbm_meta:v17, 558.15MB. 7 files... Done. 0:0:0\n",
      "\u001b[34m\u001b[1mwandb\u001b[0m: Downloading large artifact lgbm_meta:v18, 554.43MB. 7 files... Done. 0:0:0\n",
      "\u001b[34m\u001b[1mwandb\u001b[0m: Downloading large artifact lgbm_meta:v19, 552.47MB. 7 files... Done. 0:0:0\n",
      "\u001b[34m\u001b[1mwandb\u001b[0m: Downloading large artifact xgb_meta:v3, 756.43MB. 7 files... Done. 0:0:0\n",
      "\u001b[34m\u001b[1mwandb\u001b[0m: Downloading large artifact xgb_meta:v4, 765.65MB. 7 files... Done. 0:0:0\n",
      "\u001b[34m\u001b[1mwandb\u001b[0m: Downloading large artifact xgb_meta:v8, 768.16MB. 7 files... Done. 0:0:0\n",
      "\u001b[34m\u001b[1mwandb\u001b[0m: Downloading large artifact xgb_meta:v9, 759.90MB. 7 files... Done. 0:0:0\n",
      "\u001b[34m\u001b[1mwandb\u001b[0m: Downloading large artifact xgb_meta:v10, 766.76MB. 7 files... Done. 0:0:0\n",
      "100%|██████████| 500000/500000 [00:05<00:00, 88671.38it/s]\n"
     ]
    },
    {
     "name": "stdout",
     "output_type": "stream",
     "text": [
      "| \u001b[0m 8       \u001b[0m | \u001b[0m 0.7277  \u001b[0m | \u001b[0m 0.3564  \u001b[0m | \u001b[0m 0.7291  \u001b[0m | \u001b[0m 0.5995  \u001b[0m | \u001b[0m 0.1488  \u001b[0m | \u001b[0m 0.9504  \u001b[0m | \u001b[0m 0.05866 \u001b[0m | \u001b[0m 0.7889  \u001b[0m | \u001b[0m 0.4701  \u001b[0m | \u001b[0m 0.2711  \u001b[0m | \u001b[0m 0.01474 \u001b[0m | \u001b[0m 0.2195  \u001b[0m |\n"
     ]
    },
    {
     "name": "stderr",
     "output_type": "stream",
     "text": [
      "\u001b[34m\u001b[1mwandb\u001b[0m: Downloading large artifact lgbm_meta:v11, 546.02MB. 7 files... Done. 0:0:0\n",
      "\u001b[34m\u001b[1mwandb\u001b[0m: Downloading large artifact lgbm_meta:v12, 557.04MB. 7 files... Done. 0:0:0\n",
      "\u001b[34m\u001b[1mwandb\u001b[0m: Downloading large artifact lgbm_meta:v16, 557.89MB. 7 files... Done. 0:0:0\n",
      "\u001b[34m\u001b[1mwandb\u001b[0m: Downloading large artifact lgbm_meta:v17, 558.15MB. 7 files... Done. 0:0:0\n",
      "\u001b[34m\u001b[1mwandb\u001b[0m: Downloading large artifact lgbm_meta:v18, 554.43MB. 7 files... Done. 0:0:0\n",
      "\u001b[34m\u001b[1mwandb\u001b[0m: Downloading large artifact lgbm_meta:v19, 552.47MB. 7 files... Done. 0:0:0\n",
      "\u001b[34m\u001b[1mwandb\u001b[0m: Downloading large artifact xgb_meta:v3, 756.43MB. 7 files... Done. 0:0:0\n",
      "\u001b[34m\u001b[1mwandb\u001b[0m: Downloading large artifact xgb_meta:v4, 765.65MB. 7 files... Done. 0:0:0\n",
      "\u001b[34m\u001b[1mwandb\u001b[0m: Downloading large artifact xgb_meta:v8, 768.16MB. 7 files... Done. 0:0:0\n",
      "\u001b[34m\u001b[1mwandb\u001b[0m: Downloading large artifact xgb_meta:v9, 759.90MB. 7 files... Done. 0:0:0\n",
      "\u001b[34m\u001b[1mwandb\u001b[0m: Downloading large artifact xgb_meta:v10, 766.76MB. 7 files... Done. 0:0:0\n",
      "100%|██████████| 500000/500000 [00:05<00:00, 87511.41it/s]\n"
     ]
    },
    {
     "name": "stdout",
     "output_type": "stream",
     "text": [
      "| \u001b[0m 9       \u001b[0m | \u001b[0m 0.7277  \u001b[0m | \u001b[0m 0.5073  \u001b[0m | \u001b[0m 0.7218  \u001b[0m | \u001b[0m 0.4547  \u001b[0m | \u001b[0m 0.4431  \u001b[0m | \u001b[0m 0.7001  \u001b[0m | \u001b[0m 0.691   \u001b[0m | \u001b[0m 0.1753  \u001b[0m | \u001b[0m 0.4798  \u001b[0m | \u001b[0m 0.4733  \u001b[0m | \u001b[0m 0.6978  \u001b[0m | \u001b[0m 0.1863  \u001b[0m |\n"
     ]
    },
    {
     "name": "stderr",
     "output_type": "stream",
     "text": [
      "\u001b[34m\u001b[1mwandb\u001b[0m: Downloading large artifact lgbm_meta:v11, 546.02MB. 7 files... Done. 0:0:0\n",
      "\u001b[34m\u001b[1mwandb\u001b[0m: Downloading large artifact lgbm_meta:v12, 557.04MB. 7 files... Done. 0:0:0\n",
      "\u001b[34m\u001b[1mwandb\u001b[0m: Downloading large artifact lgbm_meta:v16, 557.89MB. 7 files... Done. 0:0:0\n",
      "\u001b[34m\u001b[1mwandb\u001b[0m: Downloading large artifact lgbm_meta:v17, 558.15MB. 7 files... Done. 0:0:0\n",
      "\u001b[34m\u001b[1mwandb\u001b[0m: Downloading large artifact lgbm_meta:v18, 554.43MB. 7 files... Done. 0:0:0\n",
      "\u001b[34m\u001b[1mwandb\u001b[0m: Downloading large artifact lgbm_meta:v19, 552.47MB. 7 files... Done. 0:0:0\n",
      "\u001b[34m\u001b[1mwandb\u001b[0m: Downloading large artifact xgb_meta:v3, 756.43MB. 7 files... Done. 0:0:0\n",
      "\u001b[34m\u001b[1mwandb\u001b[0m: Downloading large artifact xgb_meta:v4, 765.65MB. 7 files... Done. 0:0:0\n",
      "\u001b[34m\u001b[1mwandb\u001b[0m: Downloading large artifact xgb_meta:v8, 768.16MB. 7 files... Done. 0:0:0\n",
      "\u001b[34m\u001b[1mwandb\u001b[0m: Downloading large artifact xgb_meta:v9, 759.90MB. 7 files... Done. 0:0:0\n",
      "\u001b[34m\u001b[1mwandb\u001b[0m: Downloading large artifact xgb_meta:v10, 766.76MB. 7 files... Done. 0:0:0\n",
      "100%|██████████| 500000/500000 [00:05<00:00, 87993.53it/s]\n"
     ]
    },
    {
     "name": "stdout",
     "output_type": "stream",
     "text": [
      "| \u001b[0m 10      \u001b[0m | \u001b[0m 0.7277  \u001b[0m | \u001b[0m 0.7346  \u001b[0m | \u001b[0m 0.2382  \u001b[0m | \u001b[0m 0.7075  \u001b[0m | \u001b[0m 0.9565  \u001b[0m | \u001b[0m 0.3062  \u001b[0m | \u001b[0m 0.1429  \u001b[0m | \u001b[0m 0.4332  \u001b[0m | \u001b[0m 0.7088  \u001b[0m | \u001b[0m 0.5075  \u001b[0m | \u001b[0m 0.1317  \u001b[0m | \u001b[0m 0.859   \u001b[0m |\n"
     ]
    },
    {
     "name": "stderr",
     "output_type": "stream",
     "text": [
      "\u001b[34m\u001b[1mwandb\u001b[0m: Downloading large artifact lgbm_meta:v11, 546.02MB. 7 files... Done. 0:0:0\n",
      "\u001b[34m\u001b[1mwandb\u001b[0m: Downloading large artifact lgbm_meta:v12, 557.04MB. 7 files... Done. 0:0:0\n",
      "\u001b[34m\u001b[1mwandb\u001b[0m: Downloading large artifact lgbm_meta:v16, 557.89MB. 7 files... Done. 0:0:0\n",
      "\u001b[34m\u001b[1mwandb\u001b[0m: Downloading large artifact lgbm_meta:v17, 558.15MB. 7 files... Done. 0:0:0\n",
      "\u001b[34m\u001b[1mwandb\u001b[0m: Downloading large artifact lgbm_meta:v18, 554.43MB. 7 files... Done. 0:0:0\n",
      "\u001b[34m\u001b[1mwandb\u001b[0m: Downloading large artifact lgbm_meta:v19, 552.47MB. 7 files... Done. 0:0:0\n",
      "\u001b[34m\u001b[1mwandb\u001b[0m: Downloading large artifact xgb_meta:v3, 756.43MB. 7 files... Done. 0:0:0\n",
      "\u001b[34m\u001b[1mwandb\u001b[0m: Downloading large artifact xgb_meta:v4, 765.65MB. 7 files... Done. 0:0:0\n",
      "\u001b[34m\u001b[1mwandb\u001b[0m: Downloading large artifact xgb_meta:v8, 768.16MB. 7 files... Done. 0:0:0\n",
      "\u001b[34m\u001b[1mwandb\u001b[0m: Downloading large artifact xgb_meta:v9, 759.90MB. 7 files... Done. 0:0:0\n",
      "\u001b[34m\u001b[1mwandb\u001b[0m: Downloading large artifact xgb_meta:v10, 766.76MB. 7 files... Done. 0:0:0\n",
      "100%|██████████| 500000/500000 [00:05<00:00, 89297.16it/s]\n"
     ]
    },
    {
     "name": "stdout",
     "output_type": "stream",
     "text": [
      "| \u001b[0m 11      \u001b[0m | \u001b[0m 0.7277  \u001b[0m | \u001b[0m 0.8638  \u001b[0m | \u001b[0m 0.9358  \u001b[0m | \u001b[0m 0.8996  \u001b[0m | \u001b[0m 0.4492  \u001b[0m | \u001b[0m 0.6963  \u001b[0m | \u001b[0m 0.1252  \u001b[0m | \u001b[0m 0.2272  \u001b[0m | \u001b[0m 0.7518  \u001b[0m | \u001b[0m 0.9143  \u001b[0m | \u001b[0m 0.3412  \u001b[0m | \u001b[0m 0.533   \u001b[0m |\n"
     ]
    },
    {
     "name": "stderr",
     "output_type": "stream",
     "text": [
      "\u001b[34m\u001b[1mwandb\u001b[0m: Downloading large artifact lgbm_meta:v11, 546.02MB. 7 files... Done. 0:0:0\n",
      "\u001b[34m\u001b[1mwandb\u001b[0m: Downloading large artifact lgbm_meta:v12, 557.04MB. 7 files... Done. 0:0:0\n",
      "\u001b[34m\u001b[1mwandb\u001b[0m: Downloading large artifact lgbm_meta:v16, 557.89MB. 7 files... Done. 0:0:0\n",
      "\u001b[34m\u001b[1mwandb\u001b[0m: Downloading large artifact lgbm_meta:v17, 558.15MB. 7 files... Done. 0:0:0\n",
      "\u001b[34m\u001b[1mwandb\u001b[0m: Downloading large artifact lgbm_meta:v18, 554.43MB. 7 files... Done. 0:0:0\n",
      "\u001b[34m\u001b[1mwandb\u001b[0m: Downloading large artifact lgbm_meta:v19, 552.47MB. 7 files... Done. 0:0:0\n",
      "\u001b[34m\u001b[1mwandb\u001b[0m: Downloading large artifact xgb_meta:v3, 756.43MB. 7 files... Done. 0:0:0\n",
      "\u001b[34m\u001b[1mwandb\u001b[0m: Downloading large artifact xgb_meta:v4, 765.65MB. 7 files... Done. 0:0:0\n",
      "\u001b[34m\u001b[1mwandb\u001b[0m: Downloading large artifact xgb_meta:v8, 768.16MB. 7 files... Done. 0:0:0\n",
      "\u001b[34m\u001b[1mwandb\u001b[0m: Downloading large artifact xgb_meta:v9, 759.90MB. 7 files... Done. 0:0:0\n",
      "\u001b[34m\u001b[1mwandb\u001b[0m: Downloading large artifact xgb_meta:v10, 766.76MB. 7 files... Done. 0:0:0\n",
      "100%|██████████| 500000/500000 [00:05<00:00, 88422.80it/s]\n"
     ]
    },
    {
     "name": "stdout",
     "output_type": "stream",
     "text": [
      "| \u001b[0m 12      \u001b[0m | \u001b[0m 0.7278  \u001b[0m | \u001b[0m 0.06952 \u001b[0m | \u001b[0m 0.9743  \u001b[0m | \u001b[0m 0.7587  \u001b[0m | \u001b[0m 0.4848  \u001b[0m | \u001b[0m 0.8169  \u001b[0m | \u001b[0m 0.8015  \u001b[0m | \u001b[0m 0.7553  \u001b[0m | \u001b[0m 0.05456 \u001b[0m | \u001b[0m 0.2806  \u001b[0m | \u001b[0m 0.139   \u001b[0m | \u001b[0m 0.9326  \u001b[0m |\n"
     ]
    },
    {
     "name": "stderr",
     "output_type": "stream",
     "text": [
      "\u001b[34m\u001b[1mwandb\u001b[0m: Downloading large artifact lgbm_meta:v11, 546.02MB. 7 files... Done. 0:0:0\n",
      "\u001b[34m\u001b[1mwandb\u001b[0m: Downloading large artifact lgbm_meta:v12, 557.04MB. 7 files... Done. 0:0:0\n",
      "\u001b[34m\u001b[1mwandb\u001b[0m: Downloading large artifact lgbm_meta:v16, 557.89MB. 7 files... Done. 0:0:0\n",
      "\u001b[34m\u001b[1mwandb\u001b[0m: Downloading large artifact lgbm_meta:v17, 558.15MB. 7 files... Done. 0:0:0\n",
      "\u001b[34m\u001b[1mwandb\u001b[0m: Downloading large artifact lgbm_meta:v18, 554.43MB. 7 files... Done. 0:0:0\n",
      "\u001b[34m\u001b[1mwandb\u001b[0m: Downloading large artifact lgbm_meta:v19, 552.47MB. 7 files... Done. 0:0:0\n",
      "\u001b[34m\u001b[1mwandb\u001b[0m: Downloading large artifact xgb_meta:v3, 756.43MB. 7 files... Done. 0:0:0\n",
      "\u001b[34m\u001b[1mwandb\u001b[0m: Downloading large artifact xgb_meta:v4, 765.65MB. 7 files... Done. 0:0:0\n",
      "\u001b[34m\u001b[1mwandb\u001b[0m: Downloading large artifact xgb_meta:v8, 768.16MB. 7 files... Done. 0:0:0\n",
      "\u001b[34m\u001b[1mwandb\u001b[0m: Downloading large artifact xgb_meta:v9, 759.90MB. 7 files... Done. 0:0:0\n",
      "\u001b[34m\u001b[1mwandb\u001b[0m: Downloading large artifact xgb_meta:v10, 766.76MB. 7 files... Done. 0:0:0\n",
      "100%|██████████| 500000/500000 [00:05<00:00, 87740.59it/s]\n"
     ]
    },
    {
     "name": "stdout",
     "output_type": "stream",
     "text": [
      "| \u001b[0m 13      \u001b[0m | \u001b[0m 0.7277  \u001b[0m | \u001b[0m 0.872   \u001b[0m | \u001b[0m 0.1323  \u001b[0m | \u001b[0m 0.5826  \u001b[0m | \u001b[0m 0.2313  \u001b[0m | \u001b[0m 0.1046  \u001b[0m | \u001b[0m 0.7187  \u001b[0m | \u001b[0m 0.4318  \u001b[0m | \u001b[0m 0.001492\u001b[0m | \u001b[0m 0.1968  \u001b[0m | \u001b[0m 0.9858  \u001b[0m | \u001b[0m 0.5446  \u001b[0m |\n"
     ]
    },
    {
     "name": "stderr",
     "output_type": "stream",
     "text": [
      "\u001b[34m\u001b[1mwandb\u001b[0m: Downloading large artifact lgbm_meta:v11, 546.02MB. 7 files... Done. 0:0:0\n",
      "\u001b[34m\u001b[1mwandb\u001b[0m: Downloading large artifact lgbm_meta:v12, 557.04MB. 7 files... Done. 0:0:0\n",
      "\u001b[34m\u001b[1mwandb\u001b[0m: Downloading large artifact lgbm_meta:v16, 557.89MB. 7 files... Done. 0:0:0\n",
      "\u001b[34m\u001b[1mwandb\u001b[0m: Downloading large artifact lgbm_meta:v17, 558.15MB. 7 files... Done. 0:0:0\n",
      "\u001b[34m\u001b[1mwandb\u001b[0m: Downloading large artifact lgbm_meta:v18, 554.43MB. 7 files... Done. 0:0:0\n",
      "\u001b[34m\u001b[1mwandb\u001b[0m: Downloading large artifact lgbm_meta:v19, 552.47MB. 7 files... Done. 0:0:0\n",
      "\u001b[34m\u001b[1mwandb\u001b[0m: Downloading large artifact xgb_meta:v3, 756.43MB. 7 files... Done. 0:0:0\n",
      "\u001b[34m\u001b[1mwandb\u001b[0m: Downloading large artifact xgb_meta:v4, 765.65MB. 7 files... Done. 0:0:0\n",
      "\u001b[34m\u001b[1mwandb\u001b[0m: Downloading large artifact xgb_meta:v8, 768.16MB. 7 files... Done. 0:0:0\n",
      "\u001b[34m\u001b[1mwandb\u001b[0m: Downloading large artifact xgb_meta:v9, 759.90MB. 7 files... Done. 0:0:0\n",
      "\u001b[34m\u001b[1mwandb\u001b[0m: Downloading large artifact xgb_meta:v10, 766.76MB. 7 files... Done. 0:0:0\n",
      "100%|██████████| 500000/500000 [00:05<00:00, 87690.94it/s]\n"
     ]
    },
    {
     "name": "stdout",
     "output_type": "stream",
     "text": [
      "| \u001b[0m 14      \u001b[0m | \u001b[0m 0.7278  \u001b[0m | \u001b[0m 0.1309  \u001b[0m | \u001b[0m 0.3532  \u001b[0m | \u001b[0m 0.5179  \u001b[0m | \u001b[0m 0.7291  \u001b[0m | \u001b[0m 0.2526  \u001b[0m | \u001b[0m 0.5887  \u001b[0m | \u001b[0m 0.6336  \u001b[0m | \u001b[0m 0.6821  \u001b[0m | \u001b[0m 0.5578  \u001b[0m | \u001b[0m 0.1657  \u001b[0m | \u001b[0m 0.7977  \u001b[0m |\n"
     ]
    },
    {
     "name": "stderr",
     "output_type": "stream",
     "text": [
      "\u001b[34m\u001b[1mwandb\u001b[0m: Downloading large artifact lgbm_meta:v11, 546.02MB. 7 files... Done. 0:0:0\n",
      "\u001b[34m\u001b[1mwandb\u001b[0m: Downloading large artifact lgbm_meta:v12, 557.04MB. 7 files... Done. 0:0:0\n",
      "\u001b[34m\u001b[1mwandb\u001b[0m: Downloading large artifact lgbm_meta:v16, 557.89MB. 7 files... Done. 0:0:0\n",
      "\u001b[34m\u001b[1mwandb\u001b[0m: Downloading large artifact lgbm_meta:v17, 558.15MB. 7 files... Done. 0:0:0\n",
      "\u001b[34m\u001b[1mwandb\u001b[0m: Downloading large artifact lgbm_meta:v18, 554.43MB. 7 files... Done. 0:0:0\n",
      "\u001b[34m\u001b[1mwandb\u001b[0m: Downloading large artifact lgbm_meta:v19, 552.47MB. 7 files... Done. 0:0:0\n",
      "\u001b[34m\u001b[1mwandb\u001b[0m: Downloading large artifact xgb_meta:v3, 756.43MB. 7 files... Done. 0:0:0\n",
      "\u001b[34m\u001b[1mwandb\u001b[0m: Downloading large artifact xgb_meta:v4, 765.65MB. 7 files... Done. 0:0:0\n",
      "\u001b[34m\u001b[1mwandb\u001b[0m: Downloading large artifact xgb_meta:v8, 768.16MB. 7 files... Done. 0:0:0\n",
      "\u001b[34m\u001b[1mwandb\u001b[0m: Downloading large artifact xgb_meta:v9, 759.90MB. 7 files... Done. 0:0:0\n",
      "\u001b[34m\u001b[1mwandb\u001b[0m: Downloading large artifact xgb_meta:v10, 766.76MB. 7 files... Done. 0:0:0\n",
      "100%|██████████| 500000/500000 [00:05<00:00, 87227.40it/s]\n"
     ]
    },
    {
     "name": "stdout",
     "output_type": "stream",
     "text": [
      "| \u001b[0m 15      \u001b[0m | \u001b[0m 0.7277  \u001b[0m | \u001b[0m 0.4108  \u001b[0m | \u001b[0m 0.204   \u001b[0m | \u001b[0m 0.4432  \u001b[0m | \u001b[0m 0.9955  \u001b[0m | \u001b[0m 0.6302  \u001b[0m | \u001b[0m 0.2157  \u001b[0m | \u001b[0m 0.951   \u001b[0m | \u001b[0m 0.5858  \u001b[0m | \u001b[0m 0.4167  \u001b[0m | \u001b[0m 0.1797  \u001b[0m | \u001b[0m 0.7307  \u001b[0m |\n"
     ]
    },
    {
     "name": "stderr",
     "output_type": "stream",
     "text": [
      "\u001b[34m\u001b[1mwandb\u001b[0m: Downloading large artifact lgbm_meta:v11, 546.02MB. 7 files... Done. 0:0:0\n",
      "\u001b[34m\u001b[1mwandb\u001b[0m: Downloading large artifact lgbm_meta:v12, 557.04MB. 7 files... Done. 0:0:0\n",
      "\u001b[34m\u001b[1mwandb\u001b[0m: Downloading large artifact lgbm_meta:v16, 557.89MB. 7 files... Done. 0:0:0\n",
      "\u001b[34m\u001b[1mwandb\u001b[0m: Downloading large artifact lgbm_meta:v17, 558.15MB. 7 files... Done. 0:0:0\n",
      "\u001b[34m\u001b[1mwandb\u001b[0m: Downloading large artifact lgbm_meta:v18, 554.43MB. 7 files... Done. 0:0:0\n",
      "\u001b[34m\u001b[1mwandb\u001b[0m: Downloading large artifact lgbm_meta:v19, 552.47MB. 7 files... Done. 0:0:0\n",
      "\u001b[34m\u001b[1mwandb\u001b[0m: Downloading large artifact xgb_meta:v3, 756.43MB. 7 files... Done. 0:0:0\n",
      "\u001b[34m\u001b[1mwandb\u001b[0m: Downloading large artifact xgb_meta:v4, 765.65MB. 7 files... Done. 0:0:0\n",
      "\u001b[34m\u001b[1mwandb\u001b[0m: Downloading large artifact xgb_meta:v8, 768.16MB. 7 files... Done. 0:0:0\n",
      "\u001b[34m\u001b[1mwandb\u001b[0m: Downloading large artifact xgb_meta:v9, 759.90MB. 7 files... Done. 0:0:0\n",
      "\u001b[34m\u001b[1mwandb\u001b[0m: Downloading large artifact xgb_meta:v10, 766.76MB. 7 files... Done. 0:0:0\n",
      "100%|██████████| 500000/500000 [00:05<00:00, 88828.98it/s]\n"
     ]
    },
    {
     "name": "stdout",
     "output_type": "stream",
     "text": [
      "| \u001b[0m 16      \u001b[0m | \u001b[0m 0.7277  \u001b[0m | \u001b[0m 0.8351  \u001b[0m | \u001b[0m 0.2822  \u001b[0m | \u001b[0m 0.439   \u001b[0m | \u001b[0m 0.2252  \u001b[0m | \u001b[0m 0.5698  \u001b[0m | \u001b[0m 0.9577  \u001b[0m | \u001b[0m 0.6424  \u001b[0m | \u001b[0m 0.3439  \u001b[0m | \u001b[0m 0.3117  \u001b[0m | \u001b[0m 0.9899  \u001b[0m | \u001b[0m 0.3249  \u001b[0m |\n"
     ]
    },
    {
     "name": "stderr",
     "output_type": "stream",
     "text": [
      "\u001b[34m\u001b[1mwandb\u001b[0m: Downloading large artifact lgbm_meta:v11, 546.02MB. 7 files... Done. 0:0:0\n",
      "\u001b[34m\u001b[1mwandb\u001b[0m: Downloading large artifact lgbm_meta:v12, 557.04MB. 7 files... Done. 0:0:0\n",
      "\u001b[34m\u001b[1mwandb\u001b[0m: Downloading large artifact lgbm_meta:v16, 557.89MB. 7 files... Done. 0:0:0\n",
      "\u001b[34m\u001b[1mwandb\u001b[0m: Downloading large artifact lgbm_meta:v17, 558.15MB. 7 files... Done. 0:0:0\n",
      "\u001b[34m\u001b[1mwandb\u001b[0m: Downloading large artifact lgbm_meta:v18, 554.43MB. 7 files... Done. 0:0:0\n",
      "\u001b[34m\u001b[1mwandb\u001b[0m: Downloading large artifact lgbm_meta:v19, 552.47MB. 7 files... Done. 0:0:0\n",
      "\u001b[34m\u001b[1mwandb\u001b[0m: Downloading large artifact xgb_meta:v3, 756.43MB. 7 files... Done. 0:0:0\n",
      "\u001b[34m\u001b[1mwandb\u001b[0m: Downloading large artifact xgb_meta:v4, 765.65MB. 7 files... Done. 0:0:0\n",
      "\u001b[34m\u001b[1mwandb\u001b[0m: Downloading large artifact xgb_meta:v8, 768.16MB. 7 files... Done. 0:0:0\n",
      "\u001b[34m\u001b[1mwandb\u001b[0m: Downloading large artifact xgb_meta:v9, 759.90MB. 7 files... Done. 0:0:0\n",
      "\u001b[34m\u001b[1mwandb\u001b[0m: Downloading large artifact xgb_meta:v10, 766.76MB. 7 files... Done. 0:0:0\n",
      "100%|██████████| 500000/500000 [00:05<00:00, 88690.98it/s]\n"
     ]
    },
    {
     "name": "stdout",
     "output_type": "stream",
     "text": [
      "| \u001b[0m 17      \u001b[0m | \u001b[0m 0.7277  \u001b[0m | \u001b[0m 0.000135\u001b[0m | \u001b[0m 0.3585  \u001b[0m | \u001b[0m 0.8     \u001b[0m | \u001b[0m 0.6594  \u001b[0m | \u001b[0m 0.2095  \u001b[0m | \u001b[0m 0.3596  \u001b[0m | \u001b[0m 0.593   \u001b[0m | \u001b[0m 0.4663  \u001b[0m | \u001b[0m 0.9543  \u001b[0m | \u001b[0m 0.5406  \u001b[0m | \u001b[0m 0.02592 \u001b[0m |\n"
     ]
    },
    {
     "name": "stderr",
     "output_type": "stream",
     "text": [
      "\u001b[34m\u001b[1mwandb\u001b[0m: Downloading large artifact lgbm_meta:v11, 546.02MB. 7 files... Done. 0:0:0\n",
      "\u001b[34m\u001b[1mwandb\u001b[0m: Downloading large artifact lgbm_meta:v12, 557.04MB. 7 files... Done. 0:0:0\n",
      "\u001b[34m\u001b[1mwandb\u001b[0m: Downloading large artifact lgbm_meta:v16, 557.89MB. 7 files... Done. 0:0:0\n",
      "\u001b[34m\u001b[1mwandb\u001b[0m: Downloading large artifact lgbm_meta:v17, 558.15MB. 7 files... Done. 0:0:0\n",
      "\u001b[34m\u001b[1mwandb\u001b[0m: Downloading large artifact lgbm_meta:v18, 554.43MB. 7 files... Done. 0:0:0\n",
      "\u001b[34m\u001b[1mwandb\u001b[0m: Downloading large artifact lgbm_meta:v19, 552.47MB. 7 files... Done. 0:0:0\n",
      "\u001b[34m\u001b[1mwandb\u001b[0m: Downloading large artifact xgb_meta:v3, 756.43MB. 7 files... Done. 0:0:0\n",
      "\u001b[34m\u001b[1mwandb\u001b[0m: Downloading large artifact xgb_meta:v4, 765.65MB. 7 files... Done. 0:0:0\n",
      "\u001b[34m\u001b[1mwandb\u001b[0m: Downloading large artifact xgb_meta:v8, 768.16MB. 7 files... Done. 0:0:0\n",
      "\u001b[34m\u001b[1mwandb\u001b[0m: Downloading large artifact xgb_meta:v9, 759.90MB. 7 files... Done. 0:0:0\n",
      "\u001b[34m\u001b[1mwandb\u001b[0m: Downloading large artifact xgb_meta:v10, 766.76MB. 7 files... Done. 0:0:0\n",
      "100%|██████████| 500000/500000 [00:05<00:00, 87774.95it/s]\n"
     ]
    },
    {
     "name": "stdout",
     "output_type": "stream",
     "text": [
      "| \u001b[0m 18      \u001b[0m | \u001b[0m 0.7277  \u001b[0m | \u001b[0m 0.8756  \u001b[0m | \u001b[0m 0.4914  \u001b[0m | \u001b[0m 0.4343  \u001b[0m | \u001b[0m 0.283   \u001b[0m | \u001b[0m 0.918   \u001b[0m | \u001b[0m 0.7233  \u001b[0m | \u001b[0m 0.6483  \u001b[0m | \u001b[0m 0.9006  \u001b[0m | \u001b[0m 0.2514  \u001b[0m | \u001b[0m 0.6694  \u001b[0m | \u001b[0m 0.6483  \u001b[0m |\n"
     ]
    },
    {
     "name": "stderr",
     "output_type": "stream",
     "text": [
      "\u001b[34m\u001b[1mwandb\u001b[0m: Downloading large artifact lgbm_meta:v11, 546.02MB. 7 files... Done. 0:0:0\n",
      "\u001b[34m\u001b[1mwandb\u001b[0m: Downloading large artifact lgbm_meta:v12, 557.04MB. 7 files... Done. 0:0:0\n",
      "\u001b[34m\u001b[1mwandb\u001b[0m: Downloading large artifact lgbm_meta:v16, 557.89MB. 7 files... Done. 0:0:0\n",
      "\u001b[34m\u001b[1mwandb\u001b[0m: Downloading large artifact lgbm_meta:v17, 558.15MB. 7 files... Done. 0:0:0\n",
      "\u001b[34m\u001b[1mwandb\u001b[0m: Downloading large artifact lgbm_meta:v18, 554.43MB. 7 files... Done. 0:0:0\n",
      "\u001b[34m\u001b[1mwandb\u001b[0m: Downloading large artifact lgbm_meta:v19, 552.47MB. 7 files... Done. 0:0:0\n",
      "\u001b[34m\u001b[1mwandb\u001b[0m: Downloading large artifact xgb_meta:v3, 756.43MB. 7 files... Done. 0:0:0\n",
      "\u001b[34m\u001b[1mwandb\u001b[0m: Downloading large artifact xgb_meta:v4, 765.65MB. 7 files... Done. 0:0:0\n",
      "\u001b[34m\u001b[1mwandb\u001b[0m: Downloading large artifact xgb_meta:v8, 768.16MB. 7 files... Done. 0:0:0\n",
      "\u001b[34m\u001b[1mwandb\u001b[0m: Downloading large artifact xgb_meta:v9, 759.90MB. 7 files... Done. 0:0:0\n",
      "\u001b[34m\u001b[1mwandb\u001b[0m: Downloading large artifact xgb_meta:v10, 766.76MB. 7 files... Done. 0:0:0\n",
      "100%|██████████| 500000/500000 [00:05<00:00, 88326.74it/s]\n"
     ]
    },
    {
     "name": "stdout",
     "output_type": "stream",
     "text": [
      "| \u001b[0m 19      \u001b[0m | \u001b[0m 0.7278  \u001b[0m | \u001b[0m 0.377   \u001b[0m | \u001b[0m 0.2817  \u001b[0m | \u001b[0m 0.1818  \u001b[0m | \u001b[0m 0.05854 \u001b[0m | \u001b[0m 0.5484  \u001b[0m | \u001b[0m 0.8447  \u001b[0m | \u001b[0m 0.4622  \u001b[0m | \u001b[0m 0.5517  \u001b[0m | \u001b[0m 0.6267  \u001b[0m | \u001b[0m 0.1062  \u001b[0m | \u001b[0m 0.5919  \u001b[0m |\n"
     ]
    },
    {
     "name": "stderr",
     "output_type": "stream",
     "text": [
      "\u001b[34m\u001b[1mwandb\u001b[0m: Downloading large artifact lgbm_meta:v11, 546.02MB. 7 files... Done. 0:0:0\n",
      "\u001b[34m\u001b[1mwandb\u001b[0m: Downloading large artifact lgbm_meta:v12, 557.04MB. 7 files... Done. 0:0:0\n",
      "\u001b[34m\u001b[1mwandb\u001b[0m: Downloading large artifact lgbm_meta:v16, 557.89MB. 7 files... Done. 0:0:0\n",
      "\u001b[34m\u001b[1mwandb\u001b[0m: Downloading large artifact lgbm_meta:v17, 558.15MB. 7 files... Done. 0:0:0\n",
      "\u001b[34m\u001b[1mwandb\u001b[0m: Downloading large artifact lgbm_meta:v18, 554.43MB. 7 files... Done. 0:0:0\n",
      "\u001b[34m\u001b[1mwandb\u001b[0m: Downloading large artifact lgbm_meta:v19, 552.47MB. 7 files... Done. 0:0:0\n",
      "\u001b[34m\u001b[1mwandb\u001b[0m: Downloading large artifact xgb_meta:v3, 756.43MB. 7 files... Done. 0:0:0\n",
      "\u001b[34m\u001b[1mwandb\u001b[0m: Downloading large artifact xgb_meta:v4, 765.65MB. 7 files... Done. 0:0:0\n",
      "\u001b[34m\u001b[1mwandb\u001b[0m: Downloading large artifact xgb_meta:v8, 768.16MB. 7 files... Done. 0:0:0\n",
      "\u001b[34m\u001b[1mwandb\u001b[0m: Downloading large artifact xgb_meta:v9, 759.90MB. 7 files... Done. 0:0:0\n",
      "\u001b[34m\u001b[1mwandb\u001b[0m: Downloading large artifact xgb_meta:v10, 766.76MB. 7 files... Done. 0:0:0\n",
      "100%|██████████| 500000/500000 [00:05<00:00, 87122.79it/s]\n"
     ]
    },
    {
     "name": "stdout",
     "output_type": "stream",
     "text": [
      "| \u001b[0m 20      \u001b[0m | \u001b[0m 0.7277  \u001b[0m | \u001b[0m 0.5929  \u001b[0m | \u001b[0m 0.6894  \u001b[0m | \u001b[0m 0.5558  \u001b[0m | \u001b[0m 0.8447  \u001b[0m | \u001b[0m 0.9811  \u001b[0m | \u001b[0m 0.9514  \u001b[0m | \u001b[0m 0.262   \u001b[0m | \u001b[0m 0.1297  \u001b[0m | \u001b[0m 0.02057 \u001b[0m | \u001b[0m 0.2604  \u001b[0m | \u001b[0m 0.8199  \u001b[0m |\n"
     ]
    },
    {
     "name": "stderr",
     "output_type": "stream",
     "text": [
      "\u001b[34m\u001b[1mwandb\u001b[0m: Downloading large artifact lgbm_meta:v11, 546.02MB. 7 files... Done. 0:0:0\n",
      "\u001b[34m\u001b[1mwandb\u001b[0m: Downloading large artifact lgbm_meta:v12, 557.04MB. 7 files... Done. 0:0:0\n",
      "\u001b[34m\u001b[1mwandb\u001b[0m: Downloading large artifact lgbm_meta:v16, 557.89MB. 7 files... Done. 0:0:0\n",
      "\u001b[34m\u001b[1mwandb\u001b[0m: Downloading large artifact lgbm_meta:v17, 558.15MB. 7 files... Done. 0:0:0\n",
      "\u001b[34m\u001b[1mwandb\u001b[0m: Downloading large artifact lgbm_meta:v18, 554.43MB. 7 files... Done. 0:0:0\n",
      "\u001b[34m\u001b[1mwandb\u001b[0m: Downloading large artifact lgbm_meta:v19, 552.47MB. 7 files... Done. 0:0:0\n",
      "\u001b[34m\u001b[1mwandb\u001b[0m: Downloading large artifact xgb_meta:v3, 756.43MB. 7 files... Done. 0:0:0\n",
      "\u001b[34m\u001b[1mwandb\u001b[0m: Downloading large artifact xgb_meta:v4, 765.65MB. 7 files... Done. 0:0:0\n",
      "\u001b[34m\u001b[1mwandb\u001b[0m: Downloading large artifact xgb_meta:v8, 768.16MB. 7 files... Done. 0:0:0\n",
      "\u001b[34m\u001b[1mwandb\u001b[0m: Downloading large artifact xgb_meta:v9, 759.90MB. 7 files... Done. 0:0:0\n",
      "\u001b[34m\u001b[1mwandb\u001b[0m: Downloading large artifact xgb_meta:v10, 766.76MB. 7 files... Done. 0:0:0\n",
      "100%|██████████| 500000/500000 [00:05<00:00, 87198.00it/s]\n"
     ]
    },
    {
     "name": "stdout",
     "output_type": "stream",
     "text": [
      "| \u001b[0m 21      \u001b[0m | \u001b[0m 0.7277  \u001b[0m | \u001b[0m 0.8007  \u001b[0m | \u001b[0m 0.291   \u001b[0m | \u001b[0m 0.612   \u001b[0m | \u001b[0m 0.1267  \u001b[0m | \u001b[0m 0.4992  \u001b[0m | \u001b[0m 0.165   \u001b[0m | \u001b[0m 0.4165  \u001b[0m | \u001b[0m 0.9483  \u001b[0m | \u001b[0m 0.1929  \u001b[0m | \u001b[0m 0.1946  \u001b[0m | \u001b[0m 0.9195  \u001b[0m |\n"
     ]
    },
    {
     "name": "stderr",
     "output_type": "stream",
     "text": [
      "\u001b[34m\u001b[1mwandb\u001b[0m: Downloading large artifact lgbm_meta:v11, 546.02MB. 7 files... Done. 0:0:0\n",
      "\u001b[34m\u001b[1mwandb\u001b[0m: Downloading large artifact lgbm_meta:v12, 557.04MB. 7 files... Done. 0:0:0\n",
      "\u001b[34m\u001b[1mwandb\u001b[0m: Downloading large artifact lgbm_meta:v16, 557.89MB. 7 files... Done. 0:0:0\n",
      "\u001b[34m\u001b[1mwandb\u001b[0m: Downloading large artifact lgbm_meta:v17, 558.15MB. 7 files... Done. 0:0:0\n",
      "\u001b[34m\u001b[1mwandb\u001b[0m: Downloading large artifact lgbm_meta:v18, 554.43MB. 7 files... Done. 0:0:0\n",
      "\u001b[34m\u001b[1mwandb\u001b[0m: Downloading large artifact lgbm_meta:v19, 552.47MB. 7 files... Done. 0:0:0\n",
      "\u001b[34m\u001b[1mwandb\u001b[0m: Downloading large artifact xgb_meta:v3, 756.43MB. 7 files... Done. 0:0:0\n",
      "\u001b[34m\u001b[1mwandb\u001b[0m: Downloading large artifact xgb_meta:v4, 765.65MB. 7 files... Done. 0:0:0\n",
      "\u001b[34m\u001b[1mwandb\u001b[0m: Downloading large artifact xgb_meta:v8, 768.16MB. 7 files... Done. 0:0:0\n",
      "\u001b[34m\u001b[1mwandb\u001b[0m: Downloading large artifact xgb_meta:v9, 759.90MB. 7 files... Done. 0:0:0\n",
      "\u001b[34m\u001b[1mwandb\u001b[0m: Downloading large artifact xgb_meta:v10, 766.76MB. 7 files... Done. 0:0:0\n",
      "100%|██████████| 500000/500000 [00:05<00:00, 87617.03it/s]\n"
     ]
    },
    {
     "name": "stdout",
     "output_type": "stream",
     "text": [
      "| \u001b[0m 22      \u001b[0m | \u001b[0m 0.7278  \u001b[0m | \u001b[0m 0.3999  \u001b[0m | \u001b[0m 0.1677  \u001b[0m | \u001b[0m 0.05304 \u001b[0m | \u001b[0m 0.6043  \u001b[0m | \u001b[0m 0.8676  \u001b[0m | \u001b[0m 0.08904 \u001b[0m | \u001b[0m 0.4649  \u001b[0m | \u001b[0m 0.6346  \u001b[0m | \u001b[0m 0.4806  \u001b[0m | \u001b[0m 0.6995  \u001b[0m | \u001b[0m 0.9786  \u001b[0m |\n"
     ]
    },
    {
     "name": "stderr",
     "output_type": "stream",
     "text": [
      "\u001b[34m\u001b[1mwandb\u001b[0m: Downloading large artifact lgbm_meta:v11, 546.02MB. 7 files... Done. 0:0:0\n",
      "\u001b[34m\u001b[1mwandb\u001b[0m: Downloading large artifact lgbm_meta:v12, 557.04MB. 7 files... Done. 0:0:0\n",
      "\u001b[34m\u001b[1mwandb\u001b[0m: Downloading large artifact lgbm_meta:v16, 557.89MB. 7 files... Done. 0:0:0\n",
      "\u001b[34m\u001b[1mwandb\u001b[0m: Downloading large artifact lgbm_meta:v17, 558.15MB. 7 files... Done. 0:0:0\n",
      "\u001b[34m\u001b[1mwandb\u001b[0m: Downloading large artifact lgbm_meta:v18, 554.43MB. 7 files... Done. 0:0:0\n",
      "\u001b[34m\u001b[1mwandb\u001b[0m: Downloading large artifact lgbm_meta:v19, 552.47MB. 7 files... Done. 0:0:0\n",
      "\u001b[34m\u001b[1mwandb\u001b[0m: Downloading large artifact xgb_meta:v3, 756.43MB. 7 files... Done. 0:0:0\n",
      "\u001b[34m\u001b[1mwandb\u001b[0m: Downloading large artifact xgb_meta:v4, 765.65MB. 7 files... Done. 0:0:0\n",
      "\u001b[34m\u001b[1mwandb\u001b[0m: Downloading large artifact xgb_meta:v8, 768.16MB. 7 files... Done. 0:0:0\n",
      "\u001b[34m\u001b[1mwandb\u001b[0m: Downloading large artifact xgb_meta:v9, 759.90MB. 7 files... Done. 0:0:0\n",
      "\u001b[34m\u001b[1mwandb\u001b[0m: Downloading large artifact xgb_meta:v10, 766.76MB. 7 files... Done. 0:0:0\n",
      "100%|██████████| 500000/500000 [00:05<00:00, 89486.15it/s]\n"
     ]
    },
    {
     "name": "stdout",
     "output_type": "stream",
     "text": [
      "| \u001b[0m 23      \u001b[0m | \u001b[0m 0.7278  \u001b[0m | \u001b[0m 0.8229  \u001b[0m | \u001b[0m 0.3458  \u001b[0m | \u001b[0m 0.2607  \u001b[0m | \u001b[0m 0.8414  \u001b[0m | \u001b[0m 0.6452  \u001b[0m | \u001b[0m 0.702   \u001b[0m | \u001b[0m 0.2689  \u001b[0m | \u001b[0m 0.9026  \u001b[0m | \u001b[0m 0.9575  \u001b[0m | \u001b[0m 0.1049  \u001b[0m | \u001b[0m 0.8763  \u001b[0m |\n"
     ]
    },
    {
     "name": "stderr",
     "output_type": "stream",
     "text": [
      "\u001b[34m\u001b[1mwandb\u001b[0m: Downloading large artifact lgbm_meta:v11, 546.02MB. 7 files... Done. 0:0:0\n",
      "\u001b[34m\u001b[1mwandb\u001b[0m: Downloading large artifact lgbm_meta:v12, 557.04MB. 7 files... Done. 0:0:0\n",
      "\u001b[34m\u001b[1mwandb\u001b[0m: Downloading large artifact lgbm_meta:v16, 557.89MB. 7 files... Done. 0:0:0\n",
      "\u001b[34m\u001b[1mwandb\u001b[0m: Downloading large artifact lgbm_meta:v17, 558.15MB. 7 files... Done. 0:0:0\n",
      "\u001b[34m\u001b[1mwandb\u001b[0m: Downloading large artifact lgbm_meta:v18, 554.43MB. 7 files... Done. 0:0:0\n",
      "\u001b[34m\u001b[1mwandb\u001b[0m: Downloading large artifact lgbm_meta:v19, 552.47MB. 7 files... Done. 0:0:0\n",
      "\u001b[34m\u001b[1mwandb\u001b[0m: Downloading large artifact xgb_meta:v3, 756.43MB. 7 files... Done. 0:0:0\n",
      "\u001b[34m\u001b[1mwandb\u001b[0m: Downloading large artifact xgb_meta:v4, 765.65MB. 7 files... Done. 0:0:0\n",
      "\u001b[34m\u001b[1mwandb\u001b[0m: Downloading large artifact xgb_meta:v8, 768.16MB. 7 files... Done. 0:0:0\n",
      "\u001b[34m\u001b[1mwandb\u001b[0m: Downloading large artifact xgb_meta:v9, 759.90MB. 7 files... Done. 0:0:0\n",
      "\u001b[34m\u001b[1mwandb\u001b[0m: Downloading large artifact xgb_meta:v10, 766.76MB. 7 files... Done. 0:0:0\n",
      "100%|██████████| 500000/500000 [00:05<00:00, 87802.19it/s]\n"
     ]
    },
    {
     "name": "stdout",
     "output_type": "stream",
     "text": [
      "| \u001b[0m 24      \u001b[0m | \u001b[0m 0.7277  \u001b[0m | \u001b[0m 0.3325  \u001b[0m | \u001b[0m 0.6262  \u001b[0m | \u001b[0m 0.193   \u001b[0m | \u001b[0m 0.5668  \u001b[0m | \u001b[0m 0.2618  \u001b[0m | \u001b[0m 0.01365 \u001b[0m | \u001b[0m 0.798   \u001b[0m | \u001b[0m 0.8219  \u001b[0m | \u001b[0m 0.8396  \u001b[0m | \u001b[0m 0.8486  \u001b[0m | \u001b[0m 0.9398  \u001b[0m |\n"
     ]
    },
    {
     "name": "stderr",
     "output_type": "stream",
     "text": [
      "\u001b[34m\u001b[1mwandb\u001b[0m: Downloading large artifact lgbm_meta:v11, 546.02MB. 7 files... Done. 0:0:0\n",
      "\u001b[34m\u001b[1mwandb\u001b[0m: Downloading large artifact lgbm_meta:v12, 557.04MB. 7 files... Done. 0:0:0\n",
      "\u001b[34m\u001b[1mwandb\u001b[0m: Downloading large artifact lgbm_meta:v16, 557.89MB. 7 files... Done. 0:0:0\n",
      "\u001b[34m\u001b[1mwandb\u001b[0m: Downloading large artifact lgbm_meta:v17, 558.15MB. 7 files... Done. 0:0:0\n",
      "\u001b[34m\u001b[1mwandb\u001b[0m: Downloading large artifact lgbm_meta:v18, 554.43MB. 7 files... Done. 0:0:0\n",
      "\u001b[34m\u001b[1mwandb\u001b[0m: Downloading large artifact lgbm_meta:v19, 552.47MB. 7 files... Done. 0:0:0\n",
      "\u001b[34m\u001b[1mwandb\u001b[0m: Downloading large artifact xgb_meta:v3, 756.43MB. 7 files... Done. 0:0:0\n",
      "\u001b[34m\u001b[1mwandb\u001b[0m: Downloading large artifact xgb_meta:v4, 765.65MB. 7 files... Done. 0:0:0\n",
      "\u001b[34m\u001b[1mwandb\u001b[0m: Downloading large artifact xgb_meta:v8, 768.16MB. 7 files... Done. 0:0:0\n",
      "\u001b[34m\u001b[1mwandb\u001b[0m: Downloading large artifact xgb_meta:v9, 759.90MB. 7 files... Done. 0:0:0\n",
      "\u001b[34m\u001b[1mwandb\u001b[0m: Downloading large artifact xgb_meta:v10, 766.76MB. 7 files... Done. 0:0:0\n",
      "100%|██████████| 500000/500000 [00:05<00:00, 87603.78it/s]\n"
     ]
    },
    {
     "name": "stdout",
     "output_type": "stream",
     "text": [
      "| \u001b[0m 25      \u001b[0m | \u001b[0m 0.7276  \u001b[0m | \u001b[0m 0.01902 \u001b[0m | \u001b[0m 0.4429  \u001b[0m | \u001b[0m 0.6206  \u001b[0m | \u001b[0m 0.5693  \u001b[0m | \u001b[0m 0.01684 \u001b[0m | \u001b[0m 0.03132 \u001b[0m | \u001b[0m 0.8277  \u001b[0m | \u001b[0m 0.1646  \u001b[0m | \u001b[0m 0.7783  \u001b[0m | \u001b[0m 0.1966  \u001b[0m | \u001b[0m 0.1361  \u001b[0m |\n"
     ]
    },
    {
     "name": "stderr",
     "output_type": "stream",
     "text": [
      "\u001b[34m\u001b[1mwandb\u001b[0m: Downloading large artifact lgbm_meta:v11, 546.02MB. 7 files... Done. 0:0:0\n",
      "\u001b[34m\u001b[1mwandb\u001b[0m: Downloading large artifact lgbm_meta:v12, 557.04MB. 7 files... Done. 0:0:0\n",
      "\u001b[34m\u001b[1mwandb\u001b[0m: Downloading large artifact lgbm_meta:v16, 557.89MB. 7 files... Done. 0:0:0\n",
      "\u001b[34m\u001b[1mwandb\u001b[0m: Downloading large artifact lgbm_meta:v17, 558.15MB. 7 files... Done. 0:0:0\n",
      "\u001b[34m\u001b[1mwandb\u001b[0m: Downloading large artifact lgbm_meta:v18, 554.43MB. 7 files... Done. 0:0:0\n",
      "\u001b[34m\u001b[1mwandb\u001b[0m: Downloading large artifact lgbm_meta:v19, 552.47MB. 7 files... Done. 0:0:0\n",
      "\u001b[34m\u001b[1mwandb\u001b[0m: Downloading large artifact xgb_meta:v3, 756.43MB. 7 files... Done. 0:0:0\n",
      "\u001b[34m\u001b[1mwandb\u001b[0m: Downloading large artifact xgb_meta:v4, 765.65MB. 7 files... Done. 0:0:0\n",
      "\u001b[34m\u001b[1mwandb\u001b[0m: Downloading large artifact xgb_meta:v8, 768.16MB. 7 files... Done. 0:0:0\n",
      "\u001b[34m\u001b[1mwandb\u001b[0m: Downloading large artifact xgb_meta:v9, 759.90MB. 7 files... Done. 0:0:0\n",
      "\u001b[34m\u001b[1mwandb\u001b[0m: Downloading large artifact xgb_meta:v10, 766.76MB. 7 files... Done. 0:0:0\n",
      "100%|██████████| 500000/500000 [00:05<00:00, 88136.91it/s]\n"
     ]
    },
    {
     "name": "stdout",
     "output_type": "stream",
     "text": [
      "| \u001b[0m 26      \u001b[0m | \u001b[0m 0.7277  \u001b[0m | \u001b[0m 0.555   \u001b[0m | \u001b[0m 0.7472  \u001b[0m | \u001b[0m 0.7862  \u001b[0m | \u001b[0m 0.09085 \u001b[0m | \u001b[0m 0.4586  \u001b[0m | \u001b[0m 0.9914  \u001b[0m | \u001b[0m 0.0492  \u001b[0m | \u001b[0m 0.5184  \u001b[0m | \u001b[0m 0.4723  \u001b[0m | \u001b[0m 0.82    \u001b[0m | \u001b[0m 0.4111  \u001b[0m |\n"
     ]
    },
    {
     "name": "stderr",
     "output_type": "stream",
     "text": [
      "\u001b[34m\u001b[1mwandb\u001b[0m: Downloading large artifact lgbm_meta:v11, 546.02MB. 7 files... Done. 0:0:0\n",
      "\u001b[34m\u001b[1mwandb\u001b[0m: Downloading large artifact lgbm_meta:v12, 557.04MB. 7 files... Done. 0:0:0\n",
      "\u001b[34m\u001b[1mwandb\u001b[0m: Downloading large artifact lgbm_meta:v16, 557.89MB. 7 files... Done. 0:0:0\n",
      "\u001b[34m\u001b[1mwandb\u001b[0m: Downloading large artifact lgbm_meta:v17, 558.15MB. 7 files... Done. 0:0:0\n",
      "\u001b[34m\u001b[1mwandb\u001b[0m: Downloading large artifact lgbm_meta:v18, 554.43MB. 7 files... Done. 0:0:0\n",
      "\u001b[34m\u001b[1mwandb\u001b[0m: Downloading large artifact lgbm_meta:v19, 552.47MB. 7 files... Done. 0:0:0\n",
      "\u001b[34m\u001b[1mwandb\u001b[0m: Downloading large artifact xgb_meta:v3, 756.43MB. 7 files... Done. 0:0:0\n",
      "\u001b[34m\u001b[1mwandb\u001b[0m: Downloading large artifact xgb_meta:v4, 765.65MB. 7 files... Done. 0:0:0\n",
      "\u001b[34m\u001b[1mwandb\u001b[0m: Downloading large artifact xgb_meta:v8, 768.16MB. 7 files... Done. 0:0:0\n",
      "\u001b[34m\u001b[1mwandb\u001b[0m: Downloading large artifact xgb_meta:v9, 759.90MB. 7 files... Done. 0:0:0\n",
      "\u001b[34m\u001b[1mwandb\u001b[0m: Downloading large artifact xgb_meta:v10, 766.76MB. 7 files... Done. 0:0:0\n",
      "100%|██████████| 500000/500000 [00:05<00:00, 87915.57it/s]\n"
     ]
    },
    {
     "name": "stdout",
     "output_type": "stream",
     "text": [
      "| \u001b[0m 27      \u001b[0m | \u001b[0m 0.7278  \u001b[0m | \u001b[0m 0.06464 \u001b[0m | \u001b[0m 0.244   \u001b[0m | \u001b[0m 0.5285  \u001b[0m | \u001b[0m 0.7089  \u001b[0m | \u001b[0m 0.3746  \u001b[0m | \u001b[0m 0.9227  \u001b[0m | \u001b[0m 0.4282  \u001b[0m | \u001b[0m 0.01547 \u001b[0m | \u001b[0m 0.6609  \u001b[0m | \u001b[0m 0.8925  \u001b[0m | \u001b[0m 0.8899  \u001b[0m |\n"
     ]
    },
    {
     "name": "stderr",
     "output_type": "stream",
     "text": [
      "\u001b[34m\u001b[1mwandb\u001b[0m: Downloading large artifact lgbm_meta:v11, 546.02MB. 7 files... Done. 0:0:0\n",
      "\u001b[34m\u001b[1mwandb\u001b[0m: Downloading large artifact lgbm_meta:v12, 557.04MB. 7 files... Done. 0:0:0\n",
      "\u001b[34m\u001b[1mwandb\u001b[0m: Downloading large artifact lgbm_meta:v16, 557.89MB. 7 files... Done. 0:0:0\n",
      "\u001b[34m\u001b[1mwandb\u001b[0m: Downloading large artifact lgbm_meta:v17, 558.15MB. 7 files... Done. 0:0:0\n",
      "\u001b[34m\u001b[1mwandb\u001b[0m: Downloading large artifact lgbm_meta:v18, 554.43MB. 7 files... Done. 0:0:0\n",
      "\u001b[34m\u001b[1mwandb\u001b[0m: Downloading large artifact lgbm_meta:v19, 552.47MB. 7 files... Done. 0:0:0\n",
      "\u001b[34m\u001b[1mwandb\u001b[0m: Downloading large artifact xgb_meta:v3, 756.43MB. 7 files... Done. 0:0:0\n",
      "\u001b[34m\u001b[1mwandb\u001b[0m: Downloading large artifact xgb_meta:v4, 765.65MB. 7 files... Done. 0:0:0\n",
      "\u001b[34m\u001b[1mwandb\u001b[0m: Downloading large artifact xgb_meta:v8, 768.16MB. 7 files... Done. 0:0:0\n",
      "\u001b[34m\u001b[1mwandb\u001b[0m: Downloading large artifact xgb_meta:v9, 759.90MB. 7 files... Done. 0:0:0\n",
      "\u001b[34m\u001b[1mwandb\u001b[0m: Downloading large artifact xgb_meta:v10, 766.76MB. 7 files... Done. 0:0:0\n",
      "100%|██████████| 500000/500000 [00:05<00:00, 87576.90it/s]\n"
     ]
    },
    {
     "name": "stdout",
     "output_type": "stream",
     "text": [
      "| \u001b[0m 28      \u001b[0m | \u001b[0m 0.7277  \u001b[0m | \u001b[0m 0.5467  \u001b[0m | \u001b[0m 0.5267  \u001b[0m | \u001b[0m 0.1507  \u001b[0m | \u001b[0m 0.6761  \u001b[0m | \u001b[0m 0.1781  \u001b[0m | \u001b[0m 0.8701  \u001b[0m | \u001b[0m 0.5414  \u001b[0m | \u001b[0m 0.9444  \u001b[0m | \u001b[0m 0.4095  \u001b[0m | \u001b[0m 0.7371  \u001b[0m | \u001b[0m 0.956   \u001b[0m |\n"
     ]
    },
    {
     "name": "stderr",
     "output_type": "stream",
     "text": [
      "\u001b[34m\u001b[1mwandb\u001b[0m: Downloading large artifact lgbm_meta:v11, 546.02MB. 7 files... Done. 0:0:0\n",
      "\u001b[34m\u001b[1mwandb\u001b[0m: Downloading large artifact lgbm_meta:v12, 557.04MB. 7 files... Done. 0:0:0\n",
      "\u001b[34m\u001b[1mwandb\u001b[0m: Downloading large artifact lgbm_meta:v16, 557.89MB. 7 files... Done. 0:0:0\n",
      "\u001b[34m\u001b[1mwandb\u001b[0m: Downloading large artifact lgbm_meta:v17, 558.15MB. 7 files... Done. 0:0:0\n",
      "\u001b[34m\u001b[1mwandb\u001b[0m: Downloading large artifact lgbm_meta:v18, 554.43MB. 7 files... Done. 0:0:0\n",
      "\u001b[34m\u001b[1mwandb\u001b[0m: Downloading large artifact lgbm_meta:v19, 552.47MB. 7 files... Done. 0:0:0\n",
      "\u001b[34m\u001b[1mwandb\u001b[0m: Downloading large artifact xgb_meta:v3, 756.43MB. 7 files... Done. 0:0:0\n",
      "\u001b[34m\u001b[1mwandb\u001b[0m: Downloading large artifact xgb_meta:v4, 765.65MB. 7 files... Done. 0:0:0\n",
      "\u001b[34m\u001b[1mwandb\u001b[0m: Downloading large artifact xgb_meta:v8, 768.16MB. 7 files... Done. 0:0:0\n",
      "\u001b[34m\u001b[1mwandb\u001b[0m: Downloading large artifact xgb_meta:v9, 759.90MB. 7 files... Done. 0:0:0\n",
      "\u001b[34m\u001b[1mwandb\u001b[0m: Downloading large artifact xgb_meta:v10, 766.76MB. 7 files... Done. 0:0:0\n",
      "100%|██████████| 500000/500000 [00:05<00:00, 87828.65it/s]\n"
     ]
    },
    {
     "name": "stdout",
     "output_type": "stream",
     "text": [
      "| \u001b[0m 29      \u001b[0m | \u001b[0m 0.7277  \u001b[0m | \u001b[0m 0.1831  \u001b[0m | \u001b[0m 0.4407  \u001b[0m | \u001b[0m 0.5942  \u001b[0m | \u001b[0m 0.3527  \u001b[0m | \u001b[0m 0.9914  \u001b[0m | \u001b[0m 0.1142  \u001b[0m | \u001b[0m 0.6897  \u001b[0m | \u001b[0m 0.6229  \u001b[0m | \u001b[0m 0.1487  \u001b[0m | \u001b[0m 0.5263  \u001b[0m | \u001b[0m 0.2394  \u001b[0m |\n"
     ]
    },
    {
     "name": "stderr",
     "output_type": "stream",
     "text": [
      "\u001b[34m\u001b[1mwandb\u001b[0m: Downloading large artifact lgbm_meta:v11, 546.02MB. 7 files... Done. 0:0:0\n",
      "\u001b[34m\u001b[1mwandb\u001b[0m: Downloading large artifact lgbm_meta:v12, 557.04MB. 7 files... Done. 0:0:0\n",
      "\u001b[34m\u001b[1mwandb\u001b[0m: Downloading large artifact lgbm_meta:v16, 557.89MB. 7 files... Done. 0:0:0\n",
      "\u001b[34m\u001b[1mwandb\u001b[0m: Downloading large artifact lgbm_meta:v17, 558.15MB. 7 files... Done. 0:0:0\n",
      "\u001b[34m\u001b[1mwandb\u001b[0m: Downloading large artifact lgbm_meta:v18, 554.43MB. 7 files... Done. 0:0:0\n",
      "\u001b[34m\u001b[1mwandb\u001b[0m: Downloading large artifact lgbm_meta:v19, 552.47MB. 7 files... Done. 0:0:0\n",
      "\u001b[34m\u001b[1mwandb\u001b[0m: Downloading large artifact xgb_meta:v3, 756.43MB. 7 files... Done. 0:0:0\n",
      "\u001b[34m\u001b[1mwandb\u001b[0m: Downloading large artifact xgb_meta:v4, 765.65MB. 7 files... Done. 0:0:0\n",
      "\u001b[34m\u001b[1mwandb\u001b[0m: Downloading large artifact xgb_meta:v8, 768.16MB. 7 files... Done. 0:0:0\n",
      "\u001b[34m\u001b[1mwandb\u001b[0m: Downloading large artifact xgb_meta:v9, 759.90MB. 7 files... Done. 0:0:0\n",
      "\u001b[34m\u001b[1mwandb\u001b[0m: Downloading large artifact xgb_meta:v10, 766.76MB. 7 files... Done. 0:0:0\n",
      "100%|██████████| 500000/500000 [00:05<00:00, 87658.90it/s]\n"
     ]
    },
    {
     "name": "stdout",
     "output_type": "stream",
     "text": [
      "| \u001b[0m 30      \u001b[0m | \u001b[0m 0.7279  \u001b[0m | \u001b[0m 0.28    \u001b[0m | \u001b[0m 0.3381  \u001b[0m | \u001b[0m 0.1491  \u001b[0m | \u001b[0m 0.4714  \u001b[0m | \u001b[0m 0.6931  \u001b[0m | \u001b[0m 0.1172  \u001b[0m | \u001b[0m 0.3209  \u001b[0m | \u001b[0m 0.2926  \u001b[0m | \u001b[0m 0.8611  \u001b[0m | \u001b[0m 0.3972  \u001b[0m | \u001b[0m 0.9979  \u001b[0m |\n"
     ]
    },
    {
     "name": "stderr",
     "output_type": "stream",
     "text": [
      "\u001b[34m\u001b[1mwandb\u001b[0m: Downloading large artifact lgbm_meta:v11, 546.02MB. 7 files... Done. 0:0:0\n",
      "\u001b[34m\u001b[1mwandb\u001b[0m: Downloading large artifact lgbm_meta:v12, 557.04MB. 7 files... Done. 0:0:0\n",
      "\u001b[34m\u001b[1mwandb\u001b[0m: Downloading large artifact lgbm_meta:v16, 557.89MB. 7 files... Done. 0:0:0\n",
      "\u001b[34m\u001b[1mwandb\u001b[0m: Downloading large artifact lgbm_meta:v17, 558.15MB. 7 files... Done. 0:0:0\n",
      "\u001b[34m\u001b[1mwandb\u001b[0m: Downloading large artifact lgbm_meta:v18, 554.43MB. 7 files... Done. 0:0:0\n",
      "\u001b[34m\u001b[1mwandb\u001b[0m: Downloading large artifact lgbm_meta:v19, 552.47MB. 7 files... Done. 0:0:0\n",
      "\u001b[34m\u001b[1mwandb\u001b[0m: Downloading large artifact xgb_meta:v3, 756.43MB. 7 files... Done. 0:0:0\n",
      "\u001b[34m\u001b[1mwandb\u001b[0m: Downloading large artifact xgb_meta:v4, 765.65MB. 7 files... Done. 0:0:0\n",
      "\u001b[34m\u001b[1mwandb\u001b[0m: Downloading large artifact xgb_meta:v8, 768.16MB. 7 files... Done. 0:0:0\n",
      "\u001b[34m\u001b[1mwandb\u001b[0m: Downloading large artifact xgb_meta:v9, 759.90MB. 7 files... Done. 0:0:0\n",
      "\u001b[34m\u001b[1mwandb\u001b[0m: Downloading large artifact xgb_meta:v10, 766.76MB. 7 files... Done. 0:0:0\n",
      "100%|██████████| 500000/500000 [00:05<00:00, 88946.65it/s]\n"
     ]
    },
    {
     "name": "stdout",
     "output_type": "stream",
     "text": [
      "| \u001b[0m 31      \u001b[0m | \u001b[0m 0.7277  \u001b[0m | \u001b[0m 0.2243  \u001b[0m | \u001b[0m 0.6637  \u001b[0m | \u001b[0m 0.6537  \u001b[0m | \u001b[0m 0.4634  \u001b[0m | \u001b[0m 0.7322  \u001b[0m | \u001b[0m 0.7295  \u001b[0m | \u001b[0m 0.9604  \u001b[0m | \u001b[0m 0.4356  \u001b[0m | \u001b[0m 0.07819 \u001b[0m | \u001b[0m 0.9639  \u001b[0m | \u001b[0m 0.1369  \u001b[0m |\n"
     ]
    },
    {
     "name": "stderr",
     "output_type": "stream",
     "text": [
      "\u001b[34m\u001b[1mwandb\u001b[0m: Downloading large artifact lgbm_meta:v11, 546.02MB. 7 files... Done. 0:0:0\n",
      "\u001b[34m\u001b[1mwandb\u001b[0m: Downloading large artifact lgbm_meta:v12, 557.04MB. 7 files... Done. 0:0:0\n",
      "\u001b[34m\u001b[1mwandb\u001b[0m: Downloading large artifact lgbm_meta:v16, 557.89MB. 7 files... Done. 0:0:0\n",
      "\u001b[34m\u001b[1mwandb\u001b[0m: Downloading large artifact lgbm_meta:v17, 558.15MB. 7 files... Done. 0:0:0\n",
      "\u001b[34m\u001b[1mwandb\u001b[0m: Downloading large artifact lgbm_meta:v18, 554.43MB. 7 files... Done. 0:0:0\n",
      "\u001b[34m\u001b[1mwandb\u001b[0m: Downloading large artifact lgbm_meta:v19, 552.47MB. 7 files... Done. 0:0:0\n",
      "\u001b[34m\u001b[1mwandb\u001b[0m: Downloading large artifact xgb_meta:v3, 756.43MB. 7 files... Done. 0:0:0\n",
      "\u001b[34m\u001b[1mwandb\u001b[0m: Downloading large artifact xgb_meta:v4, 765.65MB. 7 files... Done. 0:0:0\n",
      "\u001b[34m\u001b[1mwandb\u001b[0m: Downloading large artifact xgb_meta:v8, 768.16MB. 7 files... Done. 0:0:0\n",
      "\u001b[34m\u001b[1mwandb\u001b[0m: Downloading large artifact xgb_meta:v9, 759.90MB. 7 files... Done. 0:0:0\n",
      "\u001b[34m\u001b[1mwandb\u001b[0m: Downloading large artifact xgb_meta:v10, 766.76MB. 7 files... Done. 0:0:0\n",
      "100%|██████████| 500000/500000 [00:05<00:00, 86536.84it/s]\n"
     ]
    },
    {
     "name": "stdout",
     "output_type": "stream",
     "text": [
      "| \u001b[0m 32      \u001b[0m | \u001b[0m 0.7276  \u001b[0m | \u001b[0m 0.9537  \u001b[0m | \u001b[0m 0.9821  \u001b[0m | \u001b[0m 0.5374  \u001b[0m | \u001b[0m 0.4328  \u001b[0m | \u001b[0m 0.06482 \u001b[0m | \u001b[0m 0.3775  \u001b[0m | \u001b[0m 0.996   \u001b[0m | \u001b[0m 0.2986  \u001b[0m | \u001b[0m 0.2267  \u001b[0m | \u001b[0m 0.0823  \u001b[0m | \u001b[0m 0.3477  \u001b[0m |\n"
     ]
    },
    {
     "name": "stderr",
     "output_type": "stream",
     "text": [
      "\u001b[34m\u001b[1mwandb\u001b[0m: Downloading large artifact lgbm_meta:v11, 546.02MB. 7 files... Done. 0:0:0\n",
      "\u001b[34m\u001b[1mwandb\u001b[0m: Downloading large artifact lgbm_meta:v12, 557.04MB. 7 files... Done. 0:0:0\n",
      "\u001b[34m\u001b[1mwandb\u001b[0m: Downloading large artifact lgbm_meta:v16, 557.89MB. 7 files... Done. 0:0:0\n",
      "\u001b[34m\u001b[1mwandb\u001b[0m: Downloading large artifact lgbm_meta:v17, 558.15MB. 7 files... Done. 0:0:0\n",
      "\u001b[34m\u001b[1mwandb\u001b[0m: Downloading large artifact lgbm_meta:v18, 554.43MB. 7 files... Done. 0:0:0\n",
      "\u001b[34m\u001b[1mwandb\u001b[0m: Downloading large artifact lgbm_meta:v19, 552.47MB. 7 files... Done. 0:0:0\n",
      "\u001b[34m\u001b[1mwandb\u001b[0m: Downloading large artifact xgb_meta:v3, 756.43MB. 7 files... Done. 0:0:0\n",
      "\u001b[34m\u001b[1mwandb\u001b[0m: Downloading large artifact xgb_meta:v4, 765.65MB. 7 files... Done. 0:0:0\n",
      "\u001b[34m\u001b[1mwandb\u001b[0m: Downloading large artifact xgb_meta:v8, 768.16MB. 7 files... Done. 0:0:0\n",
      "\u001b[34m\u001b[1mwandb\u001b[0m: Downloading large artifact xgb_meta:v9, 759.90MB. 7 files... Done. 0:0:0\n",
      "\u001b[34m\u001b[1mwandb\u001b[0m: Downloading large artifact xgb_meta:v10, 766.76MB. 7 files... Done. 0:0:0\n",
      "100%|██████████| 500000/500000 [00:05<00:00, 89295.03it/s]\n"
     ]
    },
    {
     "name": "stdout",
     "output_type": "stream",
     "text": [
      "| \u001b[0m 33      \u001b[0m | \u001b[0m 0.7277  \u001b[0m | \u001b[0m 0.5267  \u001b[0m | \u001b[0m 0.1707  \u001b[0m | \u001b[0m 0.7675  \u001b[0m | \u001b[0m 0.55    \u001b[0m | \u001b[0m 0.3345  \u001b[0m | \u001b[0m 0.343   \u001b[0m | \u001b[0m 0.04414 \u001b[0m | \u001b[0m 0.06452 \u001b[0m | \u001b[0m 0.6327  \u001b[0m | \u001b[0m 0.8192  \u001b[0m | \u001b[0m 0.8233  \u001b[0m |\n"
     ]
    },
    {
     "name": "stderr",
     "output_type": "stream",
     "text": [
      "\u001b[34m\u001b[1mwandb\u001b[0m: Downloading large artifact lgbm_meta:v11, 546.02MB. 7 files... Done. 0:0:0\n",
      "\u001b[34m\u001b[1mwandb\u001b[0m: Downloading large artifact lgbm_meta:v12, 557.04MB. 7 files... Done. 0:0:0\n",
      "\u001b[34m\u001b[1mwandb\u001b[0m: Downloading large artifact lgbm_meta:v16, 557.89MB. 7 files... Done. 0:0:0\n",
      "\u001b[34m\u001b[1mwandb\u001b[0m: Downloading large artifact lgbm_meta:v17, 558.15MB. 7 files... Done. 0:0:0\n",
      "\u001b[34m\u001b[1mwandb\u001b[0m: Downloading large artifact lgbm_meta:v18, 554.43MB. 7 files... Done. 0:0:0\n",
      "\u001b[34m\u001b[1mwandb\u001b[0m: Downloading large artifact lgbm_meta:v19, 552.47MB. 7 files... Done. 0:0:0\n",
      "\u001b[34m\u001b[1mwandb\u001b[0m: Downloading large artifact xgb_meta:v3, 756.43MB. 7 files... Done. 0:0:0\n",
      "\u001b[34m\u001b[1mwandb\u001b[0m: Downloading large artifact xgb_meta:v4, 765.65MB. 7 files... Done. 0:0:0\n",
      "\u001b[34m\u001b[1mwandb\u001b[0m: Downloading large artifact xgb_meta:v8, 768.16MB. 7 files... Done. 0:0:0\n",
      "\u001b[34m\u001b[1mwandb\u001b[0m: Downloading large artifact xgb_meta:v9, 759.90MB. 7 files... Done. 0:0:0\n",
      "\u001b[34m\u001b[1mwandb\u001b[0m: Downloading large artifact xgb_meta:v10, 766.76MB. 7 files... Done. 0:0:0\n",
      "100%|██████████| 500000/500000 [00:05<00:00, 89076.96it/s]\n"
     ]
    },
    {
     "name": "stdout",
     "output_type": "stream",
     "text": [
      "| \u001b[0m 34      \u001b[0m | \u001b[0m 0.7277  \u001b[0m | \u001b[0m 0.1244  \u001b[0m | \u001b[0m 0.2563  \u001b[0m | \u001b[0m 0.4627  \u001b[0m | \u001b[0m 0.4172  \u001b[0m | \u001b[0m 0.6313  \u001b[0m | \u001b[0m 0.3499  \u001b[0m | \u001b[0m 0.1587  \u001b[0m | \u001b[0m 0.9167  \u001b[0m | \u001b[0m 0.592   \u001b[0m | \u001b[0m 0.98    \u001b[0m | \u001b[0m 0.154   \u001b[0m |\n"
     ]
    },
    {
     "name": "stderr",
     "output_type": "stream",
     "text": [
      "\u001b[34m\u001b[1mwandb\u001b[0m: Downloading large artifact lgbm_meta:v11, 546.02MB. 7 files... Done. 0:0:0\n",
      "\u001b[34m\u001b[1mwandb\u001b[0m: Downloading large artifact lgbm_meta:v12, 557.04MB. 7 files... Done. 0:0:0\n",
      "\u001b[34m\u001b[1mwandb\u001b[0m: Downloading large artifact lgbm_meta:v16, 557.89MB. 7 files... Done. 0:0:0\n",
      "\u001b[34m\u001b[1mwandb\u001b[0m: Downloading large artifact lgbm_meta:v17, 558.15MB. 7 files... Done. 0:0:0\n",
      "\u001b[34m\u001b[1mwandb\u001b[0m: Downloading large artifact lgbm_meta:v18, 554.43MB. 7 files... Done. 0:0:0\n",
      "\u001b[34m\u001b[1mwandb\u001b[0m: Downloading large artifact lgbm_meta:v19, 552.47MB. 7 files... Done. 0:0:0\n",
      "\u001b[34m\u001b[1mwandb\u001b[0m: Downloading large artifact xgb_meta:v3, 756.43MB. 7 files... Done. 0:0:0\n",
      "\u001b[34m\u001b[1mwandb\u001b[0m: Downloading large artifact xgb_meta:v4, 765.65MB. 7 files... Done. 0:0:0\n",
      "\u001b[34m\u001b[1mwandb\u001b[0m: Downloading large artifact xgb_meta:v8, 768.16MB. 7 files... Done. 0:0:0\n",
      "\u001b[34m\u001b[1mwandb\u001b[0m: Downloading large artifact xgb_meta:v9, 759.90MB. 7 files... Done. 0:0:0\n",
      "\u001b[34m\u001b[1mwandb\u001b[0m: Downloading large artifact xgb_meta:v10, 766.76MB. 7 files... Done. 0:0:0\n",
      "100%|██████████| 500000/500000 [00:05<00:00, 88974.06it/s]\n"
     ]
    },
    {
     "name": "stdout",
     "output_type": "stream",
     "text": [
      "| \u001b[0m 35      \u001b[0m | \u001b[0m 0.7277  \u001b[0m | \u001b[0m 0.928   \u001b[0m | \u001b[0m 0.5414  \u001b[0m | \u001b[0m 0.9457  \u001b[0m | \u001b[0m 0.4932  \u001b[0m | \u001b[0m 0.1094  \u001b[0m | \u001b[0m 0.4539  \u001b[0m | \u001b[0m 0.6968  \u001b[0m | \u001b[0m 0.5128  \u001b[0m | \u001b[0m 0.6027  \u001b[0m | \u001b[0m 0.1285  \u001b[0m | \u001b[0m 0.3985  \u001b[0m |\n"
     ]
    },
    {
     "name": "stderr",
     "output_type": "stream",
     "text": [
      "\u001b[34m\u001b[1mwandb\u001b[0m: Downloading large artifact lgbm_meta:v11, 546.02MB. 7 files... Done. 0:0:0\n",
      "\u001b[34m\u001b[1mwandb\u001b[0m: Downloading large artifact lgbm_meta:v12, 557.04MB. 7 files... Done. 0:0:0\n",
      "\u001b[34m\u001b[1mwandb\u001b[0m: Downloading large artifact lgbm_meta:v16, 557.89MB. 7 files... Done. 0:0:0\n",
      "\u001b[34m\u001b[1mwandb\u001b[0m: Downloading large artifact lgbm_meta:v17, 558.15MB. 7 files... Done. 0:0:0\n",
      "\u001b[34m\u001b[1mwandb\u001b[0m: Downloading large artifact lgbm_meta:v18, 554.43MB. 7 files... Done. 0:0:0\n",
      "\u001b[34m\u001b[1mwandb\u001b[0m: Downloading large artifact lgbm_meta:v19, 552.47MB. 7 files... Done. 0:0:0\n",
      "\u001b[34m\u001b[1mwandb\u001b[0m: Downloading large artifact xgb_meta:v3, 756.43MB. 7 files... Done. 0:0:0\n",
      "\u001b[34m\u001b[1mwandb\u001b[0m: Downloading large artifact xgb_meta:v4, 765.65MB. 7 files... Done. 0:0:0\n",
      "\u001b[34m\u001b[1mwandb\u001b[0m: Downloading large artifact xgb_meta:v8, 768.16MB. 7 files... Done. 0:0:0\n",
      "\u001b[34m\u001b[1mwandb\u001b[0m: Downloading large artifact xgb_meta:v9, 759.90MB. 7 files... Done. 0:0:0\n",
      "\u001b[34m\u001b[1mwandb\u001b[0m: Downloading large artifact xgb_meta:v10, 766.76MB. 7 files... Done. 0:0:0\n",
      "100%|██████████| 500000/500000 [00:05<00:00, 87823.15it/s]\n"
     ]
    },
    {
     "name": "stdout",
     "output_type": "stream",
     "text": [
      "| \u001b[0m 36      \u001b[0m | \u001b[0m 0.7277  \u001b[0m | \u001b[0m 0.5152  \u001b[0m | \u001b[0m 0.7556  \u001b[0m | \u001b[0m 0.1525  \u001b[0m | \u001b[0m 0.5853  \u001b[0m | \u001b[0m 0.9829  \u001b[0m | \u001b[0m 0.6298  \u001b[0m | \u001b[0m 0.4766  \u001b[0m | \u001b[0m 0.7402  \u001b[0m | \u001b[0m 0.1365  \u001b[0m | \u001b[0m 0.9352  \u001b[0m | \u001b[0m 0.6465  \u001b[0m |\n"
     ]
    },
    {
     "name": "stderr",
     "output_type": "stream",
     "text": [
      "\u001b[34m\u001b[1mwandb\u001b[0m: Downloading large artifact lgbm_meta:v11, 546.02MB. 7 files... Done. 0:0:0\n",
      "\u001b[34m\u001b[1mwandb\u001b[0m: Downloading large artifact lgbm_meta:v12, 557.04MB. 7 files... Done. 0:0:0\n",
      "\u001b[34m\u001b[1mwandb\u001b[0m: Downloading large artifact lgbm_meta:v16, 557.89MB. 7 files... Done. 0:0:0\n",
      "\u001b[34m\u001b[1mwandb\u001b[0m: Downloading large artifact lgbm_meta:v17, 558.15MB. 7 files... Done. 0:0:0\n",
      "\u001b[34m\u001b[1mwandb\u001b[0m: Downloading large artifact lgbm_meta:v18, 554.43MB. 7 files... Done. 0:0:0\n",
      "\u001b[34m\u001b[1mwandb\u001b[0m: Downloading large artifact lgbm_meta:v19, 552.47MB. 7 files... Done. 0:0:0\n",
      "\u001b[34m\u001b[1mwandb\u001b[0m: Downloading large artifact xgb_meta:v3, 756.43MB. 7 files... Done. 0:0:0\n",
      "\u001b[34m\u001b[1mwandb\u001b[0m: Downloading large artifact xgb_meta:v4, 765.65MB. 7 files... Done. 0:0:0\n",
      "\u001b[34m\u001b[1mwandb\u001b[0m: Downloading large artifact xgb_meta:v8, 768.16MB. 7 files... Done. 0:0:0\n",
      "\u001b[34m\u001b[1mwandb\u001b[0m: Downloading large artifact xgb_meta:v9, 759.90MB. 7 files... Done. 0:0:0\n",
      "\u001b[34m\u001b[1mwandb\u001b[0m: Downloading large artifact xgb_meta:v10, 766.76MB. 7 files... Done. 0:0:0\n",
      "100%|██████████| 500000/500000 [00:05<00:00, 86678.43it/s]\n"
     ]
    },
    {
     "name": "stdout",
     "output_type": "stream",
     "text": [
      "| \u001b[0m 37      \u001b[0m | \u001b[0m 0.7277  \u001b[0m | \u001b[0m 0.4513  \u001b[0m | \u001b[0m 0.6165  \u001b[0m | \u001b[0m 0.4185  \u001b[0m | \u001b[0m 0.07928 \u001b[0m | \u001b[0m 0.09983 \u001b[0m | \u001b[0m 0.5814  \u001b[0m | \u001b[0m 0.5185  \u001b[0m | \u001b[0m 0.7396  \u001b[0m | \u001b[0m 0.8072  \u001b[0m | \u001b[0m 0.4729  \u001b[0m | \u001b[0m 0.4857  \u001b[0m |\n"
     ]
    },
    {
     "name": "stderr",
     "output_type": "stream",
     "text": [
      "\u001b[34m\u001b[1mwandb\u001b[0m: Downloading large artifact lgbm_meta:v11, 546.02MB. 7 files... Done. 0:0:0\n",
      "\u001b[34m\u001b[1mwandb\u001b[0m: Downloading large artifact lgbm_meta:v12, 557.04MB. 7 files... Done. 0:0:0\n",
      "\u001b[34m\u001b[1mwandb\u001b[0m: Downloading large artifact lgbm_meta:v16, 557.89MB. 7 files... Done. 0:0:0\n",
      "\u001b[34m\u001b[1mwandb\u001b[0m: Downloading large artifact lgbm_meta:v17, 558.15MB. 7 files... Done. 0:0:0\n",
      "\u001b[34m\u001b[1mwandb\u001b[0m: Downloading large artifact lgbm_meta:v18, 554.43MB. 7 files... Done. 0:0:0\n",
      "\u001b[34m\u001b[1mwandb\u001b[0m: Downloading large artifact lgbm_meta:v19, 552.47MB. 7 files... Done. 0:0:0\n",
      "\u001b[34m\u001b[1mwandb\u001b[0m: Downloading large artifact xgb_meta:v3, 756.43MB. 7 files... Done. 0:0:0\n",
      "\u001b[34m\u001b[1mwandb\u001b[0m: Downloading large artifact xgb_meta:v4, 765.65MB. 7 files... Done. 0:0:0\n",
      "\u001b[34m\u001b[1mwandb\u001b[0m: Downloading large artifact xgb_meta:v8, 768.16MB. 7 files... Done. 0:0:0\n",
      "\u001b[34m\u001b[1mwandb\u001b[0m: Downloading large artifact xgb_meta:v9, 759.90MB. 7 files... Done. 0:0:0\n",
      "\u001b[34m\u001b[1mwandb\u001b[0m: Downloading large artifact xgb_meta:v10, 766.76MB. 7 files... Done. 0:0:0\n",
      "100%|██████████| 500000/500000 [00:05<00:00, 86028.16it/s]\n"
     ]
    },
    {
     "name": "stdout",
     "output_type": "stream",
     "text": [
      "| \u001b[0m 38      \u001b[0m | \u001b[0m 0.7278  \u001b[0m | \u001b[0m 0.4062  \u001b[0m | \u001b[0m 0.01357 \u001b[0m | \u001b[0m 0.4522  \u001b[0m | \u001b[0m 0.5713  \u001b[0m | \u001b[0m 0.8963  \u001b[0m | \u001b[0m 0.8601  \u001b[0m | \u001b[0m 0.3309  \u001b[0m | \u001b[0m 0.4447  \u001b[0m | \u001b[0m 0.2966  \u001b[0m | \u001b[0m 0.5029  \u001b[0m | \u001b[0m 0.004132\u001b[0m |\n"
     ]
    },
    {
     "name": "stderr",
     "output_type": "stream",
     "text": [
      "\u001b[34m\u001b[1mwandb\u001b[0m: Downloading large artifact lgbm_meta:v11, 546.02MB. 7 files... Done. 0:0:0\n",
      "\u001b[34m\u001b[1mwandb\u001b[0m: Downloading large artifact lgbm_meta:v12, 557.04MB. 7 files... Done. 0:0:0\n",
      "\u001b[34m\u001b[1mwandb\u001b[0m: Downloading large artifact lgbm_meta:v16, 557.89MB. 7 files... Done. 0:0:0\n",
      "\u001b[34m\u001b[1mwandb\u001b[0m: Downloading large artifact lgbm_meta:v17, 558.15MB. 7 files... Done. 0:0:0\n",
      "\u001b[34m\u001b[1mwandb\u001b[0m: Downloading large artifact lgbm_meta:v18, 554.43MB. 7 files... Done. 0:0:0\n",
      "\u001b[34m\u001b[1mwandb\u001b[0m: Downloading large artifact lgbm_meta:v19, 552.47MB. 7 files... Done. 0:0:0\n",
      "\u001b[34m\u001b[1mwandb\u001b[0m: Downloading large artifact xgb_meta:v3, 756.43MB. 7 files... Done. 0:0:0\n",
      "\u001b[34m\u001b[1mwandb\u001b[0m: Downloading large artifact xgb_meta:v4, 765.65MB. 7 files... Done. 0:0:0\n",
      "\u001b[34m\u001b[1mwandb\u001b[0m: Downloading large artifact xgb_meta:v8, 768.16MB. 7 files... Done. 0:0:0\n",
      "\u001b[34m\u001b[1mwandb\u001b[0m: Downloading large artifact xgb_meta:v9, 759.90MB. 7 files... Done. 0:0:0\n",
      "\u001b[34m\u001b[1mwandb\u001b[0m: Downloading large artifact xgb_meta:v10, 766.76MB. 7 files... Done. 0:0:0\n",
      "100%|██████████| 500000/500000 [00:05<00:00, 88727.80it/s]\n"
     ]
    },
    {
     "name": "stdout",
     "output_type": "stream",
     "text": [
      "| \u001b[0m 39      \u001b[0m | \u001b[0m 0.7278  \u001b[0m | \u001b[0m 0.7869  \u001b[0m | \u001b[0m 0.4132  \u001b[0m | \u001b[0m 0.7551  \u001b[0m | \u001b[0m 0.8278  \u001b[0m | \u001b[0m 0.6329  \u001b[0m | \u001b[0m 0.5668  \u001b[0m | \u001b[0m 0.7894  \u001b[0m | \u001b[0m 0.8606  \u001b[0m | \u001b[0m 0.8199  \u001b[0m | \u001b[0m 0.3089  \u001b[0m | \u001b[0m 0.5652  \u001b[0m |\n"
     ]
    },
    {
     "name": "stderr",
     "output_type": "stream",
     "text": [
      "\u001b[34m\u001b[1mwandb\u001b[0m: Downloading large artifact lgbm_meta:v11, 546.02MB. 7 files... Done. 0:0:0\n",
      "\u001b[34m\u001b[1mwandb\u001b[0m: Downloading large artifact lgbm_meta:v12, 557.04MB. 7 files... Done. 0:0:0\n",
      "\u001b[34m\u001b[1mwandb\u001b[0m: Downloading large artifact lgbm_meta:v16, 557.89MB. 7 files... Done. 0:0:0\n",
      "\u001b[34m\u001b[1mwandb\u001b[0m: Downloading large artifact lgbm_meta:v17, 558.15MB. 7 files... Done. 0:0:0\n",
      "\u001b[34m\u001b[1mwandb\u001b[0m: Downloading large artifact lgbm_meta:v18, 554.43MB. 7 files... Done. 0:0:0\n",
      "\u001b[34m\u001b[1mwandb\u001b[0m: Downloading large artifact lgbm_meta:v19, 552.47MB. 7 files... Done. 0:0:0\n",
      "\u001b[34m\u001b[1mwandb\u001b[0m: Downloading large artifact xgb_meta:v3, 756.43MB. 7 files... Done. 0:0:0\n",
      "\u001b[34m\u001b[1mwandb\u001b[0m: Downloading large artifact xgb_meta:v4, 765.65MB. 7 files... Done. 0:0:0\n",
      "\u001b[34m\u001b[1mwandb\u001b[0m: Downloading large artifact xgb_meta:v8, 768.16MB. 7 files... Done. 0:0:0\n",
      "\u001b[34m\u001b[1mwandb\u001b[0m: Downloading large artifact xgb_meta:v9, 759.90MB. 7 files... Done. 0:0:0\n",
      "\u001b[34m\u001b[1mwandb\u001b[0m: Downloading large artifact xgb_meta:v10, 766.76MB. 7 files... Done. 0:0:0\n",
      "100%|██████████| 500000/500000 [00:05<00:00, 87064.08it/s]\n"
     ]
    },
    {
     "name": "stdout",
     "output_type": "stream",
     "text": [
      "| \u001b[0m 40      \u001b[0m | \u001b[0m 0.7278  \u001b[0m | \u001b[0m 0.5929  \u001b[0m | \u001b[0m 0.4172  \u001b[0m | \u001b[0m 0.2206  \u001b[0m | \u001b[0m 0.5073  \u001b[0m | \u001b[0m 0.3743  \u001b[0m | \u001b[0m 0.5315  \u001b[0m | \u001b[0m 0.6126  \u001b[0m | \u001b[0m 0.8028  \u001b[0m | \u001b[0m 0.6739  \u001b[0m | \u001b[0m 0.6526  \u001b[0m | \u001b[0m 0.8853  \u001b[0m |\n"
     ]
    },
    {
     "name": "stderr",
     "output_type": "stream",
     "text": [
      "\u001b[34m\u001b[1mwandb\u001b[0m: Downloading large artifact lgbm_meta:v11, 546.02MB. 7 files... Done. 0:0:0\n",
      "\u001b[34m\u001b[1mwandb\u001b[0m: Downloading large artifact lgbm_meta:v12, 557.04MB. 7 files... Done. 0:0:0\n",
      "\u001b[34m\u001b[1mwandb\u001b[0m: Downloading large artifact lgbm_meta:v16, 557.89MB. 7 files... Done. 0:0:0\n",
      "\u001b[34m\u001b[1mwandb\u001b[0m: Downloading large artifact lgbm_meta:v17, 558.15MB. 7 files... Done. 0:0:0\n",
      "\u001b[34m\u001b[1mwandb\u001b[0m: Downloading large artifact lgbm_meta:v18, 554.43MB. 7 files... Done. 0:0:0\n",
      "\u001b[34m\u001b[1mwandb\u001b[0m: Downloading large artifact lgbm_meta:v19, 552.47MB. 7 files... Done. 0:0:0\n",
      "\u001b[34m\u001b[1mwandb\u001b[0m: Downloading large artifact xgb_meta:v3, 756.43MB. 7 files... Done. 0:0:0\n",
      "\u001b[34m\u001b[1mwandb\u001b[0m: Downloading large artifact xgb_meta:v4, 765.65MB. 7 files... Done. 0:0:0\n",
      "\u001b[34m\u001b[1mwandb\u001b[0m: Downloading large artifact xgb_meta:v8, 768.16MB. 7 files... Done. 0:0:0\n",
      "\u001b[34m\u001b[1mwandb\u001b[0m: Downloading large artifact xgb_meta:v9, 759.90MB. 7 files... Done. 0:0:0\n",
      "\u001b[34m\u001b[1mwandb\u001b[0m: Downloading large artifact xgb_meta:v10, 766.76MB. 7 files... Done. 0:0:0\n",
      "100%|██████████| 500000/500000 [00:05<00:00, 88622.76it/s]\n"
     ]
    },
    {
     "name": "stdout",
     "output_type": "stream",
     "text": [
      "| \u001b[0m 41      \u001b[0m | \u001b[0m 0.7277  \u001b[0m | \u001b[0m 0.3076  \u001b[0m | \u001b[0m 0.5168  \u001b[0m | \u001b[0m 0.8025  \u001b[0m | \u001b[0m 0.9803  \u001b[0m | \u001b[0m 0.9772  \u001b[0m | \u001b[0m 0.6596  \u001b[0m | \u001b[0m 0.5734  \u001b[0m | \u001b[0m 0.1576  \u001b[0m | \u001b[0m 0.2393  \u001b[0m | \u001b[0m 0.3089  \u001b[0m | \u001b[0m 0.3386  \u001b[0m |\n"
     ]
    },
    {
     "name": "stderr",
     "output_type": "stream",
     "text": [
      "\u001b[34m\u001b[1mwandb\u001b[0m: Downloading large artifact lgbm_meta:v11, 546.02MB. 7 files... Done. 0:0:0\n",
      "\u001b[34m\u001b[1mwandb\u001b[0m: Downloading large artifact lgbm_meta:v12, 557.04MB. 7 files... Done. 0:0:0\n",
      "\u001b[34m\u001b[1mwandb\u001b[0m: Downloading large artifact lgbm_meta:v16, 557.89MB. 7 files... Done. 0:0:0\n",
      "\u001b[34m\u001b[1mwandb\u001b[0m: Downloading large artifact lgbm_meta:v17, 558.15MB. 7 files... Done. 0:0:0\n",
      "\u001b[34m\u001b[1mwandb\u001b[0m: Downloading large artifact lgbm_meta:v18, 554.43MB. 7 files... Done. 0:0:0\n",
      "\u001b[34m\u001b[1mwandb\u001b[0m: Downloading large artifact lgbm_meta:v19, 552.47MB. 7 files... Done. 0:0:0\n",
      "\u001b[34m\u001b[1mwandb\u001b[0m: Downloading large artifact xgb_meta:v3, 756.43MB. 7 files... Done. 0:0:0\n",
      "\u001b[34m\u001b[1mwandb\u001b[0m: Downloading large artifact xgb_meta:v4, 765.65MB. 7 files... Done. 0:0:0\n",
      "\u001b[34m\u001b[1mwandb\u001b[0m: Downloading large artifact xgb_meta:v8, 768.16MB. 7 files... Done. 0:0:0\n",
      "\u001b[34m\u001b[1mwandb\u001b[0m: Downloading large artifact xgb_meta:v9, 759.90MB. 7 files... Done. 0:0:0\n",
      "\u001b[34m\u001b[1mwandb\u001b[0m: Downloading large artifact xgb_meta:v10, 766.76MB. 7 files... Done. 0:0:0\n",
      "100%|██████████| 500000/500000 [00:05<00:00, 88860.65it/s]\n"
     ]
    },
    {
     "name": "stdout",
     "output_type": "stream",
     "text": [
      "| \u001b[0m 42      \u001b[0m | \u001b[0m 0.7278  \u001b[0m | \u001b[0m 0.6257  \u001b[0m | \u001b[0m 0.1814  \u001b[0m | \u001b[0m 0.9045  \u001b[0m | \u001b[0m 0.6953  \u001b[0m | \u001b[0m 0.537   \u001b[0m | \u001b[0m 0.9431  \u001b[0m | \u001b[0m 0.1875  \u001b[0m | \u001b[0m 0.1691  \u001b[0m | \u001b[0m 0.7903  \u001b[0m | \u001b[0m 0.01195 \u001b[0m | \u001b[0m 0.3752  \u001b[0m |\n"
     ]
    },
    {
     "name": "stderr",
     "output_type": "stream",
     "text": [
      "\u001b[34m\u001b[1mwandb\u001b[0m: Downloading large artifact lgbm_meta:v11, 546.02MB. 7 files... Done. 0:0:0\n",
      "\u001b[34m\u001b[1mwandb\u001b[0m: Downloading large artifact lgbm_meta:v12, 557.04MB. 7 files... Done. 0:0:0\n",
      "\u001b[34m\u001b[1mwandb\u001b[0m: Downloading large artifact lgbm_meta:v16, 557.89MB. 7 files... Done. 0:0:0\n",
      "\u001b[34m\u001b[1mwandb\u001b[0m: Downloading large artifact lgbm_meta:v17, 558.15MB. 7 files... Done. 0:0:0\n",
      "\u001b[34m\u001b[1mwandb\u001b[0m: Downloading large artifact lgbm_meta:v18, 554.43MB. 7 files... Done. 0:0:0\n",
      "\u001b[34m\u001b[1mwandb\u001b[0m: Downloading large artifact lgbm_meta:v19, 552.47MB. 7 files... Done. 0:0:0\n",
      "\u001b[34m\u001b[1mwandb\u001b[0m: Downloading large artifact xgb_meta:v3, 756.43MB. 7 files... Done. 0:0:0\n",
      "\u001b[34m\u001b[1mwandb\u001b[0m: Downloading large artifact xgb_meta:v4, 765.65MB. 7 files... Done. 0:0:0\n",
      "\u001b[34m\u001b[1mwandb\u001b[0m: Downloading large artifact xgb_meta:v8, 768.16MB. 7 files... Done. 0:0:0\n",
      "\u001b[34m\u001b[1mwandb\u001b[0m: Downloading large artifact xgb_meta:v9, 759.90MB. 7 files... Done. 0:0:0\n",
      "\u001b[34m\u001b[1mwandb\u001b[0m: Downloading large artifact xgb_meta:v10, 766.76MB. 7 files... Done. 0:0:0\n",
      "100%|██████████| 500000/500000 [00:05<00:00, 88651.92it/s]\n"
     ]
    },
    {
     "name": "stdout",
     "output_type": "stream",
     "text": [
      "| \u001b[0m 43      \u001b[0m | \u001b[0m 0.7277  \u001b[0m | \u001b[0m 0.7882  \u001b[0m | \u001b[0m 0.0433  \u001b[0m | \u001b[0m 0.4636  \u001b[0m | \u001b[0m 0.6904  \u001b[0m | \u001b[0m 0.3184  \u001b[0m | \u001b[0m 0.6782  \u001b[0m | \u001b[0m 0.6194  \u001b[0m | \u001b[0m 0.7053  \u001b[0m | \u001b[0m 0.5999  \u001b[0m | \u001b[0m 0.5501  \u001b[0m | \u001b[0m 0.8497  \u001b[0m |\n"
     ]
    },
    {
     "name": "stderr",
     "output_type": "stream",
     "text": [
      "\u001b[34m\u001b[1mwandb\u001b[0m: Downloading large artifact lgbm_meta:v11, 546.02MB. 7 files... Done. 0:0:0\n",
      "\u001b[34m\u001b[1mwandb\u001b[0m: Downloading large artifact lgbm_meta:v12, 557.04MB. 7 files... Done. 0:0:0\n",
      "\u001b[34m\u001b[1mwandb\u001b[0m: Downloading large artifact lgbm_meta:v16, 557.89MB. 7 files... Done. 0:0:0\n",
      "\u001b[34m\u001b[1mwandb\u001b[0m: Downloading large artifact lgbm_meta:v17, 558.15MB. 7 files... Done. 0:0:0\n",
      "\u001b[34m\u001b[1mwandb\u001b[0m: Downloading large artifact lgbm_meta:v18, 554.43MB. 7 files... Done. 0:0:0\n",
      "\u001b[34m\u001b[1mwandb\u001b[0m: Downloading large artifact lgbm_meta:v19, 552.47MB. 7 files... Done. 0:0:0\n",
      "\u001b[34m\u001b[1mwandb\u001b[0m: Downloading large artifact xgb_meta:v3, 756.43MB. 7 files... Done. 0:0:0\n",
      "\u001b[34m\u001b[1mwandb\u001b[0m: Downloading large artifact xgb_meta:v4, 765.65MB. 7 files... Done. 0:0:0\n",
      "\u001b[34m\u001b[1mwandb\u001b[0m: Downloading large artifact xgb_meta:v8, 768.16MB. 7 files... Done. 0:0:0\n",
      "\u001b[34m\u001b[1mwandb\u001b[0m: Downloading large artifact xgb_meta:v9, 759.90MB. 7 files... Done. 0:0:0\n",
      "\u001b[34m\u001b[1mwandb\u001b[0m: Downloading large artifact xgb_meta:v10, 766.76MB. 7 files... Done. 0:0:0\n",
      "100%|██████████| 500000/500000 [00:05<00:00, 88245.68it/s]\n"
     ]
    },
    {
     "name": "stdout",
     "output_type": "stream",
     "text": [
      "| \u001b[0m 44      \u001b[0m | \u001b[0m 0.7278  \u001b[0m | \u001b[0m 0.2357  \u001b[0m | \u001b[0m 0.8793  \u001b[0m | \u001b[0m 0.5735  \u001b[0m | \u001b[0m 0.1211  \u001b[0m | \u001b[0m 0.7159  \u001b[0m | \u001b[0m 0.9085  \u001b[0m | \u001b[0m 0.5847  \u001b[0m | \u001b[0m 0.5438  \u001b[0m | \u001b[0m 0.7454  \u001b[0m | \u001b[0m 0.7499  \u001b[0m | \u001b[0m 0.9941  \u001b[0m |\n"
     ]
    },
    {
     "name": "stderr",
     "output_type": "stream",
     "text": [
      "\u001b[34m\u001b[1mwandb\u001b[0m: Downloading large artifact lgbm_meta:v11, 546.02MB. 7 files... Done. 0:0:0\n",
      "\u001b[34m\u001b[1mwandb\u001b[0m: Downloading large artifact lgbm_meta:v12, 557.04MB. 7 files... Done. 0:0:0\n",
      "\u001b[34m\u001b[1mwandb\u001b[0m: Downloading large artifact lgbm_meta:v16, 557.89MB. 7 files... Done. 0:0:0\n",
      "\u001b[34m\u001b[1mwandb\u001b[0m: Downloading large artifact lgbm_meta:v17, 558.15MB. 7 files... Done. 0:0:0\n",
      "\u001b[34m\u001b[1mwandb\u001b[0m: Downloading large artifact lgbm_meta:v18, 554.43MB. 7 files... Done. 0:0:0\n",
      "\u001b[34m\u001b[1mwandb\u001b[0m: Downloading large artifact lgbm_meta:v19, 552.47MB. 7 files... Done. 0:0:0\n",
      "\u001b[34m\u001b[1mwandb\u001b[0m: Downloading large artifact xgb_meta:v3, 756.43MB. 7 files... Done. 0:0:0\n",
      "\u001b[34m\u001b[1mwandb\u001b[0m: Downloading large artifact xgb_meta:v4, 765.65MB. 7 files... Done. 0:0:0\n",
      "\u001b[34m\u001b[1mwandb\u001b[0m: Downloading large artifact xgb_meta:v8, 768.16MB. 7 files... Done. 0:0:0\n",
      "\u001b[34m\u001b[1mwandb\u001b[0m: Downloading large artifact xgb_meta:v9, 759.90MB. 7 files... Done. 0:0:0\n",
      "\u001b[34m\u001b[1mwandb\u001b[0m: Downloading large artifact xgb_meta:v10, 766.76MB. 7 files... Done. 0:0:0\n",
      "100%|██████████| 500000/500000 [00:05<00:00, 88081.81it/s]\n"
     ]
    },
    {
     "name": "stdout",
     "output_type": "stream",
     "text": [
      "| \u001b[0m 45      \u001b[0m | \u001b[0m 0.7277  \u001b[0m | \u001b[0m 0.214   \u001b[0m | \u001b[0m 0.8715  \u001b[0m | \u001b[0m 0.4541  \u001b[0m | \u001b[0m 0.4423  \u001b[0m | \u001b[0m 0.04722 \u001b[0m | \u001b[0m 0.6784  \u001b[0m | \u001b[0m 0.6234  \u001b[0m | \u001b[0m 0.2636  \u001b[0m | \u001b[0m 0.68    \u001b[0m | \u001b[0m 0.5031  \u001b[0m | \u001b[0m 0.6311  \u001b[0m |\n"
     ]
    },
    {
     "name": "stderr",
     "output_type": "stream",
     "text": [
      "\u001b[34m\u001b[1mwandb\u001b[0m: Downloading large artifact lgbm_meta:v11, 546.02MB. 7 files... Done. 0:0:0\n",
      "\u001b[34m\u001b[1mwandb\u001b[0m: Downloading large artifact lgbm_meta:v12, 557.04MB. 7 files... Done. 0:0:0\n",
      "\u001b[34m\u001b[1mwandb\u001b[0m: Downloading large artifact lgbm_meta:v16, 557.89MB. 7 files... Done. 0:0:0\n",
      "\u001b[34m\u001b[1mwandb\u001b[0m: Downloading large artifact lgbm_meta:v17, 558.15MB. 7 files... Done. 0:0:0\n",
      "\u001b[34m\u001b[1mwandb\u001b[0m: Downloading large artifact lgbm_meta:v18, 554.43MB. 7 files... Done. 0:0:0\n",
      "\u001b[34m\u001b[1mwandb\u001b[0m: Downloading large artifact lgbm_meta:v19, 552.47MB. 7 files... Done. 0:0:0\n",
      "\u001b[34m\u001b[1mwandb\u001b[0m: Downloading large artifact xgb_meta:v3, 756.43MB. 7 files... Done. 0:0:0\n",
      "\u001b[34m\u001b[1mwandb\u001b[0m: Downloading large artifact xgb_meta:v4, 765.65MB. 7 files... Done. 0:0:0\n",
      "\u001b[34m\u001b[1mwandb\u001b[0m: Downloading large artifact xgb_meta:v8, 768.16MB. 7 files... Done. 0:0:0\n",
      "\u001b[34m\u001b[1mwandb\u001b[0m: Downloading large artifact xgb_meta:v9, 759.90MB. 7 files... Done. 0:0:0\n",
      "\u001b[34m\u001b[1mwandb\u001b[0m: Downloading large artifact xgb_meta:v10, 766.76MB. 7 files... Done. 0:0:0\n",
      "100%|██████████| 500000/500000 [00:05<00:00, 88617.78it/s]\n"
     ]
    },
    {
     "name": "stdout",
     "output_type": "stream",
     "text": [
      "| \u001b[0m 46      \u001b[0m | \u001b[0m 0.7277  \u001b[0m | \u001b[0m 0.2796  \u001b[0m | \u001b[0m 0.7269  \u001b[0m | \u001b[0m 0.2351  \u001b[0m | \u001b[0m 0.4109  \u001b[0m | \u001b[0m 0.1734  \u001b[0m | \u001b[0m 0.5852  \u001b[0m | \u001b[0m 0.8031  \u001b[0m | \u001b[0m 0.2325  \u001b[0m | \u001b[0m 0.9607  \u001b[0m | \u001b[0m 0.5035  \u001b[0m | \u001b[0m 0.2564  \u001b[0m |\n"
     ]
    },
    {
     "name": "stderr",
     "output_type": "stream",
     "text": [
      "\u001b[34m\u001b[1mwandb\u001b[0m: Downloading large artifact lgbm_meta:v11, 546.02MB. 7 files... Done. 0:0:0\n",
      "\u001b[34m\u001b[1mwandb\u001b[0m: Downloading large artifact lgbm_meta:v12, 557.04MB. 7 files... Done. 0:0:0\n",
      "\u001b[34m\u001b[1mwandb\u001b[0m: Downloading large artifact lgbm_meta:v16, 557.89MB. 7 files... Done. 0:0:0\n",
      "\u001b[34m\u001b[1mwandb\u001b[0m: Downloading large artifact lgbm_meta:v17, 558.15MB. 7 files... Done. 0:0:0\n",
      "\u001b[34m\u001b[1mwandb\u001b[0m: Downloading large artifact lgbm_meta:v18, 554.43MB. 7 files... Done. 0:0:0\n",
      "\u001b[34m\u001b[1mwandb\u001b[0m: Downloading large artifact lgbm_meta:v19, 552.47MB. 7 files... Done. 0:0:0\n",
      "\u001b[34m\u001b[1mwandb\u001b[0m: Downloading large artifact xgb_meta:v3, 756.43MB. 7 files... Done. 0:0:0\n",
      "\u001b[34m\u001b[1mwandb\u001b[0m: Downloading large artifact xgb_meta:v4, 765.65MB. 7 files... Done. 0:0:0\n",
      "\u001b[34m\u001b[1mwandb\u001b[0m: Downloading large artifact xgb_meta:v8, 768.16MB. 7 files... Done. 0:0:0\n",
      "\u001b[34m\u001b[1mwandb\u001b[0m: Downloading large artifact xgb_meta:v9, 759.90MB. 7 files... Done. 0:0:0\n",
      "\u001b[34m\u001b[1mwandb\u001b[0m: Downloading large artifact xgb_meta:v10, 766.76MB. 7 files... Done. 0:0:0\n",
      "100%|██████████| 500000/500000 [00:05<00:00, 88699.29it/s]\n"
     ]
    },
    {
     "name": "stdout",
     "output_type": "stream",
     "text": [
      "| \u001b[0m 47      \u001b[0m | \u001b[0m 0.7277  \u001b[0m | \u001b[0m 0.2051  \u001b[0m | \u001b[0m 0.9572  \u001b[0m | \u001b[0m 0.5048  \u001b[0m | \u001b[0m 0.7385  \u001b[0m | \u001b[0m 0.709   \u001b[0m | \u001b[0m 0.4952  \u001b[0m | \u001b[0m 0.3852  \u001b[0m | \u001b[0m 0.5154  \u001b[0m | \u001b[0m 0.1809  \u001b[0m | \u001b[0m 0.4666  \u001b[0m | \u001b[0m 0.5098  \u001b[0m |\n"
     ]
    },
    {
     "name": "stderr",
     "output_type": "stream",
     "text": [
      "\u001b[34m\u001b[1mwandb\u001b[0m: Downloading large artifact lgbm_meta:v11, 546.02MB. 7 files... Done. 0:0:0\n",
      "\u001b[34m\u001b[1mwandb\u001b[0m: Downloading large artifact lgbm_meta:v12, 557.04MB. 7 files... Done. 0:0:0\n",
      "\u001b[34m\u001b[1mwandb\u001b[0m: Downloading large artifact lgbm_meta:v16, 557.89MB. 7 files... Done. 0:0:0\n",
      "\u001b[34m\u001b[1mwandb\u001b[0m: Downloading large artifact lgbm_meta:v17, 558.15MB. 7 files... Done. 0:0:0\n",
      "\u001b[34m\u001b[1mwandb\u001b[0m: Downloading large artifact lgbm_meta:v18, 554.43MB. 7 files... Done. 0:0:0\n",
      "\u001b[34m\u001b[1mwandb\u001b[0m: Downloading large artifact lgbm_meta:v19, 552.47MB. 7 files... Done. 0:0:0\n",
      "\u001b[34m\u001b[1mwandb\u001b[0m: Downloading large artifact xgb_meta:v3, 756.43MB. 7 files... Done. 0:0:0\n",
      "\u001b[34m\u001b[1mwandb\u001b[0m: Downloading large artifact xgb_meta:v4, 765.65MB. 7 files... Done. 0:0:0\n",
      "\u001b[34m\u001b[1mwandb\u001b[0m: Downloading large artifact xgb_meta:v8, 768.16MB. 7 files... Done. 0:0:0\n",
      "\u001b[34m\u001b[1mwandb\u001b[0m: Downloading large artifact xgb_meta:v9, 759.90MB. 7 files... Done. 0:0:0\n",
      "\u001b[34m\u001b[1mwandb\u001b[0m: Downloading large artifact xgb_meta:v10, 766.76MB. 7 files... Done. 0:0:0\n",
      "100%|██████████| 500000/500000 [00:05<00:00, 85670.99it/s]\n"
     ]
    },
    {
     "name": "stdout",
     "output_type": "stream",
     "text": [
      "| \u001b[0m 48      \u001b[0m | \u001b[0m 0.7278  \u001b[0m | \u001b[0m 0.4453  \u001b[0m | \u001b[0m 0.1118  \u001b[0m | \u001b[0m 0.4287  \u001b[0m | \u001b[0m 0.2872  \u001b[0m | \u001b[0m 0.5137  \u001b[0m | \u001b[0m 0.7502  \u001b[0m | \u001b[0m 0.9079  \u001b[0m | \u001b[0m 0.7463  \u001b[0m | \u001b[0m 0.829   \u001b[0m | \u001b[0m 0.7972  \u001b[0m | \u001b[0m 0.04022 \u001b[0m |\n"
     ]
    },
    {
     "name": "stderr",
     "output_type": "stream",
     "text": [
      "\u001b[34m\u001b[1mwandb\u001b[0m: Downloading large artifact lgbm_meta:v11, 546.02MB. 7 files... Done. 0:0:0\n",
      "\u001b[34m\u001b[1mwandb\u001b[0m: Downloading large artifact lgbm_meta:v12, 557.04MB. 7 files... Done. 0:0:0\n",
      "\u001b[34m\u001b[1mwandb\u001b[0m: Downloading large artifact lgbm_meta:v16, 557.89MB. 7 files... Done. 0:0:0\n",
      "\u001b[34m\u001b[1mwandb\u001b[0m: Downloading large artifact lgbm_meta:v17, 558.15MB. 7 files... Done. 0:0:0\n",
      "\u001b[34m\u001b[1mwandb\u001b[0m: Downloading large artifact lgbm_meta:v18, 554.43MB. 7 files... Done. 0:0:0\n",
      "\u001b[34m\u001b[1mwandb\u001b[0m: Downloading large artifact lgbm_meta:v19, 552.47MB. 7 files... Done. 0:0:0\n",
      "\u001b[34m\u001b[1mwandb\u001b[0m: Downloading large artifact xgb_meta:v3, 756.43MB. 7 files... Done. 0:0:0\n",
      "\u001b[34m\u001b[1mwandb\u001b[0m: Downloading large artifact xgb_meta:v4, 765.65MB. 7 files... Done. 0:0:0\n",
      "\u001b[34m\u001b[1mwandb\u001b[0m: Downloading large artifact xgb_meta:v8, 768.16MB. 7 files... Done. 0:0:0\n",
      "\u001b[34m\u001b[1mwandb\u001b[0m: Downloading large artifact xgb_meta:v9, 759.90MB. 7 files... Done. 0:0:0\n",
      "\u001b[34m\u001b[1mwandb\u001b[0m: Downloading large artifact xgb_meta:v10, 766.76MB. 7 files... Done. 0:0:0\n",
      "100%|██████████| 500000/500000 [00:05<00:00, 88640.20it/s]\n"
     ]
    },
    {
     "name": "stdout",
     "output_type": "stream",
     "text": [
      "| \u001b[0m 49      \u001b[0m | \u001b[0m 0.7279  \u001b[0m | \u001b[0m 0.7409  \u001b[0m | \u001b[0m 0.1003  \u001b[0m | \u001b[0m 0.3832  \u001b[0m | \u001b[0m 0.1006  \u001b[0m | \u001b[0m 0.849   \u001b[0m | \u001b[0m 0.5382  \u001b[0m | \u001b[0m 0.2349  \u001b[0m | \u001b[0m 0.2105  \u001b[0m | \u001b[0m 0.7937  \u001b[0m | \u001b[0m 0.1156  \u001b[0m | \u001b[0m 0.2904  \u001b[0m |\n"
     ]
    },
    {
     "name": "stderr",
     "output_type": "stream",
     "text": [
      "\u001b[34m\u001b[1mwandb\u001b[0m: Downloading large artifact lgbm_meta:v11, 546.02MB. 7 files... Done. 0:0:0\n",
      "\u001b[34m\u001b[1mwandb\u001b[0m: Downloading large artifact lgbm_meta:v12, 557.04MB. 7 files... Done. 0:0:0\n",
      "\u001b[34m\u001b[1mwandb\u001b[0m: Downloading large artifact lgbm_meta:v16, 557.89MB. 7 files... Done. 0:0:0\n",
      "\u001b[34m\u001b[1mwandb\u001b[0m: Downloading large artifact lgbm_meta:v17, 558.15MB. 7 files... Done. 0:0:0\n",
      "\u001b[34m\u001b[1mwandb\u001b[0m: Downloading large artifact lgbm_meta:v18, 554.43MB. 7 files... Done. 0:0:0\n",
      "\u001b[34m\u001b[1mwandb\u001b[0m: Downloading large artifact lgbm_meta:v19, 552.47MB. 7 files... Done. 0:0:0\n",
      "\u001b[34m\u001b[1mwandb\u001b[0m: Downloading large artifact xgb_meta:v3, 756.43MB. 7 files... Done. 0:0:0\n",
      "\u001b[34m\u001b[1mwandb\u001b[0m: Downloading large artifact xgb_meta:v4, 765.65MB. 7 files... Done. 0:0:0\n",
      "\u001b[34m\u001b[1mwandb\u001b[0m: Downloading large artifact xgb_meta:v8, 768.16MB. 7 files... Done. 0:0:0\n",
      "\u001b[34m\u001b[1mwandb\u001b[0m: Downloading large artifact xgb_meta:v9, 759.90MB. 7 files... Done. 0:0:0\n",
      "\u001b[34m\u001b[1mwandb\u001b[0m: Downloading large artifact xgb_meta:v10, 766.76MB. 7 files... Done. 0:0:0\n",
      "100%|██████████| 500000/500000 [00:05<00:00, 86589.47it/s]\n"
     ]
    },
    {
     "name": "stdout",
     "output_type": "stream",
     "text": [
      "| \u001b[0m 50      \u001b[0m | \u001b[0m 0.7278  \u001b[0m | \u001b[0m 0.2161  \u001b[0m | \u001b[0m 0.08771 \u001b[0m | \u001b[0m 0.9573  \u001b[0m | \u001b[0m 0.8204  \u001b[0m | \u001b[0m 0.8693  \u001b[0m | \u001b[0m 0.9852  \u001b[0m | \u001b[0m 0.1725  \u001b[0m | \u001b[0m 0.753   \u001b[0m | \u001b[0m 0.9393  \u001b[0m | \u001b[0m 0.4919  \u001b[0m | \u001b[0m 0.4581  \u001b[0m |\n"
     ]
    },
    {
     "name": "stderr",
     "output_type": "stream",
     "text": [
      "\u001b[34m\u001b[1mwandb\u001b[0m: Downloading large artifact lgbm_meta:v11, 546.02MB. 7 files... Done. 0:0:0\n",
      "\u001b[34m\u001b[1mwandb\u001b[0m: Downloading large artifact lgbm_meta:v12, 557.04MB. 7 files... Done. 0:0:0\n",
      "\u001b[34m\u001b[1mwandb\u001b[0m: Downloading large artifact lgbm_meta:v16, 557.89MB. 7 files... Done. 0:0:0\n",
      "\u001b[34m\u001b[1mwandb\u001b[0m: Downloading large artifact lgbm_meta:v17, 558.15MB. 7 files... Done. 0:0:0\n",
      "\u001b[34m\u001b[1mwandb\u001b[0m: Downloading large artifact lgbm_meta:v18, 554.43MB. 7 files... Done. 0:0:0\n",
      "\u001b[34m\u001b[1mwandb\u001b[0m: Downloading large artifact lgbm_meta:v19, 552.47MB. 7 files... Done. 0:0:0\n",
      "\u001b[34m\u001b[1mwandb\u001b[0m: Downloading large artifact xgb_meta:v3, 756.43MB. 7 files... Done. 0:0:0\n",
      "\u001b[34m\u001b[1mwandb\u001b[0m: Downloading large artifact xgb_meta:v4, 765.65MB. 7 files... Done. 0:0:0\n",
      "\u001b[34m\u001b[1mwandb\u001b[0m: Downloading large artifact xgb_meta:v8, 768.16MB. 7 files... Done. 0:0:0\n",
      "\u001b[34m\u001b[1mwandb\u001b[0m: Downloading large artifact xgb_meta:v9, 759.90MB. 7 files... Done. 0:0:0\n",
      "\u001b[34m\u001b[1mwandb\u001b[0m: Downloading large artifact xgb_meta:v10, 766.76MB. 7 files... Done. 0:0:0\n",
      "100%|██████████| 500000/500000 [00:05<00:00, 89125.13it/s]\n"
     ]
    },
    {
     "name": "stdout",
     "output_type": "stream",
     "text": [
      "| \u001b[95m 51      \u001b[0m | \u001b[95m 0.7279  \u001b[0m | \u001b[95m 0.0     \u001b[0m | \u001b[95m 0.0     \u001b[0m | \u001b[95m 0.4904  \u001b[0m | \u001b[95m 0.1496  \u001b[0m | \u001b[95m 1.0     \u001b[0m | \u001b[95m 0.6757  \u001b[0m | \u001b[95m 0.5476  \u001b[0m | \u001b[95m 0.1409  \u001b[0m | \u001b[95m 1.0     \u001b[0m | \u001b[95m 0.0     \u001b[0m | \u001b[95m 1.0     \u001b[0m |\n"
     ]
    },
    {
     "name": "stderr",
     "output_type": "stream",
     "text": [
      "\u001b[34m\u001b[1mwandb\u001b[0m: Downloading large artifact lgbm_meta:v11, 546.02MB. 7 files... Done. 0:0:0\n",
      "\u001b[34m\u001b[1mwandb\u001b[0m: Downloading large artifact lgbm_meta:v12, 557.04MB. 7 files... Done. 0:0:0\n",
      "\u001b[34m\u001b[1mwandb\u001b[0m: Downloading large artifact lgbm_meta:v16, 557.89MB. 7 files... Done. 0:0:0\n",
      "\u001b[34m\u001b[1mwandb\u001b[0m: Downloading large artifact lgbm_meta:v17, 558.15MB. 7 files... Done. 0:0:0\n",
      "\u001b[34m\u001b[1mwandb\u001b[0m: Downloading large artifact lgbm_meta:v18, 554.43MB. 7 files... Done. 0:0:0\n",
      "\u001b[34m\u001b[1mwandb\u001b[0m: Downloading large artifact lgbm_meta:v19, 552.47MB. 7 files... Done. 0:0:0\n",
      "\u001b[34m\u001b[1mwandb\u001b[0m: Downloading large artifact xgb_meta:v3, 756.43MB. 7 files... Done. 0:0:0\n",
      "\u001b[34m\u001b[1mwandb\u001b[0m: Downloading large artifact xgb_meta:v4, 765.65MB. 7 files... Done. 0:0:0\n",
      "\u001b[34m\u001b[1mwandb\u001b[0m: Downloading large artifact xgb_meta:v8, 768.16MB. 7 files... Done. 0:0:0\n",
      "\u001b[34m\u001b[1mwandb\u001b[0m: Downloading large artifact xgb_meta:v9, 759.90MB. 7 files... Done. 0:0:0\n",
      "\u001b[34m\u001b[1mwandb\u001b[0m: Downloading large artifact xgb_meta:v10, 766.76MB. 7 files... Done. 0:0:0\n",
      "100%|██████████| 500000/500000 [00:05<00:00, 87591.10it/s]\n"
     ]
    },
    {
     "name": "stdout",
     "output_type": "stream",
     "text": [
      "| \u001b[0m 52      \u001b[0m | \u001b[0m 0.7279  \u001b[0m | \u001b[0m 0.0     \u001b[0m | \u001b[0m 0.0     \u001b[0m | \u001b[0m 0.0     \u001b[0m | \u001b[0m 0.4421  \u001b[0m | \u001b[0m 1.0     \u001b[0m | \u001b[0m 0.7764  \u001b[0m | \u001b[0m 0.0     \u001b[0m | \u001b[0m 0.0     \u001b[0m | \u001b[0m 1.0     \u001b[0m | \u001b[0m 0.0     \u001b[0m | \u001b[0m 1.0     \u001b[0m |\n"
     ]
    },
    {
     "name": "stderr",
     "output_type": "stream",
     "text": [
      "\u001b[34m\u001b[1mwandb\u001b[0m: Downloading large artifact lgbm_meta:v11, 546.02MB. 7 files... Done. 0:0:0\n",
      "\u001b[34m\u001b[1mwandb\u001b[0m: Downloading large artifact lgbm_meta:v12, 557.04MB. 7 files... Done. 0:0:0\n",
      "\u001b[34m\u001b[1mwandb\u001b[0m: Downloading large artifact lgbm_meta:v16, 557.89MB. 7 files... Done. 0:0:0\n",
      "\u001b[34m\u001b[1mwandb\u001b[0m: Downloading large artifact lgbm_meta:v17, 558.15MB. 7 files... Done. 0:0:0\n",
      "\u001b[34m\u001b[1mwandb\u001b[0m: Downloading large artifact lgbm_meta:v18, 554.43MB. 7 files... Done. 0:0:0\n",
      "\u001b[34m\u001b[1mwandb\u001b[0m: Downloading large artifact lgbm_meta:v19, 552.47MB. 7 files... Done. 0:0:0\n",
      "\u001b[34m\u001b[1mwandb\u001b[0m: Downloading large artifact xgb_meta:v3, 756.43MB. 7 files... Done. 0:0:0\n",
      "\u001b[34m\u001b[1mwandb\u001b[0m: Downloading large artifact xgb_meta:v4, 765.65MB. 7 files... Done. 0:0:0\n",
      "\u001b[34m\u001b[1mwandb\u001b[0m: Downloading large artifact xgb_meta:v8, 768.16MB. 7 files... Done. 0:0:0\n",
      "\u001b[34m\u001b[1mwandb\u001b[0m: Downloading large artifact xgb_meta:v9, 759.90MB. 7 files... Done. 0:0:0\n",
      "\u001b[34m\u001b[1mwandb\u001b[0m: Downloading large artifact xgb_meta:v10, 766.76MB. 7 files... Done. 0:0:0\n",
      "100%|██████████| 500000/500000 [00:05<00:00, 88587.06it/s]\n"
     ]
    },
    {
     "name": "stdout",
     "output_type": "stream",
     "text": [
      "| \u001b[0m 53      \u001b[0m | \u001b[0m 0.7279  \u001b[0m | \u001b[0m 0.0     \u001b[0m | \u001b[0m 0.0     \u001b[0m | \u001b[0m 0.0     \u001b[0m | \u001b[0m 0.4822  \u001b[0m | \u001b[0m 1.0     \u001b[0m | \u001b[0m 1.0     \u001b[0m | \u001b[0m 0.7855  \u001b[0m | \u001b[0m 0.3104  \u001b[0m | \u001b[0m 1.0     \u001b[0m | \u001b[0m 0.0     \u001b[0m | \u001b[0m 1.0     \u001b[0m |\n"
     ]
    },
    {
     "name": "stderr",
     "output_type": "stream",
     "text": [
      "\u001b[34m\u001b[1mwandb\u001b[0m: Downloading large artifact lgbm_meta:v11, 546.02MB. 7 files... Done. 0:0:0\n",
      "\u001b[34m\u001b[1mwandb\u001b[0m: Downloading large artifact lgbm_meta:v12, 557.04MB. 7 files... Done. 0:0:0\n",
      "\u001b[34m\u001b[1mwandb\u001b[0m: Downloading large artifact lgbm_meta:v16, 557.89MB. 7 files... Done. 0:0:0\n",
      "\u001b[34m\u001b[1mwandb\u001b[0m: Downloading large artifact lgbm_meta:v17, 558.15MB. 7 files... Done. 0:0:0\n",
      "\u001b[34m\u001b[1mwandb\u001b[0m: Downloading large artifact lgbm_meta:v18, 554.43MB. 7 files... Done. 0:0:0\n",
      "\u001b[34m\u001b[1mwandb\u001b[0m: Downloading large artifact lgbm_meta:v19, 552.47MB. 7 files... Done. 0:0:0\n",
      "\u001b[34m\u001b[1mwandb\u001b[0m: Downloading large artifact xgb_meta:v3, 756.43MB. 7 files... Done. 0:0:0\n",
      "\u001b[34m\u001b[1mwandb\u001b[0m: Downloading large artifact xgb_meta:v4, 765.65MB. 7 files... Done. 0:0:0\n",
      "\u001b[34m\u001b[1mwandb\u001b[0m: Downloading large artifact xgb_meta:v8, 768.16MB. 7 files... Done. 0:0:0\n",
      "\u001b[34m\u001b[1mwandb\u001b[0m: Downloading large artifact xgb_meta:v9, 759.90MB. 7 files... Done. 0:0:0\n",
      "\u001b[34m\u001b[1mwandb\u001b[0m: Downloading large artifact xgb_meta:v10, 766.76MB. 7 files... Done. 0:0:0\n",
      "100%|██████████| 500000/500000 [00:05<00:00, 88527.97it/s]\n"
     ]
    },
    {
     "name": "stdout",
     "output_type": "stream",
     "text": [
      "| \u001b[95m 54      \u001b[0m | \u001b[95m 0.728   \u001b[0m | \u001b[95m 0.0     \u001b[0m | \u001b[95m 0.0     \u001b[0m | \u001b[95m 0.1299  \u001b[0m | \u001b[95m 0.0     \u001b[0m | \u001b[95m 1.0     \u001b[0m | \u001b[95m 0.3467  \u001b[0m | \u001b[95m 0.0     \u001b[0m | \u001b[95m 0.5162  \u001b[0m | \u001b[95m 1.0     \u001b[0m | \u001b[95m 0.0     \u001b[0m | \u001b[95m 1.0     \u001b[0m |\n"
     ]
    },
    {
     "name": "stderr",
     "output_type": "stream",
     "text": [
      "\u001b[34m\u001b[1mwandb\u001b[0m: Downloading large artifact lgbm_meta:v11, 546.02MB. 7 files... Done. 0:0:0\n",
      "\u001b[34m\u001b[1mwandb\u001b[0m: Downloading large artifact lgbm_meta:v12, 557.04MB. 7 files... Done. 0:0:0\n",
      "\u001b[34m\u001b[1mwandb\u001b[0m: Downloading large artifact lgbm_meta:v16, 557.89MB. 7 files... Done. 0:0:0\n",
      "\u001b[34m\u001b[1mwandb\u001b[0m: Downloading large artifact lgbm_meta:v17, 558.15MB. 7 files... Done. 0:0:0\n",
      "\u001b[34m\u001b[1mwandb\u001b[0m: Downloading large artifact lgbm_meta:v18, 554.43MB. 7 files... Done. 0:0:0\n",
      "\u001b[34m\u001b[1mwandb\u001b[0m: Downloading large artifact lgbm_meta:v19, 552.47MB. 7 files... Done. 0:0:0\n",
      "\u001b[34m\u001b[1mwandb\u001b[0m: Downloading large artifact xgb_meta:v3, 756.43MB. 7 files... Done. 0:0:0\n",
      "\u001b[34m\u001b[1mwandb\u001b[0m: Downloading large artifact xgb_meta:v4, 765.65MB. 7 files... Done. 0:0:0\n",
      "\u001b[34m\u001b[1mwandb\u001b[0m: Downloading large artifact xgb_meta:v8, 768.16MB. 7 files... Done. 0:0:0\n",
      "\u001b[34m\u001b[1mwandb\u001b[0m: Downloading large artifact xgb_meta:v9, 759.90MB. 7 files... Done. 0:0:0\n",
      "\u001b[34m\u001b[1mwandb\u001b[0m: Downloading large artifact xgb_meta:v10, 766.76MB. 7 files... Done. 0:0:0\n",
      "100%|██████████| 500000/500000 [00:05<00:00, 87704.96it/s]\n"
     ]
    },
    {
     "name": "stdout",
     "output_type": "stream",
     "text": [
      "| \u001b[0m 55      \u001b[0m | \u001b[0m 0.728   \u001b[0m | \u001b[0m 0.0     \u001b[0m | \u001b[0m 0.0     \u001b[0m | \u001b[0m 0.0     \u001b[0m | \u001b[0m 0.0     \u001b[0m | \u001b[0m 1.0     \u001b[0m | \u001b[0m 0.4323  \u001b[0m | \u001b[0m 0.0     \u001b[0m | \u001b[0m 1.0     \u001b[0m | \u001b[0m 1.0     \u001b[0m | \u001b[0m 0.0     \u001b[0m | \u001b[0m 1.0     \u001b[0m |\n"
     ]
    },
    {
     "name": "stderr",
     "output_type": "stream",
     "text": [
      "\u001b[34m\u001b[1mwandb\u001b[0m: Downloading large artifact lgbm_meta:v11, 546.02MB. 7 files... Done. 0:0:0\n",
      "\u001b[34m\u001b[1mwandb\u001b[0m: Downloading large artifact lgbm_meta:v12, 557.04MB. 7 files... Done. 0:0:0\n",
      "\u001b[34m\u001b[1mwandb\u001b[0m: Downloading large artifact lgbm_meta:v16, 557.89MB. 7 files... Done. 0:0:0\n",
      "\u001b[34m\u001b[1mwandb\u001b[0m: Downloading large artifact lgbm_meta:v17, 558.15MB. 7 files... Done. 0:0:0\n",
      "\u001b[34m\u001b[1mwandb\u001b[0m: Downloading large artifact lgbm_meta:v18, 554.43MB. 7 files... Done. 0:0:0\n",
      "\u001b[34m\u001b[1mwandb\u001b[0m: Downloading large artifact lgbm_meta:v19, 552.47MB. 7 files... Done. 0:0:0\n",
      "\u001b[34m\u001b[1mwandb\u001b[0m: Downloading large artifact xgb_meta:v3, 756.43MB. 7 files... Done. 0:0:0\n",
      "\u001b[34m\u001b[1mwandb\u001b[0m: Downloading large artifact xgb_meta:v4, 765.65MB. 7 files... Done. 0:0:0\n",
      "\u001b[34m\u001b[1mwandb\u001b[0m: Downloading large artifact xgb_meta:v8, 768.16MB. 7 files... Done. 0:0:0\n",
      "\u001b[34m\u001b[1mwandb\u001b[0m: Downloading large artifact xgb_meta:v9, 759.90MB. 7 files... Done. 0:0:0\n",
      "\u001b[34m\u001b[1mwandb\u001b[0m: Downloading large artifact xgb_meta:v10, 766.76MB. 7 files... Done. 0:0:0\n",
      "100%|██████████| 500000/500000 [00:05<00:00, 89020.02it/s]\n"
     ]
    },
    {
     "name": "stdout",
     "output_type": "stream",
     "text": [
      "| \u001b[0m 56      \u001b[0m | \u001b[0m 0.728   \u001b[0m | \u001b[0m 0.0     \u001b[0m | \u001b[0m 0.0     \u001b[0m | \u001b[0m 0.7285  \u001b[0m | \u001b[0m 0.0     \u001b[0m | \u001b[0m 1.0     \u001b[0m | \u001b[0m 0.0     \u001b[0m | \u001b[0m 0.0     \u001b[0m | \u001b[0m 0.4855  \u001b[0m | \u001b[0m 1.0     \u001b[0m | \u001b[0m 0.0     \u001b[0m | \u001b[0m 1.0     \u001b[0m |\n"
     ]
    },
    {
     "name": "stderr",
     "output_type": "stream",
     "text": [
      "\u001b[34m\u001b[1mwandb\u001b[0m: Downloading large artifact lgbm_meta:v11, 546.02MB. 7 files... Done. 0:0:0\n",
      "\u001b[34m\u001b[1mwandb\u001b[0m: Downloading large artifact lgbm_meta:v12, 557.04MB. 7 files... Done. 0:0:0\n",
      "\u001b[34m\u001b[1mwandb\u001b[0m: Downloading large artifact lgbm_meta:v16, 557.89MB. 7 files... Done. 0:0:0\n",
      "\u001b[34m\u001b[1mwandb\u001b[0m: Downloading large artifact lgbm_meta:v17, 558.15MB. 7 files... Done. 0:0:0\n",
      "\u001b[34m\u001b[1mwandb\u001b[0m: Downloading large artifact lgbm_meta:v18, 554.43MB. 7 files... Done. 0:0:0\n",
      "\u001b[34m\u001b[1mwandb\u001b[0m: Downloading large artifact lgbm_meta:v19, 552.47MB. 7 files... Done. 0:0:0\n",
      "\u001b[34m\u001b[1mwandb\u001b[0m: Downloading large artifact xgb_meta:v3, 756.43MB. 7 files... Done. 0:0:0\n",
      "\u001b[34m\u001b[1mwandb\u001b[0m: Downloading large artifact xgb_meta:v4, 765.65MB. 7 files... Done. 0:0:0\n",
      "\u001b[34m\u001b[1mwandb\u001b[0m: Downloading large artifact xgb_meta:v8, 768.16MB. 7 files... Done. 0:0:0\n",
      "\u001b[34m\u001b[1mwandb\u001b[0m: Downloading large artifact xgb_meta:v9, 759.90MB. 7 files... Done. 0:0:0\n",
      "\u001b[34m\u001b[1mwandb\u001b[0m: Downloading large artifact xgb_meta:v10, 766.76MB. 7 files... Done. 0:0:0\n",
      "100%|██████████| 500000/500000 [00:05<00:00, 89197.92it/s]\n"
     ]
    },
    {
     "name": "stdout",
     "output_type": "stream",
     "text": [
      "| \u001b[95m 57      \u001b[0m | \u001b[95m 0.728   \u001b[0m | \u001b[95m 0.09756 \u001b[0m | \u001b[95m 0.0     \u001b[0m | \u001b[95m 0.0     \u001b[0m | \u001b[95m 0.0     \u001b[0m | \u001b[95m 1.0     \u001b[0m | \u001b[95m 0.0     \u001b[0m | \u001b[95m 0.0     \u001b[0m | \u001b[95m 0.2341  \u001b[0m | \u001b[95m 1.0     \u001b[0m | \u001b[95m 0.0     \u001b[0m | \u001b[95m 1.0     \u001b[0m |\n"
     ]
    },
    {
     "name": "stderr",
     "output_type": "stream",
     "text": [
      "\u001b[34m\u001b[1mwandb\u001b[0m: Downloading large artifact lgbm_meta:v11, 546.02MB. 7 files... Done. 0:0:0\n",
      "\u001b[34m\u001b[1mwandb\u001b[0m: Downloading large artifact lgbm_meta:v12, 557.04MB. 7 files... Done. 0:0:0\n",
      "\u001b[34m\u001b[1mwandb\u001b[0m: Downloading large artifact lgbm_meta:v16, 557.89MB. 7 files... Done. 0:0:0\n",
      "\u001b[34m\u001b[1mwandb\u001b[0m: Downloading large artifact lgbm_meta:v17, 558.15MB. 7 files... Done. 0:0:0\n",
      "\u001b[34m\u001b[1mwandb\u001b[0m: Downloading large artifact lgbm_meta:v18, 554.43MB. 7 files... Done. 0:0:0\n",
      "\u001b[34m\u001b[1mwandb\u001b[0m: Downloading large artifact lgbm_meta:v19, 552.47MB. 7 files... Done. 0:0:0\n",
      "\u001b[34m\u001b[1mwandb\u001b[0m: Downloading large artifact xgb_meta:v3, 756.43MB. 7 files... Done. 0:0:0\n",
      "\u001b[34m\u001b[1mwandb\u001b[0m: Downloading large artifact xgb_meta:v4, 765.65MB. 7 files... Done. 0:0:0\n",
      "\u001b[34m\u001b[1mwandb\u001b[0m: Downloading large artifact xgb_meta:v8, 768.16MB. 7 files... Done. 0:0:0\n",
      "\u001b[34m\u001b[1mwandb\u001b[0m: Downloading large artifact xgb_meta:v9, 759.90MB. 7 files... Done. 0:0:0\n",
      "\u001b[34m\u001b[1mwandb\u001b[0m: Downloading large artifact xgb_meta:v10, 766.76MB. 7 files... Done. 0:0:0\n",
      "100%|██████████| 500000/500000 [00:05<00:00, 89248.54it/s]\n"
     ]
    },
    {
     "name": "stdout",
     "output_type": "stream",
     "text": [
      "| \u001b[0m 58      \u001b[0m | \u001b[0m 0.728   \u001b[0m | \u001b[0m 0.5631  \u001b[0m | \u001b[0m 0.0     \u001b[0m | \u001b[0m 0.3459  \u001b[0m | \u001b[0m 0.0     \u001b[0m | \u001b[0m 1.0     \u001b[0m | \u001b[0m 0.0     \u001b[0m | \u001b[0m 0.0     \u001b[0m | \u001b[0m 0.2892  \u001b[0m | \u001b[0m 1.0     \u001b[0m | \u001b[0m 0.0     \u001b[0m | \u001b[0m 1.0     \u001b[0m |\n"
     ]
    },
    {
     "name": "stderr",
     "output_type": "stream",
     "text": [
      "\u001b[34m\u001b[1mwandb\u001b[0m: Downloading large artifact lgbm_meta:v11, 546.02MB. 7 files... Done. 0:0:0\n",
      "\u001b[34m\u001b[1mwandb\u001b[0m: Downloading large artifact lgbm_meta:v12, 557.04MB. 7 files... Done. 0:0:0\n",
      "\u001b[34m\u001b[1mwandb\u001b[0m: Downloading large artifact lgbm_meta:v16, 557.89MB. 7 files... Done. 0:0:0\n",
      "\u001b[34m\u001b[1mwandb\u001b[0m: Downloading large artifact lgbm_meta:v17, 558.15MB. 7 files... Done. 0:0:0\n",
      "\u001b[34m\u001b[1mwandb\u001b[0m: Downloading large artifact lgbm_meta:v18, 554.43MB. 7 files... Done. 0:0:0\n",
      "\u001b[34m\u001b[1mwandb\u001b[0m: Downloading large artifact lgbm_meta:v19, 552.47MB. 7 files... Done. 0:0:0\n",
      "\u001b[34m\u001b[1mwandb\u001b[0m: Downloading large artifact xgb_meta:v3, 756.43MB. 7 files... Done. 0:0:0\n",
      "\u001b[34m\u001b[1mwandb\u001b[0m: Downloading large artifact xgb_meta:v4, 765.65MB. 7 files... Done. 0:0:0\n",
      "\u001b[34m\u001b[1mwandb\u001b[0m: Downloading large artifact xgb_meta:v8, 768.16MB. 7 files... Done. 0:0:0\n",
      "\u001b[34m\u001b[1mwandb\u001b[0m: Downloading large artifact xgb_meta:v9, 759.90MB. 7 files... Done. 0:0:0\n",
      "\u001b[34m\u001b[1mwandb\u001b[0m: Downloading large artifact xgb_meta:v10, 766.76MB. 7 files... Done. 0:0:0\n",
      "100%|██████████| 500000/500000 [00:05<00:00, 87882.55it/s]\n"
     ]
    },
    {
     "name": "stdout",
     "output_type": "stream",
     "text": [
      "| \u001b[0m 59      \u001b[0m | \u001b[0m 0.728   \u001b[0m | \u001b[0m 0.0     \u001b[0m | \u001b[0m 0.0     \u001b[0m | \u001b[0m 0.0     \u001b[0m | \u001b[0m 0.0     \u001b[0m | \u001b[0m 1.0     \u001b[0m | \u001b[0m 0.0     \u001b[0m | \u001b[0m 0.4725  \u001b[0m | \u001b[0m 0.4745  \u001b[0m | \u001b[0m 1.0     \u001b[0m | \u001b[0m 0.0     \u001b[0m | \u001b[0m 1.0     \u001b[0m |\n"
     ]
    },
    {
     "name": "stderr",
     "output_type": "stream",
     "text": [
      "\u001b[34m\u001b[1mwandb\u001b[0m: Downloading large artifact lgbm_meta:v11, 546.02MB. 7 files... Done. 0:0:0\n",
      "\u001b[34m\u001b[1mwandb\u001b[0m: Downloading large artifact lgbm_meta:v12, 557.04MB. 7 files... Done. 0:0:0\n",
      "\u001b[34m\u001b[1mwandb\u001b[0m: Downloading large artifact lgbm_meta:v16, 557.89MB. 7 files... Done. 0:0:0\n",
      "\u001b[34m\u001b[1mwandb\u001b[0m: Downloading large artifact lgbm_meta:v17, 558.15MB. 7 files... Done. 0:0:0\n",
      "\u001b[34m\u001b[1mwandb\u001b[0m: Downloading large artifact lgbm_meta:v18, 554.43MB. 7 files... Done. 0:0:0\n",
      "\u001b[34m\u001b[1mwandb\u001b[0m: Downloading large artifact lgbm_meta:v19, 552.47MB. 7 files... Done. 0:0:0\n",
      "\u001b[34m\u001b[1mwandb\u001b[0m: Downloading large artifact xgb_meta:v3, 756.43MB. 7 files... Done. 0:0:0\n",
      "\u001b[34m\u001b[1mwandb\u001b[0m: Downloading large artifact xgb_meta:v4, 765.65MB. 7 files... Done. 0:0:0\n",
      "\u001b[34m\u001b[1mwandb\u001b[0m: Downloading large artifact xgb_meta:v8, 768.16MB. 7 files... Done. 0:0:0\n",
      "\u001b[34m\u001b[1mwandb\u001b[0m: Downloading large artifact xgb_meta:v9, 759.90MB. 7 files... Done. 0:0:0\n",
      "\u001b[34m\u001b[1mwandb\u001b[0m: Downloading large artifact xgb_meta:v10, 766.76MB. 7 files... Done. 0:0:0\n",
      "100%|██████████| 500000/500000 [00:05<00:00, 86664.08it/s]\n"
     ]
    },
    {
     "name": "stdout",
     "output_type": "stream",
     "text": [
      "| \u001b[95m 60      \u001b[0m | \u001b[95m 0.7281  \u001b[0m | \u001b[95m 0.0     \u001b[0m | \u001b[95m 0.0     \u001b[0m | \u001b[95m 0.0     \u001b[0m | \u001b[95m 0.0     \u001b[0m | \u001b[95m 1.0     \u001b[0m | \u001b[95m 0.0     \u001b[0m | \u001b[95m 0.0     \u001b[0m | \u001b[95m 0.09186 \u001b[0m | \u001b[95m 0.4187  \u001b[0m | \u001b[95m 0.0     \u001b[0m | \u001b[95m 1.0     \u001b[0m |\n"
     ]
    },
    {
     "name": "stderr",
     "output_type": "stream",
     "text": [
      "\u001b[34m\u001b[1mwandb\u001b[0m: Downloading large artifact lgbm_meta:v11, 546.02MB. 7 files... Done. 0:0:0\n",
      "\u001b[34m\u001b[1mwandb\u001b[0m: Downloading large artifact lgbm_meta:v12, 557.04MB. 7 files... Done. 0:0:0\n",
      "\u001b[34m\u001b[1mwandb\u001b[0m: Downloading large artifact lgbm_meta:v16, 557.89MB. 7 files... Done. 0:0:0\n",
      "\u001b[34m\u001b[1mwandb\u001b[0m: Downloading large artifact lgbm_meta:v17, 558.15MB. 7 files... Done. 0:0:0\n",
      "\u001b[34m\u001b[1mwandb\u001b[0m: Downloading large artifact lgbm_meta:v18, 554.43MB. 7 files... Done. 0:0:0\n",
      "\u001b[34m\u001b[1mwandb\u001b[0m: Downloading large artifact lgbm_meta:v19, 552.47MB. 7 files... Done. 0:0:0\n",
      "\u001b[34m\u001b[1mwandb\u001b[0m: Downloading large artifact xgb_meta:v3, 756.43MB. 7 files... Done. 0:0:0\n",
      "\u001b[34m\u001b[1mwandb\u001b[0m: Downloading large artifact xgb_meta:v4, 765.65MB. 7 files... Done. 0:0:0\n",
      "\u001b[34m\u001b[1mwandb\u001b[0m: Downloading large artifact xgb_meta:v8, 768.16MB. 7 files... Done. 0:0:0\n",
      "\u001b[34m\u001b[1mwandb\u001b[0m: Downloading large artifact xgb_meta:v9, 759.90MB. 7 files... Done. 0:0:0\n",
      "\u001b[34m\u001b[1mwandb\u001b[0m: Downloading large artifact xgb_meta:v10, 766.76MB. 7 files... Done. 0:0:0\n",
      "100%|██████████| 500000/500000 [00:05<00:00, 88778.09it/s]\n"
     ]
    },
    {
     "name": "stdout",
     "output_type": "stream",
     "text": [
      "| \u001b[0m 61      \u001b[0m | \u001b[0m 0.728   \u001b[0m | \u001b[0m 0.0     \u001b[0m | \u001b[0m 0.0     \u001b[0m | \u001b[0m 0.0     \u001b[0m | \u001b[0m 0.0     \u001b[0m | \u001b[0m 1.0     \u001b[0m | \u001b[0m 0.2914  \u001b[0m | \u001b[0m 0.0     \u001b[0m | \u001b[0m 0.0     \u001b[0m | \u001b[0m 0.0     \u001b[0m | \u001b[0m 0.0     \u001b[0m | \u001b[0m 1.0     \u001b[0m |\n"
     ]
    },
    {
     "name": "stderr",
     "output_type": "stream",
     "text": [
      "\u001b[34m\u001b[1mwandb\u001b[0m: Downloading large artifact lgbm_meta:v11, 546.02MB. 7 files... Done. 0:0:0\n",
      "\u001b[34m\u001b[1mwandb\u001b[0m: Downloading large artifact lgbm_meta:v12, 557.04MB. 7 files... Done. 0:0:0\n",
      "\u001b[34m\u001b[1mwandb\u001b[0m: Downloading large artifact lgbm_meta:v16, 557.89MB. 7 files... Done. 0:0:0\n",
      "\u001b[34m\u001b[1mwandb\u001b[0m: Downloading large artifact lgbm_meta:v17, 558.15MB. 7 files... Done. 0:0:0\n",
      "\u001b[34m\u001b[1mwandb\u001b[0m: Downloading large artifact lgbm_meta:v18, 554.43MB. 7 files... Done. 0:0:0\n",
      "\u001b[34m\u001b[1mwandb\u001b[0m: Downloading large artifact lgbm_meta:v19, 552.47MB. 7 files... Done. 0:0:0\n",
      "\u001b[34m\u001b[1mwandb\u001b[0m: Downloading large artifact xgb_meta:v3, 756.43MB. 7 files... Done. 0:0:0\n",
      "\u001b[34m\u001b[1mwandb\u001b[0m: Downloading large artifact xgb_meta:v4, 765.65MB. 7 files... Done. 0:0:0\n",
      "\u001b[34m\u001b[1mwandb\u001b[0m: Downloading large artifact xgb_meta:v8, 768.16MB. 7 files... Done. 0:0:0\n",
      "\u001b[34m\u001b[1mwandb\u001b[0m: Downloading large artifact xgb_meta:v9, 759.90MB. 7 files... Done. 0:0:0\n",
      "\u001b[34m\u001b[1mwandb\u001b[0m: Downloading large artifact xgb_meta:v10, 766.76MB. 7 files... Done. 0:0:0\n",
      "100%|██████████| 500000/500000 [00:05<00:00, 88326.89it/s]\n"
     ]
    },
    {
     "name": "stdout",
     "output_type": "stream",
     "text": [
      "| \u001b[0m 62      \u001b[0m | \u001b[0m 0.728   \u001b[0m | \u001b[0m 0.0     \u001b[0m | \u001b[0m 0.0     \u001b[0m | \u001b[0m 0.0     \u001b[0m | \u001b[0m 0.2894  \u001b[0m | \u001b[0m 1.0     \u001b[0m | \u001b[0m 0.0     \u001b[0m | \u001b[0m 0.0     \u001b[0m | \u001b[0m 0.3492  \u001b[0m | \u001b[0m 0.372   \u001b[0m | \u001b[0m 0.0     \u001b[0m | \u001b[0m 1.0     \u001b[0m |\n"
     ]
    },
    {
     "name": "stderr",
     "output_type": "stream",
     "text": [
      "\u001b[34m\u001b[1mwandb\u001b[0m: Downloading large artifact lgbm_meta:v11, 546.02MB. 7 files... Done. 0:0:0\n",
      "\u001b[34m\u001b[1mwandb\u001b[0m: Downloading large artifact lgbm_meta:v12, 557.04MB. 7 files... Done. 0:0:0\n",
      "\u001b[34m\u001b[1mwandb\u001b[0m: Downloading large artifact lgbm_meta:v16, 557.89MB. 7 files... Done. 0:0:0\n",
      "\u001b[34m\u001b[1mwandb\u001b[0m: Downloading large artifact lgbm_meta:v17, 558.15MB. 7 files... Done. 0:0:0\n",
      "\u001b[34m\u001b[1mwandb\u001b[0m: Downloading large artifact lgbm_meta:v18, 554.43MB. 7 files... Done. 0:0:0\n",
      "\u001b[34m\u001b[1mwandb\u001b[0m: Downloading large artifact lgbm_meta:v19, 552.47MB. 7 files... Done. 0:0:0\n",
      "\u001b[34m\u001b[1mwandb\u001b[0m: Downloading large artifact xgb_meta:v3, 756.43MB. 7 files... Done. 0:0:0\n",
      "\u001b[34m\u001b[1mwandb\u001b[0m: Downloading large artifact xgb_meta:v4, 765.65MB. 7 files... Done. 0:0:0\n",
      "\u001b[34m\u001b[1mwandb\u001b[0m: Downloading large artifact xgb_meta:v8, 768.16MB. 7 files... Done. 0:0:0\n",
      "\u001b[34m\u001b[1mwandb\u001b[0m: Downloading large artifact xgb_meta:v9, 759.90MB. 7 files... Done. 0:0:0\n",
      "\u001b[34m\u001b[1mwandb\u001b[0m: Downloading large artifact xgb_meta:v10, 766.76MB. 7 files... Done. 0:0:0\n",
      "100%|██████████| 500000/500000 [00:05<00:00, 89578.99it/s]\n"
     ]
    },
    {
     "name": "stdout",
     "output_type": "stream",
     "text": [
      "| \u001b[0m 63      \u001b[0m | \u001b[0m 0.728   \u001b[0m | \u001b[0m 0.0     \u001b[0m | \u001b[0m 0.0     \u001b[0m | \u001b[0m 0.0     \u001b[0m | \u001b[0m 0.0     \u001b[0m | \u001b[0m 1.0     \u001b[0m | \u001b[0m 0.0     \u001b[0m | \u001b[0m 0.4896  \u001b[0m | \u001b[0m 0.0     \u001b[0m | \u001b[0m 0.3813  \u001b[0m | \u001b[0m 0.0     \u001b[0m | \u001b[0m 1.0     \u001b[0m |\n"
     ]
    },
    {
     "name": "stderr",
     "output_type": "stream",
     "text": [
      "\u001b[34m\u001b[1mwandb\u001b[0m: Downloading large artifact lgbm_meta:v11, 546.02MB. 7 files... Done. 0:0:0\n",
      "\u001b[34m\u001b[1mwandb\u001b[0m: Downloading large artifact lgbm_meta:v12, 557.04MB. 7 files... Done. 0:0:0\n",
      "\u001b[34m\u001b[1mwandb\u001b[0m: Downloading large artifact lgbm_meta:v16, 557.89MB. 7 files... Done. 0:0:0\n",
      "\u001b[34m\u001b[1mwandb\u001b[0m: Downloading large artifact lgbm_meta:v17, 558.15MB. 7 files... Done. 0:0:0\n",
      "\u001b[34m\u001b[1mwandb\u001b[0m: Downloading large artifact lgbm_meta:v18, 554.43MB. 7 files... Done. 0:0:0\n",
      "\u001b[34m\u001b[1mwandb\u001b[0m: Downloading large artifact lgbm_meta:v19, 552.47MB. 7 files... Done. 0:0:0\n",
      "\u001b[34m\u001b[1mwandb\u001b[0m: Downloading large artifact xgb_meta:v3, 756.43MB. 7 files... Done. 0:0:0\n",
      "\u001b[34m\u001b[1mwandb\u001b[0m: Downloading large artifact xgb_meta:v4, 765.65MB. 7 files... Done. 0:0:0\n",
      "\u001b[34m\u001b[1mwandb\u001b[0m: Downloading large artifact xgb_meta:v8, 768.16MB. 7 files... Done. 0:0:0\n",
      "\u001b[34m\u001b[1mwandb\u001b[0m: Downloading large artifact xgb_meta:v9, 759.90MB. 7 files... Done. 0:0:0\n",
      "\u001b[34m\u001b[1mwandb\u001b[0m: Downloading large artifact xgb_meta:v10, 766.76MB. 7 files... Done. 0:0:0\n",
      "100%|██████████| 500000/500000 [00:05<00:00, 88747.29it/s]\n"
     ]
    },
    {
     "name": "stdout",
     "output_type": "stream",
     "text": [
      "| \u001b[0m 64      \u001b[0m | \u001b[0m 0.728   \u001b[0m | \u001b[0m 0.0     \u001b[0m | \u001b[0m 0.0     \u001b[0m | \u001b[0m 0.4938  \u001b[0m | \u001b[0m 0.0     \u001b[0m | \u001b[0m 1.0     \u001b[0m | \u001b[0m 0.0     \u001b[0m | \u001b[0m 0.0     \u001b[0m | \u001b[0m 0.0     \u001b[0m | \u001b[0m 0.4238  \u001b[0m | \u001b[0m 0.0     \u001b[0m | \u001b[0m 1.0     \u001b[0m |\n"
     ]
    },
    {
     "name": "stderr",
     "output_type": "stream",
     "text": [
      "\u001b[34m\u001b[1mwandb\u001b[0m: Downloading large artifact lgbm_meta:v11, 546.02MB. 7 files... Done. 0:0:0\n",
      "\u001b[34m\u001b[1mwandb\u001b[0m: Downloading large artifact lgbm_meta:v12, 557.04MB. 7 files... Done. 0:0:0\n",
      "\u001b[34m\u001b[1mwandb\u001b[0m: Downloading large artifact lgbm_meta:v16, 557.89MB. 7 files... Done. 0:0:0\n",
      "\u001b[34m\u001b[1mwandb\u001b[0m: Downloading large artifact lgbm_meta:v17, 558.15MB. 7 files... Done. 0:0:0\n",
      "\u001b[34m\u001b[1mwandb\u001b[0m: Downloading large artifact lgbm_meta:v18, 554.43MB. 7 files... Done. 0:0:0\n",
      "\u001b[34m\u001b[1mwandb\u001b[0m: Downloading large artifact lgbm_meta:v19, 552.47MB. 7 files... Done. 0:0:0\n",
      "\u001b[34m\u001b[1mwandb\u001b[0m: Downloading large artifact xgb_meta:v3, 756.43MB. 7 files... Done. 0:0:0\n",
      "\u001b[34m\u001b[1mwandb\u001b[0m: Downloading large artifact xgb_meta:v4, 765.65MB. 7 files... Done. 0:0:0\n",
      "\u001b[34m\u001b[1mwandb\u001b[0m: Downloading large artifact xgb_meta:v8, 768.16MB. 7 files... Done. 0:0:0\n",
      "\u001b[34m\u001b[1mwandb\u001b[0m: Downloading large artifact xgb_meta:v9, 759.90MB. 7 files... Done. 0:0:0\n",
      "\u001b[34m\u001b[1mwandb\u001b[0m: Downloading large artifact xgb_meta:v10, 766.76MB. 7 files... Done. 0:0:0\n",
      "100%|██████████| 500000/500000 [00:05<00:00, 88952.49it/s]\n"
     ]
    },
    {
     "name": "stdout",
     "output_type": "stream",
     "text": [
      "| \u001b[0m 65      \u001b[0m | \u001b[0m 0.728   \u001b[0m | \u001b[0m 0.0     \u001b[0m | \u001b[0m 0.0     \u001b[0m | \u001b[0m 0.0     \u001b[0m | \u001b[0m 0.0     \u001b[0m | \u001b[0m 0.6183  \u001b[0m | \u001b[0m 0.09965 \u001b[0m | \u001b[0m 0.0     \u001b[0m | \u001b[0m 0.0     \u001b[0m | \u001b[0m 0.5666  \u001b[0m | \u001b[0m 0.0     \u001b[0m | \u001b[0m 1.0     \u001b[0m |\n"
     ]
    },
    {
     "name": "stderr",
     "output_type": "stream",
     "text": [
      "\u001b[34m\u001b[1mwandb\u001b[0m: Downloading large artifact lgbm_meta:v11, 546.02MB. 7 files... Done. 0:0:0\n",
      "\u001b[34m\u001b[1mwandb\u001b[0m: Downloading large artifact lgbm_meta:v12, 557.04MB. 7 files... Done. 0:0:0\n",
      "\u001b[34m\u001b[1mwandb\u001b[0m: Downloading large artifact lgbm_meta:v16, 557.89MB. 7 files... Done. 0:0:0\n",
      "\u001b[34m\u001b[1mwandb\u001b[0m: Downloading large artifact lgbm_meta:v17, 558.15MB. 7 files... Done. 0:0:0\n",
      "\u001b[34m\u001b[1mwandb\u001b[0m: Downloading large artifact lgbm_meta:v18, 554.43MB. 7 files... Done. 0:0:0\n",
      "\u001b[34m\u001b[1mwandb\u001b[0m: Downloading large artifact lgbm_meta:v19, 552.47MB. 7 files... Done. 0:0:0\n",
      "\u001b[34m\u001b[1mwandb\u001b[0m: Downloading large artifact xgb_meta:v3, 756.43MB. 7 files... Done. 0:0:0\n",
      "\u001b[34m\u001b[1mwandb\u001b[0m: Downloading large artifact xgb_meta:v4, 765.65MB. 7 files... Done. 0:0:0\n",
      "\u001b[34m\u001b[1mwandb\u001b[0m: Downloading large artifact xgb_meta:v8, 768.16MB. 7 files... Done. 0:0:0\n",
      "\u001b[34m\u001b[1mwandb\u001b[0m: Downloading large artifact xgb_meta:v9, 759.90MB. 7 files... Done. 0:0:0\n",
      "\u001b[34m\u001b[1mwandb\u001b[0m: Downloading large artifact xgb_meta:v10, 766.76MB. 7 files... Done. 0:0:0\n",
      "100%|██████████| 500000/500000 [00:05<00:00, 87820.24it/s]\n"
     ]
    },
    {
     "name": "stdout",
     "output_type": "stream",
     "text": [
      "| \u001b[0m 66      \u001b[0m | \u001b[0m 0.728   \u001b[0m | \u001b[0m 0.0     \u001b[0m | \u001b[0m 0.0     \u001b[0m | \u001b[0m 0.0     \u001b[0m | \u001b[0m 0.0     \u001b[0m | \u001b[0m 1.0     \u001b[0m | \u001b[0m 0.264   \u001b[0m | \u001b[0m 0.0     \u001b[0m | \u001b[0m 0.0     \u001b[0m | \u001b[0m 0.564   \u001b[0m | \u001b[0m 0.0     \u001b[0m | \u001b[0m 1.0     \u001b[0m |\n"
     ]
    },
    {
     "name": "stderr",
     "output_type": "stream",
     "text": [
      "\u001b[34m\u001b[1mwandb\u001b[0m: Downloading large artifact lgbm_meta:v11, 546.02MB. 7 files... Done. 0:0:0\n",
      "\u001b[34m\u001b[1mwandb\u001b[0m: Downloading large artifact lgbm_meta:v12, 557.04MB. 7 files... Done. 0:0:0\n",
      "\u001b[34m\u001b[1mwandb\u001b[0m: Downloading large artifact lgbm_meta:v16, 557.89MB. 7 files... Done. 0:0:0\n",
      "\u001b[34m\u001b[1mwandb\u001b[0m: Downloading large artifact lgbm_meta:v17, 558.15MB. 7 files... Done. 0:0:0\n",
      "\u001b[34m\u001b[1mwandb\u001b[0m: Downloading large artifact lgbm_meta:v18, 554.43MB. 7 files... Done. 0:0:0\n",
      "\u001b[34m\u001b[1mwandb\u001b[0m: Downloading large artifact lgbm_meta:v19, 552.47MB. 7 files... Done. 0:0:0\n",
      "\u001b[34m\u001b[1mwandb\u001b[0m: Downloading large artifact xgb_meta:v3, 756.43MB. 7 files... Done. 0:0:0\n",
      "\u001b[34m\u001b[1mwandb\u001b[0m: Downloading large artifact xgb_meta:v4, 765.65MB. 7 files... Done. 0:0:0\n",
      "\u001b[34m\u001b[1mwandb\u001b[0m: Downloading large artifact xgb_meta:v8, 768.16MB. 7 files... Done. 0:0:0\n",
      "\u001b[34m\u001b[1mwandb\u001b[0m: Downloading large artifact xgb_meta:v9, 759.90MB. 7 files... Done. 0:0:0\n",
      "\u001b[34m\u001b[1mwandb\u001b[0m: Downloading large artifact xgb_meta:v10, 766.76MB. 7 files... Done. 0:0:0\n",
      "100%|██████████| 500000/500000 [00:05<00:00, 87746.91it/s]\n"
     ]
    },
    {
     "name": "stdout",
     "output_type": "stream",
     "text": [
      "| \u001b[0m 67      \u001b[0m | \u001b[0m 0.728   \u001b[0m | \u001b[0m 0.0     \u001b[0m | \u001b[0m 0.0     \u001b[0m | \u001b[0m 0.0     \u001b[0m | \u001b[0m 0.0     \u001b[0m | \u001b[0m 1.0     \u001b[0m | \u001b[0m 0.0     \u001b[0m | \u001b[0m 0.0     \u001b[0m | \u001b[0m 0.0     \u001b[0m | \u001b[0m 0.3599  \u001b[0m | \u001b[0m 0.2439  \u001b[0m | \u001b[0m 1.0     \u001b[0m |\n"
     ]
    },
    {
     "name": "stderr",
     "output_type": "stream",
     "text": [
      "\u001b[34m\u001b[1mwandb\u001b[0m: Downloading large artifact lgbm_meta:v11, 546.02MB. 7 files... Done. 0:0:0\n",
      "\u001b[34m\u001b[1mwandb\u001b[0m: Downloading large artifact lgbm_meta:v12, 557.04MB. 7 files... Done. 0:0:0\n",
      "\u001b[34m\u001b[1mwandb\u001b[0m: Downloading large artifact lgbm_meta:v16, 557.89MB. 7 files... Done. 0:0:0\n",
      "\u001b[34m\u001b[1mwandb\u001b[0m: Downloading large artifact lgbm_meta:v17, 558.15MB. 7 files... Done. 0:0:0\n",
      "\u001b[34m\u001b[1mwandb\u001b[0m: Downloading large artifact lgbm_meta:v18, 554.43MB. 7 files... Done. 0:0:0\n",
      "\u001b[34m\u001b[1mwandb\u001b[0m: Downloading large artifact lgbm_meta:v19, 552.47MB. 7 files... Done. 0:0:0\n",
      "\u001b[34m\u001b[1mwandb\u001b[0m: Downloading large artifact xgb_meta:v3, 756.43MB. 7 files... Done. 0:0:0\n",
      "\u001b[34m\u001b[1mwandb\u001b[0m: Downloading large artifact xgb_meta:v4, 765.65MB. 7 files... Done. 0:0:0\n",
      "\u001b[34m\u001b[1mwandb\u001b[0m: Downloading large artifact xgb_meta:v8, 768.16MB. 7 files... Done. 0:0:0\n",
      "\u001b[34m\u001b[1mwandb\u001b[0m: Downloading large artifact xgb_meta:v9, 759.90MB. 7 files... Done. 0:0:0\n",
      "\u001b[34m\u001b[1mwandb\u001b[0m: Downloading large artifact xgb_meta:v10, 766.76MB. 7 files... Done. 0:0:0\n",
      "100%|██████████| 500000/500000 [00:05<00:00, 88680.51it/s]\n"
     ]
    },
    {
     "name": "stdout",
     "output_type": "stream",
     "text": [
      "| \u001b[0m 68      \u001b[0m | \u001b[0m 0.728   \u001b[0m | \u001b[0m 0.0     \u001b[0m | \u001b[0m 0.0     \u001b[0m | \u001b[0m 1.0     \u001b[0m | \u001b[0m 0.0     \u001b[0m | \u001b[0m 1.0     \u001b[0m | \u001b[0m 0.8706  \u001b[0m | \u001b[0m 0.0     \u001b[0m | \u001b[0m 0.1375  \u001b[0m | \u001b[0m 0.3295  \u001b[0m | \u001b[0m 0.0     \u001b[0m | \u001b[0m 1.0     \u001b[0m |\n"
     ]
    },
    {
     "name": "stderr",
     "output_type": "stream",
     "text": [
      "\u001b[34m\u001b[1mwandb\u001b[0m: Downloading large artifact lgbm_meta:v11, 546.02MB. 7 files... Done. 0:0:0\n",
      "\u001b[34m\u001b[1mwandb\u001b[0m: Downloading large artifact lgbm_meta:v12, 557.04MB. 7 files... Done. 0:0:0\n",
      "\u001b[34m\u001b[1mwandb\u001b[0m: Downloading large artifact lgbm_meta:v16, 557.89MB. 7 files... Done. 0:0:0\n",
      "\u001b[34m\u001b[1mwandb\u001b[0m: Downloading large artifact lgbm_meta:v17, 558.15MB. 7 files... Done. 0:0:0\n",
      "\u001b[34m\u001b[1mwandb\u001b[0m: Downloading large artifact lgbm_meta:v18, 554.43MB. 7 files... Done. 0:0:0\n",
      "\u001b[34m\u001b[1mwandb\u001b[0m: Downloading large artifact lgbm_meta:v19, 552.47MB. 7 files... Done. 0:0:0\n",
      "\u001b[34m\u001b[1mwandb\u001b[0m: Downloading large artifact xgb_meta:v3, 756.43MB. 7 files... Done. 0:0:0\n",
      "\u001b[34m\u001b[1mwandb\u001b[0m: Downloading large artifact xgb_meta:v4, 765.65MB. 7 files... Done. 0:0:0\n",
      "\u001b[34m\u001b[1mwandb\u001b[0m: Downloading large artifact xgb_meta:v8, 768.16MB. 7 files... Done. 0:0:0\n",
      "\u001b[34m\u001b[1mwandb\u001b[0m: Downloading large artifact xgb_meta:v9, 759.90MB. 7 files... Done. 0:0:0\n",
      "\u001b[34m\u001b[1mwandb\u001b[0m: Downloading large artifact xgb_meta:v10, 766.76MB. 7 files... Done. 0:0:0\n",
      "100%|██████████| 500000/500000 [00:05<00:00, 88342.49it/s]\n"
     ]
    },
    {
     "name": "stdout",
     "output_type": "stream",
     "text": [
      "| \u001b[95m 69      \u001b[0m | \u001b[95m 0.7281  \u001b[0m | \u001b[95m 0.0     \u001b[0m | \u001b[95m 0.0     \u001b[0m | \u001b[95m 0.0     \u001b[0m | \u001b[95m 0.0     \u001b[0m | \u001b[95m 1.0     \u001b[0m | \u001b[95m 0.0     \u001b[0m | \u001b[95m 0.0     \u001b[0m | \u001b[95m 0.0     \u001b[0m | \u001b[95m 0.3964  \u001b[0m | \u001b[95m 0.0     \u001b[0m | \u001b[95m 0.5981  \u001b[0m |\n"
     ]
    },
    {
     "name": "stderr",
     "output_type": "stream",
     "text": [
      "\u001b[34m\u001b[1mwandb\u001b[0m: Downloading large artifact lgbm_meta:v11, 546.02MB. 7 files... Done. 0:0:0\n",
      "\u001b[34m\u001b[1mwandb\u001b[0m: Downloading large artifact lgbm_meta:v12, 557.04MB. 7 files... Done. 0:0:0\n",
      "\u001b[34m\u001b[1mwandb\u001b[0m: Downloading large artifact lgbm_meta:v16, 557.89MB. 7 files... Done. 0:0:0\n",
      "\u001b[34m\u001b[1mwandb\u001b[0m: Downloading large artifact lgbm_meta:v17, 558.15MB. 7 files... Done. 0:0:0\n",
      "\u001b[34m\u001b[1mwandb\u001b[0m: Downloading large artifact lgbm_meta:v18, 554.43MB. 7 files... Done. 0:0:0\n",
      "\u001b[34m\u001b[1mwandb\u001b[0m: Downloading large artifact lgbm_meta:v19, 552.47MB. 7 files... Done. 0:0:0\n",
      "\u001b[34m\u001b[1mwandb\u001b[0m: Downloading large artifact xgb_meta:v3, 756.43MB. 7 files... Done. 0:0:0\n",
      "\u001b[34m\u001b[1mwandb\u001b[0m: Downloading large artifact xgb_meta:v4, 765.65MB. 7 files... Done. 0:0:0\n",
      "\u001b[34m\u001b[1mwandb\u001b[0m: Downloading large artifact xgb_meta:v8, 768.16MB. 7 files... Done. 0:0:0\n",
      "\u001b[34m\u001b[1mwandb\u001b[0m: Downloading large artifact xgb_meta:v9, 759.90MB. 7 files... Done. 0:0:0\n",
      "\u001b[34m\u001b[1mwandb\u001b[0m: Downloading large artifact xgb_meta:v10, 766.76MB. 7 files... Done. 0:0:0\n",
      "100%|██████████| 500000/500000 [00:05<00:00, 88217.60it/s]\n"
     ]
    },
    {
     "name": "stdout",
     "output_type": "stream",
     "text": [
      "| \u001b[0m 70      \u001b[0m | \u001b[0m 0.7281  \u001b[0m | \u001b[0m 0.0     \u001b[0m | \u001b[0m 0.0     \u001b[0m | \u001b[0m 0.0     \u001b[0m | \u001b[0m 0.0     \u001b[0m | \u001b[0m 1.0     \u001b[0m | \u001b[0m 0.0     \u001b[0m | \u001b[0m 0.0     \u001b[0m | \u001b[0m 0.0     \u001b[0m | \u001b[0m 0.8194  \u001b[0m | \u001b[0m 0.0     \u001b[0m | \u001b[0m 0.1326  \u001b[0m |\n",
      "=============================================================================================================================================================\n"
     ]
    }
   ],
   "source": [
    "# Run bayesian optimization\n",
    "ndcg_fn_ = partial(ndcg_fn, ens, meta_types, meta_versions)\n",
    "optimizer = BayesianOptimization(f=ndcg_fn_, pbounds=coefs, random_state=168)\n",
    "optimizer.maximize(init_points=50, n_iter=20)"
   ]
  },
  {
   "cell_type": "code",
   "execution_count": 6,
   "id": "approved-publication",
   "metadata": {},
   "outputs": [
    {
     "data": {
      "text/plain": [
       "{'target': 0.7280846333489985,\n",
       " 'params': {'l11': 0.0,\n",
       "  'l12': 0.0,\n",
       "  'l16': 0.0,\n",
       "  'l17': 0.0,\n",
       "  'l18': 1.0,\n",
       "  'l19': 0.0,\n",
       "  'x10': 0.0,\n",
       "  'x3': 0.0,\n",
       "  'x4': 0.39640406184048566,\n",
       "  'x8': 0.0,\n",
       "  'x9': 0.5980503849892724}}"
      ]
     },
     "execution_count": 6,
     "metadata": {},
     "output_type": "execute_result"
    }
   ],
   "source": [
    "# Obtain the best set of blending coefficients\n",
    "optimizer.max"
   ]
  },
  {
   "cell_type": "markdown",
   "id": "neural-facility",
   "metadata": {},
   "source": [
    "## *NN Stacker*\n",
    "To diversify level-2 meta-models, I decide to put simple feed-foward NN into meta-model pool, and see how well it can perform compared with tree-based stackers.\n",
    "\n",
    "```\n",
    "Given X, y \n",
    "    X: pd.DataFrame, predicitng results of base models \n",
    "    y: ndarray, groundtruths\n",
    "    \n",
    "Generate simple Dataset\n",
    "For all epoch in EPOCHES\n",
    "    For all batches in Dataloader\n",
    "        Run simple forward passing and backpropagation using FFNN\n",
    "    Until running through all data samples\n",
    "Until convergence\n",
    "```"
   ]
  },
  {
   "cell_type": "code",
   "execution_count": 6,
   "id": "sublime-perspective",
   "metadata": {},
   "outputs": [],
   "source": [
    "import torch\n",
    "from torch.utils.data import Dataset, DataLoader\n",
    "import torch.nn.functional as F\n",
    "import torch.nn as nn"
   ]
  },
  {
   "cell_type": "code",
   "execution_count": null,
   "id": "anonymous-spencer",
   "metadata": {},
   "outputs": [],
   "source": [
    "class FFNN(nn.Module):\n",
    "    def __init__(self, input_dim, hidden_dim, dropout, \n",
    "                 act, output_dim=16):\n",
    "        super(FFNN, self).__init__()\n",
    "        \n",
    "        # Network parameters\n",
    "        self.input_dim = input_dim\n",
    "        self.hidden_dim = hidden_dim\n",
    "        self.act = act\n",
    "        self.output_dim = output_dim\n",
    "        self.dropout = dropout        \n",
    "        \n",
    "        # Model blocks\n",
    "        self.hidden = nn.Linear(self.input_dim, self.hidden_dim)\n",
    "        self.output = nn.Linear(self.hidden_dim, self.output_dim)\n",
    "        if act == 'relu':\n",
    "            self.hidden_act = F.relu\n",
    "        elif act == 'selu':\n",
    "            self.hidden_act = F.selu\n",
    "        elif act == 'sigmoid':\n",
    "            self.hidden_act = F.sigmoid\n",
    "        elif act == 'tanh':\n",
    "            self.hidden_act = F.tanh\n",
    "        self.dropout = nn.Dropout(p=self.dropout)\n",
    "        \n",
    "    def forward(self, x):\n",
    "        x = self.hidden_act(self.hidden(x))\n",
    "        x = self.dropout(x)\n",
    "        \n",
    "        logits = self.output(x)\n",
    "        \n",
    "        return logits "
   ]
  },
  {
   "cell_type": "code",
   "execution_count": null,
   "id": "prospective-victoria",
   "metadata": {},
   "outputs": [],
   "source": []
  },
  {
   "cell_type": "code",
   "execution_count": null,
   "id": "simplified-malawi",
   "metadata": {},
   "outputs": [],
   "source": []
  },
  {
   "cell_type": "code",
   "execution_count": null,
   "id": "dominican-combining",
   "metadata": {},
   "outputs": [],
   "source": []
  },
  {
   "cell_type": "code",
   "execution_count": null,
   "id": "developed-bonus",
   "metadata": {},
   "outputs": [],
   "source": []
  },
  {
   "cell_type": "code",
   "execution_count": 4,
   "id": "necessary-watch",
   "metadata": {
    "jupyter": {
     "source_hidden": true
    }
   },
   "outputs": [],
   "source": [
    "def get_pred_df(oof_pred):\n",
    "    df = pd.DataFrame()\n",
    "    df.index = oof_pred['index']\n",
    "    df['gts'] = oof_pred['y_true']\n",
    "    cols = [f'shop_tag{i}' for i in LEG_SHOP_TAGS]\n",
    "    df[cols] = oof_pred['y_pred']\n",
    "    \n",
    "    return df "
   ]
  }
 ],
 "metadata": {
  "kernelspec": {
   "display_name": "sinopac",
   "language": "python",
   "name": "sinopac"
  },
  "language_info": {
   "codemirror_mode": {
    "name": "ipython",
    "version": 3
   },
   "file_extension": ".py",
   "mimetype": "text/x-python",
   "name": "python",
   "nbconvert_exporter": "python",
   "pygments_lexer": "ipython3",
   "version": "3.8.10"
  }
 },
 "nbformat": 4,
 "nbformat_minor": 5
}
