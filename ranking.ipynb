{
 "cells": [
  {
   "cell_type": "markdown",
   "id": "completed-redhead",
   "metadata": {},
   "source": [
    "# Ranking Task\n",
    "This notebook aims at trying some thoughts on the final ranking task, which either takes the predicting results from the first level task (*i.e.*, binary classification) or directly solves the problem by an **end-to-end** architecture."
   ]
  },
  {
   "cell_type": "code",
   "execution_count": 1,
   "id": "junior-shareware",
   "metadata": {},
   "outputs": [],
   "source": [
    "# Import packages\n",
    "import os \n",
    "import pickle\n",
    "\n",
    "import wandb \n",
    "\n",
    "from metadata import * \n",
    "from fe import *"
   ]
  },
  {
   "cell_type": "code",
   "execution_count": 2,
   "id": "committed-yahoo",
   "metadata": {},
   "outputs": [],
   "source": [
    "# Variable definitions\n",
    "model_name = 'lgbm'\n",
    "infer_version = 0\n",
    "pred_month = 25"
   ]
  },
  {
   "cell_type": "code",
   "execution_count": null,
   "id": "powerful-decimal",
   "metadata": {},
   "outputs": [],
   "source": [
    "# Pull dumped outputs from Wandb\n",
    "ranking = wandb.init(project='Esun',\n",
    "                     job_type='bi-level-ranking')   # Modeling ranking as a bi-level optimization problem\n",
    "output = ranking.use_artifact(f'{model_name}_infer:v{infer_version}', type='output')\n",
    "output_dir = output.download()"
   ]
  },
  {
   "cell_type": "code",
   "execution_count": 4,
   "id": "shared-apple",
   "metadata": {},
   "outputs": [],
   "source": [
    "# Prepare predicting results for downstream ranking \n",
    "## dumping path seems corrupt???##\n",
    "with open(os.path.join(output_dir, f\"{pred_month}.pkl\"), 'rb') as f:\n",
    "    pred_result = pickle.load(f)"
   ]
  },
  {
   "cell_type": "code",
   "execution_count": 5,
   "id": "electrical-tracker",
   "metadata": {},
   "outputs": [
    {
     "data": {
      "text/html": [
       "<div>\n",
       "<style scoped>\n",
       "    .dataframe tbody tr th:only-of-type {\n",
       "        vertical-align: middle;\n",
       "    }\n",
       "\n",
       "    .dataframe tbody tr th {\n",
       "        vertical-align: top;\n",
       "    }\n",
       "\n",
       "    .dataframe thead th {\n",
       "        text-align: right;\n",
       "    }\n",
       "</style>\n",
       "<table border=\"1\" class=\"dataframe\">\n",
       "  <thead>\n",
       "    <tr style=\"text-align: right;\">\n",
       "      <th></th>\n",
       "      <th>shop_tag</th>\n",
       "      <th>y_pred</th>\n",
       "    </tr>\n",
       "    <tr>\n",
       "      <th>chid</th>\n",
       "      <th></th>\n",
       "      <th></th>\n",
       "    </tr>\n",
       "  </thead>\n",
       "  <tbody>\n",
       "    <tr>\n",
       "      <th>10000000</th>\n",
       "      <td>2</td>\n",
       "      <td>0.214484</td>\n",
       "    </tr>\n",
       "    <tr>\n",
       "      <th>10000000</th>\n",
       "      <td>6</td>\n",
       "      <td>0.180116</td>\n",
       "    </tr>\n",
       "    <tr>\n",
       "      <th>10000000</th>\n",
       "      <td>10</td>\n",
       "      <td>0.627519</td>\n",
       "    </tr>\n",
       "    <tr>\n",
       "      <th>10000000</th>\n",
       "      <td>12</td>\n",
       "      <td>0.276280</td>\n",
       "    </tr>\n",
       "    <tr>\n",
       "      <th>10000000</th>\n",
       "      <td>13</td>\n",
       "      <td>0.302098</td>\n",
       "    </tr>\n",
       "  </tbody>\n",
       "</table>\n",
       "</div>"
      ],
      "text/plain": [
       "          shop_tag    y_pred\n",
       "chid                        \n",
       "10000000         2  0.214484\n",
       "10000000         6  0.180116\n",
       "10000000        10  0.627519\n",
       "10000000        12  0.276280\n",
       "10000000        13  0.302098"
      ]
     },
     "execution_count": 5,
     "metadata": {},
     "output_type": "execute_result"
    }
   ],
   "source": [
    "pred_result.reset_index(level='shop_tag', inplace=True)\n",
    "pred_result.head()"
   ]
  },
  {
   "cell_type": "code",
   "execution_count": 6,
   "id": "excited-engine",
   "metadata": {},
   "outputs": [
    {
     "data": {
      "text/plain": [
       "{0: 1,\n",
       " 1: 5,\n",
       " 2: 9,\n",
       " 3: 11,\n",
       " 4: 12,\n",
       " 5: 14,\n",
       " 6: 17,\n",
       " 7: 18,\n",
       " 8: 20,\n",
       " 9: 21,\n",
       " 10: 24,\n",
       " 11: 25,\n",
       " 12: 35,\n",
       " 13: 36,\n",
       " 14: 38,\n",
       " 15: 47}"
      ]
     },
     "execution_count": 6,
     "metadata": {},
     "output_type": "execute_result"
    }
   ],
   "source": [
    "# Create mapping relationship from legitimate shop_tag index (indexed 0-15)\n",
    "# to position in the transaction amount vector (indexed 0-48)\n",
    "shop_tag_map = {idx: shop_tag-1 for idx, shop_tag in zip(range(len(LEG_SHOP_TAGS)), \n",
    "                                                         LEG_SHOP_TAGS)}\n",
    "shop_tag_map"
   ]
  },
  {
   "cell_type": "code",
   "execution_count": 21,
   "id": "brown-wrist",
   "metadata": {},
   "outputs": [],
   "source": [
    "def get_final_ranks(pred, t_range):\n",
    "    df = pd.read_parquet(\"./data/raw/raw_data.parquet\", \n",
    "                         columns=['dt', 'chid', 'shop_tag', 'txn_amt'])\n",
    "    avg_shop_tags = get_avg_shop_tags_per_month(df[['dt', 'chid', 'shop_tag']], \n",
    "                                                t_range)\n",
    "    avg_txn_amt = get_avg_txn_amt_per_basket(df, t_range)\n",
    "    \n",
    "    final_ranks = {col: [] for col in ['chid', 'top1', 'top2', 'top3']}\n",
    "    for chid, pred_vec in tqdm(pred.items()):\n",
    "        shop_tag_top3 = {}\n",
    "        k = round(avg_shop_tags[chid], 0)\n",
    "        txn_amt = avg_txn_amt[chid]\n",
    "        shop_tags_ranked = np.argsort(pred_vec)[::-1]   # Notice that this is idx list\n",
    "        try:\n",
    "            shop_tags_topk = shop_tags_ranked[:3]   # Explicitly specify top3\n",
    "#             shop_tags_topk = shop_tags_ranked[:int(k)]   # k from history behavior\n",
    "        except:\n",
    "            print(k)\n",
    "            break\n",
    "        # shop_tag_map[shop_tag] == orig_shop_tag - 1 (because it's an index)\n",
    "        txn_amt_topk = {shop_tag_map[shop_tag]: txn_amt[shop_tag_map[shop_tag]] \n",
    "                        for shop_tag in shop_tags_topk} \n",
    "        shop_tags_topk_ranked = dict(\n",
    "                                    sorted(txn_amt_topk.items(), \n",
    "                                           key=lambda x: x[1], \n",
    "                                           reverse=True)\n",
    "                                ).keys()\n",
    "        for shop_tag in shop_tags_topk_ranked:\n",
    "            if shop_tag+1 in LEG_SHOP_TAGS:\n",
    "                shop_tag_top3[f'top{len(shop_tag_top3)+1}'] = shop_tag+1\n",
    "            if len(shop_tag_top3) == 3:\n",
    "                # If top3 shop tags have been captured so far\n",
    "                break\n",
    "        if len(shop_tag_top3) < 3:\n",
    "            # X不夠就要補滿，思考一下是不是應該要補最不可能的\n",
    "            # X因為現在是遞補剩下的shop_tag最有可能的那個\n",
    "            # 如果顧客一直都只買一兩項，\n",
    "            # dt25真的只買兩項 --> 補誰都一樣 分數不變\n",
    "            # dt25買了三項 --> 需要補最有可能的吧!\n",
    "            for shop_tag in shop_tags_ranked[int(k):]:\n",
    "                # Fix to real shop_tag by mapping\n",
    "                shop_tag_ = shop_tag_map[shop_tag] + 1\n",
    "                if shop_tag_ in LEG_SHOP_TAGS:\n",
    "                    shop_tag_top3[f'top{len(shop_tag_top3)+1}'] = shop_tag_\n",
    "                if len(shop_tag_top3) == 3:\n",
    "                    # If top3 shop tags have been captured so far\n",
    "                    break\n",
    "        shop_tag_top3['chid'] = chid\n",
    "        for k, v in shop_tag_top3.items():\n",
    "            final_ranks[k].append(v)\n",
    "\n",
    "        del shop_tag_top3, txn_amt, shop_tags_ranked, \\\n",
    "            shop_tags_topk, txn_amt_topk, shop_tags_topk_ranked\n",
    "    \n",
    "    final_ranks = pd.DataFrame(final_ranks)\n",
    "    \n",
    "    return final_ranks"
   ]
  },
  {
   "cell_type": "code",
   "execution_count": 22,
   "id": "advance-candy",
   "metadata": {},
   "outputs": [
    {
     "name": "stderr",
     "output_type": "stream",
     "text": [
      "100%|██████████| 500000/500000 [00:04<00:00, 111294.67it/s]\n"
     ]
    }
   ],
   "source": [
    "pred_vecs = {}\n",
    "for chid, pred_vec in tqdm(pred_result.groupby(pred_result.index)):\n",
    "    pred_vecs[chid] = pred_vec['y_pred'].values\n",
    "t_range = (0, 25)\n",
    "final_ranks = get_final_ranks(pred_vecs, t_range)\n",
    "final_ranks.to_csv(\"./lgbm_naive_ranking.csv\", index=False)"
   ]
  }
 ],
 "metadata": {
  "kernelspec": {
   "display_name": "sinopac",
   "language": "python",
   "name": "sinopac"
  },
  "language_info": {
   "codemirror_mode": {
    "name": "ipython",
    "version": 3
   },
   "file_extension": ".py",
   "mimetype": "text/x-python",
   "name": "python",
   "nbconvert_exporter": "python",
   "pygments_lexer": "ipython3",
   "version": "3.8.10"
  }
 },
 "nbformat": 4,
 "nbformat_minor": 5
}
