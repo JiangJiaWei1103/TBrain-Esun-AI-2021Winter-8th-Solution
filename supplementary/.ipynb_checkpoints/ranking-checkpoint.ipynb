{
 "cells": [
  {
   "cell_type": "markdown",
   "id": "adjacent-archives",
   "metadata": {},
   "source": [
    "# Ranking Task\n",
    "This notebook aims at trying some thoughts on the final ranking task, which either takes the predicting results from the first level task (*i.e.*, binary classification) or directly solves the problem by an **end-to-end** architecture."
   ]
  }
 ],
 "metadata": {
  "kernelspec": {
   "display_name": "sinopac",
   "language": "python",
   "name": "sinopac"
  },
  "language_info": {
   "codemirror_mode": {
    "name": "ipython",
    "version": 3
   },
   "file_extension": ".py",
   "mimetype": "text/x-python",
   "name": "python",
   "nbconvert_exporter": "python",
   "pygments_lexer": "ipython3",
   "version": "3.8.10"
  }
 },
 "nbformat": 4,
 "nbformat_minor": 5
}
