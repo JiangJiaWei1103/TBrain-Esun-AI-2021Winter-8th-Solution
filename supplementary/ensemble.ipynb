{
 "cells": [
  {
   "cell_type": "markdown",
   "id": "english-springer",
   "metadata": {},
   "source": [
    "# Ensemble \n",
    "This notebook is used to verify the effectiveness of some **ensemble** techniques, such as blending, stacking, etc. After the core code snippet is verified, the complete process will be written into script file."
   ]
  },
  {
   "cell_type": "code",
   "execution_count": 1,
   "id": "green-archive",
   "metadata": {},
   "outputs": [],
   "source": [
    "import os\n",
    "import pickle\n",
    "from functools import partial\n",
    "\n",
    "import pandas as pd \n",
    "import wandb\n",
    "from bayes_opt import BayesianOptimization\n",
    "\n",
    "from metadata import *\n",
    "\n",
    "from utils.common import rank_mcls_naive\n",
    "from utils.evaluator import EvaluatorRank"
   ]
  },
  {
   "cell_type": "code",
   "execution_count": 2,
   "id": "correct-darwin",
   "metadata": {
    "collapsed": true,
    "jupyter": {
     "outputs_hidden": true
    }
   },
   "outputs": [
    {
     "name": "stderr",
     "output_type": "stream",
     "text": [
      "\u001b[34m\u001b[1mwandb\u001b[0m: Currently logged in as: \u001b[33mjiangjiawei1103\u001b[0m (use `wandb login --relogin` to force relogin)\n",
      "\u001b[34m\u001b[1mwandb\u001b[0m: wandb version 0.12.9 is available!  To upgrade, please run:\n",
      "\u001b[34m\u001b[1mwandb\u001b[0m:  $ pip install wandb --upgrade\n"
     ]
    },
    {
     "data": {
      "text/html": [
       "\n",
       "                Tracking run with wandb version 0.12.1<br/>\n",
       "                Syncing run <strong style=\"color:#cdcd00\">earthy-paper-749</strong> to <a href=\"https://wandb.ai\" target=\"_blank\">Weights & Biases</a> <a href=\"https://docs.wandb.com/integrations/jupyter.html\" target=\"_blank\">(Documentation)</a>.<br/>\n",
       "                Project page: <a href=\"https://wandb.ai/jiangjiawei1103/Esun\" target=\"_blank\">https://wandb.ai/jiangjiawei1103/Esun</a><br/>\n",
       "                Run page: <a href=\"https://wandb.ai/jiangjiawei1103/Esun/runs/fwfpbk0w\" target=\"_blank\">https://wandb.ai/jiangjiawei1103/Esun/runs/fwfpbk0w</a><br/>\n",
       "                Run data is saved locally in <code>/home/abaowei/SideProject/TBrain-2021Winter-Esun/wandb/run-20220109_025213-fwfpbk0w</code><br/><br/>\n",
       "            "
      ],
      "text/plain": [
       "<IPython.core.display.HTML object>"
      ]
     },
     "metadata": {},
     "output_type": "display_data"
    }
   ],
   "source": [
    "# Init Wandb run entry\n",
    "ens = wandb.init(project='Esun',\n",
    "                 job_type='ensemble')"
   ]
  },
  {
   "cell_type": "code",
   "execution_count": 3,
   "id": "informal-background",
   "metadata": {},
   "outputs": [
    {
     "name": "stderr",
     "output_type": "stream",
     "text": [
      "\u001b[34m\u001b[1mwandb\u001b[0m: Downloading large artifact blend_infer:v5, 80.11MB. 1 files... Done. 0:0:0\n"
     ]
    }
   ],
   "source": [
    "# Shortcut for accessing submission file of the specified version \n",
    "output = ens.use_artifact(f'blend_infer:v5', type='output')\n",
    "output_dir = output.download()\n",
    "with open(os.path.join(output_dir, 'dt25.pkl'), 'rb') as f:\n",
    "    oof_pred = pickle.load(f)\n",
    "oof_pred['y_pred'].to_csv(\"./submission.csv\", index=False)\n",
    "# models = []\n",
    "# for m in os.listdir(f\"{output_dir}/meta_models\"):\n",
    "#     if not m.endswith('pkl'): continue\n",
    "#     with open(f\"{output_dir}/meta_models/{m}\", 'rb') as f:\n",
    "#         models.append(pickle.load(f))"
   ]
  },
  {
   "cell_type": "markdown",
   "id": "processed-yeast",
   "metadata": {},
   "source": [
    "## *Blending*\n",
    "Blending uses weighted sum of the predicting probability distributions from different base models, trying to boost the performance by considering each base model's merit.\n",
    "<div class=\"alert alert-block alert-danger\">\n",
    "    <p>Implementation in cells below provides me with a playground to quickly see how blending performs. Upon obtaining a satisfactory validation score, formal blending is run using script <code>blend.py</code> to obtain the blended results for submission or next-level ensemble (<i>e.g.</i>, stacking).</p>\n",
    "</div>\n",
    "\n",
    "### **Blending Candidates**\n",
    "|                 |      |      |      |      |     |     |     |\n",
    "| --------------- | ---- | ---- | ---- | ---- | --- | --- | --- |\n",
    "| Trained Type    | lgbm | lgmb | lgbm |  | xgb | xgb | xgb |\n",
    "| Trained Version | 11 | 12 | 16 |  | 3 | 4 | 8 |\n",
    "| NDCG@3 (dt24)   | 0.72674 | 0.72626 | 0.72726 |  | 0.72670 | 0.72655 | 0.72755 |\n",
    "\n",
    "### 1. Naive Blending "
   ]
  },
  {
   "cell_type": "code",
   "execution_count": null,
   "id": "proved-spouse",
   "metadata": {},
   "outputs": [],
   "source": [
    "def naive_blend(ens, trained_types, trained_versions):\n",
    "    '''Blend predicting results from multiple base models by summing\n",
    "    them with equal weights.\n",
    "    \n",
    "    Parameter:\n",
    "        ens: obj, wandb run object\n",
    "        trained_types: list, meta-model type\n",
    "        trained_versions: list, meta-model version\n",
    "    \n",
    "    Return:\n",
    "        pk:\n",
    "        y_true:\n",
    "        oof_pred_blended:\n",
    "    '''\n",
    "    pk, y_true = None, None \n",
    "    oof_pred_blended = None\n",
    "    for t, (i, v) in zip(trained_types, enumerate(trained_versions)):\n",
    "        output = ens.use_artifact(f'{t}:v{v}', type='output')\n",
    "        output_dir = output.download()\n",
    "        with open(os.path.join(output_dir, 'pred_reports/24.pkl'), 'rb') as f:\n",
    "            oof_pred = pickle.load(f)\n",
    "        if i == 0:\n",
    "            oof_pred_blended = oof_pred['y_pred'] / len(trained_versions)\n",
    "            pk = oof_pred['index']\n",
    "            y_true = oof_pred['y_true']\n",
    "        else: oof_pred_blended += oof_pred['y_pred'] / len(trained_versions)\n",
    "        del output, oof_pred\n",
    "    return pk, y_true, oof_pred_blended"
   ]
  },
  {
   "cell_type": "code",
   "execution_count": null,
   "id": "apparent-sigma",
   "metadata": {},
   "outputs": [],
   "source": [
    "# Specify versions to blend\n",
    "blend_candidates = [\n",
    "    (['lgbm_meta', 'lgbm_meta', 'xgb_meta', 'xgb_meta'], [11, 12, 3, 4]),\n",
    "    (['lgbm_meta', 'xgb_meta', 'xgb_meta'], [11, 3, 4]),\n",
    "    (['lgbm_meta', 'xgb_meta', 'xgb_meta'], [12, 3, 4]),\n",
    "    (['lgbm_meta', 'xgb_meta'], [11, 3]),\n",
    "    (['lgbm_meta', 'xgb_meta'], [11, 4]),\n",
    "    (['lgbm_meta', 'xgb_meta'], [12, 3]),\n",
    "    (['lgbm_meta', 'xgb_meta'], [12, 4]),\n",
    "    (['lgbm_meta', 'lgbm_meta'], [11, 12]),\n",
    "    (['xgb_meta', 'xgb_meta'], [3, 4]),\n",
    "    #------------------------------------#\n",
    "    (['lgbm_meta', 'xgb_meta'], [16, 8]),\n",
    "]"
   ]
  },
  {
   "cell_type": "code",
   "execution_count": null,
   "id": "raising-continent",
   "metadata": {},
   "outputs": [],
   "source": [
    "# Run naive blending with equal weights\n",
    "for trained_types, trained_versions in blend_candidates:\n",
    "    pk, y_true, oof_pred_blended = naive_blend(ens, trained_types, trained_versions)\n",
    "    oof_rank_blended = rank_mcls_naive(pk, oof_pred_blended)\n",
    "    evaluator = EvaluatorRank(\"./data/raw/raw_data.parquet\", t_next=24)\n",
    "    ndcg = evaluator.evaluate(oof_rank_blended)\n",
    "    print(f\"{trained_types} | {trained_versions}\")\n",
    "    print(f\"NDCG@3 with blending: {ndcg}!!\")\n",
    "    del pk, y_true, oof_pred_blended, oof_rank_blended, evaluator"
   ]
  },
  {
   "cell_type": "code",
   "execution_count": null,
   "id": "resident-sampling",
   "metadata": {},
   "outputs": [],
   "source": [
    "# Run naive blending with equal weights\n",
    "for trained_types, trained_versions in blend_candidates[-1:]:\n",
    "    pk, y_true, oof_pred_blended = naive_blend(ens, trained_types, trained_versions)\n",
    "    oof_rank_blended = rank_mcls_naive(pk, oof_pred_blended)\n",
    "    evaluator = EvaluatorRank(\"./data/raw/raw_data.parquet\", t_next=24)\n",
    "    ndcg = evaluator.evaluate(oof_rank_blended)\n",
    "    print(f\"{trained_types} | {trained_versions}\")\n",
    "    print(f\"NDCG@3 with blending: {ndcg}!!\")\n",
    "    del pk, y_true, oof_pred_blended, oof_rank_blended, evaluator"
   ]
  },
  {
   "cell_type": "code",
   "execution_count": null,
   "id": "recent-nitrogen",
   "metadata": {},
   "outputs": [],
   "source": [
    "pk, y_true, oof_pred_blended = naive_blend(ens, ['blend', 'blend'], [0, 5])\n",
    "oof_rank_blended = rank_mcls_naive(pk, oof_pred_blended)\n",
    "evaluator = EvaluatorRank(\"./data/raw/raw_data.parquet\", t_next=24)\n",
    "ndcg = evaluator.evaluate(oof_rank_blended)\n",
    "print(f\"['blend', 'blend'] | [0, 5]\")\n",
    "print(f\"NDCG@3 with blending: {ndcg}!!\")"
   ]
  },
  {
   "cell_type": "markdown",
   "id": "scientific-collapse",
   "metadata": {},
   "source": [
    "### 2. Bayesian Opt\n",
    "Instead of blending predicting results with equal weights, **bayesian optimization** is a technique helping us find a better set of blending weight (*i.e.*, coefficient)."
   ]
  },
  {
   "cell_type": "code",
   "execution_count": 3,
   "id": "radical-legislation",
   "metadata": {},
   "outputs": [],
   "source": [
    "def ndcg_fn(ens, trained_types, trained_versions, **coefs):\n",
    "    '''Return NDCG@3 of the blended model given blending weights.\n",
    "    \n",
    "    Parameters:\n",
    "        ens: obj, wandb run object\n",
    "        trained_types: list, meta-model type\n",
    "        trained_versions: list, meta-model version\n",
    "        coefs: dict, coefficient of each base model considered in \n",
    "               blending\n",
    "    \n",
    "    Return:\n",
    "        ndcg_blended: float, NDCG@3 of the blended model \n",
    "    '''\n",
    "    pk = None\n",
    "    oof_pred_blended = None\n",
    "    for i, (_, coef) in enumerate(coefs.items()):\n",
    "        tr_type, tr_ver = trained_types[i], trained_versions[i]\n",
    "        tr_ver = int(\"\".join([c for c in tr_ver if c.isdigit()]))\n",
    "        output = ens.use_artifact(f'{tr_type}:v{tr_ver}', type='output')\n",
    "        output_dir = output.download()\n",
    "        with open(os.path.join(output_dir, 'pred_reports/24.pkl'), 'rb') as f:\n",
    "            oof_pred = pickle.load(f)\n",
    "        if i == 0:\n",
    "            oof_pred_blended = oof_pred['y_pred'] * coef\n",
    "            pk = oof_pred['index']\n",
    "        else: oof_pred_blended += oof_pred['y_pred'] * coef\n",
    "        del output, oof_pred\n",
    "    oof_rank_blended = rank_mcls_naive(pk, oof_pred_blended)\n",
    "    evaluator = EvaluatorRank(\"./data/raw/raw_data.parquet\", t_next=24)\n",
    "    ndcg = evaluator.evaluate(oof_rank_blended)['NDCG@3']\n",
    "    \n",
    "    return ndcg"
   ]
  },
  {
   "cell_type": "markdown",
   "id": "alert-drove",
   "metadata": {},
   "source": [
    "#### a. Original Miscellaneous"
   ]
  },
  {
   "cell_type": "code",
   "execution_count": null,
   "id": "specific-williams",
   "metadata": {},
   "outputs": [],
   "source": [
    "# Configure base models to put in bayesian opt blending \n",
    "trained_types = ['lgbm' for  _  in range(15)]\n",
    "trained_versions = ['47', '144'] + [str(v) for v in range(149, 155)] + [str(v) for v in range(166, 173)]\n",
    "coefs = {v: (0, 1) for v in trained_versions}"
   ]
  },
  {
   "cell_type": "code",
   "execution_count": null,
   "id": "chief-bailey",
   "metadata": {},
   "outputs": [],
   "source": [
    "# Run bayesian optimization\n",
    "ndcg_fn_ = partial(ndcg_fn, ens, trained_types, trained_versions)\n",
    "optimizer = BayesianOptimization(f=ndcg_fn_, pbounds=coefs, random_state=168)\n",
    "optimizer.maximize(init_points=50, n_iter=20)"
   ]
  },
  {
   "cell_type": "code",
   "execution_count": null,
   "id": "starting-shame",
   "metadata": {},
   "outputs": [],
   "source": [
    "# Obtain the best set of blending coefficients\n",
    "print(f\"NDCG@3: {optimizer.max['target']}\")\n",
    "wts = {'ver': trained_versions, 'weights': list(optimizer.max['params'].values())}\n",
    "display(pd.DataFrame.from_dict(wts).T)"
   ]
  },
  {
   "cell_type": "markdown",
   "id": "hawaiian-iceland",
   "metadata": {},
   "source": [
    "#### b. Original Miscellaneous 47, 144 Excluded"
   ]
  },
  {
   "cell_type": "code",
   "execution_count": null,
   "id": "directed-prerequisite",
   "metadata": {},
   "outputs": [],
   "source": [
    "# Configure base models to put in bayesian opt blending \n",
    "trained_types = ['lgbm' for  _  in range(13)]\n",
    "trained_versions = [str(v) for v in range(149, 155)] + [str(v) for v in range(166, 173)]\n",
    "coefs = {v: (0, 1) for v in trained_versions}"
   ]
  },
  {
   "cell_type": "code",
   "execution_count": null,
   "id": "floral-consistency",
   "metadata": {},
   "outputs": [],
   "source": [
    "# Run bayesian optimization\n",
    "ndcg_fn_ = partial(ndcg_fn, ens, trained_types, trained_versions)\n",
    "optimizer = BayesianOptimization(f=ndcg_fn_, pbounds=coefs, random_state=168)\n",
    "optimizer.maximize(init_points=50, n_iter=20)"
   ]
  },
  {
   "cell_type": "code",
   "execution_count": null,
   "id": "electoral-methodology",
   "metadata": {},
   "outputs": [],
   "source": [
    "# Obtain the best set of blending coefficients\n",
    "print(f\"NDCG@3: {optimizer.max['target']}\")\n",
    "wts = {'ver': trained_versions, 'weights': list(optimizer.max['params'].values())}\n",
    "display(pd.DataFrame.from_dict(wts).T)"
   ]
  },
  {
   "cell_type": "markdown",
   "id": "expired-leadership",
   "metadata": {},
   "source": [
    "#### c. Illegal-Focused"
   ]
  },
  {
   "cell_type": "code",
   "execution_count": null,
   "id": "acceptable-tackle",
   "metadata": {},
   "outputs": [],
   "source": [
    "# Configure base models to put in bayesian opt blending \n",
    "trained_types = ['lgbm' for  _  in range(11)]\n",
    "trained_versions = [str(v) for v in range(173, 184)]\n",
    "coefs = {v: (0, 1) for v in trained_versions}"
   ]
  },
  {
   "cell_type": "code",
   "execution_count": null,
   "id": "smooth-financing",
   "metadata": {},
   "outputs": [],
   "source": [
    "# Run bayesian optimization\n",
    "ndcg_fn_ = partial(ndcg_fn, ens, trained_types, trained_versions)\n",
    "optimizer = BayesianOptimization(f=ndcg_fn_, pbounds=coefs, random_state=168)\n",
    "optimizer.maximize(init_points=50, n_iter=20)"
   ]
  },
  {
   "cell_type": "code",
   "execution_count": null,
   "id": "extra-wyoming",
   "metadata": {},
   "outputs": [],
   "source": [
    "# Obtain the best set of blending coefficients\n",
    "optimizer.max"
   ]
  },
  {
   "cell_type": "code",
   "execution_count": null,
   "id": "healthy-conclusion",
   "metadata": {},
   "outputs": [],
   "source": [
    "# Manually blend top4 with equal weights\n",
    "train_v = [177, 178, 182, 183]\n",
    "coef_manual = {str(i): 1 for i in a}\n",
    "ndcg_fn(ens, ['lgbm' for _ in range(4)], train_v, **coef_manual)"
   ]
  },
  {
   "cell_type": "markdown",
   "id": "rubber-shelter",
   "metadata": {},
   "source": [
    "#### d. Final Godset"
   ]
  },
  {
   "cell_type": "code",
   "execution_count": null,
   "id": "consecutive-violence",
   "metadata": {},
   "outputs": [],
   "source": [
    "# Configure base models to put in bayesian opt blending \n",
    "trained_types = ['lgbm' for  _  in range(12)]\n",
    "trained_versions = [str(v) for v in range(184, 196)]\n",
    "coefs = {v: (0, 1) for v in trained_versions}"
   ]
  },
  {
   "cell_type": "code",
   "execution_count": null,
   "id": "lonely-reynolds",
   "metadata": {},
   "outputs": [],
   "source": [
    "# Run bayesian optimization\n",
    "ndcg_fn_ = partial(ndcg_fn, ens, trained_types, trained_versions)\n",
    "optimizer = BayesianOptimization(f=ndcg_fn_, pbounds=coefs, random_state=168)\n",
    "optimizer.maximize(init_points=50, n_iter=20)"
   ]
  },
  {
   "cell_type": "code",
   "execution_count": null,
   "id": "honest-thanksgiving",
   "metadata": {},
   "outputs": [],
   "source": [
    "# Obtain the best set of blending coefficients\n",
    "optimizer.max"
   ]
  },
  {
   "cell_type": "markdown",
   "id": "bulgarian-render",
   "metadata": {},
   "source": [
    "#### e. Meta-models1"
   ]
  },
  {
   "cell_type": "code",
   "execution_count": null,
   "id": "vertical-alaska",
   "metadata": {},
   "outputs": [],
   "source": [
    "# Configure base models to put in bayesian opt blending \n",
    "meta_types = ['lgbm_meta' for  _  in range(6)] + ['xgb_meta' for _ in range(5)]\n",
    "meta_versions = [f'l{v}' for v in [11, 12, 16, 17, 18, 19]] + [f'x{v}' for v in [3, 4, 8, 9, 10]]\n",
    "coefs = {v: (0, 1) for v in meta_versions}"
   ]
  },
  {
   "cell_type": "code",
   "execution_count": null,
   "id": "elder-veteran",
   "metadata": {},
   "outputs": [],
   "source": [
    "# Run bayesian optimization\n",
    "ndcg_fn_ = partial(ndcg_fn, ens, meta_types, meta_versions)\n",
    "optimizer = BayesianOptimization(f=ndcg_fn_, pbounds=coefs, random_state=168)\n",
    "optimizer.maximize(init_points=50, n_iter=20)"
   ]
  },
  {
   "cell_type": "code",
   "execution_count": null,
   "id": "chicken-equipment",
   "metadata": {},
   "outputs": [],
   "source": [
    "# Obtain the best set of blending coefficients\n",
    "optimizer.max"
   ]
  },
  {
   "cell_type": "markdown",
   "id": "mediterranean-context",
   "metadata": {},
   "source": [
    "#### e. Meta-models2"
   ]
  },
  {
   "cell_type": "code",
   "execution_count": null,
   "id": "conceptual-burden",
   "metadata": {},
   "outputs": [],
   "source": [
    "l = [v for v in range(10, 25)]\n",
    "l.remove(13)\n",
    "l.remove(22)\n",
    "\n",
    "x = [v for v in range(3, 15)]"
   ]
  },
  {
   "cell_type": "code",
   "execution_count": null,
   "id": "crude-cancellation",
   "metadata": {},
   "outputs": [],
   "source": [
    "# Configure base models to put in bayesian opt blending \n",
    "meta_types = ['lgbm_meta' for  _  in range(13)] + ['xgb_meta' for _ in range(12)]\n",
    "meta_versions = [f'l{v}' for v in l] + [f'x{v}' for v in x]\n",
    "coefs = {v: (0, 1) for v in meta_versions}"
   ]
  },
  {
   "cell_type": "code",
   "execution_count": null,
   "id": "genetic-parent",
   "metadata": {},
   "outputs": [],
   "source": [
    "# Run bayesian optimization\n",
    "ndcg_fn_ = partial(ndcg_fn, ens, meta_types, meta_versions)\n",
    "optimizer = BayesianOptimization(f=ndcg_fn_, pbounds=coefs, random_state=168)\n",
    "optimizer.maximize(init_points=50, n_iter=40)"
   ]
  },
  {
   "cell_type": "code",
   "execution_count": null,
   "id": "national-bosnia",
   "metadata": {},
   "outputs": [],
   "source": [
    "# Obtain the best set of blending coefficients\n",
    "pd.set_option('max_column', 25)\n",
    "print(f\"NDCG@3: {optimizer.max['target']}\")\n",
    "wts = {'ver': meta_versions, 'weights': list(optimizer.max['params'].values())}\n",
    "display(pd.DataFrame.from_dict(wts).T)"
   ]
  },
  {
   "cell_type": "markdown",
   "id": "surprising-bulgaria",
   "metadata": {},
   "source": [
    "#### f. Meta-models3"
   ]
  },
  {
   "cell_type": "code",
   "execution_count": 4,
   "id": "normal-nutrition",
   "metadata": {},
   "outputs": [],
   "source": [
    "# Configure base models to put in bayesian opt blending \n",
    "meta_types = ['lgbm_meta' for  _  in range(4)] + ['xgb_meta' for _ in range(3)]\n",
    "meta_versions = [f'l{v}' for v in [16, 18, 19, 28]] + [f'x{v}' for v in [8, 10, 18]]\n",
    "coefs = {v: (0, 1) for v in meta_versions}"
   ]
  },
  {
   "cell_type": "code",
   "execution_count": null,
   "id": "million-announcement",
   "metadata": {},
   "outputs": [],
   "source": [
    "# Run bayesian optimization\n",
    "ndcg_fn_ = partial(ndcg_fn, ens, meta_types, meta_versions)\n",
    "optimizer = BayesianOptimization(f=ndcg_fn_, pbounds=coefs, random_state=168)\n",
    "optimizer.maximize(init_points=50, n_iter=50)"
   ]
  },
  {
   "cell_type": "code",
   "execution_count": null,
   "id": "hollywood-discovery",
   "metadata": {},
   "outputs": [],
   "source": [
    "# Obtain the best set of blending coefficients\n",
    "pd.set_option('max_column', 25)\n",
    "print(f\"NDCG@3: {optimizer.max['target']}\")\n",
    "wts = {'ver': meta_versions, 'weights': list(optimizer.max['params'].values())}\n",
    "display(pd.DataFrame.from_dict(wts).T)"
   ]
  },
  {
   "cell_type": "code",
   "execution_count": 6,
   "id": "recognized-optimization",
   "metadata": {
    "collapsed": true,
    "jupyter": {
     "outputs_hidden": true
    }
   },
   "outputs": [
    {
     "name": "stdout",
     "output_type": "stream",
     "text": [
      "|   iter    |  target   |    l16    |    l18    |    l19    |    l28    |    x10    |    x18    |    x8     |\n",
      "-------------------------------------------------------------------------------------------------------------\n"
     ]
    },
    {
     "name": "stderr",
     "output_type": "stream",
     "text": [
      "\u001b[34m\u001b[1mwandb\u001b[0m: Downloading large artifact lgbm_meta:v16, 557.89MB. 7 files... Done. 0:0:0\n",
      "\u001b[34m\u001b[1mwandb\u001b[0m: Downloading large artifact lgbm_meta:v18, 554.43MB. 7 files... Done. 0:0:0\n",
      "\u001b[34m\u001b[1mwandb\u001b[0m: Downloading large artifact lgbm_meta:v19, 552.47MB. 7 files... Done. 0:0:0\n",
      "\u001b[34m\u001b[1mwandb\u001b[0m: Downloading large artifact lgbm_meta:v28, 558.00MB. 7 files... Done. 0:0:0\n",
      "\u001b[34m\u001b[1mwandb\u001b[0m: Downloading large artifact xgb_meta:v8, 768.16MB. 7 files... Done. 0:0:0\n",
      "\u001b[34m\u001b[1mwandb\u001b[0m: Downloading large artifact xgb_meta:v10, 766.76MB. 7 files... Done. 0:0:0\n",
      "\u001b[34m\u001b[1mwandb\u001b[0m: Downloading large artifact xgb_meta:v18, 759.23MB. 7 files... Done. 0:0:0\n",
      "100%|██████████| 500000/500000 [00:05<00:00, 91032.19it/s]\n"
     ]
    },
    {
     "name": "stdout",
     "output_type": "stream",
     "text": [
      "| \u001b[0m 1       \u001b[0m | \u001b[0m 0.7279  \u001b[0m | \u001b[0m 0.9084  \u001b[0m | \u001b[0m 0.7454  \u001b[0m | \u001b[0m 0.9036  \u001b[0m | \u001b[0m 0.5348  \u001b[0m | \u001b[0m 0.6379  \u001b[0m | \u001b[0m 0.1383  \u001b[0m | \u001b[0m 0.3774  \u001b[0m |\n"
     ]
    },
    {
     "name": "stderr",
     "output_type": "stream",
     "text": [
      "\u001b[34m\u001b[1mwandb\u001b[0m: Downloading large artifact lgbm_meta:v16, 557.89MB. 7 files... Done. 0:0:0\n",
      "\u001b[34m\u001b[1mwandb\u001b[0m: Downloading large artifact lgbm_meta:v18, 554.43MB. 7 files... Done. 0:0:0\n",
      "\u001b[34m\u001b[1mwandb\u001b[0m: Downloading large artifact lgbm_meta:v19, 552.47MB. 7 files... Done. 0:0:0\n",
      "\u001b[34m\u001b[1mwandb\u001b[0m: Downloading large artifact lgbm_meta:v28, 558.00MB. 7 files... Done. 0:0:0\n",
      "\u001b[34m\u001b[1mwandb\u001b[0m: Downloading large artifact xgb_meta:v8, 768.16MB. 7 files... Done. 0:0:0\n",
      "\u001b[34m\u001b[1mwandb\u001b[0m: Downloading large artifact xgb_meta:v10, 766.76MB. 7 files... Done. 0:0:0\n",
      "\u001b[34m\u001b[1mwandb\u001b[0m: Downloading large artifact xgb_meta:v18, 759.23MB. 7 files... Done. 0:0:0\n",
      "100%|██████████| 500000/500000 [00:05<00:00, 90448.94it/s]\n"
     ]
    },
    {
     "name": "stdout",
     "output_type": "stream",
     "text": [
      "| \u001b[0m 2       \u001b[0m | \u001b[0m 0.7279  \u001b[0m | \u001b[0m 0.3381  \u001b[0m | \u001b[0m 0.4691  \u001b[0m | \u001b[0m 0.6268  \u001b[0m | \u001b[0m 0.5651  \u001b[0m | \u001b[0m 0.9     \u001b[0m | \u001b[0m 0.1057  \u001b[0m | \u001b[0m 0.3422  \u001b[0m |\n"
     ]
    },
    {
     "name": "stderr",
     "output_type": "stream",
     "text": [
      "\u001b[34m\u001b[1mwandb\u001b[0m: Downloading large artifact lgbm_meta:v16, 557.89MB. 7 files... Done. 0:0:0\n",
      "\u001b[34m\u001b[1mwandb\u001b[0m: Downloading large artifact lgbm_meta:v18, 554.43MB. 7 files... Done. 0:0:0\n",
      "\u001b[34m\u001b[1mwandb\u001b[0m: Downloading large artifact lgbm_meta:v19, 552.47MB. 7 files... Done. 0:0:0\n",
      "\u001b[34m\u001b[1mwandb\u001b[0m: Downloading large artifact lgbm_meta:v28, 558.00MB. 7 files... Done. 0:0:0\n",
      "\u001b[34m\u001b[1mwandb\u001b[0m: Downloading large artifact xgb_meta:v8, 768.16MB. 7 files... Done. 0:0:0\n",
      "\u001b[34m\u001b[1mwandb\u001b[0m: Downloading large artifact xgb_meta:v10, 766.76MB. 7 files... Done. 0:0:0\n",
      "\u001b[34m\u001b[1mwandb\u001b[0m: Downloading large artifact xgb_meta:v18, 759.23MB. 7 files... Done. 0:0:0\n",
      "100%|██████████| 500000/500000 [00:05<00:00, 90137.33it/s]\n"
     ]
    },
    {
     "name": "stdout",
     "output_type": "stream",
     "text": [
      "| \u001b[0m 3       \u001b[0m | \u001b[0m 0.7278  \u001b[0m | \u001b[0m 0.7459  \u001b[0m | \u001b[0m 0.3747  \u001b[0m | \u001b[0m 0.345   \u001b[0m | \u001b[0m 0.3452  \u001b[0m | \u001b[0m 0.8321  \u001b[0m | \u001b[0m 0.03658 \u001b[0m | \u001b[0m 0.9485  \u001b[0m |\n"
     ]
    },
    {
     "name": "stderr",
     "output_type": "stream",
     "text": [
      "\u001b[34m\u001b[1mwandb\u001b[0m: Downloading large artifact lgbm_meta:v16, 557.89MB. 7 files... Done. 0:0:0\n",
      "\u001b[34m\u001b[1mwandb\u001b[0m: Downloading large artifact lgbm_meta:v18, 554.43MB. 7 files... Done. 0:0:0\n",
      "\u001b[34m\u001b[1mwandb\u001b[0m: Downloading large artifact lgbm_meta:v19, 552.47MB. 7 files... Done. 0:0:0\n",
      "\u001b[34m\u001b[1mwandb\u001b[0m: Downloading large artifact lgbm_meta:v28, 558.00MB. 7 files... Done. 0:0:0\n",
      "\u001b[34m\u001b[1mwandb\u001b[0m: Downloading large artifact xgb_meta:v8, 768.16MB. 7 files... Done. 0:0:0\n",
      "\u001b[34m\u001b[1mwandb\u001b[0m: Downloading large artifact xgb_meta:v10, 766.76MB. 7 files... Done. 0:0:0\n",
      "\u001b[34m\u001b[1mwandb\u001b[0m: Downloading large artifact xgb_meta:v18, 759.23MB. 7 files... Done. 0:0:0\n",
      "100%|██████████| 500000/500000 [00:05<00:00, 91044.11it/s]\n"
     ]
    },
    {
     "name": "stdout",
     "output_type": "stream",
     "text": [
      "| \u001b[95m 4       \u001b[0m | \u001b[95m 0.7279  \u001b[0m | \u001b[95m 0.6996  \u001b[0m | \u001b[95m 0.4786  \u001b[0m | \u001b[95m 0.9553  \u001b[0m | \u001b[95m 0.6208  \u001b[0m | \u001b[95m 0.7047  \u001b[0m | \u001b[95m 0.2026  \u001b[0m | \u001b[95m 0.2827  \u001b[0m |\n"
     ]
    },
    {
     "name": "stderr",
     "output_type": "stream",
     "text": [
      "\u001b[34m\u001b[1mwandb\u001b[0m: Downloading large artifact lgbm_meta:v16, 557.89MB. 7 files... Done. 0:0:0\n",
      "\u001b[34m\u001b[1mwandb\u001b[0m: Downloading large artifact lgbm_meta:v18, 554.43MB. 7 files... Done. 0:0:0\n",
      "\u001b[34m\u001b[1mwandb\u001b[0m: Downloading large artifact lgbm_meta:v19, 552.47MB. 7 files... Done. 0:0:0\n",
      "\u001b[34m\u001b[1mwandb\u001b[0m: Downloading large artifact lgbm_meta:v28, 558.00MB. 7 files... Done. 0:0:0\n",
      "\u001b[34m\u001b[1mwandb\u001b[0m: Downloading large artifact xgb_meta:v8, 768.16MB. 7 files... Done. 0:0:0\n",
      "\u001b[34m\u001b[1mwandb\u001b[0m: Downloading large artifact xgb_meta:v10, 766.76MB. 7 files... Done. 0:0:0\n",
      "\u001b[34m\u001b[1mwandb\u001b[0m: Downloading large artifact xgb_meta:v18, 759.23MB. 7 files... Done. 0:0:0\n",
      "100%|██████████| 500000/500000 [00:05<00:00, 87952.06it/s]\n"
     ]
    },
    {
     "name": "stdout",
     "output_type": "stream",
     "text": [
      "| \u001b[95m 5       \u001b[0m | \u001b[95m 0.7279  \u001b[0m | \u001b[95m 0.06931 \u001b[0m | \u001b[95m 0.6215  \u001b[0m | \u001b[95m 0.04366 \u001b[0m | \u001b[95m 0.5848  \u001b[0m | \u001b[95m 0.5975  \u001b[0m | \u001b[95m 0.9951  \u001b[0m | \u001b[95m 0.3936  \u001b[0m |\n"
     ]
    },
    {
     "name": "stderr",
     "output_type": "stream",
     "text": [
      "\u001b[34m\u001b[1mwandb\u001b[0m: Downloading large artifact lgbm_meta:v16, 557.89MB. 7 files... Done. 0:0:0\n",
      "\u001b[34m\u001b[1mwandb\u001b[0m: Downloading large artifact lgbm_meta:v18, 554.43MB. 7 files... Done. 0:0:0\n",
      "\u001b[34m\u001b[1mwandb\u001b[0m: Downloading large artifact lgbm_meta:v19, 552.47MB. 7 files... Done. 0:0:0\n",
      "\u001b[34m\u001b[1mwandb\u001b[0m: Downloading large artifact lgbm_meta:v28, 558.00MB. 7 files... Done. 0:0:0\n",
      "\u001b[34m\u001b[1mwandb\u001b[0m: Downloading large artifact xgb_meta:v8, 768.16MB. 7 files... Done. 0:0:0\n",
      "\u001b[34m\u001b[1mwandb\u001b[0m: Downloading large artifact xgb_meta:v10, 766.76MB. 7 files... Done. 0:0:0\n",
      "\u001b[34m\u001b[1mwandb\u001b[0m: Downloading large artifact xgb_meta:v18, 759.23MB. 7 files... Done. 0:0:0\n",
      "100%|██████████| 500000/500000 [00:05<00:00, 89493.04it/s]\n"
     ]
    },
    {
     "name": "stdout",
     "output_type": "stream",
     "text": [
      "| \u001b[0m 6       \u001b[0m | \u001b[0m 0.7278  \u001b[0m | \u001b[0m 0.9138  \u001b[0m | \u001b[0m 0.8065  \u001b[0m | \u001b[0m 0.2526  \u001b[0m | \u001b[0m 0.9488  \u001b[0m | \u001b[0m 0.4533  \u001b[0m | \u001b[0m 0.6818  \u001b[0m | \u001b[0m 0.9099  \u001b[0m |\n"
     ]
    },
    {
     "name": "stderr",
     "output_type": "stream",
     "text": [
      "\u001b[34m\u001b[1mwandb\u001b[0m: Downloading large artifact lgbm_meta:v16, 557.89MB. 7 files... Done. 0:0:0\n",
      "\u001b[34m\u001b[1mwandb\u001b[0m: Downloading large artifact lgbm_meta:v18, 554.43MB. 7 files... Done. 0:0:0\n",
      "\u001b[34m\u001b[1mwandb\u001b[0m: Downloading large artifact lgbm_meta:v19, 552.47MB. 7 files... Done. 0:0:0\n",
      "\u001b[34m\u001b[1mwandb\u001b[0m: Downloading large artifact lgbm_meta:v28, 558.00MB. 7 files... Done. 0:0:0\n",
      "\u001b[34m\u001b[1mwandb\u001b[0m: Downloading large artifact xgb_meta:v8, 768.16MB. 7 files... Done. 0:0:0\n",
      "\u001b[34m\u001b[1mwandb\u001b[0m: Downloading large artifact xgb_meta:v10, 766.76MB. 7 files... Done. 0:0:0\n",
      "\u001b[34m\u001b[1mwandb\u001b[0m: Downloading large artifact xgb_meta:v18, 759.23MB. 7 files... Done. 0:0:0\n",
      "100%|██████████| 500000/500000 [00:05<00:00, 89651.43it/s]\n"
     ]
    },
    {
     "name": "stdout",
     "output_type": "stream",
     "text": [
      "| \u001b[95m 7       \u001b[0m | \u001b[95m 0.728   \u001b[0m | \u001b[95m 0.06419 \u001b[0m | \u001b[95m 0.8581  \u001b[0m | \u001b[95m 0.2881  \u001b[0m | \u001b[95m 0.3561  \u001b[0m | \u001b[95m 0.9261  \u001b[0m | \u001b[95m 0.8249  \u001b[0m | \u001b[95m 0.01382 \u001b[0m |\n"
     ]
    },
    {
     "name": "stderr",
     "output_type": "stream",
     "text": [
      "\u001b[34m\u001b[1mwandb\u001b[0m: Downloading large artifact lgbm_meta:v16, 557.89MB. 7 files... Done. 0:0:0\n",
      "\u001b[34m\u001b[1mwandb\u001b[0m: Downloading large artifact lgbm_meta:v18, 554.43MB. 7 files... Done. 0:0:0\n",
      "\u001b[34m\u001b[1mwandb\u001b[0m: Downloading large artifact lgbm_meta:v19, 552.47MB. 7 files... Done. 0:0:0\n",
      "\u001b[34m\u001b[1mwandb\u001b[0m: Downloading large artifact lgbm_meta:v28, 558.00MB. 7 files... Done. 0:0:0\n",
      "\u001b[34m\u001b[1mwandb\u001b[0m: Downloading large artifact xgb_meta:v8, 768.16MB. 7 files... Done. 0:0:0\n",
      "\u001b[34m\u001b[1mwandb\u001b[0m: Downloading large artifact xgb_meta:v10, 766.76MB. 7 files... Done. 0:0:0\n",
      "\u001b[34m\u001b[1mwandb\u001b[0m: Downloading large artifact xgb_meta:v18, 759.23MB. 7 files... Done. 0:0:0\n",
      "100%|██████████| 500000/500000 [00:05<00:00, 89808.43it/s]\n"
     ]
    },
    {
     "name": "stdout",
     "output_type": "stream",
     "text": [
      "| \u001b[0m 8       \u001b[0m | \u001b[0m 0.7278  \u001b[0m | \u001b[0m 0.2309  \u001b[0m | \u001b[0m 0.4717  \u001b[0m | \u001b[0m 0.09563 \u001b[0m | \u001b[0m 0.4488  \u001b[0m | \u001b[0m 0.7561  \u001b[0m | \u001b[0m 0.00333 \u001b[0m | \u001b[0m 0.5888  \u001b[0m |\n"
     ]
    },
    {
     "name": "stderr",
     "output_type": "stream",
     "text": [
      "\u001b[34m\u001b[1mwandb\u001b[0m: Downloading large artifact lgbm_meta:v16, 557.89MB. 7 files... Done. 0:0:0\n",
      "\u001b[34m\u001b[1mwandb\u001b[0m: Downloading large artifact lgbm_meta:v18, 554.43MB. 7 files... Done. 0:0:0\n",
      "\u001b[34m\u001b[1mwandb\u001b[0m: Downloading large artifact lgbm_meta:v19, 552.47MB. 7 files... Done. 0:0:0\n",
      "\u001b[34m\u001b[1mwandb\u001b[0m: Downloading large artifact lgbm_meta:v28, 558.00MB. 7 files... Done. 0:0:0\n",
      "\u001b[34m\u001b[1mwandb\u001b[0m: Downloading large artifact xgb_meta:v8, 768.16MB. 7 files... Done. 0:0:0\n",
      "\u001b[34m\u001b[1mwandb\u001b[0m: Downloading large artifact xgb_meta:v10, 766.76MB. 7 files... Done. 0:0:0\n",
      "\u001b[34m\u001b[1mwandb\u001b[0m: Downloading large artifact xgb_meta:v18, 759.23MB. 7 files... Done. 0:0:0\n",
      "100%|██████████| 500000/500000 [00:05<00:00, 90633.83it/s]\n"
     ]
    },
    {
     "name": "stdout",
     "output_type": "stream",
     "text": [
      "| \u001b[0m 9       \u001b[0m | \u001b[0m 0.7279  \u001b[0m | \u001b[0m 0.4089  \u001b[0m | \u001b[0m 0.1658  \u001b[0m | \u001b[0m 0.01668 \u001b[0m | \u001b[0m 0.09469 \u001b[0m | \u001b[0m 0.9207  \u001b[0m | \u001b[0m 0.4632  \u001b[0m | \u001b[0m 0.2075  \u001b[0m |\n"
     ]
    },
    {
     "name": "stderr",
     "output_type": "stream",
     "text": [
      "\u001b[34m\u001b[1mwandb\u001b[0m: Downloading large artifact lgbm_meta:v16, 557.89MB. 7 files... Done. 0:0:0\n",
      "\u001b[34m\u001b[1mwandb\u001b[0m: Downloading large artifact lgbm_meta:v18, 554.43MB. 7 files... Done. 0:0:0\n",
      "\u001b[34m\u001b[1mwandb\u001b[0m: Downloading large artifact lgbm_meta:v19, 552.47MB. 7 files... Done. 0:0:0\n",
      "\u001b[34m\u001b[1mwandb\u001b[0m: Downloading large artifact lgbm_meta:v28, 558.00MB. 7 files... Done. 0:0:0\n",
      "\u001b[34m\u001b[1mwandb\u001b[0m: Downloading large artifact xgb_meta:v8, 768.16MB. 7 files... Done. 0:0:0\n",
      "\u001b[34m\u001b[1mwandb\u001b[0m: Downloading large artifact xgb_meta:v10, 766.76MB. 7 files... Done. 0:0:0\n",
      "\u001b[34m\u001b[1mwandb\u001b[0m: Downloading large artifact xgb_meta:v18, 759.23MB. 7 files... Done. 0:0:0\n",
      "100%|██████████| 500000/500000 [00:05<00:00, 88989.05it/s]\n"
     ]
    },
    {
     "name": "stdout",
     "output_type": "stream",
     "text": [
      "| \u001b[0m 10      \u001b[0m | \u001b[0m 0.7278  \u001b[0m | \u001b[0m 0.5204  \u001b[0m | \u001b[0m 0.1154  \u001b[0m | \u001b[0m 0.8873  \u001b[0m | \u001b[0m 0.9301  \u001b[0m | \u001b[0m 0.7244  \u001b[0m | \u001b[0m 0.6212  \u001b[0m | \u001b[0m 0.7042  \u001b[0m |\n"
     ]
    },
    {
     "name": "stderr",
     "output_type": "stream",
     "text": [
      "\u001b[34m\u001b[1mwandb\u001b[0m: Downloading large artifact lgbm_meta:v16, 557.89MB. 7 files... Done. 0:0:0\n",
      "\u001b[34m\u001b[1mwandb\u001b[0m: Downloading large artifact lgbm_meta:v18, 554.43MB. 7 files... Done. 0:0:0\n",
      "\u001b[34m\u001b[1mwandb\u001b[0m: Downloading large artifact lgbm_meta:v19, 552.47MB. 7 files... Done. 0:0:0\n",
      "\u001b[34m\u001b[1mwandb\u001b[0m: Downloading large artifact lgbm_meta:v28, 558.00MB. 7 files... Done. 0:0:0\n",
      "\u001b[34m\u001b[1mwandb\u001b[0m: Downloading large artifact xgb_meta:v8, 768.16MB. 7 files... Done. 0:0:0\n",
      "\u001b[34m\u001b[1mwandb\u001b[0m: Downloading large artifact xgb_meta:v10, 766.76MB. 7 files... Done. 0:0:0\n",
      "\u001b[34m\u001b[1mwandb\u001b[0m: Downloading large artifact xgb_meta:v18, 759.23MB. 7 files... Done. 0:0:0\n",
      "100%|██████████| 500000/500000 [00:05<00:00, 90605.87it/s]\n"
     ]
    },
    {
     "name": "stdout",
     "output_type": "stream",
     "text": [
      "| \u001b[0m 11      \u001b[0m | \u001b[0m 0.7278  \u001b[0m | \u001b[0m 0.7628  \u001b[0m | \u001b[0m 0.08166 \u001b[0m | \u001b[0m 0.04699 \u001b[0m | \u001b[0m 0.2739  \u001b[0m | \u001b[0m 0.4595  \u001b[0m | \u001b[0m 0.6861  \u001b[0m | \u001b[0m 0.6284  \u001b[0m |\n"
     ]
    },
    {
     "name": "stderr",
     "output_type": "stream",
     "text": [
      "\u001b[34m\u001b[1mwandb\u001b[0m: Downloading large artifact lgbm_meta:v16, 557.89MB. 7 files... Done. 0:0:0\n",
      "\u001b[34m\u001b[1mwandb\u001b[0m: Downloading large artifact lgbm_meta:v18, 554.43MB. 7 files... Done. 0:0:0\n",
      "\u001b[34m\u001b[1mwandb\u001b[0m: Downloading large artifact lgbm_meta:v19, 552.47MB. 7 files... Done. 0:0:0\n",
      "\u001b[34m\u001b[1mwandb\u001b[0m: Downloading large artifact lgbm_meta:v28, 558.00MB. 7 files... Done. 0:0:0\n",
      "\u001b[34m\u001b[1mwandb\u001b[0m: Downloading large artifact xgb_meta:v8, 768.16MB. 7 files... Done. 0:0:0\n",
      "\u001b[34m\u001b[1mwandb\u001b[0m: Downloading large artifact xgb_meta:v10, 766.76MB. 7 files... Done. 0:0:0\n",
      "\u001b[34m\u001b[1mwandb\u001b[0m: Downloading large artifact xgb_meta:v18, 759.23MB. 7 files... Done. 0:0:0\n",
      "100%|██████████| 500000/500000 [00:05<00:00, 88935.40it/s]\n"
     ]
    },
    {
     "name": "stdout",
     "output_type": "stream",
     "text": [
      "| \u001b[0m 12      \u001b[0m | \u001b[0m 0.7279  \u001b[0m | \u001b[0m 0.6057  \u001b[0m | \u001b[0m 0.519   \u001b[0m | \u001b[0m 0.6464  \u001b[0m | \u001b[0m 0.5024  \u001b[0m | \u001b[0m 0.8257  \u001b[0m | \u001b[0m 0.5729  \u001b[0m | \u001b[0m 0.09242 \u001b[0m |\n"
     ]
    },
    {
     "name": "stderr",
     "output_type": "stream",
     "text": [
      "\u001b[34m\u001b[1mwandb\u001b[0m: Downloading large artifact lgbm_meta:v16, 557.89MB. 7 files... Done. 0:0:0\n",
      "\u001b[34m\u001b[1mwandb\u001b[0m: Downloading large artifact lgbm_meta:v18, 554.43MB. 7 files... Done. 0:0:0\n",
      "\u001b[34m\u001b[1mwandb\u001b[0m: Downloading large artifact lgbm_meta:v19, 552.47MB. 7 files... Done. 0:0:0\n",
      "\u001b[34m\u001b[1mwandb\u001b[0m: Downloading large artifact lgbm_meta:v28, 558.00MB. 7 files... Done. 0:0:0\n",
      "\u001b[34m\u001b[1mwandb\u001b[0m: Downloading large artifact xgb_meta:v8, 768.16MB. 7 files... Done. 0:0:0\n",
      "\u001b[34m\u001b[1mwandb\u001b[0m: Downloading large artifact xgb_meta:v10, 766.76MB. 7 files... Done. 0:0:0\n",
      "\u001b[34m\u001b[1mwandb\u001b[0m: Downloading large artifact xgb_meta:v18, 759.23MB. 7 files... Done. 0:0:0\n",
      "100%|██████████| 500000/500000 [00:05<00:00, 87155.12it/s]\n"
     ]
    },
    {
     "name": "stdout",
     "output_type": "stream",
     "text": [
      "| \u001b[0m 13      \u001b[0m | \u001b[0m 0.7278  \u001b[0m | \u001b[0m 0.6323  \u001b[0m | \u001b[0m 0.5013  \u001b[0m | \u001b[0m 0.927   \u001b[0m | \u001b[0m 0.9421  \u001b[0m | \u001b[0m 0.7125  \u001b[0m | \u001b[0m 0.9122  \u001b[0m | \u001b[0m 0.5632  \u001b[0m |\n"
     ]
    },
    {
     "name": "stderr",
     "output_type": "stream",
     "text": [
      "\u001b[34m\u001b[1mwandb\u001b[0m: Downloading large artifact lgbm_meta:v16, 557.89MB. 7 files... Done. 0:0:0\n",
      "\u001b[34m\u001b[1mwandb\u001b[0m: Downloading large artifact lgbm_meta:v18, 554.43MB. 7 files... Done. 0:0:0\n",
      "\u001b[34m\u001b[1mwandb\u001b[0m: Downloading large artifact lgbm_meta:v19, 552.47MB. 7 files... Done. 0:0:0\n",
      "\u001b[34m\u001b[1mwandb\u001b[0m: Downloading large artifact lgbm_meta:v28, 558.00MB. 7 files... Done. 0:0:0\n",
      "\u001b[34m\u001b[1mwandb\u001b[0m: Downloading large artifact xgb_meta:v8, 768.16MB. 7 files... Done. 0:0:0\n",
      "\u001b[34m\u001b[1mwandb\u001b[0m: Downloading large artifact xgb_meta:v10, 766.76MB. 7 files... Done. 0:0:0\n",
      "\u001b[34m\u001b[1mwandb\u001b[0m: Downloading large artifact xgb_meta:v18, 759.23MB. 7 files... Done. 0:0:0\n",
      "100%|██████████| 500000/500000 [00:05<00:00, 91290.95it/s]\n"
     ]
    },
    {
     "name": "stdout",
     "output_type": "stream",
     "text": [
      "| \u001b[0m 14      \u001b[0m | \u001b[0m 0.7278  \u001b[0m | \u001b[0m 0.2611  \u001b[0m | \u001b[0m 0.8991  \u001b[0m | \u001b[0m 0.1341  \u001b[0m | \u001b[0m 0.991   \u001b[0m | \u001b[0m 0.8238  \u001b[0m | \u001b[0m 0.5049  \u001b[0m | \u001b[0m 0.8281  \u001b[0m |\n"
     ]
    },
    {
     "name": "stderr",
     "output_type": "stream",
     "text": [
      "\u001b[34m\u001b[1mwandb\u001b[0m: Downloading large artifact lgbm_meta:v16, 557.89MB. 7 files... Done. 0:0:0\n",
      "\u001b[34m\u001b[1mwandb\u001b[0m: Downloading large artifact lgbm_meta:v18, 554.43MB. 7 files... Done. 0:0:0\n",
      "\u001b[34m\u001b[1mwandb\u001b[0m: Downloading large artifact lgbm_meta:v19, 552.47MB. 7 files... Done. 0:0:0\n",
      "\u001b[34m\u001b[1mwandb\u001b[0m: Downloading large artifact lgbm_meta:v28, 558.00MB. 7 files... Done. 0:0:0\n",
      "\u001b[34m\u001b[1mwandb\u001b[0m: Downloading large artifact xgb_meta:v8, 768.16MB. 7 files... Done. 0:0:0\n",
      "\u001b[34m\u001b[1mwandb\u001b[0m: Downloading large artifact xgb_meta:v10, 766.76MB. 7 files... Done. 0:0:0\n",
      "\u001b[34m\u001b[1mwandb\u001b[0m: Downloading large artifact xgb_meta:v18, 759.23MB. 7 files... Done. 0:0:0\n",
      "100%|██████████| 500000/500000 [00:05<00:00, 90875.48it/s]\n"
     ]
    },
    {
     "name": "stdout",
     "output_type": "stream",
     "text": [
      "| \u001b[0m 15      \u001b[0m | \u001b[0m 0.7279  \u001b[0m | \u001b[0m 0.6759  \u001b[0m | \u001b[0m 0.301   \u001b[0m | \u001b[0m 0.3405  \u001b[0m | \u001b[0m 0.7811  \u001b[0m | \u001b[0m 0.472   \u001b[0m | \u001b[0m 0.895   \u001b[0m | \u001b[0m 0.3143  \u001b[0m |\n"
     ]
    },
    {
     "name": "stderr",
     "output_type": "stream",
     "text": [
      "\u001b[34m\u001b[1mwandb\u001b[0m: Downloading large artifact lgbm_meta:v16, 557.89MB. 7 files... Done. 0:0:0\n",
      "\u001b[34m\u001b[1mwandb\u001b[0m: Downloading large artifact lgbm_meta:v18, 554.43MB. 7 files... Done. 0:0:0\n",
      "\u001b[34m\u001b[1mwandb\u001b[0m: Downloading large artifact lgbm_meta:v19, 552.47MB. 7 files... Done. 0:0:0\n",
      "\u001b[34m\u001b[1mwandb\u001b[0m: Downloading large artifact lgbm_meta:v28, 558.00MB. 7 files... Done. 0:0:0\n",
      "\u001b[34m\u001b[1mwandb\u001b[0m: Downloading large artifact xgb_meta:v8, 768.16MB. 7 files... Done. 0:0:0\n",
      "\u001b[34m\u001b[1mwandb\u001b[0m: Downloading large artifact xgb_meta:v10, 766.76MB. 7 files... Done. 0:0:0\n",
      "\u001b[34m\u001b[1mwandb\u001b[0m: Downloading large artifact xgb_meta:v18, 759.23MB. 7 files... Done. 0:0:0\n",
      "100%|██████████| 500000/500000 [00:05<00:00, 91641.74it/s]\n"
     ]
    },
    {
     "name": "stdout",
     "output_type": "stream",
     "text": [
      "| \u001b[0m 16      \u001b[0m | \u001b[0m 0.7279  \u001b[0m | \u001b[0m 0.5028  \u001b[0m | \u001b[0m 0.5341  \u001b[0m | \u001b[0m 0.5617  \u001b[0m | \u001b[0m 0.2643  \u001b[0m | \u001b[0m 0.99    \u001b[0m | \u001b[0m 0.3146  \u001b[0m | \u001b[0m 0.1497  \u001b[0m |\n"
     ]
    },
    {
     "name": "stderr",
     "output_type": "stream",
     "text": [
      "\u001b[34m\u001b[1mwandb\u001b[0m: Downloading large artifact lgbm_meta:v16, 557.89MB. 7 files... Done. 0:0:0\n",
      "\u001b[34m\u001b[1mwandb\u001b[0m: Downloading large artifact lgbm_meta:v18, 554.43MB. 7 files... Done. 0:0:0\n",
      "\u001b[34m\u001b[1mwandb\u001b[0m: Downloading large artifact lgbm_meta:v19, 552.47MB. 7 files... Done. 0:0:0\n",
      "\u001b[34m\u001b[1mwandb\u001b[0m: Downloading large artifact lgbm_meta:v28, 558.00MB. 7 files... Done. 0:0:0\n",
      "\u001b[34m\u001b[1mwandb\u001b[0m: Downloading large artifact xgb_meta:v8, 768.16MB. 7 files... Done. 0:0:0\n",
      "\u001b[34m\u001b[1mwandb\u001b[0m: Downloading large artifact xgb_meta:v10, 766.76MB. 7 files... Done. 0:0:0\n",
      "\u001b[34m\u001b[1mwandb\u001b[0m: Downloading large artifact xgb_meta:v18, 759.23MB. 7 files... Done. 0:0:0\n",
      "100%|██████████| 500000/500000 [00:05<00:00, 90574.09it/s]\n"
     ]
    },
    {
     "name": "stdout",
     "output_type": "stream",
     "text": [
      "| \u001b[95m 17      \u001b[0m | \u001b[95m 0.728   \u001b[0m | \u001b[95m 0.3686  \u001b[0m | \u001b[95m 0.6396  \u001b[0m | \u001b[95m 0.2092  \u001b[0m | \u001b[95m 0.1394  \u001b[0m | \u001b[95m 0.8006  \u001b[0m | \u001b[95m 0.9145  \u001b[0m | \u001b[95m 0.1854  \u001b[0m |\n"
     ]
    },
    {
     "name": "stderr",
     "output_type": "stream",
     "text": [
      "\u001b[34m\u001b[1mwandb\u001b[0m: Downloading large artifact lgbm_meta:v16, 557.89MB. 7 files... Done. 0:0:0\n",
      "\u001b[34m\u001b[1mwandb\u001b[0m: Downloading large artifact lgbm_meta:v18, 554.43MB. 7 files... Done. 0:0:0\n",
      "\u001b[34m\u001b[1mwandb\u001b[0m: Downloading large artifact lgbm_meta:v19, 552.47MB. 7 files... Done. 0:0:0\n",
      "\u001b[34m\u001b[1mwandb\u001b[0m: Downloading large artifact lgbm_meta:v28, 558.00MB. 7 files... Done. 0:0:0\n",
      "\u001b[34m\u001b[1mwandb\u001b[0m: Downloading large artifact xgb_meta:v8, 768.16MB. 7 files... Done. 0:0:0\n",
      "\u001b[34m\u001b[1mwandb\u001b[0m: Downloading large artifact xgb_meta:v10, 766.76MB. 7 files... Done. 0:0:0\n",
      "\u001b[34m\u001b[1mwandb\u001b[0m: Downloading large artifact xgb_meta:v18, 759.23MB. 7 files... Done. 0:0:0\n",
      "100%|██████████| 500000/500000 [00:05<00:00, 89602.72it/s]\n"
     ]
    },
    {
     "name": "stdout",
     "output_type": "stream",
     "text": [
      "| \u001b[0m 18      \u001b[0m | \u001b[0m 0.7279  \u001b[0m | \u001b[0m 0.7312  \u001b[0m | \u001b[0m 0.2526  \u001b[0m | \u001b[0m 0.9385  \u001b[0m | \u001b[0m 0.4627  \u001b[0m | \u001b[0m 0.4441  \u001b[0m | \u001b[0m 0.5297  \u001b[0m | \u001b[0m 0.276   \u001b[0m |\n"
     ]
    },
    {
     "name": "stderr",
     "output_type": "stream",
     "text": [
      "\u001b[34m\u001b[1mwandb\u001b[0m: Downloading large artifact lgbm_meta:v16, 557.89MB. 7 files... Done. 0:0:0\n",
      "\u001b[34m\u001b[1mwandb\u001b[0m: Downloading large artifact lgbm_meta:v18, 554.43MB. 7 files... Done. 0:0:0\n",
      "\u001b[34m\u001b[1mwandb\u001b[0m: Downloading large artifact lgbm_meta:v19, 552.47MB. 7 files... Done. 0:0:0\n",
      "\u001b[34m\u001b[1mwandb\u001b[0m: Downloading large artifact lgbm_meta:v28, 558.00MB. 7 files... Done. 0:0:0\n",
      "\u001b[34m\u001b[1mwandb\u001b[0m: Downloading large artifact xgb_meta:v8, 768.16MB. 7 files... Done. 0:0:0\n",
      "\u001b[34m\u001b[1mwandb\u001b[0m: Downloading large artifact xgb_meta:v10, 766.76MB. 7 files... Done. 0:0:0\n",
      "\u001b[34m\u001b[1mwandb\u001b[0m: Downloading large artifact xgb_meta:v18, 759.23MB. 7 files... Done. 0:0:0\n",
      "100%|██████████| 500000/500000 [00:05<00:00, 90993.67it/s]\n"
     ]
    },
    {
     "name": "stdout",
     "output_type": "stream",
     "text": [
      "| \u001b[0m 19      \u001b[0m | \u001b[0m 0.7279  \u001b[0m | \u001b[0m 0.07451 \u001b[0m | \u001b[0m 0.3055  \u001b[0m | \u001b[0m 0.9669  \u001b[0m | \u001b[0m 0.4613  \u001b[0m | \u001b[0m 0.8727  \u001b[0m | \u001b[0m 0.7801  \u001b[0m | \u001b[0m 0.3619  \u001b[0m |\n"
     ]
    },
    {
     "name": "stderr",
     "output_type": "stream",
     "text": [
      "\u001b[34m\u001b[1mwandb\u001b[0m: Downloading large artifact lgbm_meta:v16, 557.89MB. 7 files... Done. 0:0:0\n",
      "\u001b[34m\u001b[1mwandb\u001b[0m: Downloading large artifact lgbm_meta:v18, 554.43MB. 7 files... Done. 0:0:0\n",
      "\u001b[34m\u001b[1mwandb\u001b[0m: Downloading large artifact lgbm_meta:v19, 552.47MB. 7 files... Done. 0:0:0\n",
      "\u001b[34m\u001b[1mwandb\u001b[0m: Downloading large artifact lgbm_meta:v28, 558.00MB. 7 files... Done. 0:0:0\n",
      "\u001b[34m\u001b[1mwandb\u001b[0m: Downloading large artifact xgb_meta:v8, 768.16MB. 7 files... Done. 0:0:0\n",
      "\u001b[34m\u001b[1mwandb\u001b[0m: Downloading large artifact xgb_meta:v10, 766.76MB. 7 files... Done. 0:0:0\n",
      "\u001b[34m\u001b[1mwandb\u001b[0m: Downloading large artifact xgb_meta:v18, 759.23MB. 7 files... Done. 0:0:0\n",
      "100%|██████████| 500000/500000 [00:05<00:00, 90357.82it/s]\n"
     ]
    },
    {
     "name": "stdout",
     "output_type": "stream",
     "text": [
      "| \u001b[0m 20      \u001b[0m | \u001b[0m 0.7278  \u001b[0m | \u001b[0m 0.5415  \u001b[0m | \u001b[0m 0.8228  \u001b[0m | \u001b[0m 0.291   \u001b[0m | \u001b[0m 0.9253  \u001b[0m | \u001b[0m 0.08372 \u001b[0m | \u001b[0m 0.8371  \u001b[0m | \u001b[0m 0.192   \u001b[0m |\n"
     ]
    },
    {
     "name": "stderr",
     "output_type": "stream",
     "text": [
      "\u001b[34m\u001b[1mwandb\u001b[0m: Downloading large artifact lgbm_meta:v16, 557.89MB. 7 files... Done. 0:0:0\n",
      "\u001b[34m\u001b[1mwandb\u001b[0m: Downloading large artifact lgbm_meta:v18, 554.43MB. 7 files... Done. 0:0:0\n",
      "\u001b[34m\u001b[1mwandb\u001b[0m: Downloading large artifact lgbm_meta:v19, 552.47MB. 7 files... Done. 0:0:0\n",
      "\u001b[34m\u001b[1mwandb\u001b[0m: Downloading large artifact lgbm_meta:v28, 558.00MB. 7 files... Done. 0:0:0\n",
      "\u001b[34m\u001b[1mwandb\u001b[0m: Downloading large artifact xgb_meta:v8, 768.16MB. 7 files... Done. 0:0:0\n",
      "\u001b[34m\u001b[1mwandb\u001b[0m: Downloading large artifact xgb_meta:v10, 766.76MB. 7 files... Done. 0:0:0\n",
      "\u001b[34m\u001b[1mwandb\u001b[0m: Downloading large artifact xgb_meta:v18, 759.23MB. 7 files... Done. 0:0:0\n",
      "100%|██████████| 500000/500000 [00:05<00:00, 91302.16it/s]\n"
     ]
    },
    {
     "name": "stdout",
     "output_type": "stream",
     "text": [
      "| \u001b[0m 21      \u001b[0m | \u001b[0m 0.7278  \u001b[0m | \u001b[0m 0.2088  \u001b[0m | \u001b[0m 0.5228  \u001b[0m | \u001b[0m 0.768   \u001b[0m | \u001b[0m 0.6373  \u001b[0m | \u001b[0m 0.6162  \u001b[0m | \u001b[0m 0.05235 \u001b[0m | \u001b[0m 0.714   \u001b[0m |\n"
     ]
    },
    {
     "name": "stderr",
     "output_type": "stream",
     "text": [
      "\u001b[34m\u001b[1mwandb\u001b[0m: Downloading large artifact lgbm_meta:v16, 557.89MB. 7 files... Done. 0:0:0\n",
      "\u001b[34m\u001b[1mwandb\u001b[0m: Downloading large artifact lgbm_meta:v18, 554.43MB. 7 files... Done. 0:0:0\n",
      "\u001b[34m\u001b[1mwandb\u001b[0m: Downloading large artifact lgbm_meta:v19, 552.47MB. 7 files... Done. 0:0:0\n",
      "\u001b[34m\u001b[1mwandb\u001b[0m: Downloading large artifact lgbm_meta:v28, 558.00MB. 7 files... Done. 0:0:0\n",
      "\u001b[34m\u001b[1mwandb\u001b[0m: Downloading large artifact xgb_meta:v8, 768.16MB. 7 files... Done. 0:0:0\n",
      "\u001b[34m\u001b[1mwandb\u001b[0m: Downloading large artifact xgb_meta:v10, 766.76MB. 7 files... Done. 0:0:0\n",
      "\u001b[34m\u001b[1mwandb\u001b[0m: Downloading large artifact xgb_meta:v18, 759.23MB. 7 files... Done. 0:0:0\n",
      "100%|██████████| 500000/500000 [00:05<00:00, 90398.41it/s]\n"
     ]
    },
    {
     "name": "stdout",
     "output_type": "stream",
     "text": [
      "| \u001b[0m 22      \u001b[0m | \u001b[0m 0.728   \u001b[0m | \u001b[0m 0.7877  \u001b[0m | \u001b[0m 0.7019  \u001b[0m | \u001b[0m 0.632   \u001b[0m | \u001b[0m 0.01609 \u001b[0m | \u001b[0m 0.4865  \u001b[0m | \u001b[0m 0.6682  \u001b[0m | \u001b[0m 0.5881  \u001b[0m |\n"
     ]
    },
    {
     "name": "stderr",
     "output_type": "stream",
     "text": [
      "\u001b[34m\u001b[1mwandb\u001b[0m: Downloading large artifact lgbm_meta:v16, 557.89MB. 7 files... Done. 0:0:0\n",
      "\u001b[34m\u001b[1mwandb\u001b[0m: Downloading large artifact lgbm_meta:v18, 554.43MB. 7 files... Done. 0:0:0\n",
      "\u001b[34m\u001b[1mwandb\u001b[0m: Downloading large artifact lgbm_meta:v19, 552.47MB. 7 files... Done. 0:0:0\n",
      "\u001b[34m\u001b[1mwandb\u001b[0m: Downloading large artifact lgbm_meta:v28, 558.00MB. 7 files... Done. 0:0:0\n",
      "\u001b[34m\u001b[1mwandb\u001b[0m: Downloading large artifact xgb_meta:v8, 768.16MB. 7 files... Done. 0:0:0\n",
      "\u001b[34m\u001b[1mwandb\u001b[0m: Downloading large artifact xgb_meta:v10, 766.76MB. 7 files... Done. 0:0:0\n",
      "\u001b[34m\u001b[1mwandb\u001b[0m: Downloading large artifact xgb_meta:v18, 759.23MB. 7 files... Done. 0:0:0\n",
      "100%|██████████| 500000/500000 [00:05<00:00, 90852.06it/s]\n"
     ]
    },
    {
     "name": "stdout",
     "output_type": "stream",
     "text": [
      "| \u001b[0m 23      \u001b[0m | \u001b[0m 0.7279  \u001b[0m | \u001b[0m 0.091   \u001b[0m | \u001b[0m 0.6612  \u001b[0m | \u001b[0m 0.8204  \u001b[0m | \u001b[0m 0.7766  \u001b[0m | \u001b[0m 0.7857  \u001b[0m | \u001b[0m 0.2492  \u001b[0m | \u001b[0m 0.465   \u001b[0m |\n"
     ]
    },
    {
     "name": "stderr",
     "output_type": "stream",
     "text": [
      "\u001b[34m\u001b[1mwandb\u001b[0m: Downloading large artifact lgbm_meta:v16, 557.89MB. 7 files... Done. 0:0:0\n",
      "\u001b[34m\u001b[1mwandb\u001b[0m: Downloading large artifact lgbm_meta:v18, 554.43MB. 7 files... Done. 0:0:0\n",
      "\u001b[34m\u001b[1mwandb\u001b[0m: Downloading large artifact lgbm_meta:v19, 552.47MB. 7 files... Done. 0:0:0\n",
      "\u001b[34m\u001b[1mwandb\u001b[0m: Downloading large artifact lgbm_meta:v28, 558.00MB. 7 files... Done. 0:0:0\n",
      "\u001b[34m\u001b[1mwandb\u001b[0m: Downloading large artifact xgb_meta:v8, 768.16MB. 7 files... Done. 0:0:0\n",
      "\u001b[34m\u001b[1mwandb\u001b[0m: Downloading large artifact xgb_meta:v10, 766.76MB. 7 files... Done. 0:0:0\n",
      "\u001b[34m\u001b[1mwandb\u001b[0m: Downloading large artifact xgb_meta:v18, 759.23MB. 7 files... Done. 0:0:0\n",
      "100%|██████████| 500000/500000 [00:05<00:00, 90849.30it/s]\n"
     ]
    },
    {
     "name": "stdout",
     "output_type": "stream",
     "text": [
      "| \u001b[0m 24      \u001b[0m | \u001b[0m 0.7279  \u001b[0m | \u001b[0m 0.8413  \u001b[0m | \u001b[0m 0.2178  \u001b[0m | \u001b[0m 0.5858  \u001b[0m | \u001b[0m 0.6116  \u001b[0m | \u001b[0m 0.9334  \u001b[0m | \u001b[0m 0.3394  \u001b[0m | \u001b[0m 0.03996 \u001b[0m |\n"
     ]
    },
    {
     "name": "stderr",
     "output_type": "stream",
     "text": [
      "\u001b[34m\u001b[1mwandb\u001b[0m: Downloading large artifact lgbm_meta:v16, 557.89MB. 7 files... Done. 0:0:0\n",
      "\u001b[34m\u001b[1mwandb\u001b[0m: Downloading large artifact lgbm_meta:v18, 554.43MB. 7 files... Done. 0:0:0\n",
      "\u001b[34m\u001b[1mwandb\u001b[0m: Downloading large artifact lgbm_meta:v19, 552.47MB. 7 files... Done. 0:0:0\n",
      "\u001b[34m\u001b[1mwandb\u001b[0m: Downloading large artifact lgbm_meta:v28, 558.00MB. 7 files... Done. 0:0:0\n",
      "\u001b[34m\u001b[1mwandb\u001b[0m: Downloading large artifact xgb_meta:v8, 768.16MB. 7 files... Done. 0:0:0\n",
      "\u001b[34m\u001b[1mwandb\u001b[0m: Downloading large artifact xgb_meta:v10, 766.76MB. 7 files... Done. 0:0:0\n",
      "\u001b[34m\u001b[1mwandb\u001b[0m: Downloading large artifact xgb_meta:v18, 759.23MB. 7 files... Done. 0:0:0\n",
      "100%|██████████| 500000/500000 [00:05<00:00, 90366.11it/s]\n"
     ]
    },
    {
     "name": "stdout",
     "output_type": "stream",
     "text": [
      "| \u001b[0m 25      \u001b[0m | \u001b[0m 0.7279  \u001b[0m | \u001b[0m 0.559   \u001b[0m | \u001b[0m 0.9159  \u001b[0m | \u001b[0m 0.8461  \u001b[0m | \u001b[0m 0.4597  \u001b[0m | \u001b[0m 0.04255 \u001b[0m | \u001b[0m 0.7968  \u001b[0m | \u001b[0m 0.5362  \u001b[0m |\n"
     ]
    },
    {
     "name": "stderr",
     "output_type": "stream",
     "text": [
      "\u001b[34m\u001b[1mwandb\u001b[0m: Downloading large artifact lgbm_meta:v16, 557.89MB. 7 files... Done. 0:0:0\n",
      "\u001b[34m\u001b[1mwandb\u001b[0m: Downloading large artifact lgbm_meta:v18, 554.43MB. 7 files... Done. 0:0:0\n",
      "\u001b[34m\u001b[1mwandb\u001b[0m: Downloading large artifact lgbm_meta:v19, 552.47MB. 7 files... Done. 0:0:0\n",
      "\u001b[34m\u001b[1mwandb\u001b[0m: Downloading large artifact lgbm_meta:v28, 558.00MB. 7 files... Done. 0:0:0\n",
      "\u001b[34m\u001b[1mwandb\u001b[0m: Downloading large artifact xgb_meta:v8, 768.16MB. 7 files... Done. 0:0:0\n",
      "\u001b[34m\u001b[1mwandb\u001b[0m: Downloading large artifact xgb_meta:v10, 766.76MB. 7 files... Done. 0:0:0\n",
      "\u001b[34m\u001b[1mwandb\u001b[0m: Downloading large artifact xgb_meta:v18, 759.23MB. 7 files... Done. 0:0:0\n",
      "100%|██████████| 500000/500000 [00:05<00:00, 89587.82it/s]\n"
     ]
    },
    {
     "name": "stdout",
     "output_type": "stream",
     "text": [
      "| \u001b[0m 26      \u001b[0m | \u001b[0m 0.7279  \u001b[0m | \u001b[0m 0.2473  \u001b[0m | \u001b[0m 0.6875  \u001b[0m | \u001b[0m 0.7299  \u001b[0m | \u001b[0m 0.2324  \u001b[0m | \u001b[0m 0.6832  \u001b[0m | \u001b[0m 0.6888  \u001b[0m | \u001b[0m 0.6824  \u001b[0m |\n"
     ]
    },
    {
     "name": "stderr",
     "output_type": "stream",
     "text": [
      "\u001b[34m\u001b[1mwandb\u001b[0m: Downloading large artifact lgbm_meta:v16, 557.89MB. 7 files... Done. 0:0:0\n",
      "\u001b[34m\u001b[1mwandb\u001b[0m: Downloading large artifact lgbm_meta:v18, 554.43MB. 7 files... Done. 0:0:0\n",
      "\u001b[34m\u001b[1mwandb\u001b[0m: Downloading large artifact lgbm_meta:v19, 552.47MB. 7 files... Done. 0:0:0\n",
      "\u001b[34m\u001b[1mwandb\u001b[0m: Downloading large artifact lgbm_meta:v28, 558.00MB. 7 files... Done. 0:0:0\n",
      "\u001b[34m\u001b[1mwandb\u001b[0m: Downloading large artifact xgb_meta:v8, 768.16MB. 7 files... Done. 0:0:0\n",
      "\u001b[34m\u001b[1mwandb\u001b[0m: Downloading large artifact xgb_meta:v10, 766.76MB. 7 files... Done. 0:0:0\n",
      "\u001b[34m\u001b[1mwandb\u001b[0m: Downloading large artifact xgb_meta:v18, 759.23MB. 7 files... Done. 0:0:0\n",
      "100%|██████████| 500000/500000 [00:05<00:00, 90867.96it/s]\n"
     ]
    },
    {
     "name": "stdout",
     "output_type": "stream",
     "text": [
      "| \u001b[0m 27      \u001b[0m | \u001b[0m 0.7279  \u001b[0m | \u001b[0m 0.5122  \u001b[0m | \u001b[0m 0.1639  \u001b[0m | \u001b[0m 0.1969  \u001b[0m | \u001b[0m 0.2814  \u001b[0m | \u001b[0m 0.4792  \u001b[0m | \u001b[0m 0.5609  \u001b[0m | \u001b[0m 0.3291  \u001b[0m |\n"
     ]
    },
    {
     "name": "stderr",
     "output_type": "stream",
     "text": [
      "\u001b[34m\u001b[1mwandb\u001b[0m: Downloading large artifact lgbm_meta:v16, 557.89MB. 7 files... Done. 0:0:0\n",
      "\u001b[34m\u001b[1mwandb\u001b[0m: Downloading large artifact lgbm_meta:v18, 554.43MB. 7 files... Done. 0:0:0\n",
      "\u001b[34m\u001b[1mwandb\u001b[0m: Downloading large artifact lgbm_meta:v19, 552.47MB. 7 files... Done. 0:0:0\n",
      "\u001b[34m\u001b[1mwandb\u001b[0m: Downloading large artifact lgbm_meta:v28, 558.00MB. 7 files... Done. 0:0:0\n",
      "\u001b[34m\u001b[1mwandb\u001b[0m: Downloading large artifact xgb_meta:v8, 768.16MB. 7 files... Done. 0:0:0\n",
      "\u001b[34m\u001b[1mwandb\u001b[0m: Downloading large artifact xgb_meta:v10, 766.76MB. 7 files... Done. 0:0:0\n",
      "\u001b[34m\u001b[1mwandb\u001b[0m: Downloading large artifact xgb_meta:v18, 759.23MB. 7 files... Done. 0:0:0\n",
      "100%|██████████| 500000/500000 [00:05<00:00, 90622.59it/s]\n"
     ]
    },
    {
     "name": "stdout",
     "output_type": "stream",
     "text": [
      "| \u001b[0m 28      \u001b[0m | \u001b[0m 0.7278  \u001b[0m | \u001b[0m 0.4797  \u001b[0m | \u001b[0m 0.9214  \u001b[0m | \u001b[0m 0.6556  \u001b[0m | \u001b[0m 0.9308  \u001b[0m | \u001b[0m 0.6338  \u001b[0m | \u001b[0m 0.2147  \u001b[0m | \u001b[0m 0.5708  \u001b[0m |\n"
     ]
    },
    {
     "name": "stderr",
     "output_type": "stream",
     "text": [
      "\u001b[34m\u001b[1mwandb\u001b[0m: Downloading large artifact lgbm_meta:v16, 557.89MB. 7 files... Done. 0:0:0\n",
      "\u001b[34m\u001b[1mwandb\u001b[0m: Downloading large artifact lgbm_meta:v18, 554.43MB. 7 files... Done. 0:0:0\n",
      "\u001b[34m\u001b[1mwandb\u001b[0m: Downloading large artifact lgbm_meta:v19, 552.47MB. 7 files... Done. 0:0:0\n",
      "\u001b[34m\u001b[1mwandb\u001b[0m: Downloading large artifact lgbm_meta:v28, 558.00MB. 7 files... Done. 0:0:0\n",
      "\u001b[34m\u001b[1mwandb\u001b[0m: Downloading large artifact xgb_meta:v8, 768.16MB. 7 files... Done. 0:0:0\n",
      "\u001b[34m\u001b[1mwandb\u001b[0m: Downloading large artifact xgb_meta:v10, 766.76MB. 7 files... Done. 0:0:0\n",
      "\u001b[34m\u001b[1mwandb\u001b[0m: Downloading large artifact xgb_meta:v18, 759.23MB. 7 files... Done. 0:0:0\n",
      "100%|██████████| 500000/500000 [00:05<00:00, 90504.96it/s]\n"
     ]
    },
    {
     "name": "stdout",
     "output_type": "stream",
     "text": [
      "| \u001b[0m 29      \u001b[0m | \u001b[0m 0.7279  \u001b[0m | \u001b[0m 0.3049  \u001b[0m | \u001b[0m 0.8485  \u001b[0m | \u001b[0m 0.9541  \u001b[0m | \u001b[0m 0.9303  \u001b[0m | \u001b[0m 0.4753  \u001b[0m | \u001b[0m 0.3409  \u001b[0m | \u001b[0m 0.3502  \u001b[0m |\n"
     ]
    },
    {
     "name": "stderr",
     "output_type": "stream",
     "text": [
      "\u001b[34m\u001b[1mwandb\u001b[0m: Downloading large artifact lgbm_meta:v16, 557.89MB. 7 files... Done. 0:0:0\n",
      "\u001b[34m\u001b[1mwandb\u001b[0m: Downloading large artifact lgbm_meta:v18, 554.43MB. 7 files... Done. 0:0:0\n",
      "\u001b[34m\u001b[1mwandb\u001b[0m: Downloading large artifact lgbm_meta:v19, 552.47MB. 7 files... Done. 0:0:0\n",
      "\u001b[34m\u001b[1mwandb\u001b[0m: Downloading large artifact lgbm_meta:v28, 558.00MB. 7 files... Done. 0:0:0\n",
      "\u001b[34m\u001b[1mwandb\u001b[0m: Downloading large artifact xgb_meta:v8, 768.16MB. 7 files... Done. 0:0:0\n",
      "\u001b[34m\u001b[1mwandb\u001b[0m: Downloading large artifact xgb_meta:v10, 766.76MB. 7 files... Done. 0:0:0\n",
      "\u001b[34m\u001b[1mwandb\u001b[0m: Downloading large artifact xgb_meta:v18, 759.23MB. 7 files... Done. 0:0:0\n",
      "100%|██████████| 500000/500000 [00:05<00:00, 90365.24it/s]\n"
     ]
    },
    {
     "name": "stdout",
     "output_type": "stream",
     "text": [
      "| \u001b[0m 30      \u001b[0m | \u001b[0m 0.7279  \u001b[0m | \u001b[0m 0.7806  \u001b[0m | \u001b[0m 0.9642  \u001b[0m | \u001b[0m 0.52    \u001b[0m | \u001b[0m 0.8286  \u001b[0m | \u001b[0m 0.8462  \u001b[0m | \u001b[0m 0.8806  \u001b[0m | \u001b[0m 0.8493  \u001b[0m |\n"
     ]
    },
    {
     "name": "stderr",
     "output_type": "stream",
     "text": [
      "\u001b[34m\u001b[1mwandb\u001b[0m: Downloading large artifact lgbm_meta:v16, 557.89MB. 7 files... Done. 0:0:0\n",
      "\u001b[34m\u001b[1mwandb\u001b[0m: Downloading large artifact lgbm_meta:v18, 554.43MB. 7 files... Done. 0:0:0\n",
      "\u001b[34m\u001b[1mwandb\u001b[0m: Downloading large artifact lgbm_meta:v19, 552.47MB. 7 files... Done. 0:0:0\n",
      "\u001b[34m\u001b[1mwandb\u001b[0m: Downloading large artifact lgbm_meta:v28, 558.00MB. 7 files... Done. 0:0:0\n",
      "\u001b[34m\u001b[1mwandb\u001b[0m: Downloading large artifact xgb_meta:v8, 768.16MB. 7 files... Done. 0:0:0\n",
      "\u001b[34m\u001b[1mwandb\u001b[0m: Downloading large artifact xgb_meta:v10, 766.76MB. 7 files... Done. 0:0:0\n",
      "\u001b[34m\u001b[1mwandb\u001b[0m: Downloading large artifact xgb_meta:v18, 759.23MB. 7 files... Done. 0:0:0\n",
      "100%|██████████| 500000/500000 [00:05<00:00, 91041.39it/s]\n"
     ]
    },
    {
     "name": "stdout",
     "output_type": "stream",
     "text": [
      "| \u001b[0m 31      \u001b[0m | \u001b[0m 0.7279  \u001b[0m | \u001b[0m 0.3284  \u001b[0m | \u001b[0m 0.6975  \u001b[0m | \u001b[0m 0.09851 \u001b[0m | \u001b[0m 0.7252  \u001b[0m | \u001b[0m 0.6838  \u001b[0m | \u001b[0m 0.6861  \u001b[0m | \u001b[0m 0.2421  \u001b[0m |\n"
     ]
    },
    {
     "name": "stderr",
     "output_type": "stream",
     "text": [
      "\u001b[34m\u001b[1mwandb\u001b[0m: Downloading large artifact lgbm_meta:v16, 557.89MB. 7 files... Done. 0:0:0\n",
      "\u001b[34m\u001b[1mwandb\u001b[0m: Downloading large artifact lgbm_meta:v18, 554.43MB. 7 files... Done. 0:0:0\n",
      "\u001b[34m\u001b[1mwandb\u001b[0m: Downloading large artifact lgbm_meta:v19, 552.47MB. 7 files... Done. 0:0:0\n",
      "\u001b[34m\u001b[1mwandb\u001b[0m: Downloading large artifact lgbm_meta:v28, 558.00MB. 7 files... Done. 0:0:0\n",
      "\u001b[34m\u001b[1mwandb\u001b[0m: Downloading large artifact xgb_meta:v8, 768.16MB. 7 files... Done. 0:0:0\n",
      "\u001b[34m\u001b[1mwandb\u001b[0m: Downloading large artifact xgb_meta:v10, 766.76MB. 7 files... Done. 0:0:0\n",
      "\u001b[34m\u001b[1mwandb\u001b[0m: Downloading large artifact xgb_meta:v18, 759.23MB. 7 files... Done. 0:0:0\n",
      "100%|██████████| 500000/500000 [00:05<00:00, 91068.96it/s]\n"
     ]
    },
    {
     "name": "stdout",
     "output_type": "stream",
     "text": [
      "| \u001b[0m 32      \u001b[0m | \u001b[0m 0.7278  \u001b[0m | \u001b[0m 0.511   \u001b[0m | \u001b[0m 0.1179  \u001b[0m | \u001b[0m 0.5956  \u001b[0m | \u001b[0m 0.9642  \u001b[0m | \u001b[0m 0.1494  \u001b[0m | \u001b[0m 0.4238  \u001b[0m | \u001b[0m 0.01154 \u001b[0m |\n"
     ]
    },
    {
     "name": "stderr",
     "output_type": "stream",
     "text": [
      "\u001b[34m\u001b[1mwandb\u001b[0m: Downloading large artifact lgbm_meta:v16, 557.89MB. 7 files... Done. 0:0:0\n",
      "\u001b[34m\u001b[1mwandb\u001b[0m: Downloading large artifact lgbm_meta:v18, 554.43MB. 7 files... Done. 0:0:0\n",
      "\u001b[34m\u001b[1mwandb\u001b[0m: Downloading large artifact lgbm_meta:v19, 552.47MB. 7 files... Done. 0:0:0\n",
      "\u001b[34m\u001b[1mwandb\u001b[0m: Downloading large artifact lgbm_meta:v28, 558.00MB. 7 files... Done. 0:0:0\n",
      "\u001b[34m\u001b[1mwandb\u001b[0m: Downloading large artifact xgb_meta:v8, 768.16MB. 7 files... Done. 0:0:0\n",
      "\u001b[34m\u001b[1mwandb\u001b[0m: Downloading large artifact xgb_meta:v10, 766.76MB. 7 files... Done. 0:0:0\n",
      "\u001b[34m\u001b[1mwandb\u001b[0m: Downloading large artifact xgb_meta:v18, 759.23MB. 7 files... Done. 0:0:0\n",
      "100%|██████████| 500000/500000 [00:05<00:00, 90170.80it/s]\n"
     ]
    },
    {
     "name": "stdout",
     "output_type": "stream",
     "text": [
      "| \u001b[0m 33      \u001b[0m | \u001b[0m 0.7279  \u001b[0m | \u001b[0m 0.5161  \u001b[0m | \u001b[0m 0.9766  \u001b[0m | \u001b[0m 0.9731  \u001b[0m | \u001b[0m 0.7684  \u001b[0m | \u001b[0m 0.4945  \u001b[0m | \u001b[0m 0.5837  \u001b[0m | \u001b[0m 0.7179  \u001b[0m |\n"
     ]
    },
    {
     "name": "stderr",
     "output_type": "stream",
     "text": [
      "\u001b[34m\u001b[1mwandb\u001b[0m: Downloading large artifact lgbm_meta:v16, 557.89MB. 7 files... Done. 0:0:0\n",
      "\u001b[34m\u001b[1mwandb\u001b[0m: Downloading large artifact lgbm_meta:v18, 554.43MB. 7 files... Done. 0:0:0\n",
      "\u001b[34m\u001b[1mwandb\u001b[0m: Downloading large artifact lgbm_meta:v19, 552.47MB. 7 files... Done. 0:0:0\n",
      "\u001b[34m\u001b[1mwandb\u001b[0m: Downloading large artifact lgbm_meta:v28, 558.00MB. 7 files... Done. 0:0:0\n",
      "\u001b[34m\u001b[1mwandb\u001b[0m: Downloading large artifact xgb_meta:v8, 768.16MB. 7 files... Done. 0:0:0\n",
      "\u001b[34m\u001b[1mwandb\u001b[0m: Downloading large artifact xgb_meta:v10, 766.76MB. 7 files... Done. 0:0:0\n",
      "\u001b[34m\u001b[1mwandb\u001b[0m: Downloading large artifact xgb_meta:v18, 759.23MB. 7 files... Done. 0:0:0\n",
      "100%|██████████| 500000/500000 [00:05<00:00, 90756.32it/s]\n"
     ]
    },
    {
     "name": "stdout",
     "output_type": "stream",
     "text": [
      "| \u001b[0m 34      \u001b[0m | \u001b[0m 0.7278  \u001b[0m | \u001b[0m 0.735   \u001b[0m | \u001b[0m 0.409   \u001b[0m | \u001b[0m 0.8836  \u001b[0m | \u001b[0m 0.4909  \u001b[0m | \u001b[0m 0.6913  \u001b[0m | \u001b[0m 0.1303  \u001b[0m | \u001b[0m 0.4995  \u001b[0m |\n"
     ]
    },
    {
     "name": "stderr",
     "output_type": "stream",
     "text": [
      "\u001b[34m\u001b[1mwandb\u001b[0m: Downloading large artifact lgbm_meta:v16, 557.89MB. 7 files... Done. 0:0:0\n",
      "\u001b[34m\u001b[1mwandb\u001b[0m: Downloading large artifact lgbm_meta:v18, 554.43MB. 7 files... Done. 0:0:0\n",
      "\u001b[34m\u001b[1mwandb\u001b[0m: Downloading large artifact lgbm_meta:v19, 552.47MB. 7 files... Done. 0:0:0\n",
      "\u001b[34m\u001b[1mwandb\u001b[0m: Downloading large artifact lgbm_meta:v28, 558.00MB. 7 files... Done. 0:0:0\n",
      "\u001b[34m\u001b[1mwandb\u001b[0m: Downloading large artifact xgb_meta:v8, 768.16MB. 7 files... Done. 0:0:0\n",
      "\u001b[34m\u001b[1mwandb\u001b[0m: Downloading large artifact xgb_meta:v10, 766.76MB. 7 files... Done. 0:0:0\n",
      "\u001b[34m\u001b[1mwandb\u001b[0m: Downloading large artifact xgb_meta:v18, 759.23MB. 7 files... Done. 0:0:0\n",
      "100%|██████████| 500000/500000 [00:05<00:00, 90133.63it/s]\n"
     ]
    },
    {
     "name": "stdout",
     "output_type": "stream",
     "text": [
      "| \u001b[0m 35      \u001b[0m | \u001b[0m 0.7278  \u001b[0m | \u001b[0m 0.5029  \u001b[0m | \u001b[0m 0.5184  \u001b[0m | \u001b[0m 0.01672 \u001b[0m | \u001b[0m 0.8841  \u001b[0m | \u001b[0m 0.9784  \u001b[0m | \u001b[0m 0.3643  \u001b[0m | \u001b[0m 0.1732  \u001b[0m |\n"
     ]
    },
    {
     "name": "stderr",
     "output_type": "stream",
     "text": [
      "\u001b[34m\u001b[1mwandb\u001b[0m: Downloading large artifact lgbm_meta:v16, 557.89MB. 7 files... Done. 0:0:0\n",
      "\u001b[34m\u001b[1mwandb\u001b[0m: Downloading large artifact lgbm_meta:v18, 554.43MB. 7 files... Done. 0:0:0\n",
      "\u001b[34m\u001b[1mwandb\u001b[0m: Downloading large artifact lgbm_meta:v19, 552.47MB. 7 files... Done. 0:0:0\n",
      "\u001b[34m\u001b[1mwandb\u001b[0m: Downloading large artifact lgbm_meta:v28, 558.00MB. 7 files... Done. 0:0:0\n",
      "\u001b[34m\u001b[1mwandb\u001b[0m: Downloading large artifact xgb_meta:v8, 768.16MB. 7 files... Done. 0:0:0\n",
      "\u001b[34m\u001b[1mwandb\u001b[0m: Downloading large artifact xgb_meta:v10, 766.76MB. 7 files... Done. 0:0:0\n",
      "\u001b[34m\u001b[1mwandb\u001b[0m: Downloading large artifact xgb_meta:v18, 759.23MB. 7 files... Done. 0:0:0\n",
      "100%|██████████| 500000/500000 [00:05<00:00, 91320.78it/s]\n"
     ]
    },
    {
     "name": "stdout",
     "output_type": "stream",
     "text": [
      "| \u001b[0m 36      \u001b[0m | \u001b[0m 0.7278  \u001b[0m | \u001b[0m 0.8748  \u001b[0m | \u001b[0m 0.08315 \u001b[0m | \u001b[0m 0.1644  \u001b[0m | \u001b[0m 0.05335 \u001b[0m | \u001b[0m 0.6273  \u001b[0m | \u001b[0m 0.328   \u001b[0m | \u001b[0m 0.8785  \u001b[0m |\n"
     ]
    },
    {
     "name": "stderr",
     "output_type": "stream",
     "text": [
      "\u001b[34m\u001b[1mwandb\u001b[0m: Downloading large artifact lgbm_meta:v16, 557.89MB. 7 files... Done. 0:0:0\n",
      "\u001b[34m\u001b[1mwandb\u001b[0m: Downloading large artifact lgbm_meta:v18, 554.43MB. 7 files... Done. 0:0:0\n",
      "\u001b[34m\u001b[1mwandb\u001b[0m: Downloading large artifact lgbm_meta:v19, 552.47MB. 7 files... Done. 0:0:0\n",
      "\u001b[34m\u001b[1mwandb\u001b[0m: Downloading large artifact lgbm_meta:v28, 558.00MB. 7 files... Done. 0:0:0\n",
      "\u001b[34m\u001b[1mwandb\u001b[0m: Downloading large artifact xgb_meta:v8, 768.16MB. 7 files... Done. 0:0:0\n",
      "\u001b[34m\u001b[1mwandb\u001b[0m: Downloading large artifact xgb_meta:v10, 766.76MB. 7 files... Done. 0:0:0\n",
      "\u001b[34m\u001b[1mwandb\u001b[0m: Downloading large artifact xgb_meta:v18, 759.23MB. 7 files... Done. 0:0:0\n",
      "100%|██████████| 500000/500000 [00:05<00:00, 90643.55it/s]\n"
     ]
    },
    {
     "name": "stdout",
     "output_type": "stream",
     "text": [
      "| \u001b[0m 37      \u001b[0m | \u001b[0m 0.7278  \u001b[0m | \u001b[0m 0.4967  \u001b[0m | \u001b[0m 0.0682  \u001b[0m | \u001b[0m 0.5517  \u001b[0m | \u001b[0m 0.6974  \u001b[0m | \u001b[0m 0.08264 \u001b[0m | \u001b[0m 0.4624  \u001b[0m | \u001b[0m 0.8492  \u001b[0m |\n"
     ]
    },
    {
     "name": "stderr",
     "output_type": "stream",
     "text": [
      "\u001b[34m\u001b[1mwandb\u001b[0m: Downloading large artifact lgbm_meta:v16, 557.89MB. 7 files... Done. 0:0:0\n",
      "\u001b[34m\u001b[1mwandb\u001b[0m: Downloading large artifact lgbm_meta:v18, 554.43MB. 7 files... Done. 0:0:0\n",
      "\u001b[34m\u001b[1mwandb\u001b[0m: Downloading large artifact lgbm_meta:v19, 552.47MB. 7 files... Done. 0:0:0\n",
      "\u001b[34m\u001b[1mwandb\u001b[0m: Downloading large artifact lgbm_meta:v28, 558.00MB. 7 files... Done. 0:0:0\n",
      "\u001b[34m\u001b[1mwandb\u001b[0m: Downloading large artifact xgb_meta:v8, 768.16MB. 7 files... Done. 0:0:0\n",
      "\u001b[34m\u001b[1mwandb\u001b[0m: Downloading large artifact xgb_meta:v10, 766.76MB. 7 files... Done. 0:0:0\n",
      "\u001b[34m\u001b[1mwandb\u001b[0m: Downloading large artifact xgb_meta:v18, 759.23MB. 7 files... Done. 0:0:0\n",
      "100%|██████████| 500000/500000 [00:05<00:00, 89016.63it/s]\n"
     ]
    },
    {
     "name": "stdout",
     "output_type": "stream",
     "text": [
      "| \u001b[0m 38      \u001b[0m | \u001b[0m 0.7278  \u001b[0m | \u001b[0m 0.4262  \u001b[0m | \u001b[0m 0.6771  \u001b[0m | \u001b[0m 0.6185  \u001b[0m | \u001b[0m 0.8056  \u001b[0m | \u001b[0m 0.888   \u001b[0m | \u001b[0m 0.05309 \u001b[0m | \u001b[0m 0.1333  \u001b[0m |\n"
     ]
    },
    {
     "name": "stderr",
     "output_type": "stream",
     "text": [
      "\u001b[34m\u001b[1mwandb\u001b[0m: Downloading large artifact lgbm_meta:v16, 557.89MB. 7 files... Done. 0:0:0\n",
      "\u001b[34m\u001b[1mwandb\u001b[0m: Downloading large artifact lgbm_meta:v18, 554.43MB. 7 files... Done. 0:0:0\n",
      "\u001b[34m\u001b[1mwandb\u001b[0m: Downloading large artifact lgbm_meta:v19, 552.47MB. 7 files... Done. 0:0:0\n",
      "\u001b[34m\u001b[1mwandb\u001b[0m: Downloading large artifact lgbm_meta:v28, 558.00MB. 7 files... Done. 0:0:0\n",
      "\u001b[34m\u001b[1mwandb\u001b[0m: Downloading large artifact xgb_meta:v8, 768.16MB. 7 files... Done. 0:0:0\n",
      "\u001b[34m\u001b[1mwandb\u001b[0m: Downloading large artifact xgb_meta:v10, 766.76MB. 7 files... Done. 0:0:0\n",
      "\u001b[34m\u001b[1mwandb\u001b[0m: Downloading large artifact xgb_meta:v18, 759.23MB. 7 files... Done. 0:0:0\n",
      "100%|██████████| 500000/500000 [00:05<00:00, 89257.40it/s]\n"
     ]
    },
    {
     "name": "stdout",
     "output_type": "stream",
     "text": [
      "| \u001b[0m 39      \u001b[0m | \u001b[0m 0.7279  \u001b[0m | \u001b[0m 0.3265  \u001b[0m | \u001b[0m 0.3197  \u001b[0m | \u001b[0m 0.3336  \u001b[0m | \u001b[0m 0.5906  \u001b[0m | \u001b[0m 0.3543  \u001b[0m | \u001b[0m 0.9436  \u001b[0m | \u001b[0m 0.4465  \u001b[0m |\n"
     ]
    },
    {
     "name": "stderr",
     "output_type": "stream",
     "text": [
      "\u001b[34m\u001b[1mwandb\u001b[0m: Downloading large artifact lgbm_meta:v16, 557.89MB. 7 files... Done. 0:0:0\n",
      "\u001b[34m\u001b[1mwandb\u001b[0m: Downloading large artifact lgbm_meta:v18, 554.43MB. 7 files... Done. 0:0:0\n",
      "\u001b[34m\u001b[1mwandb\u001b[0m: Downloading large artifact lgbm_meta:v19, 552.47MB. 7 files... Done. 0:0:0\n",
      "\u001b[34m\u001b[1mwandb\u001b[0m: Downloading large artifact lgbm_meta:v28, 558.00MB. 7 files... Done. 0:0:0\n",
      "\u001b[34m\u001b[1mwandb\u001b[0m: Downloading large artifact xgb_meta:v8, 768.16MB. 7 files... Done. 0:0:0\n",
      "\u001b[34m\u001b[1mwandb\u001b[0m: Downloading large artifact xgb_meta:v10, 766.76MB. 7 files... Done. 0:0:0\n",
      "\u001b[34m\u001b[1mwandb\u001b[0m: Downloading large artifact xgb_meta:v18, 759.23MB. 7 files... Done. 0:0:0\n",
      "100%|██████████| 500000/500000 [00:05<00:00, 89540.08it/s]\n"
     ]
    },
    {
     "name": "stdout",
     "output_type": "stream",
     "text": [
      "| \u001b[0m 40      \u001b[0m | \u001b[0m 0.7278  \u001b[0m | \u001b[0m 0.6315  \u001b[0m | \u001b[0m 0.01049 \u001b[0m | \u001b[0m 0.1891  \u001b[0m | \u001b[0m 0.7792  \u001b[0m | \u001b[0m 0.3058  \u001b[0m | \u001b[0m 0.8679  \u001b[0m | \u001b[0m 0.3025  \u001b[0m |\n"
     ]
    },
    {
     "name": "stderr",
     "output_type": "stream",
     "text": [
      "\u001b[34m\u001b[1mwandb\u001b[0m: Downloading large artifact lgbm_meta:v16, 557.89MB. 7 files... Done. 0:0:0\n",
      "\u001b[34m\u001b[1mwandb\u001b[0m: Downloading large artifact lgbm_meta:v18, 554.43MB. 7 files... Done. 0:0:0\n",
      "\u001b[34m\u001b[1mwandb\u001b[0m: Downloading large artifact lgbm_meta:v19, 552.47MB. 7 files... Done. 0:0:0\n",
      "\u001b[34m\u001b[1mwandb\u001b[0m: Downloading large artifact lgbm_meta:v28, 558.00MB. 7 files... Done. 0:0:0\n",
      "\u001b[34m\u001b[1mwandb\u001b[0m: Downloading large artifact xgb_meta:v8, 768.16MB. 7 files... Done. 0:0:0\n",
      "\u001b[34m\u001b[1mwandb\u001b[0m: Downloading large artifact xgb_meta:v10, 766.76MB. 7 files... Done. 0:0:0\n",
      "\u001b[34m\u001b[1mwandb\u001b[0m: Downloading large artifact xgb_meta:v18, 759.23MB. 7 files... Done. 0:0:0\n",
      "100%|██████████| 500000/500000 [00:05<00:00, 91064.47it/s]\n"
     ]
    },
    {
     "name": "stdout",
     "output_type": "stream",
     "text": [
      "| \u001b[0m 41      \u001b[0m | \u001b[0m 0.7279  \u001b[0m | \u001b[0m 0.7005  \u001b[0m | \u001b[0m 0.7507  \u001b[0m | \u001b[0m 0.6825  \u001b[0m | \u001b[0m 0.2014  \u001b[0m | \u001b[0m 0.2727  \u001b[0m | \u001b[0m 0.1311  \u001b[0m | \u001b[0m 0.03888 \u001b[0m |\n"
     ]
    },
    {
     "name": "stderr",
     "output_type": "stream",
     "text": [
      "\u001b[34m\u001b[1mwandb\u001b[0m: Downloading large artifact lgbm_meta:v16, 557.89MB. 7 files... Done. 0:0:0\n",
      "\u001b[34m\u001b[1mwandb\u001b[0m: Downloading large artifact lgbm_meta:v18, 554.43MB. 7 files... Done. 0:0:0\n",
      "\u001b[34m\u001b[1mwandb\u001b[0m: Downloading large artifact lgbm_meta:v19, 552.47MB. 7 files... Done. 0:0:0\n",
      "\u001b[34m\u001b[1mwandb\u001b[0m: Downloading large artifact lgbm_meta:v28, 558.00MB. 7 files... Done. 0:0:0\n",
      "\u001b[34m\u001b[1mwandb\u001b[0m: Downloading large artifact xgb_meta:v8, 768.16MB. 7 files... Done. 0:0:0\n",
      "\u001b[34m\u001b[1mwandb\u001b[0m: Downloading large artifact xgb_meta:v10, 766.76MB. 7 files... Done. 0:0:0\n",
      "\u001b[34m\u001b[1mwandb\u001b[0m: Downloading large artifact xgb_meta:v18, 759.23MB. 7 files... Done. 0:0:0\n",
      "100%|██████████| 500000/500000 [00:05<00:00, 88393.77it/s]\n"
     ]
    },
    {
     "name": "stdout",
     "output_type": "stream",
     "text": [
      "| \u001b[0m 42      \u001b[0m | \u001b[0m 0.7279  \u001b[0m | \u001b[0m 0.712   \u001b[0m | \u001b[0m 0.8792  \u001b[0m | \u001b[0m 0.9465  \u001b[0m | \u001b[0m 0.8311  \u001b[0m | \u001b[0m 0.2533  \u001b[0m | \u001b[0m 0.7715  \u001b[0m | \u001b[0m 0.5335  \u001b[0m |\n"
     ]
    },
    {
     "name": "stderr",
     "output_type": "stream",
     "text": [
      "\u001b[34m\u001b[1mwandb\u001b[0m: Downloading large artifact lgbm_meta:v16, 557.89MB. 7 files... Done. 0:0:0\n",
      "\u001b[34m\u001b[1mwandb\u001b[0m: Downloading large artifact lgbm_meta:v18, 554.43MB. 7 files... Done. 0:0:0\n",
      "\u001b[34m\u001b[1mwandb\u001b[0m: Downloading large artifact lgbm_meta:v19, 552.47MB. 7 files... Done. 0:0:0\n",
      "\u001b[34m\u001b[1mwandb\u001b[0m: Downloading large artifact lgbm_meta:v28, 558.00MB. 7 files... Done. 0:0:0\n",
      "\u001b[34m\u001b[1mwandb\u001b[0m: Downloading large artifact xgb_meta:v8, 768.16MB. 7 files... Done. 0:0:0\n",
      "\u001b[34m\u001b[1mwandb\u001b[0m: Downloading large artifact xgb_meta:v10, 766.76MB. 7 files... Done. 0:0:0\n",
      "\u001b[34m\u001b[1mwandb\u001b[0m: Downloading large artifact xgb_meta:v18, 759.23MB. 7 files... Done. 0:0:0\n",
      "100%|██████████| 500000/500000 [00:05<00:00, 91006.77it/s]\n"
     ]
    },
    {
     "name": "stdout",
     "output_type": "stream",
     "text": [
      "| \u001b[0m 43      \u001b[0m | \u001b[0m 0.7278  \u001b[0m | \u001b[0m 0.4097  \u001b[0m | \u001b[0m 0.1945  \u001b[0m | \u001b[0m 0.7104  \u001b[0m | \u001b[0m 0.6564  \u001b[0m | \u001b[0m 0.6015  \u001b[0m | \u001b[0m 0.4643  \u001b[0m | \u001b[0m 0.8744  \u001b[0m |\n"
     ]
    },
    {
     "name": "stderr",
     "output_type": "stream",
     "text": [
      "\u001b[34m\u001b[1mwandb\u001b[0m: Downloading large artifact lgbm_meta:v16, 557.89MB. 7 files... Done. 0:0:0\n",
      "\u001b[34m\u001b[1mwandb\u001b[0m: Downloading large artifact lgbm_meta:v18, 554.43MB. 7 files... Done. 0:0:0\n",
      "\u001b[34m\u001b[1mwandb\u001b[0m: Downloading large artifact lgbm_meta:v19, 552.47MB. 7 files... Done. 0:0:0\n",
      "\u001b[34m\u001b[1mwandb\u001b[0m: Downloading large artifact lgbm_meta:v28, 558.00MB. 7 files... Done. 0:0:0\n",
      "\u001b[34m\u001b[1mwandb\u001b[0m: Downloading large artifact xgb_meta:v8, 768.16MB. 7 files... Done. 0:0:0\n",
      "\u001b[34m\u001b[1mwandb\u001b[0m: Downloading large artifact xgb_meta:v10, 766.76MB. 7 files... Done. 0:0:0\n",
      "\u001b[34m\u001b[1mwandb\u001b[0m: Downloading large artifact xgb_meta:v18, 759.23MB. 7 files... Done. 0:0:0\n",
      "100%|██████████| 500000/500000 [00:05<00:00, 90923.00it/s]\n"
     ]
    },
    {
     "name": "stdout",
     "output_type": "stream",
     "text": [
      "| \u001b[0m 44      \u001b[0m | \u001b[0m 0.7277  \u001b[0m | \u001b[0m 0.4235  \u001b[0m | \u001b[0m 0.05494 \u001b[0m | \u001b[0m 0.1548  \u001b[0m | \u001b[0m 0.7718  \u001b[0m | \u001b[0m 0.6962  \u001b[0m | \u001b[0m 0.1015  \u001b[0m | \u001b[0m 0.2694  \u001b[0m |\n"
     ]
    },
    {
     "name": "stderr",
     "output_type": "stream",
     "text": [
      "\u001b[34m\u001b[1mwandb\u001b[0m: Downloading large artifact lgbm_meta:v16, 557.89MB. 7 files... Done. 0:0:0\n",
      "\u001b[34m\u001b[1mwandb\u001b[0m: Downloading large artifact lgbm_meta:v18, 554.43MB. 7 files... Done. 0:0:0\n",
      "\u001b[34m\u001b[1mwandb\u001b[0m: Downloading large artifact lgbm_meta:v19, 552.47MB. 7 files... Done. 0:0:0\n",
      "\u001b[34m\u001b[1mwandb\u001b[0m: Downloading large artifact lgbm_meta:v28, 558.00MB. 7 files... Done. 0:0:0\n",
      "\u001b[34m\u001b[1mwandb\u001b[0m: Downloading large artifact xgb_meta:v8, 768.16MB. 7 files... Done. 0:0:0\n",
      "\u001b[34m\u001b[1mwandb\u001b[0m: Downloading large artifact xgb_meta:v10, 766.76MB. 7 files... Done. 0:0:0\n",
      "\u001b[34m\u001b[1mwandb\u001b[0m: Downloading large artifact xgb_meta:v18, 759.23MB. 7 files... Done. 0:0:0\n",
      "100%|██████████| 500000/500000 [00:05<00:00, 89998.15it/s]\n"
     ]
    },
    {
     "name": "stdout",
     "output_type": "stream",
     "text": [
      "| \u001b[0m 45      \u001b[0m | \u001b[0m 0.7278  \u001b[0m | \u001b[0m 0.4363  \u001b[0m | \u001b[0m 0.2362  \u001b[0m | \u001b[0m 0.1954  \u001b[0m | \u001b[0m 0.4947  \u001b[0m | \u001b[0m 0.8608  \u001b[0m | \u001b[0m 0.587   \u001b[0m | \u001b[0m 0.2206  \u001b[0m |\n"
     ]
    },
    {
     "name": "stderr",
     "output_type": "stream",
     "text": [
      "\u001b[34m\u001b[1mwandb\u001b[0m: Downloading large artifact lgbm_meta:v16, 557.89MB. 7 files... Done. 0:0:0\n",
      "\u001b[34m\u001b[1mwandb\u001b[0m: Downloading large artifact lgbm_meta:v18, 554.43MB. 7 files... Done. 0:0:0\n",
      "\u001b[34m\u001b[1mwandb\u001b[0m: Downloading large artifact lgbm_meta:v19, 552.47MB. 7 files... Done. 0:0:0\n",
      "\u001b[34m\u001b[1mwandb\u001b[0m: Downloading large artifact lgbm_meta:v28, 558.00MB. 7 files... Done. 0:0:0\n",
      "\u001b[34m\u001b[1mwandb\u001b[0m: Downloading large artifact xgb_meta:v8, 768.16MB. 7 files... Done. 0:0:0\n",
      "\u001b[34m\u001b[1mwandb\u001b[0m: Downloading large artifact xgb_meta:v10, 766.76MB. 7 files... Done. 0:0:0\n",
      "\u001b[34m\u001b[1mwandb\u001b[0m: Downloading large artifact xgb_meta:v18, 759.23MB. 7 files... Done. 0:0:0\n",
      "100%|██████████| 500000/500000 [00:05<00:00, 90070.62it/s]\n"
     ]
    },
    {
     "name": "stdout",
     "output_type": "stream",
     "text": [
      "| \u001b[0m 46      \u001b[0m | \u001b[0m 0.728   \u001b[0m | \u001b[0m 0.1216  \u001b[0m | \u001b[0m 0.6837  \u001b[0m | \u001b[0m 0.8623  \u001b[0m | \u001b[0m 0.06117 \u001b[0m | \u001b[0m 0.8209  \u001b[0m | \u001b[0m 0.2707  \u001b[0m | \u001b[0m 0.6183  \u001b[0m |\n"
     ]
    },
    {
     "name": "stderr",
     "output_type": "stream",
     "text": [
      "\u001b[34m\u001b[1mwandb\u001b[0m: Downloading large artifact lgbm_meta:v16, 557.89MB. 7 files... Done. 0:0:0\n",
      "\u001b[34m\u001b[1mwandb\u001b[0m: Downloading large artifact lgbm_meta:v18, 554.43MB. 7 files... Done. 0:0:0\n",
      "\u001b[34m\u001b[1mwandb\u001b[0m: Downloading large artifact lgbm_meta:v19, 552.47MB. 7 files... Done. 0:0:0\n",
      "\u001b[34m\u001b[1mwandb\u001b[0m: Downloading large artifact lgbm_meta:v28, 558.00MB. 7 files... Done. 0:0:0\n",
      "\u001b[34m\u001b[1mwandb\u001b[0m: Downloading large artifact xgb_meta:v8, 768.16MB. 7 files... Done. 0:0:0\n",
      "\u001b[34m\u001b[1mwandb\u001b[0m: Downloading large artifact xgb_meta:v10, 766.76MB. 7 files... Done. 0:0:0\n",
      "\u001b[34m\u001b[1mwandb\u001b[0m: Downloading large artifact xgb_meta:v18, 759.23MB. 7 files... Done. 0:0:0\n",
      "100%|██████████| 500000/500000 [00:05<00:00, 90505.15it/s]\n"
     ]
    },
    {
     "name": "stdout",
     "output_type": "stream",
     "text": [
      "| \u001b[0m 47      \u001b[0m | \u001b[0m 0.7278  \u001b[0m | \u001b[0m 0.8101  \u001b[0m | \u001b[0m 0.3691  \u001b[0m | \u001b[0m 0.132   \u001b[0m | \u001b[0m 0.7174  \u001b[0m | \u001b[0m 0.7418  \u001b[0m | \u001b[0m 0.09091 \u001b[0m | \u001b[0m 0.5502  \u001b[0m |\n"
     ]
    },
    {
     "name": "stderr",
     "output_type": "stream",
     "text": [
      "\u001b[34m\u001b[1mwandb\u001b[0m: Downloading large artifact lgbm_meta:v16, 557.89MB. 7 files... Done. 0:0:0\n",
      "\u001b[34m\u001b[1mwandb\u001b[0m: Downloading large artifact lgbm_meta:v18, 554.43MB. 7 files... Done. 0:0:0\n",
      "\u001b[34m\u001b[1mwandb\u001b[0m: Downloading large artifact lgbm_meta:v19, 552.47MB. 7 files... Done. 0:0:0\n",
      "\u001b[34m\u001b[1mwandb\u001b[0m: Downloading large artifact lgbm_meta:v28, 558.00MB. 7 files... Done. 0:0:0\n",
      "\u001b[34m\u001b[1mwandb\u001b[0m: Downloading large artifact xgb_meta:v8, 768.16MB. 7 files... Done. 0:0:0\n",
      "\u001b[34m\u001b[1mwandb\u001b[0m: Downloading large artifact xgb_meta:v10, 766.76MB. 7 files... Done. 0:0:0\n",
      "\u001b[34m\u001b[1mwandb\u001b[0m: Downloading large artifact xgb_meta:v18, 759.23MB. 7 files... Done. 0:0:0\n",
      "100%|██████████| 500000/500000 [00:05<00:00, 90874.67it/s]\n"
     ]
    },
    {
     "name": "stdout",
     "output_type": "stream",
     "text": [
      "| \u001b[0m 48      \u001b[0m | \u001b[0m 0.7278  \u001b[0m | \u001b[0m 0.3533  \u001b[0m | \u001b[0m 0.4124  \u001b[0m | \u001b[0m 0.5695  \u001b[0m | \u001b[0m 0.6641  \u001b[0m | \u001b[0m 0.2946  \u001b[0m | \u001b[0m 0.6517  \u001b[0m | \u001b[0m 0.6978  \u001b[0m |\n"
     ]
    },
    {
     "name": "stderr",
     "output_type": "stream",
     "text": [
      "\u001b[34m\u001b[1mwandb\u001b[0m: Downloading large artifact lgbm_meta:v16, 557.89MB. 7 files... Done. 0:0:0\n",
      "\u001b[34m\u001b[1mwandb\u001b[0m: Downloading large artifact lgbm_meta:v18, 554.43MB. 7 files... Done. 0:0:0\n",
      "\u001b[34m\u001b[1mwandb\u001b[0m: Downloading large artifact lgbm_meta:v19, 552.47MB. 7 files... Done. 0:0:0\n",
      "\u001b[34m\u001b[1mwandb\u001b[0m: Downloading large artifact lgbm_meta:v28, 558.00MB. 7 files... Done. 0:0:0\n",
      "\u001b[34m\u001b[1mwandb\u001b[0m: Downloading large artifact xgb_meta:v8, 768.16MB. 7 files... Done. 0:0:0\n",
      "\u001b[34m\u001b[1mwandb\u001b[0m: Downloading large artifact xgb_meta:v10, 766.76MB. 7 files... Done. 0:0:0\n",
      "\u001b[34m\u001b[1mwandb\u001b[0m: Downloading large artifact xgb_meta:v18, 759.23MB. 7 files... Done. 0:0:0\n",
      "100%|██████████| 500000/500000 [00:05<00:00, 88372.17it/s]\n"
     ]
    },
    {
     "name": "stdout",
     "output_type": "stream",
     "text": [
      "| \u001b[0m 49      \u001b[0m | \u001b[0m 0.7278  \u001b[0m | \u001b[0m 0.05754 \u001b[0m | \u001b[0m 0.2343  \u001b[0m | \u001b[0m 0.5394  \u001b[0m | \u001b[0m 0.5805  \u001b[0m | \u001b[0m 0.4298  \u001b[0m | \u001b[0m 0.5012  \u001b[0m | \u001b[0m 0.1733  \u001b[0m |\n"
     ]
    },
    {
     "name": "stderr",
     "output_type": "stream",
     "text": [
      "\u001b[34m\u001b[1mwandb\u001b[0m: Downloading large artifact lgbm_meta:v16, 557.89MB. 7 files... Done. 0:0:0\n",
      "\u001b[34m\u001b[1mwandb\u001b[0m: Downloading large artifact lgbm_meta:v18, 554.43MB. 7 files... Done. 0:0:0\n",
      "\u001b[34m\u001b[1mwandb\u001b[0m: Downloading large artifact lgbm_meta:v19, 552.47MB. 7 files... Done. 0:0:0\n",
      "\u001b[34m\u001b[1mwandb\u001b[0m: Downloading large artifact lgbm_meta:v28, 558.00MB. 7 files... Done. 0:0:0\n",
      "\u001b[34m\u001b[1mwandb\u001b[0m: Downloading large artifact xgb_meta:v8, 768.16MB. 7 files... Done. 0:0:0\n",
      "\u001b[34m\u001b[1mwandb\u001b[0m: Downloading large artifact xgb_meta:v10, 766.76MB. 7 files... Done. 0:0:0\n",
      "\u001b[34m\u001b[1mwandb\u001b[0m: Downloading large artifact xgb_meta:v18, 759.23MB. 7 files... Done. 0:0:0\n",
      "100%|██████████| 500000/500000 [00:05<00:00, 90978.23it/s]\n"
     ]
    },
    {
     "name": "stdout",
     "output_type": "stream",
     "text": [
      "| \u001b[0m 50      \u001b[0m | \u001b[0m 0.7278  \u001b[0m | \u001b[0m 0.9591  \u001b[0m | \u001b[0m 0.3956  \u001b[0m | \u001b[0m 0.5577  \u001b[0m | \u001b[0m 0.6751  \u001b[0m | \u001b[0m 0.139   \u001b[0m | \u001b[0m 0.3137  \u001b[0m | \u001b[0m 0.3888  \u001b[0m |\n"
     ]
    },
    {
     "name": "stderr",
     "output_type": "stream",
     "text": [
      "\u001b[34m\u001b[1mwandb\u001b[0m: Downloading large artifact lgbm_meta:v16, 557.89MB. 7 files... Done. 0:0:0\n",
      "\u001b[34m\u001b[1mwandb\u001b[0m: Downloading large artifact lgbm_meta:v18, 554.43MB. 7 files... Done. 0:0:0\n",
      "\u001b[34m\u001b[1mwandb\u001b[0m: Downloading large artifact lgbm_meta:v19, 552.47MB. 7 files... Done. 0:0:0\n",
      "\u001b[34m\u001b[1mwandb\u001b[0m: Downloading large artifact lgbm_meta:v28, 558.00MB. 7 files... Done. 0:0:0\n",
      "\u001b[34m\u001b[1mwandb\u001b[0m: Downloading large artifact xgb_meta:v8, 768.16MB. 7 files... Done. 0:0:0\n",
      "\u001b[34m\u001b[1mwandb\u001b[0m: Downloading large artifact xgb_meta:v10, 766.76MB. 7 files... Done. 0:0:0\n",
      "\u001b[34m\u001b[1mwandb\u001b[0m: Downloading large artifact xgb_meta:v18, 759.23MB. 7 files... Done. 0:0:0\n",
      "100%|██████████| 500000/500000 [00:05<00:00, 90467.12it/s]\n"
     ]
    },
    {
     "name": "stdout",
     "output_type": "stream",
     "text": [
      "| \u001b[95m 51      \u001b[0m | \u001b[95m 0.728   \u001b[0m | \u001b[95m 0.8274  \u001b[0m | \u001b[95m 1.0     \u001b[0m | \u001b[95m 0.775   \u001b[0m | \u001b[95m 0.0     \u001b[0m | \u001b[95m 0.7021  \u001b[0m | \u001b[95m 1.0     \u001b[0m | \u001b[95m 0.0     \u001b[0m |\n"
     ]
    },
    {
     "name": "stderr",
     "output_type": "stream",
     "text": [
      "\u001b[34m\u001b[1mwandb\u001b[0m: Downloading large artifact lgbm_meta:v16, 557.89MB. 7 files... Done. 0:0:0\n",
      "\u001b[34m\u001b[1mwandb\u001b[0m: Downloading large artifact lgbm_meta:v18, 554.43MB. 7 files... Done. 0:0:0\n",
      "\u001b[34m\u001b[1mwandb\u001b[0m: Downloading large artifact lgbm_meta:v19, 552.47MB. 7 files... Done. 0:0:0\n",
      "\u001b[34m\u001b[1mwandb\u001b[0m: Downloading large artifact lgbm_meta:v28, 558.00MB. 7 files... Done. 0:0:0\n",
      "\u001b[34m\u001b[1mwandb\u001b[0m: Downloading large artifact xgb_meta:v8, 768.16MB. 7 files... Done. 0:0:0\n",
      "\u001b[34m\u001b[1mwandb\u001b[0m: Downloading large artifact xgb_meta:v10, 766.76MB. 7 files... Done. 0:0:0\n",
      "\u001b[34m\u001b[1mwandb\u001b[0m: Downloading large artifact xgb_meta:v18, 759.23MB. 7 files... Done. 0:0:0\n",
      "100%|██████████| 500000/500000 [00:05<00:00, 90927.74it/s]\n"
     ]
    },
    {
     "name": "stdout",
     "output_type": "stream",
     "text": [
      "| \u001b[0m 52      \u001b[0m | \u001b[0m 0.728   \u001b[0m | \u001b[0m 0.1278  \u001b[0m | \u001b[0m 1.0     \u001b[0m | \u001b[0m 1.0     \u001b[0m | \u001b[0m 0.0     \u001b[0m | \u001b[0m 0.763   \u001b[0m | \u001b[0m 0.4681  \u001b[0m | \u001b[0m 0.0     \u001b[0m |\n"
     ]
    },
    {
     "name": "stderr",
     "output_type": "stream",
     "text": [
      "\u001b[34m\u001b[1mwandb\u001b[0m: Downloading large artifact lgbm_meta:v16, 557.89MB. 7 files... Done. 0:0:0\n",
      "\u001b[34m\u001b[1mwandb\u001b[0m: Downloading large artifact lgbm_meta:v18, 554.43MB. 7 files... Done. 0:0:0\n",
      "\u001b[34m\u001b[1mwandb\u001b[0m: Downloading large artifact lgbm_meta:v19, 552.47MB. 7 files... Done. 0:0:0\n",
      "\u001b[34m\u001b[1mwandb\u001b[0m: Downloading large artifact lgbm_meta:v28, 558.00MB. 7 files... Done. 0:0:0\n",
      "\u001b[34m\u001b[1mwandb\u001b[0m: Downloading large artifact xgb_meta:v8, 768.16MB. 7 files... Done. 0:0:0\n",
      "\u001b[34m\u001b[1mwandb\u001b[0m: Downloading large artifact xgb_meta:v10, 766.76MB. 7 files... Done. 0:0:0\n",
      "\u001b[34m\u001b[1mwandb\u001b[0m: Downloading large artifact xgb_meta:v18, 759.23MB. 7 files... Done. 0:0:0\n",
      "100%|██████████| 500000/500000 [00:05<00:00, 88627.49it/s]\n"
     ]
    },
    {
     "name": "stdout",
     "output_type": "stream",
     "text": [
      "| \u001b[95m 53      \u001b[0m | \u001b[95m 0.728   \u001b[0m | \u001b[95m 0.9376  \u001b[0m | \u001b[95m 1.0     \u001b[0m | \u001b[95m 0.1151  \u001b[0m | \u001b[95m 0.0     \u001b[0m | \u001b[95m 0.7118  \u001b[0m | \u001b[95m 1.0     \u001b[0m | \u001b[95m 0.2093  \u001b[0m |\n"
     ]
    },
    {
     "name": "stderr",
     "output_type": "stream",
     "text": [
      "\u001b[34m\u001b[1mwandb\u001b[0m: Downloading large artifact lgbm_meta:v16, 557.89MB. 7 files... Done. 0:0:0\n",
      "\u001b[34m\u001b[1mwandb\u001b[0m: Downloading large artifact lgbm_meta:v18, 554.43MB. 7 files... Done. 0:0:0\n",
      "\u001b[34m\u001b[1mwandb\u001b[0m: Downloading large artifact lgbm_meta:v19, 552.47MB. 7 files... Done. 0:0:0\n",
      "\u001b[34m\u001b[1mwandb\u001b[0m: Downloading large artifact lgbm_meta:v28, 558.00MB. 7 files... Done. 0:0:0\n",
      "\u001b[34m\u001b[1mwandb\u001b[0m: Downloading large artifact xgb_meta:v8, 768.16MB. 7 files... Done. 0:0:0\n",
      "\u001b[34m\u001b[1mwandb\u001b[0m: Downloading large artifact xgb_meta:v10, 766.76MB. 7 files... Done. 0:0:0\n",
      "\u001b[34m\u001b[1mwandb\u001b[0m: Downloading large artifact xgb_meta:v18, 759.23MB. 7 files... Done. 0:0:0\n",
      "100%|██████████| 500000/500000 [00:05<00:00, 90394.67it/s]\n"
     ]
    },
    {
     "name": "stdout",
     "output_type": "stream",
     "text": [
      "| \u001b[95m 54      \u001b[0m | \u001b[95m 0.728   \u001b[0m | \u001b[95m 0.5716  \u001b[0m | \u001b[95m 1.0     \u001b[0m | \u001b[95m 0.02106 \u001b[0m | \u001b[95m 0.0     \u001b[0m | \u001b[95m 0.3689  \u001b[0m | \u001b[95m 1.0     \u001b[0m | \u001b[95m 0.0     \u001b[0m |\n"
     ]
    },
    {
     "name": "stderr",
     "output_type": "stream",
     "text": [
      "\u001b[34m\u001b[1mwandb\u001b[0m: Downloading large artifact lgbm_meta:v16, 557.89MB. 7 files... Done. 0:0:0\n",
      "\u001b[34m\u001b[1mwandb\u001b[0m: Downloading large artifact lgbm_meta:v18, 554.43MB. 7 files... Done. 0:0:0\n",
      "\u001b[34m\u001b[1mwandb\u001b[0m: Downloading large artifact lgbm_meta:v19, 552.47MB. 7 files... Done. 0:0:0\n",
      "\u001b[34m\u001b[1mwandb\u001b[0m: Downloading large artifact lgbm_meta:v28, 558.00MB. 7 files... Done. 0:0:0\n",
      "\u001b[34m\u001b[1mwandb\u001b[0m: Downloading large artifact xgb_meta:v8, 768.16MB. 7 files... Done. 0:0:0\n",
      "\u001b[34m\u001b[1mwandb\u001b[0m: Downloading large artifact xgb_meta:v10, 766.76MB. 7 files... Done. 0:0:0\n",
      "\u001b[34m\u001b[1mwandb\u001b[0m: Downloading large artifact xgb_meta:v18, 759.23MB. 7 files... Done. 0:0:0\n",
      "100%|██████████| 500000/500000 [00:05<00:00, 89955.14it/s]\n"
     ]
    },
    {
     "name": "stdout",
     "output_type": "stream",
     "text": [
      "| \u001b[0m 55      \u001b[0m | \u001b[0m 0.728   \u001b[0m | \u001b[0m 1.0     \u001b[0m | \u001b[0m 0.7004  \u001b[0m | \u001b[0m 0.2987  \u001b[0m | \u001b[0m 0.0     \u001b[0m | \u001b[0m 0.3533  \u001b[0m | \u001b[0m 1.0     \u001b[0m | \u001b[0m 0.0     \u001b[0m |\n"
     ]
    },
    {
     "name": "stderr",
     "output_type": "stream",
     "text": [
      "\u001b[34m\u001b[1mwandb\u001b[0m: Downloading large artifact lgbm_meta:v16, 557.89MB. 7 files... Done. 0:0:0\n",
      "\u001b[34m\u001b[1mwandb\u001b[0m: Downloading large artifact lgbm_meta:v18, 554.43MB. 7 files... Done. 0:0:0\n",
      "\u001b[34m\u001b[1mwandb\u001b[0m: Downloading large artifact lgbm_meta:v19, 552.47MB. 7 files... Done. 0:0:0\n",
      "\u001b[34m\u001b[1mwandb\u001b[0m: Downloading large artifact lgbm_meta:v28, 558.00MB. 7 files... Done. 0:0:0\n",
      "\u001b[34m\u001b[1mwandb\u001b[0m: Downloading large artifact xgb_meta:v8, 768.16MB. 7 files... Done. 0:0:0\n",
      "\u001b[34m\u001b[1mwandb\u001b[0m: Downloading large artifact xgb_meta:v10, 766.76MB. 7 files... Done. 0:0:0\n",
      "\u001b[34m\u001b[1mwandb\u001b[0m: Downloading large artifact xgb_meta:v18, 759.23MB. 7 files... Done. 0:0:0\n",
      "100%|██████████| 500000/500000 [00:05<00:00, 90946.80it/s]\n"
     ]
    },
    {
     "name": "stdout",
     "output_type": "stream",
     "text": [
      "| \u001b[0m 56      \u001b[0m | \u001b[0m 0.728   \u001b[0m | \u001b[0m 0.0     \u001b[0m | \u001b[0m 1.0     \u001b[0m | \u001b[0m 0.0     \u001b[0m | \u001b[0m 0.0     \u001b[0m | \u001b[0m 0.9885  \u001b[0m | \u001b[0m 1.0     \u001b[0m | \u001b[0m 0.572   \u001b[0m |\n"
     ]
    },
    {
     "name": "stderr",
     "output_type": "stream",
     "text": [
      "\u001b[34m\u001b[1mwandb\u001b[0m: Downloading large artifact lgbm_meta:v16, 557.89MB. 7 files... Done. 0:0:0\n",
      "\u001b[34m\u001b[1mwandb\u001b[0m: Downloading large artifact lgbm_meta:v18, 554.43MB. 7 files... Done. 0:0:0\n",
      "\u001b[34m\u001b[1mwandb\u001b[0m: Downloading large artifact lgbm_meta:v19, 552.47MB. 7 files... Done. 0:0:0\n",
      "\u001b[34m\u001b[1mwandb\u001b[0m: Downloading large artifact lgbm_meta:v28, 558.00MB. 7 files... Done. 0:0:0\n",
      "\u001b[34m\u001b[1mwandb\u001b[0m: Downloading large artifact xgb_meta:v8, 768.16MB. 7 files... Done. 0:0:0\n",
      "\u001b[34m\u001b[1mwandb\u001b[0m: Downloading large artifact xgb_meta:v10, 766.76MB. 7 files... Done. 0:0:0\n",
      "\u001b[34m\u001b[1mwandb\u001b[0m: Downloading large artifact xgb_meta:v18, 759.23MB. 7 files... Done. 0:0:0\n",
      "100%|██████████| 500000/500000 [00:05<00:00, 88602.34it/s]\n"
     ]
    },
    {
     "name": "stdout",
     "output_type": "stream",
     "text": [
      "| \u001b[0m 57      \u001b[0m | \u001b[0m 0.728   \u001b[0m | \u001b[0m 0.6631  \u001b[0m | \u001b[0m 1.0     \u001b[0m | \u001b[0m 0.3534  \u001b[0m | \u001b[0m 0.0     \u001b[0m | \u001b[0m 0.4621  \u001b[0m | \u001b[0m 1.0     \u001b[0m | \u001b[0m 0.2889  \u001b[0m |\n"
     ]
    },
    {
     "name": "stderr",
     "output_type": "stream",
     "text": [
      "\u001b[34m\u001b[1mwandb\u001b[0m: Downloading large artifact lgbm_meta:v16, 557.89MB. 7 files... Done. 0:0:0\n",
      "\u001b[34m\u001b[1mwandb\u001b[0m: Downloading large artifact lgbm_meta:v18, 554.43MB. 7 files... Done. 0:0:0\n",
      "\u001b[34m\u001b[1mwandb\u001b[0m: Downloading large artifact lgbm_meta:v19, 552.47MB. 7 files... Done. 0:0:0\n",
      "\u001b[34m\u001b[1mwandb\u001b[0m: Downloading large artifact lgbm_meta:v28, 558.00MB. 7 files... Done. 0:0:0\n",
      "\u001b[34m\u001b[1mwandb\u001b[0m: Downloading large artifact xgb_meta:v8, 768.16MB. 7 files... Done. 0:0:0\n",
      "\u001b[34m\u001b[1mwandb\u001b[0m: Downloading large artifact xgb_meta:v10, 766.76MB. 7 files... Done. 0:0:0\n",
      "\u001b[34m\u001b[1mwandb\u001b[0m: Downloading large artifact xgb_meta:v18, 759.23MB. 7 files... Done. 0:0:0\n",
      "100%|██████████| 500000/500000 [00:05<00:00, 91426.62it/s]\n"
     ]
    },
    {
     "name": "stdout",
     "output_type": "stream",
     "text": [
      "| \u001b[0m 58      \u001b[0m | \u001b[0m 0.728   \u001b[0m | \u001b[0m 1.0     \u001b[0m | \u001b[0m 0.7833  \u001b[0m | \u001b[0m 0.0     \u001b[0m | \u001b[0m 0.0     \u001b[0m | \u001b[0m 1.0     \u001b[0m | \u001b[0m 1.0     \u001b[0m | \u001b[0m 0.0     \u001b[0m |\n"
     ]
    },
    {
     "name": "stderr",
     "output_type": "stream",
     "text": [
      "\u001b[34m\u001b[1mwandb\u001b[0m: Downloading large artifact lgbm_meta:v16, 557.89MB. 7 files... Done. 0:0:0\n",
      "\u001b[34m\u001b[1mwandb\u001b[0m: Downloading large artifact lgbm_meta:v18, 554.43MB. 7 files... Done. 0:0:0\n",
      "\u001b[34m\u001b[1mwandb\u001b[0m: Downloading large artifact lgbm_meta:v19, 552.47MB. 7 files... Done. 0:0:0\n",
      "\u001b[34m\u001b[1mwandb\u001b[0m: Downloading large artifact lgbm_meta:v28, 558.00MB. 7 files... Done. 0:0:0\n",
      "\u001b[34m\u001b[1mwandb\u001b[0m: Downloading large artifact xgb_meta:v8, 768.16MB. 7 files... Done. 0:0:0\n",
      "\u001b[34m\u001b[1mwandb\u001b[0m: Downloading large artifact xgb_meta:v10, 766.76MB. 7 files... Done. 0:0:0\n",
      "\u001b[34m\u001b[1mwandb\u001b[0m: Downloading large artifact xgb_meta:v18, 759.23MB. 7 files... Done. 0:0:0\n",
      "100%|██████████| 500000/500000 [00:05<00:00, 90757.15it/s]\n"
     ]
    },
    {
     "name": "stdout",
     "output_type": "stream",
     "text": [
      "| \u001b[95m 59      \u001b[0m | \u001b[95m 0.7281  \u001b[0m | \u001b[95m 0.0     \u001b[0m | \u001b[95m 0.6596  \u001b[0m | \u001b[95m 0.0     \u001b[0m | \u001b[95m 0.0     \u001b[0m | \u001b[95m 0.3875  \u001b[0m | \u001b[95m 1.0     \u001b[0m | \u001b[95m 0.0     \u001b[0m |\n"
     ]
    },
    {
     "name": "stderr",
     "output_type": "stream",
     "text": [
      "\u001b[34m\u001b[1mwandb\u001b[0m: Downloading large artifact lgbm_meta:v16, 557.89MB. 7 files... Done. 0:0:0\n",
      "\u001b[34m\u001b[1mwandb\u001b[0m: Downloading large artifact lgbm_meta:v18, 554.43MB. 7 files... Done. 0:0:0\n",
      "\u001b[34m\u001b[1mwandb\u001b[0m: Downloading large artifact lgbm_meta:v19, 552.47MB. 7 files... Done. 0:0:0\n",
      "\u001b[34m\u001b[1mwandb\u001b[0m: Downloading large artifact lgbm_meta:v28, 558.00MB. 7 files... Done. 0:0:0\n",
      "\u001b[34m\u001b[1mwandb\u001b[0m: Downloading large artifact xgb_meta:v8, 768.16MB. 7 files... Done. 0:0:0\n",
      "\u001b[34m\u001b[1mwandb\u001b[0m: Downloading large artifact xgb_meta:v10, 766.76MB. 7 files... Done. 0:0:0\n",
      "\u001b[34m\u001b[1mwandb\u001b[0m: Downloading large artifact xgb_meta:v18, 759.23MB. 7 files... Done. 0:0:0\n",
      "100%|██████████| 500000/500000 [00:05<00:00, 91172.74it/s]\n"
     ]
    },
    {
     "name": "stdout",
     "output_type": "stream",
     "text": [
      "| \u001b[0m 60      \u001b[0m | \u001b[0m 0.728   \u001b[0m | \u001b[0m 0.0     \u001b[0m | \u001b[0m 0.598   \u001b[0m | \u001b[0m 0.0     \u001b[0m | \u001b[0m 0.0     \u001b[0m | \u001b[0m 0.0     \u001b[0m | \u001b[0m 1.0     \u001b[0m | \u001b[0m 0.0     \u001b[0m |\n"
     ]
    },
    {
     "name": "stderr",
     "output_type": "stream",
     "text": [
      "\u001b[34m\u001b[1mwandb\u001b[0m: Downloading large artifact lgbm_meta:v16, 557.89MB. 7 files... Done. 0:0:0\n",
      "\u001b[34m\u001b[1mwandb\u001b[0m: Downloading large artifact lgbm_meta:v18, 554.43MB. 7 files... Done. 0:0:0\n",
      "\u001b[34m\u001b[1mwandb\u001b[0m: Downloading large artifact lgbm_meta:v19, 552.47MB. 7 files... Done. 0:0:0\n",
      "\u001b[34m\u001b[1mwandb\u001b[0m: Downloading large artifact lgbm_meta:v28, 558.00MB. 7 files... Done. 0:0:0\n",
      "\u001b[34m\u001b[1mwandb\u001b[0m: Downloading large artifact xgb_meta:v8, 768.16MB. 7 files... Done. 0:0:0\n",
      "\u001b[34m\u001b[1mwandb\u001b[0m: Downloading large artifact xgb_meta:v10, 766.76MB. 7 files... Done. 0:0:0\n",
      "\u001b[34m\u001b[1mwandb\u001b[0m: Downloading large artifact xgb_meta:v18, 759.23MB. 7 files... Done. 0:0:0\n",
      "100%|██████████| 500000/500000 [00:05<00:00, 90391.21it/s]\n"
     ]
    },
    {
     "name": "stdout",
     "output_type": "stream",
     "text": [
      "| \u001b[0m 61      \u001b[0m | \u001b[0m 0.728   \u001b[0m | \u001b[0m 0.0     \u001b[0m | \u001b[0m 0.5227  \u001b[0m | \u001b[0m 0.0     \u001b[0m | \u001b[0m 0.0     \u001b[0m | \u001b[0m 0.7636  \u001b[0m | \u001b[0m 1.0     \u001b[0m | \u001b[0m 0.0     \u001b[0m |\n"
     ]
    },
    {
     "name": "stderr",
     "output_type": "stream",
     "text": [
      "\u001b[34m\u001b[1mwandb\u001b[0m: Downloading large artifact lgbm_meta:v16, 557.89MB. 7 files... Done. 0:0:0\n",
      "\u001b[34m\u001b[1mwandb\u001b[0m: Downloading large artifact lgbm_meta:v18, 554.43MB. 7 files... Done. 0:0:0\n",
      "\u001b[34m\u001b[1mwandb\u001b[0m: Downloading large artifact lgbm_meta:v19, 552.47MB. 7 files... Done. 0:0:0\n",
      "\u001b[34m\u001b[1mwandb\u001b[0m: Downloading large artifact lgbm_meta:v28, 558.00MB. 7 files... Done. 0:0:0\n",
      "\u001b[34m\u001b[1mwandb\u001b[0m: Downloading large artifact xgb_meta:v8, 768.16MB. 7 files... Done. 0:0:0\n",
      "\u001b[34m\u001b[1mwandb\u001b[0m: Downloading large artifact xgb_meta:v10, 766.76MB. 7 files... Done. 0:0:0\n",
      "\u001b[34m\u001b[1mwandb\u001b[0m: Downloading large artifact xgb_meta:v18, 759.23MB. 7 files... Done. 0:0:0\n",
      "100%|██████████| 500000/500000 [00:05<00:00, 91533.46it/s]\n"
     ]
    },
    {
     "name": "stdout",
     "output_type": "stream",
     "text": [
      "| \u001b[95m 62      \u001b[0m | \u001b[95m 0.7281  \u001b[0m | \u001b[95m 0.0     \u001b[0m | \u001b[95m 1.0     \u001b[0m | \u001b[95m 0.0     \u001b[0m | \u001b[95m 0.0     \u001b[0m | \u001b[95m 0.5083  \u001b[0m | \u001b[95m 1.0     \u001b[0m | \u001b[95m 0.0     \u001b[0m |\n"
     ]
    },
    {
     "name": "stderr",
     "output_type": "stream",
     "text": [
      "\u001b[34m\u001b[1mwandb\u001b[0m: Downloading large artifact lgbm_meta:v16, 557.89MB. 7 files... Done. 0:0:0\n",
      "\u001b[34m\u001b[1mwandb\u001b[0m: Downloading large artifact lgbm_meta:v18, 554.43MB. 7 files... Done. 0:0:0\n",
      "\u001b[34m\u001b[1mwandb\u001b[0m: Downloading large artifact lgbm_meta:v19, 552.47MB. 7 files... Done. 0:0:0\n",
      "\u001b[34m\u001b[1mwandb\u001b[0m: Downloading large artifact lgbm_meta:v28, 558.00MB. 7 files... Done. 0:0:0\n",
      "\u001b[34m\u001b[1mwandb\u001b[0m: Downloading large artifact xgb_meta:v8, 768.16MB. 7 files... Done. 0:0:0\n",
      "\u001b[34m\u001b[1mwandb\u001b[0m: Downloading large artifact xgb_meta:v10, 766.76MB. 7 files... Done. 0:0:0\n",
      "\u001b[34m\u001b[1mwandb\u001b[0m: Downloading large artifact xgb_meta:v18, 759.23MB. 7 files... Done. 0:0:0\n",
      "100%|██████████| 500000/500000 [00:05<00:00, 90404.47it/s]\n"
     ]
    },
    {
     "name": "stdout",
     "output_type": "stream",
     "text": [
      "| \u001b[0m 63      \u001b[0m | \u001b[0m 0.728   \u001b[0m | \u001b[0m 0.0     \u001b[0m | \u001b[0m 0.8258  \u001b[0m | \u001b[0m 0.2606  \u001b[0m | \u001b[0m 0.0     \u001b[0m | \u001b[0m 0.487   \u001b[0m | \u001b[0m 1.0     \u001b[0m | \u001b[0m 0.0     \u001b[0m |\n"
     ]
    },
    {
     "name": "stderr",
     "output_type": "stream",
     "text": [
      "\u001b[34m\u001b[1mwandb\u001b[0m: Downloading large artifact lgbm_meta:v16, 557.89MB. 7 files... Done. 0:0:0\n",
      "\u001b[34m\u001b[1mwandb\u001b[0m: Downloading large artifact lgbm_meta:v18, 554.43MB. 7 files... Done. 0:0:0\n",
      "\u001b[34m\u001b[1mwandb\u001b[0m: Downloading large artifact lgbm_meta:v19, 552.47MB. 7 files... Done. 0:0:0\n",
      "\u001b[34m\u001b[1mwandb\u001b[0m: Downloading large artifact lgbm_meta:v28, 558.00MB. 7 files... Done. 0:0:0\n",
      "\u001b[34m\u001b[1mwandb\u001b[0m: Downloading large artifact xgb_meta:v8, 768.16MB. 7 files... Done. 0:0:0\n",
      "\u001b[34m\u001b[1mwandb\u001b[0m: Downloading large artifact xgb_meta:v10, 766.76MB. 7 files... Done. 0:0:0\n",
      "\u001b[34m\u001b[1mwandb\u001b[0m: Downloading large artifact xgb_meta:v18, 759.23MB. 7 files... Done. 0:0:0\n",
      "100%|██████████| 500000/500000 [00:05<00:00, 89456.67it/s]\n"
     ]
    },
    {
     "name": "stdout",
     "output_type": "stream",
     "text": [
      "| \u001b[0m 64      \u001b[0m | \u001b[0m 0.728   \u001b[0m | \u001b[0m 1.0     \u001b[0m | \u001b[0m 1.0     \u001b[0m | \u001b[0m 0.0     \u001b[0m | \u001b[0m 0.0     \u001b[0m | \u001b[0m 0.5262  \u001b[0m | \u001b[0m 0.5548  \u001b[0m | \u001b[0m 0.0     \u001b[0m |\n"
     ]
    },
    {
     "name": "stderr",
     "output_type": "stream",
     "text": [
      "\u001b[34m\u001b[1mwandb\u001b[0m: Downloading large artifact lgbm_meta:v16, 557.89MB. 7 files... Done. 0:0:0\n",
      "\u001b[34m\u001b[1mwandb\u001b[0m: Downloading large artifact lgbm_meta:v18, 554.43MB. 7 files... Done. 0:0:0\n",
      "\u001b[34m\u001b[1mwandb\u001b[0m: Downloading large artifact lgbm_meta:v19, 552.47MB. 7 files... Done. 0:0:0\n",
      "\u001b[34m\u001b[1mwandb\u001b[0m: Downloading large artifact lgbm_meta:v28, 558.00MB. 7 files... Done. 0:0:0\n",
      "\u001b[34m\u001b[1mwandb\u001b[0m: Downloading large artifact xgb_meta:v8, 768.16MB. 7 files... Done. 0:0:0\n",
      "\u001b[34m\u001b[1mwandb\u001b[0m: Downloading large artifact xgb_meta:v10, 766.76MB. 7 files... Done. 0:0:0\n",
      "\u001b[34m\u001b[1mwandb\u001b[0m: Downloading large artifact xgb_meta:v18, 759.23MB. 7 files... Done. 0:0:0\n",
      "100%|██████████| 500000/500000 [00:05<00:00, 91059.03it/s]\n"
     ]
    },
    {
     "name": "stdout",
     "output_type": "stream",
     "text": [
      "| \u001b[0m 65      \u001b[0m | \u001b[0m 0.7281  \u001b[0m | \u001b[0m 0.0     \u001b[0m | \u001b[0m 1.0     \u001b[0m | \u001b[0m 0.0     \u001b[0m | \u001b[0m 0.0     \u001b[0m | \u001b[0m 0.4943  \u001b[0m | \u001b[0m 0.5988  \u001b[0m | \u001b[0m 0.0     \u001b[0m |\n"
     ]
    },
    {
     "name": "stderr",
     "output_type": "stream",
     "text": [
      "\u001b[34m\u001b[1mwandb\u001b[0m: Downloading large artifact lgbm_meta:v16, 557.89MB. 7 files... Done. 0:0:0\n",
      "\u001b[34m\u001b[1mwandb\u001b[0m: Downloading large artifact lgbm_meta:v18, 554.43MB. 7 files... Done. 0:0:0\n",
      "\u001b[34m\u001b[1mwandb\u001b[0m: Downloading large artifact lgbm_meta:v19, 552.47MB. 7 files... Done. 0:0:0\n",
      "\u001b[34m\u001b[1mwandb\u001b[0m: Downloading large artifact lgbm_meta:v28, 558.00MB. 7 files... Done. 0:0:0\n",
      "\u001b[34m\u001b[1mwandb\u001b[0m: Downloading large artifact xgb_meta:v8, 768.16MB. 7 files... Done. 0:0:0\n",
      "\u001b[34m\u001b[1mwandb\u001b[0m: Downloading large artifact xgb_meta:v10, 766.76MB. 7 files... Done. 0:0:0\n",
      "\u001b[34m\u001b[1mwandb\u001b[0m: Downloading large artifact xgb_meta:v18, 759.23MB. 7 files... Done. 0:0:0\n",
      "100%|██████████| 500000/500000 [00:05<00:00, 90996.30it/s]\n"
     ]
    },
    {
     "name": "stdout",
     "output_type": "stream",
     "text": [
      "| \u001b[0m 66      \u001b[0m | \u001b[0m 0.7279  \u001b[0m | \u001b[0m 1.0     \u001b[0m | \u001b[0m 1.0     \u001b[0m | \u001b[0m 1.0     \u001b[0m | \u001b[0m 0.0     \u001b[0m | \u001b[0m 1.0     \u001b[0m | \u001b[0m 1.0     \u001b[0m | \u001b[0m 0.751   \u001b[0m |\n"
     ]
    },
    {
     "name": "stderr",
     "output_type": "stream",
     "text": [
      "\u001b[34m\u001b[1mwandb\u001b[0m: Downloading large artifact lgbm_meta:v16, 557.89MB. 7 files... Done. 0:0:0\n",
      "\u001b[34m\u001b[1mwandb\u001b[0m: Downloading large artifact lgbm_meta:v18, 554.43MB. 7 files... Done. 0:0:0\n",
      "\u001b[34m\u001b[1mwandb\u001b[0m: Downloading large artifact lgbm_meta:v19, 552.47MB. 7 files... Done. 0:0:0\n",
      "\u001b[34m\u001b[1mwandb\u001b[0m: Downloading large artifact lgbm_meta:v28, 558.00MB. 7 files... Done. 0:0:0\n",
      "\u001b[34m\u001b[1mwandb\u001b[0m: Downloading large artifact xgb_meta:v8, 768.16MB. 7 files... Done. 0:0:0\n",
      "\u001b[34m\u001b[1mwandb\u001b[0m: Downloading large artifact xgb_meta:v10, 766.76MB. 7 files... Done. 0:0:0\n",
      "\u001b[34m\u001b[1mwandb\u001b[0m: Downloading large artifact xgb_meta:v18, 759.23MB. 7 files... Done. 0:0:0\n",
      "100%|██████████| 500000/500000 [00:05<00:00, 88433.09it/s]\n"
     ]
    },
    {
     "name": "stdout",
     "output_type": "stream",
     "text": [
      "| \u001b[0m 67      \u001b[0m | \u001b[0m 0.7281  \u001b[0m | \u001b[0m 0.0     \u001b[0m | \u001b[0m 0.8329  \u001b[0m | \u001b[0m 0.0     \u001b[0m | \u001b[0m 0.0     \u001b[0m | \u001b[0m 0.557   \u001b[0m | \u001b[0m 0.8043  \u001b[0m | \u001b[0m 0.0     \u001b[0m |\n"
     ]
    },
    {
     "name": "stderr",
     "output_type": "stream",
     "text": [
      "\u001b[34m\u001b[1mwandb\u001b[0m: Downloading large artifact lgbm_meta:v16, 557.89MB. 7 files... Done. 0:0:0\n",
      "\u001b[34m\u001b[1mwandb\u001b[0m: Downloading large artifact lgbm_meta:v18, 554.43MB. 7 files... Done. 0:0:0\n",
      "\u001b[34m\u001b[1mwandb\u001b[0m: Downloading large artifact lgbm_meta:v19, 552.47MB. 7 files... Done. 0:0:0\n",
      "\u001b[34m\u001b[1mwandb\u001b[0m: Downloading large artifact lgbm_meta:v28, 558.00MB. 7 files... Done. 0:0:0\n",
      "\u001b[34m\u001b[1mwandb\u001b[0m: Downloading large artifact xgb_meta:v8, 768.16MB. 7 files... Done. 0:0:0\n",
      "\u001b[34m\u001b[1mwandb\u001b[0m: Downloading large artifact xgb_meta:v10, 766.76MB. 7 files... Done. 0:0:0\n",
      "\u001b[34m\u001b[1mwandb\u001b[0m: Downloading large artifact xgb_meta:v18, 759.23MB. 7 files... Done. 0:0:0\n",
      "100%|██████████| 500000/500000 [00:05<00:00, 91102.46it/s]\n"
     ]
    },
    {
     "name": "stdout",
     "output_type": "stream",
     "text": [
      "| \u001b[0m 68      \u001b[0m | \u001b[0m 0.728   \u001b[0m | \u001b[0m 0.2433  \u001b[0m | \u001b[0m 1.0     \u001b[0m | \u001b[0m 0.0     \u001b[0m | \u001b[0m 0.0     \u001b[0m | \u001b[0m 0.6457  \u001b[0m | \u001b[0m 0.8004  \u001b[0m | \u001b[0m 0.0     \u001b[0m |\n"
     ]
    },
    {
     "name": "stderr",
     "output_type": "stream",
     "text": [
      "\u001b[34m\u001b[1mwandb\u001b[0m: Downloading large artifact lgbm_meta:v16, 557.89MB. 7 files... Done. 0:0:0\n",
      "\u001b[34m\u001b[1mwandb\u001b[0m: Downloading large artifact lgbm_meta:v18, 554.43MB. 7 files... Done. 0:0:0\n",
      "\u001b[34m\u001b[1mwandb\u001b[0m: Downloading large artifact lgbm_meta:v19, 552.47MB. 7 files... Done. 0:0:0\n",
      "\u001b[34m\u001b[1mwandb\u001b[0m: Downloading large artifact lgbm_meta:v28, 558.00MB. 7 files... Done. 0:0:0\n",
      "\u001b[34m\u001b[1mwandb\u001b[0m: Downloading large artifact xgb_meta:v8, 768.16MB. 7 files... Done. 0:0:0\n",
      "\u001b[34m\u001b[1mwandb\u001b[0m: Downloading large artifact xgb_meta:v10, 766.76MB. 7 files... Done. 0:0:0\n",
      "\u001b[34m\u001b[1mwandb\u001b[0m: Downloading large artifact xgb_meta:v18, 759.23MB. 7 files... Done. 0:0:0\n",
      "100%|██████████| 500000/500000 [00:05<00:00, 89633.10it/s]\n"
     ]
    },
    {
     "name": "stdout",
     "output_type": "stream",
     "text": [
      "| \u001b[0m 69      \u001b[0m | \u001b[0m 0.7281  \u001b[0m | \u001b[0m 0.0     \u001b[0m | \u001b[0m 1.0     \u001b[0m | \u001b[0m 0.0     \u001b[0m | \u001b[0m 0.0     \u001b[0m | \u001b[0m 0.3032  \u001b[0m | \u001b[0m 0.8102  \u001b[0m | \u001b[0m 0.0     \u001b[0m |\n"
     ]
    },
    {
     "name": "stderr",
     "output_type": "stream",
     "text": [
      "\u001b[34m\u001b[1mwandb\u001b[0m: Downloading large artifact lgbm_meta:v16, 557.89MB. 7 files... Done. 0:0:0\n",
      "\u001b[34m\u001b[1mwandb\u001b[0m: Downloading large artifact lgbm_meta:v18, 554.43MB. 7 files... Done. 0:0:0\n",
      "\u001b[34m\u001b[1mwandb\u001b[0m: Downloading large artifact lgbm_meta:v19, 552.47MB. 7 files... Done. 0:0:0\n",
      "\u001b[34m\u001b[1mwandb\u001b[0m: Downloading large artifact lgbm_meta:v28, 558.00MB. 7 files... Done. 0:0:0\n",
      "\u001b[34m\u001b[1mwandb\u001b[0m: Downloading large artifact xgb_meta:v8, 768.16MB. 7 files... Done. 0:0:0\n",
      "\u001b[34m\u001b[1mwandb\u001b[0m: Downloading large artifact xgb_meta:v10, 766.76MB. 7 files... Done. 0:0:0\n",
      "\u001b[34m\u001b[1mwandb\u001b[0m: Downloading large artifact xgb_meta:v18, 759.23MB. 7 files... Done. 0:0:0\n",
      "100%|██████████| 500000/500000 [00:05<00:00, 88417.65it/s]\n"
     ]
    },
    {
     "name": "stdout",
     "output_type": "stream",
     "text": [
      "| \u001b[0m 70      \u001b[0m | \u001b[0m 0.7279  \u001b[0m | \u001b[0m 1.0     \u001b[0m | \u001b[0m 0.3785  \u001b[0m | \u001b[0m 1.0     \u001b[0m | \u001b[0m 0.0     \u001b[0m | \u001b[0m 0.7549  \u001b[0m | \u001b[0m 1.0     \u001b[0m | \u001b[0m 0.0     \u001b[0m |\n"
     ]
    },
    {
     "name": "stderr",
     "output_type": "stream",
     "text": [
      "\u001b[34m\u001b[1mwandb\u001b[0m: Downloading large artifact lgbm_meta:v16, 557.89MB. 7 files... Done. 0:0:0\n",
      "\u001b[34m\u001b[1mwandb\u001b[0m: Downloading large artifact lgbm_meta:v18, 554.43MB. 7 files... Done. 0:0:0\n",
      "\u001b[34m\u001b[1mwandb\u001b[0m: Downloading large artifact lgbm_meta:v19, 552.47MB. 7 files... Done. 0:0:0\n",
      "\u001b[34m\u001b[1mwandb\u001b[0m: Downloading large artifact lgbm_meta:v28, 558.00MB. 7 files... Done. 0:0:0\n",
      "\u001b[34m\u001b[1mwandb\u001b[0m: Downloading large artifact xgb_meta:v8, 768.16MB. 7 files... Done. 0:0:0\n",
      "\u001b[34m\u001b[1mwandb\u001b[0m: Downloading large artifact xgb_meta:v10, 766.76MB. 7 files... Done. 0:0:0\n",
      "\u001b[34m\u001b[1mwandb\u001b[0m: Downloading large artifact xgb_meta:v18, 759.23MB. 7 files... Done. 0:0:0\n",
      "100%|██████████| 500000/500000 [00:05<00:00, 90844.48it/s]\n"
     ]
    },
    {
     "name": "stdout",
     "output_type": "stream",
     "text": [
      "| \u001b[0m 71      \u001b[0m | \u001b[0m 0.728   \u001b[0m | \u001b[0m 0.0     \u001b[0m | \u001b[0m 0.4682  \u001b[0m | \u001b[0m 1.0     \u001b[0m | \u001b[0m 0.0     \u001b[0m | \u001b[0m 1.0     \u001b[0m | \u001b[0m 0.0     \u001b[0m | \u001b[0m 0.0     \u001b[0m |\n"
     ]
    },
    {
     "name": "stderr",
     "output_type": "stream",
     "text": [
      "\u001b[34m\u001b[1mwandb\u001b[0m: Downloading large artifact lgbm_meta:v16, 557.89MB. 7 files... Done. 0:0:0\n",
      "\u001b[34m\u001b[1mwandb\u001b[0m: Downloading large artifact lgbm_meta:v18, 554.43MB. 7 files... Done. 0:0:0\n",
      "\u001b[34m\u001b[1mwandb\u001b[0m: Downloading large artifact lgbm_meta:v19, 552.47MB. 7 files... Done. 0:0:0\n",
      "\u001b[34m\u001b[1mwandb\u001b[0m: Downloading large artifact lgbm_meta:v28, 558.00MB. 7 files... Done. 0:0:0\n",
      "\u001b[34m\u001b[1mwandb\u001b[0m: Downloading large artifact xgb_meta:v8, 768.16MB. 7 files... Done. 0:0:0\n",
      "\u001b[34m\u001b[1mwandb\u001b[0m: Downloading large artifact xgb_meta:v10, 766.76MB. 7 files... Done. 0:0:0\n",
      "\u001b[34m\u001b[1mwandb\u001b[0m: Downloading large artifact xgb_meta:v18, 759.23MB. 7 files... Done. 0:0:0\n",
      "100%|██████████| 500000/500000 [00:05<00:00, 89176.92it/s]\n"
     ]
    },
    {
     "name": "stdout",
     "output_type": "stream",
     "text": [
      "| \u001b[0m 72      \u001b[0m | \u001b[0m 0.7279  \u001b[0m | \u001b[0m 1.0     \u001b[0m | \u001b[0m 1.0     \u001b[0m | \u001b[0m 0.0     \u001b[0m | \u001b[0m 0.358   \u001b[0m | \u001b[0m 0.5507  \u001b[0m | \u001b[0m 1.0     \u001b[0m | \u001b[0m 0.0     \u001b[0m |\n"
     ]
    },
    {
     "name": "stderr",
     "output_type": "stream",
     "text": [
      "\u001b[34m\u001b[1mwandb\u001b[0m: Downloading large artifact lgbm_meta:v16, 557.89MB. 7 files... Done. 0:0:0\n",
      "\u001b[34m\u001b[1mwandb\u001b[0m: Downloading large artifact lgbm_meta:v18, 554.43MB. 7 files... Done. 0:0:0\n",
      "\u001b[34m\u001b[1mwandb\u001b[0m: Downloading large artifact lgbm_meta:v19, 552.47MB. 7 files... Done. 0:0:0\n",
      "\u001b[34m\u001b[1mwandb\u001b[0m: Downloading large artifact lgbm_meta:v28, 558.00MB. 7 files... Done. 0:0:0\n",
      "\u001b[34m\u001b[1mwandb\u001b[0m: Downloading large artifact xgb_meta:v8, 768.16MB. 7 files... Done. 0:0:0\n",
      "\u001b[34m\u001b[1mwandb\u001b[0m: Downloading large artifact xgb_meta:v10, 766.76MB. 7 files... Done. 0:0:0\n",
      "\u001b[34m\u001b[1mwandb\u001b[0m: Downloading large artifact xgb_meta:v18, 759.23MB. 7 files... Done. 0:0:0\n",
      "100%|██████████| 500000/500000 [00:05<00:00, 90639.95it/s]\n"
     ]
    },
    {
     "name": "stdout",
     "output_type": "stream",
     "text": [
      "| \u001b[95m 73      \u001b[0m | \u001b[95m 0.7281  \u001b[0m | \u001b[95m 0.0     \u001b[0m | \u001b[95m 1.0     \u001b[0m | \u001b[95m 0.0     \u001b[0m | \u001b[95m 0.0     \u001b[0m | \u001b[95m 0.299   \u001b[0m | \u001b[95m 0.0     \u001b[0m | \u001b[95m 0.0     \u001b[0m |\n"
     ]
    },
    {
     "name": "stderr",
     "output_type": "stream",
     "text": [
      "\u001b[34m\u001b[1mwandb\u001b[0m: Downloading large artifact lgbm_meta:v16, 557.89MB. 7 files... Done. 0:0:0\n",
      "\u001b[34m\u001b[1mwandb\u001b[0m: Downloading large artifact lgbm_meta:v18, 554.43MB. 7 files... Done. 0:0:0\n",
      "\u001b[34m\u001b[1mwandb\u001b[0m: Downloading large artifact lgbm_meta:v19, 552.47MB. 7 files... Done. 0:0:0\n",
      "\u001b[34m\u001b[1mwandb\u001b[0m: Downloading large artifact lgbm_meta:v28, 558.00MB. 7 files... Done. 0:0:0\n",
      "\u001b[34m\u001b[1mwandb\u001b[0m: Downloading large artifact xgb_meta:v8, 768.16MB. 7 files... Done. 0:0:0\n",
      "\u001b[34m\u001b[1mwandb\u001b[0m: Downloading large artifact xgb_meta:v10, 766.76MB. 7 files... Done. 0:0:0\n",
      "\u001b[34m\u001b[1mwandb\u001b[0m: Downloading large artifact xgb_meta:v18, 759.23MB. 7 files... Done. 0:0:0\n",
      "100%|██████████| 500000/500000 [00:05<00:00, 91249.27it/s]\n"
     ]
    },
    {
     "name": "stdout",
     "output_type": "stream",
     "text": [
      "| \u001b[0m 74      \u001b[0m | \u001b[0m 0.7281  \u001b[0m | \u001b[0m 0.0     \u001b[0m | \u001b[0m 1.0     \u001b[0m | \u001b[0m 0.0     \u001b[0m | \u001b[0m 0.0     \u001b[0m | \u001b[0m 0.7029  \u001b[0m | \u001b[0m 0.0     \u001b[0m | \u001b[0m 0.0     \u001b[0m |\n"
     ]
    },
    {
     "name": "stderr",
     "output_type": "stream",
     "text": [
      "\u001b[34m\u001b[1mwandb\u001b[0m: Downloading large artifact lgbm_meta:v16, 557.89MB. 7 files... Done. 0:0:0\n",
      "\u001b[34m\u001b[1mwandb\u001b[0m: Downloading large artifact lgbm_meta:v18, 554.43MB. 7 files... Done. 0:0:0\n",
      "\u001b[34m\u001b[1mwandb\u001b[0m: Downloading large artifact lgbm_meta:v19, 552.47MB. 7 files... Done. 0:0:0\n",
      "\u001b[34m\u001b[1mwandb\u001b[0m: Downloading large artifact lgbm_meta:v28, 558.00MB. 7 files... Done. 0:0:0\n",
      "\u001b[34m\u001b[1mwandb\u001b[0m: Downloading large artifact xgb_meta:v8, 768.16MB. 7 files... Done. 0:0:0\n",
      "\u001b[34m\u001b[1mwandb\u001b[0m: Downloading large artifact xgb_meta:v10, 766.76MB. 7 files... Done. 0:0:0\n",
      "\u001b[34m\u001b[1mwandb\u001b[0m: Downloading large artifact xgb_meta:v18, 759.23MB. 7 files... Done. 0:0:0\n",
      "100%|██████████| 500000/500000 [00:05<00:00, 89639.02it/s]\n"
     ]
    },
    {
     "name": "stdout",
     "output_type": "stream",
     "text": [
      "| \u001b[0m 75      \u001b[0m | \u001b[0m 0.728   \u001b[0m | \u001b[0m 0.0     \u001b[0m | \u001b[0m 1.0     \u001b[0m | \u001b[0m 0.4009  \u001b[0m | \u001b[0m 0.0     \u001b[0m | \u001b[0m 0.4862  \u001b[0m | \u001b[0m 0.0     \u001b[0m | \u001b[0m 0.0     \u001b[0m |\n"
     ]
    },
    {
     "name": "stderr",
     "output_type": "stream",
     "text": [
      "\u001b[34m\u001b[1mwandb\u001b[0m: Downloading large artifact lgbm_meta:v16, 557.89MB. 7 files... Done. 0:0:0\n",
      "\u001b[34m\u001b[1mwandb\u001b[0m: Downloading large artifact lgbm_meta:v18, 554.43MB. 7 files... Done. 0:0:0\n",
      "\u001b[34m\u001b[1mwandb\u001b[0m: Downloading large artifact lgbm_meta:v19, 552.47MB. 7 files... Done. 0:0:0\n",
      "\u001b[34m\u001b[1mwandb\u001b[0m: Downloading large artifact lgbm_meta:v28, 558.00MB. 7 files... Done. 0:0:0\n",
      "\u001b[34m\u001b[1mwandb\u001b[0m: Downloading large artifact xgb_meta:v8, 768.16MB. 7 files... Done. 0:0:0\n",
      "\u001b[34m\u001b[1mwandb\u001b[0m: Downloading large artifact xgb_meta:v10, 766.76MB. 7 files... Done. 0:0:0\n",
      "\u001b[34m\u001b[1mwandb\u001b[0m: Downloading large artifact xgb_meta:v18, 759.23MB. 7 files... Done. 0:0:0\n",
      "100%|██████████| 500000/500000 [00:05<00:00, 90533.26it/s]\n"
     ]
    },
    {
     "name": "stdout",
     "output_type": "stream",
     "text": [
      "| \u001b[0m 76      \u001b[0m | \u001b[0m 0.7279  \u001b[0m | \u001b[0m 0.0     \u001b[0m | \u001b[0m 1.0     \u001b[0m | \u001b[0m 0.0     \u001b[0m | \u001b[0m 0.0     \u001b[0m | \u001b[0m 0.0     \u001b[0m | \u001b[0m 0.0     \u001b[0m | \u001b[0m 0.0     \u001b[0m |\n"
     ]
    },
    {
     "name": "stderr",
     "output_type": "stream",
     "text": [
      "\u001b[34m\u001b[1mwandb\u001b[0m: Downloading large artifact lgbm_meta:v16, 557.89MB. 7 files... Done. 0:0:0\n",
      "\u001b[34m\u001b[1mwandb\u001b[0m: Downloading large artifact lgbm_meta:v18, 554.43MB. 7 files... Done. 0:0:0\n",
      "\u001b[34m\u001b[1mwandb\u001b[0m: Downloading large artifact lgbm_meta:v19, 552.47MB. 7 files... Done. 0:0:0\n",
      "\u001b[34m\u001b[1mwandb\u001b[0m: Downloading large artifact lgbm_meta:v28, 558.00MB. 7 files... Done. 0:0:0\n",
      "\u001b[34m\u001b[1mwandb\u001b[0m: Downloading large artifact xgb_meta:v8, 768.16MB. 7 files... Done. 0:0:0\n",
      "\u001b[34m\u001b[1mwandb\u001b[0m: Downloading large artifact xgb_meta:v10, 766.76MB. 7 files... Done. 0:0:0\n",
      "\u001b[34m\u001b[1mwandb\u001b[0m: Downloading large artifact xgb_meta:v18, 759.23MB. 7 files... Done. 0:0:0\n",
      "100%|██████████| 500000/500000 [00:05<00:00, 87964.28it/s]\n"
     ]
    },
    {
     "name": "stdout",
     "output_type": "stream",
     "text": [
      "| \u001b[0m 77      \u001b[0m | \u001b[0m 0.7281  \u001b[0m | \u001b[0m 0.2155  \u001b[0m | \u001b[0m 1.0     \u001b[0m | \u001b[0m 0.0     \u001b[0m | \u001b[0m 0.0     \u001b[0m | \u001b[0m 0.4662  \u001b[0m | \u001b[0m 0.0     \u001b[0m | \u001b[0m 0.0     \u001b[0m |\n"
     ]
    },
    {
     "name": "stderr",
     "output_type": "stream",
     "text": [
      "\u001b[34m\u001b[1mwandb\u001b[0m: Downloading large artifact lgbm_meta:v16, 557.89MB. 7 files... Done. 0:0:0\n",
      "\u001b[34m\u001b[1mwandb\u001b[0m: Downloading large artifact lgbm_meta:v18, 554.43MB. 7 files... Done. 0:0:0\n",
      "\u001b[34m\u001b[1mwandb\u001b[0m: Downloading large artifact lgbm_meta:v19, 552.47MB. 7 files... Done. 0:0:0\n",
      "\u001b[34m\u001b[1mwandb\u001b[0m: Downloading large artifact lgbm_meta:v28, 558.00MB. 7 files... Done. 0:0:0\n",
      "\u001b[34m\u001b[1mwandb\u001b[0m: Downloading large artifact xgb_meta:v8, 768.16MB. 7 files... Done. 0:0:0\n",
      "\u001b[34m\u001b[1mwandb\u001b[0m: Downloading large artifact xgb_meta:v10, 766.76MB. 7 files... Done. 0:0:0\n",
      "\u001b[34m\u001b[1mwandb\u001b[0m: Downloading large artifact xgb_meta:v18, 759.23MB. 7 files... Done. 0:0:0\n",
      "100%|██████████| 500000/500000 [00:05<00:00, 90087.57it/s]\n"
     ]
    },
    {
     "name": "stdout",
     "output_type": "stream",
     "text": [
      "| \u001b[0m 78      \u001b[0m | \u001b[0m 0.728   \u001b[0m | \u001b[0m 0.0     \u001b[0m | \u001b[0m 0.8727  \u001b[0m | \u001b[0m 0.0     \u001b[0m | \u001b[0m 0.0     \u001b[0m | \u001b[0m 0.4253  \u001b[0m | \u001b[0m 1.0     \u001b[0m | \u001b[0m 0.3162  \u001b[0m |\n"
     ]
    },
    {
     "name": "stderr",
     "output_type": "stream",
     "text": [
      "\u001b[34m\u001b[1mwandb\u001b[0m: Downloading large artifact lgbm_meta:v16, 557.89MB. 7 files... Done. 0:0:0\n",
      "\u001b[34m\u001b[1mwandb\u001b[0m: Downloading large artifact lgbm_meta:v18, 554.43MB. 7 files... Done. 0:0:0\n",
      "\u001b[34m\u001b[1mwandb\u001b[0m: Downloading large artifact lgbm_meta:v19, 552.47MB. 7 files... Done. 0:0:0\n",
      "\u001b[34m\u001b[1mwandb\u001b[0m: Downloading large artifact lgbm_meta:v28, 558.00MB. 7 files... Done. 0:0:0\n",
      "\u001b[34m\u001b[1mwandb\u001b[0m: Downloading large artifact xgb_meta:v8, 768.16MB. 7 files... Done. 0:0:0\n",
      "\u001b[34m\u001b[1mwandb\u001b[0m: Downloading large artifact xgb_meta:v10, 766.76MB. 7 files... Done. 0:0:0\n",
      "\u001b[34m\u001b[1mwandb\u001b[0m: Downloading large artifact xgb_meta:v18, 759.23MB. 7 files... Done. 0:0:0\n",
      "100%|██████████| 500000/500000 [00:05<00:00, 91057.48it/s]\n"
     ]
    },
    {
     "name": "stdout",
     "output_type": "stream",
     "text": [
      "| \u001b[0m 79      \u001b[0m | \u001b[0m 0.7281  \u001b[0m | \u001b[0m 0.0     \u001b[0m | \u001b[0m 0.7446  \u001b[0m | \u001b[0m 0.0     \u001b[0m | \u001b[0m 0.0     \u001b[0m | \u001b[0m 0.4744  \u001b[0m | \u001b[0m 0.0     \u001b[0m | \u001b[0m 0.0     \u001b[0m |\n"
     ]
    },
    {
     "name": "stderr",
     "output_type": "stream",
     "text": [
      "\u001b[34m\u001b[1mwandb\u001b[0m: Downloading large artifact lgbm_meta:v16, 557.89MB. 7 files... Done. 0:0:0\n",
      "\u001b[34m\u001b[1mwandb\u001b[0m: Downloading large artifact lgbm_meta:v18, 554.43MB. 7 files... Done. 0:0:0\n",
      "\u001b[34m\u001b[1mwandb\u001b[0m: Downloading large artifact lgbm_meta:v19, 552.47MB. 7 files... Done. 0:0:0\n",
      "\u001b[34m\u001b[1mwandb\u001b[0m: Downloading large artifact lgbm_meta:v28, 558.00MB. 7 files... Done. 0:0:0\n",
      "\u001b[34m\u001b[1mwandb\u001b[0m: Downloading large artifact xgb_meta:v8, 768.16MB. 7 files... Done. 0:0:0\n",
      "\u001b[34m\u001b[1mwandb\u001b[0m: Downloading large artifact xgb_meta:v10, 766.76MB. 7 files... Done. 0:0:0\n",
      "\u001b[34m\u001b[1mwandb\u001b[0m: Downloading large artifact xgb_meta:v18, 759.23MB. 7 files... Done. 0:0:0\n",
      "100%|██████████| 500000/500000 [00:05<00:00, 89808.82it/s]\n"
     ]
    },
    {
     "name": "stdout",
     "output_type": "stream",
     "text": [
      "| \u001b[0m 80      \u001b[0m | \u001b[0m 0.728   \u001b[0m | \u001b[0m 0.0     \u001b[0m | \u001b[0m 1.0     \u001b[0m | \u001b[0m 0.0     \u001b[0m | \u001b[0m 0.0     \u001b[0m | \u001b[0m 0.4733  \u001b[0m | \u001b[0m 0.0     \u001b[0m | \u001b[0m 0.2235  \u001b[0m |\n"
     ]
    },
    {
     "name": "stderr",
     "output_type": "stream",
     "text": [
      "\u001b[34m\u001b[1mwandb\u001b[0m: Downloading large artifact lgbm_meta:v16, 557.89MB. 7 files... Done. 0:0:0\n",
      "\u001b[34m\u001b[1mwandb\u001b[0m: Downloading large artifact lgbm_meta:v18, 554.43MB. 7 files... Done. 0:0:0\n",
      "\u001b[34m\u001b[1mwandb\u001b[0m: Downloading large artifact lgbm_meta:v19, 552.47MB. 7 files... Done. 0:0:0\n",
      "\u001b[34m\u001b[1mwandb\u001b[0m: Downloading large artifact lgbm_meta:v28, 558.00MB. 7 files... Done. 0:0:0\n",
      "\u001b[34m\u001b[1mwandb\u001b[0m: Downloading large artifact xgb_meta:v8, 768.16MB. 7 files... Done. 0:0:0\n",
      "\u001b[34m\u001b[1mwandb\u001b[0m: Downloading large artifact xgb_meta:v10, 766.76MB. 7 files... Done. 0:0:0\n",
      "\u001b[34m\u001b[1mwandb\u001b[0m: Downloading large artifact xgb_meta:v18, 759.23MB. 7 files... Done. 0:0:0\n",
      "100%|██████████| 500000/500000 [00:05<00:00, 89144.01it/s]\n"
     ]
    },
    {
     "name": "stdout",
     "output_type": "stream",
     "text": [
      "| \u001b[0m 81      \u001b[0m | \u001b[0m 0.7281  \u001b[0m | \u001b[0m 0.0     \u001b[0m | \u001b[0m 1.0     \u001b[0m | \u001b[0m 0.0     \u001b[0m | \u001b[0m 0.0     \u001b[0m | \u001b[0m 0.4643  \u001b[0m | \u001b[0m 0.1328  \u001b[0m | \u001b[0m 0.0     \u001b[0m |\n"
     ]
    },
    {
     "name": "stderr",
     "output_type": "stream",
     "text": [
      "\u001b[34m\u001b[1mwandb\u001b[0m: Downloading large artifact lgbm_meta:v16, 557.89MB. 7 files... Done. 0:0:0\n",
      "\u001b[34m\u001b[1mwandb\u001b[0m: Downloading large artifact lgbm_meta:v18, 554.43MB. 7 files... Done. 0:0:0\n",
      "\u001b[34m\u001b[1mwandb\u001b[0m: Downloading large artifact lgbm_meta:v19, 552.47MB. 7 files... Done. 0:0:0\n",
      "\u001b[34m\u001b[1mwandb\u001b[0m: Downloading large artifact lgbm_meta:v28, 558.00MB. 7 files... Done. 0:0:0\n",
      "\u001b[34m\u001b[1mwandb\u001b[0m: Downloading large artifact xgb_meta:v8, 768.16MB. 7 files... Done. 0:0:0\n",
      "\u001b[34m\u001b[1mwandb\u001b[0m: Downloading large artifact xgb_meta:v10, 766.76MB. 7 files... Done. 0:0:0\n",
      "\u001b[34m\u001b[1mwandb\u001b[0m: Downloading large artifact xgb_meta:v18, 759.23MB. 7 files... Done. 0:0:0\n",
      "100%|██████████| 500000/500000 [00:05<00:00, 89707.27it/s]\n"
     ]
    },
    {
     "name": "stdout",
     "output_type": "stream",
     "text": [
      "| \u001b[0m 82      \u001b[0m | \u001b[0m 0.7279  \u001b[0m | \u001b[0m 1.0     \u001b[0m | \u001b[0m 1.0     \u001b[0m | \u001b[0m 0.0     \u001b[0m | \u001b[0m 0.0     \u001b[0m | \u001b[0m 1.0     \u001b[0m | \u001b[0m 1.0     \u001b[0m | \u001b[0m 1.0     \u001b[0m |\n"
     ]
    },
    {
     "name": "stderr",
     "output_type": "stream",
     "text": [
      "\u001b[34m\u001b[1mwandb\u001b[0m: Downloading large artifact lgbm_meta:v16, 557.89MB. 7 files... Done. 0:0:0\n",
      "\u001b[34m\u001b[1mwandb\u001b[0m: Downloading large artifact lgbm_meta:v18, 554.43MB. 7 files... Done. 0:0:0\n",
      "\u001b[34m\u001b[1mwandb\u001b[0m: Downloading large artifact lgbm_meta:v19, 552.47MB. 7 files... Done. 0:0:0\n",
      "\u001b[34m\u001b[1mwandb\u001b[0m: Downloading large artifact lgbm_meta:v28, 558.00MB. 7 files... Done. 0:0:0\n",
      "\u001b[34m\u001b[1mwandb\u001b[0m: Downloading large artifact xgb_meta:v8, 768.16MB. 7 files... Done. 0:0:0\n",
      "\u001b[34m\u001b[1mwandb\u001b[0m: Downloading large artifact xgb_meta:v10, 766.76MB. 7 files... Done. 0:0:0\n",
      "\u001b[34m\u001b[1mwandb\u001b[0m: Downloading large artifact xgb_meta:v18, 759.23MB. 7 files... Done. 0:0:0\n",
      "100%|██████████| 500000/500000 [00:05<00:00, 90022.20it/s]\n"
     ]
    },
    {
     "name": "stdout",
     "output_type": "stream",
     "text": [
      "| \u001b[0m 83      \u001b[0m | \u001b[0m 0.7279  \u001b[0m | \u001b[0m 1.0     \u001b[0m | \u001b[0m 1.0     \u001b[0m | \u001b[0m 1.0     \u001b[0m | \u001b[0m 0.0     \u001b[0m | \u001b[0m 1.0     \u001b[0m | \u001b[0m 0.0     \u001b[0m | \u001b[0m 0.0     \u001b[0m |\n"
     ]
    },
    {
     "name": "stderr",
     "output_type": "stream",
     "text": [
      "\u001b[34m\u001b[1mwandb\u001b[0m: Downloading large artifact lgbm_meta:v16, 557.89MB. 7 files... Done. 0:0:0\n",
      "\u001b[34m\u001b[1mwandb\u001b[0m: Downloading large artifact lgbm_meta:v18, 554.43MB. 7 files... Done. 0:0:0\n",
      "\u001b[34m\u001b[1mwandb\u001b[0m: Downloading large artifact lgbm_meta:v19, 552.47MB. 7 files... Done. 0:0:0\n",
      "\u001b[34m\u001b[1mwandb\u001b[0m: Downloading large artifact lgbm_meta:v28, 558.00MB. 7 files... Done. 0:0:0\n",
      "\u001b[34m\u001b[1mwandb\u001b[0m: Downloading large artifact xgb_meta:v8, 768.16MB. 7 files... Done. 0:0:0\n",
      "\u001b[34m\u001b[1mwandb\u001b[0m: Downloading large artifact xgb_meta:v10, 766.76MB. 7 files... Done. 0:0:0\n",
      "\u001b[34m\u001b[1mwandb\u001b[0m: Downloading large artifact xgb_meta:v18, 759.23MB. 7 files... Done. 0:0:0\n",
      "100%|██████████| 500000/500000 [00:05<00:00, 90900.82it/s]\n"
     ]
    },
    {
     "name": "stdout",
     "output_type": "stream",
     "text": [
      "| \u001b[0m 84      \u001b[0m | \u001b[0m 0.728   \u001b[0m | \u001b[0m 0.5891  \u001b[0m | \u001b[0m 0.5584  \u001b[0m | \u001b[0m 0.0     \u001b[0m | \u001b[0m 0.0     \u001b[0m | \u001b[0m 0.4875  \u001b[0m | \u001b[0m 1.0     \u001b[0m | \u001b[0m 0.0     \u001b[0m |\n"
     ]
    },
    {
     "name": "stderr",
     "output_type": "stream",
     "text": [
      "\u001b[34m\u001b[1mwandb\u001b[0m: Downloading large artifact lgbm_meta:v16, 557.89MB. 7 files... Done. 0:0:0\n",
      "\u001b[34m\u001b[1mwandb\u001b[0m: Downloading large artifact lgbm_meta:v18, 554.43MB. 7 files... Done. 0:0:0\n",
      "\u001b[34m\u001b[1mwandb\u001b[0m: Downloading large artifact lgbm_meta:v19, 552.47MB. 7 files... Done. 0:0:0\n",
      "\u001b[34m\u001b[1mwandb\u001b[0m: Downloading large artifact lgbm_meta:v28, 558.00MB. 7 files... Done. 0:0:0\n",
      "\u001b[34m\u001b[1mwandb\u001b[0m: Downloading large artifact xgb_meta:v8, 768.16MB. 7 files... Done. 0:0:0\n",
      "\u001b[34m\u001b[1mwandb\u001b[0m: Downloading large artifact xgb_meta:v10, 766.76MB. 7 files... Done. 0:0:0\n",
      "\u001b[34m\u001b[1mwandb\u001b[0m: Downloading large artifact xgb_meta:v18, 759.23MB. 7 files... Done. 0:0:0\n",
      "100%|██████████| 500000/500000 [00:05<00:00, 88651.78it/s]\n"
     ]
    },
    {
     "name": "stdout",
     "output_type": "stream",
     "text": [
      "| \u001b[0m 85      \u001b[0m | \u001b[0m 0.728   \u001b[0m | \u001b[0m 1.0     \u001b[0m | \u001b[0m 1.0     \u001b[0m | \u001b[0m 1.0     \u001b[0m | \u001b[0m 0.0     \u001b[0m | \u001b[0m 0.0     \u001b[0m | \u001b[0m 1.0     \u001b[0m | \u001b[0m 0.0     \u001b[0m |\n"
     ]
    },
    {
     "name": "stderr",
     "output_type": "stream",
     "text": [
      "\u001b[34m\u001b[1mwandb\u001b[0m: Downloading large artifact lgbm_meta:v16, 557.89MB. 7 files... Done. 0:0:0\n",
      "\u001b[34m\u001b[1mwandb\u001b[0m: Downloading large artifact lgbm_meta:v18, 554.43MB. 7 files... Done. 0:0:0\n",
      "\u001b[34m\u001b[1mwandb\u001b[0m: Downloading large artifact lgbm_meta:v19, 552.47MB. 7 files... Done. 0:0:0\n",
      "\u001b[34m\u001b[1mwandb\u001b[0m: Downloading large artifact lgbm_meta:v28, 558.00MB. 7 files... Done. 0:0:0\n",
      "\u001b[34m\u001b[1mwandb\u001b[0m: Downloading large artifact xgb_meta:v8, 768.16MB. 7 files... Done. 0:0:0\n",
      "\u001b[34m\u001b[1mwandb\u001b[0m: Downloading large artifact xgb_meta:v10, 766.76MB. 7 files... Done. 0:0:0\n",
      "\u001b[34m\u001b[1mwandb\u001b[0m: Downloading large artifact xgb_meta:v18, 759.23MB. 7 files... Done. 0:0:0\n",
      "100%|██████████| 500000/500000 [00:05<00:00, 89936.77it/s]\n"
     ]
    },
    {
     "name": "stdout",
     "output_type": "stream",
     "text": [
      "| \u001b[0m 86      \u001b[0m | \u001b[0m 0.7279  \u001b[0m | \u001b[0m 0.0     \u001b[0m | \u001b[0m 1.0     \u001b[0m | \u001b[0m 1.0     \u001b[0m | \u001b[0m 0.0     \u001b[0m | \u001b[0m 1.0     \u001b[0m | \u001b[0m 0.6109  \u001b[0m | \u001b[0m 1.0     \u001b[0m |\n"
     ]
    },
    {
     "name": "stderr",
     "output_type": "stream",
     "text": [
      "\u001b[34m\u001b[1mwandb\u001b[0m: Downloading large artifact lgbm_meta:v16, 557.89MB. 7 files... Done. 0:0:0\n",
      "\u001b[34m\u001b[1mwandb\u001b[0m: Downloading large artifact lgbm_meta:v18, 554.43MB. 7 files... Done. 0:0:0\n",
      "\u001b[34m\u001b[1mwandb\u001b[0m: Downloading large artifact lgbm_meta:v19, 552.47MB. 7 files... Done. 0:0:0\n",
      "\u001b[34m\u001b[1mwandb\u001b[0m: Downloading large artifact lgbm_meta:v28, 558.00MB. 7 files... Done. 0:0:0\n",
      "\u001b[34m\u001b[1mwandb\u001b[0m: Downloading large artifact xgb_meta:v8, 768.16MB. 7 files... Done. 0:0:0\n",
      "\u001b[34m\u001b[1mwandb\u001b[0m: Downloading large artifact xgb_meta:v10, 766.76MB. 7 files... Done. 0:0:0\n",
      "\u001b[34m\u001b[1mwandb\u001b[0m: Downloading large artifact xgb_meta:v18, 759.23MB. 7 files... Done. 0:0:0\n",
      "100%|██████████| 500000/500000 [00:05<00:00, 88442.20it/s]\n"
     ]
    },
    {
     "name": "stdout",
     "output_type": "stream",
     "text": [
      "| \u001b[0m 87      \u001b[0m | \u001b[0m 0.7281  \u001b[0m | \u001b[0m 0.0     \u001b[0m | \u001b[0m 1.0     \u001b[0m | \u001b[0m 0.0     \u001b[0m | \u001b[0m 0.0     \u001b[0m | \u001b[0m 0.473   \u001b[0m | \u001b[0m 0.0     \u001b[0m | \u001b[0m 0.0     \u001b[0m |\n"
     ]
    },
    {
     "name": "stderr",
     "output_type": "stream",
     "text": [
      "\u001b[34m\u001b[1mwandb\u001b[0m: Downloading large artifact lgbm_meta:v16, 557.89MB. 7 files... Done. 0:0:0\n",
      "\u001b[34m\u001b[1mwandb\u001b[0m: Downloading large artifact lgbm_meta:v18, 554.43MB. 7 files... Done. 0:0:0\n",
      "\u001b[34m\u001b[1mwandb\u001b[0m: Downloading large artifact lgbm_meta:v19, 552.47MB. 7 files... Done. 0:0:0\n",
      "\u001b[34m\u001b[1mwandb\u001b[0m: Downloading large artifact lgbm_meta:v28, 558.00MB. 7 files... Done. 0:0:0\n",
      "\u001b[34m\u001b[1mwandb\u001b[0m: Downloading large artifact xgb_meta:v8, 768.16MB. 7 files... Done. 0:0:0\n",
      "\u001b[34m\u001b[1mwandb\u001b[0m: Downloading large artifact xgb_meta:v10, 766.76MB. 7 files... Done. 0:0:0\n",
      "\u001b[34m\u001b[1mwandb\u001b[0m: Downloading large artifact xgb_meta:v18, 759.23MB. 7 files... Done. 0:0:0\n",
      "100%|██████████| 500000/500000 [00:05<00:00, 89922.55it/s]\n"
     ]
    },
    {
     "name": "stdout",
     "output_type": "stream",
     "text": [
      "| \u001b[0m 88      \u001b[0m | \u001b[0m 0.728   \u001b[0m | \u001b[0m 0.0     \u001b[0m | \u001b[0m 0.8236  \u001b[0m | \u001b[0m 0.1567  \u001b[0m | \u001b[0m 0.0     \u001b[0m | \u001b[0m 1.0     \u001b[0m | \u001b[0m 0.0     \u001b[0m | \u001b[0m 0.0     \u001b[0m |\n"
     ]
    },
    {
     "name": "stderr",
     "output_type": "stream",
     "text": [
      "\u001b[34m\u001b[1mwandb\u001b[0m: Downloading large artifact lgbm_meta:v16, 557.89MB. 7 files... Done. 0:0:0\n",
      "\u001b[34m\u001b[1mwandb\u001b[0m: Downloading large artifact lgbm_meta:v18, 554.43MB. 7 files... Done. 0:0:0\n",
      "\u001b[34m\u001b[1mwandb\u001b[0m: Downloading large artifact lgbm_meta:v19, 552.47MB. 7 files... Done. 0:0:0\n",
      "\u001b[34m\u001b[1mwandb\u001b[0m: Downloading large artifact lgbm_meta:v28, 558.00MB. 7 files... Done. 0:0:0\n",
      "\u001b[34m\u001b[1mwandb\u001b[0m: Downloading large artifact xgb_meta:v8, 768.16MB. 7 files... Done. 0:0:0\n",
      "\u001b[34m\u001b[1mwandb\u001b[0m: Downloading large artifact xgb_meta:v10, 766.76MB. 7 files... Done. 0:0:0\n",
      "\u001b[34m\u001b[1mwandb\u001b[0m: Downloading large artifact xgb_meta:v18, 759.23MB. 7 files... Done. 0:0:0\n",
      "100%|██████████| 500000/500000 [00:05<00:00, 90466.29it/s]\n"
     ]
    },
    {
     "name": "stdout",
     "output_type": "stream",
     "text": [
      "| \u001b[0m 89      \u001b[0m | \u001b[0m 0.728   \u001b[0m | \u001b[0m 0.0     \u001b[0m | \u001b[0m 1.0     \u001b[0m | \u001b[0m 1.0     \u001b[0m | \u001b[0m 0.0     \u001b[0m | \u001b[0m 1.0     \u001b[0m | \u001b[0m 0.0     \u001b[0m | \u001b[0m 0.3267  \u001b[0m |\n"
     ]
    },
    {
     "name": "stderr",
     "output_type": "stream",
     "text": [
      "\u001b[34m\u001b[1mwandb\u001b[0m: Downloading large artifact lgbm_meta:v16, 557.89MB. 7 files... Done. 0:0:0\n",
      "\u001b[34m\u001b[1mwandb\u001b[0m: Downloading large artifact lgbm_meta:v18, 554.43MB. 7 files... Done. 0:0:0\n",
      "\u001b[34m\u001b[1mwandb\u001b[0m: Downloading large artifact lgbm_meta:v19, 552.47MB. 7 files... Done. 0:0:0\n",
      "\u001b[34m\u001b[1mwandb\u001b[0m: Downloading large artifact lgbm_meta:v28, 558.00MB. 7 files... Done. 0:0:0\n",
      "\u001b[34m\u001b[1mwandb\u001b[0m: Downloading large artifact xgb_meta:v8, 768.16MB. 7 files... Done. 0:0:0\n",
      "\u001b[34m\u001b[1mwandb\u001b[0m: Downloading large artifact xgb_meta:v10, 766.76MB. 7 files... Done. 0:0:0\n",
      "\u001b[34m\u001b[1mwandb\u001b[0m: Downloading large artifact xgb_meta:v18, 759.23MB. 7 files... Done. 0:0:0\n",
      "100%|██████████| 500000/500000 [00:05<00:00, 88521.64it/s]\n"
     ]
    },
    {
     "name": "stdout",
     "output_type": "stream",
     "text": [
      "| \u001b[0m 90      \u001b[0m | \u001b[0m 0.728   \u001b[0m | \u001b[0m 0.372   \u001b[0m | \u001b[0m 1.0     \u001b[0m | \u001b[0m 0.0     \u001b[0m | \u001b[0m 0.0     \u001b[0m | \u001b[0m 1.0     \u001b[0m | \u001b[0m 0.0     \u001b[0m | \u001b[0m 0.0     \u001b[0m |\n"
     ]
    },
    {
     "name": "stderr",
     "output_type": "stream",
     "text": [
      "\u001b[34m\u001b[1mwandb\u001b[0m: Downloading large artifact lgbm_meta:v16, 557.89MB. 7 files... Done. 0:0:0\n",
      "\u001b[34m\u001b[1mwandb\u001b[0m: Downloading large artifact lgbm_meta:v18, 554.43MB. 7 files... Done. 0:0:0\n",
      "\u001b[34m\u001b[1mwandb\u001b[0m: Downloading large artifact lgbm_meta:v19, 552.47MB. 7 files... Done. 0:0:0\n",
      "\u001b[34m\u001b[1mwandb\u001b[0m: Downloading large artifact lgbm_meta:v28, 558.00MB. 7 files... Done. 0:0:0\n",
      "\u001b[34m\u001b[1mwandb\u001b[0m: Downloading large artifact xgb_meta:v8, 768.16MB. 7 files... Done. 0:0:0\n",
      "\u001b[34m\u001b[1mwandb\u001b[0m: Downloading large artifact xgb_meta:v10, 766.76MB. 7 files... Done. 0:0:0\n",
      "\u001b[34m\u001b[1mwandb\u001b[0m: Downloading large artifact xgb_meta:v18, 759.23MB. 7 files... Done. 0:0:0\n",
      "100%|██████████| 500000/500000 [00:05<00:00, 88178.12it/s]\n"
     ]
    },
    {
     "name": "stdout",
     "output_type": "stream",
     "text": [
      "| \u001b[0m 91      \u001b[0m | \u001b[0m 0.7281  \u001b[0m | \u001b[0m 0.0     \u001b[0m | \u001b[0m 0.6828  \u001b[0m | \u001b[0m 0.0     \u001b[0m | \u001b[0m 0.0     \u001b[0m | \u001b[0m 0.3547  \u001b[0m | \u001b[0m 0.3471  \u001b[0m | \u001b[0m 0.0     \u001b[0m |\n"
     ]
    },
    {
     "name": "stderr",
     "output_type": "stream",
     "text": [
      "\u001b[34m\u001b[1mwandb\u001b[0m: Downloading large artifact lgbm_meta:v16, 557.89MB. 7 files... Done. 0:0:0\n",
      "\u001b[34m\u001b[1mwandb\u001b[0m: Downloading large artifact lgbm_meta:v18, 554.43MB. 7 files... Done. 0:0:0\n",
      "\u001b[34m\u001b[1mwandb\u001b[0m: Downloading large artifact lgbm_meta:v19, 552.47MB. 7 files... Done. 0:0:0\n",
      "\u001b[34m\u001b[1mwandb\u001b[0m: Downloading large artifact lgbm_meta:v28, 558.00MB. 7 files... Done. 0:0:0\n",
      "\u001b[34m\u001b[1mwandb\u001b[0m: Downloading large artifact xgb_meta:v8, 768.16MB. 7 files... Done. 0:0:0\n",
      "\u001b[34m\u001b[1mwandb\u001b[0m: Downloading large artifact xgb_meta:v10, 766.76MB. 7 files... Done. 0:0:0\n",
      "\u001b[34m\u001b[1mwandb\u001b[0m: Downloading large artifact xgb_meta:v18, 759.23MB. 7 files... Done. 0:0:0\n",
      "100%|██████████| 500000/500000 [00:05<00:00, 90836.14it/s]\n"
     ]
    },
    {
     "name": "stdout",
     "output_type": "stream",
     "text": [
      "| \u001b[0m 92      \u001b[0m | \u001b[0m 0.7279  \u001b[0m | \u001b[0m 1.0     \u001b[0m | \u001b[0m 1.0     \u001b[0m | \u001b[0m 1.0     \u001b[0m | \u001b[0m 0.6535  \u001b[0m | \u001b[0m 1.0     \u001b[0m | \u001b[0m 1.0     \u001b[0m | \u001b[0m 0.0     \u001b[0m |\n"
     ]
    },
    {
     "name": "stderr",
     "output_type": "stream",
     "text": [
      "\u001b[34m\u001b[1mwandb\u001b[0m: Downloading large artifact lgbm_meta:v16, 557.89MB. 7 files... Done. 0:0:0\n",
      "\u001b[34m\u001b[1mwandb\u001b[0m: Downloading large artifact lgbm_meta:v18, 554.43MB. 7 files... Done. 0:0:0\n",
      "\u001b[34m\u001b[1mwandb\u001b[0m: Downloading large artifact lgbm_meta:v19, 552.47MB. 7 files... Done. 0:0:0\n",
      "\u001b[34m\u001b[1mwandb\u001b[0m: Downloading large artifact lgbm_meta:v28, 558.00MB. 7 files... Done. 0:0:0\n",
      "\u001b[34m\u001b[1mwandb\u001b[0m: Downloading large artifact xgb_meta:v8, 768.16MB. 7 files... Done. 0:0:0\n",
      "\u001b[34m\u001b[1mwandb\u001b[0m: Downloading large artifact xgb_meta:v10, 766.76MB. 7 files... Done. 0:0:0\n",
      "\u001b[34m\u001b[1mwandb\u001b[0m: Downloading large artifact xgb_meta:v18, 759.23MB. 7 files... Done. 0:0:0\n",
      "100%|██████████| 500000/500000 [00:05<00:00, 88777.96it/s]\n"
     ]
    },
    {
     "name": "stdout",
     "output_type": "stream",
     "text": [
      "| \u001b[0m 93      \u001b[0m | \u001b[0m 0.7279  \u001b[0m | \u001b[0m 1.0     \u001b[0m | \u001b[0m 0.0     \u001b[0m | \u001b[0m 1.0     \u001b[0m | \u001b[0m 0.0     \u001b[0m | \u001b[0m 0.0     \u001b[0m | \u001b[0m 1.0     \u001b[0m | \u001b[0m 1.0     \u001b[0m |\n"
     ]
    },
    {
     "name": "stderr",
     "output_type": "stream",
     "text": [
      "\u001b[34m\u001b[1mwandb\u001b[0m: Downloading large artifact lgbm_meta:v16, 557.89MB. 7 files... Done. 0:0:0\n",
      "\u001b[34m\u001b[1mwandb\u001b[0m: Downloading large artifact lgbm_meta:v18, 554.43MB. 7 files... Done. 0:0:0\n",
      "\u001b[34m\u001b[1mwandb\u001b[0m: Downloading large artifact lgbm_meta:v19, 552.47MB. 7 files... Done. 0:0:0\n",
      "\u001b[34m\u001b[1mwandb\u001b[0m: Downloading large artifact lgbm_meta:v28, 558.00MB. 7 files... Done. 0:0:0\n",
      "\u001b[34m\u001b[1mwandb\u001b[0m: Downloading large artifact xgb_meta:v8, 768.16MB. 7 files... Done. 0:0:0\n",
      "\u001b[34m\u001b[1mwandb\u001b[0m: Downloading large artifact xgb_meta:v10, 766.76MB. 7 files... Done. 0:0:0\n",
      "\u001b[34m\u001b[1mwandb\u001b[0m: Downloading large artifact xgb_meta:v18, 759.23MB. 7 files... Done. 0:0:0\n",
      "100%|██████████| 500000/500000 [00:05<00:00, 90281.17it/s]\n"
     ]
    },
    {
     "name": "stdout",
     "output_type": "stream",
     "text": [
      "| \u001b[95m 94      \u001b[0m | \u001b[95m 0.7281  \u001b[0m | \u001b[95m 0.1444  \u001b[0m | \u001b[95m 0.8566  \u001b[0m | \u001b[95m 0.0     \u001b[0m | \u001b[95m 0.0     \u001b[0m | \u001b[95m 0.3079  \u001b[0m | \u001b[95m 0.1909  \u001b[0m | \u001b[95m 0.0     \u001b[0m |\n"
     ]
    },
    {
     "name": "stderr",
     "output_type": "stream",
     "text": [
      "\u001b[34m\u001b[1mwandb\u001b[0m: Downloading large artifact lgbm_meta:v16, 557.89MB. 7 files... Done. 0:0:0\n",
      "\u001b[34m\u001b[1mwandb\u001b[0m: Downloading large artifact lgbm_meta:v18, 554.43MB. 7 files... Done. 0:0:0\n",
      "\u001b[34m\u001b[1mwandb\u001b[0m: Downloading large artifact lgbm_meta:v19, 552.47MB. 7 files... Done. 0:0:0\n",
      "\u001b[34m\u001b[1mwandb\u001b[0m: Downloading large artifact lgbm_meta:v28, 558.00MB. 7 files... Done. 0:0:0\n",
      "\u001b[34m\u001b[1mwandb\u001b[0m: Downloading large artifact xgb_meta:v8, 768.16MB. 7 files... Done. 0:0:0\n",
      "\u001b[34m\u001b[1mwandb\u001b[0m: Downloading large artifact xgb_meta:v10, 766.76MB. 7 files... Done. 0:0:0\n",
      "\u001b[34m\u001b[1mwandb\u001b[0m: Downloading large artifact xgb_meta:v18, 759.23MB. 7 files... Done. 0:0:0\n",
      "100%|██████████| 500000/500000 [00:05<00:00, 89657.71it/s]\n"
     ]
    },
    {
     "name": "stdout",
     "output_type": "stream",
     "text": [
      "| \u001b[0m 95      \u001b[0m | \u001b[0m 0.728   \u001b[0m | \u001b[0m 0.03322 \u001b[0m | \u001b[0m 0.8302  \u001b[0m | \u001b[0m 0.1729  \u001b[0m | \u001b[0m 0.0     \u001b[0m | \u001b[0m 0.3352  \u001b[0m | \u001b[0m 0.16    \u001b[0m | \u001b[0m 0.0     \u001b[0m |\n"
     ]
    },
    {
     "name": "stderr",
     "output_type": "stream",
     "text": [
      "\u001b[34m\u001b[1mwandb\u001b[0m: Downloading large artifact lgbm_meta:v16, 557.89MB. 7 files... Done. 0:0:0\n",
      "\u001b[34m\u001b[1mwandb\u001b[0m: Downloading large artifact lgbm_meta:v18, 554.43MB. 7 files... Done. 0:0:0\n",
      "\u001b[34m\u001b[1mwandb\u001b[0m: Downloading large artifact lgbm_meta:v19, 552.47MB. 7 files... Done. 0:0:0\n",
      "\u001b[34m\u001b[1mwandb\u001b[0m: Downloading large artifact lgbm_meta:v28, 558.00MB. 7 files... Done. 0:0:0\n",
      "\u001b[34m\u001b[1mwandb\u001b[0m: Downloading large artifact xgb_meta:v8, 768.16MB. 7 files... Done. 0:0:0\n",
      "\u001b[34m\u001b[1mwandb\u001b[0m: Downloading large artifact xgb_meta:v10, 766.76MB. 7 files... Done. 0:0:0\n",
      "\u001b[34m\u001b[1mwandb\u001b[0m: Downloading large artifact xgb_meta:v18, 759.23MB. 7 files... Done. 0:0:0\n",
      "100%|██████████| 500000/500000 [00:05<00:00, 89358.07it/s]\n"
     ]
    },
    {
     "name": "stdout",
     "output_type": "stream",
     "text": [
      "| \u001b[0m 96      \u001b[0m | \u001b[0m 0.728   \u001b[0m | \u001b[0m 0.0     \u001b[0m | \u001b[0m 0.9897  \u001b[0m | \u001b[0m 0.0     \u001b[0m | \u001b[0m 0.2745  \u001b[0m | \u001b[0m 0.3648  \u001b[0m | \u001b[0m 0.144   \u001b[0m | \u001b[0m 0.0     \u001b[0m |\n"
     ]
    },
    {
     "name": "stderr",
     "output_type": "stream",
     "text": [
      "\u001b[34m\u001b[1mwandb\u001b[0m: Downloading large artifact lgbm_meta:v16, 557.89MB. 7 files... Done. 0:0:0\n",
      "\u001b[34m\u001b[1mwandb\u001b[0m: Downloading large artifact lgbm_meta:v18, 554.43MB. 7 files... Done. 0:0:0\n",
      "\u001b[34m\u001b[1mwandb\u001b[0m: Downloading large artifact lgbm_meta:v19, 552.47MB. 7 files... Done. 0:0:0\n",
      "\u001b[34m\u001b[1mwandb\u001b[0m: Downloading large artifact lgbm_meta:v28, 558.00MB. 7 files... Done. 0:0:0\n",
      "\u001b[34m\u001b[1mwandb\u001b[0m: Downloading large artifact xgb_meta:v8, 768.16MB. 7 files... Done. 0:0:0\n",
      "\u001b[34m\u001b[1mwandb\u001b[0m: Downloading large artifact xgb_meta:v10, 766.76MB. 7 files... Done. 0:0:0\n",
      "\u001b[34m\u001b[1mwandb\u001b[0m: Downloading large artifact xgb_meta:v18, 759.23MB. 7 files... Done. 0:0:0\n",
      "100%|██████████| 500000/500000 [00:05<00:00, 89874.71it/s]\n"
     ]
    },
    {
     "name": "stdout",
     "output_type": "stream",
     "text": [
      "| \u001b[0m 97      \u001b[0m | \u001b[0m 0.7279  \u001b[0m | \u001b[0m 0.0     \u001b[0m | \u001b[0m 1.0     \u001b[0m | \u001b[0m 1.0     \u001b[0m | \u001b[0m 0.0     \u001b[0m | \u001b[0m 0.3467  \u001b[0m | \u001b[0m 0.0     \u001b[0m | \u001b[0m 0.0     \u001b[0m |\n"
     ]
    },
    {
     "name": "stderr",
     "output_type": "stream",
     "text": [
      "\u001b[34m\u001b[1mwandb\u001b[0m: Downloading large artifact lgbm_meta:v16, 557.89MB. 7 files... Done. 0:0:0\n",
      "\u001b[34m\u001b[1mwandb\u001b[0m: Downloading large artifact lgbm_meta:v18, 554.43MB. 7 files... Done. 0:0:0\n",
      "\u001b[34m\u001b[1mwandb\u001b[0m: Downloading large artifact lgbm_meta:v19, 552.47MB. 7 files... Done. 0:0:0\n",
      "\u001b[34m\u001b[1mwandb\u001b[0m: Downloading large artifact lgbm_meta:v28, 558.00MB. 7 files... Done. 0:0:0\n",
      "\u001b[34m\u001b[1mwandb\u001b[0m: Downloading large artifact xgb_meta:v8, 768.16MB. 7 files... Done. 0:0:0\n",
      "\u001b[34m\u001b[1mwandb\u001b[0m: Downloading large artifact xgb_meta:v10, 766.76MB. 7 files... Done. 0:0:0\n",
      "\u001b[34m\u001b[1mwandb\u001b[0m: Downloading large artifact xgb_meta:v18, 759.23MB. 7 files... Done. 0:0:0\n",
      "100%|██████████| 500000/500000 [00:05<00:00, 90293.68it/s]\n"
     ]
    },
    {
     "name": "stdout",
     "output_type": "stream",
     "text": [
      "| \u001b[0m 98      \u001b[0m | \u001b[0m 0.728   \u001b[0m | \u001b[0m 0.0     \u001b[0m | \u001b[0m 1.0     \u001b[0m | \u001b[0m 0.0     \u001b[0m | \u001b[0m 0.3155  \u001b[0m | \u001b[0m 0.4116  \u001b[0m | \u001b[0m 1.0     \u001b[0m | \u001b[0m 0.0     \u001b[0m |\n"
     ]
    },
    {
     "name": "stderr",
     "output_type": "stream",
     "text": [
      "\u001b[34m\u001b[1mwandb\u001b[0m: Downloading large artifact lgbm_meta:v16, 557.89MB. 7 files... Done. 0:0:0\n",
      "\u001b[34m\u001b[1mwandb\u001b[0m: Downloading large artifact lgbm_meta:v18, 554.43MB. 7 files... Done. 0:0:0\n",
      "\u001b[34m\u001b[1mwandb\u001b[0m: Downloading large artifact lgbm_meta:v19, 552.47MB. 7 files... Done. 0:0:0\n",
      "\u001b[34m\u001b[1mwandb\u001b[0m: Downloading large artifact lgbm_meta:v28, 558.00MB. 7 files... Done. 0:0:0\n",
      "\u001b[34m\u001b[1mwandb\u001b[0m: Downloading large artifact xgb_meta:v8, 768.16MB. 7 files... Done. 0:0:0\n",
      "\u001b[34m\u001b[1mwandb\u001b[0m: Downloading large artifact xgb_meta:v10, 766.76MB. 7 files... Done. 0:0:0\n",
      "\u001b[34m\u001b[1mwandb\u001b[0m: Downloading large artifact xgb_meta:v18, 759.23MB. 7 files... Done. 0:0:0\n",
      "100%|██████████| 500000/500000 [00:05<00:00, 88674.48it/s]\n"
     ]
    },
    {
     "name": "stdout",
     "output_type": "stream",
     "text": [
      "| \u001b[0m 99      \u001b[0m | \u001b[0m 0.7279  \u001b[0m | \u001b[0m 1.0     \u001b[0m | \u001b[0m 1.0     \u001b[0m | \u001b[0m 1.0     \u001b[0m | \u001b[0m 0.0     \u001b[0m | \u001b[0m 0.0     \u001b[0m | \u001b[0m 1.0     \u001b[0m | \u001b[0m 1.0     \u001b[0m |\n"
     ]
    },
    {
     "name": "stderr",
     "output_type": "stream",
     "text": [
      "\u001b[34m\u001b[1mwandb\u001b[0m: Downloading large artifact lgbm_meta:v16, 557.89MB. 7 files... Done. 0:0:0\n",
      "\u001b[34m\u001b[1mwandb\u001b[0m: Downloading large artifact lgbm_meta:v18, 554.43MB. 7 files... Done. 0:0:0\n",
      "\u001b[34m\u001b[1mwandb\u001b[0m: Downloading large artifact lgbm_meta:v19, 552.47MB. 7 files... Done. 0:0:0\n",
      "\u001b[34m\u001b[1mwandb\u001b[0m: Downloading large artifact lgbm_meta:v28, 558.00MB. 7 files... Done. 0:0:0\n",
      "\u001b[34m\u001b[1mwandb\u001b[0m: Downloading large artifact xgb_meta:v8, 768.16MB. 7 files... Done. 0:0:0\n",
      "\u001b[34m\u001b[1mwandb\u001b[0m: Downloading large artifact xgb_meta:v10, 766.76MB. 7 files... Done. 0:0:0\n",
      "\u001b[34m\u001b[1mwandb\u001b[0m: Downloading large artifact xgb_meta:v18, 759.23MB. 7 files... Done. 0:0:0\n",
      "100%|██████████| 500000/500000 [00:05<00:00, 89779.85it/s]"
     ]
    },
    {
     "name": "stdout",
     "output_type": "stream",
     "text": [
      "| \u001b[0m 100     \u001b[0m | \u001b[0m 0.7281  \u001b[0m | \u001b[0m 0.3184  \u001b[0m | \u001b[0m 0.7161  \u001b[0m | \u001b[0m 0.0     \u001b[0m | \u001b[0m 0.0     \u001b[0m | \u001b[0m 0.4228  \u001b[0m | \u001b[0m 0.3699  \u001b[0m | \u001b[0m 0.0     \u001b[0m |\n",
      "=============================================================================================================\n"
     ]
    },
    {
     "name": "stderr",
     "output_type": "stream",
     "text": [
      "\n"
     ]
    }
   ],
   "source": [
    "# Run bayesian optimization\n",
    "ndcg_fn_ = partial(ndcg_fn, ens, meta_types, meta_versions)\n",
    "optimizer = BayesianOptimization(f=ndcg_fn_, pbounds=coefs, random_state=16888)\n",
    "optimizer.maximize(init_points=50, n_iter=50)"
   ]
  },
  {
   "cell_type": "code",
   "execution_count": 7,
   "id": "colored-myrtle",
   "metadata": {},
   "outputs": [
    {
     "name": "stdout",
     "output_type": "stream",
     "text": [
      "NDCG@3: 0.7280895529764391\n"
     ]
    },
    {
     "data": {
      "text/html": [
       "<div>\n",
       "<style scoped>\n",
       "    .dataframe tbody tr th:only-of-type {\n",
       "        vertical-align: middle;\n",
       "    }\n",
       "\n",
       "    .dataframe tbody tr th {\n",
       "        vertical-align: top;\n",
       "    }\n",
       "\n",
       "    .dataframe thead th {\n",
       "        text-align: right;\n",
       "    }\n",
       "</style>\n",
       "<table border=\"1\" class=\"dataframe\">\n",
       "  <thead>\n",
       "    <tr style=\"text-align: right;\">\n",
       "      <th></th>\n",
       "      <th>0</th>\n",
       "      <th>1</th>\n",
       "      <th>2</th>\n",
       "      <th>3</th>\n",
       "      <th>4</th>\n",
       "      <th>5</th>\n",
       "      <th>6</th>\n",
       "    </tr>\n",
       "  </thead>\n",
       "  <tbody>\n",
       "    <tr>\n",
       "      <th>ver</th>\n",
       "      <td>l16</td>\n",
       "      <td>l18</td>\n",
       "      <td>l19</td>\n",
       "      <td>l28</td>\n",
       "      <td>x8</td>\n",
       "      <td>x10</td>\n",
       "      <td>x18</td>\n",
       "    </tr>\n",
       "    <tr>\n",
       "      <th>weights</th>\n",
       "      <td>0.144372</td>\n",
       "      <td>0.856641</td>\n",
       "      <td>0.0</td>\n",
       "      <td>0.0</td>\n",
       "      <td>0.307942</td>\n",
       "      <td>0.19094</td>\n",
       "      <td>0.0</td>\n",
       "    </tr>\n",
       "  </tbody>\n",
       "</table>\n",
       "</div>"
      ],
      "text/plain": [
       "                0         1    2    3         4        5    6\n",
       "ver           l16       l18  l19  l28        x8      x10  x18\n",
       "weights  0.144372  0.856641  0.0  0.0  0.307942  0.19094  0.0"
      ]
     },
     "metadata": {},
     "output_type": "display_data"
    }
   ],
   "source": [
    "# Obtain the best set of blending coefficients\n",
    "pd.set_option('max_column', 25)\n",
    "print(f\"NDCG@3: {optimizer.max['target']}\")\n",
    "wts = {'ver': meta_versions, 'weights': list(optimizer.max['params'].values())}\n",
    "display(pd.DataFrame.from_dict(wts).T)"
   ]
  },
  {
   "cell_type": "markdown",
   "id": "amended-atlanta",
   "metadata": {},
   "source": [
    "#### g. Meta-models4"
   ]
  },
  {
   "cell_type": "code",
   "execution_count": null,
   "id": "individual-board",
   "metadata": {},
   "outputs": [],
   "source": [
    "# Configure base models to put in bayesian opt blending \n",
    "meta_types = ['blend', 'blend']\n",
    "meta_versions = ['0', '5']\n",
    "coefs = {v: (0, 1) for v in meta_versions}"
   ]
  },
  {
   "cell_type": "code",
   "execution_count": null,
   "id": "spare-credit",
   "metadata": {},
   "outputs": [],
   "source": [
    "# Run bayesian optimization\n",
    "ndcg_fn_ = partial(ndcg_fn, ens, meta_types, meta_versions)\n",
    "optimizer = BayesianOptimization(f=ndcg_fn_, pbounds=coefs, random_state=16888)\n",
    "optimizer.maximize(init_points=50, n_iter=50)"
   ]
  },
  {
   "cell_type": "code",
   "execution_count": null,
   "id": "increased-tissue",
   "metadata": {},
   "outputs": [],
   "source": [
    "# Obtain the best set of blending coefficients\n",
    "pd.set_option('max_column', 25)\n",
    "print(f\"NDCG@3: {optimizer.max['target']}\")\n",
    "wts = {'ver': meta_versions, 'weights': list(optimizer.max['params'].values())}\n",
    "display(pd.DataFrame.from_dict(wts).T)"
   ]
  },
  {
   "cell_type": "markdown",
   "id": "upset-shade",
   "metadata": {},
   "source": [
    "## ~~*NN Stacker*~~\n",
    "To diversify level-2 meta-models, I decide to put simple feed-foward NN into meta-model pool, and see how well it can perform compared with tree-based stackers."
   ]
  },
  {
   "cell_type": "code",
   "execution_count": 1,
   "id": "retained-berry",
   "metadata": {},
   "outputs": [],
   "source": [
    "import os\n",
    "import pickle\n",
    "from functools import partial\n",
    "from tqdm import tqdm\n",
    "import gc\n",
    "\n",
    "import pandas as pd \n",
    "import wandb\n",
    "from bayes_opt import BayesianOptimization\n",
    "from sklearn.preprocessing import StandardScaler\n",
    "from sklearn.model_selection import KFold\n",
    "import torch\n",
    "from torch.utils.data import Dataset, DataLoader\n",
    "import torch.nn.functional as F\n",
    "import torch.nn as nn\n",
    "import torch.optim as optim\n",
    "\n",
    "from metadata import *\n",
    "from train_stacker import get_meta_datasets\n",
    "from utils.common import rank_mcls_naive\n",
    "from utils.evaluator import EvaluatorRank"
   ]
  },
  {
   "cell_type": "code",
   "execution_count": 2,
   "id": "stupid-visit",
   "metadata": {},
   "outputs": [
    {
     "name": "stderr",
     "output_type": "stream",
     "text": [
      "\u001b[34m\u001b[1mwandb\u001b[0m: Currently logged in as: \u001b[33mjiangjiawei1103\u001b[0m (use `wandb login --relogin` to force relogin)\n",
      "\u001b[34m\u001b[1mwandb\u001b[0m: wandb version 0.12.9 is available!  To upgrade, please run:\n",
      "\u001b[34m\u001b[1mwandb\u001b[0m:  $ pip install wandb --upgrade\n"
     ]
    },
    {
     "data": {
      "text/html": [
       "\n",
       "                Tracking run with wandb version 0.12.1<br/>\n",
       "                Syncing run <strong style=\"color:#cdcd00\">celestial-sky-747</strong> to <a href=\"https://wandb.ai\" target=\"_blank\">Weights & Biases</a> <a href=\"https://docs.wandb.com/integrations/jupyter.html\" target=\"_blank\">(Documentation)</a>.<br/>\n",
       "                Project page: <a href=\"https://wandb.ai/jiangjiawei1103/Esun\" target=\"_blank\">https://wandb.ai/jiangjiawei1103/Esun</a><br/>\n",
       "                Run page: <a href=\"https://wandb.ai/jiangjiawei1103/Esun/runs/1sklk4c5\" target=\"_blank\">https://wandb.ai/jiangjiawei1103/Esun/runs/1sklk4c5</a><br/>\n",
       "                Run data is saved locally in <code>/home/abaowei/SideProject/TBrain-2021Winter-Esun/wandb/run-20220105_164419-1sklk4c5</code><br/><br/>\n",
       "            "
      ],
      "text/plain": [
       "<IPython.core.display.HTML object>"
      ]
     },
     "metadata": {},
     "output_type": "display_data"
    }
   ],
   "source": [
    "# Init Wandb run entry\n",
    "ens = wandb.init(project='Esun',\n",
    "                 job_type='nn-stacker-trial')"
   ]
  },
  {
   "cell_type": "code",
   "execution_count": 3,
   "id": "polish-recall",
   "metadata": {},
   "outputs": [],
   "source": [
    "class FFNN(nn.Module):\n",
    "    def __init__(self, input_dim, hidden_dim, dropout, \n",
    "                 act, output_dim=16):\n",
    "        super(FFNN, self).__init__()\n",
    "        \n",
    "        # Network parameters\n",
    "        self.input_dim = input_dim\n",
    "        self.hidden_dim = hidden_dim\n",
    "        self.act = act\n",
    "        self.output_dim = output_dim\n",
    "        self.dropout = dropout        \n",
    "        \n",
    "        # Model blocks\n",
    "        self.hidden = nn.Linear(self.input_dim, self.hidden_dim)\n",
    "        self.output = nn.Linear(self.hidden_dim, self.output_dim)\n",
    "        if act == 'relu':\n",
    "            self.hidden_act = F.relu\n",
    "        elif act == 'selu':\n",
    "            self.hidden_act = F.selu\n",
    "        elif act == 'sigmoid':\n",
    "            self.hidden_act = F.sigmoid\n",
    "        elif act == 'tanh':\n",
    "            self.hidden_act = F.tanh\n",
    "        self.dropout = nn.Dropout(p=self.dropout)\n",
    "        \n",
    "    def forward(self, x):\n",
    "        x = self.hidden_act(self.hidden(x))\n",
    "        x = self.dropout(x)\n",
    "        \n",
    "        logits = F.sigmoid(self.output(x))\n",
    "        \n",
    "        return logits "
   ]
  },
  {
   "cell_type": "code",
   "execution_count": 4,
   "id": "civic-studio",
   "metadata": {},
   "outputs": [],
   "source": [
    "class MetaDataset(Dataset):\n",
    "    '''Dataset containing meta-features.\n",
    "    \n",
    "    Raw features are also supported.\n",
    "    \n",
    "    Parameters:\n",
    "        X: ndarray, feature matrix with meta-features, with shape\n",
    "           (n_samples, n_features)\n",
    "        y: ndarray, groundtruths, with shape (n_samples, )\n",
    "    '''\n",
    "    def __init__(self, X, y=None):\n",
    "        self._X = X\n",
    "        self._y = y\n",
    "        self._jobtype = 'train' if self._y is not None else 'infer'\n",
    "        \n",
    "    def __len__(self):\n",
    "        return self._X.shape[0]\n",
    "        \n",
    "    def __getitem__(self, idx):\n",
    "        item = {\n",
    "             'X': torch.tensor(self._X[idx], dtype=torch.float32)\n",
    "        }\n",
    "        if self._jobtype == 'train':\n",
    "            item['y'] = torch.tensor(self._y[idx], dtype=torch.float32)\n",
    "        \n",
    "        return item"
   ]
  },
  {
   "cell_type": "code",
   "execution_count": 5,
   "id": "unavailable-river",
   "metadata": {},
   "outputs": [],
   "source": [
    "# Basic configuration\n",
    "class CFG:\n",
    "    # Dataset and loader\n",
    "    oof_versions = ['l47', 'l144']\n",
    "    N_FOLDS = 5\n",
    "    BATCH_SIZE = 256\n",
    "    N_WORKERS = 4\n",
    "    \n",
    "    # Model\n",
    "    hidden_dim = 500\n",
    "    dropout = 0.3\n",
    "    act = 'relu'\n",
    "    \n",
    "    # Training\n",
    "    DEVICE = 'cuda:0' if torch.cuda.is_available() else 'cpu'\n",
    "    EPOCHS = 150\n",
    "    \n",
    "cfg = CFG()"
   ]
  },
  {
   "cell_type": "code",
   "execution_count": 6,
   "id": "final-prophet",
   "metadata": {},
   "outputs": [],
   "source": [
    "# Utility function definitions\n",
    "def do_train(cfg, train_loader, model, loss_fn,\n",
    "             optimizer):\n",
    "    model.train()\n",
    "    \n",
    "    device = cfg.DEVICE\n",
    "    train_loss_total = 0\n",
    "    \n",
    "    for batch_sample in train_loader:\n",
    "        model.zero_grad()\n",
    "        X = batch_sample['X'].to(device)\n",
    "        y = batch_sample['y'].to(device)\n",
    "        \n",
    "        output = model(X)\n",
    "        loss = loss_fn(output, y)\n",
    "        loss.backward()\n",
    "        optimizer.step()\n",
    "        \n",
    "        train_loss_total += loss\n",
    "    train_loss_avg = train_loss_total / len(train_loader)\n",
    "    \n",
    "    return train_loss_avg\n",
    "    \n",
    "def do_eval(cfg, val_loader, model, loss_fn):\n",
    "    model.eval()\n",
    "    \n",
    "    device = cfg.DEVICE\n",
    "    val_loss_total = 0\n",
    "    \n",
    "    for batch_sample in val_loader:\n",
    "        X = batch_sample['X'].to(device)\n",
    "        y = batch_sample['y'].to(device)\n",
    "        \n",
    "        y_pred = model(X)\n",
    "        loss = loss_fn(y_pred, y)\n",
    "        \n",
    "        val_loss_total += loss\n",
    "    val_loss_avg = val_loss_total / len(val_loader)    \n",
    "    \n",
    "    return val_loss_avg\n",
    "\n",
    "def scale(X_tr, X_val, scl):\n",
    "    if scl == 'std':\n",
    "        pass\n",
    "    return None"
   ]
  },
  {
   "cell_type": "code",
   "execution_count": 7,
   "id": "compliant-assembly",
   "metadata": {},
   "outputs": [
    {
     "name": "stderr",
     "output_type": "stream",
     "text": [
      "\u001b[34m\u001b[1mwandb\u001b[0m: Downloading large artifact lgbm:v47, 208.50MB. 2 files... Done. 0:0:0\n",
      "\u001b[34m\u001b[1mwandb\u001b[0m: Downloading large artifact lgbm:v144, 233.57MB. 2 files... Done. 0:0:0\n",
      "100%|██████████| 404447/404447 [00:23<00:00, 17309.10it/s]\n"
     ]
    },
    {
     "data": {
      "text/plain": [
       "0"
      ]
     },
     "execution_count": 7,
     "metadata": {},
     "output_type": "execute_result"
    }
   ],
   "source": [
    "# Prepare raw data\n",
    "X, y = get_meta_datasets(ens, cfg.oof_versions, objective='mcls', dg_cfg=None)\n",
    "X.reset_index(drop=False, inplace=True)\n",
    "X['target'] = pd.Series(y).replace(LEG_SHOP_TAG_MAP).astype(np.int8)\n",
    "feats = [col for col in X.columns if col not in ['chid', 'target']]\n",
    "chid_gps = X.groupby('chid')\n",
    "\n",
    "y_ = []\n",
    "for chid, gp in tqdm(chid_gps):\n",
    "    y_sample = np.zeros(16)\n",
    "    y_sample[gp['target'].values] = 1\n",
    "    y_.append(y_sample)\n",
    "    del y_sample\n",
    "X_, y_ = np.array(X.drop_duplicates(subset=['chid']+feats)[feats]), np.array(y_)\n",
    "\n",
    "assert (X_.shape[0] == X['chid'].nunique()) and (y_.shape[0] == X['chid'].nunique()), \"Error!\""
   ]
  },
  {
   "cell_type": "code",
   "execution_count": null,
   "id": "romance-dispute",
   "metadata": {},
   "outputs": [],
   "source": [
    "kf = KFold(n_splits=cfg.N_FOLDS, shuffle=True, random_state=52168)\n",
    "oof_pred = np.zeros((X_.shape[0], 16))\n",
    "models = []\n",
    "\n",
    "for fold, (tr_idx, val_idx) in enumerate(kf.split(X_)):\n",
    "    print(f\"Training and evaluation fold {fold} start....\")\n",
    "    \n",
    "    # Prepare datasets\n",
    "    X_train, X_val = X_[tr_idx], X_[val_idx]\n",
    "    y_train, y_val = y_[tr_idx], y_[val_idx]\n",
    "    # scaling\n",
    "    train_dataset = MetaDataset(X_train, y_train)\n",
    "    val_dataset = MetaDataset(X_val, y_val)\n",
    "    \n",
    "    # Build dataloaders\n",
    "    train_loader = DataLoader(train_dataset, batch_size=cfg.BATCH_SIZE, \n",
    "                              shuffle=True, num_workers=cfg.N_WORKERS)\n",
    "    val_loader = DataLoader(val_dataset, batch_size=cfg.BATCH_SIZE, \n",
    "                            shuffle=False, num_workers=cfg.N_WORKERS)\n",
    "    \n",
    "    # Build model\n",
    "    model = FFNN(input_dim=len(feats), hidden_dim=cfg.hidden_dim, \n",
    "                 dropout=cfg.dropout, act=cfg.act)\n",
    "    model.to(cfg.DEVICE)\n",
    "    wandb.watch(model, log='all', log_graph=True)\n",
    "    \n",
    "    # Specify criterion\n",
    "    criterion = nn.BCELoss()\n",
    "    \n",
    "    # Build optimizer\n",
    "    optimizer = optim.Adam(model.parameters(), lr=5e-3)\n",
    "    lr_skd_lmbda = lambda epoch: 0.96\n",
    "    lr_skd = optim.lr_scheduler.MultiplicativeLR(optimizer, \n",
    "                                                 lr_lambda=lr_skd_lmbda)\n",
    "    \n",
    "    val_loss_best, model_best = 1e17, None \n",
    "    for epoch in range(cfg.EPOCHS):\n",
    "        train_loss = do_train(cfg, train_loader, model, criterion,\n",
    "                              optimizer)\n",
    "        val_loss = do_eval(cfg, val_loader, model, criterion)\n",
    "        print(f\"Epoch{epoch}| Training loss {train_loss} | \"\n",
    "              f\"Validation loss {val_loss}\")\n",
    "        wandb.log({f'Fold{fold}/train_loss': train_loss, \n",
    "                   f'Fold{fold}/val_loss': val_loss})\n",
    "        \n",
    "        if val_loss < val_loss_best:\n",
    "            print(f\"Validation improves at epoch {epoch}!\")\n",
    "            val_loss_best = val_loss\n",
    "            model_best = model\n",
    "        \n",
    "        lr_skd.step()\n",
    "    \n",
    "    models.append(model_best)\n",
    "    X_oof = torch.tensor(X_val, dtype=torch.float32).to(cfg.DEVICE)\n",
    "    oof_pred[val_idx] = model_best(X_oof).detach().cpu().numpy()\n",
    "    \n",
    "    del X_train, X_val, y_train, y_val, \\\n",
    "        train_dataset, val_dataset, train_loader, val_loader, \\\n",
    "        model, X_oof"
   ]
  },
  {
   "cell_type": "code",
   "execution_count": 38,
   "id": "cordless-relations",
   "metadata": {},
   "outputs": [
    {
     "name": "stderr",
     "output_type": "stream",
     "text": [
      "\u001b[34m\u001b[1mwandb\u001b[0m: Downloading large artifact lgbm:v47, 208.50MB. 2 files... Done. 0:0:0\n",
      "\u001b[34m\u001b[1mwandb\u001b[0m: Downloading large artifact lgbm:v144, 233.57MB. 2 files... Done. 0:0:0\n",
      "100%|██████████| 500000/500000 [00:05<00:00, 91468.03it/s]"
     ]
    },
    {
     "name": "stdout",
     "output_type": "stream",
     "text": [
      "NN stacker NDCG@3: 0.2864010631638389\n"
     ]
    },
    {
     "name": "stderr",
     "output_type": "stream",
     "text": [
      "\n"
     ]
    }
   ],
   "source": [
    "X, y = get_meta_datasets(ens, cfg.oof_versions, objective='mcls', dg_cfg=None)\n",
    "X.reset_index(drop=False, inplace=True)\n",
    "feats = [col for col in X.columns if col not in ['chid']]\n",
    "pk = sorted(X.drop_duplicates(subset=['chid']+feats)['chid'].unique())\n",
    "oof_rank = rank_mcls_naive(pk, oof_pred)\n",
    "evaluator = EvaluatorRank(\"./data/raw/raw_data.parquet\", t_next=24)\n",
    "ndcg = evaluator.evaluate(oof_rank)['NDCG@3']\n",
    "print(f\"NN stacker NDCG@3: {ndcg}\")"
   ]
  },
  {
   "cell_type": "code",
   "execution_count": null,
   "id": "serial-development",
   "metadata": {
    "jupyter": {
     "source_hidden": true
    }
   },
   "outputs": [],
   "source": [
    "def get_pred_df(oof_pred):\n",
    "    df = pd.DataFrame()\n",
    "    df.index = oof_pred['index']\n",
    "    df['gts'] = oof_pred['y_true']\n",
    "    cols = [f'shop_tag{i}' for i in LEG_SHOP_TAGS]\n",
    "    df[cols] = oof_pred['y_pred']\n",
    "    \n",
    "    return df "
   ]
  }
 ],
 "metadata": {
  "kernelspec": {
   "display_name": "sinopac",
   "language": "python",
   "name": "sinopac"
  },
  "language_info": {
   "codemirror_mode": {
    "name": "ipython",
    "version": 3
   },
   "file_extension": ".py",
   "mimetype": "text/x-python",
   "name": "python",
   "nbconvert_exporter": "python",
   "pygments_lexer": "ipython3",
   "version": "3.8.10"
  }
 },
 "nbformat": 4,
 "nbformat_minor": 5
}
