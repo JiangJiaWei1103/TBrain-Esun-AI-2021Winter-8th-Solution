{
 "cells": [
  {
   "cell_type": "markdown",
   "id": "crucial-musical",
   "metadata": {},
   "source": [
    "# Feature Engineering Checker\n",
    "To guarantee the correctness of the feature engineering results used in modeling process, thie notebook aims at providing the verification. Furthermore, the exploration of new features is also implemented here. Code snippets related to EDA during the exploration will be moved to `eda.ipynb`.\n",
    "<div class=\"alert alert-block alert-danger\">\n",
    "    <p>Feature engineering isn't constrained in the range of <strong>legitimate</strong> <code>shop_tag</code>s,\n",
    "       others may also be helpful.\n",
    "    </p> \n",
    "</div>"
   ]
  },
  {
   "cell_type": "code",
   "execution_count": 1,
   "id": "common-swaziland",
   "metadata": {},
   "outputs": [],
   "source": [
    "# Import packages\n",
    "import os \n",
    "import pickle\n",
    "from tqdm import tqdm_notebook as tqdm\n",
    "import warnings\n",
    "from joblib import Parallel, delayed\n",
    "import gc\n",
    "\n",
    "import yaml\n",
    "import pandas as pd \n",
    "import numpy as np \n",
    "import matplotlib.pyplot as plt\n",
    "\n",
    "from paths import *\n",
    "from metadata import *\n",
    "from fe import *\n",
    "from utils.dataset_generator import DataGenerator\n",
    "from utils.grouper import FeatGrouper\n",
    "\n",
    "# Configuration\n",
    "pd.set_option('max_columns', 150)\n",
    "warnings.simplefilter('ignore')"
   ]
  },
  {
   "cell_type": "code",
   "execution_count": 2,
   "id": "trained-omega",
   "metadata": {
    "collapsed": true,
    "jupyter": {
     "outputs_hidden": true
    }
   },
   "outputs": [
    {
     "data": {
      "text/html": [
       "<div>\n",
       "<style scoped>\n",
       "    .dataframe tbody tr th:only-of-type {\n",
       "        vertical-align: middle;\n",
       "    }\n",
       "\n",
       "    .dataframe tbody tr th {\n",
       "        vertical-align: top;\n",
       "    }\n",
       "\n",
       "    .dataframe thead th {\n",
       "        text-align: right;\n",
       "    }\n",
       "</style>\n",
       "<table border=\"1\" class=\"dataframe\">\n",
       "  <thead>\n",
       "    <tr style=\"text-align: right;\">\n",
       "      <th></th>\n",
       "      <th>dt</th>\n",
       "      <th>chid</th>\n",
       "      <th>shop_tag</th>\n",
       "      <th>txn_cnt</th>\n",
       "      <th>txn_amt</th>\n",
       "    </tr>\n",
       "  </thead>\n",
       "  <tbody>\n",
       "    <tr>\n",
       "      <th>0</th>\n",
       "      <td>1</td>\n",
       "      <td>10321418</td>\n",
       "      <td>45</td>\n",
       "      <td>3</td>\n",
       "      <td>3891.965283</td>\n",
       "    </tr>\n",
       "  </tbody>\n",
       "</table>\n",
       "</div>"
      ],
      "text/plain": [
       "   dt      chid  shop_tag  txn_cnt      txn_amt\n",
       "0   1  10321418        45        3  3891.965283"
      ]
     },
     "metadata": {},
     "output_type": "display_data"
    },
    {
     "name": "stdout",
     "output_type": "stream",
     "text": [
      "Let's observe the purchasing map of client 10000000 \n",
      "[[0 0 0 ... 0 0 0]\n",
      " [0 0 0 ... 0 0 0]\n",
      " [0 0 0 ... 0 0 0]\n",
      " ...\n",
      " [0 0 0 ... 0 0 0]\n",
      " [0 0 0 ... 0 0 0]\n",
      " [0 0 0 ... 0 1 0]]\n"
     ]
    }
   ],
   "source": [
    "# Prepare data \n",
    "df = pd.read_parquet(\"./data/raw/raw_data.parquet\", columns=PK+['txn_cnt', 'txn_amt'])\n",
    "with open(\"./data/processed/purch_maps.pkl\", 'rb') as f:\n",
    "    purch_maps = pickle.load(f)\n",
    "display(df.head(1))\n",
    "print(f\"Let's observe the purchasing map of client 10000000 \\n{purch_maps[10000000]}\")"
   ]
  },
  {
   "cell_type": "markdown",
   "id": "fatty-saudi",
   "metadata": {},
   "source": [
    "## *Purch Map*\n",
    "### Time Since **First** Transaction of Each `shop_tag`"
   ]
  },
  {
   "cell_type": "code",
   "execution_count": 4,
   "id": "superb-anatomy",
   "metadata": {},
   "outputs": [],
   "source": [
    "DTS_BASE = np.array([DTS]).T"
   ]
  },
  {
   "cell_type": "code",
   "execution_count": 5,
   "id": "broadband-remark",
   "metadata": {},
   "outputs": [],
   "source": [
    "# Check\n",
    "def get_gap_since_first_txn(t_end, purch_map):\n",
    "    '''Return time gap since first transaction of each shop_tag for a \n",
    "    single client.\n",
    "    \n",
    "    Zeros in the vector indicate that client has made his/her first \n",
    "    txn on that shop_tag at t_end. And one hundreds indicate that \n",
    "    client hasn't made a txn on that shop_tag so far.\n",
    "    \n",
    "    Parameters:\n",
    "        t_end: int, the last time point taken into consideration when \n",
    "               generating X data\n",
    "        purch_map: ndarray, purchasing behavior matrix, recording 0/1\n",
    "                   indicating if transaction is made or not \n",
    "    \n",
    "    Return:\n",
    "        gap_vec: ndarray, vector including time gap since the first \n",
    "                 transaction of each shop_tag\n",
    "    '''\n",
    "    purch_map = purch_map[:t_end, :]\n",
    "    purch_map = purch_map * DTS_BASE[:t_end]\n",
    "    purch_map = np.where(purch_map == 0, 25, purch_map)\n",
    "    gap_vec = np.min(purch_map, axis=0)\n",
    "    gap_vec = t_end - gap_vec\n",
    "    gap_vec = np.where(gap_vec < 0, 100, gap_vec)    \n",
    "    gao_vec = gap_vec.astype(np.int8)\n",
    "    \n",
    "    return gap_vec"
   ]
  },
  {
   "cell_type": "code",
   "execution_count": 6,
   "id": "original-europe",
   "metadata": {
    "collapsed": true,
    "jupyter": {
     "outputs_hidden": true
    }
   },
   "outputs": [
    {
     "name": "stderr",
     "output_type": "stream",
     "text": [
      "100%|██████████| 500000/500000 [00:07<00:00, 63495.64it/s]\n"
     ]
    }
   ],
   "source": [
    "for chid, purch_map in tqdm(purch_maps.items()):\n",
    "    get_gap_since_first_txn(t_end=24, purch_map=purch_map)"
   ]
  },
  {
   "cell_type": "markdown",
   "id": "relative-bikini",
   "metadata": {},
   "source": [
    "### Time Since **Last** Transaction of Each `shop_tag`"
   ]
  },
  {
   "cell_type": "code",
   "execution_count": 7,
   "id": "mature-little",
   "metadata": {},
   "outputs": [],
   "source": [
    "# Check\n",
    "def get_gap_since_last_txn(t_end, purch_map):\n",
    "    '''Return time gap since last transaction of each shop_tag for a \n",
    "    single client.\n",
    "    \n",
    "    Zeros in the vector indicate that client has made a transaction at\n",
    "    t_end. And one hundreds indicate that client hasn't made a txn on\n",
    "    that shop_tag so far.\n",
    "    \n",
    "    Parameters:\n",
    "        t_end: int, the last time point taken into consideration when \n",
    "               generating X data\n",
    "        purch_map: ndarray, purchasing behavior matrix, recording 0/1\n",
    "                   indicating if transaction is made or not \n",
    "    \n",
    "    Return:\n",
    "        gap_vec: ndarray, vector including time gap since last txn of  \n",
    "                 each shop_tag\n",
    "    '''\n",
    "    purch_map = purch_map[:t_end, :]\n",
    "    purch_map = purch_map * DTS_BASE[:t_end]\n",
    "    purch_map = np.where(purch_map == 0, -100, purch_map)\n",
    "    gap_vec = np.max(purch_map, axis=0)\n",
    "    gap_vec = t_end - gap_vec\n",
    "    gap_vec = np.where(gap_vec > 24, 100, gap_vec)    \n",
    "    gao_vec = gap_vec.astype(np.int8)\n",
    "    \n",
    "    return gap_vec"
   ]
  },
  {
   "cell_type": "code",
   "execution_count": 8,
   "id": "chief-gender",
   "metadata": {
    "collapsed": true,
    "jupyter": {
     "outputs_hidden": true
    }
   },
   "outputs": [
    {
     "name": "stderr",
     "output_type": "stream",
     "text": [
      "100%|██████████| 500000/500000 [00:07<00:00, 63031.16it/s]\n"
     ]
    }
   ],
   "source": [
    "for chid, purch_map in tqdm(purch_maps.items()):\n",
    "    get_gap_since_last_txn(t_end=24, purch_map=purch_map)"
   ]
  },
  {
   "cell_type": "markdown",
   "id": "charged-respect",
   "metadata": {},
   "source": [
    "### Average Transaction Gap of Each `shop_tag`"
   ]
  },
  {
   "cell_type": "code",
   "execution_count": 9,
   "id": "graduate-river",
   "metadata": {},
   "outputs": [],
   "source": [
    "# Check\n",
    "def get_avg_txn_gap_vec(t_end, chid, purch_map):\n",
    "    '''Return vector indicating average gap between transactions of \n",
    "    each shop_tag for a single client.\n",
    "    *Note: Gap indicates the reciprocal of frequency.\n",
    "    \n",
    "    Time gap here is a little bit different from other two txn time gap\n",
    "    features, gap_since_first and gap_since_last. Gap here indicates\n",
    "    #months between two consecutive transactions.\n",
    "    \n",
    "    For example:\n",
    "        dt  20  21  22  23  24\n",
    "            V   X   X   X   V   ---->  time_gap == 3\n",
    "            \n",
    "    Parameters:\n",
    "        t_end: int, the last time point taken into consideration when \n",
    "               generating X data\n",
    "        chid: int, client identifier\n",
    "        purch_map: ndarray, purchasing behavior matrix, recording 0/1\n",
    "                   indicating if transaction is made or not \n",
    "\n",
    "    Return:\n",
    "        chid: int, client identifier\n",
    "        gap_vec: ndarray, average transaction gap of each shop_tag\n",
    "    '''\n",
    "    gap_vec = []\n",
    "    purch_map = purch_map[:t_end, :]\n",
    "    purch_map = purch_map * DTS_BASE[:t_end]\n",
    "    for purch_vec in purch_map.T:\n",
    "        # For purchasing vector of each shop_tag\n",
    "        purch_vec_ = purch_vec[purch_vec != 0]\n",
    "        avg_gap = np.mean(np.diff(purch_vec_, n=1) - 1)   # -1 to help interpret the concept 'gap'\n",
    "        gap_vec.append(avg_gap)\n",
    "    gap_vec = np.array(gap_vec)\n",
    "    gap_vec = np.nan_to_num(gap_vec, nan=100)\n",
    "\n",
    "    return chid, gap_vec"
   ]
  },
  {
   "cell_type": "code",
   "execution_count": 10,
   "id": "prerequisite-mercury",
   "metadata": {
    "collapsed": true,
    "jupyter": {
     "outputs_hidden": true
    }
   },
   "outputs": [
    {
     "name": "stderr",
     "output_type": "stream",
     "text": [
      "100%|██████████| 500000/500000 [01:04<00:00, 7722.06it/s]\n"
     ]
    }
   ],
   "source": [
    "gap_vecs = Parallel(n_jobs=-1)(\n",
    "    delayed(get_avg_txn_gap_vec)(24, chid, purch_map) \n",
    "    for chid, purch_map in tqdm(purch_maps.items())\n",
    ")"
   ]
  },
  {
   "cell_type": "markdown",
   "id": "pressing-excuse",
   "metadata": {},
   "source": [
    "### Transaction State Toggles"
   ]
  },
  {
   "cell_type": "code",
   "execution_count": 11,
   "id": "alternative-digest",
   "metadata": {},
   "outputs": [],
   "source": [
    "# Check\n",
    "def get_txn_st_tgl_mat(t_end, chid, purch_map):\n",
    "    '''Return counts of transaction state toggles, including 0/0, 0/1,\n",
    "    1/0, 1/1, total 4 state transitions.\n",
    "    \n",
    "    Parameters:\n",
    "        t_end: int, the last time point taken into consideration when \n",
    "               generating X data\n",
    "        chid: int, client identifier\n",
    "        purch_map: ndarray, purchasing behavior matrix, recording 0/1\n",
    "                   indicating if transaction is made or not \n",
    "\n",
    "    Return:\n",
    "        chid: int, client identifier\n",
    "        st_tgl_mat: ndarray, counts of state transitions, with shape \n",
    "                    (4, n_shop_tags)\n",
    "    '''\n",
    "    st_tgl_mat = []\n",
    "    purch_map = purch_map[:t_end, :]\n",
    "    for purch_vec in purch_map.T:\n",
    "        # For purchasing vector of each shop_tag\n",
    "        n_10 = abs(np.sum((purch_vec - 1)[1:] * purch_vec[:-1]))\n",
    "        n_01 = abs(np.sum((purch_vec - 1)[:-1] * purch_vec[1:]))\n",
    "        n_11 = abs(np.sum(purch_vec[:-1] * purch_vec[1:]))\n",
    "        n_00 = (t_end-1) - n_10 - n_01 - n_11\n",
    "        st_tgl_mat.append([n_00, n_01, n_10, n_11])\n",
    "    st_tgl_mat = np.array(st_tgl_mat).T\n",
    "    \n",
    "    return chid, st_tgl_mat"
   ]
  },
  {
   "cell_type": "code",
   "execution_count": 12,
   "id": "physical-puzzle",
   "metadata": {
    "collapsed": true,
    "jupyter": {
     "outputs_hidden": true
    }
   },
   "outputs": [
    {
     "name": "stderr",
     "output_type": "stream",
     "text": [
      "100%|██████████| 500000/500000 [01:04<00:00, 7746.05it/s]\n"
     ]
    }
   ],
   "source": [
    "st_tgl_mats = Parallel(n_jobs=-1)(\n",
    "    delayed(get_txn_st_tgl_mat)(24, chid, purch_map) \n",
    "    for chid, purch_map in tqdm(purch_maps.items())\n",
    ")"
   ]
  },
  {
   "cell_type": "markdown",
   "id": "original-contract",
   "metadata": {},
   "source": [
    "### % of Months Each `shop_tag` Having Txn Records"
   ]
  },
  {
   "cell_type": "code",
   "execution_count": 17,
   "id": "interracial-destination",
   "metadata": {},
   "outputs": [],
   "source": [
    "# Check\n",
    "def get_txn_made_ratio_vec(t_end, purch_map):\n",
    "    '''Return ratio of months txn records exist for each shop_tag for \n",
    "    a single client.\n",
    "    \n",
    "    Parameters:\n",
    "        t_end: int, the last time point taken into consideration when \n",
    "               generating X data\n",
    "        purch_map: ndarray, purchasing behavior matrix, recording 0/1\n",
    "                   indicating if transaction is made or not \n",
    "\n",
    "    Return:\n",
    "        txn_made_ratio_vec: ndarray, ratio of months txn records exist\n",
    "                            for each shop_tag\n",
    "    '''\n",
    "    purch_map = purch_map[:t_end, :]\n",
    "    txn_made_ratio_vec = np.sum(purch_map, axis=0) / t_end\n",
    "    \n",
    "    return txn_made_ratio_vec"
   ]
  },
  {
   "cell_type": "code",
   "execution_count": 18,
   "id": "major-piano",
   "metadata": {
    "collapsed": true,
    "jupyter": {
     "outputs_hidden": true
    }
   },
   "outputs": [
    {
     "name": "stderr",
     "output_type": "stream",
     "text": [
      "100%|██████████| 500000/500000 [00:04<00:00, 121896.73it/s]\n"
     ]
    }
   ],
   "source": [
    "for chid, purch_map in tqdm(purch_maps.items()):\n",
    "    get_txn_made_ratio_vec(t_end=24, purch_map=purch_map)"
   ]
  },
  {
   "cell_type": "markdown",
   "id": "ordinary-saver",
   "metadata": {},
   "source": [
    "### #`shop_tag`s Per Month "
   ]
  },
  {
   "cell_type": "code",
   "execution_count": 2,
   "id": "recognized-slovak",
   "metadata": {},
   "outputs": [],
   "source": [
    "# Check\n",
    "def get_n_shop_tags_vec(t_end, purch_map, leg_only):\n",
    "    '''Return number of shop_tags having txn records for six closest    \n",
    "    months for a single client.\n",
    "    \n",
    "    Parameters:\n",
    "        t_end: int, the last time point taken into consideration when \n",
    "               generating X data\n",
    "        purch_map: ndarray, purchasing behavior matrix, recording 0/1\n",
    "                   indicating if transaction is made or not \n",
    "        leg_only: bool, whether to consider legitimate shop_tags only \n",
    "\n",
    "    Return:\n",
    "        n_shop_tags_vec: ndarray, num of shop_tags having txn records \n",
    "                         for each month\n",
    "    '''\n",
    "    purch_map = purch_map[:t_end, :]\n",
    "    purch_map = purch_map[:, LEG_SHOP_TAGS_INDICES] if leg_only else purch_map\n",
    "    n_shop_tags_vec = np.sum(purch_map, axis=1)\n",
    "    \n",
    "    \n",
    "    return n_shop_tags_vec"
   ]
  },
  {
   "cell_type": "code",
   "execution_count": 14,
   "id": "seven-platform",
   "metadata": {
    "collapsed": true,
    "jupyter": {
     "outputs_hidden": true
    }
   },
   "outputs": [
    {
     "name": "stderr",
     "output_type": "stream",
     "text": [
      "100%|██████████| 500000/500000 [00:02<00:00, 177607.90it/s]\n"
     ]
    }
   ],
   "source": [
    "for chid, purch_map in tqdm(purch_maps.items()):\n",
    "    get_n_shop_tags_vec(24, purch_map, False)"
   ]
  },
  {
   "cell_type": "markdown",
   "id": "neural-glass",
   "metadata": {},
   "source": [
    "### Purchasing Vector of the Last Month"
   ]
  },
  {
   "cell_type": "code",
   "execution_count": 15,
   "id": "hidden-retrieval",
   "metadata": {},
   "outputs": [],
   "source": [
    "# Check\n",
    "def get_purch_vec_t_end(t_end, purch_map):\n",
    "    '''Directly return purchasing vector at t_end, the nearest purch\n",
    "    behavior.\n",
    "    \n",
    "    Parameters:\n",
    "        t_end: int, the last time point taken into consideration when \n",
    "               generating X data\n",
    "        purch_map: ndarray, purchasing behavior matrix, recording 0/1\n",
    "                   indicating if transaction is made or not \n",
    "\n",
    "    Return:\n",
    "        purch_vec: ndarray, purchasing vector at t_end\n",
    "    '''\n",
    "    purch_vec = purch_map[t_end-1]   # -1 to align with index    \n",
    "    \n",
    "    return purch_vec"
   ]
  },
  {
   "cell_type": "code",
   "execution_count": 16,
   "id": "subjective-replica",
   "metadata": {
    "collapsed": true,
    "jupyter": {
     "outputs_hidden": true
    }
   },
   "outputs": [
    {
     "name": "stderr",
     "output_type": "stream",
     "text": [
      "100%|██████████| 500000/500000 [00:00<00:00, 2371568.57it/s]\n"
     ]
    }
   ],
   "source": [
    "for chid, purch_map in tqdm(purch_maps.items()):\n",
    "    get_purch_vec_t_end(t_end=24, purch_map=purch_map)"
   ]
  },
  {
   "cell_type": "markdown",
   "id": "revolutionary-showcase",
   "metadata": {},
   "source": [
    "## *Single Feature Transformation*\n",
    "### `slam`"
   ]
  },
  {
   "cell_type": "code",
   "execution_count": 2,
   "id": "impressed-separation",
   "metadata": {
    "collapsed": true,
    "jupyter": {
     "outputs_hidden": true
    }
   },
   "outputs": [
    {
     "data": {
      "image/png": "[encoded data removed]",
      "text/plain": [
       "<Figure size 432x288 with 1 Axes>"
      ]
     },
     "metadata": {
      "needs_background": "light"
     },
     "output_type": "display_data"
    }
   ],
   "source": [
    "df = pd.read_parquet(\"./data/raw/raw_data.parquet\", columns=PK+['slam'])\n",
    "fig, ax  = plt.subplots()\n",
    "ax.hist(x=np.log1p(df['slam']), bins=1500)\n",
    "plt.show()"
   ]
  },
  {
   "cell_type": "code",
   "execution_count": 3,
   "id": "respective-harvey",
   "metadata": {},
   "outputs": [
    {
     "name": "stderr",
     "output_type": "stream",
     "text": [
      "500000it [00:24, 20174.04it/s]\n"
     ]
    }
   ],
   "source": [
    "df['slam_log'] = np.log1p(df['slam'])\n",
    "slam_log_stats = df.groupby('chid')['slam_log'].agg([np.nanmin, np.nanmax, np.nanmedian, np.nanmean, np.nanstd])\n",
    "slam_log_stats['nanstd'].fillna(slam_log_stats['nanstd'].median(), inplace=True)\n",
    "assert not pd.isna(slam_log_stats).any().any()\n",
    "slam_stats = {}\n",
    "for i, chid in tqdm(enumerate(slam_log_stats.index)):\n",
    "    slam_stats[chid] = slam_log_stats.iloc[i].values\n",
    "    \n",
    "with open(\"./data/processed/slam_stats.pkl\", 'wb') as f:\n",
    "    pickle.dump(slam_stats,  f)"
   ]
  },
  {
   "cell_type": "markdown",
   "id": "outstanding-norway",
   "metadata": {},
   "source": [
    "## *Feature Interaction Between Numeric Features*"
   ]
  },
  {
   "cell_type": "code",
   "execution_count": 7,
   "id": "special-skirt",
   "metadata": {},
   "outputs": [
    {
     "data": {
      "text/html": [
       "<div>\n",
       "<style scoped>\n",
       "    .dataframe tbody tr th:only-of-type {\n",
       "        vertical-align: middle;\n",
       "    }\n",
       "\n",
       "    .dataframe tbody tr th {\n",
       "        vertical-align: top;\n",
       "    }\n",
       "\n",
       "    .dataframe thead th {\n",
       "        text-align: right;\n",
       "    }\n",
       "</style>\n",
       "<table border=\"1\" class=\"dataframe\">\n",
       "  <thead>\n",
       "    <tr style=\"text-align: right;\">\n",
       "      <th></th>\n",
       "      <th>dt</th>\n",
       "      <th>chid</th>\n",
       "      <th>shop_tag</th>\n",
       "      <th>txn_cnt</th>\n",
       "      <th>txn_amt</th>\n",
       "      <th>domestic_offline_cnt</th>\n",
       "      <th>domestic_online_cnt</th>\n",
       "      <th>overseas_offline_cnt</th>\n",
       "      <th>overseas_online_cnt</th>\n",
       "      <th>card_1_txn_cnt</th>\n",
       "      <th>card_2_txn_cnt</th>\n",
       "      <th>card_3_txn_cnt</th>\n",
       "      <th>card_4_txn_cnt</th>\n",
       "      <th>card_5_txn_cnt</th>\n",
       "      <th>card_6_txn_cnt</th>\n",
       "      <th>card_7_txn_cnt</th>\n",
       "      <th>card_8_txn_cnt</th>\n",
       "      <th>card_9_txn_cnt</th>\n",
       "      <th>card_10_txn_cnt</th>\n",
       "      <th>card_11_txn_cnt</th>\n",
       "      <th>card_12_txn_cnt</th>\n",
       "      <th>card_13_txn_cnt</th>\n",
       "      <th>card_14_txn_cnt</th>\n",
       "      <th>card_other_txn_cnt</th>\n",
       "      <th>masts</th>\n",
       "      <th>educd</th>\n",
       "      <th>trdtp</th>\n",
       "      <th>naty</th>\n",
       "      <th>poscd</th>\n",
       "      <th>cuorg</th>\n",
       "      <th>slam</th>\n",
       "      <th>gender_code</th>\n",
       "      <th>age</th>\n",
       "      <th>primary_card</th>\n",
       "    </tr>\n",
       "  </thead>\n",
       "  <tbody>\n",
       "    <tr>\n",
       "      <th>0</th>\n",
       "      <td>1</td>\n",
       "      <td>10321418</td>\n",
       "      <td>45</td>\n",
       "      <td>3</td>\n",
       "      <td>3891.965283</td>\n",
       "      <td>3</td>\n",
       "      <td>0</td>\n",
       "      <td>0</td>\n",
       "      <td>0</td>\n",
       "      <td>0</td>\n",
       "      <td>0</td>\n",
       "      <td>0</td>\n",
       "      <td>3</td>\n",
       "      <td>0</td>\n",
       "      <td>0</td>\n",
       "      <td>0</td>\n",
       "      <td>0</td>\n",
       "      <td>0</td>\n",
       "      <td>0</td>\n",
       "      <td>0</td>\n",
       "      <td>0</td>\n",
       "      <td>0</td>\n",
       "      <td>0</td>\n",
       "      <td>0</td>\n",
       "      <td>1</td>\n",
       "      <td>4</td>\n",
       "      <td>5</td>\n",
       "      <td>1</td>\n",
       "      <td>99</td>\n",
       "      <td>30</td>\n",
       "      <td>95982.822967</td>\n",
       "      <td>1</td>\n",
       "      <td>4</td>\n",
       "      <td>1</td>\n",
       "    </tr>\n",
       "  </tbody>\n",
       "</table>\n",
       "</div>"
      ],
      "text/plain": [
       "   dt      chid  shop_tag  txn_cnt      txn_amt  domestic_offline_cnt  \\\n",
       "0   1  10321418        45        3  3891.965283                     3   \n",
       "\n",
       "   domestic_online_cnt  overseas_offline_cnt  overseas_online_cnt  \\\n",
       "0                    0                     0                    0   \n",
       "\n",
       "   card_1_txn_cnt  card_2_txn_cnt  card_3_txn_cnt  card_4_txn_cnt  \\\n",
       "0               0               0               0               3   \n",
       "\n",
       "   card_5_txn_cnt  card_6_txn_cnt  card_7_txn_cnt  card_8_txn_cnt  \\\n",
       "0               0               0               0               0   \n",
       "\n",
       "   card_9_txn_cnt  card_10_txn_cnt  card_11_txn_cnt  card_12_txn_cnt  \\\n",
       "0               0                0                0                0   \n",
       "\n",
       "   card_13_txn_cnt  card_14_txn_cnt  card_other_txn_cnt  masts  educd  trdtp  \\\n",
       "0                0                0                   0      1      4      5   \n",
       "\n",
       "   naty  poscd  cuorg          slam  gender_code  age  primary_card  \n",
       "0     1     99     30  95982.822967            1    4             1  "
      ]
     },
     "execution_count": 7,
     "metadata": {},
     "output_type": "execute_result"
    }
   ],
   "source": [
    "# Prepare data\n",
    "df = pd.read_parquet(\"./data/raw/raw_data.parquet\")\n",
    "df.drop([col for col in df.columns if 'pct' in col], axis=1, inplace=True)\n",
    "df.head(1)"
   ]
  },
  {
   "cell_type": "code",
   "execution_count": 8,
   "id": "realistic-recycling",
   "metadata": {},
   "outputs": [
    {
     "name": "stdout",
     "output_type": "stream",
     "text": [
      "Shape of the concatenated DataFrane (32975653, 35)\n"
     ]
    },
    {
     "data": {
      "text/html": [
       "<div>\n",
       "<style scoped>\n",
       "    .dataframe tbody tr th:only-of-type {\n",
       "        vertical-align: middle;\n",
       "    }\n",
       "\n",
       "    .dataframe tbody tr th {\n",
       "        vertical-align: top;\n",
       "    }\n",
       "\n",
       "    .dataframe thead th {\n",
       "        text-align: right;\n",
       "    }\n",
       "</style>\n",
       "<table border=\"1\" class=\"dataframe\">\n",
       "  <thead>\n",
       "    <tr style=\"text-align: right;\">\n",
       "      <th></th>\n",
       "      <th>dt</th>\n",
       "      <th>chid</th>\n",
       "      <th>shop_tag</th>\n",
       "      <th>txn_cnt</th>\n",
       "      <th>txn_amt</th>\n",
       "      <th>domestic_offline_cnt</th>\n",
       "      <th>domestic_online_cnt</th>\n",
       "      <th>overseas_offline_cnt</th>\n",
       "      <th>overseas_online_cnt</th>\n",
       "      <th>card_1_txn_cnt</th>\n",
       "      <th>card_2_txn_cnt</th>\n",
       "      <th>card_3_txn_cnt</th>\n",
       "      <th>card_4_txn_cnt</th>\n",
       "      <th>card_5_txn_cnt</th>\n",
       "      <th>card_6_txn_cnt</th>\n",
       "      <th>card_7_txn_cnt</th>\n",
       "      <th>card_8_txn_cnt</th>\n",
       "      <th>card_9_txn_cnt</th>\n",
       "      <th>card_10_txn_cnt</th>\n",
       "      <th>card_11_txn_cnt</th>\n",
       "      <th>card_12_txn_cnt</th>\n",
       "      <th>card_13_txn_cnt</th>\n",
       "      <th>card_14_txn_cnt</th>\n",
       "      <th>card_other_txn_cnt</th>\n",
       "      <th>masts</th>\n",
       "      <th>educd</th>\n",
       "      <th>trdtp</th>\n",
       "      <th>naty</th>\n",
       "      <th>poscd</th>\n",
       "      <th>cuorg</th>\n",
       "      <th>slam</th>\n",
       "      <th>gender_code</th>\n",
       "      <th>age</th>\n",
       "      <th>primary_card</th>\n",
       "      <th>domestic_offline_txn_amt</th>\n",
       "    </tr>\n",
       "  </thead>\n",
       "  <tbody>\n",
       "    <tr>\n",
       "      <th>0</th>\n",
       "      <td>1</td>\n",
       "      <td>10321418</td>\n",
       "      <td>45</td>\n",
       "      <td>3</td>\n",
       "      <td>3891.965283</td>\n",
       "      <td>3</td>\n",
       "      <td>0</td>\n",
       "      <td>0</td>\n",
       "      <td>0</td>\n",
       "      <td>0</td>\n",
       "      <td>0</td>\n",
       "      <td>0</td>\n",
       "      <td>3</td>\n",
       "      <td>0</td>\n",
       "      <td>0</td>\n",
       "      <td>0</td>\n",
       "      <td>0</td>\n",
       "      <td>0</td>\n",
       "      <td>0</td>\n",
       "      <td>0</td>\n",
       "      <td>0</td>\n",
       "      <td>0</td>\n",
       "      <td>0</td>\n",
       "      <td>0</td>\n",
       "      <td>1</td>\n",
       "      <td>4</td>\n",
       "      <td>5</td>\n",
       "      <td>1</td>\n",
       "      <td>99</td>\n",
       "      <td>30</td>\n",
       "      <td>95982.822967</td>\n",
       "      <td>1</td>\n",
       "      <td>4</td>\n",
       "      <td>1</td>\n",
       "      <td>3891.965283</td>\n",
       "    </tr>\n",
       "    <tr>\n",
       "      <th>1</th>\n",
       "      <td>1</td>\n",
       "      <td>10414574</td>\n",
       "      <td>15</td>\n",
       "      <td>2</td>\n",
       "      <td>10616.561549</td>\n",
       "      <td>2</td>\n",
       "      <td>0</td>\n",
       "      <td>0</td>\n",
       "      <td>0</td>\n",
       "      <td>0</td>\n",
       "      <td>0</td>\n",
       "      <td>0</td>\n",
       "      <td>0</td>\n",
       "      <td>0</td>\n",
       "      <td>0</td>\n",
       "      <td>0</td>\n",
       "      <td>2</td>\n",
       "      <td>0</td>\n",
       "      <td>0</td>\n",
       "      <td>0</td>\n",
       "      <td>0</td>\n",
       "      <td>0</td>\n",
       "      <td>0</td>\n",
       "      <td>0</td>\n",
       "      <td>2</td>\n",
       "      <td>2</td>\n",
       "      <td>15</td>\n",
       "      <td>1</td>\n",
       "      <td>2</td>\n",
       "      <td>30</td>\n",
       "      <td>130702.351368</td>\n",
       "      <td>1</td>\n",
       "      <td>3</td>\n",
       "      <td>1</td>\n",
       "      <td>10616.561549</td>\n",
       "    </tr>\n",
       "    <tr>\n",
       "      <th>2</th>\n",
       "      <td>1</td>\n",
       "      <td>10134567</td>\n",
       "      <td>48</td>\n",
       "      <td>2</td>\n",
       "      <td>23527.655416</td>\n",
       "      <td>0</td>\n",
       "      <td>2</td>\n",
       "      <td>0</td>\n",
       "      <td>0</td>\n",
       "      <td>0</td>\n",
       "      <td>2</td>\n",
       "      <td>0</td>\n",
       "      <td>0</td>\n",
       "      <td>0</td>\n",
       "      <td>0</td>\n",
       "      <td>0</td>\n",
       "      <td>0</td>\n",
       "      <td>0</td>\n",
       "      <td>0</td>\n",
       "      <td>0</td>\n",
       "      <td>0</td>\n",
       "      <td>0</td>\n",
       "      <td>0</td>\n",
       "      <td>0</td>\n",
       "      <td>1</td>\n",
       "      <td>3</td>\n",
       "      <td>11</td>\n",
       "      <td>1</td>\n",
       "      <td>3</td>\n",
       "      <td>30</td>\n",
       "      <td>112010.611717</td>\n",
       "      <td>0</td>\n",
       "      <td>4</td>\n",
       "      <td>1</td>\n",
       "      <td>1025.899620</td>\n",
       "    </tr>\n",
       "    <tr>\n",
       "      <th>3</th>\n",
       "      <td>1</td>\n",
       "      <td>10001003</td>\n",
       "      <td>48</td>\n",
       "      <td>9</td>\n",
       "      <td>17751.558260</td>\n",
       "      <td>7</td>\n",
       "      <td>2</td>\n",
       "      <td>0</td>\n",
       "      <td>0</td>\n",
       "      <td>0</td>\n",
       "      <td>9</td>\n",
       "      <td>0</td>\n",
       "      <td>0</td>\n",
       "      <td>0</td>\n",
       "      <td>0</td>\n",
       "      <td>0</td>\n",
       "      <td>0</td>\n",
       "      <td>0</td>\n",
       "      <td>0</td>\n",
       "      <td>0</td>\n",
       "      <td>0</td>\n",
       "      <td>0</td>\n",
       "      <td>0</td>\n",
       "      <td>0</td>\n",
       "      <td>2</td>\n",
       "      <td>3</td>\n",
       "      <td>11</td>\n",
       "      <td>1</td>\n",
       "      <td>2</td>\n",
       "      <td>30</td>\n",
       "      <td>59701.507360</td>\n",
       "      <td>0</td>\n",
       "      <td>3</td>\n",
       "      <td>1</td>\n",
       "      <td>13313.668695</td>\n",
       "    </tr>\n",
       "    <tr>\n",
       "      <th>4</th>\n",
       "      <td>1</td>\n",
       "      <td>10267183</td>\n",
       "      <td>2</td>\n",
       "      <td>1</td>\n",
       "      <td>21701.307598</td>\n",
       "      <td>1</td>\n",
       "      <td>0</td>\n",
       "      <td>0</td>\n",
       "      <td>0</td>\n",
       "      <td>0</td>\n",
       "      <td>0</td>\n",
       "      <td>0</td>\n",
       "      <td>1</td>\n",
       "      <td>0</td>\n",
       "      <td>0</td>\n",
       "      <td>0</td>\n",
       "      <td>0</td>\n",
       "      <td>0</td>\n",
       "      <td>0</td>\n",
       "      <td>0</td>\n",
       "      <td>0</td>\n",
       "      <td>0</td>\n",
       "      <td>0</td>\n",
       "      <td>0</td>\n",
       "      <td>2</td>\n",
       "      <td>6</td>\n",
       "      <td>15</td>\n",
       "      <td>1</td>\n",
       "      <td>99</td>\n",
       "      <td>30</td>\n",
       "      <td>0.000000</td>\n",
       "      <td>0</td>\n",
       "      <td>6</td>\n",
       "      <td>0</td>\n",
       "      <td>21701.307598</td>\n",
       "    </tr>\n",
       "  </tbody>\n",
       "</table>\n",
       "</div>"
      ],
      "text/plain": [
       "   dt      chid  shop_tag  txn_cnt       txn_amt  domestic_offline_cnt  \\\n",
       "0   1  10321418        45        3   3891.965283                     3   \n",
       "1   1  10414574        15        2  10616.561549                     2   \n",
       "2   1  10134567        48        2  23527.655416                     0   \n",
       "3   1  10001003        48        9  17751.558260                     7   \n",
       "4   1  10267183         2        1  21701.307598                     1   \n",
       "\n",
       "   domestic_online_cnt  overseas_offline_cnt  overseas_online_cnt  \\\n",
       "0                    0                     0                    0   \n",
       "1                    0                     0                    0   \n",
       "2                    2                     0                    0   \n",
       "3                    2                     0                    0   \n",
       "4                    0                     0                    0   \n",
       "\n",
       "   card_1_txn_cnt  card_2_txn_cnt  card_3_txn_cnt  card_4_txn_cnt  \\\n",
       "0               0               0               0               3   \n",
       "1               0               0               0               0   \n",
       "2               0               2               0               0   \n",
       "3               0               9               0               0   \n",
       "4               0               0               0               1   \n",
       "\n",
       "   card_5_txn_cnt  card_6_txn_cnt  card_7_txn_cnt  card_8_txn_cnt  \\\n",
       "0               0               0               0               0   \n",
       "1               0               0               0               2   \n",
       "2               0               0               0               0   \n",
       "3               0               0               0               0   \n",
       "4               0               0               0               0   \n",
       "\n",
       "   card_9_txn_cnt  card_10_txn_cnt  card_11_txn_cnt  card_12_txn_cnt  \\\n",
       "0               0                0                0                0   \n",
       "1               0                0                0                0   \n",
       "2               0                0                0                0   \n",
       "3               0                0                0                0   \n",
       "4               0                0                0                0   \n",
       "\n",
       "   card_13_txn_cnt  card_14_txn_cnt  card_other_txn_cnt  masts  educd  trdtp  \\\n",
       "0                0                0                   0      1      4      5   \n",
       "1                0                0                   0      2      2     15   \n",
       "2                0                0                   0      1      3     11   \n",
       "3                0                0                   0      2      3     11   \n",
       "4                0                0                   0      2      6     15   \n",
       "\n",
       "   naty  poscd  cuorg           slam  gender_code  age  primary_card  \\\n",
       "0     1     99     30   95982.822967            1    4             1   \n",
       "1     1      2     30  130702.351368            1    3             1   \n",
       "2     1      3     30  112010.611717            0    4             1   \n",
       "3     1      2     30   59701.507360            0    3             1   \n",
       "4     1     99     30       0.000000            0    6             0   \n",
       "\n",
       "   domestic_offline_txn_amt  \n",
       "0               3891.965283  \n",
       "1              10616.561549  \n",
       "2               1025.899620  \n",
       "3              13313.668695  \n",
       "4              21701.307598  "
      ]
     },
     "execution_count": 8,
     "metadata": {},
     "output_type": "execute_result"
    }
   ],
   "source": [
    "# Replace pct columns with corresponing txn_amt representation \n",
    "df_ = pd.read_parquet(\"./data/raw/raw_txn_amts.parquet\", columns=['domestic_offline_txn_amt']) #PCT2AMTS)\n",
    "df_.replace(to_replace=0, value=1025.89962, inplace=True)\n",
    "df = pd.concat([df, df_], axis=1)\n",
    "print(f\"Shape of the concatenated DataFrane {df.shape}\")\n",
    "del df_\n",
    "gc.collect()\n",
    "df.head()"
   ]
  },
  {
   "cell_type": "markdown",
   "id": "hawaiian-cancer",
   "metadata": {},
   "source": [
    "### `txn_amt` Per `txn_cnt`\n",
    "Interpret `txn_amt` from perspective of **on average** and discretize transaction states, which are illustrated as follows:\n",
    "> 0: Transaction amount is not zero but transaction count is **zero**.<br>\n",
    "> 1: Total transaction amount less than pseudo imputed zero transaction amount.<br>\n",
    "> 2: Total transaction amount equal than pseudo imputed zero transaction amount.<br>\n",
    "> 3: Total transaction amount greater than pseudo imputed zero transaction amount."
   ]
  },
  {
   "cell_type": "code",
   "execution_count": 2,
   "id": "identical-asbestos",
   "metadata": {},
   "outputs": [],
   "source": [
    "def get_txn_amt_per_cnt(df, feat_amt, feat_cnt):\n",
    "    '''Get transaction amount per transaction count, which can indicate\n",
    "    transaction behavior from the perspective of \"on average\".\n",
    "    \n",
    "    Parameters:\n",
    "        df: pd.DataFrame, raw data\n",
    "        feat_amt: str, transaction amount feature name\n",
    "        feat_cnt: str, transaction count feature name\n",
    "    \n",
    "    Return:\n",
    "        df_amt_per_cnt: pd.DataFrame, containing amount per count and \n",
    "                        discrete states.\n",
    "    '''\n",
    "    feat_amt_per_cnt = f'{feat_amt}_per_cnt'\n",
    "    df_ = df[[feat_amt, feat_cnt]]\n",
    "    df_[feat_amt_per_cnt] = df_[feat_amt] / df_[feat_cnt]\n",
    "    \n",
    "    # Post-process and discretize amount per count to discrete states \n",
    "    df_.replace([np.inf, -np.inf], np.nan, inplace=True)\n",
    "    states = np.where(df_[feat_amt] > imputation, 3, df_[feat_amt])\n",
    "    states = np.where(df_[feat_amt] == imputation, 2, states)\n",
    "    states = np.where(df_[feat_amt] < imputation, 1, states)\n",
    "    nan_entries = df_[pd.isna(df_[feat_amt_per_cnt])].index\n",
    "    states[nan_entries] = 0\n",
    "    df_[f'{feat_amt_per_cnt}_state'] = states.astype(np.int8)\n",
    "    \n",
    "    return df_[[feat_amt_per_cnt, f'{feat_amt_per_cnt}_state']]"
   ]
  },
  {
   "cell_type": "code",
   "execution_count": 3,
   "id": "seeing-layout",
   "metadata": {},
   "outputs": [
    {
     "name": "stderr",
     "output_type": "stream",
     "text": [
      "100%|██████████| 20/20 [01:11<00:00,  3.56s/it]\n"
     ]
    }
   ],
   "source": [
    "imputation = 1025.89962\n",
    "\n",
    "df = pd.DataFrame()\n",
    "for feat_amt in tqdm(['txn_amt']+PCT2AMTS):\n",
    "    df_ = pd.DataFrame()\n",
    "    feat_cnt = feat_amt.replace('txn_amt', 'cnt')\n",
    "    if feat_amt == 'txn_amt':\n",
    "        df_[feat_amt] = pd.read_parquet(DATA_PATH_RAW, columns=[feat_amt])\n",
    "        df_[feat_cnt] = pd.read_parquet(DATA_PATH_RAW, columns=['txn_cnt'])\n",
    "    else:\n",
    "        df_[feat_amt] = pd.read_parquet(DATA_PATH_TXN_AMTS, columns=[feat_amt])\n",
    "        df_[feat_cnt] = pd.read_parquet(DATA_PATH_RAW, columns=[feat_cnt])\n",
    "    df_.replace({feat_amt: 0}, imputation, inplace=True)\n",
    "    df_processed = get_txn_amt_per_cnt(df_, feat_amt, feat_cnt)\n",
    "#     print(f\"Feature combination {feat_amt} + {feat_cnt}...\")\n",
    "#     display(df_processed.iloc[:, -1].value_counts())\n",
    "    df = pd.concat([df, df_processed], axis=1)\n",
    "    del df_, df_processed\n",
    "df.to_parquet(\"./data/raw/raw_amt_cnt.parquet\", index=False)"
   ]
  },
  {
   "cell_type": "markdown",
   "id": "marked-seeking",
   "metadata": {},
   "source": [
    "## Groupby Stats"
   ]
  },
  {
   "cell_type": "code",
   "execution_count": 2,
   "id": "minor-project",
   "metadata": {},
   "outputs": [
    {
     "data": {
      "text/html": [
       "<div>\n",
       "<style scoped>\n",
       "    .dataframe tbody tr th:only-of-type {\n",
       "        vertical-align: middle;\n",
       "    }\n",
       "\n",
       "    .dataframe tbody tr th {\n",
       "        vertical-align: top;\n",
       "    }\n",
       "\n",
       "    .dataframe thead th {\n",
       "        text-align: right;\n",
       "    }\n",
       "</style>\n",
       "<table border=\"1\" class=\"dataframe\">\n",
       "  <thead>\n",
       "    <tr style=\"text-align: right;\">\n",
       "      <th></th>\n",
       "      <th>dt</th>\n",
       "      <th>chid</th>\n",
       "      <th>shop_tag</th>\n",
       "      <th>masts</th>\n",
       "      <th>educd</th>\n",
       "      <th>trdtp</th>\n",
       "      <th>naty</th>\n",
       "      <th>poscd</th>\n",
       "      <th>cuorg</th>\n",
       "      <th>gender_code</th>\n",
       "      <th>age</th>\n",
       "      <th>txn_cnt</th>\n",
       "      <th>txn_amt</th>\n",
       "    </tr>\n",
       "  </thead>\n",
       "  <tbody>\n",
       "    <tr>\n",
       "      <th>0</th>\n",
       "      <td>1</td>\n",
       "      <td>10321418</td>\n",
       "      <td>45</td>\n",
       "      <td>1</td>\n",
       "      <td>4</td>\n",
       "      <td>5</td>\n",
       "      <td>1</td>\n",
       "      <td>99</td>\n",
       "      <td>30</td>\n",
       "      <td>1</td>\n",
       "      <td>4</td>\n",
       "      <td>3</td>\n",
       "      <td>3891.965283</td>\n",
       "    </tr>\n",
       "    <tr>\n",
       "      <th>1</th>\n",
       "      <td>1</td>\n",
       "      <td>10414574</td>\n",
       "      <td>15</td>\n",
       "      <td>2</td>\n",
       "      <td>2</td>\n",
       "      <td>15</td>\n",
       "      <td>1</td>\n",
       "      <td>2</td>\n",
       "      <td>30</td>\n",
       "      <td>1</td>\n",
       "      <td>3</td>\n",
       "      <td>2</td>\n",
       "      <td>10616.561549</td>\n",
       "    </tr>\n",
       "    <tr>\n",
       "      <th>2</th>\n",
       "      <td>1</td>\n",
       "      <td>10134567</td>\n",
       "      <td>48</td>\n",
       "      <td>1</td>\n",
       "      <td>3</td>\n",
       "      <td>11</td>\n",
       "      <td>1</td>\n",
       "      <td>3</td>\n",
       "      <td>30</td>\n",
       "      <td>0</td>\n",
       "      <td>4</td>\n",
       "      <td>2</td>\n",
       "      <td>23527.655416</td>\n",
       "    </tr>\n",
       "    <tr>\n",
       "      <th>3</th>\n",
       "      <td>1</td>\n",
       "      <td>10001003</td>\n",
       "      <td>48</td>\n",
       "      <td>2</td>\n",
       "      <td>3</td>\n",
       "      <td>11</td>\n",
       "      <td>1</td>\n",
       "      <td>2</td>\n",
       "      <td>30</td>\n",
       "      <td>0</td>\n",
       "      <td>3</td>\n",
       "      <td>9</td>\n",
       "      <td>17751.558260</td>\n",
       "    </tr>\n",
       "    <tr>\n",
       "      <th>4</th>\n",
       "      <td>1</td>\n",
       "      <td>10267183</td>\n",
       "      <td>2</td>\n",
       "      <td>2</td>\n",
       "      <td>6</td>\n",
       "      <td>15</td>\n",
       "      <td>1</td>\n",
       "      <td>99</td>\n",
       "      <td>30</td>\n",
       "      <td>0</td>\n",
       "      <td>6</td>\n",
       "      <td>1</td>\n",
       "      <td>21701.307598</td>\n",
       "    </tr>\n",
       "  </tbody>\n",
       "</table>\n",
       "</div>"
      ],
      "text/plain": [
       "   dt      chid  shop_tag  masts  educd  trdtp  naty  poscd  cuorg  \\\n",
       "0   1  10321418        45      1      4      5     1     99     30   \n",
       "1   1  10414574        15      2      2     15     1      2     30   \n",
       "2   1  10134567        48      1      3     11     1      3     30   \n",
       "3   1  10001003        48      2      3     11     1      2     30   \n",
       "4   1  10267183         2      2      6     15     1     99     30   \n",
       "\n",
       "   gender_code  age  txn_cnt       txn_amt  \n",
       "0            1    4        3   3891.965283  \n",
       "1            1    3        2  10616.561549  \n",
       "2            0    4        2  23527.655416  \n",
       "3            0    3        9  17751.558260  \n",
       "4            0    6        1  21701.307598  "
      ]
     },
     "execution_count": 2,
     "metadata": {},
     "output_type": "execute_result"
    }
   ],
   "source": [
    "# Prepare data \n",
    "# imputation = 797.165663\n",
    "feats_test = ['txn_cnt', 'txn_amt']\n",
    "df = pd.read_parquet(DATA_PATH_RAW, columns=PK+CLI_ATTRS[1:]+feats_test)\n",
    "# df.replace({'txn_amt': 0}, imputation, inplace=True)\n",
    "df.head()"
   ]
  },
  {
   "cell_type": "code",
   "execution_count": 3,
   "id": "blond-accent",
   "metadata": {},
   "outputs": [],
   "source": [
    "# Synthetic configuration\n",
    "cfg_test = []\n",
    "#     [['txn_cnt', 'txn_amt', 'card_4_txn_txn_amt', 'c2_txn_apc'], {'cli_attrs': ['masts', 'educd'], 'apc_states': ['c1_txn_apc_state']}, [i for i in range(16, 23)], [2, 6, 10], ['mean', 'nanquantile_0.4']],\n",
    "#     [['txn_cnt', 'txn_amt'], ['trdtp', 'naty'], [22, 21, 20, 19, 18, 17], [36, 37], ['std']],\n",
    "#     [['shop_tag'], ['chid'], [i for i in range(17, 23)], [], ['count']]\n",
    "for cli_attr in ['masts']:\n",
    "    cfg_test.append([['txn_amt'], \n",
    "                     {'cli_attrs': [cli_attr], 'apc_states': []}, \n",
    "                     (6, 0), \n",
    "                     'leg', \n",
    "                     ['mean', 'nanquantile_0.25', 'nanquantile_0.5', 'nanquantile_0.75', 'nanquantile_0.9']])\n",
    "# Run groupby and agg\n",
    "fg = FeatGrouper(t_end=22)\n",
    "a = []\n",
    "for cfg in cfg_test:\n",
    "    feats, keys, time_slots, shop_tags, stats = cfg\n",
    "    df_agg = fg.groupby_and_agg(keys, time_slots, shop_tags, feats, stats)\n",
    "    a.append(df_agg)\n",
    "    del df_agg"
   ]
  },
  {
   "cell_type": "markdown",
   "id": "coordinated-anthropology",
   "metadata": {},
   "source": [
    "### Post Processing for Feature Prediction Matrix\n",
    "Because I design a new feature engineering process supporting feature vectors generated with different parameter sets, these features can form a **matrix** which I can use to derive **stats** and choose the specified feature vectors."
   ]
  }
 ],
 "metadata": {
  "kernelspec": {
   "display_name": "sinopac",
   "language": "python",
   "name": "sinopac"
  },
  "language_info": {
   "codemirror_mode": {
    "name": "ipython",
    "version": 3
   },
   "file_extension": ".py",
   "mimetype": "text/x-python",
   "name": "python",
   "nbconvert_exporter": "python",
   "pygments_lexer": "ipython3",
   "version": "3.8.10"
  }
 },
 "nbformat": 4,
 "nbformat_minor": 5
}
